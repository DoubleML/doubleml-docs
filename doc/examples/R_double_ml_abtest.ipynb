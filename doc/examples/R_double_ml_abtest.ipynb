{
 "cells": [
  {
   "cell_type": "markdown",
   "id": "9f13f4be",
   "metadata": {},
   "source": [
    "# R: A/B Testing with DoubleML"
   ]
  },
  {
   "cell_type": "markdown",
   "id": "ac8c0bac",
   "metadata": {},
   "source": [
    "<img src=\"figures/ab_testing.jpg\" alt=\"An illustration of A/B testing.\" style=\"width: 400px;\"/>\n",
    "\n",
    "Image Source Freepik http://www.freepik.com, Designed by macrovector\n"
   ]
  },
  {
   "cell_type": "code",
   "execution_count": 1,
   "id": "5fe422a9",
   "metadata": {},
   "outputs": [
    {
     "name": "stderr",
     "output_type": "stream",
     "text": [
      "Warning message:\n",
      "\"package 'mlr3' was built under R version 4.1.0\"\n",
      "Warning message:\n",
      "\"package 'data.table' was built under R version 3.6.3\"\n"
     ]
    }
   ],
   "source": [
    "# Load required packages for this tutorial\n",
    "library(DoubleML)\n",
    "library(mlr3)\n",
    "library(mlr3learners)\n",
    "library(data.table)\n",
    "library(ggplot2)\n",
    "\n",
    "# suppress messages during fitting\n",
    "lgr::get_logger(\"mlr3\")$set_threshold(\"warn\")\n"
   ]
  },
  {
   "cell_type": "code",
   "execution_count": null,
   "id": "edbdeffd",
   "metadata": {},
   "outputs": [],
   "source": [
    "library(data.table)\n",
    "\n",
    "# Load data set from url (internet connection required)\n",
    "url = \"https://raw.githubusercontent.com/DoubleML/doubleml-docs/master/doc/examples/data/high42.CSV\"\n",
    "df = fread(url)\n",
    "\n",
    "dim(df)\n",
    "\n",
    "# TODO: Add info on types of variables\n",
    "str(df)"
   ]
  },
  {
   "cell_type": "code",
   "execution_count": null,
   "id": "de44224f",
   "metadata": {},
   "outputs": [],
   "source": [
    "head(df)"
   ]
  },
  {
   "cell_type": "code",
   "execution_count": null,
   "id": "9dfd175f",
   "metadata": {},
   "outputs": [],
   "source": [
    "hist_A = ggplot(df, aes(x = A, fill = factor(A))) +\n",
    "            geom_bar() + theme_minimal() +\n",
    "            ggtitle(\"Treatment\") + xlab(\"A\") +\n",
    "            theme(legend.position = \"bottom\", plot.title = element_text(hjust = 0.5),\n",
    "                  text = element_text(size = 20))\n",
    "hist_A"
   ]
  },
  {
   "cell_type": "code",
   "execution_count": null,
   "id": "db7bb648",
   "metadata": {},
   "outputs": [],
   "source": [
    "# Unconditional ATE\n",
    "df[, mean(Y), by = A]\n",
    "\n",
    "ATE_uncond = df[A == 1, mean(Y)] - df[A==0, mean(Y)]\n",
    "ATE_uncond"
   ]
  },
  {
   "cell_type": "markdown",
   "id": "ba6d8966",
   "metadata": {},
   "source": [
    "### `DoubleMLData`\n"
   ]
  },
  {
   "cell_type": "code",
   "execution_count": null,
   "id": "f47d2ff4",
   "metadata": {},
   "outputs": [],
   "source": [
    "features_base = colnames(df)[grep(\"V\", colnames(df))]\n",
    "data_dml = DoubleMLData$new(df,\n",
    "                           y_col = \"Y\",\n",
    "                           d_cols = \"A\",\n",
    "                           x_cols = features_base)"
   ]
  },
  {
   "cell_type": "code",
   "execution_count": null,
   "id": "da97cdfc",
   "metadata": {},
   "outputs": [],
   "source": [
    "print(data_dml)"
   ]
  },
  {
   "cell_type": "markdown",
   "id": "f5def2d2",
   "metadata": {},
   "source": [
    "### IRM\n"
   ]
  },
  {
   "cell_type": "code",
   "execution_count": null,
   "id": "6e6f3e7e",
   "metadata": {},
   "outputs": [],
   "source": [
    "# TODO: helper function for prediction of nuisance\n",
    "\n",
    "pred_acc_irm = function() {\n",
    "    \n",
    "}"
   ]
  },
  {
   "cell_type": "markdown",
   "id": "298e6587",
   "metadata": {},
   "source": [
    "### Benchmark: Model based on Linear and Logistic Regression"
   ]
  },
  {
   "cell_type": "code",
   "execution_count": null,
   "id": "f54e401e",
   "metadata": {},
   "outputs": [],
   "source": [
    "linreg = lrn(\"regr.lm\")\n",
    "logreg_class = lrn(\"classif.log_reg\")\n",
    "\n",
    "set.seed(1234)\n",
    "dml_irm_regression = DoubleMLIRM$new(data_dml,\n",
    "                                    ml_g = linreg,\n",
    "                                    ml_m = logreg_class,\n",
    "                                    trimming_threshold = 0.025,\n",
    "                                    n_folds = 3,\n",
    "                                    n_rep = 3)\n",
    "\n",
    "dml_irm_regression$fit(store_predictions = TRUE)\n",
    "dml_irm_regression$summary()"
   ]
  },
  {
   "cell_type": "code",
   "execution_count": null,
   "id": "66395583",
   "metadata": {},
   "outputs": [],
   "source": [
    "# TODO: Calculate Bias\n",
    "# TODO: Summary for predictive accuracy\n",
    "# TODO: Print RMSE mean and sd for ml_g and log_loss for ml_m"
   ]
  },
  {
   "cell_type": "markdown",
   "id": "48d090c3",
   "metadata": {},
   "source": [
    "### Double Machine Learning based on Lasso\n"
   ]
  },
  {
   "cell_type": "code",
   "execution_count": null,
   "id": "87c8980b",
   "metadata": {},
   "outputs": [],
   "source": [
    "lasso = lrn(\"regr.cv_glmnet\", nfolds = 5, s = \"lambda.min\")\n",
    "lasso_class = lrn(\"classif.cv_glmnet\", nfolds = 5, s = \"lambda.min\")\n",
    "\n",
    "set.seed(1234)\n",
    "dml_irm_lasso = DoubleMLIRM$new(data_dml,\n",
    "                               ml_g = lasso,\n",
    "                               ml_m = lasso_class,\n",
    "                               trimming_threshold = 0.025,\n",
    "                               n_folds = 3,\n",
    "                               n_rep = 3)\n",
    "\n",
    "dml_irm_lasso$fit(store_predictions = TRUE)\n",
    "\n",
    "dml_irm_lasso$summary()"
   ]
  },
  {
   "cell_type": "code",
   "execution_count": null,
   "id": "4e6cf3d1",
   "metadata": {},
   "outputs": [],
   "source": [
    "# TODO: Calculate Bias\n",
    "# TODO: Summary for predictive accuracy\n",
    "# TODO: Print RMSE mean and sd for ml_g and log_loss for ml_m"
   ]
  },
  {
   "cell_type": "markdown",
   "id": "faf4e463",
   "metadata": {},
   "source": [
    "### Double Machine Learning based on Random Forest\n"
   ]
  },
  {
   "cell_type": "code",
   "execution_count": null,
   "id": "2440821d",
   "metadata": {},
   "outputs": [],
   "source": [
    "randomForest = lrn(\"regr.ranger\")\n",
    "randomForest_class = lrn(\"classif.ranger\")\n",
    "\n",
    "set.seed(1234)\n",
    "dml_irm_forest = DoubleMLIRM$new(data_dml,\n",
    "                                ml_g = randomForest,\n",
    "                                ml_m = randomForest_class,\n",
    "                                trimming_threshold = 0.025,\n",
    "                                n_folds = 3,\n",
    "                                n_rep = 3)\n",
    "\n",
    "# Set nuisance-part specific parameters\n",
    "dml_irm_forest$set_ml_nuisance_params(\"ml_g0\", \"A\",\n",
    "                                      list(\"mtry\" = 200,\n",
    "                                           \"num.trees\" = 250))\n",
    "dml_irm_forest$set_ml_nuisance_params(\"ml_g1\", \"A\",\n",
    "                                      list(\"mtry\" = 200,\n",
    "                                           \"num.trees\" = 250))\n",
    "dml_irm_forest$set_ml_nuisance_params(\"ml_m\", \"A\",\n",
    "                                      list(\"mtry\" = 200,\n",
    "                                           \"num.trees\" = 250))\n",
    "\n",
    "dml_irm_forest$fit(store_predictions = TRUE)\n",
    "dml_irm_forest$summary()"
   ]
  },
  {
   "cell_type": "code",
   "execution_count": null,
   "id": "1d45095a",
   "metadata": {},
   "outputs": [],
   "source": [
    "# TODO: Calculate Bias\n",
    "# TODO: Summary for predictive accuracy\n",
    "# TODO: Print RMSE mean and sd for ml_g and log_loss for ml_m"
   ]
  },
  {
   "cell_type": "markdown",
   "id": "b096eba1",
   "metadata": {},
   "source": [
    "### Double Machine Learning based on Extreme Gradient Boosting"
   ]
  },
  {
   "cell_type": "code",
   "execution_count": null,
   "id": "6c3d8997",
   "metadata": {},
   "outputs": [],
   "source": [
    "boost = lrn(\"regr.xgboost\",\n",
    "            objective = \"reg:squarederror\")\n",
    "boost_class = lrn(\"classif.xgboost\",\n",
    "                  objective = \"binary:logistic\",\n",
    "                  eval_metric = \"logloss\")\n",
    "\n",
    "set.seed(1234)\n",
    "dml_irm_boost = DoubleMLIRM$new(data_dml,\n",
    "                               ml_g = boost,\n",
    "                               ml_m = boost_class,\n",
    "                               trimming_threshold = 0.025,\n",
    "                               n_folds = 3,\n",
    "                               n_rep = 3)\n",
    "\n",
    "dml_irm_boost$set_ml_nuisance_params(\"ml_g0\", \"A\",\n",
    "                                     list(\"nrounds\" = 30,\n",
    "                                          \"eta\" = 0.2))\n",
    "dml_irm_boost$set_ml_nuisance_params(\"ml_g1\", \"A\",\n",
    "                                     list(\"nrounds\" = 30,\n",
    "                                          \"eta\" = 0.2))\n",
    "dml_irm_boost$set_ml_nuisance_params(\"ml_m\", \"A\",\n",
    "                                      list(\"nrounds\" = 15,\n",
    "                                           \"eta\" = 0.2))\n",
    "\n",
    "dml_irm_boost$fit(store_predictions = TRUE)\n",
    "dml_irm_boost$summary()"
   ]
  },
  {
   "cell_type": "code",
   "execution_count": null,
   "id": "cdc65bb8",
   "metadata": {},
   "outputs": [],
   "source": [
    "# TODO: Calculate Bias\n",
    "# TODO: Summary for predictive accuracy\n",
    "# TODO: Print RMSE mean and sd for ml_g and log_loss for ml_m"
   ]
  },
  {
   "cell_type": "markdown",
   "id": "075b9855",
   "metadata": {},
   "source": [
    "#### IRM - Summary of coefficient estimates\n",
    "\n"
   ]
  },
  {
   "cell_type": "code",
   "execution_count": null,
   "id": "745b2019",
   "metadata": {},
   "outputs": [],
   "source": [
    "# TODO: Add summary of results"
   ]
  },
  {
   "cell_type": "code",
   "execution_count": null,
   "id": "3a904584",
   "metadata": {},
   "outputs": [],
   "source": [
    "# TODO: Add visualization of summary"
   ]
  },
  {
   "cell_type": "markdown",
   "id": "5febe706",
   "metadata": {},
   "source": [
    "#### IRM - Summary of prediction assessment metric's mean values"
   ]
  },
  {
   "cell_type": "code",
   "execution_count": null,
   "id": "3bfe8758",
   "metadata": {},
   "outputs": [],
   "source": [
    "# TODO: Add comparison/summary for predictive accuracy (nuisance)"
   ]
  },
  {
   "cell_type": "code",
   "execution_count": null,
   "id": "29ec4bb9",
   "metadata": {},
   "outputs": [],
   "source": [
    "# TODO: Add visualization of summary"
   ]
  },
  {
   "cell_type": "markdown",
   "id": "06ec4742",
   "metadata": {},
   "source": [
    "### Inspection of the benchmark model\n"
   ]
  },
  {
   "cell_type": "code",
   "execution_count": null,
   "id": "94995240",
   "metadata": {},
   "outputs": [],
   "source": [
    "# TODO: Function for propensity score visualiztation\n",
    "\n",
    "rep_propscore_plot = function() {\n",
    "    \n",
    "}"
   ]
  },
  {
   "cell_type": "markdown",
   "id": "864d4189",
   "metadata": {},
   "source": [
    "## 2. Partially Linear Regression Model (PLR)\n"
   ]
  },
  {
   "cell_type": "code",
   "execution_count": null,
   "id": "4eefbc39",
   "metadata": {},
   "outputs": [],
   "source": [
    "# TODO: Function for calculation of prediction accuracy PLR\n",
    "\n",
    "pred_acc_plr = function() {\n",
    "    \n",
    "}"
   ]
  },
  {
   "cell_type": "markdown",
   "id": "03cb136d",
   "metadata": {},
   "source": [
    "### Benchmark: Model based on Linear and Logistic Regression"
   ]
  },
  {
   "cell_type": "code",
   "execution_count": null,
   "id": "d975bf67",
   "metadata": {},
   "outputs": [],
   "source": [
    "linreg = lrn(\"regr.lm\")\n",
    "logreg_class = lrn(\"classif.log_reg\")\n",
    "\n",
    "set.seed(1234)\n",
    "dml_plr_regression = DoubleMLPLR$new(data_dml,\n",
    "                                    ml_g = linreg,\n",
    "                                    ml_m = logreg_class,\n",
    "                                    trimming_threshold = 0.025,\n",
    "                                    n_folds = 3,\n",
    "                                    n_rep = 3)\n",
    "\n",
    "dml_plr_regression$fit(store_predictions = TRUE)\n",
    "dml_plr_regression$summary()"
   ]
  },
  {
   "cell_type": "code",
   "execution_count": null,
   "id": "87378077",
   "metadata": {},
   "outputs": [],
   "source": [
    "# TODO: Calculate Bias\n",
    "# TODO: Summary for predictive accuracy\n",
    "# TODO: Print RMSE mean and sd for ml_g and log_loss for ml_m"
   ]
  },
  {
   "cell_type": "markdown",
   "id": "28a11ba0",
   "metadata": {},
   "source": [
    "### Double Machine Learning based on Lasso"
   ]
  },
  {
   "cell_type": "code",
   "execution_count": null,
   "id": "5dbb3a41",
   "metadata": {},
   "outputs": [],
   "source": [
    "lasso = lrn(\"regr.cv_glmnet\", nfolds = 5, s = \"lambda.min\")\n",
    "lasso_class = lrn(\"classif.cv_glmnet\", nfolds = 5, s = \"lambda.min\")\n",
    "\n",
    "set.seed(1234)\n",
    "dml_plr_lasso = DoubleMLPLR$new(data_dml,\n",
    "                               ml_g = lasso,\n",
    "                               ml_m = lasso_class,\n",
    "                               n_folds = 3,\n",
    "                               n_rep = 3)\n",
    "\n",
    "dml_plr_lasso$fit(store_predictions = TRUE)\n",
    "\n",
    "dml_plr_lasso$summary()\n"
   ]
  },
  {
   "cell_type": "code",
   "execution_count": null,
   "id": "eaae3cdd",
   "metadata": {},
   "outputs": [],
   "source": [
    "# TODO: Calculate Bias\n",
    "# TODO: Summary for predictive accuracy\n",
    "# TODO: Print RMSE mean and sd for ml_g and log_loss for ml_m"
   ]
  },
  {
   "cell_type": "markdown",
   "id": "0f4008fe",
   "metadata": {},
   "source": [
    "### Double Machine Learning based on Random Forests"
   ]
  },
  {
   "cell_type": "code",
   "execution_count": null,
   "id": "8196ae92",
   "metadata": {},
   "outputs": [],
   "source": [
    "randomForest = lrn(\"regr.ranger\")\n",
    "randomForest_class = lrn(\"classif.ranger\")\n",
    "\n",
    "set.seed(1234)\n",
    "dml_plr_forest = DoubleMLPLR$new(data_dml,\n",
    "                                ml_g = randomForest,\n",
    "                                ml_m = randomForest_class,\n",
    "                                n_folds = 3,\n",
    "                                n_rep = 3)\n",
    "\n",
    "\n",
    "dml_plr_forest$fit(store_predictions = TRUE)\n",
    "dml_plr_forest$summary()"
   ]
  },
  {
   "cell_type": "code",
   "execution_count": null,
   "id": "e39d558c",
   "metadata": {},
   "outputs": [],
   "source": [
    "# TODO: Calculate Bias\n",
    "# TODO: Summary for predictive accuracy\n",
    "# TODO: Print RMSE mean and sd for ml_g and log_loss for ml_m"
   ]
  },
  {
   "cell_type": "markdown",
   "id": "f3134af7",
   "metadata": {},
   "source": [
    "### Double Machine Learning based on Extreme Gradient Boosting"
   ]
  },
  {
   "cell_type": "code",
   "execution_count": null,
   "id": "ba38cc5a",
   "metadata": {},
   "outputs": [],
   "source": [
    "boost = lrn(\"regr.xgboost\",\n",
    "            objective = \"reg:squarederror\",\n",
    "            eta = 0.1, nrounds = 57, max_depth = 2)\n",
    "\n",
    "boost_class = lrn(\"classif.xgboost\",\n",
    "                  objective = \"binary:logistic\",\n",
    "                  eval_metric = \"logloss\",\n",
    "                  eta = 0.1, nrounds = 10, max_depth = 3)\n",
    "\n",
    "set.seed(1234)\n",
    "dml_plr_boost = DoubleMLPLR$new(data_dml,\n",
    "                               ml_g = boost,\n",
    "                               ml_m = boost_class,\n",
    "                               n_folds = 3,\n",
    "                               n_rep = 3)\n",
    "\n",
    "dml_plr_boost$fit(store_predictions = TRUE)\n",
    "dml_plr_boost$summary()"
   ]
  },
  {
   "cell_type": "code",
   "execution_count": null,
   "id": "076c36ce",
   "metadata": {},
   "outputs": [],
   "source": [
    "# TODO: Calculate Bias\n",
    "# TODO: Summary for predictive accuracy\n",
    "# TODO: Print RMSE mean and sd for ml_g and log_loss for ml_m"
   ]
  },
  {
   "cell_type": "markdown",
   "id": "1da3faf4",
   "metadata": {},
   "source": [
    "#### PLR - Summary of coefficient estimates"
   ]
  },
  {
   "cell_type": "code",
   "execution_count": null,
   "id": "4ed09f8f",
   "metadata": {},
   "outputs": [],
   "source": [
    "# TODO: Add summary of results\n"
   ]
  },
  {
   "cell_type": "code",
   "execution_count": null,
   "id": "f5de3006",
   "metadata": {},
   "outputs": [],
   "source": [
    "# TODO: Add visualization of summary\n"
   ]
  },
  {
   "cell_type": "markdown",
   "id": "6794e320",
   "metadata": {},
   "source": [
    "#### PLR - Summary of prediction assessment metric's mean values\n"
   ]
  },
  {
   "cell_type": "code",
   "execution_count": null,
   "id": "19e14bd1",
   "metadata": {},
   "outputs": [],
   "source": [
    "# TODO: Add comparison/summary for predictive accuracy (nuisance)\n"
   ]
  },
  {
   "cell_type": "code",
   "execution_count": null,
   "id": "27426c91",
   "metadata": {},
   "outputs": [],
   "source": [
    "# TODO: Add visualization of summary\n"
   ]
  },
  {
   "cell_type": "code",
   "execution_count": null,
   "id": "8b2aac6e",
   "metadata": {},
   "outputs": [],
   "source": []
  }
 ],
 "metadata": {
  "kernelspec": {
   "display_name": "R",
   "language": "R",
   "name": "ir"
  },
  "language_info": {
   "codemirror_mode": "r",
   "file_extension": ".r",
   "mimetype": "text/x-r-source",
   "name": "R",
   "pygments_lexer": "r",
   "version": "3.6.1"
  }
 },
 "nbformat": 4,
 "nbformat_minor": 5
}
