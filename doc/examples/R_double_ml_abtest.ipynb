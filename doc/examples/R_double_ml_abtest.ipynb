{
 "cells": [
  {
   "cell_type": "markdown",
   "id": "7a6837f6",
   "metadata": {},
   "source": [
    "# R: A/B Testing with DoubleML"
   ]
  },
  {
   "cell_type": "markdown",
   "id": "476731d3",
   "metadata": {},
   "source": [
    "<img src=\"figures/ab_testing.jpg\" alt=\"An illustration of A/B testing.\" style=\"width: 400px;\"/>\n",
    "\n",
    "Image Source Freepik http://www.freepik.com, Designed by macrovector\n"
   ]
  },
  {
   "cell_type": "code",
   "execution_count": 14,
   "id": "15bef913",
   "metadata": {},
   "outputs": [
    {
     "name": "stderr",
     "output_type": "stream",
     "text": [
      "Warning message:\n",
      "\"package 'data.table' was built under R version 3.6.3\"\n"
     ]
    }
   ],
   "source": [
    "# Load required packages for this tutorial\n",
    "library(DoubleML)\n",
    "library(mlr3)\n",
    "library(mlr3learners)\n",
    "library(data.table)\n",
    "library(ggplot2)\n",
    "\n",
    "# suppress messages during fitting\n",
    "lgr::get_logger(\"mlr3\")$set_threshold(\"warn\")\n"
   ]
  },
  {
   "cell_type": "code",
   "execution_count": 15,
   "id": "dfdec0e0",
   "metadata": {},
   "outputs": [
    {
     "data": {
      "text/html": [
       "<style>\n",
       ".list-inline {list-style: none; margin:0; padding: 0}\n",
       ".list-inline>li {display: inline-block}\n",
       ".list-inline>li:not(:last-child)::after {content: \"\\00b7\"; padding: 0 .5ex}\n",
       "</style>\n",
       "<ol class=list-inline><li>1000</li><li>202</li></ol>\n"
      ],
      "text/latex": [
       "\\begin{enumerate*}\n",
       "\\item 1000\n",
       "\\item 202\n",
       "\\end{enumerate*}\n"
      ],
      "text/markdown": [
       "1. 1000\n",
       "2. 202\n",
       "\n",
       "\n"
      ],
      "text/plain": [
       "[1] 1000  202"
      ]
     },
     "metadata": {},
     "output_type": "display_data"
    },
    {
     "name": "stdout",
     "output_type": "stream",
     "text": [
      "Classes 'data.table' and 'data.frame':\t1000 obs. of  202 variables:\n",
      " $ Y   : num  7.36 8.33 7.47 6.5 7.04 ...\n",
      " $ A   : int  1 1 0 1 1 0 0 1 0 0 ...\n",
      " $ V1  : int  10 12 14 0 12 8 10 9 11 15 ...\n",
      " $ V2  : int  0 0 1 1 0 0 1 1 0 1 ...\n",
      " $ V3  : int  0 1 1 0 0 1 1 1 1 1 ...\n",
      " $ V4  : int  7 4 2 9 9 6 6 6 11 7 ...\n",
      " $ V5  : num  193 200 194 202 201 ...\n",
      " $ V6  : num  23.7 19.3 24.6 25.5 31.2 ...\n",
      " $ V7  : int  8 7 5 4 6 9 2 4 7 2 ...\n",
      " $ V8  : num  0.185 0.515 0.309 0.16 0.292 ...\n",
      " $ V9  : num  15.85 9.24 10.79 22.64 25.79 ...\n",
      " $ V10 : int  6 5 4 8 3 6 5 4 9 4 ...\n",
      " $ V11 : int  1 0 1 0 1 1 1 1 1 1 ...\n",
      " $ V12 : int  0 0 0 1 1 0 1 0 0 1 ...\n",
      " $ V13 : num  0.201 0.223 0.175 0.149 0.138 ...\n",
      " $ V14 : num  1.17 -1.537 -1.285 0.348 0.345 ...\n",
      " $ V15 : num  1.22 1.12 1.27 1.14 1.3 ...\n",
      " $ V16 : num  -16.8 -15.1 -27.8 -15.8 -30.3 ...\n",
      " $ V17 : num  8.07 4.48 6.19 4.75 7.79 ...\n",
      " $ V18 : int  1 0 1 0 0 0 1 0 0 1 ...\n",
      " $ V19 : num  1.04 -0.542 1.021 1.227 1.655 ...\n",
      " $ V20 : int  30 -1 59 25 8 25 -1 -9 43 41 ...\n",
      " $ V21 : int  0 0 0 1 1 0 1 1 0 0 ...\n",
      " $ V22 : num  0.279 0.256 0.75 0.537 0.737 ...\n",
      " $ V23 : num  -1.421 2.789 -0.647 4.633 -3.566 ...\n",
      " $ V24 : num  0.05559 0.01498 0.00637 0.05703 0.03166 ...\n",
      " $ V25 : num  0.0403 0.0484 0.0693 0.1223 0.1016 ...\n",
      " $ V26 : num  7.90e-05 8.59e-03 2.61e-05 8.09e-03 1.20e-03 ...\n",
      " $ V27 : num  -59 -20.4 -50.8 -58.7 -12.7 ...\n",
      " $ V28 : int  20 7 16 27 14 10 23 10 19 18 ...\n",
      " $ V29 : num  16.6 46.5 14.5 13.7 18.5 ...\n",
      " $ V30 : num  34.7 21.7 25 25.5 28.6 ...\n",
      " $ V31 : num  4.95 7.37 14.16 7.71 8.43 ...\n",
      " $ V32 : num  0.175 0.431 0.826 -0.775 -0.961 ...\n",
      " $ V33 : num  0.232 1.926 6.007 32.186 0.476 ...\n",
      " $ V34 : num  2.07 1.83 1.77 1.87 1.39 ...\n",
      " $ V35 : int  0 1 0 0 0 0 0 0 0 0 ...\n",
      " $ V36 : num  20.06 28.06 11.85 20.51 9.66 ...\n",
      " $ V37 : num  0.00044 0.00077 0.0018 0.00269 0.0024 ...\n",
      " $ V38 : int  1 0 0 0 0 1 1 1 1 1 ...\n",
      " $ V39 : num  0.481 2.161 1.018 2.384 0.241 ...\n",
      " $ V40 : num  1.244 1.012 1.227 0.664 1.195 ...\n",
      " $ V41 : int  5 12 8 15 8 7 17 8 16 25 ...\n",
      " $ V42 : num  21.3 12.1 15.1 29.7 34.2 ...\n",
      " $ V43 : int  1 0 0 0 1 1 0 1 1 0 ...\n",
      " $ V44 : int  27 27 26 23 28 31 33 30 22 26 ...\n",
      " $ V45 : int  1 1 0 1 0 0 0 0 1 0 ...\n",
      " $ V46 : int  1 0 1 1 0 1 0 0 0 0 ...\n",
      " $ V47 : num  20.79 24.43 19.13 6.96 20.87 ...\n",
      " $ V48 : int  0 0 0 0 0 0 0 0 0 0 ...\n",
      " $ V49 : int  1 0 1 1 1 0 1 0 1 1 ...\n",
      " $ V50 : int  1 1 0 1 1 1 1 1 1 0 ...\n",
      " $ V51 : num  0.5835 -0.8916 1.5197 -0.2097 -0.0912 ...\n",
      " $ V52 : num  3.59 2.6 4.51 2.15 4.61 ...\n",
      " $ V53 : int  1 1 1 1 1 1 1 1 0 1 ...\n",
      " $ V54 : int  0 0 0 0 0 0 0 0 0 0 ...\n",
      " $ V55 : int  0 1 1 0 1 0 0 0 0 0 ...\n",
      " $ V56 : num  2.14 2.39 2.11 2.28 2.08 ...\n",
      " $ V57 : int  0 1 1 0 0 0 0 0 1 0 ...\n",
      " $ V58 : num  -4.576 -0.215 -4.02 -4.183 -3.193 ...\n",
      " $ V59 : num  -2.339 0.591 2.002 -0.896 -0.636 ...\n",
      " $ V60 : int  1 1 0 1 0 1 1 0 0 1 ...\n",
      " $ V61 : num  1.14e-03 1.37e-05 2.30e-02 1.22e-03 8.93e-04 ...\n",
      " $ V62 : num  11.5 11.3 10.7 12.1 10.8 ...\n",
      " $ V63 : int  0 0 0 1 0 0 0 1 0 1 ...\n",
      " $ V64 : int  4 2 2 5 0 2 6 1 1 2 ...\n",
      " $ V65 : int  1 1 1 1 1 1 1 1 1 1 ...\n",
      " $ V66 : int  1 0 0 0 0 0 0 1 0 0 ...\n",
      " $ V67 : num  3.9 6.47 4.8 2.62 5.2 ...\n",
      " $ V68 : num  177.5 70.2 28.4 19.8 55.4 ...\n",
      " $ V69 : num  -0.97783 -0.00815 -0.09309 0.29349 -0.32934 ...\n",
      " $ V70 : num  -15.66 2.43 -4.63 -12.2 -19.63 ...\n",
      " $ V71 : num  -0.3391 0.2509 0.4934 -0.32 -0.0074 ...\n",
      " $ V72 : num  -4.86 -4.88 -2.58 -4.52 -3.06 ...\n",
      " $ V73 : num  46.8 44.3 59.1 11.2 12.2 ...\n",
      " $ V74 : int  7 4 3 3 5 9 8 4 15 6 ...\n",
      " $ V75 : num  27.4 23 21.7 25.3 23.3 ...\n",
      " $ V76 : num  -2.203 -0.976 -0.786 -0.288 0.368 ...\n",
      " $ V77 : int  0 0 0 0 0 0 0 0 1 0 ...\n",
      " $ V78 : int  6 7 11 14 7 5 11 11 14 12 ...\n",
      " $ V79 : int  1 0 0 0 0 0 0 0 0 0 ...\n",
      " $ V80 : num  -0.9566 -0.9183 -0.9225 0.0593 -0.0718 ...\n",
      " $ V81 : num  0.0563 0.0879 0.0654 0.1113 0.0547 ...\n",
      " $ V82 : int  29 24 22 13 16 34 9 36 5 24 ...\n",
      " $ V83 : int  0 0 0 0 0 0 1 0 0 0 ...\n",
      " $ V84 : num  0.0374 0.0372 0.031 0.0354 0.0278 ...\n",
      " $ V85 : num  -0.15724 -0.13814 0.99698 -2.0978 0.00798 ...\n",
      " $ V86 : num  -0.195 1.19 -4.1359 -0.0292 0.5086 ...\n",
      " $ V87 : int  0 0 0 0 0 0 0 0 0 0 ...\n",
      " $ V88 : int  0 1 1 0 0 1 1 0 0 1 ...\n",
      " $ V89 : int  17 17 22 8 14 11 18 20 11 20 ...\n",
      " $ V90 : num  1.08 1.26 2.44 1.04 1.84 ...\n",
      " $ V91 : int  1 1 0 0 1 0 0 1 1 0 ...\n",
      " $ V92 : num  1.2526 -0.4946 -0.1259 1.0655 -0.0294 ...\n",
      " $ V93 : int  0 0 0 0 0 0 0 0 0 0 ...\n",
      " $ V94 : num  0.976 0.976 0.981 0.982 0.988 ...\n",
      " $ V95 : int  5 6 6 4 4 5 5 3 6 7 ...\n",
      " $ V96 : num  2.21 5.38 3.87 2.46 3.04 ...\n",
      " $ V97 : num  1.27 1.25 1.28 1.29 1.16 ...\n",
      "  [list output truncated]\n",
      " - attr(*, \".internal.selfref\")=<externalptr> \n"
     ]
    }
   ],
   "source": [
    "library(data.table)\n",
    "\n",
    "# Load data set from url (internet connection required)\n",
    "url = \"https://raw.githubusercontent.com/DoubleML/doubleml-docs/p-add-ACIC-dataset/doc/examples/data/high42.CSV\"\n",
    "df = fread(url)\n",
    "\n",
    "dim(df)\n",
    "\n",
    "# TODO: Add info on types of variables\n",
    "str(df)"
   ]
  },
  {
   "cell_type": "code",
   "execution_count": 3,
   "id": "d95977a0",
   "metadata": {},
   "outputs": [
    {
     "data": {
      "text/html": [
       "<table class=\"dataframe\">\n",
       "<caption>A data.table: 6 × 202</caption>\n",
       "<thead>\n",
       "\t<tr><th scope=col>Y</th><th scope=col>A</th><th scope=col>V1</th><th scope=col>V2</th><th scope=col>V3</th><th scope=col>V4</th><th scope=col>V5</th><th scope=col>V6</th><th scope=col>V7</th><th scope=col>V8</th><th scope=col>...</th><th scope=col>V191</th><th scope=col>V192</th><th scope=col>V193</th><th scope=col>V194</th><th scope=col>V195</th><th scope=col>V196</th><th scope=col>V197</th><th scope=col>V198</th><th scope=col>V199</th><th scope=col>V200</th></tr>\n",
       "\t<tr><th scope=col>&lt;dbl&gt;</th><th scope=col>&lt;int&gt;</th><th scope=col>&lt;int&gt;</th><th scope=col>&lt;int&gt;</th><th scope=col>&lt;int&gt;</th><th scope=col>&lt;int&gt;</th><th scope=col>&lt;dbl&gt;</th><th scope=col>&lt;dbl&gt;</th><th scope=col>&lt;int&gt;</th><th scope=col>&lt;dbl&gt;</th><th scope=col>...</th><th scope=col>&lt;dbl&gt;</th><th scope=col>&lt;int&gt;</th><th scope=col>&lt;dbl&gt;</th><th scope=col>&lt;int&gt;</th><th scope=col>&lt;int&gt;</th><th scope=col>&lt;dbl&gt;</th><th scope=col>&lt;dbl&gt;</th><th scope=col>&lt;int&gt;</th><th scope=col>&lt;int&gt;</th><th scope=col>&lt;dbl&gt;</th></tr>\n",
       "</thead>\n",
       "<tbody>\n",
       "\t<tr><td>7.358185</td><td>1</td><td>10</td><td>0</td><td>0</td><td>7</td><td>192.7938</td><td>23.67695</td><td>8</td><td>0.18544294</td><td>...</td><td>1.462837</td><td>1</td><td>1627.274</td><td>0</td><td>0</td><td>4.683956</td><td> 0.5656669</td><td>0</td><td>3</td><td>0.02433804</td></tr>\n",
       "\t<tr><td>8.333672</td><td>1</td><td>12</td><td>0</td><td>1</td><td>4</td><td>199.6536</td><td>19.28127</td><td>7</td><td>0.51484172</td><td>...</td><td>1.330522</td><td>1</td><td>1661.484</td><td>1</td><td>0</td><td>6.766661</td><td>-0.3954021</td><td>0</td><td>4</td><td>0.05651780</td></tr>\n",
       "\t<tr><td>7.472758</td><td>0</td><td>14</td><td>1</td><td>1</td><td>2</td><td>194.2078</td><td>24.58933</td><td>5</td><td>0.30919878</td><td>...</td><td>1.384151</td><td>1</td><td>1658.939</td><td>0</td><td>0</td><td>5.647794</td><td> 1.1127661</td><td>0</td><td>0</td><td>0.01344207</td></tr>\n",
       "\t<tr><td>6.502319</td><td>1</td><td> 0</td><td>1</td><td>0</td><td>9</td><td>201.8380</td><td>25.51392</td><td>4</td><td>0.16016010</td><td>...</td><td>1.220303</td><td>1</td><td>1650.802</td><td>0</td><td>0</td><td>5.370363</td><td>-0.3058420</td><td>0</td><td>4</td><td>0.03463235</td></tr>\n",
       "\t<tr><td>7.043758</td><td>1</td><td>12</td><td>0</td><td>0</td><td>9</td><td>201.3604</td><td>31.16064</td><td>6</td><td>0.29197555</td><td>...</td><td>1.170094</td><td>1</td><td>1676.819</td><td>0</td><td>0</td><td>3.446532</td><td> 2.4406606</td><td>0</td><td>1</td><td>0.01751381</td></tr>\n",
       "\t<tr><td>5.658337</td><td>0</td><td> 8</td><td>0</td><td>1</td><td>6</td><td>193.2195</td><td>20.46564</td><td>9</td><td>0.05673076</td><td>...</td><td>1.802945</td><td>1</td><td>1634.093</td><td>1</td><td>0</td><td>5.294410</td><td> 1.0869714</td><td>1</td><td>0</td><td>0.04712806</td></tr>\n",
       "</tbody>\n",
       "</table>\n"
      ],
      "text/latex": [
       "A data.table: 6 × 202\n",
       "\\begin{tabular}{lllllllllllllllllllll}\n",
       " Y & A & V1 & V2 & V3 & V4 & V5 & V6 & V7 & V8 & ... & V191 & V192 & V193 & V194 & V195 & V196 & V197 & V198 & V199 & V200\\\\\n",
       " <dbl> & <int> & <int> & <int> & <int> & <int> & <dbl> & <dbl> & <int> & <dbl> & ... & <dbl> & <int> & <dbl> & <int> & <int> & <dbl> & <dbl> & <int> & <int> & <dbl>\\\\\n",
       "\\hline\n",
       "\t 7.358185 & 1 & 10 & 0 & 0 & 7 & 192.7938 & 23.67695 & 8 & 0.18544294 & ... & 1.462837 & 1 & 1627.274 & 0 & 0 & 4.683956 &  0.5656669 & 0 & 3 & 0.02433804\\\\\n",
       "\t 8.333672 & 1 & 12 & 0 & 1 & 4 & 199.6536 & 19.28127 & 7 & 0.51484172 & ... & 1.330522 & 1 & 1661.484 & 1 & 0 & 6.766661 & -0.3954021 & 0 & 4 & 0.05651780\\\\\n",
       "\t 7.472758 & 0 & 14 & 1 & 1 & 2 & 194.2078 & 24.58933 & 5 & 0.30919878 & ... & 1.384151 & 1 & 1658.939 & 0 & 0 & 5.647794 &  1.1127661 & 0 & 0 & 0.01344207\\\\\n",
       "\t 6.502319 & 1 &  0 & 1 & 0 & 9 & 201.8380 & 25.51392 & 4 & 0.16016010 & ... & 1.220303 & 1 & 1650.802 & 0 & 0 & 5.370363 & -0.3058420 & 0 & 4 & 0.03463235\\\\\n",
       "\t 7.043758 & 1 & 12 & 0 & 0 & 9 & 201.3604 & 31.16064 & 6 & 0.29197555 & ... & 1.170094 & 1 & 1676.819 & 0 & 0 & 3.446532 &  2.4406606 & 0 & 1 & 0.01751381\\\\\n",
       "\t 5.658337 & 0 &  8 & 0 & 1 & 6 & 193.2195 & 20.46564 & 9 & 0.05673076 & ... & 1.802945 & 1 & 1634.093 & 1 & 0 & 5.294410 &  1.0869714 & 1 & 0 & 0.04712806\\\\\n",
       "\\end{tabular}\n"
      ],
      "text/markdown": [
       "\n",
       "A data.table: 6 × 202\n",
       "\n",
       "| Y &lt;dbl&gt; | A &lt;int&gt; | V1 &lt;int&gt; | V2 &lt;int&gt; | V3 &lt;int&gt; | V4 &lt;int&gt; | V5 &lt;dbl&gt; | V6 &lt;dbl&gt; | V7 &lt;int&gt; | V8 &lt;dbl&gt; | ... ... | V191 &lt;dbl&gt; | V192 &lt;int&gt; | V193 &lt;dbl&gt; | V194 &lt;int&gt; | V195 &lt;int&gt; | V196 &lt;dbl&gt; | V197 &lt;dbl&gt; | V198 &lt;int&gt; | V199 &lt;int&gt; | V200 &lt;dbl&gt; |\n",
       "|---|---|---|---|---|---|---|---|---|---|---|---|---|---|---|---|---|---|---|---|---|\n",
       "| 7.358185 | 1 | 10 | 0 | 0 | 7 | 192.7938 | 23.67695 | 8 | 0.18544294 | ... | 1.462837 | 1 | 1627.274 | 0 | 0 | 4.683956 |  0.5656669 | 0 | 3 | 0.02433804 |\n",
       "| 8.333672 | 1 | 12 | 0 | 1 | 4 | 199.6536 | 19.28127 | 7 | 0.51484172 | ... | 1.330522 | 1 | 1661.484 | 1 | 0 | 6.766661 | -0.3954021 | 0 | 4 | 0.05651780 |\n",
       "| 7.472758 | 0 | 14 | 1 | 1 | 2 | 194.2078 | 24.58933 | 5 | 0.30919878 | ... | 1.384151 | 1 | 1658.939 | 0 | 0 | 5.647794 |  1.1127661 | 0 | 0 | 0.01344207 |\n",
       "| 6.502319 | 1 |  0 | 1 | 0 | 9 | 201.8380 | 25.51392 | 4 | 0.16016010 | ... | 1.220303 | 1 | 1650.802 | 0 | 0 | 5.370363 | -0.3058420 | 0 | 4 | 0.03463235 |\n",
       "| 7.043758 | 1 | 12 | 0 | 0 | 9 | 201.3604 | 31.16064 | 6 | 0.29197555 | ... | 1.170094 | 1 | 1676.819 | 0 | 0 | 3.446532 |  2.4406606 | 0 | 1 | 0.01751381 |\n",
       "| 5.658337 | 0 |  8 | 0 | 1 | 6 | 193.2195 | 20.46564 | 9 | 0.05673076 | ... | 1.802945 | 1 | 1634.093 | 1 | 0 | 5.294410 |  1.0869714 | 1 | 0 | 0.04712806 |\n",
       "\n"
      ],
      "text/plain": [
       "  Y        A V1 V2 V3 V4 V5       V6       V7 V8         ... V191     V192\n",
       "1 7.358185 1 10 0  0  7  192.7938 23.67695 8  0.18544294 ... 1.462837 1   \n",
       "2 8.333672 1 12 0  1  4  199.6536 19.28127 7  0.51484172 ... 1.330522 1   \n",
       "3 7.472758 0 14 1  1  2  194.2078 24.58933 5  0.30919878 ... 1.384151 1   \n",
       "4 6.502319 1  0 1  0  9  201.8380 25.51392 4  0.16016010 ... 1.220303 1   \n",
       "5 7.043758 1 12 0  0  9  201.3604 31.16064 6  0.29197555 ... 1.170094 1   \n",
       "6 5.658337 0  8 0  1  6  193.2195 20.46564 9  0.05673076 ... 1.802945 1   \n",
       "  V193     V194 V195 V196     V197       V198 V199 V200      \n",
       "1 1627.274 0    0    4.683956  0.5656669 0    3    0.02433804\n",
       "2 1661.484 1    0    6.766661 -0.3954021 0    4    0.05651780\n",
       "3 1658.939 0    0    5.647794  1.1127661 0    0    0.01344207\n",
       "4 1650.802 0    0    5.370363 -0.3058420 0    4    0.03463235\n",
       "5 1676.819 0    0    3.446532  2.4406606 0    1    0.01751381\n",
       "6 1634.093 1    0    5.294410  1.0869714 1    0    0.04712806"
      ]
     },
     "metadata": {},
     "output_type": "display_data"
    }
   ],
   "source": [
    "head(df)"
   ]
  },
  {
   "cell_type": "code",
   "execution_count": 6,
   "id": "e8698562",
   "metadata": {},
   "outputs": [
    {
     "data": {
      "image/png": "[encoded data removed]",
      "text/plain": [
       "plot without title"
      ]
     },
     "metadata": {
      "image/png": {
       "height": 420,
       "width": 420
      }
     },
     "output_type": "display_data"
    }
   ],
   "source": [
    "hist_A = ggplot(df, aes(x = A, fill = factor(A))) +\n",
    "            geom_bar() + theme_minimal() +\n",
    "            ggtitle(\"Treatment\") + xlab(\"A\") +\n",
    "            theme(legend.position = \"bottom\", plot.title = element_text(hjust = 0.5),\n",
    "                  text = element_text(size = 20))\n",
    "hist_A"
   ]
  },
  {
   "cell_type": "code",
   "execution_count": 16,
   "id": "9aa1164a",
   "metadata": {},
   "outputs": [
    {
     "data": {
      "text/html": [
       "<table class=\"dataframe\">\n",
       "<caption>A data.table: 2 × 2</caption>\n",
       "<thead>\n",
       "\t<tr><th scope=col>A</th><th scope=col>V1</th></tr>\n",
       "\t<tr><th scope=col>&lt;int&gt;</th><th scope=col>&lt;dbl&gt;</th></tr>\n",
       "</thead>\n",
       "<tbody>\n",
       "\t<tr><td>1</td><td>7.953744</td></tr>\n",
       "\t<tr><td>0</td><td>6.836141</td></tr>\n",
       "</tbody>\n",
       "</table>\n"
      ],
      "text/latex": [
       "A data.table: 2 × 2\n",
       "\\begin{tabular}{ll}\n",
       " A & V1\\\\\n",
       " <int> & <dbl>\\\\\n",
       "\\hline\n",
       "\t 1 & 7.953744\\\\\n",
       "\t 0 & 6.836141\\\\\n",
       "\\end{tabular}\n"
      ],
      "text/markdown": [
       "\n",
       "A data.table: 2 × 2\n",
       "\n",
       "| A &lt;int&gt; | V1 &lt;dbl&gt; |\n",
       "|---|---|\n",
       "| 1 | 7.953744 |\n",
       "| 0 | 6.836141 |\n",
       "\n"
      ],
      "text/plain": [
       "  A V1      \n",
       "1 1 7.953744\n",
       "2 0 6.836141"
      ]
     },
     "metadata": {},
     "output_type": "display_data"
    },
    {
     "data": {
      "text/html": [
       "1.11760295064719"
      ],
      "text/latex": [
       "1.11760295064719"
      ],
      "text/markdown": [
       "1.11760295064719"
      ],
      "text/plain": [
       "[1] 1.117603"
      ]
     },
     "metadata": {},
     "output_type": "display_data"
    }
   ],
   "source": [
    "# Unconditional ATE\n",
    "df[, mean(Y), by = A]\n",
    "\n",
    "ATE_uncond = df[A == 1, mean(Y)] - df[A==0, mean(Y)]\n",
    "ATE_uncond"
   ]
  },
  {
   "cell_type": "markdown",
   "id": "479cd6f7",
   "metadata": {},
   "source": [
    "### `DoubleMLData`\n"
   ]
  },
  {
   "cell_type": "code",
   "execution_count": 24,
   "id": "ea2df013",
   "metadata": {},
   "outputs": [],
   "source": [
    "features_base = colnames(df)[grep(\"V\", colnames(df))]\n",
    "data_dml = DoubleMLData$new(df,\n",
    "                           y_col = \"Y\",\n",
    "                           d_cols = \"A\",\n",
    "                           x_cols = features_base)"
   ]
  },
  {
   "cell_type": "code",
   "execution_count": 25,
   "id": "c98e3ec1",
   "metadata": {},
   "outputs": [
    {
     "name": "stdout",
     "output_type": "stream",
     "text": [
      "================= DoubleMLData Object ==================\n",
      "\n",
      "\n",
      "------------------ Data summary      ------------------\n",
      "Outcome variable: Y\n",
      "Treatment variable(s): A\n",
      "Covariates: V1, V2, V3, V4, V5, V6, V7, V8, V9, V10, V11, V12, V13, V14, V15, V16, V17, V18, V19, V20, V21, V22, V23, V24, V25, V26, V27, V28, V29, V30, V31, V32, V33, V34, V35, V36, V37, V38, V39, V40, V41, V42, V43, V44, V45, V46, V47, V48, V49, V50, V51, V52, V53, V54, V55, V56, V57, V58, V59, V60, V61, V62, V63, V64, V65, V66, V67, V68, V69, V70, V71, V72, V73, V74, V75, V76, V77, V78, V79, V80, V81, V82, V83, V84, V85, V86, V87, V88, V89, V90, V91, V92, V93, V94, V95, V96, V97, V98, V99, V100, V101, V102, V103, V104, V105, V106, V107, V108, V109, V110, V111, V112, V113, V114, V115, V116, V117, V118, V119, V120, V121, V122, V123, V124, V125, V126, V127, V128, V129, V130, V131, V132, V133, V134, V135, V136, V137, V138, V139, V140, V141, V142, V143, V144, V145, V146, V147, V148, V149, V150, V151, V152, V153, V154, V155, V156, V157, V158, V159, V160, V161, V162, V163, V164, V165, V166, V167, V168, V169, V170, V171, V172, V173, V174, V175, V176, V177, V178, V179, V180, V181, V182, V183, V184, V185, V186, V187, V188, V189, V190, V191, V192, V193, V194, V195, V196, V197, V198, V199, V200\n",
      "Instrument(s): \n",
      "No. Observations: 1000\n"
     ]
    }
   ],
   "source": [
    "print(data_dml)"
   ]
  },
  {
   "cell_type": "markdown",
   "id": "b56ad806",
   "metadata": {},
   "source": [
    "### IRM\n"
   ]
  },
  {
   "cell_type": "code",
   "execution_count": 26,
   "id": "df43c333",
   "metadata": {},
   "outputs": [],
   "source": [
    "# TODO: helper function for prediction of nuisance\n",
    "\n",
    "pred_acc_irm = function() {\n",
    "    \n",
    "}"
   ]
  },
  {
   "cell_type": "markdown",
   "id": "03501b58",
   "metadata": {},
   "source": [
    "### Benchmark: Model based on Linear and Logistic Regression"
   ]
  },
  {
   "cell_type": "code",
   "execution_count": 17,
   "id": "98545886",
   "metadata": {},
   "outputs": [
    {
     "ename": "ERROR",
     "evalue": "Error in sort(assert_subset(properties, mlr_reflections$learner_properties[[task_type]])): Assertion on 'properties' failed: Must be a subset of {'featureless','missings','weights','importance','selected_features','oob_error'}, but is {'weights','loglik'}.\n",
     "output_type": "error",
     "traceback": [
      "Error in sort(assert_subset(properties, mlr_reflections$learner_properties[[task_type]])): Assertion on 'properties' failed: Must be a subset of {'featureless','missings','weights','importance','selected_features','oob_error'}, but is {'weights','loglik'}.\nTraceback:\n",
      "1. lrn(\"regr.lm\")",
      "2. dictionary_sugar_get(mlr_learners, .key, ...)",
      "3. dictionary_get(dict, .key)",
      "4. dictionary_initialize_item(key, obj, dots)",
      "5. do.call(constructor$new, cargs)",
      "6. (function (...) \n . {\n .     inherit <- get_inherit()\n .     if (!is.null(inherit)) {\n .         if (!inherits(inherit, \"R6ClassGenerator\")) \n .             stop(\"`inherit` must be a R6ClassGenerator.\")\n .         if (!identical(portable, inherit$portable)) \n .             stop(\"Sub and superclass must both be portable or non-portable.\")\n .         recursive_merge <- function(obj, which) {\n .             if (is.null(obj)) \n .                 return(NULL)\n .             merge_vectors(recursive_merge(obj$get_inherit(), \n .                 which), obj[[which]])\n .         }\n .         public_fields <- merge_vectors(recursive_merge(inherit, \n .             \"public_fields\"), public_fields)\n .         private_fields <- merge_vectors(recursive_merge(inherit, \n .             \"private_fields\"), private_fields)\n .     }\n .     if (class) {\n .         classes <- c(classname, get_superclassnames(inherit), \n .             \"R6\")\n .     }\n .     else {\n .         classes <- NULL\n .     }\n .     has_priv <- has_private()\n .     if (portable) {\n .         if (has_priv) \n .             private_bind_env <- new.env(parent = emptyenv(), \n .                 hash = FALSE)\n .         else private_bind_env <- NULL\n .         public_bind_env <- new.env(parent = emptyenv(), hash = FALSE)\n .         enclos_env <- new.env(parent = parent_env, hash = FALSE)\n .     }\n .     else {\n .         if (has_priv) {\n .             private_bind_env <- new.env(parent = parent_env, \n .                 hash = FALSE)\n .             public_bind_env <- new.env(parent = private_bind_env, \n .                 hash = FALSE)\n .         }\n .         else {\n .             private_bind_env <- NULL\n .             public_bind_env <- new.env(parent = parent_env, hash = FALSE)\n .         }\n .         enclos_env <- public_bind_env\n .     }\n .     enclos_env$self <- public_bind_env\n .     if (has_priv) \n .         enclos_env$private <- private_bind_env\n .     public_methods <- assign_func_envs(public_methods, enclos_env)\n .     if (has_priv) \n .         private_methods <- assign_func_envs(private_methods, \n .             enclos_env)\n .     if (!is.null(active)) \n .         active <- assign_func_envs(active, enclos_env)\n .     if (length(debug_names) > 0) {\n .         lapply(public_methods[names(public_methods) %in% debug_names], \n .             base::debug)\n .         lapply(private_methods[names(private_methods) %in% debug_names], \n .             base::debug)\n .         lapply(active[names(active) %in% debug_names], base::debug)\n .     }\n .     if (!is.null(inherit)) {\n .         if (portable) {\n .             super_struct <- create_super_env(inherit, public_bind_env, \n .                 private_bind_env, portable = TRUE, cloneable = cloneable)\n .         }\n .         else {\n .             super_struct <- create_super_env(inherit, public_bind_env, \n .                 portable = FALSE, cloneable = cloneable)\n .         }\n .         enclos_env$super <- super_struct$bind_env\n .         public_methods <- merge_vectors(super_struct$public_methods, \n .             public_methods)\n .         private_methods <- merge_vectors(super_struct$private_methods, \n .             private_methods)\n .         active <- merge_vectors(super_struct$active, active)\n .     }\n .     list2env2(public_methods, envir = public_bind_env)\n .     list2env2(public_fields, envir = public_bind_env)\n .     if (has_priv) {\n .         list2env2(private_methods, envir = private_bind_env)\n .         list2env2(private_fields, envir = private_bind_env)\n .     }\n .     if (!is.null(active)) {\n .         for (name in names(active)) {\n .             makeActiveBinding(name, active[[name]], public_bind_env)\n .         }\n .         enclos_env$.__active__ <- active\n .     }\n .     public_bind_env$.__enclos_env__ <- enclos_env\n .     if (lock_objects) {\n .         if (has_priv) \n .             lockEnvironment(private_bind_env)\n .         lockEnvironment(public_bind_env)\n .     }\n .     if (has_priv) {\n .         for (name in names(private_methods)) lockBinding(name, \n .             private_bind_env)\n .     }\n .     for (name in names(public_methods)) lockBinding(name, public_bind_env)\n .     class(public_bind_env) <- classes\n .     initialize <- .subset2(public_bind_env, \"initialize\")\n .     if (is.function(initialize)) {\n .         initialize(...)\n .     }\n .     else if (length(list(...)) != 0) {\n .         stop(\"Called new() with arguments, but there is no initialize method.\")\n .     }\n .     if (is.function(.subset2(public_bind_env, \"finalize\"))) {\n .         finalizer_wrapper <- function(e) {\n .             .subset2(e, \"finalize\")()\n .         }\n .         environment(finalizer_wrapper) <- baseenv()\n .         reg.finalizer(public_bind_env, finalizer_wrapper, onexit = TRUE)\n .     }\n .     if (has_priv) {\n .         if (is.function(.subset2(private_bind_env, \"finalize\"))) {\n .             finalizer_wrapper <- function(e) {\n .                 .subset2(e, \".__enclos_env__\")$private$finalize()\n .             }\n .             environment(finalizer_wrapper) <- baseenv()\n .             reg.finalizer(public_bind_env, finalizer_wrapper, \n .                 onexit = TRUE)\n .         }\n .     }\n .     public_bind_env\n . })()",
      "7. initialize(...)",
      "8. .__LearnerRegrLM__initialize(self = self, private = private, \n .     super = super)",
      "9. super$initialize(id = \"regr.lm\", param_set = ps, predict_types = c(\"response\", \n .     \"se\"), feature_types = c(\"logical\", \"integer\", \"numeric\", \n .     \"factor\", \"character\"), properties = c(\"weights\", \"loglik\"), \n .     packages = \"stats\", man = \"mlr3learners::mlr_learners_regr.lm\")",
      "10. .__LearnerRegr__initialize(self = self, private = private, super = super, \n  .     id = id, param_set = param_set, predict_types = predict_types, \n  .     feature_types = feature_types, properties = properties, data_formats = data_formats, \n  .     packages = packages, man = man)",
      "11. super$initialize(id = id, task_type = \"regr\", param_set = param_set, \n  .     feature_types = feature_types, predict_types = predict_types, \n  .     properties = properties, data_formats = data_formats, packages = packages, \n  .     man = man)",
      "12. .__Learner__initialize(self = self, private = private, super = super, \n  .     id = id, task_type = task_type, param_set = param_set, predict_types = predict_types, \n  .     feature_types = feature_types, properties = properties, data_formats = data_formats, \n  .     packages = packages, man = man)",
      "13. sort(assert_subset(properties, mlr_reflections$learner_properties[[task_type]]))",
      "14. assert_subset(properties, mlr_reflections$learner_properties[[task_type]])",
      "15. makeAssertion(x, res, .var.name, add)",
      "16. mstop(\"Assertion on '%s' failed: %s.\", var.name, res, call. = sys.call(-2L))"
     ]
    }
   ],
   "source": [
    "linreg = lrn(\"regr.lm\")\n",
    "logreg_class = lrn(\"classif.log_reg\")\n",
    "\n",
    "set.seed(1234)\n",
    "dml_irm_regression = DoubleMLIRM$new(data_dml,\n",
    "                                    ml_g = linreg,\n",
    "                                    ml_m = logreg_class,\n",
    "                                    trimming_threshold = 0.025,\n",
    "                                    n_folds = 3,\n",
    "                                    n_rep = 3)\n",
    "\n",
    "dml_irm_regression$fit(store_predictions = TRUE)\n",
    "dml_irm_regression$summary()"
   ]
  },
  {
   "cell_type": "code",
   "execution_count": null,
   "id": "883562c1",
   "metadata": {},
   "outputs": [],
   "source": [
    "# TODO: Calculate Bias\n",
    "# TODO: Summary for predictive accuracy\n",
    "# TODO: Print RMSE mean and sd for ml_g and log_loss for ml_m"
   ]
  },
  {
   "cell_type": "markdown",
   "id": "560d5fc5",
   "metadata": {},
   "source": [
    "### Double Machine Learning based on Lasso\n"
   ]
  },
  {
   "cell_type": "code",
   "execution_count": 18,
   "id": "a7c55597",
   "metadata": {},
   "outputs": [
    {
     "ename": "ERROR",
     "evalue": "Error in checkClass(x, classes, ordered, null.ok): Objekt 'data_dml' nicht gefunden\n",
     "output_type": "error",
     "traceback": [
      "Error in checkClass(x, classes, ordered, null.ok): Objekt 'data_dml' nicht gefunden\nTraceback:\n",
      "1. DoubleMLIRM$new(data_dml, ml_g = lasso, ml_m = lasso_class, trimming_threshold = 0.025, \n .     n_folds = 3, n_rep = 3)",
      "2. initialize(...)",
      "3. super$initialize_double_ml(data, n_folds, n_rep, score, dml_procedure, \n .     draw_sample_splitting, apply_cross_fitting)",
      "4. assert_class(data, \"DoubleMLData\")",
      "5. checkClass(x, classes, ordered, null.ok)"
     ]
    }
   ],
   "source": [
    "lasso = lrn(\"regr.cv_glmnet\", nfolds = 5, s = \"lambda.min\")\n",
    "lasso_class = lrn(\"classif.cv_glmnet\", nfolds = 5, s = \"lambda.min\")\n",
    "\n",
    "set.seed(1234)\n",
    "dml_irm_lasso = DoubleMLIRM$new(data_dml,\n",
    "                               ml_g = lasso,\n",
    "                               ml_m = lasso_class,\n",
    "                               trimming_threshold = 0.025,\n",
    "                               n_folds = 3,\n",
    "                               n_rep = 3)\n",
    "\n",
    "dml_irm_lasso$fit(store_predictions = TRUE)\n",
    "\n",
    "dml_irm_lasso$summary()"
   ]
  },
  {
   "cell_type": "code",
   "execution_count": 19,
   "id": "15c8afb3",
   "metadata": {},
   "outputs": [],
   "source": [
    "# TODO: Calculate Bias\n",
    "# TODO: Summary for predictive accuracy\n",
    "# TODO: Print RMSE mean and sd for ml_g and log_loss for ml_m"
   ]
  },
  {
   "cell_type": "markdown",
   "id": "e5099672",
   "metadata": {},
   "source": [
    "### Double Machine Learning based on Random Forest\n"
   ]
  },
  {
   "cell_type": "code",
   "execution_count": 20,
   "id": "6c3530e5",
   "metadata": {},
   "outputs": [
    {
     "ename": "ERROR",
     "evalue": "Error in checkClass(x, classes, ordered, null.ok): Objekt 'data_dml' nicht gefunden\n",
     "output_type": "error",
     "traceback": [
      "Error in checkClass(x, classes, ordered, null.ok): Objekt 'data_dml' nicht gefunden\nTraceback:\n",
      "1. DoubleMLIRM$new(data_dml, ml_g = randomForest, ml_m = randomForest_class, \n .     trimming_threshold = 0.025, n_folds = 3, n_rep = 3)",
      "2. initialize(...)",
      "3. super$initialize_double_ml(data, n_folds, n_rep, score, dml_procedure, \n .     draw_sample_splitting, apply_cross_fitting)",
      "4. assert_class(data, \"DoubleMLData\")",
      "5. checkClass(x, classes, ordered, null.ok)"
     ]
    }
   ],
   "source": [
    "randomForest = lrn(\"regr.ranger\")\n",
    "randomForest_class = lrn(\"classif.ranger\")\n",
    "\n",
    "set.seed(1234)\n",
    "dml_irm_forest = DoubleMLIRM$new(data_dml,\n",
    "                                ml_g = randomForest,\n",
    "                                ml_m = randomForest_class,\n",
    "                                trimming_threshold = 0.025,\n",
    "                                n_folds = 3,\n",
    "                                n_rep = 3)\n",
    "\n",
    "# Set nuisance-part specific parameters\n",
    "dml_irm_forest$set_ml_nuisance_params(\"ml_g0\", \"A\",\n",
    "                                      list(\"mtry\" = 200,\n",
    "                                           \"num.trees\" = 250))\n",
    "dml_irm_forest$set_ml_nuisance_params(\"ml_g1\", \"A\",\n",
    "                                      list(\"mtry\" = 200,\n",
    "                                           \"num.trees\" = 250))\n",
    "dml_irm_forest$set_ml_nuisance_params(\"ml_m\", \"A\",\n",
    "                                      list(\"mtry\" = 200,\n",
    "                                           \"num.trees\" = 250))\n",
    "\n",
    "dml_irm_forest$fit(store_predictions = TRUE)\n",
    "dml_irm_forest$summary()"
   ]
  },
  {
   "cell_type": "code",
   "execution_count": null,
   "id": "6c63aae2",
   "metadata": {},
   "outputs": [],
   "source": [
    "# TODO: Calculate Bias\n",
    "# TODO: Summary for predictive accuracy\n",
    "# TODO: Print RMSE mean and sd for ml_g and log_loss for ml_m"
   ]
  },
  {
   "cell_type": "markdown",
   "id": "98447b3b",
   "metadata": {},
   "source": [
    "### Double Machine Learning based on Extreme Gradient Boosting"
   ]
  },
  {
   "cell_type": "code",
   "execution_count": null,
   "id": "3991105c",
   "metadata": {},
   "outputs": [],
   "source": [
    "boost = lrn(\"regr.xgboost\",\n",
    "            objective = \"reg:squarederror\")\n",
    "boost_class = lrn(\"classif.xgboost\",\n",
    "                  objective = \"binary:logistic\",\n",
    "                  eval_metric = \"logloss\")\n",
    "\n",
    "set.seed(1234)\n",
    "dml_irm_boost = DoubleMLIRM$new(data_dml,\n",
    "                               ml_g = boost,\n",
    "                               ml_m = boost_class,\n",
    "                               trimming_threshold = 0.025,\n",
    "                               n_folds = 3,\n",
    "                               n_rep = 3)\n",
    "\n",
    "dml_irm_boost$set_ml_nuisance_params(\"ml_g0\", \"A\",\n",
    "                                     list(\"nrounds\" = 30,\n",
    "                                          \"eta\" = 0.2))\n",
    "dml_irm_boost$set_ml_nuisance_params(\"ml_g1\", \"A\",\n",
    "                                     list(\"nrounds\" = 30,\n",
    "                                          \"eta\" = 0.2))\n",
    "dml_irm_boost$set_ml_nuisance_params(\"ml_m\", \"A\",\n",
    "                                      list(\"nrounds\" = 15,\n",
    "                                           \"eta\" = 0.2))\n",
    "\n",
    "dml_irm_boost$fit(store_predictions = TRUE)\n",
    "dml_irm_boost$summary()"
   ]
  },
  {
   "cell_type": "code",
   "execution_count": null,
   "id": "2193503d",
   "metadata": {},
   "outputs": [],
   "source": [
    "# TODO: Calculate Bias\n",
    "# TODO: Summary for predictive accuracy\n",
    "# TODO: Print RMSE mean and sd for ml_g and log_loss for ml_m"
   ]
  },
  {
   "cell_type": "markdown",
   "id": "f2214f23",
   "metadata": {},
   "source": [
    "#### IRM - Summary of coefficient estimates\n",
    "\n"
   ]
  },
  {
   "cell_type": "code",
   "execution_count": 21,
   "id": "3f805daa",
   "metadata": {},
   "outputs": [],
   "source": [
    "# TODO: Add summary of results"
   ]
  },
  {
   "cell_type": "code",
   "execution_count": null,
   "id": "ae0d545f",
   "metadata": {},
   "outputs": [],
   "source": [
    "# TODO: Add visualization of summary"
   ]
  },
  {
   "cell_type": "markdown",
   "id": "9ee7a793",
   "metadata": {},
   "source": [
    "#### IRM - Summary of prediction assessment metric's mean values"
   ]
  },
  {
   "cell_type": "code",
   "execution_count": 23,
   "id": "c1a10e33",
   "metadata": {},
   "outputs": [],
   "source": [
    "# TODO: Add comparison/summary for predictive accuracy (nuisance)"
   ]
  },
  {
   "cell_type": "code",
   "execution_count": 24,
   "id": "97b9a1c8",
   "metadata": {},
   "outputs": [],
   "source": [
    "# TODO: Add visualization of summary"
   ]
  },
  {
   "cell_type": "markdown",
   "id": "29e91c0b",
   "metadata": {},
   "source": [
    "### Inspection of the benchmark model\n"
   ]
  },
  {
   "cell_type": "code",
   "execution_count": null,
   "id": "3cc70b60",
   "metadata": {},
   "outputs": [],
   "source": [
    "# TODO: Function for propensity score visualiztation\n",
    "\n",
    "rep_propscore_plot = function() {\n",
    "    \n",
    "}"
   ]
  },
  {
   "cell_type": "markdown",
   "id": "c05e662c",
   "metadata": {},
   "source": [
    "## 2. Partially Linear Regression Model (PLR)\n"
   ]
  },
  {
   "cell_type": "code",
   "execution_count": null,
   "id": "fb1157a1",
   "metadata": {},
   "outputs": [],
   "source": [
    "# TODO: Function for calculation of prediction accuracy PLR\n",
    "\n",
    "pred_acc_plr = function() {\n",
    "    \n",
    "}"
   ]
  },
  {
   "cell_type": "markdown",
   "id": "d103856e",
   "metadata": {},
   "source": [
    "### Benchmark: Model based on Linear and Logistic Regression"
   ]
  },
  {
   "cell_type": "code",
   "execution_count": null,
   "id": "6f60eac3",
   "metadata": {},
   "outputs": [],
   "source": [
    "linreg = lrn(\"regr.lm\")\n",
    "logreg_class = lrn(\"classif.log_reg\")\n",
    "\n",
    "set.seed(1234)\n",
    "dml_plr_regression = DoubleMLPLR$new(data_dml,\n",
    "                                    ml_g = linreg,\n",
    "                                    ml_m = logreg_class,\n",
    "                                    trimming_threshold = 0.025,\n",
    "                                    n_folds = 3,\n",
    "                                    n_rep = 3)\n",
    "\n",
    "dml_plr_regression$fit(store_predictions = TRUE)\n",
    "dml_plr_regression$summary()"
   ]
  },
  {
   "cell_type": "code",
   "execution_count": null,
   "id": "5a418036",
   "metadata": {},
   "outputs": [],
   "source": [
    "# TODO: Calculate Bias\n",
    "# TODO: Summary for predictive accuracy\n",
    "# TODO: Print RMSE mean and sd for ml_g and log_loss for ml_m"
   ]
  },
  {
   "cell_type": "markdown",
   "id": "8a7e424f",
   "metadata": {},
   "source": [
    "### Double Machine Learning based on Lasso"
   ]
  },
  {
   "cell_type": "code",
   "execution_count": 25,
   "id": "094dfed2",
   "metadata": {},
   "outputs": [
    {
     "ename": "ERROR",
     "evalue": "Error in checkClass(x, classes, ordered, null.ok): Objekt 'data_dml' nicht gefunden\n",
     "output_type": "error",
     "traceback": [
      "Error in checkClass(x, classes, ordered, null.ok): Objekt 'data_dml' nicht gefunden\nTraceback:\n",
      "1. DoubleMLPLR$new(data_dml, ml_g = lasso, ml_m = lasso_class, n_folds = 3, \n .     n_rep = 3)",
      "2. initialize(...)",
      "3. super$initialize_double_ml(data, n_folds, n_rep, score, dml_procedure, \n .     draw_sample_splitting, apply_cross_fitting)",
      "4. assert_class(data, \"DoubleMLData\")",
      "5. checkClass(x, classes, ordered, null.ok)"
     ]
    }
   ],
   "source": [
    "lasso = lrn(\"regr.cv_glmnet\", nfolds = 5, s = \"lambda.min\")\n",
    "lasso_class = lrn(\"classif.cv_glmnet\", nfolds = 5, s = \"lambda.min\")\n",
    "\n",
    "set.seed(1234)\n",
    "dml_plr_lasso = DoubleMLPLR$new(data_dml,\n",
    "                               ml_g = lasso,\n",
    "                               ml_m = lasso_class,\n",
    "                               n_folds = 3,\n",
    "                               n_rep = 3)\n",
    "\n",
    "dml_plr_lasso$fit(store_predictions = TRUE)\n",
    "\n",
    "dml_plr_lasso$summary()\n"
   ]
  },
  {
   "cell_type": "code",
   "execution_count": null,
   "id": "dd4ae562",
   "metadata": {},
   "outputs": [],
   "source": [
    "# TODO: Calculate Bias\n",
    "# TODO: Summary for predictive accuracy\n",
    "# TODO: Print RMSE mean and sd for ml_g and log_loss for ml_m"
   ]
  },
  {
   "cell_type": "markdown",
   "id": "4fbbead6",
   "metadata": {},
   "source": [
    "### Double Machine Learning based on Random Forests"
   ]
  },
  {
   "cell_type": "code",
   "execution_count": null,
   "id": "a11f82d7",
   "metadata": {},
   "outputs": [],
   "source": [
    "randomForest = lrn(\"regr.ranger\")\n",
    "randomForest_class = lrn(\"classif.ranger\")\n",
    "\n",
    "set.seed(1234)\n",
    "dml_plr_forest = DoubleMLPLR$new(data_dml,\n",
    "                                ml_g = randomForest,\n",
    "                                ml_m = randomForest_class,\n",
    "                                n_folds = 3,\n",
    "                                n_rep = 3)\n",
    "\n",
    "\n",
    "dml_plr_forest$fit(store_predictions = TRUE)\n",
    "dml_plr_forest$summary()"
   ]
  },
  {
   "cell_type": "code",
   "execution_count": 26,
   "id": "480064a1",
   "metadata": {},
   "outputs": [],
   "source": [
    "# TODO: Calculate Bias\n",
    "# TODO: Summary for predictive accuracy\n",
    "# TODO: Print RMSE mean and sd for ml_g and log_loss for ml_m"
   ]
  },
  {
   "cell_type": "markdown",
   "id": "b9ed9bcb",
   "metadata": {},
   "source": [
    "### Double Machine Learning based on Extreme Gradient Boosting"
   ]
  },
  {
   "cell_type": "code",
   "execution_count": null,
   "id": "b63e2bd8",
   "metadata": {},
   "outputs": [],
   "source": [
    "boost = lrn(\"regr.xgboost\",\n",
    "            objective = \"reg:squarederror\",\n",
    "            eta = 0.1, nrounds = 57, max_depth = 2)\n",
    "\n",
    "boost_class = lrn(\"classif.xgboost\",\n",
    "                  objective = \"binary:logistic\",\n",
    "                  eval_metric = \"logloss\",\n",
    "                  eta = 0.1, nrounds = 10, max_depth = 3)\n",
    "\n",
    "set.seed(1234)\n",
    "dml_plr_boost = DoubleMLPLR$new(data_dml,\n",
    "                               ml_g = boost,\n",
    "                               ml_m = boost_class,\n",
    "                               n_folds = 3,\n",
    "                               n_rep = 3)\n",
    "\n",
    "dml_plr_boost$fit(store_predictions = TRUE)\n",
    "dml_plr_boost$summary()"
   ]
  },
  {
   "cell_type": "code",
   "execution_count": null,
   "id": "8a75616e",
   "metadata": {},
   "outputs": [],
   "source": [
    "# TODO: Calculate Bias\n",
    "# TODO: Summary for predictive accuracy\n",
    "# TODO: Print RMSE mean and sd for ml_g and log_loss for ml_m"
   ]
  },
  {
   "cell_type": "markdown",
   "id": "4c1076db",
   "metadata": {},
   "source": [
    "#### PLR - Summary of coefficient estimates"
   ]
  },
  {
   "cell_type": "code",
   "execution_count": null,
   "id": "53aba28d",
   "metadata": {},
   "outputs": [],
   "source": [
    "# TODO: Summary"
   ]
  },
  {
   "cell_type": "code",
   "execution_count": null,
   "id": "a9534744",
   "metadata": {},
   "outputs": [],
   "source": []
  },
  {
   "cell_type": "code",
   "execution_count": null,
   "id": "2137028e",
   "metadata": {},
   "outputs": [],
   "source": []
  }
 ],
 "metadata": {
  "kernelspec": {
   "display_name": "R",
   "language": "R",
   "name": "ir"
  },
  "language_info": {
   "codemirror_mode": "r",
   "file_extension": ".r",
   "mimetype": "text/x-r-source",
   "name": "R",
   "pygments_lexer": "r",
   "version": "3.6.1"
  }
 },
 "nbformat": 4,
 "nbformat_minor": 5
}
