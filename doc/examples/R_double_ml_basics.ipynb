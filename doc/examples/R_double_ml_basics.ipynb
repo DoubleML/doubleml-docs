{
 "cells": [
  {
   "cell_type": "markdown",
   "metadata": {},
   "source": [
    "# R: Basics of Double Machine Learning\n",
    "\n",
    "**Remark**: This notebook has a long computation time due to the large number of simulations.\n",
    "\n",
    "This notebooks contains the detailed simulations according to the introduction to double machine learning in the [User Guide](https://docs.doubleml.org/stable/guide/basics.html) of the DoubleML package."
   ]
  },
  {
   "cell_type": "code",
   "execution_count": 1,
   "metadata": {
    "vscode": {
     "languageId": "r"
    }
   },
   "outputs": [],
   "source": [
    "library(data.table)\n",
    "library(ggplot2)\n",
    "library(mlr3)\n",
    "library(mlr3learners)\n",
    "library(data.table)\n",
    "library(DoubleML)\n",
    "\n",
    "lgr::get_logger(\"mlr3\")$set_threshold(\"warn\")\n",
    "options(repr.plot.width=5, repr.plot.height=4)"
   ]
  },
  {
   "cell_type": "markdown",
   "metadata": {},
   "source": [
    "## Data Generating Process (DGP)\n",
    "\n",
    "We consider the following partially linear model:\n",
    "\n",
    "$$\n",
    "\\begin{align*}\n",
    "y_i &= \\theta_0 d_i + g_0(x_i) + \\zeta_i, & \\zeta_i \\sim \\mathcal{N}(0,1), \\\\\n",
    "d_i &= m_0(x_i) + v_i, & v_i \\sim \\mathcal{N}(0,1),\n",
    "\\end{align*}\n",
    "$$\n",
    "\n",
    "with covariates $x_i \\sim \\mathcal{N}(0, \\Sigma)$, where $\\Sigma$ is a matrix with entries $\\Sigma_{kj} = 0.7^{|j-k|}$. We are interested in performing valid inference on the causal parameter $\\theta_0$. The true parameter $\\theta_0$ is set to $0.5$ in our simulation experiment.\n",
    "\n",
    "The nuisance functions are given by:\n",
    "\n",
    "$$\n",
    "\\begin{align*}\n",
    "m_0(x_i) &= x_{i,1} + \\frac{1}{4}  \\frac{\\exp(x_{i,3})}{1+\\exp(x_{i,3})}, \\\\\n",
    "g_0(x_i) &= \\frac{\\exp(x_{i,1})}{1+\\exp(x_{i,1})} + \\frac{1}{4} x_{i,3}.\n",
    "\\end{align*}\n",
    "$$"
   ]
  },
  {
   "cell_type": "markdown",
   "metadata": {},
   "source": [
    "We generate ``n_rep`` replications of the data generating process with sample size ``n_obs`` and compare the performance of different estimators."
   ]
  },
  {
   "cell_type": "code",
   "execution_count": 2,
   "metadata": {
    "vscode": {
     "languageId": "r"
    }
   },
   "outputs": [],
   "source": [
    "set.seed(1234)\n",
    "n_rep = 1000\n",
    "n_obs = 500\n",
    "n_vars = 5\n",
    "alpha = 0.5\n",
    "\n",
    "data = list()\n",
    "for (i_rep in seq_len(n_rep)) {\n",
    "    data[[i_rep]] = make_plr_CCDDHNR2018(alpha=alpha, n_obs=n_obs, dim_x=n_vars,\n",
    "                                        return_type=\"data.frame\")\n",
    "}"
   ]
  },
  {
   "cell_type": "markdown",
   "metadata": {},
   "source": [
    "## Regularization Bias in Simple ML-Approaches\n",
    "\n",
    "Naive inference that is based on a direct application of machine learning methods to estimate the causal parameter, $\\theta_0$, is generally invalid. The use of machine learning methods introduces a bias that arises due to regularization. A simple ML approach is given by randomly splitting the sample into two parts. On the auxiliary sample indexed by $i \\in I^C$ the nuisance function $g_0(X)$ is estimated with an ML method, for example a random forest learner. Given the estimate $\\hat{g}_0(X)$, the final estimate of $\\theta_0$ is obtained as ($n=N/2$) using the other half of observations indexed with $i \\in I$\n",
    "\n",
    "$$\n",
    "\\hat{\\theta}_0 = \\left(\\frac{1}{n} \\sum_{i\\in I} D_i^2\\right)^{-1} \\frac{1}{n} \\sum_{i\\in I} D_i (Y_i - \\hat{g}_0(X_i)).\n",
    "$$"
   ]
  },
  {
   "cell_type": "markdown",
   "metadata": {},
   "source": [
    "As this corresponds to a \"non-orthogonal\" score, which is not implemented in the DoubleML package, we need to define a custom callable."
   ]
  },
  {
   "cell_type": "code",
   "execution_count": 3,
   "metadata": {
    "vscode": {
     "languageId": "r"
    }
   },
   "outputs": [],
   "source": [
    "non_orth_score = function(y, d, l_hat, m_hat, g_hat, smpls) {\n",
    "u_hat = y - g_hat\n",
    "psi_a = -1*d*d\n",
    "psi_b = d*u_hat\n",
    "psis = list(psi_a = psi_a, psi_b = psi_b)\n",
    "return(psis)\n",
    "}"
   ]
  },
  {
   "cell_type": "markdown",
   "metadata": {},
   "source": [
    "Remark that the estimator is not able to estimate $\\hat{g}_0(X)$ directly, but has to be based on a preliminary estimate of $\\hat{m}_0(X)$. All following estimators with ``score=\"IV-type\"`` are based on the same preliminary procedure."
   ]
  },
  {
   "cell_type": "code",
   "execution_count": 4,
   "metadata": {
    "vscode": {
     "languageId": "r"
    }
   },
   "outputs": [
    {
     "name": "stdout",
     "output_type": "stream",
     "text": [
      "Replication 1000/1000\r"
     ]
    },
    {
     "name": "stderr",
     "output_type": "stream",
     "text": [
      "Warning message in geom_function(fun = dnorm, aes(colour = \"N(0, 1)\", fill = \"N(0, 1)\")):\n",
      "\"\u001b[1m\u001b[22mAll aesthetics have length 1, but the data has 1000 rows.\n",
      "\u001b[36mℹ\u001b[39m Did you mean to use `annotate()`?\"\n",
      "Warning message:\n",
      "\"\u001b[1m\u001b[22mRemoved 1 row containing non-finite outside the scale range (`stat_bin()`).\"\n"
     ]
    },
    {
     "data": {
      "image/png": "[encoded data removed]",
      "text/plain": [
       "plot without title"
      ]
     },
     "metadata": {
      "image/png": {
       "height": 240,
       "width": 300
      }
     },
     "output_type": "display_data"
    }
   ],
   "source": [
    "set.seed(1111)\n",
    "\n",
    "ml_l = lrn(\"regr.xgboost\", nrounds = 300, eta = 0.1)\n",
    "ml_m = lrn(\"regr.xgboost\", nrounds = 200, eta = 0.05)\n",
    "ml_g = ml_l$clone()\n",
    "\n",
    "theta_nonorth = rep(NA, n_rep)\n",
    "se_nonorth = rep(NA, n_rep)\n",
    "\n",
    "for (i_rep in seq_len(n_rep)) {\n",
    "    cat(sprintf(\"Replication %d/%d\", i_rep, n_rep), \"\\r\", sep=\"\")\n",
    "    flush.console()\n",
    "    df = data[[i_rep]]\n",
    "    obj_dml_data = double_ml_data_from_data_frame(df, y_col = \"y\", d_cols = \"d\")\n",
    "    obj_dml_plr_nonorth = DoubleMLPLR$new(obj_dml_data,\n",
    "                                        ml_l, ml_m, ml_g,\n",
    "                                        n_folds=2,\n",
    "                                        score=non_orth_score,\n",
    "                                        apply_cross_fitting=FALSE)\n",
    "    obj_dml_plr_nonorth$fit()\n",
    "    theta_nonorth[i_rep] = obj_dml_plr_nonorth$coef\n",
    "    se_nonorth[i_rep] = obj_dml_plr_nonorth$se\n",
    "}\n",
    "\n",
    "g_nonorth = ggplot(data.frame(theta_rescaled=(theta_nonorth - alpha)/se_nonorth)) +\n",
    "                geom_histogram(aes(y=after_stat(density), x=theta_rescaled, colour = \"Non-orthogonal ML\", fill=\"Non-orthogonal ML\"),\n",
    "                            bins = 30, alpha = 0.3) +\n",
    "                geom_vline(aes(xintercept = 0), col = \"black\") +\n",
    "                suppressWarnings(geom_function(fun = dnorm, aes(colour = \"N(0, 1)\", fill=\"N(0, 1)\"))) +\n",
    "                scale_color_manual(name='',\n",
    "                    breaks=c(\"Non-orthogonal ML\", \"N(0, 1)\"),\n",
    "                    values=c(\"Non-orthogonal ML\"=\"dark blue\", \"N(0, 1)\"='black')) +\n",
    "                scale_fill_manual(name='',\n",
    "                    breaks=c(\"Non-orthogonal ML\", \"N(0, 1)\"),\n",
    "                    values=c(\"Non-orthogonal ML\"=\"dark blue\", \"N(0, 1)\"=NA)) +\n",
    "                xlim(c(-6.0, 6.0)) + xlab(\"\") + ylab(\"\") + theme_minimal()\n",
    "\n",
    "g_nonorth"
   ]
  },
  {
   "cell_type": "markdown",
   "metadata": {},
   "source": [
    "The regularization bias in the simple ML-approach is caused by the slow convergence of $\\hat{\\theta}_0$\n",
    "\n",
    "$$\n",
    "|\\sqrt{n} (\\hat{\\theta}_0 - \\theta_0) | \\rightarrow_{P} \\infty\n",
    "$$\n",
    "\n",
    "i.e., slower than $1/\\sqrt{n}$.\n",
    "The driving factor is the bias that arises by learning $g$ with a random forest or any other ML technique.\n",
    "A heuristic illustration is given by\n",
    "\n",
    "$$\n",
    "\\sqrt{n}(\\hat{\\theta}_0 - \\theta_0) = \\underbrace{\\left(\\frac{1}{n} \\sum_{i\\in I} D_i^2\\right)^{-1} \\frac{1}{n} \\sum_{i\\in I} D_i \\zeta_i}_{=:a}\n",
    "+  \\underbrace{\\left(\\frac{1}{n} \\sum_{i\\in I} D_i^2\\right)^{-1} \\frac{1}{n} \\sum_{i\\in I} D_i (g_0(X_i) - \\hat{g}_0(X_i))}_{=:b}.\n",
    "$$\n",
    "\n",
    "$a$ is approximately Gaussian under mild conditions.\n",
    "However, $b$ (the regularization bias) diverges in general."
   ]
  },
  {
   "cell_type": "markdown",
   "metadata": {},
   "source": [
    "## Overcoming regularization bias by orthogonalization\n",
    "\n",
    "To overcome the regularization bias we can partial out the effect of $X$ from $D$ to obtain the orthogonalized regressor $V = D - m(X)$. We then use the final estimate\n",
    "\n",
    "$$\n",
    "\\check{\\theta}_0 = \\left(\\frac{1}{n} \\sum_{i\\in I} \\hat{V}_i D_i\\right)^{-1} \\frac{1}{n} \\sum_{i\\in I} \\hat{V}_i (Y_i - \\hat{g}_0(X_i)).\n",
    "$$\n",
    "\n",
    "The following figure shows the distribution of the resulting estimates $\\hat{\\theta}_0$ without sample-splitting. Again, we are using external predictions to avoid cross-fitting (for demonstration purposes)."
   ]
  },
  {
   "cell_type": "code",
   "execution_count": 5,
   "metadata": {
    "vscode": {
     "languageId": "r"
    }
   },
   "outputs": [
    {
     "name": "stdout",
     "output_type": "stream",
     "text": [
      "Replication 1/1000\r"
     ]
    },
    {
     "name": "stdout",
     "output_type": "stream",
     "text": [
      "Replication 1000/1000\r"
     ]
    },
    {
     "name": "stderr",
     "output_type": "stream",
     "text": [
      "Warning message:\n",
      "\"\u001b[1m\u001b[22mRemoved 1000 rows containing non-finite outside the scale range (`stat_bin()`).\"\n"
     ]
    },
    {
     "data": {
      "image/png": "[encoded data removed]",
      "text/plain": [
       "plot without title"
      ]
     },
     "metadata": {
      "image/png": {
       "height": 240,
       "width": 300
      }
     },
     "output_type": "display_data"
    }
   ],
   "source": [
    "set.seed(2222)\n",
    "\n",
    "theta_orth_nosplit = rep(NA, n_rep)\n",
    "se_orth_nosplit = rep(NA, n_rep)\n",
    "\n",
    "for (i_rep in seq_len(n_rep)){\n",
    "    cat(sprintf(\"Replication %d/%d\", i_rep, n_rep), \"\\r\", sep=\"\")\n",
    "    flush.console()\n",
    "    df = data[[i_rep]]\n",
    "    obj_dml_data = double_ml_data_from_data_frame(df, y_col = \"y\", d_cols = \"d\")\n",
    "    obj_dml_plr_orth_nosplit = DoubleMLPLR$new(obj_dml_data,\n",
    "                                        ml_l, ml_m, ml_g,\n",
    "                                        n_folds=1,\n",
    "                                        score='IV-type',\n",
    "                                        apply_cross_fitting=FALSE)\n",
    "    obj_dml_plr_orth_nosplit$fit()\n",
    "    theta_orth_nosplit[i_rep] = obj_dml_plr_orth_nosplit$coef\n",
    "    se_orth_nosplit[i_rep] = obj_dml_plr_orth_nosplit$se\n",
    "}\n",
    "\n",
    "g_nosplit = ggplot(data.frame(theta_rescaled=(theta_orth_nosplit - alpha)/se_orth_nosplit), aes(x = theta_rescaled)) +\n",
    "                geom_histogram(aes(y=after_stat(density), x=theta_rescaled, colour = \"Double ML (no sample splitting)\", fill=\"Double ML (no sample splitting)\"),\n",
    "                            bins = 30, alpha = 0.3) +\n",
    "                geom_vline(aes(xintercept = 0), col = \"black\") +\n",
    "                suppressWarnings(geom_function(fun = dnorm, aes(colour = \"N(0, 1)\", fill=\"N(0, 1)\"))) +\n",
    "                scale_color_manual(name='',\n",
    "                    breaks=c(\"Double ML (no sample splitting)\", \"N(0, 1)\"),\n",
    "                    values=c(\"Double ML (no sample splitting)\"=\"dark orange\", \"N(0, 1)\"='black')) +\n",
    "                scale_fill_manual(name='',\n",
    "                    breaks=c(\"Double ML (no sample splitting)\", \"N(0, 1)\"),\n",
    "                    values=c(\"Double ML (no sample splitting)\"=\"dark orange\", \"N(0, 1)\"=NA)) +\n",
    "                xlim(c(-6.0, 6.0)) + xlab(\"\") + ylab(\"\") + theme_minimal()\n",
    "\n",
    "g_nosplit"
   ]
  },
  {
   "cell_type": "markdown",
   "metadata": {},
   "source": [
    "If the nuisance models $\\hat{g}_0()$ and $\\hat{m}()$ are estimated on the whole dataset, which is also used for obtaining the final estimate $\\check{\\theta}_0$, another bias is observed.\n",
    "\n",
    "## Sample splitting to remove bias induced by overfitting\n",
    "\n",
    "Using sample splitting, i.e., estimate the nuisance models $\\hat{g}_0()$ and $\\hat{m}()$ on one part of the data (training data) and estimate $\\check{\\theta}_0$ on the other part of the data (test data), overcomes the bias induced by overfitting. We can exploit the benefits of cross-fitting by switching the role of the training and test sample. Cross-fitting performs well empirically because the entire sample can be used for estimation.\n",
    "\n",
    "The following figure shows the distribution of the resulting estimates $\\hat{\\theta}_0$ with orthogonal score and sample-splitting."
   ]
  },
  {
   "cell_type": "code",
   "execution_count": 6,
   "metadata": {
    "vscode": {
     "languageId": "r"
    }
   },
   "outputs": [
    {
     "name": "stdout",
     "output_type": "stream",
     "text": [
      "Replication 1/1000\r"
     ]
    },
    {
     "name": "stdout",
     "output_type": "stream",
     "text": [
      "Replication 1000/1000\r"
     ]
    },
    {
     "data": {
      "image/png": "[encoded data removed]",
      "text/plain": [
       "plot without title"
      ]
     },
     "metadata": {
      "image/png": {
       "height": 240,
       "width": 300
      }
     },
     "output_type": "display_data"
    }
   ],
   "source": [
    "set.seed(3333)\n",
    "\n",
    "theta_dml = rep(NA, n_rep)\n",
    "se_dml = rep(NA, n_rep)\n",
    "\n",
    "for (i_rep in seq_len(n_rep)) {\n",
    "    cat(sprintf(\"Replication %d/%d\", i_rep, n_rep), \"\\r\", sep=\"\")\n",
    "    flush.console()\n",
    "    df = data[[i_rep]]\n",
    "    obj_dml_data = double_ml_data_from_data_frame(df, y_col = \"y\", d_cols = \"d\")\n",
    "    obj_dml_plr = DoubleMLPLR$new(obj_dml_data,\n",
    "                                ml_l, ml_m, ml_g,\n",
    "                                n_folds=2,\n",
    "                                score='IV-type')\n",
    "    obj_dml_plr$fit()\n",
    "    theta_dml[i_rep] = obj_dml_plr$coef\n",
    "    se_dml[i_rep] = obj_dml_plr$se\n",
    "}\n",
    "\n",
    "g_dml = ggplot(data.frame(theta_rescaled=(theta_dml - alpha)/se_dml), aes(x = theta_rescaled)) +\n",
    "                geom_histogram(aes(y=after_stat(density), x=theta_rescaled, colour = \"Double ML with cross-fitting\", fill=\"Double ML with cross-fitting\"),\n",
    "                            bins = 30, alpha = 0.3) +\n",
    "                geom_vline(aes(xintercept = 0), col = \"black\") +\n",
    "                suppressWarnings(geom_function(fun = dnorm, aes(colour = \"N(0, 1)\", fill=\"N(0, 1)\"))) +\n",
    "                scale_color_manual(name='',\n",
    "                    breaks=c(\"Double ML with cross-fitting\", \"N(0, 1)\"),\n",
    "                    values=c(\"Double ML with cross-fitting\"=\"dark green\", \"N(0, 1)\"='black')) +\n",
    "                scale_fill_manual(name='',\n",
    "                    breaks=c(\"Double ML with cross-fitting\", \"N(0, 1)\"),\n",
    "                    values=c(\"Double ML with cross-fitting\"=\"dark green\", \"N(0, 1)\"=NA)) +\n",
    "                xlim(c(-6.0, 6.0)) + xlab(\"\") + ylab(\"\") + theme_minimal()\n",
    "\n",
    "g_dml"
   ]
  },
  {
   "cell_type": "markdown",
   "metadata": {},
   "source": [
    "## Double/debiased machine learning\n",
    "\n",
    "To illustrate the benefits of the auxiliary prediction step in the DML framework we write the error as\n",
    "\n",
    "$$\n",
    "\\sqrt{n}(\\check{\\theta}_0 - \\theta_0) = a^* + b^* + c^*\n",
    "$$\n",
    "\n",
    "Chernozhukov et al. (2018) argues that:\n",
    "\n",
    "The first term\n",
    "\n",
    "$$\n",
    "a^* := (EV^2)^{-1} \\frac{1}{\\sqrt{n}} \\sum_{i\\in I} V_i \\zeta_i\n",
    "$$\n",
    "\n",
    "will be asymptotically normally distributed.\n",
    "\n",
    "The second term\n",
    "\n",
    "$$\n",
    "b^* := (EV^2)^{-1} \\frac{1}{\\sqrt{n}} \\sum_{i\\in I} (\\hat{m}(X_i) - m(X_i)) (\\hat{g}_0(X_i) - g_0(X_i))\n",
    "$$\n",
    "\n",
    "vanishes asymptotically for many data generating processes.\n",
    "\n",
    "The third term $c^*$ vanishes in probability if sample splitting is applied. Finally, let us compare all distributions."
   ]
  },
  {
   "cell_type": "code",
   "execution_count": 7,
   "metadata": {
    "tags": [
     "nbsphinx-thumbnail"
    ],
    "vscode": {
     "languageId": "r"
    }
   },
   "outputs": [
    {
     "name": "stderr",
     "output_type": "stream",
     "text": [
      "Warning message in geom_function(fun = dnorm, aes(colour = \"N(0, 1)\", fill = \"N(0, 1)\")):\n",
      "\"\u001b[1m\u001b[22mAll aesthetics have length 1, but the data has 1000 rows.\n",
      "\u001b[36mℹ\u001b[39m Did you mean to use `annotate()`?\"\n"
     ]
    },
    {
     "name": "stderr",
     "output_type": "stream",
     "text": [
      "Warning message:\n",
      "\"\u001b[1m\u001b[22mRemoved 1 row containing non-finite outside the scale range (`stat_bin()`).\"\n",
      "Warning message:\n",
      "\"\u001b[1m\u001b[22mRemoved 1000 rows containing non-finite outside the scale range (`stat_bin()`).\"\n"
     ]
    },
    {
     "data": {
      "image/png": "[encoded data removed]",
      "text/plain": [
       "plot without title"
      ]
     },
     "metadata": {
      "image/png": {
       "height": 240,
       "width": 300
      }
     },
     "output_type": "display_data"
    }
   ],
   "source": [
    "g_all = ggplot(data.frame(t_nonorth=(theta_nonorth - alpha)/se_nonorth,\n",
    "                        t_orth_nosplit=(theta_orth_nosplit - alpha)/se_orth_nosplit,\n",
    "                        t_dml=(theta_dml - alpha)/se_dml)) +\n",
    "                geom_histogram(aes(x = t_nonorth, y=after_stat(density), colour = \"Non-orthogonal ML\", fill=\"Non-orthogonal ML\"),\n",
    "                                bins = 30, alpha = 0.3) +\n",
    "                geom_histogram(aes(x = t_orth_nosplit, y=after_stat(density), colour = \"Double ML (no sample splitting)\", fill=\"Double ML (no sample splitting)\"),\n",
    "                                bins = 30, alpha = 0.3) +\n",
    "                geom_histogram(aes(x = t_dml, y=after_stat(density), colour = \"Double ML with cross-fitting\", fill=\"Double ML with cross-fitting\"),\n",
    "                                bins = 30, alpha = 0.3) +\n",
    "                geom_vline(aes(xintercept = 0), col = \"black\") +\n",
    "                suppressWarnings(geom_function(fun = dnorm, aes(colour = \"N(0, 1)\", fill=\"N(0, 1)\"))) +\n",
    "                scale_color_manual(name='',\n",
    "                    breaks=c(\"Non-orthogonal ML\", \"Double ML (no sample splitting)\", \"Double ML with cross-fitting\", \"N(0, 1)\"),\n",
    "                    values=c(\"Non-orthogonal ML\"=\"dark blue\",\n",
    "                            \"Double ML (no sample splitting)\"=\"dark orange\",\n",
    "                            \"Double ML with cross-fitting\"=\"dark green\",\n",
    "                            \"N(0, 1)\"='black')) +\n",
    "                scale_fill_manual(name='',\n",
    "                    breaks=c(\"Non-orthogonal ML\", \"Double ML (no sample splitting)\", \"Double ML with cross-fitting\", \"N(0, 1)\"),\n",
    "                    values=c(\"Non-orthogonal ML\"=\"dark blue\",\n",
    "                            \"Double ML (no sample splitting)\"=\"dark orange\",\n",
    "                            \"Double ML with cross-fitting\"=\"dark green\",\n",
    "                            \"N(0, 1)\"=NA)) +\n",
    "            xlim(c(-6.0, 6.0)) + xlab(\"\") + ylab(\"\") + theme_minimal()\n",
    "\n",
    "print(g_all)"
   ]
  },
  {
   "cell_type": "markdown",
   "metadata": {},
   "source": [
    "## Partialling out score\n",
    "\n",
    "Another debiased estimator, based on the partialling-out approach of Robinson(1988), is\n",
    "\n",
    "$$\n",
    "\\check{\\theta}_0 = \\left(\\frac{1}{n} \\sum_{i\\in I} \\hat{V}_i \\hat{V}_i \\right)^{-1} \\frac{1}{n} \\sum_{i\\in I} \\hat{V}_i (Y_i - \\hat{\\ell}_0(X_i)),\n",
    "$$\n",
    "\n",
    "with $\\ell_0(X_i) = E(Y|X)$.\n",
    "All nuisance parameters for the estimator with `score='partialling out'` are conditional mean functions, which can be directly estimated using ML methods. This is a minor advantage over the estimator with `score='IV-type'`.\n",
    "In the following, we repeat the above analysis with `score='partialling out'`. In a first part of the analysis, we estimate $\\theta_0$ without sample splitting. Again we observe a bias from overfitting.\n",
    "\n",
    "The following figure shows the distribution of the resulting estimates $\\hat{\\theta}_0$ without sample-splitting."
   ]
  },
  {
   "cell_type": "code",
   "execution_count": 8,
   "metadata": {
    "vscode": {
     "languageId": "r"
    }
   },
   "outputs": [
    {
     "name": "stdout",
     "output_type": "stream",
     "text": [
      "Replication 1/1000\r"
     ]
    },
    {
     "name": "stdout",
     "output_type": "stream",
     "text": [
      "Replication 1000/1000\r"
     ]
    },
    {
     "name": "stderr",
     "output_type": "stream",
     "text": [
      "Warning message:\n",
      "\"\u001b[1m\u001b[22mRemoved 1000 rows containing non-finite outside the scale range (`stat_bin()`).\"\n"
     ]
    },
    {
     "data": {
      "image/png": "[encoded data removed]",
      "text/plain": [
       "plot without title"
      ]
     },
     "metadata": {
      "image/png": {
       "height": 240,
       "width": 300
      }
     },
     "output_type": "display_data"
    }
   ],
   "source": [
    "set.seed(4444)\n",
    "\n",
    "theta_orth_po_nosplit = rep(NA, n_rep)\n",
    "se_orth_po_nosplit = rep(NA, n_rep)\n",
    "\n",
    "for (i_rep in seq_len(n_rep)){\n",
    "    cat(sprintf(\"Replication %d/%d\", i_rep, n_rep), \"\\r\", sep=\"\")\n",
    "    flush.console()\n",
    "    df = data[[i_rep]]\n",
    "    obj_dml_data = double_ml_data_from_data_frame(df, y_col = \"y\", d_cols = \"d\")\n",
    "    obj_dml_plr_orth_nosplit = DoubleMLPLR$new(obj_dml_data,\n",
    "                                            ml_l, ml_m,\n",
    "                                            n_folds=1,\n",
    "                                            score='partialling out',\n",
    "                                            apply_cross_fitting=FALSE)\n",
    "    obj_dml_plr_orth_nosplit$fit()\n",
    "    theta_orth_po_nosplit[i_rep] = obj_dml_plr_orth_nosplit$coef\n",
    "    se_orth_po_nosplit[i_rep] = obj_dml_plr_orth_nosplit$se\n",
    "}\n",
    "\n",
    "g_nosplit_po = ggplot(data.frame(theta_rescaled=(theta_orth_po_nosplit - alpha)/se_orth_po_nosplit), aes(x = theta_rescaled)) +\n",
    "                geom_histogram(aes(y=after_stat(density), x=theta_rescaled, colour = \"Double ML (no sample splitting)\", fill=\"Double ML (no sample splitting)\"),\n",
    "                            bins = 30, alpha = 0.3) +\n",
    "                geom_vline(aes(xintercept = 0), col = \"black\") +\n",
    "                suppressWarnings(geom_function(fun = dnorm, aes(colour = \"N(0, 1)\", fill=\"N(0, 1)\"))) +\n",
    "                scale_color_manual(name='',\n",
    "                    breaks=c(\"Double ML (no sample splitting)\", \"N(0, 1)\"),\n",
    "                    values=c(\"Double ML (no sample splitting)\"=\"dark orange\", \"N(0, 1)\"='black')) +\n",
    "                scale_fill_manual(name='',,\n",
    "                    breaks=c(\"Double ML (no sample splitting)\", \"N(0, 1)\"),\n",
    "                    values=c(\"Double ML (no sample splitting)\"=\"dark orange\", \"N(0, 1)\"=NA)) +\n",
    "                xlim(c(-6.0, 6.0)) + xlab(\"\") + ylab(\"\") + theme_minimal()\n",
    "g_nosplit_po"
   ]
  },
  {
   "cell_type": "markdown",
   "metadata": {},
   "source": [
    "Using sample splitting, overcomes the bias induced by overfitting.\n",
    "Again, the implementation automatically applies cross-fitting."
   ]
  },
  {
   "cell_type": "code",
   "execution_count": 9,
   "metadata": {
    "vscode": {
     "languageId": "r"
    }
   },
   "outputs": [
    {
     "name": "stdout",
     "output_type": "stream",
     "text": [
      "Replication 1/1000\r"
     ]
    },
    {
     "name": "stdout",
     "output_type": "stream",
     "text": [
      "Replication 1000/1000\r"
     ]
    },
    {
     "data": {
      "image/png": "[encoded data removed]",
      "text/plain": [
       "plot without title"
      ]
     },
     "metadata": {
      "image/png": {
       "height": 240,
       "width": 300
      }
     },
     "output_type": "display_data"
    }
   ],
   "source": [
    "set.seed(5555)\n",
    "\n",
    "theta_dml_po = rep(NA, n_rep)\n",
    "se_dml_po = rep(NA, n_rep)\n",
    "\n",
    "for (i_rep in seq_len(n_rep)) {\n",
    "    cat(sprintf(\"Replication %d/%d\", i_rep, n_rep), \"\\r\", sep=\"\")\n",
    "    flush.console()\n",
    "    df = data[[i_rep]]\n",
    "    obj_dml_data = double_ml_data_from_data_frame(df, y_col = \"y\", d_cols = \"d\")\n",
    "    obj_dml_plr = DoubleMLPLR$new(obj_dml_data,\n",
    "                                ml_l, ml_m,\n",
    "                                n_folds=2,\n",
    "                                score='partialling out')\n",
    "    obj_dml_plr$fit()\n",
    "    theta_dml_po[i_rep] = obj_dml_plr$coef\n",
    "    se_dml_po[i_rep] = obj_dml_plr$se\n",
    "}\n",
    "\n",
    "g_dml_po = ggplot(data.frame(theta_rescaled=(theta_dml_po - alpha)/se_dml_po), aes(x = theta_rescaled)) +\n",
    "                geom_histogram(aes(y=after_stat(density), x=theta_rescaled, colour = \"Double ML with cross-fitting\", fill=\"Double ML with cross-fitting\"),\n",
    "                            bins = 30, alpha = 0.3) +\n",
    "                geom_vline(aes(xintercept = 0), col = \"black\") +\n",
    "                suppressWarnings(geom_function(fun = dnorm, aes(colour = \"N(0, 1)\", fill=\"N(0, 1)\"))) +\n",
    "                scale_color_manual(name='',\n",
    "                    breaks=c(\"Double ML with cross-fitting\", \"N(0, 1)\"),\n",
    "                    values=c(\"Double ML with cross-fitting\"=\"dark green\", \"N(0, 1)\"='black')) +\n",
    "                scale_fill_manual(name='',,\n",
    "                    breaks=c(\"Double ML with cross-fitting\", \"N(0, 1)\"),\n",
    "                    values=c(\"Double ML with cross-fitting\"=\"dark green\", \"N(0, 1)\"=NA)) +\n",
    "                xlim(c(-6.0, 6.0)) + xlab(\"\") + ylab(\"\") + theme_minimal()\n",
    "g_dml_po"
   ]
  },
  {
   "cell_type": "markdown",
   "metadata": {},
   "source": [
    "Finally, let us compare all distributions."
   ]
  },
  {
   "cell_type": "code",
   "execution_count": 10,
   "metadata": {
    "vscode": {
     "languageId": "r"
    }
   },
   "outputs": [
    {
     "name": "stderr",
     "output_type": "stream",
     "text": [
      "Warning message in geom_function(fun = dnorm, aes(colour = \"N(0, 1)\", fill = \"N(0, 1)\")):\n",
      "\"\u001b[1m\u001b[22mAll aesthetics have length 1, but the data has 1000 rows.\n",
      "\u001b[36mℹ\u001b[39m Did you mean to use `annotate()`?\"\n"
     ]
    },
    {
     "name": "stderr",
     "output_type": "stream",
     "text": [
      "Warning message:\n",
      "\"\u001b[1m\u001b[22mRemoved 1 row containing non-finite outside the scale range (`stat_bin()`).\"\n",
      "Warning message:\n",
      "\"\u001b[1m\u001b[22mRemoved 1000 rows containing non-finite outside the scale range (`stat_bin()`).\"\n"
     ]
    },
    {
     "data": {
      "image/png": "[encoded data removed]",
      "text/plain": [
       "plot without title"
      ]
     },
     "metadata": {
      "image/png": {
       "height": 240,
       "width": 300
      }
     },
     "output_type": "display_data"
    }
   ],
   "source": [
    "g_all_po = ggplot(data.frame(t_nonorth=(theta_nonorth - alpha)/se_nonorth,\n",
    "                        t_orth_nosplit=(theta_orth_po_nosplit - alpha)/se_orth_po_nosplit,\n",
    "                        t_dml=(theta_dml_po - alpha)/se_dml_po)) +\n",
    "                geom_histogram(aes(x = t_nonorth, y=after_stat(density), colour = \"Non-orthogonal ML\", fill=\"Non-orthogonal ML\"),\n",
    "                                bins = 30, alpha = 0.3) +\n",
    "                geom_histogram(aes(x = t_orth_nosplit, y=after_stat(density), colour = \"Double ML (no sample splitting)\", fill=\"Double ML (no sample splitting)\"),\n",
    "                                bins = 30, alpha = 0.3) +\n",
    "                geom_histogram(aes(x = t_dml, y=after_stat(density), colour = \"Double ML with cross-fitting\", fill=\"Double ML with cross-fitting\"),\n",
    "                                bins = 30, alpha = 0.3) +\n",
    "                geom_vline(aes(xintercept = 0), col = \"black\") +\n",
    "                suppressWarnings(geom_function(fun = dnorm, aes(colour = \"N(0, 1)\", fill=\"N(0, 1)\"))) +\n",
    "                scale_color_manual(name='',\n",
    "                    breaks=c(\"Non-orthogonal ML\", \"Double ML (no sample splitting)\", \"Double ML with cross-fitting\", \"N(0, 1)\"),\n",
    "                    values=c(\"Non-orthogonal ML\"=\"dark blue\",\n",
    "                            \"Double ML (no sample splitting)\"=\"dark orange\",\n",
    "                            \"Double ML with cross-fitting\"=\"dark green\",\n",
    "                            \"N(0, 1)\"='black')) +\n",
    "                scale_fill_manual(name='',\n",
    "                    breaks=c(\"Non-orthogonal ML\", \"Double ML (no sample splitting)\", \"Double ML with cross-fitting\", \"N(0, 1)\"),\n",
    "                    values=c(\"Non-orthogonal ML\"=\"dark blue\",\n",
    "                            \"Double ML (no sample splitting)\"=\"dark orange\",\n",
    "                            \"Double ML with cross-fitting\"=\"dark green\",\n",
    "                            \"N(0, 1)\"=NA)) +\n",
    "            xlim(c(-6.0, 6.0)) + xlab(\"\") + ylab(\"\") + theme_minimal()\n",
    "g_all_po"
   ]
  },
  {
   "cell_type": "code",
   "execution_count": 11,
   "metadata": {
    "vscode": {
     "languageId": "r"
    }
   },
   "outputs": [
    {
     "name": "stderr",
     "output_type": "stream",
     "text": [
      "Warning message in geom_function(fun = dnorm, aes(colour = \"N(0, 1)\", fill = \"N(0, 1)\")):\n",
      "\"\u001b[1m\u001b[22mAll aesthetics have length 1, but the data has 1000 rows.\n",
      "\u001b[36mℹ\u001b[39m Did you mean to use `annotate()`?\"\n",
      "Warning message:\n",
      "\"\u001b[1m\u001b[22mRemoved 1 row containing non-finite outside the scale range (`stat_bin()`).\"\n",
      "Warning message:\n",
      "\"\u001b[1m\u001b[22mRemoved 1000 rows containing non-finite outside the scale range (`stat_bin()`).\"\n",
      "Warning message in geom_function(fun = dnorm, aes(colour = \"N(0, 1)\", fill = \"N(0, 1)\")):\n",
      "\"\u001b[1m\u001b[22mAll aesthetics have length 1, but the data has 1000 rows.\n",
      "\u001b[36mℹ\u001b[39m Did you mean to use `annotate()`?\"\n",
      "Warning message:\n",
      "\"\u001b[1m\u001b[22mRemoved 1 row containing non-finite outside the scale range (`stat_bin()`).\"\n",
      "Warning message:\n",
      "\"\u001b[1m\u001b[22mRemoved 1000 rows containing non-finite outside the scale range (`stat_bin()`).\"\n",
      "Warning message:\n",
      "\"\u001b[1m\u001b[22mRemoved 1000 rows containing non-finite outside the scale range (`stat_bin()`).\"\n",
      "Warning message in geom_function(fun = dnorm, aes(colour = \"N(0, 1)\", fill = \"N(0, 1)\")):\n",
      "\"\u001b[1m\u001b[22mAll aesthetics have length 1, but the data has 1000 rows.\n",
      "\u001b[36mℹ\u001b[39m Did you mean to use `annotate()`?\"\n",
      "Warning message:\n",
      "\"\u001b[1m\u001b[22mRemoved 1 row containing non-finite outside the scale range (`stat_bin()`).\"\n",
      "Warning message:\n",
      "\"\u001b[1m\u001b[22mRemoved 1000 rows containing non-finite outside the scale range (`stat_bin()`).\"\n"
     ]
    }
   ],
   "source": [
    "# save all plots\n",
    "ggsave(filename = \"../guide/figures/r_non_orthogonal.svg\", plot = g_nonorth, dpi = 300, units = \"in\", width = 6, height = 4)\n",
    "ggsave(filename = \"../guide/figures/r_dml_nosplit.svg\", plot = g_nosplit, dpi = 300, units = \"in\", width = 6, height = 4)\n",
    "ggsave(filename = \"../guide/figures/r_dml.svg\", plot = g_dml, dpi = 300, units = \"in\", width = 6, height = 4)\n",
    "ggsave(filename = \"../guide/figures/r_all.svg\", plot = g_all, dpi = 300, units = \"in\", width = 6, height = 4)\n",
    "\n",
    "ggsave(filename = \"../guide/figures/r_dml_po_nosplit.svg\", plot = g_nosplit_po, dpi = 300, units = \"in\", width = 6, height = 4)\n",
    "ggsave(filename = \"../guide/figures/r_dml_po.svg\", plot = g_dml_po, dpi = 300, units = \"in\", width = 6, height = 4)\n",
    "ggsave(filename = \"../guide/figures/r_po_all.svg\", plot = g_all_po, dpi = 300, units = \"in\", width = 6, height = 4)"
   ]
  }
 ],
 "metadata": {
  "kernelspec": {
   "display_name": "R",
   "language": "R",
   "name": "ir"
  },
  "language_info": {
   "codemirror_mode": "r",
   "file_extension": ".r",
   "mimetype": "text/x-r-source",
   "name": "R",
   "pygments_lexer": "r",
   "version": "4.3.3"
  }
 },
 "nbformat": 4,
 "nbformat_minor": 2
}
