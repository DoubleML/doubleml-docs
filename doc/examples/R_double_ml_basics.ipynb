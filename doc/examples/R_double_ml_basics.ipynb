{
 "cells": [
  {
   "cell_type": "markdown",
   "metadata": {},
   "source": [
    "# R: Basics of Double Machine Learning\n",
    "\n",
    "**Remark**: This notebook has a long computation time due to the large number of simulations.\n",
    "\n",
    "This notebooks contains the detailed simulations according to the introduction to double machine learning in the [User Guide](https://docs.doubleml.org/stable/guide/basics.html) of the DoubleML package."
   ]
  },
  {
   "cell_type": "code",
   "execution_count": 27,
   "metadata": {
    "vscode": {
     "languageId": "r"
    }
   },
   "outputs": [],
   "source": [
    "library(data.table)\n",
    "library(ggplot2)\n",
    "library(mlr3)\n",
    "library(mlr3learners)\n",
    "library(data.table)\n",
    "library(DoubleML)\n",
    "\n",
    "lgr::get_logger(\"mlr3\")$set_threshold(\"warn\")\n",
    "options(repr.plot.width=5, repr.plot.height=4)"
   ]
  },
  {
   "cell_type": "code",
   "execution_count": 28,
   "metadata": {
    "vscode": {
     "languageId": "r"
    }
   },
   "outputs": [],
   "source": [
    "set.seed(1234)\n",
    "n_rep = 1000\n",
    "n_obs = 500\n",
    "n_vars = 5\n",
    "alpha = 0.5\n",
    "\n",
    "data = list()\n",
    "for (i_rep in seq_len(n_rep)) {\n",
    "    data[[i_rep]] = make_plr_CCDDHNR2018(alpha=alpha, n_obs=n_obs, dim_x=n_vars,\n",
    "                                        return_type=\"data.frame\")\n",
    "}"
   ]
  },
  {
   "cell_type": "code",
   "execution_count": 29,
   "metadata": {
    "vscode": {
     "languageId": "r"
    }
   },
   "outputs": [],
   "source": [
    "non_orth_score = function(y, d, l_hat, m_hat, g_hat, smpls) {\n",
    "u_hat = y - g_hat\n",
    "psi_a = -1*d*d\n",
    "psi_b = d*u_hat\n",
    "psis = list(psi_a = psi_a, psi_b = psi_b)\n",
    "return(psis)\n",
    "}"
   ]
  },
  {
   "cell_type": "code",
   "execution_count": 30,
   "metadata": {
    "vscode": {
     "languageId": "r"
    }
   },
   "outputs": [
    {
     "name": "stdout",
     "output_type": "stream",
     "text": [
      "Replication 1000/1000\r"
     ]
    },
    {
     "name": "stderr",
     "output_type": "stream",
     "text": [
      "Warning message in geom_function(fun = dnorm, aes(colour = \"N(0, 1)\", fill = \"N(0, 1)\")):\n",
      "\"\u001b[1m\u001b[22mAll aesthetics have length 1, but the data has 1000 rows.\n",
      "\u001b[36mℹ\u001b[39m Did you mean to use `annotate()`?\"\n"
     ]
    },
    {
     "data": {
      "image/png": "[encoded data removed]",
      "text/plain": [
       "plot without title"
      ]
     },
     "metadata": {
      "image/png": {
       "height": 240,
       "width": 300
      }
     },
     "output_type": "display_data"
    }
   ],
   "source": [
    "set.seed(1111)\n",
    "\n",
    "ml_l = lrn(\"regr.xgboost\", nrounds = 50, eta = 0.1)\n",
    "ml_m = lrn(\"regr.xgboost\", nrounds = 50, eta = 0.1)\n",
    "ml_g = ml_l$clone()\n",
    "\n",
    "theta_nonorth = rep(NA, n_rep)\n",
    "se_nonorth = rep(NA, n_rep)\n",
    "\n",
    "for (i_rep in seq_len(n_rep)) {\n",
    "    cat(sprintf(\"Replication %d/%d\", i_rep, n_rep), \"\\r\", sep=\"\")\n",
    "    flush.console()\n",
    "    df = data[[i_rep]]\n",
    "    obj_dml_data = double_ml_data_from_data_frame(df, y_col = \"y\", d_cols = \"d\")\n",
    "    obj_dml_plr_nonorth = DoubleMLPLR$new(obj_dml_data,\n",
    "                                        ml_l, ml_m, ml_g,\n",
    "                                        n_folds=2,\n",
    "                                        score=non_orth_score,\n",
    "                                        apply_cross_fitting=FALSE)\n",
    "    obj_dml_plr_nonorth$fit()\n",
    "    theta_nonorth[i_rep] = obj_dml_plr_nonorth$coef\n",
    "    se_nonorth[i_rep] = obj_dml_plr_nonorth$se\n",
    "}\n",
    "\n",
    "g_nonorth = ggplot(data.frame(theta_rescaled=(theta_nonorth - alpha)/se_nonorth)) +\n",
    "                geom_histogram(aes(y=after_stat(density), x=theta_rescaled, colour = \"Non-orthogonal ML\", fill=\"Non-orthogonal ML\"),\n",
    "                            bins = 30, alpha = 0.3) +\n",
    "                geom_vline(aes(xintercept = 0), col = \"black\") +\n",
    "                suppressWarnings(geom_function(fun = dnorm, aes(colour = \"N(0, 1)\", fill=\"N(0, 1)\"))) +\n",
    "                scale_color_manual(name='',\n",
    "                    breaks=c(\"Non-orthogonal ML\", \"N(0, 1)\"),\n",
    "                    values=c(\"Non-orthogonal ML\"=\"dark blue\", \"N(0, 1)\"='black')) +\n",
    "                scale_fill_manual(name='',\n",
    "                    breaks=c(\"Non-orthogonal ML\", \"N(0, 1)\"),\n",
    "                    values=c(\"Non-orthogonal ML\"=\"dark blue\", \"N(0, 1)\"=NA)) +\n",
    "                xlim(c(-6.0, 6.0)) + xlab(\"\") + ylab(\"\") + theme_minimal()\n",
    "\n",
    "g_nonorth\n"
   ]
  },
  {
   "cell_type": "code",
   "execution_count": 31,
   "metadata": {
    "vscode": {
     "languageId": "r"
    }
   },
   "outputs": [
    {
     "name": "stdout",
     "output_type": "stream",
     "text": [
      "Replication 1/1000\r"
     ]
    },
    {
     "name": "stdout",
     "output_type": "stream",
     "text": [
      "Replication 1000/1000\r"
     ]
    },
    {
     "name": "stderr",
     "output_type": "stream",
     "text": [
      "Warning message:\n",
      "\"\u001b[1m\u001b[22mRemoved 21 rows containing non-finite outside the scale range (`stat_bin()`).\"\n"
     ]
    },
    {
     "data": {
      "image/png": "[encoded data removed]",
      "text/plain": [
       "plot without title"
      ]
     },
     "metadata": {
      "image/png": {
       "height": 240,
       "width": 300
      }
     },
     "output_type": "display_data"
    }
   ],
   "source": [
    "set.seed(2222)\n",
    "\n",
    "theta_orth_nosplit = rep(NA, n_rep)\n",
    "se_orth_nosplit = rep(NA, n_rep)\n",
    "\n",
    "for (i_rep in seq_len(n_rep)){\n",
    "    cat(sprintf(\"Replication %d/%d\", i_rep, n_rep), \"\\r\", sep=\"\")\n",
    "    flush.console()\n",
    "    df = data[[i_rep]]\n",
    "    obj_dml_data = double_ml_data_from_data_frame(df, y_col = \"y\", d_cols = \"d\")\n",
    "    obj_dml_plr_orth_nosplit = DoubleMLPLR$new(obj_dml_data,\n",
    "                                        ml_l, ml_m, ml_g,\n",
    "                                        n_folds=1,\n",
    "                                        score='IV-type',\n",
    "                                        apply_cross_fitting=FALSE)\n",
    "    obj_dml_plr_orth_nosplit$fit()\n",
    "    theta_orth_nosplit[i_rep] = obj_dml_plr_orth_nosplit$coef\n",
    "    se_orth_nosplit[i_rep] = obj_dml_plr_orth_nosplit$se\n",
    "}\n",
    "\n",
    "g_nosplit = ggplot(data.frame(theta_rescaled=(theta_orth_nosplit - alpha)/se_orth_nosplit), aes(x = theta_rescaled)) +\n",
    "                geom_histogram(aes(y=after_stat(density), x=theta_rescaled, colour = \"Double ML (no sample splitting)\", fill=\"Double ML (no sample splitting)\"),\n",
    "                            bins = 30, alpha = 0.3) +\n",
    "                geom_vline(aes(xintercept = 0), col = \"black\") +\n",
    "                suppressWarnings(geom_function(fun = dnorm, aes(colour = \"N(0, 1)\", fill=\"N(0, 1)\"))) +\n",
    "                scale_color_manual(name='',\n",
    "                    breaks=c(\"Double ML (no sample splitting)\", \"N(0, 1)\"),\n",
    "                    values=c(\"Double ML (no sample splitting)\"=\"dark orange\", \"N(0, 1)\"='black')) +\n",
    "                scale_fill_manual(name='',\n",
    "                    breaks=c(\"Double ML (no sample splitting)\", \"N(0, 1)\"),\n",
    "                    values=c(\"Double ML (no sample splitting)\"=\"dark orange\", \"N(0, 1)\"=NA)) +\n",
    "                xlim(c(-6.0, 6.0)) + xlab(\"\") + ylab(\"\") + theme_minimal()\n",
    "\n",
    "g_nosplit"
   ]
  },
  {
   "cell_type": "code",
   "execution_count": 32,
   "metadata": {
    "vscode": {
     "languageId": "r"
    }
   },
   "outputs": [
    {
     "name": "stdout",
     "output_type": "stream",
     "text": [
      "Replication 1/1000\r"
     ]
    },
    {
     "name": "stdout",
     "output_type": "stream",
     "text": [
      "Replication 1000/1000\r"
     ]
    },
    {
     "data": {
      "image/png": "[encoded data removed]",
      "text/plain": [
       "plot without title"
      ]
     },
     "metadata": {
      "image/png": {
       "height": 240,
       "width": 300
      }
     },
     "output_type": "display_data"
    }
   ],
   "source": [
    "set.seed(3333)\n",
    "\n",
    "theta_dml = rep(NA, n_rep)\n",
    "se_dml = rep(NA, n_rep)\n",
    "\n",
    "for (i_rep in seq_len(n_rep)) {\n",
    "    cat(sprintf(\"Replication %d/%d\", i_rep, n_rep), \"\\r\", sep=\"\")\n",
    "    flush.console()\n",
    "    df = data[[i_rep]]\n",
    "    obj_dml_data = double_ml_data_from_data_frame(df, y_col = \"y\", d_cols = \"d\")\n",
    "    obj_dml_plr = DoubleMLPLR$new(obj_dml_data,\n",
    "                                ml_l, ml_m, ml_g,\n",
    "                                n_folds=2,\n",
    "                                score='IV-type')\n",
    "    obj_dml_plr$fit()\n",
    "    theta_dml[i_rep] = obj_dml_plr$coef\n",
    "    se_dml[i_rep] = obj_dml_plr$se\n",
    "}\n",
    "\n",
    "g_dml = ggplot(data.frame(theta_rescaled=(theta_dml - alpha)/se_dml), aes(x = theta_rescaled)) +\n",
    "                geom_histogram(aes(y=after_stat(density), x=theta_rescaled, colour = \"Double ML with cross-fitting\", fill=\"Double ML with cross-fitting\"),\n",
    "                            bins = 30, alpha = 0.3) +\n",
    "                geom_vline(aes(xintercept = 0), col = \"black\") +\n",
    "                suppressWarnings(geom_function(fun = dnorm, aes(colour = \"N(0, 1)\", fill=\"N(0, 1)\"))) +\n",
    "                scale_color_manual(name='',\n",
    "                    breaks=c(\"Double ML with cross-fitting\", \"N(0, 1)\"),\n",
    "                    values=c(\"Double ML with cross-fitting\"=\"dark green\", \"N(0, 1)\"='black')) +\n",
    "                scale_fill_manual(name='',\n",
    "                    breaks=c(\"Double ML with cross-fitting\", \"N(0, 1)\"),\n",
    "                    values=c(\"Double ML with cross-fitting\"=\"dark green\", \"N(0, 1)\"=NA)) +\n",
    "                xlim(c(-6.0, 6.0)) + xlab(\"\") + ylab(\"\") + theme_minimal()\n",
    "\n",
    "g_dml"
   ]
  },
  {
   "cell_type": "code",
   "execution_count": 33,
   "metadata": {
    "vscode": {
     "languageId": "r"
    }
   },
   "outputs": [
    {
     "name": "stderr",
     "output_type": "stream",
     "text": [
      "Warning message in geom_function(fun = dnorm, aes(colour = \"N(0, 1)\", fill = \"N(0, 1)\")):\n",
      "\"\u001b[1m\u001b[22mAll aesthetics have length 1, but the data has 1000 rows.\n",
      "\u001b[36mℹ\u001b[39m Did you mean to use `annotate()`?\"\n"
     ]
    },
    {
     "name": "stderr",
     "output_type": "stream",
     "text": [
      "Warning message:\n",
      "\"\u001b[1m\u001b[22mRemoved 21 rows containing non-finite outside the scale range (`stat_bin()`).\"\n"
     ]
    },
    {
     "data": {
      "image/png": "[encoded data removed]",
      "text/plain": [
       "plot without title"
      ]
     },
     "metadata": {
      "image/png": {
       "height": 240,
       "width": 300
      }
     },
     "output_type": "display_data"
    }
   ],
   "source": [
    "g_all = ggplot(data.frame(t_nonorth=(theta_nonorth - alpha)/se_nonorth,\n",
    "                        t_orth_nosplit=(theta_orth_nosplit - alpha)/se_orth_nosplit,\n",
    "                        t_dml=(theta_dml - alpha)/se_dml)) +\n",
    "                geom_histogram(aes(x = t_nonorth, y=after_stat(density), colour = \"Non-orthogonal ML\", fill=\"Non-orthogonal ML\"),\n",
    "                                bins = 30, alpha = 0.3) +\n",
    "                geom_histogram(aes(x = t_orth_nosplit, y=after_stat(density), colour = \"Double ML (no sample splitting)\", fill=\"Double ML (no sample splitting)\"),\n",
    "                                bins = 30, alpha = 0.3) +\n",
    "                geom_histogram(aes(x = t_dml, y=after_stat(density), colour = \"Double ML with cross-fitting\", fill=\"Double ML with cross-fitting\"),\n",
    "                                bins = 30, alpha = 0.3) +\n",
    "                geom_vline(aes(xintercept = 0), col = \"black\") +\n",
    "                suppressWarnings(geom_function(fun = dnorm, aes(colour = \"N(0, 1)\", fill=\"N(0, 1)\"))) +\n",
    "                scale_color_manual(name='',\n",
    "                    breaks=c(\"Non-orthogonal ML\", \"Double ML (no sample splitting)\", \"Double ML with cross-fitting\", \"N(0, 1)\"),\n",
    "                    values=c(\"Non-orthogonal ML\"=\"dark blue\",\n",
    "                            \"Double ML (no sample splitting)\"=\"dark orange\",\n",
    "                            \"Double ML with cross-fitting\"=\"dark green\",\n",
    "                            \"N(0, 1)\"='black')) +\n",
    "                scale_fill_manual(name='',\n",
    "                    breaks=c(\"Non-orthogonal ML\", \"Double ML (no sample splitting)\", \"Double ML with cross-fitting\", \"N(0, 1)\"),\n",
    "                    values=c(\"Non-orthogonal ML\"=\"dark blue\",\n",
    "                            \"Double ML (no sample splitting)\"=\"dark orange\",\n",
    "                            \"Double ML with cross-fitting\"=\"dark green\",\n",
    "                            \"N(0, 1)\"=NA)) +\n",
    "            xlim(c(-6.0, 6.0)) + xlab(\"\") + ylab(\"\") + theme_minimal()\n",
    "\n",
    "g_all"
   ]
  },
  {
   "cell_type": "code",
   "execution_count": 34,
   "metadata": {
    "vscode": {
     "languageId": "r"
    }
   },
   "outputs": [
    {
     "name": "stdout",
     "output_type": "stream",
     "text": [
      "Replication 1000/1000\r"
     ]
    },
    {
     "data": {
      "image/png": "[encoded data removed]",
      "text/plain": [
       "plot without title"
      ]
     },
     "metadata": {
      "image/png": {
       "height": 240,
       "width": 300
      }
     },
     "output_type": "display_data"
    }
   ],
   "source": [
    "set.seed(4444)\n",
    "\n",
    "theta_orth_po_nosplit = rep(NA, n_rep)\n",
    "se_orth_po_nosplit = rep(NA, n_rep)\n",
    "\n",
    "for (i_rep in seq_len(n_rep)){\n",
    "    cat(sprintf(\"Replication %d/%d\", i_rep, n_rep), \"\\r\", sep=\"\")\n",
    "    flush.console()\n",
    "    df = data[[i_rep]]\n",
    "    obj_dml_data = double_ml_data_from_data_frame(df, y_col = \"y\", d_cols = \"d\")\n",
    "    obj_dml_plr_orth_nosplit = DoubleMLPLR$new(obj_dml_data,\n",
    "                                            ml_l, ml_m,\n",
    "                                            n_folds=1,\n",
    "                                            score='partialling out',\n",
    "                                            apply_cross_fitting=FALSE)\n",
    "    obj_dml_plr_orth_nosplit$fit()\n",
    "    theta_orth_po_nosplit[i_rep] = obj_dml_plr_orth_nosplit$coef\n",
    "    se_orth_po_nosplit[i_rep] = obj_dml_plr_orth_nosplit$se\n",
    "}\n",
    "\n",
    "g_nosplit_po = ggplot(data.frame(theta_rescaled=(theta_orth_po_nosplit - alpha)/se_orth_po_nosplit), aes(x = theta_rescaled)) +\n",
    "                geom_histogram(aes(y=after_stat(density), x=theta_rescaled, colour = \"Double ML (no sample splitting)\", fill=\"Double ML (no sample splitting)\"),\n",
    "                            bins = 30, alpha = 0.3) +\n",
    "                geom_vline(aes(xintercept = 0), col = \"black\") +\n",
    "                suppressWarnings(geom_function(fun = dnorm, aes(colour = \"N(0, 1)\", fill=\"N(0, 1)\"))) +\n",
    "                scale_color_manual(name='',\n",
    "                    breaks=c(\"Double ML (no sample splitting)\", \"N(0, 1)\"),\n",
    "                    values=c(\"Double ML (no sample splitting)\"=\"dark orange\", \"N(0, 1)\"='black')) +\n",
    "                scale_fill_manual(name='',,\n",
    "                    breaks=c(\"Double ML (no sample splitting)\", \"N(0, 1)\"),\n",
    "                    values=c(\"Double ML (no sample splitting)\"=\"dark orange\", \"N(0, 1)\"=NA)) +\n",
    "                xlim(c(-6.0, 6.0)) + xlab(\"\") + ylab(\"\") + theme_minimal()\n",
    "g_nosplit_po"
   ]
  },
  {
   "cell_type": "code",
   "execution_count": 35,
   "metadata": {
    "vscode": {
     "languageId": "r"
    }
   },
   "outputs": [
    {
     "name": "stdout",
     "output_type": "stream",
     "text": [
      "Replication 1000/1000\r"
     ]
    },
    {
     "data": {
      "image/png": "[encoded data removed]",
      "text/plain": [
       "plot without title"
      ]
     },
     "metadata": {
      "image/png": {
       "height": 240,
       "width": 300
      }
     },
     "output_type": "display_data"
    }
   ],
   "source": [
    "set.seed(5555)\n",
    "\n",
    "theta_dml_po = rep(NA, n_rep)\n",
    "se_dml_po = rep(NA, n_rep)\n",
    "\n",
    "for (i_rep in seq_len(n_rep)) {\n",
    "    cat(sprintf(\"Replication %d/%d\", i_rep, n_rep), \"\\r\", sep=\"\")\n",
    "    flush.console()\n",
    "    df = data[[i_rep]]\n",
    "    obj_dml_data = double_ml_data_from_data_frame(df, y_col = \"y\", d_cols = \"d\")\n",
    "    obj_dml_plr = DoubleMLPLR$new(obj_dml_data,\n",
    "                                ml_l, ml_m,\n",
    "                                n_folds=2,\n",
    "                                score='partialling out')\n",
    "    obj_dml_plr$fit()\n",
    "    theta_dml_po[i_rep] = obj_dml_plr$coef\n",
    "    se_dml_po[i_rep] = obj_dml_plr$se\n",
    "}\n",
    "\n",
    "g_dml_po = ggplot(data.frame(theta_rescaled=(theta_dml_po - alpha)/se_dml_po), aes(x = theta_rescaled)) +\n",
    "                geom_histogram(aes(y=after_stat(density), x=theta_rescaled, colour = \"Double ML with cross-fitting\", fill=\"Double ML with cross-fitting\"),\n",
    "                            bins = 30, alpha = 0.3) +\n",
    "                geom_vline(aes(xintercept = 0), col = \"black\") +\n",
    "                suppressWarnings(geom_function(fun = dnorm, aes(colour = \"N(0, 1)\", fill=\"N(0, 1)\"))) +\n",
    "                scale_color_manual(name='',\n",
    "                    breaks=c(\"Double ML with cross-fitting\", \"N(0, 1)\"),\n",
    "                    values=c(\"Double ML with cross-fitting\"=\"dark green\", \"N(0, 1)\"='black')) +\n",
    "                scale_fill_manual(name='',,\n",
    "                    breaks=c(\"Double ML with cross-fitting\", \"N(0, 1)\"),\n",
    "                    values=c(\"Double ML with cross-fitting\"=\"dark green\", \"N(0, 1)\"=NA)) +\n",
    "                xlim(c(-6.0, 6.0)) + xlab(\"\") + ylab(\"\") + theme_minimal()\n",
    "g_dml_po"
   ]
  },
  {
   "cell_type": "code",
   "execution_count": 36,
   "metadata": {
    "vscode": {
     "languageId": "r"
    }
   },
   "outputs": [
    {
     "name": "stderr",
     "output_type": "stream",
     "text": [
      "Warning message in geom_function(fun = dnorm, aes(colour = \"N(0, 1)\", fill = \"N(0, 1)\")):\n",
      "\"\u001b[1m\u001b[22mAll aesthetics have length 1, but the data has 1000 rows.\n",
      "\u001b[36mℹ\u001b[39m Did you mean to use `annotate()`?\"\n"
     ]
    },
    {
     "data": {
      "image/png": "[encoded data removed]",
      "text/plain": [
       "plot without title"
      ]
     },
     "metadata": {
      "image/png": {
       "height": 240,
       "width": 300
      }
     },
     "output_type": "display_data"
    }
   ],
   "source": [
    "g_all_po = ggplot(data.frame(t_nonorth=(theta_nonorth - alpha)/se_nonorth,\n",
    "                        t_orth_nosplit=(theta_orth_po_nosplit - alpha)/se_orth_po_nosplit,\n",
    "                        t_dml=(theta_dml_po - alpha)/se_dml_po)) +\n",
    "                geom_histogram(aes(x = t_nonorth, y=after_stat(density), colour = \"Non-orthogonal ML\", fill=\"Non-orthogonal ML\"),\n",
    "                                bins = 30, alpha = 0.3) +\n",
    "                geom_histogram(aes(x = t_orth_nosplit, y=after_stat(density), colour = \"Double ML (no sample splitting)\", fill=\"Double ML (no sample splitting)\"),\n",
    "                                bins = 30, alpha = 0.3) +\n",
    "                geom_histogram(aes(x = t_dml, y=after_stat(density), colour = \"Double ML with cross-fitting\", fill=\"Double ML with cross-fitting\"),\n",
    "                                bins = 30, alpha = 0.3) +\n",
    "                geom_vline(aes(xintercept = 0), col = \"black\") +\n",
    "                suppressWarnings(geom_function(fun = dnorm, aes(colour = \"N(0, 1)\", fill=\"N(0, 1)\"))) +\n",
    "                scale_color_manual(name='',\n",
    "                    breaks=c(\"Non-orthogonal ML\", \"Double ML (no sample splitting)\", \"Double ML with cross-fitting\", \"N(0, 1)\"),\n",
    "                    values=c(\"Non-orthogonal ML\"=\"dark blue\",\n",
    "                            \"Double ML (no sample splitting)\"=\"dark orange\",\n",
    "                            \"Double ML with cross-fitting\"=\"dark green\",\n",
    "                            \"N(0, 1)\"='black')) +\n",
    "                scale_fill_manual(name='',\n",
    "                    breaks=c(\"Non-orthogonal ML\", \"Double ML (no sample splitting)\", \"Double ML with cross-fitting\", \"N(0, 1)\"),\n",
    "                    values=c(\"Non-orthogonal ML\"=\"dark blue\",\n",
    "                            \"Double ML (no sample splitting)\"=\"dark orange\",\n",
    "                            \"Double ML with cross-fitting\"=\"dark green\",\n",
    "                            \"N(0, 1)\"=NA)) +\n",
    "            xlim(c(-6.0, 6.0)) + xlab(\"\") + ylab(\"\") + theme_minimal()\n",
    "g_all_po"
   ]
  },
  {
   "cell_type": "code",
   "execution_count": 37,
   "metadata": {
    "vscode": {
     "languageId": "r"
    }
   },
   "outputs": [
    {
     "name": "stderr",
     "output_type": "stream",
     "text": [
      "Warning message in geom_function(fun = dnorm, aes(colour = \"N(0, 1)\", fill = \"N(0, 1)\")):\n",
      "\"\u001b[1m\u001b[22mAll aesthetics have length 1, but the data has 1000 rows.\n",
      "\u001b[36mℹ\u001b[39m Did you mean to use `annotate()`?\"\n",
      "Warning message:\n",
      "\"\u001b[1m\u001b[22mRemoved 21 rows containing non-finite outside the scale range (`stat_bin()`).\"\n",
      "Warning message in geom_function(fun = dnorm, aes(colour = \"N(0, 1)\", fill = \"N(0, 1)\")):\n",
      "\"\u001b[1m\u001b[22mAll aesthetics have length 1, but the data has 1000 rows.\n",
      "\u001b[36mℹ\u001b[39m Did you mean to use `annotate()`?\"\n",
      "Warning message:\n",
      "\"\u001b[1m\u001b[22mRemoved 21 rows containing non-finite outside the scale range (`stat_bin()`).\"\n",
      "Warning message in geom_function(fun = dnorm, aes(colour = \"N(0, 1)\", fill = \"N(0, 1)\")):\n",
      "\"\u001b[1m\u001b[22mAll aesthetics have length 1, but the data has 1000 rows.\n",
      "\u001b[36mℹ\u001b[39m Did you mean to use `annotate()`?\"\n"
     ]
    }
   ],
   "source": [
    "# save all plots\n",
    "ggsave(filename = \"../guide/figures/r_non_orthogonal.svg\", plot = g_nonorth, dpi = 300, units = \"in\", width = 6, height = 4)\n",
    "ggsave(filename = \"../guide/figures/r_dml_nosplit.svg\", plot = g_nosplit, dpi = 300, units = \"in\", width = 6, height = 4)\n",
    "ggsave(filename = \"../guide/figures/r_dml.svg\", plot = g_dml, dpi = 300, units = \"in\", width = 6, height = 4)\n",
    "ggsave(filename = \"../guide/figures/r_all.svg\", plot = g_all, dpi = 300, units = \"in\", width = 6, height = 4)\n",
    "\n",
    "ggsave(filename = \"../guide/figures/r_dml_po_nosplit.svg\", plot = g_nosplit_po, dpi = 300, units = \"in\", width = 6, height = 4)\n",
    "ggsave(filename = \"../guide/figures/r_dml_po.svg\", plot = g_dml_po, dpi = 300, units = \"in\", width = 6, height = 4)\n",
    "ggsave(filename = \"../guide/figures/r_po_all.svg\", plot = g_all_po, dpi = 300, units = \"in\", width = 6, height = 4)"
   ]
  }
 ],
 "metadata": {
  "kernelspec": {
   "display_name": "R",
   "language": "R",
   "name": "ir"
  },
  "language_info": {
   "codemirror_mode": "r",
   "file_extension": ".r",
   "mimetype": "text/x-r-source",
   "name": "R",
   "pygments_lexer": "r",
   "version": "4.3.3"
  }
 },
 "nbformat": 4,
 "nbformat_minor": 2
}
