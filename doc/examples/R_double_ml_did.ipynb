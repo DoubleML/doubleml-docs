{
 "cells": [
  {
   "cell_type": "markdown",
   "id": "e401eb2c",
   "metadata": {},
   "source": [
    "# R: DoubleML for Difference-in-Differences"
   ]
  },
  {
   "cell_type": "markdown",
   "metadata": {},
   "source": [
    "In this example, we demonstrate, how `DoubleML` can be used in combination with the [`did` package for R](https://bcallaway11.github.io/did/index.html) in order to estimate group-time average treatment effects in difference-in-difference (DiD) models with multiple periods."
   ]
  },
  {
   "cell_type": "code",
   "execution_count": null,
   "metadata": {
    "vscode": {
     "languageId": "r"
    }
   },
   "outputs": [],
   "source": [
    "library(DoubleML)\n",
    "library(did)\n",
    "library(mlr3learners)\n",
    "\n",
    "set.seed(1234)\n",
    "options(warn=-1)"
   ]
  },
  {
   "cell_type": "markdown",
   "id": "19aaa906",
   "metadata": {},
   "source": [
    "## Demo example from `did`\n",
    "\n",
    "We will demonstrate the use of `DoubleML` for DiD in the [introductory example](https://bcallaway11.github.io/did/articles/did-basics.html) of the `did` package. "
   ]
  },
  {
   "cell_type": "code",
   "execution_count": null,
   "id": "c5d9b7ac",
   "metadata": {
    "vscode": {
     "languageId": "r"
    }
   },
   "outputs": [],
   "source": [
    "# Generate data, original code available at https://github.com/bcallaway11/did/blob/master/vignettes/did-basics.Rmd\n",
    "time.periods <- 4\n",
    "sp <- reset.sim()\n",
    "sp$te <- 0\n",
    "\n",
    "set.seed(1814)\n",
    "\n",
    "# generate dataset with 4 time periods\n",
    "time.periods <- 4\n",
    "\n",
    "# add dynamic effects\n",
    "sp$te.e <- 1:time.periods\n",
    "\n",
    "# generate data set with these parameters\n",
    "# here, we dropped all units who are treated in time period 1 as they do not help us recover ATT(g,t)'s.\n",
    "dta <- build_sim_dataset(sp)\n",
    "\n",
    "# How many observations remained after dropping the ``always-treated'' units\n",
    "nrow(dta)\n",
    "#This is what the data looks like\n",
    "head(dta)"
   ]
  },
  {
   "cell_type": "code",
   "execution_count": null,
   "id": "5f8b1555",
   "metadata": {
    "vscode": {
     "languageId": "r"
    }
   },
   "outputs": [],
   "source": [
    "n <- 10000\n",
    "decision_effect <- -2\n",
    "instrument_effect <- 0.7\n",
    "\n",
    "confounder <- rbinom(n, 1, 0.3)\n",
    "instrument <- rbinom(n, 1, 0.5)\n",
    "decision <- as.numeric(runif(n) <= instrument_effect*instrument + 0.4*confounder)\n",
    "outcome <- 30 + decision_effect*decision + 10 * confounder + rnorm(n, sd=2)\n",
    "df <- data.frame(instrument, decision, outcome)"
   ]
  },
  {
   "cell_type": "markdown",
   "id": "f508a08b",
   "metadata": {},
   "source": [
    "### Comparison to `did` package\n",
    "\n",
    "By default, estimation in `did` is based on (unpenalized) linear and logistic regression. Let's start with this default model first."
   ]
  },
  {
   "cell_type": "code",
   "execution_count": null,
   "id": "945902b5",
   "metadata": {
    "vscode": {
     "languageId": "r"
    }
   },
   "outputs": [],
   "source": [
    "# estimate group-time average treatment effects using att_gt method\n",
    "example_attgt <- att_gt(yname = \"Y\",\n",
    "                        tname = \"period\",\n",
    "                        idname = \"id\",\n",
    "                        gname = \"G\",\n",
    "                        xformla = ~X,\n",
    "                        data = dta\n",
    "                        )\n",
    "\n",
    "# summarize the results\n",
    "summary(example_attgt)"
   ]
  },
  {
   "cell_type": "markdown",
   "id": "ed9b4f0e",
   "metadata": {},
   "source": [
    "### Using ML for DiD: Integrating `DoubleML` in `did`\n",
    "\n",
    "As described in our [Section on DiD models in the user guide](https://docs.doubleml.org/stable/guide/models.html#difference-in-differences-models-did), [Sant'Anna and Zhao (2020)](https://linkinghub.elsevier.com/retrieve/pii/S0304407620301901) have developed a doubly robust DiD model which is compatible with ML-based estimation. As this doubly robust model is internally used in `did`, it is possible to use `DoubleML` here to obtain valid point estimates and confidence intervals. For this, we need to write a wrapper around a `DoubleMLIRM` model and pass it to `did` as a custom estimation approach. Once this is implemented, we can use all the nice features and advantages of the `did` package."
   ]
  },
  {
   "cell_type": "code",
   "execution_count": null,
   "id": "a0e92c95",
   "metadata": {
    "vscode": {
     "languageId": "r"
    }
   },
   "outputs": [],
   "source": [
    "# DoubleML wrapper for did\n",
    "\n",
    "doubleml_did <- function(y1, y0, D, covariates, ml_g, ml_m, n_folds = 10) {\n",
    "  # Compute difference in outcomes\n",
    "  delta_y <- y1 - y0\n",
    "  # Prepare data backend\n",
    "  data = data.frame(delta_y, D, covariates)\n",
    "  dml_data = DoubleMLData(data, y_col = \"delta_y\", d_cols = \"D\", covariates = names(covariates))\n",
    "  # Compute the ATT\n",
    "  dml_obj = DoubleMLIRM(dml_data, ml_g = ml_g, ml_m = ml_m, score = \"ATTE\", n_folds = n_folds)\n",
    "  dml_obj$fit()\n",
    "  att = dml_obj$coef[1]\n",
    "  # Return results\n",
    "  # Hier müssen wir noch die Dimensionen von psi anpassen, sodass die Werte als einfacher Vector übergeben werden\n",
    "  inf.func <- dml_obj$psi\n",
    "  output <- list(ATT = att, att.inf.func = inf.func)\n",
    "  return(output)\n",
    "}"
   ]
  },
  {
   "cell_type": "code",
   "execution_count": null,
   "id": "23e26476",
   "metadata": {
    "vscode": {
     "languageId": "r"
    }
   },
   "outputs": [],
   "source": [
    "# get data in a way that is used internally in \n",
    "\n",
    "# double check how covariates are passed through and handled internally"
   ]
  }
 ],
 "metadata": {
  "kernelspec": {
   "display_name": "R",
   "language": "R",
   "name": "ir"
  },
  "language_info": {
   "codemirror_mode": "r",
   "file_extension": ".r",
   "mimetype": "text/x-r-source",
   "name": "R",
   "pygments_lexer": "r",
   "version": "4.2.2"
  }
 },
 "nbformat": 4,
 "nbformat_minor": 5
}
