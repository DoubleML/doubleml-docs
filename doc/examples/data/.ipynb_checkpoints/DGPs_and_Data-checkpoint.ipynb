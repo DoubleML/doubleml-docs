{
 "cells": [
  {
   "cell_type": "markdown",
   "id": "lasting-skirt",
   "metadata": {},
   "source": [
    "# Description of Data Files"
   ]
  },
  {
   "cell_type": "markdown",
   "id": "operating-positive",
   "metadata": {},
   "source": [
    "## DGPs, true ATE etc.\n",
    "\n",
    "\n",
    "Load the prepocessed data frame which connects the DGP to the settings (different names and details like this) and the true average treatment effects. "
   ]
  },
  {
   "cell_type": "code",
   "execution_count": 4,
   "id": "attached-sculpture",
   "metadata": {},
   "outputs": [
    {
     "data": {
      "text/html": [
       "<div>\n",
       "<style scoped>\n",
       "    .dataframe tbody tr th:only-of-type {\n",
       "        vertical-align: middle;\n",
       "    }\n",
       "\n",
       "    .dataframe tbody tr th {\n",
       "        vertical-align: top;\n",
       "    }\n",
       "\n",
       "    .dataframe thead th {\n",
       "        text-align: right;\n",
       "    }\n",
       "</style>\n",
       "<table border=\"1\" class=\"dataframe\">\n",
       "  <thead>\n",
       "    <tr style=\"text-align: right;\">\n",
       "      <th></th>\n",
       "      <th>Renamed</th>\n",
       "      <th>Original</th>\n",
       "      <th>Scenario</th>\n",
       "      <th>DS#</th>\n",
       "      <th>Random seed</th>\n",
       "      <th>filename</th>\n",
       "      <th>DGPid</th>\n",
       "      <th>trueATE</th>\n",
       "    </tr>\n",
       "  </thead>\n",
       "  <tbody>\n",
       "    <tr>\n",
       "      <th>0</th>\n",
       "      <td>high1</td>\n",
       "      <td>CHDScenario3DS86</td>\n",
       "      <td>NaN</td>\n",
       "      <td>3</td>\n",
       "      <td>0.337781</td>\n",
       "      <td>high1</td>\n",
       "      <td>3</td>\n",
       "      <td>-0.80000</td>\n",
       "    </tr>\n",
       "    <tr>\n",
       "      <th>1</th>\n",
       "      <td>high10</td>\n",
       "      <td>CHDScenario15DS13</td>\n",
       "      <td>NaN</td>\n",
       "      <td>15</td>\n",
       "      <td>0.218848</td>\n",
       "      <td>high10</td>\n",
       "      <td>15</td>\n",
       "      <td>-0.16058</td>\n",
       "    </tr>\n",
       "    <tr>\n",
       "      <th>2</th>\n",
       "      <td>high100</td>\n",
       "      <td>CHDScenario3DS72</td>\n",
       "      <td>NaN</td>\n",
       "      <td>3</td>\n",
       "      <td>0.130252</td>\n",
       "      <td>high100</td>\n",
       "      <td>3</td>\n",
       "      <td>-0.80000</td>\n",
       "    </tr>\n",
       "    <tr>\n",
       "      <th>3</th>\n",
       "      <td>high1000</td>\n",
       "      <td>CHDScenario1DS50</td>\n",
       "      <td>50.0</td>\n",
       "      <td>1</td>\n",
       "      <td>0.425784</td>\n",
       "      <td>high1000</td>\n",
       "      <td>1</td>\n",
       "      <td>0.20000</td>\n",
       "    </tr>\n",
       "    <tr>\n",
       "      <th>4</th>\n",
       "      <td>high1001</td>\n",
       "      <td>CHDScenario15DS20</td>\n",
       "      <td>NaN</td>\n",
       "      <td>15</td>\n",
       "      <td>0.307721</td>\n",
       "      <td>high1001</td>\n",
       "      <td>15</td>\n",
       "      <td>-0.16058</td>\n",
       "    </tr>\n",
       "  </tbody>\n",
       "</table>\n",
       "</div>"
      ],
      "text/plain": [
       "    Renamed           Original  Scenario  DS#  Random seed  filename  DGPid  \\\n",
       "0     high1   CHDScenario3DS86       NaN    3     0.337781     high1      3   \n",
       "1    high10  CHDScenario15DS13       NaN   15     0.218848    high10     15   \n",
       "2   high100   CHDScenario3DS72       NaN    3     0.130252   high100      3   \n",
       "3  high1000   CHDScenario1DS50      50.0    1     0.425784  high1000      1   \n",
       "4  high1001  CHDScenario15DS20       NaN   15     0.307721  high1001     15   \n",
       "\n",
       "   trueATE  \n",
       "0 -0.80000  \n",
       "1 -0.16058  \n",
       "2 -0.80000  \n",
       "3  0.20000  \n",
       "4 -0.16058  "
      ]
     },
     "execution_count": 4,
     "metadata": {},
     "output_type": "execute_result"
    }
   ],
   "source": [
    "import pandas as pd\n",
    "\n",
    "dgps = pd.read_csv('DGPs_preprocessed.csv', sep=',', na_values=\".\")\n",
    "dgps.head()"
   ]
  },
  {
   "cell_type": "markdown",
   "id": "distributed-testing",
   "metadata": {},
   "source": [
    "Select the DGP with ID `42` - that's the one we use in the case study. "
   ]
  },
  {
   "cell_type": "code",
   "execution_count": 10,
   "id": "labeled-raising",
   "metadata": {},
   "outputs": [
    {
     "data": {
      "text/html": [
       "<div>\n",
       "<style scoped>\n",
       "    .dataframe tbody tr th:only-of-type {\n",
       "        vertical-align: middle;\n",
       "    }\n",
       "\n",
       "    .dataframe tbody tr th {\n",
       "        vertical-align: top;\n",
       "    }\n",
       "\n",
       "    .dataframe thead th {\n",
       "        text-align: right;\n",
       "    }\n",
       "</style>\n",
       "<table border=\"1\" class=\"dataframe\">\n",
       "  <thead>\n",
       "    <tr style=\"text-align: right;\">\n",
       "      <th></th>\n",
       "      <th>Renamed</th>\n",
       "      <th>Original</th>\n",
       "      <th>Scenario</th>\n",
       "      <th>DS#</th>\n",
       "      <th>Random seed</th>\n",
       "      <th>filename</th>\n",
       "      <th>DGPid</th>\n",
       "      <th>trueATE</th>\n",
       "    </tr>\n",
       "  </thead>\n",
       "  <tbody>\n",
       "    <tr>\n",
       "      <th>957</th>\n",
       "      <td>high42</td>\n",
       "      <td>CHDScenario2DS24</td>\n",
       "      <td>124.0</td>\n",
       "      <td>2</td>\n",
       "      <td>0.752854</td>\n",
       "      <td>high42</td>\n",
       "      <td>2</td>\n",
       "      <td>0.8</td>\n",
       "    </tr>\n",
       "  </tbody>\n",
       "</table>\n",
       "</div>"
      ],
      "text/plain": [
       "    Renamed          Original  Scenario  DS#  Random seed filename  DGPid  \\\n",
       "957  high42  CHDScenario2DS24     124.0    2     0.752854   high42      2   \n",
       "\n",
       "     trueATE  \n",
       "957      0.8  "
      ]
     },
     "execution_count": 10,
     "metadata": {},
     "output_type": "execute_result"
    }
   ],
   "source": [
    "dgps.loc[dgps.Renamed == 'high42']"
   ]
  }
 ],
 "metadata": {
  "kernelspec": {
   "display_name": "Python 3 (ipykernel)",
   "language": "python",
   "name": "python3"
  },
  "language_info": {
   "codemirror_mode": {
    "name": "ipython",
    "version": 3
   },
   "file_extension": ".py",
   "mimetype": "text/x-python",
   "name": "python",
   "nbconvert_exporter": "python",
   "pygments_lexer": "ipython3",
   "version": "3.10.1"
  }
 },
 "nbformat": 4,
 "nbformat_minor": 5
}
