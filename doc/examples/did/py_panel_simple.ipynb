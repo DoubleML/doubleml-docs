{
 "cells": [
  {
   "cell_type": "markdown",
   "metadata": {},
   "source": [
    "# Python: Panel Data Introduction\n",
    "\n",
    "In this example, we replicate the results from the guide [Getting Started with the did Package](https://bcallaway11.github.io/did/articles/did-basics.html) of the [did-R-package](https://bcallaway11.github.io/did/index.html).\n",
    "\n",
    "As the [did-R-package](https://bcallaway11.github.io/did/index.html) the implementation of [DoubleML](https://docs.doubleml.org/stable/index.html) is based on [Callaway and Sant'Anna(2021)](https://doi.org/10.1016/j.jeconom.2020.12.001).\n",
    "\n",
    "The notebook requires the following packages:"
   ]
  },
  {
   "cell_type": "code",
   "execution_count": 7,
   "metadata": {},
   "outputs": [],
   "source": [
    "import pandas as pd\n",
    "import numpy as np\n",
    "\n",
    "from sklearn.linear_model import LinearRegression, LogisticRegression\n",
    "\n",
    "from doubleml.data import DoubleMLPanelData\n",
    "from doubleml.did import DoubleMLDIDMulti"
   ]
  },
  {
   "cell_type": "markdown",
   "metadata": {},
   "source": [
    "## Data\n",
    "\n",
    "The data we will use is simulated and part of the [CSDID-Python-Package](https://d2cml-ai.github.io/csdid/index.html).\n",
    "\n",
    "A description of the data generating process can be found at the [CSDID-documentation](https://d2cml-ai.github.io/csdid/examples/csdid_basic.html#Examples-with-simulated-data).\n"
   ]
  },
  {
   "cell_type": "code",
   "execution_count": 8,
   "metadata": {},
   "outputs": [
    {
     "data": {
      "text/html": [
       "<div>\n",
       "<style scoped>\n",
       "    .dataframe tbody tr th:only-of-type {\n",
       "        vertical-align: middle;\n",
       "    }\n",
       "\n",
       "    .dataframe tbody tr th {\n",
       "        vertical-align: top;\n",
       "    }\n",
       "\n",
       "    .dataframe thead th {\n",
       "        text-align: right;\n",
       "    }\n",
       "</style>\n",
       "<table border=\"1\" class=\"dataframe\">\n",
       "  <thead>\n",
       "    <tr style=\"text-align: right;\">\n",
       "      <th></th>\n",
       "      <th>G</th>\n",
       "      <th>X</th>\n",
       "      <th>id</th>\n",
       "      <th>cluster</th>\n",
       "      <th>period</th>\n",
       "      <th>Y</th>\n",
       "      <th>treat</th>\n",
       "    </tr>\n",
       "  </thead>\n",
       "  <tbody>\n",
       "    <tr>\n",
       "      <th>0</th>\n",
       "      <td>3</td>\n",
       "      <td>-0.876233</td>\n",
       "      <td>1</td>\n",
       "      <td>5</td>\n",
       "      <td>1</td>\n",
       "      <td>5.562556</td>\n",
       "      <td>1</td>\n",
       "    </tr>\n",
       "    <tr>\n",
       "      <th>1</th>\n",
       "      <td>3</td>\n",
       "      <td>-0.876233</td>\n",
       "      <td>1</td>\n",
       "      <td>5</td>\n",
       "      <td>2</td>\n",
       "      <td>4.349213</td>\n",
       "      <td>1</td>\n",
       "    </tr>\n",
       "    <tr>\n",
       "      <th>2</th>\n",
       "      <td>3</td>\n",
       "      <td>-0.876233</td>\n",
       "      <td>1</td>\n",
       "      <td>5</td>\n",
       "      <td>3</td>\n",
       "      <td>7.134037</td>\n",
       "      <td>1</td>\n",
       "    </tr>\n",
       "    <tr>\n",
       "      <th>3</th>\n",
       "      <td>3</td>\n",
       "      <td>-0.876233</td>\n",
       "      <td>1</td>\n",
       "      <td>5</td>\n",
       "      <td>4</td>\n",
       "      <td>6.243056</td>\n",
       "      <td>1</td>\n",
       "    </tr>\n",
       "    <tr>\n",
       "      <th>4</th>\n",
       "      <td>2</td>\n",
       "      <td>-0.873848</td>\n",
       "      <td>2</td>\n",
       "      <td>36</td>\n",
       "      <td>1</td>\n",
       "      <td>-3.659387</td>\n",
       "      <td>1</td>\n",
       "    </tr>\n",
       "  </tbody>\n",
       "</table>\n",
       "</div>"
      ],
      "text/plain": [
       "   G         X  id  cluster  period         Y  treat\n",
       "0  3 -0.876233   1        5       1  5.562556      1\n",
       "1  3 -0.876233   1        5       2  4.349213      1\n",
       "2  3 -0.876233   1        5       3  7.134037      1\n",
       "3  3 -0.876233   1        5       4  6.243056      1\n",
       "4  2 -0.873848   2       36       1 -3.659387      1"
      ]
     },
     "execution_count": 8,
     "metadata": {},
     "output_type": "execute_result"
    }
   ],
   "source": [
    "dta = pd.read_csv(\"https://raw.githubusercontent.com/d2cml-ai/csdid/main/data/sim_data.csv\")\n",
    "dta.head()"
   ]
  },
  {
   "cell_type": "markdown",
   "metadata": {},
   "source": [
    "To work with the [DoubleML-package](https://docs.doubleml.org/stable/index.html), we initialize a ``DoubleMLPanelData`` object.\n",
    "\n",
    "Therefore, we set the *never-treated* units in group column `G` to `np.inf` (we have to change the datatype to `float`)."
   ]
  },
  {
   "cell_type": "code",
   "execution_count": 9,
   "metadata": {},
   "outputs": [
    {
     "data": {
      "text/html": [
       "<div>\n",
       "<style scoped>\n",
       "    .dataframe tbody tr th:only-of-type {\n",
       "        vertical-align: middle;\n",
       "    }\n",
       "\n",
       "    .dataframe tbody tr th {\n",
       "        vertical-align: top;\n",
       "    }\n",
       "\n",
       "    .dataframe thead th {\n",
       "        text-align: right;\n",
       "    }\n",
       "</style>\n",
       "<table border=\"1\" class=\"dataframe\">\n",
       "  <thead>\n",
       "    <tr style=\"text-align: right;\">\n",
       "      <th></th>\n",
       "      <th>G</th>\n",
       "      <th>X</th>\n",
       "      <th>id</th>\n",
       "      <th>cluster</th>\n",
       "      <th>period</th>\n",
       "      <th>Y</th>\n",
       "      <th>treat</th>\n",
       "    </tr>\n",
       "  </thead>\n",
       "  <tbody>\n",
       "    <tr>\n",
       "      <th>0</th>\n",
       "      <td>3.0</td>\n",
       "      <td>-0.876233</td>\n",
       "      <td>1</td>\n",
       "      <td>5</td>\n",
       "      <td>1</td>\n",
       "      <td>5.562556</td>\n",
       "      <td>1</td>\n",
       "    </tr>\n",
       "    <tr>\n",
       "      <th>1</th>\n",
       "      <td>3.0</td>\n",
       "      <td>-0.876233</td>\n",
       "      <td>1</td>\n",
       "      <td>5</td>\n",
       "      <td>2</td>\n",
       "      <td>4.349213</td>\n",
       "      <td>1</td>\n",
       "    </tr>\n",
       "    <tr>\n",
       "      <th>2</th>\n",
       "      <td>3.0</td>\n",
       "      <td>-0.876233</td>\n",
       "      <td>1</td>\n",
       "      <td>5</td>\n",
       "      <td>3</td>\n",
       "      <td>7.134037</td>\n",
       "      <td>1</td>\n",
       "    </tr>\n",
       "    <tr>\n",
       "      <th>3</th>\n",
       "      <td>3.0</td>\n",
       "      <td>-0.876233</td>\n",
       "      <td>1</td>\n",
       "      <td>5</td>\n",
       "      <td>4</td>\n",
       "      <td>6.243056</td>\n",
       "      <td>1</td>\n",
       "    </tr>\n",
       "    <tr>\n",
       "      <th>4</th>\n",
       "      <td>2.0</td>\n",
       "      <td>-0.873848</td>\n",
       "      <td>2</td>\n",
       "      <td>36</td>\n",
       "      <td>1</td>\n",
       "      <td>-3.659387</td>\n",
       "      <td>1</td>\n",
       "    </tr>\n",
       "  </tbody>\n",
       "</table>\n",
       "</div>"
      ],
      "text/plain": [
       "     G         X  id  cluster  period         Y  treat\n",
       "0  3.0 -0.876233   1        5       1  5.562556      1\n",
       "1  3.0 -0.876233   1        5       2  4.349213      1\n",
       "2  3.0 -0.876233   1        5       3  7.134037      1\n",
       "3  3.0 -0.876233   1        5       4  6.243056      1\n",
       "4  2.0 -0.873848   2       36       1 -3.659387      1"
      ]
     },
     "execution_count": 9,
     "metadata": {},
     "output_type": "execute_result"
    }
   ],
   "source": [
    "# set dtype for G to float\n",
    "dta[\"G\"] = dta[\"G\"].astype(float)\n",
    "dta.loc[dta[\"G\"] == 0, \"G\"] = np.inf\n",
    "dta.head()"
   ]
  },
  {
   "cell_type": "markdown",
   "metadata": {},
   "source": [
    "Now, we can initialize the ``DoubleMLPanelData`` object, specifying\n",
    "\n",
    " - `y_col` : the outcome\n",
    " - `d_cols`: the group variable indicating the first treated period for each unit\n",
    " - `id_col`: the unique identification column for each unit\n",
    " - `t_col` : the time column\n",
    " - `x_cols`: the additional pre-treatment controls\n"
   ]
  },
  {
   "cell_type": "code",
   "execution_count": 10,
   "metadata": {},
   "outputs": [
    {
     "name": "stdout",
     "output_type": "stream",
     "text": [
      "================== DoubleMLPanelData Object ==================\n",
      "\n",
      "------------------ Data summary      ------------------\n",
      "Outcome variable: Y\n",
      "Treatment variable(s): ['G']\n",
      "Covariates: ['X']\n",
      "Instrument variable(s): None\n",
      "Time variable: period\n",
      "Id variable: id\n",
      "No. Observations: 3979\n",
      "\n",
      "------------------ DataFrame info    ------------------\n",
      "<class 'pandas.core.frame.DataFrame'>\n",
      "RangeIndex: 15916 entries, 0 to 15915\n",
      "Columns: 7 entries, G to treat\n",
      "dtypes: float64(3), int64(4)\n",
      "memory usage: 870.5 KB\n",
      "\n"
     ]
    }
   ],
   "source": [
    "dml_data = DoubleMLPanelData(\n",
    "    data=dta,\n",
    "    y_col=\"Y\",\n",
    "    d_cols=\"G\",\n",
    "    id_col=\"id\",\n",
    "    t_col=\"period\",\n",
    "    x_cols=[\"X\"]\n",
    ")\n",
    "print(dml_data)"
   ]
  },
  {
   "cell_type": "markdown",
   "metadata": {},
   "source": [
    "## ATT estimation\n",
    "\n",
    "The [DoubleML-package](https://docs.doubleml.org/stable/index.html) implements estimation of group-time average treatment effect via the `DoubleMLDIDMulti` class (see [model documentation](https://docs.doubleml.org/stable/guide/models.html#difference-in-differences-models-did)).\n",
    "\n",
    "The class basically behaves like other `DoubleML` classes and requires the specification of two learners (for more details on the regression elements, see [score documentation](https://docs.doubleml.org/stable/guide/scores.html#difference-in-differences-models)). The model will be estimated using the `fit()` method."
   ]
  },
  {
   "cell_type": "code",
   "execution_count": 11,
   "metadata": {},
   "outputs": [
    {
     "name": "stdout",
     "output_type": "stream",
     "text": [
      "================== DoubleMLDIDMulti Object ==================\n",
      "\n",
      "------------------ Data summary      ------------------\n",
      "Outcome variable: Y\n",
      "Treatment variable(s): ['G']\n",
      "Covariates: ['X']\n",
      "Instrument variable(s): None\n",
      "Time variable: period\n",
      "Id variable: id\n",
      "No. Observations: 3979\n",
      "\n",
      "------------------ Score & algorithm ------------------\n",
      "Score function: observational\n",
      "Control group: never_treated\n",
      "Anticipation periods: 0\n",
      "\n",
      "------------------ Machine learner   ------------------\n",
      "Learner ml_g: LinearRegression()\n",
      "Learner ml_m: LogisticRegression()\n",
      "Out-of-sample Performance:\n",
      "Regression:\n",
      "Learner ml_g0 RMSE: [[1.42617854 1.4109985  1.3977513  1.42696223 1.40564857 1.41934546\n",
      "  1.42376336 1.40757926 1.42390621]]\n",
      "Learner ml_g1 RMSE: [[1.4030393  1.43646172 1.39614341 1.4195028  1.42759927 1.38453389\n",
      "  1.45829099 1.41782049 1.41006229]]\n",
      "Classification:\n",
      "Learner ml_m Log Loss: [[0.69136666 0.69104942 0.69043707 0.68049621 0.67961183 0.67915833\n",
      "  0.66231844 0.66275239 0.66321942]]\n",
      "\n",
      "------------------ Resampling        ------------------\n",
      "No. folds: 5\n",
      "No. repeated sample splits: 1\n",
      "\n",
      "------------------ Fit summary       ------------------\n",
      "                  coef   std err          t     P>|t|     2.5 %    97.5 %\n",
      "ATT(2.0,1,2)  0.925650  0.064143  14.430953  0.000000  0.799932  1.051369\n",
      "ATT(2.0,1,3)  1.987835  0.064616  30.763940  0.000000  1.861190  2.114479\n",
      "ATT(2.0,1,4)  2.955752  0.063206  46.764006  0.000000  2.831871  3.079633\n",
      "ATT(3.0,1,2) -0.039327  0.066091  -0.595052  0.551809 -0.168862  0.090208\n",
      "ATT(3.0,2,3)  1.103572  0.065372  16.881417  0.000000  0.975446  1.231699\n",
      "ATT(3.0,2,4)  2.059269  0.065414  31.480585  0.000000  1.931060  2.187478\n",
      "ATT(4.0,1,2) -0.000186  0.068382  -0.002723  0.997827 -0.134213  0.133841\n",
      "ATT(4.0,2,3)  0.063073  0.066448   0.949209  0.342514 -0.067163  0.193309\n",
      "ATT(4.0,3,4)  0.959826  0.067745  14.168265  0.000000  0.827048  1.092603\n"
     ]
    }
   ],
   "source": [
    "dml_obj = DoubleMLDIDMulti(\n",
    "    obj_dml_data=dml_data,\n",
    "    ml_g=LinearRegression(),\n",
    "    ml_m=LogisticRegression(),\n",
    "    control_group=\"never_treated\",\n",
    ")\n",
    "\n",
    "dml_obj.fit()\n",
    "print(dml_obj)"
   ]
  },
  {
   "cell_type": "markdown",
   "metadata": {},
   "source": [
    "The summary estimates the $ATT(g,t_\\text{eval})$ effects for different combinations of $(g,t_\\text{eval})$ via $\\widehat{ATT}(\\mathrm{g},t_\\text{pre},t_\\text{eval})$, where\n",
    " - $\\mathrm{g}$ specifies the group\n",
    " - $t_\\text{pre}$ specifies the corresponding pre-treatment period\n",
    " - $t_\\text{eval}$ specifies the evaluation period\n",
    "\n",
    "This corresponds to the estimates given in `att_gt` function in the [did-R-package](https://bcallaway11.github.io/did/index.html), where the standard choice is $t_\\text{pre} = \\min(\\mathrm{g}, t_\\text{eval}) - 1$ (without anticipation).\n",
    "\n",
    "Remark that this includes pre-tests effects if $\\mathrm{g} > t_{eval}$, e.g. $ATT(4,2)$."
   ]
  },
  {
   "cell_type": "markdown",
   "metadata": {},
   "source": [
    "As usual for the DoubleML-package, you can obtain joint confidence intervals via bootstrap."
   ]
  },
  {
   "cell_type": "code",
   "execution_count": 12,
   "metadata": {},
   "outputs": [
    {
     "data": {
      "text/html": [
       "<div>\n",
       "<style scoped>\n",
       "    .dataframe tbody tr th:only-of-type {\n",
       "        vertical-align: middle;\n",
       "    }\n",
       "\n",
       "    .dataframe tbody tr th {\n",
       "        vertical-align: top;\n",
       "    }\n",
       "\n",
       "    .dataframe thead th {\n",
       "        text-align: right;\n",
       "    }\n",
       "</style>\n",
       "<table border=\"1\" class=\"dataframe\">\n",
       "  <thead>\n",
       "    <tr style=\"text-align: right;\">\n",
       "      <th></th>\n",
       "      <th>2.5 %</th>\n",
       "      <th>97.5 %</th>\n",
       "    </tr>\n",
       "  </thead>\n",
       "  <tbody>\n",
       "    <tr>\n",
       "      <th>ATT(2.0,1,2)</th>\n",
       "      <td>0.754473</td>\n",
       "      <td>1.096828</td>\n",
       "    </tr>\n",
       "    <tr>\n",
       "      <th>ATT(2.0,1,3)</th>\n",
       "      <td>1.815397</td>\n",
       "      <td>2.160272</td>\n",
       "    </tr>\n",
       "    <tr>\n",
       "      <th>ATT(2.0,1,4)</th>\n",
       "      <td>2.787077</td>\n",
       "      <td>3.124427</td>\n",
       "    </tr>\n",
       "    <tr>\n",
       "      <th>ATT(3.0,1,2)</th>\n",
       "      <td>-0.215701</td>\n",
       "      <td>0.137046</td>\n",
       "    </tr>\n",
       "    <tr>\n",
       "      <th>ATT(3.0,2,3)</th>\n",
       "      <td>0.929116</td>\n",
       "      <td>1.278028</td>\n",
       "    </tr>\n",
       "    <tr>\n",
       "      <th>ATT(3.0,2,4)</th>\n",
       "      <td>1.884702</td>\n",
       "      <td>2.233837</td>\n",
       "    </tr>\n",
       "    <tr>\n",
       "      <th>ATT(4.0,1,2)</th>\n",
       "      <td>-0.182676</td>\n",
       "      <td>0.182304</td>\n",
       "    </tr>\n",
       "    <tr>\n",
       "      <th>ATT(4.0,2,3)</th>\n",
       "      <td>-0.114254</td>\n",
       "      <td>0.240401</td>\n",
       "    </tr>\n",
       "    <tr>\n",
       "      <th>ATT(4.0,3,4)</th>\n",
       "      <td>0.779038</td>\n",
       "      <td>1.140614</td>\n",
       "    </tr>\n",
       "  </tbody>\n",
       "</table>\n",
       "</div>"
      ],
      "text/plain": [
       "                 2.5 %    97.5 %\n",
       "ATT(2.0,1,2)  0.754473  1.096828\n",
       "ATT(2.0,1,3)  1.815397  2.160272\n",
       "ATT(2.0,1,4)  2.787077  3.124427\n",
       "ATT(3.0,1,2) -0.215701  0.137046\n",
       "ATT(3.0,2,3)  0.929116  1.278028\n",
       "ATT(3.0,2,4)  1.884702  2.233837\n",
       "ATT(4.0,1,2) -0.182676  0.182304\n",
       "ATT(4.0,2,3) -0.114254  0.240401\n",
       "ATT(4.0,3,4)  0.779038  1.140614"
      ]
     },
     "execution_count": 12,
     "metadata": {},
     "output_type": "execute_result"
    }
   ],
   "source": [
    "level = 0.95\n",
    "\n",
    "ci = dml_obj.confint(level=level)\n",
    "dml_obj.bootstrap(n_rep_boot=5000)\n",
    "ci_joint = dml_obj.confint(level=level, joint=True)\n",
    "ci_joint"
   ]
  },
  {
   "cell_type": "markdown",
   "metadata": {},
   "source": [
    "A visualization of the effects can be obtained via the `plot_effects()` method.\n",
    "\n",
    "Remark that the plot used joint confidence intervals per default. "
   ]
  },
  {
   "cell_type": "code",
   "execution_count": 13,
   "metadata": {},
   "outputs": [
    {
     "name": "stderr",
     "output_type": "stream",
     "text": [
      "/home/ubuntu/.venv/lib/python3.12/site-packages/matplotlib/cbook.py:1719: FutureWarning: Calling float on a single element Series is deprecated and will raise a TypeError in the future. Use float(ser.iloc[0]) instead\n",
      "  return math.isfinite(val)\n",
      "/home/ubuntu/.venv/lib/python3.12/site-packages/matplotlib/cbook.py:1719: FutureWarning: Calling float on a single element Series is deprecated and will raise a TypeError in the future. Use float(ser.iloc[0]) instead\n",
      "  return math.isfinite(val)\n"
     ]
    },
    {
     "data": {
      "image/png": "[encoded data removed]",
      "text/plain": [
       "<Figure size 1200x800 with 4 Axes>"
      ]
     },
     "metadata": {},
     "output_type": "display_data"
    }
   ],
   "source": [
    "fig, ax = dml_obj.plot_effects()"
   ]
  },
  {
   "cell_type": "markdown",
   "metadata": {},
   "source": [
    "## Effect Aggregation\n",
    "\n",
    "As the [did-R-package](https://bcallaway11.github.io/did/index.html), the $ATT$'s can be aggregated to summarize multiple effects.\n",
    "For details on different aggregations and details on their interpretations see [Callaway and Sant'Anna(2021)](https://doi.org/10.1016/j.jeconom.2020.12.001).\n",
    "\n",
    "The aggregations are implemented via the `aggregate()` method."
   ]
  },
  {
   "cell_type": "markdown",
   "metadata": {},
   "source": [
    "### Group Aggregation\n",
    "\n",
    "To obtain group-specific effects it is possible to aggregate several $\\widehat{ATT}(\\mathrm{g},t_\\text{pre},t_\\text{eval})$ values based on the group $\\mathrm{g}$ by setting the `aggregation=\"group\"` argument."
   ]
  },
  {
   "cell_type": "code",
   "execution_count": 17,
   "metadata": {},
   "outputs": [
    {
     "name": "stdout",
     "output_type": "stream",
     "text": [
      "================== DoubleMLDIDAggregation Object ==================\n",
      " Group Aggregation \n",
      "\n",
      "------------------ Overall Aggregated Effects ------------------\n",
      "    coef  std err         t  P>|t|    2.5 %   97.5 %\n",
      "1.490559 0.034343 43.402684    0.0 1.423248 1.557869\n",
      "------------------ Aggregated Effects         ------------------\n",
      "         coef   std err          t  P>|t|     2.5 %    97.5 %\n",
      "2.0  1.956413  0.052253  37.441069    0.0  1.853998  2.058827\n",
      "3.0  1.581421  0.056230  28.124109    0.0  1.471212  1.691630\n",
      "4.0  0.959826  0.067745  14.168265    0.0  0.827048  1.092603\n",
      "------------------ Additional Information     ------------------\n",
      "Score function: observational\n",
      "Control group: never_treated\n",
      "Anticipation periods: 0\n",
      "\n"
     ]
    },
    {
     "name": "stderr",
     "output_type": "stream",
     "text": [
      "/home/ubuntu/.venv/lib/python3.12/site-packages/doubleml/did/did_aggregation.py:368: UserWarning: Joint confidence intervals require bootstrapping which hasn't been performed yet. Automatically applying '.aggregated_frameworks.bootstrap(method=\"normal\", n_rep_boot=500)' with default values. For different bootstrap settings, call bootstrap() explicitly before plotting.\n",
      "  warnings.warn(\n"
     ]
    },
    {
     "data": {
      "image/png": "[encoded data removed]",
      "text/plain": [
       "<Figure size 1200x600 with 1 Axes>"
      ]
     },
     "metadata": {},
     "output_type": "display_data"
    }
   ],
   "source": [
    "aggregated = dml_obj.aggregate(aggregation=\"group\")\n",
    "print(aggregated)\n",
    "_ = aggregated.plot_effects()"
   ]
  },
  {
   "cell_type": "markdown",
   "metadata": {},
   "source": [
    "The output is a `DoubleMLDIDAggregation` object which includes an overall aggregation summary based on group size."
   ]
  },
  {
   "cell_type": "markdown",
   "metadata": {},
   "source": [
    "### Time Aggregation\n",
    "\n",
    "This aggregates $\\widehat{ATT}(\\mathrm{g},t_\\text{pre},t_\\text{eval})$, based on $t_\\text{eval}$, but weighted with respect to group size. Corresponds to *Calendar Time Effects* from the [did-R-package](https://bcallaway11.github.io/did/index.html).\n",
    "\n",
    "For calendar time effects set `aggregation=\"group\"`."
   ]
  },
  {
   "cell_type": "code",
   "execution_count": 15,
   "metadata": {},
   "outputs": [
    {
     "name": "stdout",
     "output_type": "stream",
     "text": [
      "================== DoubleMLDIDAggregation Object ==================\n",
      " Time Aggregation \n",
      "\n",
      "------------------ Overall Aggregated Effects ------------------\n",
      "    coef  std err         t  P>|t|    2.5 %   97.5 %\n",
      "1.482646 0.035122 42.214692    0.0 1.413809 1.551483\n",
      "------------------ Aggregated Effects         ------------------\n",
      "       coef   std err          t  P>|t|     2.5 %    97.5 %\n",
      "2  0.925650  0.064143  14.430953    0.0  0.799932  1.051369\n",
      "3  1.547060  0.051295  30.160244    0.0  1.446524  1.647596\n",
      "4  1.975228  0.046695  42.300363    0.0  1.883707  2.066749\n",
      "------------------ Additional Information     ------------------\n",
      "Score function: observational\n",
      "Control group: never_treated\n",
      "Anticipation periods: 0\n",
      "\n"
     ]
    },
    {
     "name": "stderr",
     "output_type": "stream",
     "text": [
      "/home/ubuntu/.venv/lib/python3.12/site-packages/doubleml/did/did_aggregation.py:368: UserWarning: Joint confidence intervals require bootstrapping which hasn't been performed yet. Automatically applying '.aggregated_frameworks.bootstrap(method=\"normal\", n_rep_boot=500)' with default values. For different bootstrap settings, call bootstrap() explicitly before plotting.\n",
      "  warnings.warn(\n"
     ]
    },
    {
     "data": {
      "image/png": "[encoded data removed]",
      "text/plain": [
       "<Figure size 1200x600 with 1 Axes>"
      ]
     },
     "metadata": {},
     "output_type": "display_data"
    }
   ],
   "source": [
    "aggregated_time = dml_obj.aggregate(\"time\")\n",
    "print(aggregated_time)\n",
    "fig, ax = aggregated_time.plot_effects()"
   ]
  },
  {
   "cell_type": "markdown",
   "metadata": {},
   "source": [
    "## Event Study Aggregation\n",
    "\n",
    "Finally, `aggregation=\"eventstudy\"` aggregates $\\widehat{ATT}(\\mathrm{g},t_\\text{pre},t_\\text{eval})$ based on exposure time $e = t_\\text{eval} - \\mathrm{g}$ (respecting group size)."
   ]
  },
  {
   "cell_type": "code",
   "execution_count": 16,
   "metadata": {},
   "outputs": [
    {
     "name": "stdout",
     "output_type": "stream",
     "text": [
      "================== DoubleMLDIDAggregation Object ==================\n",
      " Event Study Aggregation \n",
      "\n",
      "------------------ Overall Aggregated Effects ------------------\n",
      "    coef  std err         t  P>|t|    2.5 %   97.5 %\n",
      "1.991584 0.038736 51.414242    0.0 1.915663 2.067506\n",
      "------------------ Aggregated Effects         ------------------\n",
      "          coef   std err          t     P>|t|     2.5 %    97.5 %\n",
      "-2.0 -0.000186  0.068382  -0.002723  0.997827 -0.134213  0.133841\n",
      "-1.0  0.013228  0.040589   0.325893  0.744505 -0.066325  0.092781\n",
      "0.0   0.995559  0.030849  32.272276  0.000000  0.935096  1.056021\n",
      "1.0   2.023443  0.045615  44.359392  0.000000  1.934039  2.112846\n",
      "2.0   2.955752  0.063206  46.764006  0.000000  2.831871  3.079633\n",
      "------------------ Additional Information     ------------------\n",
      "Score function: observational\n",
      "Control group: never_treated\n",
      "Anticipation periods: 0\n",
      "\n"
     ]
    },
    {
     "name": "stderr",
     "output_type": "stream",
     "text": [
      "/home/ubuntu/.venv/lib/python3.12/site-packages/doubleml/did/did_aggregation.py:368: UserWarning: Joint confidence intervals require bootstrapping which hasn't been performed yet. Automatically applying '.aggregated_frameworks.bootstrap(method=\"normal\", n_rep_boot=500)' with default values. For different bootstrap settings, call bootstrap() explicitly before plotting.\n",
      "  warnings.warn(\n"
     ]
    },
    {
     "data": {
      "image/png": "[encoded data removed]",
      "text/plain": [
       "<Figure size 1200x600 with 1 Axes>"
      ]
     },
     "metadata": {},
     "output_type": "display_data"
    }
   ],
   "source": [
    "aggregated_eventstudy = dml_obj.aggregate(\"eventstudy\")\n",
    "print(aggregated_eventstudy)\n",
    "fig, ax = aggregated_eventstudy.plot_effects()"
   ]
  },
  {
   "cell_type": "markdown",
   "metadata": {},
   "source": [
    "### Aggregation Details\n",
    "\n",
    "The `DoubleMLDIDAggregation` objects include several `DoubleMLFrameworks` which support methods like `bootstrap()` or `confint()`.\n",
    "Further, the weights can be accessed via the properties\n",
    "\n",
    " - ``overall_aggregation_weights``: weights for the overall aggregation\n",
    " - ``aggregation_weights``: weights for the aggregation\n",
    "\n",
    "To clarify, e.g. for the eventstudy aggregation"
   ]
  },
  {
   "cell_type": "code",
   "execution_count": 22,
   "metadata": {},
   "outputs": [
    {
     "name": "stdout",
     "output_type": "stream",
     "text": [
      "================== DoubleMLDIDAggregation Object ==================\n",
      " Event Study Aggregation \n",
      "\n",
      "------------------ Overall Aggregated Effects ------------------\n",
      "    coef  std err         t  P>|t|    2.5 %   97.5 %\n",
      "1.991584 0.038736 51.414242    0.0 1.915663 2.067506\n",
      "------------------ Aggregated Effects         ------------------\n",
      "          coef   std err          t     P>|t|     2.5 %    97.5 %\n",
      "-2.0 -0.000186  0.068382  -0.002723  0.997827 -0.134213  0.133841\n",
      "-1.0  0.013228  0.040589   0.325893  0.744505 -0.066325  0.092781\n",
      "0.0   0.995559  0.030849  32.272276  0.000000  0.935096  1.056021\n",
      "1.0   2.023443  0.045615  44.359392  0.000000  1.934039  2.112846\n",
      "2.0   2.955752  0.063206  46.764006  0.000000  2.831871  3.079633\n",
      "------------------ Additional Information     ------------------\n",
      "Score function: observational\n",
      "Control group: never_treated\n",
      "Anticipation periods: 0\n",
      "\n"
     ]
    }
   ],
   "source": [
    "print(aggregated_eventstudy)"
   ]
  },
  {
   "cell_type": "markdown",
   "metadata": {},
   "source": [
    "Here, the overall effect aggregation aggregates each effect with positive exposure"
   ]
  },
  {
   "cell_type": "code",
   "execution_count": 23,
   "metadata": {},
   "outputs": [
    {
     "name": "stdout",
     "output_type": "stream",
     "text": [
      "[0.         0.         0.33333333 0.33333333 0.33333333]\n"
     ]
    }
   ],
   "source": [
    "print(aggregated_eventstudy.overall_aggregation_weights)"
   ]
  },
  {
   "cell_type": "markdown",
   "metadata": {},
   "source": [
    "If one would like to consider how the aggregated effect with $e=0$ is computed, one would have to look at the third set of weights within the ``aggregation_weights`` property"
   ]
  },
  {
   "cell_type": "code",
   "execution_count": 27,
   "metadata": {},
   "outputs": [
    {
     "data": {
      "text/plain": [
       "array([0.32875335, 0.        , 0.        , 0.        , 0.32674263,\n",
       "       0.        , 0.        , 0.        , 0.34450402])"
      ]
     },
     "execution_count": 27,
     "metadata": {},
     "output_type": "execute_result"
    }
   ],
   "source": [
    "aggregated_eventstudy.aggregation_weights[2]"
   ]
  },
  {
   "cell_type": "markdown",
   "metadata": {},
   "source": [
    "Taking a look at the original `dml_obj`, one can see that this combines the following estimates:\n",
    "\n",
    " - $\\widehat{ATT}(2,1,2)$\n",
    " - $\\widehat{ATT}(3,2,3)$\n",
    " - $\\widehat{ATT}(4,3,4)$"
   ]
  },
  {
   "cell_type": "code",
   "execution_count": 28,
   "metadata": {},
   "outputs": [
    {
     "name": "stdout",
     "output_type": "stream",
     "text": [
      "                  coef   std err          t     P>|t|     2.5 %    97.5 %\n",
      "ATT(2.0,1,2)  0.925650  0.064143  14.430953  0.000000  0.799932  1.051369\n",
      "ATT(2.0,1,3)  1.987835  0.064616  30.763940  0.000000  1.861190  2.114479\n",
      "ATT(2.0,1,4)  2.955752  0.063206  46.764006  0.000000  2.831871  3.079633\n",
      "ATT(3.0,1,2) -0.039327  0.066091  -0.595052  0.551809 -0.168862  0.090208\n",
      "ATT(3.0,2,3)  1.103572  0.065372  16.881417  0.000000  0.975446  1.231699\n",
      "ATT(3.0,2,4)  2.059269  0.065414  31.480585  0.000000  1.931060  2.187478\n",
      "ATT(4.0,1,2) -0.000186  0.068382  -0.002723  0.997827 -0.134213  0.133841\n",
      "ATT(4.0,2,3)  0.063073  0.066448   0.949209  0.342514 -0.067163  0.193309\n",
      "ATT(4.0,3,4)  0.959826  0.067745  14.168265  0.000000  0.827048  1.092603\n"
     ]
    }
   ],
   "source": [
    "print(dml_obj.summary)"
   ]
  }
 ],
 "metadata": {
  "kernelspec": {
   "display_name": ".venv",
   "language": "python",
   "name": "python3"
  },
  "language_info": {
   "codemirror_mode": {
    "name": "ipython",
    "version": 3
   },
   "file_extension": ".py",
   "mimetype": "text/x-python",
   "name": "python",
   "nbconvert_exporter": "python",
   "pygments_lexer": "ipython3",
   "version": "3.12.3"
  }
 },
 "nbformat": 4,
 "nbformat_minor": 2
}
