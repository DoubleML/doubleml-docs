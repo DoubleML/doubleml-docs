{
 "cells": [
  {
   "cell_type": "markdown",
   "metadata": {},
   "source": [
    "# Python: Pepeated Cross-Sectional Data with Multiple Time Periods\n",
    "\n",
    "In this example, a detailed guide on Difference-in-Differences with multiple time periods using the [DoubleML-package](https://docs.doubleml.org/stable/index.html). The implementation is based on [Callaway and Sant'Anna(2021)](https://doi.org/10.1016/j.jeconom.2020.12.001).\n",
    "\n",
    "The notebook requires the following packages:"
   ]
  },
  {
   "cell_type": "code",
   "execution_count": 1,
   "metadata": {},
   "outputs": [],
   "source": [
    "import seaborn as sns\n",
    "import matplotlib.pyplot as plt\n",
    "import pandas as pd\n",
    "import numpy as np\n",
    "\n",
    "from lightgbm import LGBMRegressor, LGBMClassifier\n",
    "from sklearn.linear_model import LinearRegression, LogisticRegression\n",
    "\n",
    "from doubleml.did import DoubleMLDIDMulti\n",
    "from doubleml.data import DoubleMLPanelData\n",
    "\n",
    "from doubleml.did.datasets import make_did_cs_CS2021"
   ]
  },
  {
   "cell_type": "markdown",
   "metadata": {},
   "source": [
    "## Data\n",
    "\n",
    "We will rely on the `make_did_CS2021` DGP, which is inspired by [Callaway and Sant'Anna(2021)](https://doi.org/10.1016/j.jeconom.2020.12.001) (Appendix SC) and [Sant'Anna and Zhao (2020)](https://doi.org/10.1016/j.jeconom.2020.06.003).\n",
    "\n",
    "We will observe `n_obs` units over `n_periods`. Remark that the dataframe includes observations of the potential outcomes `y0` and `y1`, such that we can use oracle estimates as comparisons. "
   ]
  },
  {
   "cell_type": "code",
   "execution_count": 2,
   "metadata": {},
   "outputs": [
    {
     "name": "stdout",
     "output_type": "stream",
     "text": [
      "(29998, 11)\n"
     ]
    },
    {
     "data": {
      "application/vnd.microsoft.datawrangler.viewer.v0+json": {
       "columns": [
        {
         "name": "index",
         "rawType": "int64",
         "type": "integer"
        },
        {
         "name": "id",
         "rawType": "int32",
         "type": "integer"
        },
        {
         "name": "y",
         "rawType": "float64",
         "type": "float"
        },
        {
         "name": "y0",
         "rawType": "float64",
         "type": "float"
        },
        {
         "name": "y1",
         "rawType": "float64",
         "type": "float"
        },
        {
         "name": "d",
         "rawType": "datetime64[s]",
         "type": "unknown"
        },
        {
         "name": "t",
         "rawType": "datetime64[s]",
         "type": "unknown"
        },
        {
         "name": "Z1",
         "rawType": "float64",
         "type": "float"
        },
        {
         "name": "Z2",
         "rawType": "float64",
         "type": "float"
        },
        {
         "name": "Z3",
         "rawType": "float64",
         "type": "float"
        },
        {
         "name": "Z4",
         "rawType": "float64",
         "type": "float"
        },
        {
         "name": "ite",
         "rawType": "float64",
         "type": "float"
        }
       ],
       "ref": "cb73112f-dcc0-44cf-b725-5486c76df863",
       "rows": [
        [
         "1",
         "0",
         "224.86638592089895",
         "224.86638592089895",
         "225.37003366387543",
         "2025-05-01 00:00:00",
         "2025-02-01 00:00:00",
         "0.4671721828947523",
         "0.4239225088568143",
         "0.5890045291272173",
         "0.33805278864401483",
         "0.503647742976483"
        ],
        [
         "3",
         "0",
         "240.87110351157781",
         "240.87110351157781",
         "242.1631155371371",
         "2025-05-01 00:00:00",
         "2025-04-01 00:00:00",
         "0.4671721828947523",
         "0.4239225088568143",
         "0.5890045291272173",
         "0.33805278864401483",
         "1.2920120255592735"
        ],
        [
         "6",
         "1",
         "209.36164439761967",
         "209.36164439761967",
         "209.18480746912746",
         "2025-05-01 00:00:00",
         "2025-01-01 00:00:00",
         "-0.9383548236372722",
         "-0.29579403882227717",
         "-1.3016372373544634",
         "-0.011304904384558454",
         "-0.17683692849220733"
        ],
        [
         "8",
         "1",
         "205.5686810059464",
         "205.5686810059464",
         "207.61281466005258",
         "2025-05-01 00:00:00",
         "2025-03-01 00:00:00",
         "-0.9383548236372722",
         "-0.29579403882227717",
         "-1.3016372373544634",
         "-0.011304904384558454",
         "2.04413365410619"
        ],
        [
         "9",
         "1",
         "204.83672778092412",
         "204.83672778092412",
         "202.1384699736092",
         "2025-05-01 00:00:00",
         "2025-04-01 00:00:00",
         "-0.9383548236372722",
         "-0.29579403882227717",
         "-1.3016372373544634",
         "-0.011304904384558454",
         "-2.698257807314917"
        ]
       ],
       "shape": {
        "columns": 11,
        "rows": 5
       }
      },
      "text/html": [
       "<div>\n",
       "<style scoped>\n",
       "    .dataframe tbody tr th:only-of-type {\n",
       "        vertical-align: middle;\n",
       "    }\n",
       "\n",
       "    .dataframe tbody tr th {\n",
       "        vertical-align: top;\n",
       "    }\n",
       "\n",
       "    .dataframe thead th {\n",
       "        text-align: right;\n",
       "    }\n",
       "</style>\n",
       "<table border=\"1\" class=\"dataframe\">\n",
       "  <thead>\n",
       "    <tr style=\"text-align: right;\">\n",
       "      <th></th>\n",
       "      <th>id</th>\n",
       "      <th>y</th>\n",
       "      <th>y0</th>\n",
       "      <th>y1</th>\n",
       "      <th>d</th>\n",
       "      <th>t</th>\n",
       "      <th>Z1</th>\n",
       "      <th>Z2</th>\n",
       "      <th>Z3</th>\n",
       "      <th>Z4</th>\n",
       "      <th>ite</th>\n",
       "    </tr>\n",
       "  </thead>\n",
       "  <tbody>\n",
       "    <tr>\n",
       "      <th>1</th>\n",
       "      <td>0</td>\n",
       "      <td>224.866386</td>\n",
       "      <td>224.866386</td>\n",
       "      <td>225.370034</td>\n",
       "      <td>2025-05-01</td>\n",
       "      <td>2025-02-01</td>\n",
       "      <td>0.467172</td>\n",
       "      <td>0.423923</td>\n",
       "      <td>0.589005</td>\n",
       "      <td>0.338053</td>\n",
       "      <td>0.503648</td>\n",
       "    </tr>\n",
       "    <tr>\n",
       "      <th>3</th>\n",
       "      <td>0</td>\n",
       "      <td>240.871104</td>\n",
       "      <td>240.871104</td>\n",
       "      <td>242.163116</td>\n",
       "      <td>2025-05-01</td>\n",
       "      <td>2025-04-01</td>\n",
       "      <td>0.467172</td>\n",
       "      <td>0.423923</td>\n",
       "      <td>0.589005</td>\n",
       "      <td>0.338053</td>\n",
       "      <td>1.292012</td>\n",
       "    </tr>\n",
       "    <tr>\n",
       "      <th>6</th>\n",
       "      <td>1</td>\n",
       "      <td>209.361644</td>\n",
       "      <td>209.361644</td>\n",
       "      <td>209.184807</td>\n",
       "      <td>2025-05-01</td>\n",
       "      <td>2025-01-01</td>\n",
       "      <td>-0.938355</td>\n",
       "      <td>-0.295794</td>\n",
       "      <td>-1.301637</td>\n",
       "      <td>-0.011305</td>\n",
       "      <td>-0.176837</td>\n",
       "    </tr>\n",
       "    <tr>\n",
       "      <th>8</th>\n",
       "      <td>1</td>\n",
       "      <td>205.568681</td>\n",
       "      <td>205.568681</td>\n",
       "      <td>207.612815</td>\n",
       "      <td>2025-05-01</td>\n",
       "      <td>2025-03-01</td>\n",
       "      <td>-0.938355</td>\n",
       "      <td>-0.295794</td>\n",
       "      <td>-1.301637</td>\n",
       "      <td>-0.011305</td>\n",
       "      <td>2.044134</td>\n",
       "    </tr>\n",
       "    <tr>\n",
       "      <th>9</th>\n",
       "      <td>1</td>\n",
       "      <td>204.836728</td>\n",
       "      <td>204.836728</td>\n",
       "      <td>202.138470</td>\n",
       "      <td>2025-05-01</td>\n",
       "      <td>2025-04-01</td>\n",
       "      <td>-0.938355</td>\n",
       "      <td>-0.295794</td>\n",
       "      <td>-1.301637</td>\n",
       "      <td>-0.011305</td>\n",
       "      <td>-2.698258</td>\n",
       "    </tr>\n",
       "  </tbody>\n",
       "</table>\n",
       "</div>"
      ],
      "text/plain": [
       "   id           y          y0          y1          d          t        Z1  \\\n",
       "1   0  224.866386  224.866386  225.370034 2025-05-01 2025-02-01  0.467172   \n",
       "3   0  240.871104  240.871104  242.163116 2025-05-01 2025-04-01  0.467172   \n",
       "6   1  209.361644  209.361644  209.184807 2025-05-01 2025-01-01 -0.938355   \n",
       "8   1  205.568681  205.568681  207.612815 2025-05-01 2025-03-01 -0.938355   \n",
       "9   1  204.836728  204.836728  202.138470 2025-05-01 2025-04-01 -0.938355   \n",
       "\n",
       "         Z2        Z3        Z4       ite  \n",
       "1  0.423923  0.589005  0.338053  0.503648  \n",
       "3  0.423923  0.589005  0.338053  1.292012  \n",
       "6 -0.295794 -1.301637 -0.011305 -0.176837  \n",
       "8 -0.295794 -1.301637 -0.011305  2.044134  \n",
       "9 -0.295794 -1.301637 -0.011305 -2.698258  "
      ]
     },
     "execution_count": 2,
     "metadata": {},
     "output_type": "execute_result"
    }
   ],
   "source": [
    "n_obs = 5000\n",
    "n_periods = 6\n",
    "\n",
    "df = make_did_cs_CS2021(n_obs, dgp_type=4, include_never_treated=True, n_periods=n_periods, n_pre_treat_periods=3, lambda_t=0.5,\n",
    "                        time_type=\"datetime\")\n",
    "df[\"ite\"] = df[\"y1\"] - df[\"y0\"]\n",
    "\n",
    "print(df.shape)\n",
    "df.head()"
   ]
  },
  {
   "cell_type": "markdown",
   "metadata": {},
   "source": [
    "### Data Details\n",
    "\n",
    "*Here, we slightly abuse the definition of the potential outcomes. $Y_{i,t}(1)$ corresponds to the (potential) outcome if unit $i$ would have received treatment at time period $\\mathrm{g}$ (where the group $\\mathrm{g}$ is drawn with probabilities based on $Z$).*\n",
    "\n",
    "The data set with repeated cross-sectional data is generated on the basis of a panel data set with the following data generating process (DGP). To obtain repeated cross-sectional data, the number of generated individuals is increased to $\\frac{n_{obs}}{\\lambda_t}$, where $\\lambda_t$ denotes the probability to observe a unit at each time period (time constant).\n",
    "\n",
    "More specifically\n",
    "\n",
    "$$\n",
    "\\begin{align*}\n",
    "Y_{i,t}(0)&:= f_t(Z) + \\delta_t + \\eta_i + \\varepsilon_{i,t,0}\\\\\n",
    "Y_{i,t}(1)&:= Y_{i,t}(0) + \\theta_{i,t,\\mathrm{g}} + \\epsilon_{i,t,1} - \\epsilon_{i,t,0}\n",
    "\\end{align*}\n",
    "$$\n",
    "\n",
    "where\n",
    " - $f_t(Z)$ depends on pre-treatment observable covariates $Z_1,\\dots, Z_4$ and time $t$\n",
    " - $\\delta_t$ is a time fixed effect\n",
    " - $\\eta_i$ is a unit fixed effect\n",
    " - $\\epsilon_{i,t,\\cdot}$ are time varying unobservables (iid. $N(0,1)$)\n",
    " - $\\theta_{i,t,\\mathrm{g}}$ correponds to the exposure effect of unit $i$ based on group $\\mathrm{g}$ at time $t$\n",
    "\n",
    "For the pre-treatment periods the exposure effect is set to\n",
    "$$\n",
    "\\theta_{i,t,\\mathrm{g}}:= 0 \\text{ for } t<\\mathrm{g}\n",
    "$$\n",
    "such that \n",
    "\n",
    "$$\n",
    "\\mathbb{E}[Y_{i,t}(1) - Y_{i,t}(0)] = \\mathbb{E}[\\epsilon_{i,t,1} - \\epsilon_{i,t,0}]=0  \\text{ for } t<\\mathrm{g}\n",
    "$$\n",
    "\n",
    "The [DoubleML Coverage Repository](https://docs.doubleml.org/doubleml-coverage/) includes coverage simulations based on this DGP."
   ]
  },
  {
   "cell_type": "markdown",
   "metadata": {},
   "source": [
    "### Data Description"
   ]
  },
  {
   "cell_type": "markdown",
   "metadata": {},
   "source": [
    "The data is a balanced panel where each unit is observed over `n_periods` starting Janary 2025."
   ]
  },
  {
   "cell_type": "code",
   "execution_count": 3,
   "metadata": {},
   "outputs": [
    {
     "data": {
      "application/vnd.microsoft.datawrangler.viewer.v0+json": {
       "columns": [
        {
         "name": "t",
         "rawType": "datetime64[s]",
         "type": "unknown"
        },
        {
         "name": "0",
         "rawType": "int64",
         "type": "integer"
        }
       ],
       "ref": "4b073d89-291f-4947-893a-1ca7a31e97ad",
       "rows": [
        [
         "2025-01-01 00:00:00",
         "4941"
        ],
        [
         "2025-02-01 00:00:00",
         "4969"
        ],
        [
         "2025-03-01 00:00:00",
         "5072"
        ],
        [
         "2025-04-01 00:00:00",
         "4973"
        ],
        [
         "2025-05-01 00:00:00",
         "5040"
        ],
        [
         "2025-06-01 00:00:00",
         "5003"
        ]
       ],
       "shape": {
        "columns": 1,
        "rows": 6
       }
      },
      "text/plain": [
       "t\n",
       "2025-01-01    4941\n",
       "2025-02-01    4969\n",
       "2025-03-01    5072\n",
       "2025-04-01    4973\n",
       "2025-05-01    5040\n",
       "2025-06-01    5003\n",
       "dtype: int64"
      ]
     },
     "execution_count": 3,
     "metadata": {},
     "output_type": "execute_result"
    }
   ],
   "source": [
    "df.groupby(\"t\").size()"
   ]
  },
  {
   "cell_type": "markdown",
   "metadata": {},
   "source": [
    "The treatment column `d` indicates first treatment period of the corresponding unit, whereas `NaT` units are never treated.\n",
    "\n",
    "*Generally, never treated units should take either on the value `np.inf` or `pd.NaT` depending on the data type (`float` or `datetime`).*\n",
    "\n",
    "The individual units are roughly uniformly divided between the groups, where treatment assignment depends on the pre-treatment covariates `Z1` to `Z4`."
   ]
  },
  {
   "cell_type": "code",
   "execution_count": 4,
   "metadata": {},
   "outputs": [
    {
     "data": {
      "application/vnd.microsoft.datawrangler.viewer.v0+json": {
       "columns": [
        {
         "name": "d",
         "rawType": "datetime64[s]",
         "type": "unknown"
        },
        {
         "name": "0",
         "rawType": "int64",
         "type": "integer"
        }
       ],
       "ref": "ede57e78-7aa0-4b22-9d41-8c6d64b668f3",
       "rows": [
        [
         "2025-04-01 00:00:00",
         "7932"
        ],
        [
         "2025-05-01 00:00:00",
         "7150"
        ],
        [
         "2025-06-01 00:00:00",
         "7130"
        ],
        [
         null,
         "7786"
        ]
       ],
       "shape": {
        "columns": 1,
        "rows": 4
       }
      },
      "text/plain": [
       "d\n",
       "2025-04-01    7932\n",
       "2025-05-01    7150\n",
       "2025-06-01    7130\n",
       "NaT           7786\n",
       "dtype: int64"
      ]
     },
     "execution_count": 4,
     "metadata": {},
     "output_type": "execute_result"
    }
   ],
   "source": [
    "df.groupby(\"d\", dropna=False).size()"
   ]
  },
  {
   "cell_type": "markdown",
   "metadata": {},
   "source": [
    "Here, the group indicates the first treated period and `NaT` units are never treated. To simplify plotting and pands"
   ]
  },
  {
   "cell_type": "code",
   "execution_count": 5,
   "metadata": {},
   "outputs": [
    {
     "data": {
      "application/vnd.microsoft.datawrangler.viewer.v0+json": {
       "columns": [
        {
         "name": "d",
         "rawType": "datetime64[s]",
         "type": "unknown"
        },
        {
         "name": "0",
         "rawType": "int64",
         "type": "integer"
        }
       ],
       "ref": "f7dd6712-81bd-4571-8908-ff508425d73e",
       "rows": [
        [
         "2025-04-01 00:00:00",
         "7932"
        ],
        [
         "2025-05-01 00:00:00",
         "7150"
        ],
        [
         "2025-06-01 00:00:00",
         "7130"
        ],
        [
         null,
         "7786"
        ]
       ],
       "shape": {
        "columns": 1,
        "rows": 4
       }
      },
      "text/plain": [
       "d\n",
       "2025-04-01    7932\n",
       "2025-05-01    7150\n",
       "2025-06-01    7130\n",
       "NaT           7786\n",
       "dtype: int64"
      ]
     },
     "execution_count": 5,
     "metadata": {},
     "output_type": "execute_result"
    }
   ],
   "source": [
    "df.groupby(\"d\", dropna=False).size()"
   ]
  },
  {
   "cell_type": "markdown",
   "metadata": {},
   "source": [
    "To get a better understanding of the underlying data and true effects, we will compare the unconditional averages and the true effects based on the oracle values of individual effects `ite`."
   ]
  },
  {
   "cell_type": "code",
   "execution_count": 6,
   "metadata": {},
   "outputs": [
    {
     "data": {
      "application/vnd.microsoft.datawrangler.viewer.v0+json": {
       "columns": [
        {
         "name": "index",
         "rawType": "int64",
         "type": "integer"
        },
        {
         "name": "t",
         "rawType": "datetime64[s]",
         "type": "unknown"
        },
        {
         "name": "First Treated",
         "rawType": "object",
         "type": "string"
        },
        {
         "name": "y_mean",
         "rawType": "float64",
         "type": "float"
        },
        {
         "name": "y_lower_quantile",
         "rawType": "float64",
         "type": "float"
        },
        {
         "name": "y_upper_quantile",
         "rawType": "float64",
         "type": "float"
        },
        {
         "name": "ite_mean",
         "rawType": "float64",
         "type": "float"
        },
        {
         "name": "ite_lower_quantile",
         "rawType": "float64",
         "type": "float"
        },
        {
         "name": "ite_upper_quantile",
         "rawType": "float64",
         "type": "float"
        }
       ],
       "ref": "ee0779d1-13a6-4566-b589-8223802eb634",
       "rows": [
        [
         "0",
         "2025-01-01 00:00:00",
         "2025-04",
         "208.3657053918318",
         "198.34456813757416",
         "218.09310046986172",
         "-0.06488365532630465",
         "-2.36260670995788",
         "2.24430385417629"
        ],
        [
         "1",
         "2025-01-01 00:00:00",
         "2025-05",
         "210.26636762761242",
         "200.07470515160784",
         "220.44672591184232",
         "-0.07771433309164828",
         "-2.4383396389369736",
         "2.226500777605647"
        ],
        [
         "2",
         "2025-01-01 00:00:00",
         "2025-06",
         "212.68365722353033",
         "202.9579121351787",
         "222.82228704687216",
         "-0.03338876242840714",
         "-2.6001308153224327",
         "2.3447348204781484"
        ],
        [
         "3",
         "2025-01-01 00:00:00",
         "Never Treated",
         "214.70910022987115",
         "204.87669782726906",
         "224.68864156717308",
         "-0.07823343537672198",
         "-2.4325321824175177",
         "2.1783321303207828"
        ],
        [
         "4",
         "2025-02-01 00:00:00",
         "2025-04",
         "208.142666371447",
         "188.81256624747476",
         "227.6694729267284",
         "0.03228929556563467",
         "-2.193444242399346",
         "2.3292106874802427"
        ]
       ],
       "shape": {
        "columns": 8,
        "rows": 5
       }
      },
      "text/html": [
       "<div>\n",
       "<style scoped>\n",
       "    .dataframe tbody tr th:only-of-type {\n",
       "        vertical-align: middle;\n",
       "    }\n",
       "\n",
       "    .dataframe tbody tr th {\n",
       "        vertical-align: top;\n",
       "    }\n",
       "\n",
       "    .dataframe thead th {\n",
       "        text-align: right;\n",
       "    }\n",
       "</style>\n",
       "<table border=\"1\" class=\"dataframe\">\n",
       "  <thead>\n",
       "    <tr style=\"text-align: right;\">\n",
       "      <th></th>\n",
       "      <th>t</th>\n",
       "      <th>First Treated</th>\n",
       "      <th>y_mean</th>\n",
       "      <th>y_lower_quantile</th>\n",
       "      <th>y_upper_quantile</th>\n",
       "      <th>ite_mean</th>\n",
       "      <th>ite_lower_quantile</th>\n",
       "      <th>ite_upper_quantile</th>\n",
       "    </tr>\n",
       "  </thead>\n",
       "  <tbody>\n",
       "    <tr>\n",
       "      <th>0</th>\n",
       "      <td>2025-01-01</td>\n",
       "      <td>2025-04</td>\n",
       "      <td>208.365705</td>\n",
       "      <td>198.344568</td>\n",
       "      <td>218.093100</td>\n",
       "      <td>-0.064884</td>\n",
       "      <td>-2.362607</td>\n",
       "      <td>2.244304</td>\n",
       "    </tr>\n",
       "    <tr>\n",
       "      <th>1</th>\n",
       "      <td>2025-01-01</td>\n",
       "      <td>2025-05</td>\n",
       "      <td>210.266368</td>\n",
       "      <td>200.074705</td>\n",
       "      <td>220.446726</td>\n",
       "      <td>-0.077714</td>\n",
       "      <td>-2.438340</td>\n",
       "      <td>2.226501</td>\n",
       "    </tr>\n",
       "    <tr>\n",
       "      <th>2</th>\n",
       "      <td>2025-01-01</td>\n",
       "      <td>2025-06</td>\n",
       "      <td>212.683657</td>\n",
       "      <td>202.957912</td>\n",
       "      <td>222.822287</td>\n",
       "      <td>-0.033389</td>\n",
       "      <td>-2.600131</td>\n",
       "      <td>2.344735</td>\n",
       "    </tr>\n",
       "    <tr>\n",
       "      <th>3</th>\n",
       "      <td>2025-01-01</td>\n",
       "      <td>Never Treated</td>\n",
       "      <td>214.709100</td>\n",
       "      <td>204.876698</td>\n",
       "      <td>224.688642</td>\n",
       "      <td>-0.078233</td>\n",
       "      <td>-2.432532</td>\n",
       "      <td>2.178332</td>\n",
       "    </tr>\n",
       "    <tr>\n",
       "      <th>4</th>\n",
       "      <td>2025-02-01</td>\n",
       "      <td>2025-04</td>\n",
       "      <td>208.142666</td>\n",
       "      <td>188.812566</td>\n",
       "      <td>227.669473</td>\n",
       "      <td>0.032289</td>\n",
       "      <td>-2.193444</td>\n",
       "      <td>2.329211</td>\n",
       "    </tr>\n",
       "  </tbody>\n",
       "</table>\n",
       "</div>"
      ],
      "text/plain": [
       "           t  First Treated      y_mean  y_lower_quantile  y_upper_quantile  \\\n",
       "0 2025-01-01        2025-04  208.365705        198.344568        218.093100   \n",
       "1 2025-01-01        2025-05  210.266368        200.074705        220.446726   \n",
       "2 2025-01-01        2025-06  212.683657        202.957912        222.822287   \n",
       "3 2025-01-01  Never Treated  214.709100        204.876698        224.688642   \n",
       "4 2025-02-01        2025-04  208.142666        188.812566        227.669473   \n",
       "\n",
       "   ite_mean  ite_lower_quantile  ite_upper_quantile  \n",
       "0 -0.064884           -2.362607            2.244304  \n",
       "1 -0.077714           -2.438340            2.226501  \n",
       "2 -0.033389           -2.600131            2.344735  \n",
       "3 -0.078233           -2.432532            2.178332  \n",
       "4  0.032289           -2.193444            2.329211  "
      ]
     },
     "execution_count": 6,
     "metadata": {},
     "output_type": "execute_result"
    }
   ],
   "source": [
    "# rename for plotting\n",
    "df[\"First Treated\"] = df[\"d\"].dt.strftime(\"%Y-%m\").fillna(\"Never Treated\")\n",
    "\n",
    "# Create aggregation dictionary for means\n",
    "def agg_dict(col_name):\n",
    "    return {\n",
    "        f'{col_name}_mean': (col_name, 'mean'),\n",
    "        f'{col_name}_lower_quantile': (col_name, lambda x: x.quantile(0.05)),\n",
    "        f'{col_name}_upper_quantile': (col_name, lambda x: x.quantile(0.95))\n",
    "    }\n",
    "\n",
    "# Calculate means and confidence intervals\n",
    "agg_dictionary = agg_dict(\"y\") | agg_dict(\"ite\")\n",
    "\n",
    "agg_df = df.groupby([\"t\", \"First Treated\"]).agg(**agg_dictionary).reset_index()\n",
    "agg_df.head()"
   ]
  },
  {
   "cell_type": "code",
   "execution_count": 7,
   "metadata": {},
   "outputs": [],
   "source": [
    "def plot_data(df, col_name='y'):\n",
    "    \"\"\"\n",
    "    Create an improved plot with colorblind-friendly features\n",
    "    \n",
    "    Parameters:\n",
    "    -----------\n",
    "    df : DataFrame\n",
    "        The dataframe containing the data\n",
    "    col_name : str, default='y'\n",
    "        Column name to plot (will use '{col_name}_mean')\n",
    "    \"\"\"\n",
    "    plt.figure(figsize=(12, 7))\n",
    "    n_colors = df[\"First Treated\"].nunique()\n",
    "    color_palette = sns.color_palette(\"colorblind\", n_colors=n_colors)\n",
    "\n",
    "    sns.lineplot(\n",
    "        data=df,\n",
    "        x='t',\n",
    "        y=f'{col_name}_mean',\n",
    "        hue='First Treated',\n",
    "        style='First Treated',\n",
    "        palette=color_palette,\n",
    "        markers=True,\n",
    "        dashes=True,\n",
    "        linewidth=2.5,\n",
    "        alpha=0.8\n",
    "    )\n",
    "    \n",
    "    plt.title(f'Average Values {col_name} by Group Over Time', fontsize=16)\n",
    "    plt.xlabel('Time', fontsize=14)\n",
    "    plt.ylabel(f'Average Value {col_name}', fontsize=14)\n",
    "    \n",
    "\n",
    "    plt.legend(title='First Treated', title_fontsize=13, fontsize=12, \n",
    "               frameon=True, framealpha=0.9, loc='best')\n",
    "    \n",
    "    plt.grid(alpha=0.3, linestyle='-')\n",
    "    plt.tight_layout()\n",
    "\n",
    "    plt.show()"
   ]
  },
  {
   "cell_type": "markdown",
   "metadata": {},
   "source": [
    "So let us take a look at the average values over time"
   ]
  },
  {
   "cell_type": "code",
   "execution_count": 8,
   "metadata": {},
   "outputs": [
    {
     "data": {
      "image/png": "[encoded data removed]",
      "text/plain": [
       "<Figure size 1200x700 with 1 Axes>"
      ]
     },
     "metadata": {},
     "output_type": "display_data"
    }
   ],
   "source": [
    "plot_data(agg_df, col_name='y')"
   ]
  },
  {
   "cell_type": "markdown",
   "metadata": {},
   "source": [
    "Instead the true average treatment treatment effects can be obtained by averaging (usually unobserved) the `ite` values.\n",
    "\n",
    "The true effect just equals the exposure time (in months):\n",
    "\n",
    "$$\n",
    "ATT(\\mathrm{g}, t) = \\min(\\mathrm{t} - \\mathrm{g} + 1, 0) =: e\n",
    "$$\n"
   ]
  },
  {
   "cell_type": "code",
   "execution_count": 9,
   "metadata": {
    "jupyter": {
     "source_hidden": true
    }
   },
   "outputs": [
    {
     "data": {
      "image/png": "[encoded data removed]",
      "text/plain": [
       "<Figure size 1200x700 with 1 Axes>"
      ]
     },
     "metadata": {},
     "output_type": "display_data"
    }
   ],
   "source": [
    "plot_data(agg_df, col_name='ite')"
   ]
  },
  {
   "cell_type": "markdown",
   "metadata": {},
   "source": [
    "### DoubleMLPanelData\n",
    "\n",
    "Finally, we can construct our `DoubleMLPanelData`, specifying\n",
    "\n",
    " - `y_col` : the outcome\n",
    " - `d_cols`: the group variable indicating the first treated period for each unit\n",
    " - `id_col`: the unique identification column for each unit\n",
    " - `t_col` : the time column\n",
    " - `x_cols`: the additional pre-treatment controls\n",
    " - `datetime_unit`: unit required for `datetime` columns and plotting"
   ]
  },
  {
   "cell_type": "code",
   "execution_count": 10,
   "metadata": {},
   "outputs": [
    {
     "name": "stdout",
     "output_type": "stream",
     "text": [
      "================== DoubleMLPanelData Object ==================\n",
      "\n",
      "------------------ Data summary      ------------------\n",
      "Outcome variable: y\n",
      "Treatment variable(s): ['d']\n",
      "Covariates: ['Z1', 'Z2', 'Z3', 'Z4']\n",
      "Instrument variable(s): None\n",
      "Time variable: t\n",
      "Id variable: id\n",
      "No. Observations: 29998\n",
      "\n",
      "------------------ DataFrame info    ------------------\n",
      "<class 'pandas.core.frame.DataFrame'>\n",
      "RangeIndex: 29998 entries, 0 to 29997\n",
      "Columns: 12 entries, id to First Treated\n",
      "dtypes: datetime64[s](2), float64(8), int32(1), object(1)\n",
      "memory usage: 2.6+ MB\n",
      "\n"
     ]
    }
   ],
   "source": [
    "dml_data = DoubleMLPanelData(\n",
    "    data=df,\n",
    "    y_col=\"y\",\n",
    "    d_cols=\"d\",\n",
    "    id_col=\"id\",\n",
    "    t_col=\"t\",\n",
    "    x_cols=[\"Z1\", \"Z2\", \"Z3\", \"Z4\"],\n",
    "    datetime_unit=\"M\"\n",
    ")\n",
    "print(dml_data)"
   ]
  },
  {
   "cell_type": "markdown",
   "metadata": {},
   "source": [
    "## ATT Estimation\n",
    "\n",
    "The [DoubleML-package](https://docs.doubleml.org/stable/index.html) implements estimation of group-time average treatment effect via the `DoubleMLDIDMulti` class (see [model documentation](https://docs.doubleml.org/stable/guide/models.html#difference-in-differences-models-did))."
   ]
  },
  {
   "cell_type": "markdown",
   "metadata": {},
   "source": [
    "### Basics\n",
    "\n",
    "The class basically behaves like other `DoubleML` classes and requires the specification of two learners (for more details on the regression elements, see [score documentation](https://docs.doubleml.org/stable/guide/scores.html#difference-in-differences-models)).\n",
    "\n",
    "The basic arguments of a `DoubleMLDIDMulti` object include\n",
    "\n",
    " - `ml_g` \"outcome\" regression learner\n",
    " - `ml_m` propensity Score learner\n",
    " - `control_group` the control group for the parallel trend assumption\n",
    " - `gt_combinations` combinations of $(\\mathrm{g},t_\\text{pre}, t_\\text{eval})$\n",
    " - `anticipation_periods` number of anticipation periods\n",
    "\n",
    "We will construct a `dict` with \"default\" arguments.\n",
    "\n",
    "For repeated cross-sectional data, we additionally specify the argument\n",
    "\n",
    "  - `panel=False`"
   ]
  },
  {
   "cell_type": "code",
   "execution_count": 15,
   "metadata": {},
   "outputs": [],
   "source": [
    "default_args = {\n",
    "    \"ml_g\": LGBMRegressor(n_estimators=500, learning_rate=0.01, verbose=-1, random_state=123),\n",
    "    \"ml_m\": LGBMClassifier(n_estimators=500, learning_rate=0.01, verbose=-1, random_state=123),\n",
    "    \"control_group\": \"never_treated\",\n",
    "    \"anticipation_periods\": 0,\n",
    "    \"n_folds\": 5,\n",
    "    \"n_rep\": 1,\n",
    "    \"panel\": False,\n",
    "}"
   ]
  },
  {
   "cell_type": "markdown",
   "metadata": {},
   "source": [
    " The model will be estimated using the `fit()` method. "
   ]
  },
  {
   "cell_type": "code",
   "execution_count": 16,
   "metadata": {},
   "outputs": [
    {
     "ename": "UFuncTypeError",
     "evalue": "Cannot cast ufunc 'greater' input 0 from dtype('<m8[M]') to dtype('<m8') with casting rule 'same_kind'",
     "output_type": "error",
     "traceback": [
      "\u001b[1;31m---------------------------------------------------------------------------\u001b[0m",
      "\u001b[1;31mUFuncTypeError\u001b[0m                            Traceback (most recent call last)",
      "Cell \u001b[1;32mIn[16], line 1\u001b[0m\n\u001b[1;32m----> 1\u001b[0m dml_obj \u001b[38;5;241m=\u001b[39m \u001b[43mDoubleMLDIDMulti\u001b[49m\u001b[43m(\u001b[49m\u001b[43mdml_data\u001b[49m\u001b[43m,\u001b[49m\u001b[43m \u001b[49m\u001b[38;5;241;43m*\u001b[39;49m\u001b[38;5;241;43m*\u001b[39;49m\u001b[43mdefault_args\u001b[49m\u001b[43m)\u001b[49m\n\u001b[0;32m      2\u001b[0m dml_obj\u001b[38;5;241m.\u001b[39mfit()\n\u001b[0;32m      3\u001b[0m \u001b[38;5;28mprint\u001b[39m(dml_obj)\n",
      "File \u001b[1;32m~\\Documents\\Promotion\\DissundPapers\\Software\\DoubleML\\doubleml-for-py\\doubleml\\did\\did_multi.py:169\u001b[0m, in \u001b[0;36mDoubleMLDIDMulti.__init__\u001b[1;34m(self, obj_dml_data, ml_g, ml_m, gt_combinations, control_group, anticipation_periods, n_folds, n_rep, score, panel, in_sample_normalization, trimming_rule, trimming_threshold, draw_sample_splitting, print_periods)\u001b[0m\n\u001b[0;32m    166\u001b[0m \u001b[38;5;28mself\u001b[39m\u001b[38;5;241m.\u001b[39m_never_treated_value \u001b[38;5;241m=\u001b[39m _get_never_treated_value(\u001b[38;5;28mself\u001b[39m\u001b[38;5;241m.\u001b[39mg_values)\n\u001b[0;32m    167\u001b[0m \u001b[38;5;28mself\u001b[39m\u001b[38;5;241m.\u001b[39m_anticipation_periods \u001b[38;5;241m=\u001b[39m _check_anticipation_periods(anticipation_periods)\n\u001b[1;32m--> 169\u001b[0m \u001b[38;5;28mself\u001b[39m\u001b[38;5;241m.\u001b[39m_gt_combinations \u001b[38;5;241m=\u001b[39m \u001b[38;5;28;43mself\u001b[39;49m\u001b[38;5;241;43m.\u001b[39;49m\u001b[43m_validate_gt_combinations\u001b[49m\u001b[43m(\u001b[49m\u001b[43mgt_combinations\u001b[49m\u001b[43m)\u001b[49m\n\u001b[0;32m    170\u001b[0m \u001b[38;5;28mself\u001b[39m\u001b[38;5;241m.\u001b[39m_gt_index \u001b[38;5;241m=\u001b[39m _construct_gt_index(\u001b[38;5;28mself\u001b[39m\u001b[38;5;241m.\u001b[39mgt_combinations, \u001b[38;5;28mself\u001b[39m\u001b[38;5;241m.\u001b[39mg_values, \u001b[38;5;28mself\u001b[39m\u001b[38;5;241m.\u001b[39mt_values)\n\u001b[0;32m    171\u001b[0m \u001b[38;5;28mself\u001b[39m\u001b[38;5;241m.\u001b[39m_post_treatment_mask \u001b[38;5;241m=\u001b[39m _construct_post_treatment_mask(\u001b[38;5;28mself\u001b[39m\u001b[38;5;241m.\u001b[39mg_values, \u001b[38;5;28mself\u001b[39m\u001b[38;5;241m.\u001b[39mt_values)\n",
      "File \u001b[1;32m~\\Documents\\Promotion\\DissundPapers\\Software\\DoubleML\\doubleml-for-py\\doubleml\\did\\did_multi.py:1254\u001b[0m, in \u001b[0;36mDoubleMLDIDMulti._validate_gt_combinations\u001b[1;34m(self, gt_combinations)\u001b[0m\n\u001b[0;32m   1251\u001b[0m \u001b[38;5;250m\u001b[39m\u001b[38;5;124;03m\"\"\"Validate all treatment-time combinations.\"\"\"\u001b[39;00m\n\u001b[0;32m   1253\u001b[0m \u001b[38;5;28;01mif\u001b[39;00m \u001b[38;5;28misinstance\u001b[39m(gt_combinations, \u001b[38;5;28mstr\u001b[39m):\n\u001b[1;32m-> 1254\u001b[0m     gt_combinations \u001b[38;5;241m=\u001b[39m \u001b[43m_construct_gt_combinations\u001b[49m\u001b[43m(\u001b[49m\n\u001b[0;32m   1255\u001b[0m \u001b[43m        \u001b[49m\u001b[43mgt_combinations\u001b[49m\u001b[43m,\u001b[49m\u001b[43m \u001b[49m\u001b[38;5;28;43mself\u001b[39;49m\u001b[38;5;241;43m.\u001b[39;49m\u001b[43mg_values\u001b[49m\u001b[43m,\u001b[49m\u001b[43m \u001b[49m\u001b[38;5;28;43mself\u001b[39;49m\u001b[38;5;241;43m.\u001b[39;49m\u001b[43mt_values\u001b[49m\u001b[43m,\u001b[49m\u001b[43m \u001b[49m\u001b[38;5;28;43mself\u001b[39;49m\u001b[38;5;241;43m.\u001b[39;49m\u001b[43mnever_treated_value\u001b[49m\u001b[43m,\u001b[49m\u001b[43m \u001b[49m\u001b[38;5;28;43mself\u001b[39;49m\u001b[38;5;241;43m.\u001b[39;49m\u001b[43manticipation_periods\u001b[49m\n\u001b[0;32m   1256\u001b[0m \u001b[43m    \u001b[49m\u001b[43m)\u001b[49m\n\u001b[0;32m   1258\u001b[0m \u001b[38;5;28;01mif\u001b[39;00m \u001b[38;5;129;01mnot\u001b[39;00m \u001b[38;5;28misinstance\u001b[39m(gt_combinations, \u001b[38;5;28mlist\u001b[39m):\n\u001b[0;32m   1259\u001b[0m     \u001b[38;5;28;01mraise\u001b[39;00m \u001b[38;5;167;01mTypeError\u001b[39;00m(\n\u001b[0;32m   1260\u001b[0m         \u001b[38;5;124m\"\u001b[39m\u001b[38;5;124mgt_combinations must be a list. \u001b[39m\u001b[38;5;124m\"\u001b[39m \u001b[38;5;241m+\u001b[39m \u001b[38;5;124mf\u001b[39m\u001b[38;5;124m\"\u001b[39m\u001b[38;5;132;01m{\u001b[39;00m\u001b[38;5;28mstr\u001b[39m(gt_combinations)\u001b[38;5;132;01m}\u001b[39;00m\u001b[38;5;124m of type \u001b[39m\u001b[38;5;132;01m{\u001b[39;00m\u001b[38;5;28mtype\u001b[39m(gt_combinations)\u001b[38;5;132;01m}\u001b[39;00m\u001b[38;5;124m was passed.\u001b[39m\u001b[38;5;124m\"\u001b[39m\n\u001b[0;32m   1261\u001b[0m     )\n",
      "File \u001b[1;32m~\\Documents\\Promotion\\DissundPapers\\Software\\DoubleML\\doubleml-for-py\\doubleml\\did\\utils\\_did_utils.py:136\u001b[0m, in \u001b[0;36m_construct_gt_combinations\u001b[1;34m(setting, g_values, t_values, never_treated_value, anticipation_periods)\u001b[0m\n\u001b[0;32m    133\u001b[0m     \u001b[38;5;28;01mraise\u001b[39;00m \u001b[38;5;167;01mValueError\u001b[39;00m(\u001b[38;5;124mf\u001b[39m\u001b[38;5;124m\"\u001b[39m\u001b[38;5;124mgt_combinations must be one of \u001b[39m\u001b[38;5;132;01m{\u001b[39;00mvalid_settings\u001b[38;5;132;01m}\u001b[39;00m\u001b[38;5;124m. \u001b[39m\u001b[38;5;132;01m{\u001b[39;00msetting\u001b[38;5;132;01m}\u001b[39;00m\u001b[38;5;124m was passed.\u001b[39m\u001b[38;5;124m\"\u001b[39m)\n\u001b[0;32m    135\u001b[0m treatment_groups \u001b[38;5;241m=\u001b[39m g_values[\u001b[38;5;241m~\u001b[39m_is_never_treated(g_values, never_treated_value)]\n\u001b[1;32m--> 136\u001b[0m \u001b[38;5;28;01mif\u001b[39;00m \u001b[38;5;129;01mnot\u001b[39;00m np\u001b[38;5;241m.\u001b[39mall(\u001b[43mnp\u001b[49m\u001b[38;5;241;43m.\u001b[39;49m\u001b[43mdiff\u001b[49m\u001b[43m(\u001b[49m\u001b[43mtreatment_groups\u001b[49m\u001b[43m)\u001b[49m\u001b[43m \u001b[49m\u001b[38;5;241;43m>\u001b[39;49m\u001b[43m \u001b[49m\u001b[38;5;241;43m0\u001b[39;49m):\n\u001b[0;32m    137\u001b[0m     \u001b[38;5;28;01mraise\u001b[39;00m \u001b[38;5;167;01mValueError\u001b[39;00m(\u001b[38;5;124m\"\u001b[39m\u001b[38;5;124mg_values must be sorted in ascending order (Excluding never treated group).\u001b[39m\u001b[38;5;124m\"\u001b[39m)\n\u001b[0;32m    138\u001b[0m \u001b[38;5;28;01mif\u001b[39;00m \u001b[38;5;129;01mnot\u001b[39;00m np\u001b[38;5;241m.\u001b[39mall(np\u001b[38;5;241m.\u001b[39mdiff(t_values) \u001b[38;5;241m>\u001b[39m \u001b[38;5;241m0\u001b[39m):\n",
      "\u001b[1;31mUFuncTypeError\u001b[0m: Cannot cast ufunc 'greater' input 0 from dtype('<m8[M]') to dtype('<m8') with casting rule 'same_kind'"
     ]
    }
   ],
   "source": [
    "dml_obj = DoubleMLDIDMulti(dml_data, **default_args)\n",
    "dml_obj.fit()\n",
    "print(dml_obj)"
   ]
  },
  {
   "cell_type": "markdown",
   "metadata": {},
   "source": [
    "The summary displays estimates of the $ATT(g,t_\\text{eval})$ effects for different combinations of $(g,t_\\text{eval})$ via $\\widehat{ATT}(\\mathrm{g},t_\\text{pre},t_\\text{eval})$, where\n",
    " - $\\mathrm{g}$ specifies the group\n",
    " - $t_\\text{pre}$ specifies the corresponding pre-treatment period\n",
    " - $t_\\text{eval}$ specifies the evaluation period\n",
    "\n",
    "The choice `gt_combinations=\"standard\"`, used estimates all possible combinations of $ATT(g,t_\\text{eval})$ via $\\widehat{ATT}(\\mathrm{g},t_\\text{pre},t_\\text{eval})$,\n",
    "where the standard choice is $t_\\text{pre} = \\min(\\mathrm{g}, t_\\text{eval}) - 1$ (without anticipation).\n",
    "\n",
    "Remark that this includes pre-tests effects if $\\mathrm{g} > t_{eval}$, e.g. $\\widehat{ATT}(g=\\text{2025-04}, t_{\\text{pre}}=\\text{2025-01}, t_{\\text{eval}}=\\text{2025-02})$ which estimates the pre-trend from January to February even if the actual treatment occured in April."
   ]
  },
  {
   "cell_type": "markdown",
   "metadata": {},
   "source": [
    "As usual for the DoubleML-package, you can obtain joint confidence intervals via bootstrap."
   ]
  },
  {
   "cell_type": "code",
   "execution_count": null,
   "metadata": {},
   "outputs": [],
   "source": [
    "level = 0.95\n",
    "\n",
    "ci = dml_obj.confint(level=level)\n",
    "dml_obj.bootstrap(n_rep_boot=5000)\n",
    "ci_joint = dml_obj.confint(level=level, joint=True)\n",
    "ci_joint"
   ]
  },
  {
   "cell_type": "markdown",
   "metadata": {},
   "source": [
    "A visualization of the effects can be obtained via the `plot_effects()` method.\n",
    "\n",
    "Remark that the plot used joint confidence intervals per default. "
   ]
  },
  {
   "cell_type": "code",
   "execution_count": null,
   "metadata": {
    "tags": [
     "nbsphinx-thumbnail"
    ]
   },
   "outputs": [],
   "source": [
    "dml_obj.plot_effects()"
   ]
  },
  {
   "cell_type": "markdown",
   "metadata": {},
   "source": [
    "### Sensitivity Analysis\n",
    "\n",
    "As descripted in the [Sensitivity Guide](https://docs.doubleml.org/stable/guide/sensitivity.html), robustness checks on omitted confounding/parallel trend violations are available, via the standard `sensitivity_analysis()` method."
   ]
  },
  {
   "cell_type": "code",
   "execution_count": null,
   "metadata": {},
   "outputs": [],
   "source": [
    "dml_obj.sensitivity_analysis()\n",
    "print(dml_obj.sensitivity_summary)"
   ]
  },
  {
   "cell_type": "markdown",
   "metadata": {},
   "source": [
    "In this example one can clearly, distinguish the robustness of the non-zero effects vs. the pre-treatment periods."
   ]
  },
  {
   "cell_type": "markdown",
   "metadata": {},
   "source": [
    "### Control Groups\n",
    "\n",
    "The current implementation support the following control groups\n",
    "\n",
    " - ``\"never_treated\"``\n",
    " - ``\"not_yet_treated\"``\n",
    "\n",
    "Remark that the ``\"not_yet_treated\" depends on anticipation.\n",
    "\n",
    "For differences and recommendations, we refer to [Callaway and Sant'Anna(2021)](https://doi.org/10.1016/j.jeconom.2020.12.001)."
   ]
  },
  {
   "cell_type": "code",
   "execution_count": null,
   "metadata": {},
   "outputs": [],
   "source": [
    "dml_obj_nyt = DoubleMLDIDMulti(dml_data, **(default_args | {\"control_group\": \"not_yet_treated\"}))\n",
    "dml_obj_nyt.fit()\n",
    "dml_obj_nyt.bootstrap(n_rep_boot=5000)\n",
    "dml_obj_nyt.plot_effects()"
   ]
  },
  {
   "cell_type": "markdown",
   "metadata": {},
   "source": [
    "### Linear Covariate Adjustment\n",
    "\n",
    "Remark that we relied on boosted trees to adjust for conditional parallel trends which allow for a nonlinear adjustment. In comparison to linear adjustment, we could rely on linear learners.\n",
    "\n",
    "**Remark that the DGP (`dgp_type=4`) is based on nonlinear conditional expectations such that the estimates will be biased**\n",
    "\n"
   ]
  },
  {
   "cell_type": "code",
   "execution_count": null,
   "metadata": {},
   "outputs": [],
   "source": [
    "linear_learners = {\n",
    "    \"ml_g\": LinearRegression(),\n",
    "    \"ml_m\": LogisticRegression(),\n",
    "}\n",
    "\n",
    "dml_obj_linear = DoubleMLDIDMulti(dml_data, **(default_args | linear_learners))\n",
    "dml_obj_linear.fit()\n",
    "dml_obj_linear.bootstrap(n_rep_boot=5000)\n",
    "dml_obj_linear.plot_effects()"
   ]
  },
  {
   "cell_type": "markdown",
   "metadata": {},
   "source": [
    "## Aggregated Effects\n",
    "As the [did-R-package](https://bcallaway11.github.io/did/index.html), the $ATT$'s can be aggregated to summarize multiple effects.\n",
    "For details on different aggregations and details on their interpretations see [Callaway and Sant'Anna(2021)](https://doi.org/10.1016/j.jeconom.2020.12.001).\n",
    "\n",
    "The aggregations are implemented via the `aggregate()` method."
   ]
  },
  {
   "cell_type": "markdown",
   "metadata": {},
   "source": [
    "### Group Aggregation\n",
    "\n",
    "\n",
    "To obtain group-specific effects one can would like to average $ATT(\\mathrm{g}, t_\\text{eval})$ over $t_\\text{eval}$.\n",
    "As a sample oracle we will combine all `ite`'s based on group $\\mathrm{g}$."
   ]
  },
  {
   "cell_type": "code",
   "execution_count": null,
   "metadata": {},
   "outputs": [],
   "source": [
    "df_post_treatment = df[df[\"t\"] >= df[\"d\"]]\n",
    "df_post_treatment.groupby(\"d\")[\"ite\"].mean()"
   ]
  },
  {
   "cell_type": "markdown",
   "metadata": {},
   "source": [
    "To obtain group-specific effects it is possible to aggregate several $\\widehat{ATT}(\\mathrm{g},t_\\text{pre},t_\\text{eval})$ values based on the group $\\mathrm{g}$ by setting the `aggregation=\"group\"` argument."
   ]
  },
  {
   "cell_type": "code",
   "execution_count": null,
   "metadata": {},
   "outputs": [],
   "source": [
    "aggregated_group = dml_obj.aggregate(aggregation=\"group\")\n",
    "print(aggregated_group)\n",
    "_ = aggregated_group.plot_effects()"
   ]
  },
  {
   "cell_type": "markdown",
   "metadata": {},
   "source": [
    "The output is a `DoubleMLDIDAggregation` object which includes an overall aggregation summary based on group size."
   ]
  },
  {
   "cell_type": "markdown",
   "metadata": {},
   "source": [
    "### Time Aggregation\n",
    "\n",
    "To obtain time-specific effects one can would like to average $ATT(\\mathrm{g}, t_\\text{eval})$ over $\\mathrm{g}$ (respecting group size).\n",
    "As a sample oracle we will combine all `ite`'s based on group $\\mathrm{g}$. As oracle values, we obtain"
   ]
  },
  {
   "cell_type": "code",
   "execution_count": null,
   "metadata": {},
   "outputs": [],
   "source": [
    "df_post_treatment.groupby(\"t\")[\"ite\"].mean()"
   ]
  },
  {
   "cell_type": "markdown",
   "metadata": {},
   "source": [
    "To aggregate $\\widehat{ATT}(\\mathrm{g},t_\\text{pre},t_\\text{eval})$, based on $t_\\text{eval}$, but weighted with respect to group size. Corresponds to *Calendar Time Effects* from the [did-R-package](https://bcallaway11.github.io/did/index.html).\n",
    "\n",
    "For calendar time effects set `aggregation=\"time\"`."
   ]
  },
  {
   "cell_type": "code",
   "execution_count": null,
   "metadata": {},
   "outputs": [],
   "source": [
    "aggregated_time = dml_obj.aggregate(\"time\")\n",
    "print(aggregated_time)\n",
    "fig, ax = aggregated_time.plot_effects()"
   ]
  },
  {
   "cell_type": "markdown",
   "metadata": {},
   "source": [
    "### Event Study Aggregation\n",
    "\n",
    "To obtain event-study-type effects one can would like to aggregate $ATT(\\mathrm{g}, t_\\text{eval})$ over $e = t_\\text{eval} - \\mathrm{g}$ (respecting group size).\n",
    "As a sample oracle we will combine all `ite`'s based on group $\\mathrm{g}$. As oracle values, we obtain"
   ]
  },
  {
   "cell_type": "code",
   "execution_count": null,
   "metadata": {},
   "outputs": [],
   "source": [
    "df[\"e\"] = pd.to_datetime(df[\"t\"]).values.astype(\"datetime64[M]\") - \\\n",
    "    pd.to_datetime(df[\"d\"]).values.astype(\"datetime64[M]\")\n",
    "df.groupby(\"e\")[\"ite\"].mean()[1:]"
   ]
  },
  {
   "cell_type": "markdown",
   "metadata": {},
   "source": [
    "Analogously, `aggregation=\"eventstudy\"` aggregates $\\widehat{ATT}(\\mathrm{g},t_\\text{pre},t_\\text{eval})$ based on exposure time $e = t_\\text{eval} - \\mathrm{g}$ (respecting group size)."
   ]
  },
  {
   "cell_type": "code",
   "execution_count": null,
   "metadata": {},
   "outputs": [],
   "source": [
    "aggregated_eventstudy = dml_obj.aggregate(\"eventstudy\")\n",
    "print(aggregated_eventstudy)\n",
    "aggregated_eventstudy.plot_effects()"
   ]
  },
  {
   "cell_type": "markdown",
   "metadata": {},
   "source": [
    "### Aggregation Details\n",
    "\n",
    "The `DoubleMLDIDAggregation` objects include several `DoubleMLFrameworks` which support methods like `bootstrap()` or `confint()`.\n",
    "Further, the weights can be accessed via the properties\n",
    "\n",
    " - ``overall_aggregation_weights``: weights for the overall aggregation\n",
    " - ``aggregation_weights``: weights for the aggregation\n",
    "\n",
    "To clarify, e.g. for the eventstudy aggregation"
   ]
  },
  {
   "cell_type": "code",
   "execution_count": null,
   "metadata": {},
   "outputs": [],
   "source": [
    "print(aggregated_eventstudy)"
   ]
  },
  {
   "cell_type": "markdown",
   "metadata": {},
   "source": [
    "Here, the overall effect aggregation aggregates each effect with positive exposure"
   ]
  },
  {
   "cell_type": "code",
   "execution_count": null,
   "metadata": {},
   "outputs": [],
   "source": [
    "print(aggregated_eventstudy.overall_aggregation_weights)"
   ]
  },
  {
   "cell_type": "markdown",
   "metadata": {},
   "source": [
    "If one would like to consider how the aggregated effect with $e=0$ is computed, one would have to look at the corresponding set of weights within the ``aggregation_weights`` property"
   ]
  },
  {
   "cell_type": "code",
   "execution_count": null,
   "metadata": {},
   "outputs": [],
   "source": [
    "# the weights for e=0 correspond to the fifth element of the aggregation weights\n",
    "aggregated_eventstudy.aggregation_weights[4]"
   ]
  },
  {
   "cell_type": "markdown",
   "metadata": {},
   "source": [
    "Taking a look at the original `dml_obj`, one can see that this combines the following estimates (only show month):\n",
    "\n",
    " - $\\widehat{ATT}(04,03,04)$\n",
    " - $\\widehat{ATT}(05,04,05)$\n",
    " - $\\widehat{ATT}(06,05,06)$"
   ]
  },
  {
   "cell_type": "code",
   "execution_count": null,
   "metadata": {},
   "outputs": [],
   "source": [
    "print(dml_obj.summary[\"coef\"])"
   ]
  },
  {
   "cell_type": "markdown",
   "metadata": {},
   "source": [
    "## Anticipation\n",
    "\n",
    "As described in the [Model Guide](https://docs.doubleml.org/stable/guide/models.html#difference-in-differences-models-did), one can include anticipation periods $\\delta>0$ by setting the `anticipation_periods` parameter."
   ]
  },
  {
   "cell_type": "markdown",
   "metadata": {},
   "source": [
    "### Data with Anticipation\n",
    "\n",
    "The DGP allows to include anticipation periods via the `anticipation_periods` parameter.\n",
    "In this case the observations will be \"shifted\" such that units anticipate the effect earlier and the exposure effect is increased by the number of periods where the effect is anticipated."
   ]
  },
  {
   "cell_type": "code",
   "execution_count": null,
   "metadata": {},
   "outputs": [],
   "source": [
    "n_obs = 4000\n",
    "n_periods = 6\n",
    "\n",
    "df_anticipation = make_did_CS2021(n_obs, dgp_type=4, n_periods=n_periods, n_pre_treat_periods=3, time_type=\"datetime\", anticipation_periods=1)\n",
    "\n",
    "print(df_anticipation.shape)\n",
    "df_anticipation.head()\n"
   ]
  },
  {
   "cell_type": "markdown",
   "metadata": {},
   "source": [
    "To visualize the anticipation, we will again plot the \"oracle\" values"
   ]
  },
  {
   "cell_type": "code",
   "execution_count": null,
   "metadata": {},
   "outputs": [],
   "source": [
    "df_anticipation[\"ite\"] = df_anticipation[\"y1\"] - df_anticipation[\"y0\"]\n",
    "df_anticipation[\"First Treated\"] = df_anticipation[\"d\"].dt.strftime(\"%Y-%m\").fillna(\"Never Treated\")\n",
    "agg_df_anticipation = df_anticipation.groupby([\"t\", \"First Treated\"]).agg(**agg_dictionary).reset_index()\n",
    "agg_df_anticipation.head()"
   ]
  },
  {
   "cell_type": "markdown",
   "metadata": {},
   "source": [
    "One can see that the effect is already anticipated one period before the actual treatment assignment."
   ]
  },
  {
   "cell_type": "code",
   "execution_count": null,
   "metadata": {},
   "outputs": [],
   "source": [
    "plot_data(agg_df_anticipation, col_name='ite')"
   ]
  },
  {
   "cell_type": "markdown",
   "metadata": {},
   "source": [
    "Initialize a corresponding `DoubleMLPanelData` object."
   ]
  },
  {
   "cell_type": "code",
   "execution_count": null,
   "metadata": {},
   "outputs": [],
   "source": [
    "dml_data_anticipation = DoubleMLPanelData(\n",
    "    data=df_anticipation,\n",
    "    y_col=\"y\",\n",
    "    d_cols=\"d\",\n",
    "    id_col=\"id\",\n",
    "    t_col=\"t\",\n",
    "    x_cols=[\"Z1\", \"Z2\", \"Z3\", \"Z4\"],\n",
    "    datetime_unit=\"M\"\n",
    ")"
   ]
  },
  {
   "cell_type": "markdown",
   "metadata": {},
   "source": [
    "### ATT Estimation\n",
    "\n",
    "Let us take a look at the estimation without anticipation."
   ]
  },
  {
   "cell_type": "code",
   "execution_count": null,
   "metadata": {},
   "outputs": [],
   "source": [
    "dml_obj_anticipation = DoubleMLDIDMulti(dml_data_anticipation, **default_args)\n",
    "dml_obj_anticipation.fit()\n",
    "dml_obj_anticipation.bootstrap(n_rep_boot=5000)\n",
    "dml_obj_anticipation.plot_effects()"
   ]
  },
  {
   "cell_type": "markdown",
   "metadata": {},
   "source": [
    "The effects are obviously biased. To include anticipation periods, one can adjust the `anticipation_periods` parameter. Correspondingly, the outcome regression (and not yet treated units) are adjusted."
   ]
  },
  {
   "cell_type": "code",
   "execution_count": null,
   "metadata": {},
   "outputs": [],
   "source": [
    "dml_obj_anticipation = DoubleMLDIDMulti(dml_data_anticipation, **(default_args| {\"anticipation_periods\": 1}))\n",
    "dml_obj_anticipation.fit()\n",
    "dml_obj_anticipation.bootstrap(n_rep_boot=5000)\n",
    "dml_obj_anticipation.plot_effects()"
   ]
  },
  {
   "cell_type": "markdown",
   "metadata": {},
   "source": [
    "## Group-Time Combinations\n",
    "\n",
    "The default option `gt_combinations=\"standard\"` includes all group time values with the specific choice of $t_\\text{pre} = \\min(\\mathrm{g}, t_\\text{eval}) - 1$ (without anticipation) which is the weakest possible parallel trend assumption.\n",
    "\n",
    "Other options are possible or only specific combinations of $(\\mathrm{g},t_\\text{pre},t_\\text{eval})$."
   ]
  },
  {
   "cell_type": "markdown",
   "metadata": {},
   "source": [
    "### All combinations\n",
    "\n",
    "The  option `gt_combinations=\"all\"` includes all relevant group time values with $t_\\text{pre} < \\min(\\mathrm{g}, t_\\text{eval})$, including longer parallel trend assumptions.\n",
    "This can result in multiple estimates for the same $ATT(\\mathrm{g},t)$, which have slightly different assumptions (length of parallel trends)."
   ]
  },
  {
   "cell_type": "code",
   "execution_count": null,
   "metadata": {},
   "outputs": [],
   "source": [
    "dml_obj_all = DoubleMLDIDMulti(dml_data, **(default_args| {\"gt_combinations\": \"all\"}))\n",
    "dml_obj_all.fit()\n",
    "dml_obj_all.bootstrap(n_rep_boot=5000)\n",
    "dml_obj_all.plot_effects()"
   ]
  },
  {
   "cell_type": "markdown",
   "metadata": {},
   "source": [
    "### Selected Combinations\n",
    "\n",
    "Instead it is also possible to just submit a list of tuples containing $(\\mathrm{g}, t_\\text{pre}, t_\\text{eval})$ combinations. E.g. only two combinations"
   ]
  },
  {
   "cell_type": "code",
   "execution_count": null,
   "metadata": {},
   "outputs": [],
   "source": [
    "gt_dict = {\n",
    "    \"gt_combinations\": [\n",
    "        (np.datetime64('2025-04'),\n",
    "         np.datetime64('2025-01'),\n",
    "         np.datetime64('2025-02')),\n",
    "        (np.datetime64('2025-04'),\n",
    "         np.datetime64('2025-02'),\n",
    "         np.datetime64('2025-03')),\n",
    "    ]\n",
    "}\n",
    "\n",
    "dml_obj_all = DoubleMLDIDMulti(dml_data, **(default_args| gt_dict))\n",
    "dml_obj_all.fit()\n",
    "dml_obj_all.bootstrap(n_rep_boot=5000)\n",
    "dml_obj_all.plot_effects()"
   ]
  }
 ],
 "metadata": {
  "kernelspec": {
   "display_name": "Python 3",
   "language": "python",
   "name": "python3"
  },
  "language_info": {
   "codemirror_mode": {
    "name": "ipython",
    "version": 3
   },
   "file_extension": ".py",
   "mimetype": "text/x-python",
   "name": "python",
   "nbconvert_exporter": "python",
   "pygments_lexer": "ipython3",
   "version": "3.12.10"
  }
 },
 "nbformat": 4,
 "nbformat_minor": 2
}
