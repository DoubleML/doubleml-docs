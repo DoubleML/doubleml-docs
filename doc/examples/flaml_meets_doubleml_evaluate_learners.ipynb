{
 "cells": [
  {
   "cell_type": "markdown",
   "metadata": {},
   "source": [
    "# DoubleML meets FLAML: Comparing AutoML tuning\n",
    " In this notebook we are going to explore how to tune learners with [AUTOML](https://github.com/microsoft/FLAML) in [DoubleML](https://docs.doubleml.org/stable/index.html) framework."
   ]
  },
  {
   "cell_type": "markdown",
   "metadata": {},
   "source": [
    "# Data Generation"
   ]
  },
  {
   "cell_type": "markdown",
   "metadata": {},
   "source": [
    "We created synthetic data using the [make_plr_CCDDHNR2018](https://docs.doubleml.org/stable/api/generated/doubleml.datasets.make_plr_CCDDHNR2018.html) function, which generates data for a potential outcomes framework with 1000 observations and 50 features. The data generated will have 50 covariates variables, 1 treatment variable and 1 outcome variable."
   ]
  },
  {
   "cell_type": "code",
   "execution_count": 37,
   "metadata": {},
   "outputs": [],
   "source": [
    "# pip install flaml"
   ]
  },
  {
   "cell_type": "code",
   "execution_count": 38,
   "metadata": {},
   "outputs": [
    {
     "data": {
      "text/html": [
       "<div>\n",
       "<style scoped>\n",
       "    .dataframe tbody tr th:only-of-type {\n",
       "        vertical-align: middle;\n",
       "    }\n",
       "\n",
       "    .dataframe tbody tr th {\n",
       "        vertical-align: top;\n",
       "    }\n",
       "\n",
       "    .dataframe thead th {\n",
       "        text-align: right;\n",
       "    }\n",
       "</style>\n",
       "<table border=\"1\" class=\"dataframe\">\n",
       "  <thead>\n",
       "    <tr style=\"text-align: right;\">\n",
       "      <th></th>\n",
       "      <th>X1</th>\n",
       "      <th>X2</th>\n",
       "      <th>X3</th>\n",
       "      <th>X4</th>\n",
       "      <th>X5</th>\n",
       "      <th>X6</th>\n",
       "      <th>X7</th>\n",
       "      <th>X8</th>\n",
       "      <th>X9</th>\n",
       "      <th>X10</th>\n",
       "      <th>...</th>\n",
       "      <th>X43</th>\n",
       "      <th>X44</th>\n",
       "      <th>X45</th>\n",
       "      <th>X46</th>\n",
       "      <th>X47</th>\n",
       "      <th>X48</th>\n",
       "      <th>X49</th>\n",
       "      <th>X50</th>\n",
       "      <th>y</th>\n",
       "      <th>d</th>\n",
       "    </tr>\n",
       "  </thead>\n",
       "  <tbody>\n",
       "    <tr>\n",
       "      <th>0</th>\n",
       "      <td>-1.221703</td>\n",
       "      <td>-0.822147</td>\n",
       "      <td>-2.196993</td>\n",
       "      <td>-2.499879</td>\n",
       "      <td>-0.341929</td>\n",
       "      <td>-0.281038</td>\n",
       "      <td>0.853291</td>\n",
       "      <td>1.095902</td>\n",
       "      <td>0.726638</td>\n",
       "      <td>1.211289</td>\n",
       "      <td>...</td>\n",
       "      <td>-2.201716</td>\n",
       "      <td>-0.866439</td>\n",
       "      <td>0.545701</td>\n",
       "      <td>1.553811</td>\n",
       "      <td>0.893493</td>\n",
       "      <td>1.133844</td>\n",
       "      <td>0.323257</td>\n",
       "      <td>0.748202</td>\n",
       "      <td>-1.014441</td>\n",
       "      <td>-1.551160</td>\n",
       "    </tr>\n",
       "    <tr>\n",
       "      <th>1</th>\n",
       "      <td>-1.176971</td>\n",
       "      <td>-1.688596</td>\n",
       "      <td>-2.925414</td>\n",
       "      <td>-2.272384</td>\n",
       "      <td>-1.445496</td>\n",
       "      <td>-1.861972</td>\n",
       "      <td>-0.325206</td>\n",
       "      <td>-0.759704</td>\n",
       "      <td>-0.181407</td>\n",
       "      <td>0.939779</td>\n",
       "      <td>...</td>\n",
       "      <td>-1.813400</td>\n",
       "      <td>-0.823707</td>\n",
       "      <td>-1.191542</td>\n",
       "      <td>-1.250025</td>\n",
       "      <td>-0.835989</td>\n",
       "      <td>-0.758630</td>\n",
       "      <td>-0.450238</td>\n",
       "      <td>-0.190508</td>\n",
       "      <td>-2.631763</td>\n",
       "      <td>-1.886604</td>\n",
       "    </tr>\n",
       "    <tr>\n",
       "      <th>2</th>\n",
       "      <td>0.631362</td>\n",
       "      <td>1.001802</td>\n",
       "      <td>1.617786</td>\n",
       "      <td>1.703607</td>\n",
       "      <td>0.708659</td>\n",
       "      <td>1.137041</td>\n",
       "      <td>0.741789</td>\n",
       "      <td>0.792150</td>\n",
       "      <td>0.190256</td>\n",
       "      <td>0.815059</td>\n",
       "      <td>...</td>\n",
       "      <td>1.304412</td>\n",
       "      <td>0.281384</td>\n",
       "      <td>-0.656459</td>\n",
       "      <td>-0.118734</td>\n",
       "      <td>-0.574464</td>\n",
       "      <td>0.323391</td>\n",
       "      <td>-0.235278</td>\n",
       "      <td>0.775014</td>\n",
       "      <td>0.110260</td>\n",
       "      <td>0.765708</td>\n",
       "    </tr>\n",
       "    <tr>\n",
       "      <th>3</th>\n",
       "      <td>0.402716</td>\n",
       "      <td>0.524360</td>\n",
       "      <td>1.269413</td>\n",
       "      <td>1.463689</td>\n",
       "      <td>0.841587</td>\n",
       "      <td>0.272918</td>\n",
       "      <td>0.270527</td>\n",
       "      <td>-0.118673</td>\n",
       "      <td>0.327287</td>\n",
       "      <td>-1.324871</td>\n",
       "      <td>...</td>\n",
       "      <td>-1.440236</td>\n",
       "      <td>-2.145734</td>\n",
       "      <td>-2.121639</td>\n",
       "      <td>-1.846964</td>\n",
       "      <td>-1.433101</td>\n",
       "      <td>-1.845194</td>\n",
       "      <td>-0.311476</td>\n",
       "      <td>-0.307569</td>\n",
       "      <td>1.229235</td>\n",
       "      <td>-0.499877</td>\n",
       "    </tr>\n",
       "    <tr>\n",
       "      <th>4</th>\n",
       "      <td>0.047511</td>\n",
       "      <td>-0.877817</td>\n",
       "      <td>-1.776503</td>\n",
       "      <td>-0.686996</td>\n",
       "      <td>-0.444111</td>\n",
       "      <td>-1.368758</td>\n",
       "      <td>-0.336068</td>\n",
       "      <td>-0.788738</td>\n",
       "      <td>-0.236934</td>\n",
       "      <td>-0.303945</td>\n",
       "      <td>...</td>\n",
       "      <td>-1.139865</td>\n",
       "      <td>0.201014</td>\n",
       "      <td>0.015537</td>\n",
       "      <td>-0.225769</td>\n",
       "      <td>-1.427309</td>\n",
       "      <td>-0.979872</td>\n",
       "      <td>-1.807067</td>\n",
       "      <td>0.780793</td>\n",
       "      <td>1.070086</td>\n",
       "      <td>0.359521</td>\n",
       "    </tr>\n",
       "  </tbody>\n",
       "</table>\n",
       "<p>5 rows × 52 columns</p>\n",
       "</div>"
      ],
      "text/plain": [
       "         X1        X2        X3        X4        X5        X6        X7  \\\n",
       "0 -1.221703 -0.822147 -2.196993 -2.499879 -0.341929 -0.281038  0.853291   \n",
       "1 -1.176971 -1.688596 -2.925414 -2.272384 -1.445496 -1.861972 -0.325206   \n",
       "2  0.631362  1.001802  1.617786  1.703607  0.708659  1.137041  0.741789   \n",
       "3  0.402716  0.524360  1.269413  1.463689  0.841587  0.272918  0.270527   \n",
       "4  0.047511 -0.877817 -1.776503 -0.686996 -0.444111 -1.368758 -0.336068   \n",
       "\n",
       "         X8        X9       X10  ...       X43       X44       X45       X46  \\\n",
       "0  1.095902  0.726638  1.211289  ... -2.201716 -0.866439  0.545701  1.553811   \n",
       "1 -0.759704 -0.181407  0.939779  ... -1.813400 -0.823707 -1.191542 -1.250025   \n",
       "2  0.792150  0.190256  0.815059  ...  1.304412  0.281384 -0.656459 -0.118734   \n",
       "3 -0.118673  0.327287 -1.324871  ... -1.440236 -2.145734 -2.121639 -1.846964   \n",
       "4 -0.788738 -0.236934 -0.303945  ... -1.139865  0.201014  0.015537 -0.225769   \n",
       "\n",
       "        X47       X48       X49       X50         y         d  \n",
       "0  0.893493  1.133844  0.323257  0.748202 -1.014441 -1.551160  \n",
       "1 -0.835989 -0.758630 -0.450238 -0.190508 -2.631763 -1.886604  \n",
       "2 -0.574464  0.323391 -0.235278  0.775014  0.110260  0.765708  \n",
       "3 -1.433101 -1.845194 -0.311476 -0.307569  1.229235 -0.499877  \n",
       "4 -1.427309 -0.979872 -1.807067  0.780793  1.070086  0.359521  \n",
       "\n",
       "[5 rows x 52 columns]"
      ]
     },
     "execution_count": 38,
     "metadata": {},
     "output_type": "execute_result"
    }
   ],
   "source": [
    "import xgboost as xgb\n",
    "import pandas as pd\n",
    "import matplotlib.pyplot as plt\n",
    "import numpy as np\n",
    "\n",
    "from doubleml.datasets import make_plr_CCDDHNR2018\n",
    "import doubleml as dml\n",
    "from flaml import AutoML\n",
    "from sklearn.model_selection import train_test_split\n",
    "from sklearn.metrics import mean_squared_error\n",
    "\n",
    "\n",
    "# Generate synthetic data\n",
    "data = make_plr_CCDDHNR2018(alpha=0.5, n_obs=1000, dim_x=50, return_type=\"DataFrame\")\n",
    "data.head()\n",
    "\n",
    "\n"
   ]
  },
  {
   "cell_type": "markdown",
   "metadata": {},
   "source": [
    "# Manual Tuning with FLAML"
   ]
  },
  {
   "cell_type": "markdown",
   "metadata": {},
   "source": [
    "##### In this section, we manually tuned two XGBoost models using FLAML for a partially linear regression setup.\n",
    "##### 1. Initialize and Train AutoML Models:\n",
    "We used FLAML to automatically tune two separate XGBoost models:\n",
    "\n",
    "• Outcome Model (ml_l): This model predicts the outcome variable y. We configured the FLAML AutoML with a time budget of 120 seconds, using XGBoost as the estimator and rmse as the performance metric.\n",
    "\n",
    "• Treatment Model (ml_m): This model predicts the treatment variable d. Similarly, we set the time budget to 120 seconds, used XGBoost, and optimized for rmse."
   ]
  },
  {
   "cell_type": "code",
   "execution_count": 39,
   "metadata": {},
   "outputs": [],
   "source": [
    "# Initialize AutoML for outcome model (ml_l)\n",
    "automl_l = AutoML()\n",
    "settings_l = {\n",
    "    \"time_budget\": 120,\n",
    "    \"metric\": 'rmse',\n",
    "    \"estimator_list\": ['xgboost'],\n",
    "    \"task\": 'regression',\n",
    "}\n",
    "automl_l.fit(X_train=data.drop(columns=[\"y\", \"d\"]).values, y_train=data[\"y\"].values, verbose=2, **settings_l)\n",
    "\n",
    "# Initialize AutoML for treatment model (ml_m)\n",
    "automl_m = AutoML()\n",
    "settings_m = {\n",
    "    \"time_budget\": 120,\n",
    "    \"metric\": 'rmse',\n",
    "    \"estimator_list\": ['xgboost'],\n",
    "    \"task\": 'regression',\n",
    "}\n",
    "automl_m.fit(X_train=data.drop(columns=[\"y\", \"d\"]).values, y_train=data[\"d\"].values, verbose=2, **settings_m)\n",
    "\n"
   ]
  },
  {
   "cell_type": "markdown",
   "metadata": {},
   "source": [
    "##### Evaluate Models for Overfitting:\n",
    "After training, we compared the in-sample (training) and out-of-sample (test) root mean squared errors (RMSE) for both models to check for overfitting:\n",
    "\n",
    "• rmse_oos_ml_m represents the out-of-sample RMSE for the treatment model.\n",
    "\n",
    "• rmse_oos_ml_l represents the out-of-sample RMSE for the outcome model."
   ]
  },
  {
   "cell_type": "code",
   "execution_count": 40,
   "metadata": {},
   "outputs": [
    {
     "name": "stdout",
     "output_type": "stream",
     "text": [
      "rmse_oos_ml_m: 1.0160587619805903\n",
      "rmse_oos_ml_m: 1.1827553545725862\n"
     ]
    }
   ],
   "source": [
    "# Check for Overfitting: Compare in-sample (train), out-of-sample (test) MSE\n",
    "# ml_m\n",
    "rmse_oos_ml_m = automl_m.best_loss\n",
    "rmse_oos_ml_l = automl_l.best_loss\n",
    "print(\"rmse_oos_ml_m:\",rmse_oos_ml_m)\n",
    "print(\"rmse_oos_ml_m:\",rmse_oos_ml_l)\n"
   ]
  },
  {
   "cell_type": "markdown",
   "metadata": {},
   "source": [
    "##### Create and Fit DoubleML Model:\n",
    "We created a DoubleMLData object with the dataset, specifying y as the outcome variable and d as the treatment variable. We then initialized a DoubleMLPLR model using the trained FLAML models for both the treatment and outcome components. "
   ]
  },
  {
   "cell_type": "code",
   "execution_count": 41,
   "metadata": {},
   "outputs": [
    {
     "name": "stdout",
     "output_type": "stream",
     "text": [
      "       coef   std err         t         P>|t|     2.5 %    97.5 %\n",
      "d  0.552414  0.032577  16.95697  1.709343e-64  0.488563  0.616264\n",
      "Tuning RMSE (ml_m): [1.0288543]\n",
      "Evaluation RMSE (ml_m): 1.0160587619805903\n",
      "Tuning RMSE (ml_l): [1.19167283]\n",
      "Evaluation RMSE (ml_l): 1.1827553545725862\n"
     ]
    }
   ],
   "source": [
    "# Create DoubleMLData object with the evaluation set\n",
    "obj_dml_data = dml.DoubleMLData(data, \"y\", \"d\")\n",
    "\n",
    "# Initialize DoubleMLPLR with the trained models from flaml\n",
    "obj_dml_plr_manual_tuned = dml.DoubleMLPLR(obj_dml_data, ml_m=automl_m.model.estimator, ml_l=automl_l.model.estimator)\n",
    "\n",
    "# Fit the DoubleMLPLR model\n",
    "obj_dml_plr_manual_tuned.fit()\n",
    "\n",
    "print(obj_dml_plr_manual_tuned.summary)\n",
    "manual_tuned_summary = obj_dml_plr_manual_tuned.summary\n",
    "\n",
    "# Evaluate learners using evaluate_learners() (MSE for all nuisance components)\n",
    "rmse_ins_ml_l = obj_dml_plr_manual_tuned.evaluate_learners()['ml_l'][0]\n",
    "rmse_ins_ml_m = obj_dml_plr_manual_tuned.evaluate_learners()['ml_m'][0]\n",
    "\n",
    "# Print results\n",
    "print(\"Tuning RMSE (ml_m):\", rmse_ins_ml_m)\n",
    "print(\"Evaluation RMSE (ml_m):\", rmse_oos_ml_m)\n",
    "print(\"Tuning RMSE (ml_l):\", rmse_ins_ml_l)\n",
    "print(\"Evaluation RMSE (ml_l):\", rmse_oos_ml_l)"
   ]
  },
  {
   "cell_type": "markdown",
   "metadata": {},
   "source": [
    "# Comparison of Model Tuning Approaches"
   ]
  },
  {
   "cell_type": "markdown",
   "metadata": {},
   "source": [
    "In this section, we compare different approaches for tuning models in the DoubleML framework:\n",
    "##### Custom FLAML Models for Double Machine Learning\n",
    "\n",
    "In this section, we define custom classes for integrating FLAML (Fast Lightweight AutoML) with Double Machine Learning (DML). These classes are designed to facilitate automated machine learning model tuning for both regression and classification tasks.\n"
   ]
  },
  {
   "cell_type": "code",
   "execution_count": 42,
   "metadata": {},
   "outputs": [],
   "source": [
    "from flaml import AutoML\n",
    "from sklearn.utils.multiclass import unique_labels\n",
    "\n",
    "class FlamlRegressorDoubleML:\n",
    "    _estimator_type = 'regressor'\n",
    "\n",
    "    def __init__(self, time, estimator_list, metric, *args, **kwargs):\n",
    "        self.auto_ml = AutoML(*args, **kwargs)\n",
    "        self.time = time\n",
    "        self.estimator_list = estimator_list\n",
    "        self.metric = metric\n",
    "\n",
    "    def set_params(self, **params):\n",
    "        self.auto_ml.set_params(**params)\n",
    "        return self\n",
    "\n",
    "    def get_params(self, deep=True):\n",
    "        dict = self.auto_ml.get_params(deep)\n",
    "        dict[\"time\"] = self.time\n",
    "        dict[\"estimator_list\"] = self.estimator_list\n",
    "        dict[\"metric\"] = self.metric\n",
    "        return dict\n",
    "\n",
    "    def fit(self, X, y):\n",
    "        self.auto_ml.fit(X, y, task=\"regression\", time_budget=self.time, estimator_list=self.estimator_list, metric=self.metric, verbose=False)\n",
    "        self.tuned_model = self.auto_ml.model.estimator\n",
    "        return self\n",
    "\n",
    "    def predict(self, x):\n",
    "        preds = self.tuned_model.predict(x)\n",
    "        return preds\n",
    "        \n",
    "class FlamlClassifierDoubleML:\n",
    "    _estimator_type = 'classifier'\n",
    "\n",
    "    def __init__(self, time, estimator_list, metric, *args, **kwargs):\n",
    "        self.auto_ml = AutoML(*args, **kwargs)\n",
    "        self.time = time\n",
    "        self.estimator_list = estimator_list\n",
    "        self.metric = metric\n",
    "\n",
    "    def set_params(self, **params):\n",
    "        self.auto_ml.set_params(**params)\n",
    "        return self\n",
    "\n",
    "    def get_params(self, deep=True):\n",
    "        dict = self.auto_ml.get_params(deep)\n",
    "        dict[\"time\"] = self.time\n",
    "        dict[\"estimator_list\"] = self.estimator_list\n",
    "        dict[\"metric\"] = self.metric\n",
    "        return dict\n",
    "\n",
    "    def fit(self, X, y):\n",
    "        self.classes_ = unique_labels(y)\n",
    "        self.auto_ml.fit(X, y, task=\"classification\", time_budget=self.time, estimator_list=self.estimator_list, metric=self.metric, verbose=False)\n",
    "        self.tuned_model = self.auto_ml.model.estimator\n",
    "        return self\n",
    "\n",
    "    def predict_proba(self, x):\n",
    "        preds = self.tuned_model.predict_proba(x)\n",
    "        return preds"
   ]
  },
  {
   "cell_type": "markdown",
   "metadata": {},
   "source": [
    "##### Using Custom FLAML Models with Double Machine Learning\n",
    "\n",
    "We integrate the custom FLAML-based models FlamlRegressorDoubleML into the Double Machine Learning (DML) framework. The steps involve defining the FLAML regressors, setting up the DoubleMLPLR object, and fitting the model."
   ]
  },
  {
   "cell_type": "code",
   "execution_count": 43,
   "metadata": {},
   "outputs": [
    {
     "name": "stdout",
     "output_type": "stream",
     "text": [
      "       coef   std err          t         P>|t|     2.5 %    97.5 %\n",
      "d  0.554143  0.032679  16.957114  1.705155e-64  0.490093  0.618193\n"
     ]
    }
   ],
   "source": [
    "# Define the FlamlRegressorDoubleML\n",
    "ml_l = FlamlRegressorDoubleML(time=120, estimator_list=['xgboost'], metric='rmse')\n",
    "ml_m = FlamlRegressorDoubleML(time=120, estimator_list=['xgboost'], metric='rmse')\n",
    "\n",
    "# Create DoubleMLPLR object using the new regressors\n",
    "dml_plr_obj_api_tuned = dml.DoubleMLPLR(obj_dml_data, ml_m, ml_l)\n",
    "\n",
    "# Fit the DoubleMLPLR model\n",
    "dml_plr_obj_api_tuned.fit(store_predictions=True)\n",
    "\n",
    "#Retrieve the summary for API Tuned Models\n",
    "api_tuned_summary = dml_plr_obj_api_tuned.summary\n",
    "\n",
    "# Print the summary\n",
    "print(dml_plr_obj_api_tuned.summary)\n"
   ]
  },
  {
   "cell_type": "markdown",
   "metadata": {},
   "source": [
    "##### Dummy Models:\n",
    "We initialized and fit dummy models using DummyRegressor from sklearn:\n",
    "\n",
    "• ml_l_dummy: A dummy regressor for the outcome model, which predicts the mean value of the outcome.\n",
    "\n",
    "• ml_m_dummy: A dummy regressor for the treatment model, also predicting the mean value.\n",
    "\n",
    "These dummy models were used to create a DoubleMLPLR object (dml_plr_obj_dummy), which was then fit to the data. We retrieved and stored the summary of this model to compare with other methods."
   ]
  },
  {
   "cell_type": "code",
   "execution_count": 44,
   "metadata": {},
   "outputs": [],
   "source": [
    "from sklearn.dummy import DummyRegressor\n",
    "\n",
    "# Initialize and fit dummy models\n",
    "ml_l_dummy = DummyRegressor(strategy='mean')\n",
    "ml_m_dummy = DummyRegressor(strategy='mean')\n",
    "\n",
    "# Create DoubleMLPLR object using dummy regressors\n",
    "dml_plr_obj_dummy = dml.DoubleMLPLR(obj_dml_data, ml_m_dummy, ml_l_dummy)\n",
    "dml_plr_obj_dummy.fit(store_predictions=True)\n",
    "\n",
    "# Retrieve the summary for dummy models\n",
    "dummy_summary = dml_plr_obj_dummy.summary\n",
    "\n"
   ]
  },
  {
   "cell_type": "markdown",
   "metadata": {},
   "source": [
    "##### AutoML Untuned Models\n",
    "\n",
    "We set up AutoML models with minimal tuning for both the outcome and treatment variables. This process allows us to compare the performance of untuned models against those that have been manually or API-tuned."
   ]
  },
  {
   "cell_type": "code",
   "execution_count": 45,
   "metadata": {},
   "outputs": [],
   "source": [
    "# AutoML Untuned\n",
    "automl_untuned_l = AutoML()\n",
    "settings = {\n",
    "    \"time_budget\": 0.01,\n",
    "    \"metric\": 'mse',\n",
    "    \"estimator_list\": ['xgboost'],\n",
    "    \"task\": 'regression',\n",
    "}\n",
    "\n",
    "automl_untuned_l.fit(X_train=data.drop(columns=[\"y\", \"d\"]).values, y_train=data[\"y\"].values, verbose=0, **settings)\n",
    "\n",
    "automl_untuned_m = AutoML()\n",
    "settings = {\n",
    "    \"time_budget\": 0.01,\n",
    "    \"metric\": 'mse',\n",
    "    \"estimator_list\": ['xgboost'],\n",
    "    \"task\": 'regression',\n",
    "}\n",
    "\n",
    "automl_untuned_m.fit(X_train=data.drop(columns=[\"y\", \"d\"]).values, y_train=data[\"d\"].values, verbose=0, **settings)\n",
    "\n"
   ]
  },
  {
   "cell_type": "markdown",
   "metadata": {},
   "source": [
    "##### DoubleMLPLR with Untuned AutoML Models\n",
    "\n",
    "Here, we create a `DoubleMLPLR` object using the untuned AutoML models for the outcome and treatment regressions. We then fit the `DoubleMLPLR` model and retrieve the summary of the results.\n",
    "\n",
    "This section allows us to evaluate the performance of the untuned AutoML models in the context of DoubleML."
   ]
  },
  {
   "cell_type": "code",
   "execution_count": 46,
   "metadata": {},
   "outputs": [],
   "source": [
    "# Create DoubleMLPLR object using AutoML models\n",
    "dml_plr_obj_untuned_automl = dml.DoubleMLPLR(obj_dml_data, automl_untuned_l.model.estimator, automl_untuned_m.model.estimator)\n",
    "untuned_automl_summary = dml_plr_obj_untuned_automl.fit(store_predictions=True).summary\n",
    "\n"
   ]
  },
  {
   "cell_type": "markdown",
   "metadata": {},
   "source": [
    "##### Combine and Save Summaries\n",
    "\n",
    "We combine the summaries from various models: manually tuned FLAML models, API-tuned FLAML models, untuned AutoML models, and dummy models. The combined summary is saved to a file for further analysis."
   ]
  },
  {
   "cell_type": "code",
   "execution_count": 47,
   "metadata": {},
   "outputs": [],
   "source": [
    "# Combine summaries for comparison\n",
    "summary = pd.concat([manual_tuned_summary ,api_tuned_summary, untuned_automl_summary, dummy_summary], keys=['FLAML Manual Tuned', 'FLAML API Tuned', 'AutoML Untuned', 'Dummy'])\n",
    "summary.index.names = ['Model Type', 'Metric']\n",
    "\n",
    "# Save the summary to a file\n",
    "summary.to_pickle(\"summary_comparison.pkl\")\n",
    "\n"
   ]
  },
  {
   "cell_type": "markdown",
   "metadata": {},
   "source": [
    "# Plots"
   ]
  },
  {
   "cell_type": "markdown",
   "metadata": {},
   "source": [
    "##### Plot Coefficients and 95% Confidence Intervals\n",
    "\n",
    "This section generates a plot comparing the coefficients and 95% confidence intervals for each model type. The plot helps visualize the differences in the estimated coefficients and their uncertainties."
   ]
  },
  {
   "cell_type": "code",
   "execution_count": 48,
   "metadata": {},
   "outputs": [
    {
     "name": "stdout",
     "output_type": "stream",
     "text": [
      "Manual Tuned Summary:\n",
      "       coef   std err         t         P>|t|     2.5 %    97.5 %\n",
      "d  0.552414  0.032577  16.95697  1.709343e-64  0.488563  0.616264\n",
      "API Tuned Summary:\n",
      "       coef   std err          t         P>|t|     2.5 %    97.5 %\n",
      "d  0.554143  0.032679  16.957114  1.705155e-64  0.490093  0.618193\n",
      "Untuned Summary:\n",
      "       coef   std err        t          P>|t|     2.5 %   97.5 %\n",
      "d  0.643582  0.026402  24.3761  3.066249e-131  0.591835  0.69533\n",
      "Dummy Summary:\n",
      "       coef   std err          t          P>|t|     2.5 %    97.5 %\n",
      "d  0.699246  0.022814  30.649577  2.677185e-206  0.654531  0.743961\n",
      "Extracted model labels: Index(['FLAML Manual Tuned', 'FLAML API Tuned', 'AutoML Untuned', 'Dummy'], dtype='object', name='Model Type')\n",
      "Extracted coefficient values: [0.55241377 0.55414277 0.64358224 0.69924583]\n"
     ]
    },
    {
     "data": {
      "image/png": "[encoded data removed]",
      "text/plain": [
       "<Figure size 1000x600 with 1 Axes>"
      ]
     },
     "metadata": {},
     "output_type": "display_data"
    }
   ],
   "source": [
    "# Check the structure of the summary DataFrames\n",
    "print(\"Manual Tuned Summary:\")\n",
    "print(manual_tuned_summary.head())\n",
    "\n",
    "print(\"API Tuned Summary:\")\n",
    "print(api_tuned_summary.head())\n",
    "\n",
    "print(\"Untuned Summary:\")\n",
    "print(untuned_automl_summary.head())\n",
    "\n",
    "print(\"Dummy Summary:\")\n",
    "print(dummy_summary.head())\n",
    "\n",
    "# Check if `summary` contains the required columns\n",
    "required_columns = ['coef', '2.5 %', '97.5 %']\n",
    "if not all(col in summary.columns for col in required_columns):\n",
    "    raise ValueError(\"Summary DataFrame is missing required columns.\")\n",
    "\n",
    "# Extract model labels and coefficient values\n",
    "model_labels = summary.index.get_level_values('Model Type')\n",
    "coef_values = summary['coef'].values\n",
    "\n",
    "print(\"Extracted model labels:\", model_labels)\n",
    "print(\"Extracted coefficient values:\", coef_values)\n",
    "\n",
    "# Calculate errors\n",
    "errors = np.full((2, len(coef_values)), np.nan)\n",
    "errors[0, :] = summary['coef'] - summary['2.5 %']\n",
    "errors[1, :] = summary['97.5 %'] - summary['coef']\n",
    "\n",
    "# Plot Coefficients and 95% Confidence Intervals\n",
    "plt.figure(figsize=(10, 6))\n",
    "plt.errorbar(model_labels, coef_values, fmt='o', yerr=errors, capsize=5)\n",
    "plt.axhline(0.5, color='red', linestyle='--')\n",
    "plt.xlabel('Model')\n",
    "plt.ylabel('Coefficients and 95%-CI')\n",
    "plt.title('Comparison of Coefficients and 95% Confidence Intervals')\n",
    "plt.xticks(rotation=45)\n",
    "plt.tight_layout()\n",
    "plt.show()\n",
    "\n"
   ]
  },
  {
   "cell_type": "markdown",
   "metadata": {},
   "source": [
    "##### Compare Metrics and Plot Bar Charts\n",
    "\n",
    "In this section, we compare metrics for different models and plot a bar chart to visualize the differences in their performance. We also save the comparison results to a file for future reference."
   ]
  },
  {
   "cell_type": "code",
   "execution_count": 51,
   "metadata": {},
   "outputs": [
    {
     "name": "stdout",
     "output_type": "stream",
     "text": [
      "Summary DataFrame columns: Index(['coef', 'std err', 't', 'P>|t|', '2.5 %', '97.5 %'], dtype='object')\n",
      "Summary DataFrame index: Index(['d'], dtype='object')\n",
      "Available metrics: Index(['d'], dtype='object')\n",
      "Summary DataFrame columns: Index(['coef', 'std err', 't', 'P>|t|', '2.5 %', '97.5 %'], dtype='object')\n",
      "Summary DataFrame index: Index(['d'], dtype='object')\n",
      "Available metrics: Index(['d'], dtype='object')\n",
      "Summary DataFrame columns: Index(['coef', 'std err', 't', 'P>|t|', '2.5 %', '97.5 %'], dtype='object')\n",
      "Summary DataFrame index: Index(['d'], dtype='object')\n",
      "Available metrics: Index(['d'], dtype='object')\n",
      "Summary DataFrame columns: Index(['coef', 'std err', 't', 'P>|t|', '2.5 %', '97.5 %'], dtype='object')\n",
      "Summary DataFrame index: Index(['d'], dtype='object')\n",
      "Available metrics: Index(['d'], dtype='object')\n"
     ]
    },
    {
     "data": {
      "image/png": "[encoded data removed]",
      "text/plain": [
       "<Figure size 640x480 with 1 Axes>"
      ]
     },
     "metadata": {},
     "output_type": "display_data"
    },
    {
     "data": {
      "image/png": "[encoded data removed]",
      "text/plain": [
       "<Figure size 640x480 with 1 Axes>"
      ]
     },
     "metadata": {},
     "output_type": "display_data"
    }
   ],
   "source": [
    "def print_scores(dml_obj, store_predictions=False):\n",
    "    if store_predictions:\n",
    "        dml_obj.fit(store_predictions=True)\n",
    "    summary_df = dml_obj.summary\n",
    "    print(\"Summary DataFrame columns:\", summary_df.columns)\n",
    "    print(\"Summary DataFrame index:\", summary_df.index)\n",
    "    \n",
    "    # Extract available metrics from the index\n",
    "    available_metrics = summary_df.index\n",
    "    print(\"Available metrics:\", available_metrics)\n",
    "    \n",
    "    # Select a metric to compare, e.g., 'd'\n",
    "    metric_to_use = 'd'\n",
    "    if metric_to_use not in available_metrics:\n",
    "        raise KeyError(f\"{metric_to_use} not found in summary.\")\n",
    "    \n",
    "    scores = summary_df.loc[metric_to_use]\n",
    "    return scores\n",
    "\n",
    "# Calculate and store scores for comparison\n",
    "scores = {\n",
    "    \"FLAML Manual Tuned\": print_scores(obj_dml_plr_manual_tuned, True),\n",
    "    \"FLAML API Tuned\": print_scores(dml_plr_obj_api_tuned, True),\n",
    "    \"AutoML Untuned\": print_scores(dml_plr_obj_untuned_automl, True),\n",
    "    \"Dummy\": print_scores(dml_plr_obj_dummy, True)\n",
    "}\n",
    "\n",
    "# Convert the scores dictionary to a DataFrame for plotting\n",
    "scores_df = pd.DataFrame(scores).T  # Transpose to have the model types as rows\n",
    "\n",
    "# Save the scores to a file\n",
    "scores_df.to_pickle(\"scores_comparison.pkl\")\n",
    "\n",
    "# Plot MSE for l_of_X and m_of_X separately\n",
    "scores_df['coef'].plot(kind=\"bar\", title=\"MSE for l_of_X\")\n",
    "plt.ylabel('MSE')\n",
    "plt.xticks(rotation=45)\n",
    "plt.tight_layout()\n",
    "plt.show()\n",
    "\n",
    "scores_df['std err'].plot(kind=\"bar\", title=\"MSE for m_of_X\")\n",
    "plt.ylabel('MSE')\n",
    "plt.xticks(rotation=45)\n",
    "plt.tight_layout()\n",
    "plt.show()"
   ]
  },
  {
   "cell_type": "markdown",
   "metadata": {},
   "source": [
    "### Observations\n",
    "\n",
    "- **Coefficient Values**: The coefficients for the `FLAML Manual Tuned` and `FLAML API Tuned` models are quite similar, with the API-tuned model having a slightly higher coefficient. Both are lower compared to the `AutoML Untuned` and `Dummy` models.\n",
    "- **Untuned AutoML Models**: The `AutoML Untuned` models yield a higher coefficient compared to the manually tuned FLAML models, indicating that the automated process of model tuning in AutoML may have overestimated the effect. The `Dummy` model has the highest coefficient, suggesting it could be overfitting or has a higher baseline value.\n",
    "\n",
    "### Conclusion\n",
    "\n",
    "- The **FLAML Manual Tuned** and **FLAML API Tuned** models provide similar results with coefficients close to 0.5, suggesting robust performance within their tuned configurations.\n",
    "- The **AutoML Untuned** models offer higher coefficient values, indicating that even though they are untuned, they still provide a noticeable increase in coefficient compared to the tuned FLAML models.\n",
    "- The **Dummy** model, having the highest coefficient, shows the largest discrepancy, which may imply it is not as well-calibrated as the other models.\n",
    "\n",
    "Overall, the manually tuned FLAML models and the API-tuned FLAML models show good alignment with the expectations, while the untuned and dummy models present larger coefficients which may suggest the need for further tuning or validation."
   ]
  }
 ],
 "metadata": {
  "kernelspec": {
   "display_name": "Python (myenv_py311)",
   "language": "python",
   "name": "myenv_py311"
  },
  "language_info": {
   "codemirror_mode": {
    "name": "ipython",
    "version": 3
   },
   "file_extension": ".py",
   "mimetype": "text/x-python",
   "name": "python",
   "nbconvert_exporter": "python",
   "pygments_lexer": "ipython3",
   "version": "3.11.10"
  }
 },
 "nbformat": 4,
 "nbformat_minor": 2
}
