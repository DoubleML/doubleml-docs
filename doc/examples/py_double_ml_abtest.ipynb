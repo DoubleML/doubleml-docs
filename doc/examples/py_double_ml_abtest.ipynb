{
 "cells": [
  {
   "cell_type": "markdown",
   "id": "consecutive-cabinet",
   "metadata": {},
   "source": [
    "# Python: A/B Testing with DoubleML"
   ]
  },
  {
   "cell_type": "markdown",
   "id": "opponent-indonesian",
   "metadata": {},
   "source": [
    "<img src=\"figures/ab_testing.jpg\" alt=\"An illustration of A/B testing.\" style=\"width: 400px;\"/>\n",
    "\n",
    "Image Source Freepik http://www.freepik.com, Designed by macrovector\n"
   ]
  },
  {
   "cell_type": "markdown",
   "id": "c7c96f88",
   "metadata": {},
   "source": [
    "In this notebook, we illustrate how the [DoubleML](https://docs.doubleml.org/stable/index.html) package can be used to estimate the causal effect of seeing a new ad design on customers' purchases in a webshop. The [DoubleML](https://docs.doubleml.org/stable/index.html) package for Python and R provides an implementation of the double / debiased machine learning (DML) framework of [Chernozhukov et al. (2018)](https://arxiv.org/abs/1608.00060) and can be used to estimate causal effects based on machine learning (ML) methods.\n",
    "\n",
    "## A/B Testing\n",
    "\n",
    "A/B testing is a frequently used framework to perform causal inference in practice. For example, a manager of a webshop might be interested in optimally adapt the webshop design according to users' preferences. She might want to estimate the effect of a new ad design, which is displayed on the starting page, on a customer's purchases (in $100\\$$). A/B tests refer to an experimental design in which a certain treatment, for example a new ad design (called \"Version $A$\"), that is randomly assigned to groups of individuals who are otherwise assigned to \"Version $B$\". The assignment can also be randomized among subgroups, i.e., randomly displayed to visitors once one or multiple of their characteristics are taken into consideration. For example, only visitors who have already purchased a product before might be exposed to the new ad. The goal is to conclude whether the treatment (= the new ad) has an effect on an outcome of interest (= monetary value of products purchased in $100\\$$). Additional examples refer to improvement of a user experience on a website or estimation of price elasticities. Websites and apps are ideal for running A/B tests because they make it very easy to precisely direct the treatment to visitors and users (or to specific subgroups of them).\n",
    "\n",
    "## Scenario\n",
    "\n",
    "Let's consider the following stylized scenario. The manager of a webshop is performing A/B testing to estimate the effect of a new ad design $A$, on customers' purchases, $Y$. The treatment is assigned randomly conditional on the visitors' characteristics $V$. Such characteristics could be collected from a customer's shoppers account, for example. These might include the number of previous purchases, time since last purchase, length of stay on a page as well as whether a customer has a rewards card, among other characteristics. Let's assume the conditional randomization has been conducted properly, such that a tidy data set has been collected. Now, a data scientist wants to evaluate whether the new ad design causally affected the sales, by using the [DoubleML](https://docs.doubleml.org/stable/index.html) package.\n",
    "\n",
    "### Why control for individual characteristics?\n",
    "\n",
    "Before we start the case study, let us briefly address the question why we need to include individual characteristics in our analysis at all. There are mainly two reasons why we want to control for observable characteristics. First of all, so-called confounders, i.e., variables that have a causal effect on both the treatment variable and the outcome variable, possibly create a bias in our estimate. In order to uncover the true causal effect of the treatment, it is necessary that our causal framework takes all confounding variables into account. A second reason to include individual characteristics is efficiency. The more variation can be explained within our causal framework, the more precise will be the resulting estimate. In practical terms, greater efficiency leads to tighter confidence intervals and smaller standard errors and p-values.\n",
    "\n",
    "### Why use machine learning to analyze A/B tests?\n",
    "\n",
    "ML methods have turned out to be very flexible in terms of modeling complex relationships of explanatory variables and dependent variables and, thus, have exhibited a great predictive performance in many applications. In the double machine learning approach ([Chernozhukov et al. (2018)](https://arxiv.org/abs/1608.00060)), ML methods are used for modelling so-called nuisance parts. In terms of the A/B case study considered here, ML tools can be used to flexibly control for confounding variables. For example, a linear parametric specification as in a standard linear regression model might not be correct and, hence, not sufficient to address the underlying confounding. Moreover, by using powerful ML techniques, the causal model will likely be able to explain a greater share of the total variation and, hence, lead to more precise estimation."
   ]
  },
  {
   "cell_type": "markdown",
   "id": "0ec5b0cf",
   "metadata": {},
   "source": [
    "## Data \n",
    "\n",
    "As an illustrative example we use a data set from the [ACIC 2019 Data Challenge](https://sites.google.com/view/acic2019datachallenge/data-challenge). In this challenge, a great number of data sets have been generated in a way that they mimic distributional relationships that are found in many economic real data applications. Although the data have not been generated explicitly to address an A/B testing case study, they are well-suited for demonstration purposes. We will focus on one of the many different data genereting processes (DGP) that we picked at random, in this particualar case a data set called `high42`. An advantage of using the [ACIC 2019 data](https://sites.google.com/view/acic2019datachallenge/data-challenge) is that we know the true average treatment effect which is 0.8 in our data set.\n",
    "\n",
    "First we load the data."
   ]
  },
  {
   "cell_type": "code",
   "execution_count": 1,
   "id": "e39d4dd0",
   "metadata": {},
   "outputs": [],
   "source": [
    "import pandas as pd\n",
    "\n",
    "#fetch_ACIChigh42 needs to be defined\n",
    "#df = fetch_ACIChigh42(return_type='DataFrame')\n",
    "\n",
    "#load code locally\n",
    "df = pd.read_csv('data/high42.csv', sep=',', na_values=\".\")\n",
    "\n",
    "#code can also be loaded using a URL of the data\n",
    "#url = 'https://raw.githubusercontent.com/DoubleML/doubleml-hiwi-sandbox/master/case_studies/AB_testing/data/high42.CSV?token=AQWGKQRE57BBRGOCBPSNBJTBD57ZQ'\n",
    "#df = pd.read_csv(url)"
   ]
  },
  {
   "cell_type": "markdown",
   "id": "11525056-cdec-4916-9cb4-aa4268e99175",
   "metadata": {},
   "source": [
    "We see that the data set consists of 1000 observations (= website visitors) and 202 variables. The $Y$ column represents the number of page visits. The treatment variable $A$ is binary with a value 1 indicating that a customer has been exposed to the new ad design (and value 0 otherwise). The remaining 200 columns $V$ represent individual characteristics of the customers."
   ]
  },
  {
   "cell_type": "code",
   "execution_count": 2,
   "id": "10edc74d",
   "metadata": {},
   "outputs": [
    {
     "name": "stdout",
     "output_type": "stream",
     "text": [
      "(1000, 202)\n"
     ]
    }
   ],
   "source": [
    "print(df.shape)"
   ]
  },
  {
   "cell_type": "code",
   "execution_count": 3,
   "id": "6760c009",
   "metadata": {
    "tags": []
   },
   "outputs": [
    {
     "data": {
      "text/html": [
       "<div>\n",
       "<style scoped>\n",
       "    .dataframe tbody tr th:only-of-type {\n",
       "        vertical-align: middle;\n",
       "    }\n",
       "\n",
       "    .dataframe tbody tr th {\n",
       "        vertical-align: top;\n",
       "    }\n",
       "\n",
       "    .dataframe thead th {\n",
       "        text-align: right;\n",
       "    }\n",
       "</style>\n",
       "<table border=\"1\" class=\"dataframe\">\n",
       "  <thead>\n",
       "    <tr style=\"text-align: right;\">\n",
       "      <th></th>\n",
       "      <th>Y</th>\n",
       "      <th>A</th>\n",
       "      <th>V1</th>\n",
       "      <th>V2</th>\n",
       "      <th>V3</th>\n",
       "      <th>V4</th>\n",
       "      <th>V5</th>\n",
       "      <th>V6</th>\n",
       "      <th>V7</th>\n",
       "      <th>V8</th>\n",
       "      <th>...</th>\n",
       "      <th>V191</th>\n",
       "      <th>V192</th>\n",
       "      <th>V193</th>\n",
       "      <th>V194</th>\n",
       "      <th>V195</th>\n",
       "      <th>V196</th>\n",
       "      <th>V197</th>\n",
       "      <th>V198</th>\n",
       "      <th>V199</th>\n",
       "      <th>V200</th>\n",
       "    </tr>\n",
       "  </thead>\n",
       "  <tbody>\n",
       "    <tr>\n",
       "      <th>0</th>\n",
       "      <td>7.358185</td>\n",
       "      <td>1</td>\n",
       "      <td>10</td>\n",
       "      <td>0</td>\n",
       "      <td>0</td>\n",
       "      <td>7</td>\n",
       "      <td>192.793769</td>\n",
       "      <td>23.676950</td>\n",
       "      <td>8</td>\n",
       "      <td>0.185443</td>\n",
       "      <td>...</td>\n",
       "      <td>1.462837</td>\n",
       "      <td>1</td>\n",
       "      <td>1627.274196</td>\n",
       "      <td>0</td>\n",
       "      <td>0</td>\n",
       "      <td>4.683956</td>\n",
       "      <td>0.565667</td>\n",
       "      <td>0</td>\n",
       "      <td>3</td>\n",
       "      <td>0.024338</td>\n",
       "    </tr>\n",
       "    <tr>\n",
       "      <th>1</th>\n",
       "      <td>8.333672</td>\n",
       "      <td>1</td>\n",
       "      <td>12</td>\n",
       "      <td>0</td>\n",
       "      <td>1</td>\n",
       "      <td>4</td>\n",
       "      <td>199.653596</td>\n",
       "      <td>19.281270</td>\n",
       "      <td>7</td>\n",
       "      <td>0.514842</td>\n",
       "      <td>...</td>\n",
       "      <td>1.330522</td>\n",
       "      <td>1</td>\n",
       "      <td>1661.484439</td>\n",
       "      <td>1</td>\n",
       "      <td>0</td>\n",
       "      <td>6.766661</td>\n",
       "      <td>-0.395402</td>\n",
       "      <td>0</td>\n",
       "      <td>4</td>\n",
       "      <td>0.056518</td>\n",
       "    </tr>\n",
       "    <tr>\n",
       "      <th>2</th>\n",
       "      <td>7.472758</td>\n",
       "      <td>0</td>\n",
       "      <td>14</td>\n",
       "      <td>1</td>\n",
       "      <td>1</td>\n",
       "      <td>2</td>\n",
       "      <td>194.207792</td>\n",
       "      <td>24.589331</td>\n",
       "      <td>5</td>\n",
       "      <td>0.309199</td>\n",
       "      <td>...</td>\n",
       "      <td>1.384151</td>\n",
       "      <td>1</td>\n",
       "      <td>1658.939293</td>\n",
       "      <td>0</td>\n",
       "      <td>0</td>\n",
       "      <td>5.647794</td>\n",
       "      <td>1.112766</td>\n",
       "      <td>0</td>\n",
       "      <td>0</td>\n",
       "      <td>0.013442</td>\n",
       "    </tr>\n",
       "    <tr>\n",
       "      <th>3</th>\n",
       "      <td>6.502319</td>\n",
       "      <td>1</td>\n",
       "      <td>0</td>\n",
       "      <td>1</td>\n",
       "      <td>0</td>\n",
       "      <td>9</td>\n",
       "      <td>201.838024</td>\n",
       "      <td>25.513918</td>\n",
       "      <td>4</td>\n",
       "      <td>0.160160</td>\n",
       "      <td>...</td>\n",
       "      <td>1.220303</td>\n",
       "      <td>1</td>\n",
       "      <td>1650.801625</td>\n",
       "      <td>0</td>\n",
       "      <td>0</td>\n",
       "      <td>5.370363</td>\n",
       "      <td>-0.305842</td>\n",
       "      <td>0</td>\n",
       "      <td>4</td>\n",
       "      <td>0.034632</td>\n",
       "    </tr>\n",
       "    <tr>\n",
       "      <th>4</th>\n",
       "      <td>7.043758</td>\n",
       "      <td>1</td>\n",
       "      <td>12</td>\n",
       "      <td>0</td>\n",
       "      <td>0</td>\n",
       "      <td>9</td>\n",
       "      <td>201.360443</td>\n",
       "      <td>31.160641</td>\n",
       "      <td>6</td>\n",
       "      <td>0.291976</td>\n",
       "      <td>...</td>\n",
       "      <td>1.170094</td>\n",
       "      <td>1</td>\n",
       "      <td>1676.818876</td>\n",
       "      <td>0</td>\n",
       "      <td>0</td>\n",
       "      <td>3.446532</td>\n",
       "      <td>2.440661</td>\n",
       "      <td>0</td>\n",
       "      <td>1</td>\n",
       "      <td>0.017514</td>\n",
       "    </tr>\n",
       "  </tbody>\n",
       "</table>\n",
       "<p>5 rows × 202 columns</p>\n",
       "</div>"
      ],
      "text/plain": [
       "          Y  A  V1  V2  V3  V4          V5         V6  V7        V8  ...  \\\n",
       "0  7.358185  1  10   0   0   7  192.793769  23.676950   8  0.185443  ...   \n",
       "1  8.333672  1  12   0   1   4  199.653596  19.281270   7  0.514842  ...   \n",
       "2  7.472758  0  14   1   1   2  194.207792  24.589331   5  0.309199  ...   \n",
       "3  6.502319  1   0   1   0   9  201.838024  25.513918   4  0.160160  ...   \n",
       "4  7.043758  1  12   0   0   9  201.360443  31.160641   6  0.291976  ...   \n",
       "\n",
       "       V191  V192         V193  V194  V195      V196      V197  V198  V199  \\\n",
       "0  1.462837     1  1627.274196     0     0  4.683956  0.565667     0     3   \n",
       "1  1.330522     1  1661.484439     1     0  6.766661 -0.395402     0     4   \n",
       "2  1.384151     1  1658.939293     0     0  5.647794  1.112766     0     0   \n",
       "3  1.220303     1  1650.801625     0     0  5.370363 -0.305842     0     4   \n",
       "4  1.170094     1  1676.818876     0     0  3.446532  2.440661     0     1   \n",
       "\n",
       "       V200  \n",
       "0  0.024338  \n",
       "1  0.056518  \n",
       "2  0.013442  \n",
       "3  0.034632  \n",
       "4  0.017514  \n",
       "\n",
       "[5 rows x 202 columns]"
      ]
     },
     "execution_count": 3,
     "metadata": {},
     "output_type": "execute_result"
    }
   ],
   "source": [
    "df.head()"
   ]
  },
  {
   "cell_type": "markdown",
   "id": "c6e32feb",
   "metadata": {},
   "source": [
    "### Descriptive Statistics\n"
   ]
  },
  {
   "cell_type": "markdown",
   "id": "horizontal-hanging",
   "metadata": {},
   "source": [
    "Once we loaded the data, we find that the outcome variable, $Y$, is continuous with mean around $3.44$. The treatment variable $A$ is binary with a value of $1$ indicating that a visitor was exposed to the new ad design $A$ as opposed to design $B$ (corresponding to a value of $A$ equal to $1$). The control variables $V$ are a collection of mixed data types, including continuous, discrete and binary variables."
   ]
  },
  {
   "cell_type": "code",
   "execution_count": 4,
   "id": "d14f929c-178b-47fc-8293-29a634194f21",
   "metadata": {},
   "outputs": [
    {
     "data": {
      "text/html": [
       "<div>\n",
       "<style scoped>\n",
       "    .dataframe tbody tr th:only-of-type {\n",
       "        vertical-align: middle;\n",
       "    }\n",
       "\n",
       "    .dataframe tbody tr th {\n",
       "        vertical-align: top;\n",
       "    }\n",
       "\n",
       "    .dataframe thead th {\n",
       "        text-align: right;\n",
       "    }\n",
       "</style>\n",
       "<table border=\"1\" class=\"dataframe\">\n",
       "  <thead>\n",
       "    <tr style=\"text-align: right;\">\n",
       "      <th></th>\n",
       "      <th>Y</th>\n",
       "      <th>A</th>\n",
       "      <th>V1</th>\n",
       "      <th>V2</th>\n",
       "      <th>V3</th>\n",
       "      <th>V4</th>\n",
       "      <th>V5</th>\n",
       "      <th>V6</th>\n",
       "      <th>V7</th>\n",
       "      <th>V8</th>\n",
       "      <th>...</th>\n",
       "      <th>V191</th>\n",
       "      <th>V192</th>\n",
       "      <th>V193</th>\n",
       "      <th>V194</th>\n",
       "      <th>V195</th>\n",
       "      <th>V196</th>\n",
       "      <th>V197</th>\n",
       "      <th>V198</th>\n",
       "      <th>V199</th>\n",
       "      <th>V200</th>\n",
       "    </tr>\n",
       "  </thead>\n",
       "  <tbody>\n",
       "    <tr>\n",
       "      <th>count</th>\n",
       "      <td>1000.000000</td>\n",
       "      <td>1000.000000</td>\n",
       "      <td>1000.000000</td>\n",
       "      <td>1000.000000</td>\n",
       "      <td>1000.000000</td>\n",
       "      <td>1000.000000</td>\n",
       "      <td>1000.000000</td>\n",
       "      <td>1000.000000</td>\n",
       "      <td>1000.000000</td>\n",
       "      <td>1000.000000</td>\n",
       "      <td>...</td>\n",
       "      <td>1000.000000</td>\n",
       "      <td>1000.00000</td>\n",
       "      <td>1000.000000</td>\n",
       "      <td>1000.000000</td>\n",
       "      <td>1000.000000</td>\n",
       "      <td>1000.000000</td>\n",
       "      <td>1000.000000</td>\n",
       "      <td>1000.00000</td>\n",
       "      <td>1000.000000</td>\n",
       "      <td>1000.000000</td>\n",
       "    </tr>\n",
       "    <tr>\n",
       "      <th>mean</th>\n",
       "      <td>7.331239</td>\n",
       "      <td>0.443000</td>\n",
       "      <td>9.290000</td>\n",
       "      <td>0.377000</td>\n",
       "      <td>0.616000</td>\n",
       "      <td>6.477000</td>\n",
       "      <td>200.088758</td>\n",
       "      <td>28.066028</td>\n",
       "      <td>6.031000</td>\n",
       "      <td>0.294206</td>\n",
       "      <td>...</td>\n",
       "      <td>1.318209</td>\n",
       "      <td>0.94200</td>\n",
       "      <td>1667.454561</td>\n",
       "      <td>0.254000</td>\n",
       "      <td>0.174000</td>\n",
       "      <td>5.804205</td>\n",
       "      <td>-0.076921</td>\n",
       "      <td>0.29400</td>\n",
       "      <td>1.629000</td>\n",
       "      <td>0.037936</td>\n",
       "    </tr>\n",
       "    <tr>\n",
       "      <th>std</th>\n",
       "      <td>1.379852</td>\n",
       "      <td>0.496989</td>\n",
       "      <td>3.889605</td>\n",
       "      <td>0.484877</td>\n",
       "      <td>0.486601</td>\n",
       "      <td>2.870141</td>\n",
       "      <td>6.105408</td>\n",
       "      <td>9.920941</td>\n",
       "      <td>2.480361</td>\n",
       "      <td>0.119454</td>\n",
       "      <td>...</td>\n",
       "      <td>0.270178</td>\n",
       "      <td>0.23386</td>\n",
       "      <td>44.191913</td>\n",
       "      <td>0.435515</td>\n",
       "      <td>0.379299</td>\n",
       "      <td>2.655835</td>\n",
       "      <td>1.002754</td>\n",
       "      <td>0.45582</td>\n",
       "      <td>1.388988</td>\n",
       "      <td>0.021688</td>\n",
       "    </tr>\n",
       "    <tr>\n",
       "      <th>min</th>\n",
       "      <td>3.435052</td>\n",
       "      <td>0.000000</td>\n",
       "      <td>0.000000</td>\n",
       "      <td>0.000000</td>\n",
       "      <td>0.000000</td>\n",
       "      <td>0.000000</td>\n",
       "      <td>183.123067</td>\n",
       "      <td>12.020630</td>\n",
       "      <td>0.000000</td>\n",
       "      <td>0.047160</td>\n",
       "      <td>...</td>\n",
       "      <td>0.668093</td>\n",
       "      <td>0.00000</td>\n",
       "      <td>1524.291675</td>\n",
       "      <td>0.000000</td>\n",
       "      <td>0.000000</td>\n",
       "      <td>1.097708</td>\n",
       "      <td>-3.644652</td>\n",
       "      <td>0.00000</td>\n",
       "      <td>0.000000</td>\n",
       "      <td>0.001478</td>\n",
       "    </tr>\n",
       "    <tr>\n",
       "      <th>25%</th>\n",
       "      <td>6.405583</td>\n",
       "      <td>0.000000</td>\n",
       "      <td>7.000000</td>\n",
       "      <td>0.000000</td>\n",
       "      <td>0.000000</td>\n",
       "      <td>5.000000</td>\n",
       "      <td>195.941569</td>\n",
       "      <td>21.206230</td>\n",
       "      <td>4.000000</td>\n",
       "      <td>0.204260</td>\n",
       "      <td>...</td>\n",
       "      <td>1.119369</td>\n",
       "      <td>1.00000</td>\n",
       "      <td>1637.699514</td>\n",
       "      <td>0.000000</td>\n",
       "      <td>0.000000</td>\n",
       "      <td>4.065465</td>\n",
       "      <td>-0.751355</td>\n",
       "      <td>0.00000</td>\n",
       "      <td>1.000000</td>\n",
       "      <td>0.021711</td>\n",
       "    </tr>\n",
       "    <tr>\n",
       "      <th>50%</th>\n",
       "      <td>7.335248</td>\n",
       "      <td>0.000000</td>\n",
       "      <td>10.000000</td>\n",
       "      <td>0.000000</td>\n",
       "      <td>1.000000</td>\n",
       "      <td>7.000000</td>\n",
       "      <td>199.876117</td>\n",
       "      <td>26.202582</td>\n",
       "      <td>6.000000</td>\n",
       "      <td>0.282867</td>\n",
       "      <td>...</td>\n",
       "      <td>1.293790</td>\n",
       "      <td>1.00000</td>\n",
       "      <td>1667.763480</td>\n",
       "      <td>0.000000</td>\n",
       "      <td>0.000000</td>\n",
       "      <td>5.236465</td>\n",
       "      <td>-0.091056</td>\n",
       "      <td>0.00000</td>\n",
       "      <td>1.000000</td>\n",
       "      <td>0.034009</td>\n",
       "    </tr>\n",
       "    <tr>\n",
       "      <th>75%</th>\n",
       "      <td>8.271881</td>\n",
       "      <td>1.000000</td>\n",
       "      <td>12.000000</td>\n",
       "      <td>1.000000</td>\n",
       "      <td>1.000000</td>\n",
       "      <td>8.000000</td>\n",
       "      <td>204.398067</td>\n",
       "      <td>33.071189</td>\n",
       "      <td>8.000000</td>\n",
       "      <td>0.374078</td>\n",
       "      <td>...</td>\n",
       "      <td>1.476828</td>\n",
       "      <td>1.00000</td>\n",
       "      <td>1695.972631</td>\n",
       "      <td>1.000000</td>\n",
       "      <td>0.000000</td>\n",
       "      <td>6.898240</td>\n",
       "      <td>0.594647</td>\n",
       "      <td>1.00000</td>\n",
       "      <td>2.000000</td>\n",
       "      <td>0.049100</td>\n",
       "    </tr>\n",
       "    <tr>\n",
       "      <th>max</th>\n",
       "      <td>13.197260</td>\n",
       "      <td>1.000000</td>\n",
       "      <td>20.000000</td>\n",
       "      <td>1.000000</td>\n",
       "      <td>1.000000</td>\n",
       "      <td>15.000000</td>\n",
       "      <td>220.584410</td>\n",
       "      <td>95.410020</td>\n",
       "      <td>14.000000</td>\n",
       "      <td>0.706249</td>\n",
       "      <td>...</td>\n",
       "      <td>2.448661</td>\n",
       "      <td>1.00000</td>\n",
       "      <td>1825.697096</td>\n",
       "      <td>1.000000</td>\n",
       "      <td>1.000000</td>\n",
       "      <td>38.427974</td>\n",
       "      <td>2.832673</td>\n",
       "      <td>1.00000</td>\n",
       "      <td>9.000000</td>\n",
       "      <td>0.139716</td>\n",
       "    </tr>\n",
       "  </tbody>\n",
       "</table>\n",
       "<p>8 rows × 202 columns</p>\n",
       "</div>"
      ],
      "text/plain": [
       "                 Y            A           V1           V2           V3  \\\n",
       "count  1000.000000  1000.000000  1000.000000  1000.000000  1000.000000   \n",
       "mean      7.331239     0.443000     9.290000     0.377000     0.616000   \n",
       "std       1.379852     0.496989     3.889605     0.484877     0.486601   \n",
       "min       3.435052     0.000000     0.000000     0.000000     0.000000   \n",
       "25%       6.405583     0.000000     7.000000     0.000000     0.000000   \n",
       "50%       7.335248     0.000000    10.000000     0.000000     1.000000   \n",
       "75%       8.271881     1.000000    12.000000     1.000000     1.000000   \n",
       "max      13.197260     1.000000    20.000000     1.000000     1.000000   \n",
       "\n",
       "                V4           V5           V6           V7           V8  ...  \\\n",
       "count  1000.000000  1000.000000  1000.000000  1000.000000  1000.000000  ...   \n",
       "mean      6.477000   200.088758    28.066028     6.031000     0.294206  ...   \n",
       "std       2.870141     6.105408     9.920941     2.480361     0.119454  ...   \n",
       "min       0.000000   183.123067    12.020630     0.000000     0.047160  ...   \n",
       "25%       5.000000   195.941569    21.206230     4.000000     0.204260  ...   \n",
       "50%       7.000000   199.876117    26.202582     6.000000     0.282867  ...   \n",
       "75%       8.000000   204.398067    33.071189     8.000000     0.374078  ...   \n",
       "max      15.000000   220.584410    95.410020    14.000000     0.706249  ...   \n",
       "\n",
       "              V191        V192         V193         V194         V195  \\\n",
       "count  1000.000000  1000.00000  1000.000000  1000.000000  1000.000000   \n",
       "mean      1.318209     0.94200  1667.454561     0.254000     0.174000   \n",
       "std       0.270178     0.23386    44.191913     0.435515     0.379299   \n",
       "min       0.668093     0.00000  1524.291675     0.000000     0.000000   \n",
       "25%       1.119369     1.00000  1637.699514     0.000000     0.000000   \n",
       "50%       1.293790     1.00000  1667.763480     0.000000     0.000000   \n",
       "75%       1.476828     1.00000  1695.972631     1.000000     0.000000   \n",
       "max       2.448661     1.00000  1825.697096     1.000000     1.000000   \n",
       "\n",
       "              V196         V197        V198         V199         V200  \n",
       "count  1000.000000  1000.000000  1000.00000  1000.000000  1000.000000  \n",
       "mean      5.804205    -0.076921     0.29400     1.629000     0.037936  \n",
       "std       2.655835     1.002754     0.45582     1.388988     0.021688  \n",
       "min       1.097708    -3.644652     0.00000     0.000000     0.001478  \n",
       "25%       4.065465    -0.751355     0.00000     1.000000     0.021711  \n",
       "50%       5.236465    -0.091056     0.00000     1.000000     0.034009  \n",
       "75%       6.898240     0.594647     1.00000     2.000000     0.049100  \n",
       "max      38.427974     2.832673     1.00000     9.000000     0.139716  \n",
       "\n",
       "[8 rows x 202 columns]"
      ]
     },
     "execution_count": 4,
     "metadata": {},
     "output_type": "execute_result"
    }
   ],
   "source": [
    "df.describe()"
   ]
  },
  {
   "cell_type": "markdown",
   "id": "d7e45649",
   "metadata": {},
   "source": [
    "From the explanatory vriables $V1$ to $V200$, 107 variables are continuous, while 95 are integers. From the integer-variables 59 are binary variables. "
   ]
  },
  {
   "cell_type": "code",
   "execution_count": 5,
   "id": "bde50bfe",
   "metadata": {},
   "outputs": [
    {
     "name": "stdout",
     "output_type": "stream",
     "text": [
      "float64    107\n",
      "int64       95\n",
      "dtype: int64\n"
     ]
    },
    {
     "data": {
      "text/plain": [
       "59"
      ]
     },
     "execution_count": 5,
     "metadata": {},
     "output_type": "execute_result"
    }
   ],
   "source": [
    "print(df.dtypes.value_counts())\n",
    "sum((df.max(0) == 1) & (df.min(0) == 0))"
   ]
  },
  {
   "cell_type": "markdown",
   "id": "0ce90b4b",
   "metadata": {},
   "source": [
    "Let's continue with some visual inspection. First we set the graph settings for graphing."
   ]
  },
  {
   "cell_type": "code",
   "execution_count": 6,
   "id": "b4d2dfb4",
   "metadata": {},
   "outputs": [],
   "source": [
    "import seaborn as sns\n",
    "sns.set()\n",
    "colors = sns.color_palette()\n",
    "\n",
    "import matplotlib.pyplot as plt\n",
    "\n",
    "plt.rcParams['figure.figsize'] = 5., 3.75\n",
    "sns.set(font_scale=1.5)\n",
    "sns.set_style('whitegrid', {'axes.spines.top': False,\n",
    "                            'axes.spines.bottom': False,\n",
    "                            'axes.spines.left': False,\n",
    "                            'axes.spines.right': False})"
   ]
  },
  {
   "cell_type": "markdown",
   "id": "11045894",
   "metadata": {},
   "source": [
    "The first figure shows that 443 out of the 1000 customers have been exposed to the new ad design."
   ]
  },
  {
   "cell_type": "code",
   "execution_count": 7,
   "id": "2b5037d3",
   "metadata": {
    "tags": []
   },
   "outputs": [
    {
     "data": {
      "image/png": "[encoded data removed]",
      "text/plain": [
       "<Figure size 360x270 with 1 Axes>"
      ]
     },
     "metadata": {},
     "output_type": "display_data"
    }
   ],
   "source": [
    "df['A'].value_counts().plot(kind='bar', color=colors)\n",
    "\n",
    "plt.title('Treatment')\n",
    "plt.xlabel('A')\n",
    "_ = plt.ylabel('count')"
   ]
  },
  {
   "cell_type": "markdown",
   "id": "8c2dc825",
   "metadata": {},
   "source": [
    "### Unconditional Estimate of ATE"
   ]
  },
  {
   "cell_type": "markdown",
   "id": "8da84d00",
   "metadata": {},
   "source": [
    "As a first naive estimate, we could calculate the unconditional average treatment effect (ATE). In other words, we simply take the difference between $Y$ observed for the customers who have been exposed to the treatment $(A=1)$ and those who haven't been exposed $(A=0)$. As a visualization, we plot the density of the outcome variable conditional on the treatment status to get a first impression on the descriptive relationship of $A$ and $Y$. One can see that customers-purchases Y is higher for the customers who saw the add, because the mean of the distribution $A=1$ is shifted to the right."
   ]
  },
  {
   "cell_type": "code",
   "execution_count": 8,
   "id": "57392f09",
   "metadata": {
    "scrolled": true
   },
   "outputs": [
    {
     "data": {
      "image/png": "[encoded data removed]",
      "text/plain": [
       "<Figure size 788.525x360 with 2 Axes>"
      ]
     },
     "metadata": {},
     "output_type": "display_data"
    }
   ],
   "source": [
    "_ = sns.displot(df, x=\"Y\", hue=\"A\", col=\"A\",\n",
    "                kind=\"kde\", rug = True, fill=True)"
   ]
  },
  {
   "cell_type": "markdown",
   "id": "b2bcca63",
   "metadata": {},
   "source": [
    "Since the unconditional ATE does not account for confounding variables, it will probably suffer from a severe bias. For example, there might be a subgroup of clients who regularly buy the a specific product from the webshop and directly jump on the website of this item. These customers will be less likely to see the ad but may have higher sales than other customers at the same time. By ignoring customers' browse history, we would probably underestimate the true causal effect. However, once we are able to observe the browse history, we would be able to adjust our estimation for this confounding factor."
   ]
  },
  {
   "cell_type": "code",
   "execution_count": 9,
   "id": "381e745d",
   "metadata": {},
   "outputs": [
    {
     "data": {
      "text/html": [
       "<div>\n",
       "<style scoped>\n",
       "    .dataframe tbody tr th:only-of-type {\n",
       "        vertical-align: middle;\n",
       "    }\n",
       "\n",
       "    .dataframe tbody tr th {\n",
       "        vertical-align: top;\n",
       "    }\n",
       "\n",
       "    .dataframe thead th {\n",
       "        text-align: right;\n",
       "    }\n",
       "</style>\n",
       "<table border=\"1\" class=\"dataframe\">\n",
       "  <thead>\n",
       "    <tr style=\"text-align: right;\">\n",
       "      <th></th>\n",
       "      <th>Y</th>\n",
       "    </tr>\n",
       "    <tr>\n",
       "      <th>A</th>\n",
       "      <th></th>\n",
       "    </tr>\n",
       "  </thead>\n",
       "  <tbody>\n",
       "    <tr>\n",
       "      <th>0</th>\n",
       "      <td>6.836141</td>\n",
       "    </tr>\n",
       "    <tr>\n",
       "      <th>1</th>\n",
       "      <td>7.953744</td>\n",
       "    </tr>\n",
       "  </tbody>\n",
       "</table>\n",
       "</div>"
      ],
      "text/plain": [
       "          Y\n",
       "A          \n",
       "0  6.836141\n",
       "1  7.953744"
      ]
     },
     "execution_count": 9,
     "metadata": {},
     "output_type": "execute_result"
    }
   ],
   "source": [
    "df[['A', 'Y']].groupby('A').mean()"
   ]
  },
  {
   "cell_type": "code",
   "execution_count": 10,
   "id": "48457fd4",
   "metadata": {},
   "outputs": [
    {
     "data": {
      "text/html": [
       "<div>\n",
       "<style scoped>\n",
       "    .dataframe tbody tr th:only-of-type {\n",
       "        vertical-align: middle;\n",
       "    }\n",
       "\n",
       "    .dataframe tbody tr th {\n",
       "        vertical-align: top;\n",
       "    }\n",
       "\n",
       "    .dataframe thead th {\n",
       "        text-align: right;\n",
       "    }\n",
       "</style>\n",
       "<table border=\"1\" class=\"dataframe\">\n",
       "  <thead>\n",
       "    <tr style=\"text-align: right;\">\n",
       "      <th></th>\n",
       "      <th>Y</th>\n",
       "    </tr>\n",
       "    <tr>\n",
       "      <th>A</th>\n",
       "      <th></th>\n",
       "    </tr>\n",
       "  </thead>\n",
       "  <tbody>\n",
       "    <tr>\n",
       "      <th>0</th>\n",
       "      <td>NaN</td>\n",
       "    </tr>\n",
       "    <tr>\n",
       "      <th>1</th>\n",
       "      <td>1.117603</td>\n",
       "    </tr>\n",
       "  </tbody>\n",
       "</table>\n",
       "</div>"
      ],
      "text/plain": [
       "          Y\n",
       "A          \n",
       "0       NaN\n",
       "1  1.117603"
      ]
     },
     "execution_count": 10,
     "metadata": {},
     "output_type": "execute_result"
    }
   ],
   "source": [
    "df[['A', 'Y']].groupby('A').mean().diff()"
   ]
  },
  {
   "cell_type": "markdown",
   "id": "e6f3fa75-a5d4-480c-b627-4b99c6f6afe3",
   "metadata": {},
   "source": [
    "The uncoditional effect is $1.117$. Because we use a simulated data set in this example, we know that the true effect is $0.8$. Therefore the unconditional effect overestimates the true effect, because it does not account for individual characteristics. In order to get an estimation on the ATE that explicitly takes the confounding variables $V$ into account, we apply the [DoubleML](https://docs.doubleml.org/stable/index.html) package in the next section."
   ]
  },
  {
   "cell_type": "markdown",
   "id": "9e21e9bb",
   "metadata": {},
   "source": [
    "## Estimate ATE with the `DoubleML` package"
   ]
  },
  {
   "cell_type": "markdown",
   "id": "19830a0a",
   "metadata": {},
   "source": [
    "Let’s use the package [DoubleML](https://docs.doubleml.org/stable/index.html) to estimate the average treatment effect of the new ad design on the value of customers' purchases. First, the required packages are imported."
   ]
  },
  {
   "cell_type": "code",
   "execution_count": 11,
   "id": "afaf4106",
   "metadata": {},
   "outputs": [],
   "source": [
    "import numpy as np\n",
    "import pandas as pd\n",
    "import doubleml as dml\n",
    "\n",
    "from sklearn.linear_model import LinearRegression\n",
    "from sklearn.linear_model import LogisticRegression\n",
    "\n",
    "from sklearn.linear_model import LassoCV, LogisticRegressionCV\n",
    "from sklearn.ensemble import RandomForestClassifier, RandomForestRegressor\n",
    "from sklearn.preprocessing import StandardScaler\n",
    "from sklearn.pipeline import make_pipeline\n",
    "from xgboost import XGBClassifier, XGBRegressor\n",
    "\n",
    "import matplotlib.pyplot as plt\n",
    "import scipy.stats as stats"
   ]
  },
  {
   "cell_type": "markdown",
   "id": "49242003",
   "metadata": {},
   "source": [
    "### The Data Backend: `DoubleMLData`"
   ]
  },
  {
   "cell_type": "markdown",
   "id": "3653b53a",
   "metadata": {},
   "source": [
    "To start our analysis, we initialize the data backend from the previously loaded data set, i.e., we create a new instance of a [DoubleMLData](https://docs.doubleml.org/dev/api/generated/doubleml.DoubleMLData.html#doubleml.DoubleMLData) object. During initialization, we specify the roles of the variables in the data set, i.e., in our example the outcome variable $Y$ via the parameter `y_col`, the treatment variable $A$ via `d_cols` and the confounding variables $V$ via `x_cols`."
   ]
  },
  {
   "cell_type": "code",
   "execution_count": 12,
   "id": "abdd10b7",
   "metadata": {},
   "outputs": [],
   "source": [
    "# Specify explanatory variables for data-backend\n",
    "features_base = list(df.columns.values)[2:]\n",
    "\n",
    "# Initialize DoubleMLData (data-backend of DoubleML)\n",
    "data_dml = dml.DoubleMLData(df,\n",
    "                            y_col='Y',\n",
    "                            d_cols='A',\n",
    "                            x_cols=features_base)"
   ]
  },
  {
   "cell_type": "markdown",
   "id": "5800ca50-c293-4266-8dd7-00fadcea8d51",
   "metadata": {},
   "source": [
    "We can print the data-backend to see the variables, which we have assigned as outcome, treatment and controls."
   ]
  },
  {
   "cell_type": "code",
   "execution_count": 13,
   "id": "37b9bd8a",
   "metadata": {},
   "outputs": [
    {
     "name": "stdout",
     "output_type": "stream",
     "text": [
      "================== DoubleMLData Object ==================\n",
      "\n",
      "------------------ Data summary      ------------------\n",
      "Outcome variable: Y\n",
      "Treatment variable(s): ['A']\n",
      "Covariates: ['V1', 'V2', 'V3', 'V4', 'V5', 'V6', 'V7', 'V8', 'V9', 'V10', 'V11', 'V12', 'V13', 'V14', 'V15', 'V16', 'V17', 'V18', 'V19', 'V20', 'V21', 'V22', 'V23', 'V24', 'V25', 'V26', 'V27', 'V28', 'V29', 'V30', 'V31', 'V32', 'V33', 'V34', 'V35', 'V36', 'V37', 'V38', 'V39', 'V40', 'V41', 'V42', 'V43', 'V44', 'V45', 'V46', 'V47', 'V48', 'V49', 'V50', 'V51', 'V52', 'V53', 'V54', 'V55', 'V56', 'V57', 'V58', 'V59', 'V60', 'V61', 'V62', 'V63', 'V64', 'V65', 'V66', 'V67', 'V68', 'V69', 'V70', 'V71', 'V72', 'V73', 'V74', 'V75', 'V76', 'V77', 'V78', 'V79', 'V80', 'V81', 'V82', 'V83', 'V84', 'V85', 'V86', 'V87', 'V88', 'V89', 'V90', 'V91', 'V92', 'V93', 'V94', 'V95', 'V96', 'V97', 'V98', 'V99', 'V100', 'V101', 'V102', 'V103', 'V104', 'V105', 'V106', 'V107', 'V108', 'V109', 'V110', 'V111', 'V112', 'V113', 'V114', 'V115', 'V116', 'V117', 'V118', 'V119', 'V120', 'V121', 'V122', 'V123', 'V124', 'V125', 'V126', 'V127', 'V128', 'V129', 'V130', 'V131', 'V132', 'V133', 'V134', 'V135', 'V136', 'V137', 'V138', 'V139', 'V140', 'V141', 'V142', 'V143', 'V144', 'V145', 'V146', 'V147', 'V148', 'V149', 'V150', 'V151', 'V152', 'V153', 'V154', 'V155', 'V156', 'V157', 'V158', 'V159', 'V160', 'V161', 'V162', 'V163', 'V164', 'V165', 'V166', 'V167', 'V168', 'V169', 'V170', 'V171', 'V172', 'V173', 'V174', 'V175', 'V176', 'V177', 'V178', 'V179', 'V180', 'V181', 'V182', 'V183', 'V184', 'V185', 'V186', 'V187', 'V188', 'V189', 'V190', 'V191', 'V192', 'V193', 'V194', 'V195', 'V196', 'V197', 'V198', 'V199', 'V200']\n",
      "Instrument variable(s): None\n",
      "No. Observations: 1000\n",
      "\n",
      "------------------ DataFrame info    ------------------\n",
      "<class 'pandas.core.frame.DataFrame'>\n",
      "RangeIndex: 1000 entries, 0 to 999\n",
      "Columns: 202 entries, Y to V200\n",
      "dtypes: float64(107), int64(95)\n",
      "memory usage: 1.5 MB\n",
      "\n"
     ]
    }
   ],
   "source": [
    "print(data_dml)"
   ]
  },
  {
   "cell_type": "markdown",
   "id": "714346b8-90dd-4f15-b880-d71f4f60b04e",
   "metadata": {},
   "source": [
    "## The Inference Problem and Choosing an Appropriate Model\n",
    "\n",
    "The inference problem is to determine the causal effect of seeing the new ad design $A$ on a customer's purchases $Y$ once we control for individual characteristics $V$. In our example, we are interested in the average treatment effect. Basically, there are two causal models available in [DoubleMLData](https://docs.doubleml.org/dev/api/generated/doubleml.DoubleMLData.html#doubleml.DoubleMLData) that can be used to estimate the ATE.\n",
    "\n",
    "The so-called interactive regression model (IRM) called by [DoubleMLIRM](https://docs.doubleml.org/dev/api/generated/doubleml.DoubleMLIRM.html) is a flexible model to estimate this causal quantity. The model does not impose functional form restrictions on the underlying regression relationships, for example, linearity or additivity as in a standard linear regression model. This means that the model hosts heterogeneous treatment effects, i.e., account for variation in the effect of the new ad design across customers. Moreover, it is possible to also estimate other causal parameters with the IRM, for example, the average treatment effect on the treated, which might be of interest too.\n",
    "\n",
    "The second causal model that can be used here is the partially linear regression model (PLR). The PLR incorporates stronger assumptions, for example, that the treatment effect is additive and linear which implies that it does not vary across individuals. We will start with the IRM and include the PLR estimates at the end of the notebook."
   ]
  },
  {
   "cell_type": "markdown",
   "id": "9e798e44-8fc8-4c93-9cfb-2d3ad7486dc0",
   "metadata": {},
   "source": [
    "## 1. Interactive Regression Model (IRM)\n",
    "\n",
    "We briefly introduce the Interactive regression model (IRM) where the main regression relationship of interest is provided by\n",
    "\n",
    "$$Y = g_0(D, X) + U, \\quad E(U | X, D) = 0,$$\n",
    "\n",
    "where the treatment variable is binary, $D \\in \\lbrace 0,1 \\rbrace$. We consider estimation of the average treatment effects (ATE):\n",
    "\n",
    "$$\\theta_0 = \\mathbb{E}[g_0(1, X) - g_0(0,X)],$$\n",
    "\n",
    "when treatment effects are fully heterogeneous. In order to be able to use ML methods, the estimation framework generally requires a property called \"double robustness\" or \"Neyman orthogonality\". Double robustness can be achieved by including the first-stage estimation\n",
    "\n",
    "$$D = m_0(X) + V, \\quad E(V | X) = 0,$$\n",
    "\n",
    "which amounts to estimation of the propensity score, i.e., estimation the probability that a customer is exposed to the treatment provided her observed characteristics."
   ]
  },
  {
   "cell_type": "markdown",
   "id": "13a5f6f7-64c5-499b-b68a-16ca98943cd6",
   "metadata": {},
   "source": [
    "Because data set was simulated we are aware of the true ATE, $\\theta_0=0.8$. The interpretation of this is that exposure to the new ad increases sales (in $100\\$$) by around $0.8$. In the following, we try to estimate this causal effect using the [DoubleML](https://docs.doubleml.org/stable/index.html) package and assess whether the estimated effect is significantly different from zero."
   ]
  },
  {
   "cell_type": "markdown",
   "id": "suburban-infrastructure",
   "metadata": {},
   "source": [
    "### Benchmark: Model based on Linear Regression"
   ]
  },
  {
   "cell_type": "markdown",
   "id": "93f3af17-bcf9-429b-af9a-b90ea1153937",
   "metadata": {},
   "source": [
    "Let us first start with a benchmark model that is based on linear regression. Hence, we estimate the functions $g_0(D,X)$ using a linear regrssion model and $m_0(X)$ by using an (unpenalized) logistic regression. In both cases, we include all available characteristics $V$. Later we will assess whether we can find a \"better\" estimator based on ML methods like lasso, random forests and boosting. Because we have 200 variables and 1000 observations, this is approaching a high dimentional setting, therefore the linear regression may not estimate the parameters well."
   ]
  },
  {
   "cell_type": "markdown",
   "id": "authorized-school",
   "metadata": {},
   "source": [
    "We start by initializing the learners for linear regression and logistic regression. Then, we initialize a causal model object, here of the class [DoubleMLIRM](https://docs.doubleml.org/dev/api/generated/doubleml.DoubleMLIRM.html). The latter is based on the data-backend we have specified above. To reduce the disproportionate impact of extreme propensity score weights in the interactive model we trim the propensity score from below and above at thresholds of 0.025 and 0.975."
   ]
  },
  {
   "cell_type": "code",
   "execution_count": 14,
   "id": "jewish-listing",
   "metadata": {
    "tags": []
   },
   "outputs": [
    {
     "data": {
      "text/html": [
       "<div>\n",
       "<style scoped>\n",
       "    .dataframe tbody tr th:only-of-type {\n",
       "        vertical-align: middle;\n",
       "    }\n",
       "\n",
       "    .dataframe tbody tr th {\n",
       "        vertical-align: top;\n",
       "    }\n",
       "\n",
       "    .dataframe thead th {\n",
       "        text-align: right;\n",
       "    }\n",
       "</style>\n",
       "<table border=\"1\" class=\"dataframe\">\n",
       "  <thead>\n",
       "    <tr style=\"text-align: right;\">\n",
       "      <th></th>\n",
       "      <th>coef</th>\n",
       "      <th>std err</th>\n",
       "      <th>t</th>\n",
       "      <th>P&gt;|t|</th>\n",
       "      <th>2.5 %</th>\n",
       "      <th>97.5 %</th>\n",
       "    </tr>\n",
       "  </thead>\n",
       "  <tbody>\n",
       "    <tr>\n",
       "      <th>A</th>\n",
       "      <td>1.482385</td>\n",
       "      <td>0.660231</td>\n",
       "      <td>2.245252</td>\n",
       "      <td>0.024752</td>\n",
       "      <td>0.188356</td>\n",
       "      <td>2.776415</td>\n",
       "    </tr>\n",
       "  </tbody>\n",
       "</table>\n",
       "</div>"
      ],
      "text/plain": [
       "       coef   std err         t     P>|t|     2.5 %    97.5 %\n",
       "A  1.482385  0.660231  2.245252  0.024752  0.188356  2.776415"
      ]
     },
     "execution_count": 14,
     "metadata": {},
     "output_type": "execute_result"
    }
   ],
   "source": [
    "# Initialize learners\n",
    "linreg = make_pipeline(StandardScaler(), LinearRegression())\n",
    "logreg_class = make_pipeline(StandardScaler(),LogisticRegression(penalty=\"none\"))\n",
    "\n",
    "np.random.seed(123)\n",
    "dml_irm_regression = dml.DoubleMLIRM(data_dml,\n",
    "                                ml_g = linreg,\n",
    "                                ml_m = logreg_class,\n",
    "                                trimming_threshold = 0.025,\n",
    "                                n_folds = 3,\n",
    "                                    n_rep=3)\n",
    "\n",
    "dml_irm_regression.fit(store_predictions=True)\n",
    "reg_summary = dml_irm_regression.summary\n",
    "\n",
    "reg_summary"
   ]
  },
  {
   "cell_type": "code",
   "execution_count": 15,
   "id": "controlling-collapse",
   "metadata": {},
   "outputs": [
    {
     "name": "stdout",
     "output_type": "stream",
     "text": [
      "Bias: [0.68238525]\n"
     ]
    }
   ],
   "source": [
    "print(\"Bias:\", dml_irm_regression.coef - 0.8)"
   ]
  },
  {
   "cell_type": "markdown",
   "id": "emerging-highlight",
   "metadata": {},
   "source": [
    "We see that the causal estimate suffers from a substantial bias and is quite noisy: The ATE is overestimated by around 0.68 and the standard error is around 0.66. The corresponding confidence intervals are relatively wide, although they do not cover the value of zero. Hence, we can conclude that the average treatment effect is significantly different from zero at the 5% significance level."
   ]
  },
  {
   "cell_type": "markdown",
   "id": "neutral-converter",
   "metadata": {},
   "source": [
    "Next, let us find out if we are able to use ML methods to find estimators that have a lower bias and a smaller standard error than the benchmark."
   ]
  },
  {
   "cell_type": "markdown",
   "id": "723b8e6c",
   "metadata": {},
   "source": [
    "### Double Machine Learning based on Lasso\n",
    "\n",
    "We estimate the nuisance components $g_0$ and $m_0$ using lasso as provided by [scikit-learn](https://scikit-learn.org). We load the learner by initializing instances from the classes [LassoCV](https://scikit-learn.org/stable/modules/generated/sklearn.linear_model.LassoCV.html) and [LogisticRegressionCV](https://scikit-learn.org/stable/modules/generated/sklearn.linear_model.LogisticRegressionCV.html). Here we specify that the lasso should use the value of $\\lambda$ that minimizes the cross-validated mean squared error, which is based on 5-fold cross validation. We initialize the [DoubleMLIRM](https://docs.doubleml.org/dev/api/generated/doubleml.DoubleMLIRM.html) object and use the newly defined learners."
   ]
  },
  {
   "cell_type": "code",
   "execution_count": 16,
   "id": "73cbfd4b",
   "metadata": {},
   "outputs": [
    {
     "data": {
      "text/html": [
       "<div>\n",
       "<style scoped>\n",
       "    .dataframe tbody tr th:only-of-type {\n",
       "        vertical-align: middle;\n",
       "    }\n",
       "\n",
       "    .dataframe tbody tr th {\n",
       "        vertical-align: top;\n",
       "    }\n",
       "\n",
       "    .dataframe thead th {\n",
       "        text-align: right;\n",
       "    }\n",
       "</style>\n",
       "<table border=\"1\" class=\"dataframe\">\n",
       "  <thead>\n",
       "    <tr style=\"text-align: right;\">\n",
       "      <th></th>\n",
       "      <th>coef</th>\n",
       "      <th>std err</th>\n",
       "      <th>t</th>\n",
       "      <th>P&gt;|t|</th>\n",
       "      <th>2.5 %</th>\n",
       "      <th>97.5 %</th>\n",
       "    </tr>\n",
       "  </thead>\n",
       "  <tbody>\n",
       "    <tr>\n",
       "      <th>A</th>\n",
       "      <td>0.834278</td>\n",
       "      <td>0.070511</td>\n",
       "      <td>11.831954</td>\n",
       "      <td>2.668556e-32</td>\n",
       "      <td>0.69608</td>\n",
       "      <td>0.972476</td>\n",
       "    </tr>\n",
       "  </tbody>\n",
       "</table>\n",
       "</div>"
      ],
      "text/plain": [
       "       coef   std err          t         P>|t|    2.5 %    97.5 %\n",
       "A  0.834278  0.070511  11.831954  2.668556e-32  0.69608  0.972476"
      ]
     },
     "execution_count": 16,
     "metadata": {},
     "output_type": "execute_result"
    }
   ],
   "source": [
    "# initialize Lasso learners\n",
    "lasso = make_pipeline(StandardScaler(), LassoCV(cv=5, max_iter=20000))      \n",
    "lasso_class = make_pipeline(StandardScaler(),\n",
    "                            LogisticRegressionCV(cv=5, penalty='l1', solver='liblinear',     \n",
    "                                                 Cs = 4, max_iter=1000))      \n",
    "\n",
    "\n",
    "# Initialize DoubleMLIRM model\n",
    "np.random.seed(123)\n",
    "dml_irm_lasso = dml.DoubleMLIRM(data_dml,\n",
    "                          ml_g = lasso,\n",
    "                          ml_m = lasso_class,\n",
    "                          trimming_threshold = 0.025,                          \n",
    "                            n_folds = 3)\n",
    "\n",
    "dml_irm_lasso.fit(store_predictions=True) \n",
    "lasso_summary = dml_irm_lasso.summary\n",
    "\n",
    "lasso_summary"
   ]
  },
  {
   "cell_type": "code",
   "execution_count": 17,
   "id": "stock-bookmark",
   "metadata": {},
   "outputs": [
    {
     "name": "stdout",
     "output_type": "stream",
     "text": [
      "Bias: [0.03427819]\n"
     ]
    }
   ],
   "source": [
    "print(\"Bias:\", dml_irm_lasso.coef - 0.8)"
   ]
  },
  {
   "cell_type": "markdown",
   "id": "religious-algebra",
   "metadata": {},
   "source": [
    "We see that the lasso-based estimate for the ATE is $0.83$ and, hence, much closer to the true value of $0.8$ than in the benchmark $1.48$. Moreover, we can achieve improvements in terms of estimation precision as can be recognized from the smaller standard error. "
   ]
  },
  {
   "cell_type": "markdown",
   "id": "33d06b0d",
   "metadata": {},
   "source": [
    "### Double Machine Learning based on Random Forest"
   ]
  },
  {
   "cell_type": "markdown",
   "id": "4d9d008a-5b6a-4acf-93b9-b26599541653",
   "metadata": {},
   "source": [
    "Alternatively, we can repeat this procedure with other machine learning methods, for example a random forest learner as provided by the [RandomForestRegressor](https://scikit-learn.org/stable/modules/generated/sklearn.ensemble.RandomForestRegressor.html) and [RandomForestClassifier](https://scikit-learn.org/stable/modules/generated/sklearn.ensemble.RandomForestClassifier.html) class in [scikit-learn](https://scikit-learn.org)."
   ]
  },
  {
   "cell_type": "code",
   "execution_count": 18,
   "id": "2092891a",
   "metadata": {
    "tags": []
   },
   "outputs": [
    {
     "data": {
      "text/html": [
       "<div>\n",
       "<style scoped>\n",
       "    .dataframe tbody tr th:only-of-type {\n",
       "        vertical-align: middle;\n",
       "    }\n",
       "\n",
       "    .dataframe tbody tr th {\n",
       "        vertical-align: top;\n",
       "    }\n",
       "\n",
       "    .dataframe thead th {\n",
       "        text-align: right;\n",
       "    }\n",
       "</style>\n",
       "<table border=\"1\" class=\"dataframe\">\n",
       "  <thead>\n",
       "    <tr style=\"text-align: right;\">\n",
       "      <th></th>\n",
       "      <th>coef</th>\n",
       "      <th>std err</th>\n",
       "      <th>t</th>\n",
       "      <th>P&gt;|t|</th>\n",
       "      <th>2.5 %</th>\n",
       "      <th>97.5 %</th>\n",
       "    </tr>\n",
       "  </thead>\n",
       "  <tbody>\n",
       "    <tr>\n",
       "      <th>A</th>\n",
       "      <td>0.86203</td>\n",
       "      <td>0.08229</td>\n",
       "      <td>10.475455</td>\n",
       "      <td>1.119983e-25</td>\n",
       "      <td>0.700743</td>\n",
       "      <td>1.023316</td>\n",
       "    </tr>\n",
       "  </tbody>\n",
       "</table>\n",
       "</div>"
      ],
      "text/plain": [
       "      coef  std err          t         P>|t|     2.5 %    97.5 %\n",
       "A  0.86203  0.08229  10.475455  1.119983e-25  0.700743  1.023316"
      ]
     },
     "execution_count": 18,
     "metadata": {},
     "output_type": "execute_result"
    }
   ],
   "source": [
    "# Random Forest\n",
    "randomForest = RandomForestRegressor()\n",
    "randomForest_class = RandomForestClassifier()\n",
    "\n",
    "np.random.seed(123)\n",
    "dml_irm_forest = dml.DoubleMLIRM(data_dml,\n",
    "                                 ml_g = randomForest,\n",
    "                                 ml_m = randomForest_class,\n",
    "                                 trimming_threshold = 0.025,\n",
    "                                 n_folds = 3)\n",
    "\n",
    "#Set nuisance-part specific parameters\n",
    "dml_irm_forest.set_ml_nuisance_params('ml_g0', 'A', {\n",
    "    'max_features': 200, 'n_estimators': 250})\n",
    "dml_irm_forest.set_ml_nuisance_params('ml_g1', 'A', {\n",
    "    'max_features': 200, 'n_estimators': 250})\n",
    "dml_irm_forest.set_ml_nuisance_params('ml_m', 'A', {\n",
    "    'max_features': 200, 'n_estimators': 250})\n",
    "\n",
    "dml_irm_forest.fit(store_predictions=True) \n",
    "forest_summary = dml_irm_forest.summary\n",
    "\n",
    "forest_summary"
   ]
  },
  {
   "cell_type": "code",
   "execution_count": 19,
   "id": "vital-insight",
   "metadata": {},
   "outputs": [
    {
     "name": "stdout",
     "output_type": "stream",
     "text": [
      "Bias: [0.0620296]\n"
     ]
    }
   ],
   "source": [
    "print(\"Bias:\", dml_irm_forest.coef - 0.8)"
   ]
  },
  {
   "cell_type": "markdown",
   "id": "d4b6e16b-6cb9-40d8-a4fa-c438f23b49f3",
   "metadata": {},
   "source": [
    "The results are relatively similar to the one obtained by lasso with a bias and standard errors that are slightly greater than before."
   ]
  },
  {
   "cell_type": "markdown",
   "id": "9ac68b60",
   "metadata": {},
   "source": [
    "### Double Machine Learning based on Extreme Gradient Boosting"
   ]
  },
  {
   "cell_type": "markdown",
   "id": "cc71c762-8497-43e5-a151-a5239641d510",
   "metadata": {},
   "source": [
    "Next, we estimate the ATE using extreme gradient boosting as provided by [xgboost](https://docs.getml.com/latest/api_reference/predictors.html)."
   ]
  },
  {
   "cell_type": "code",
   "execution_count": 20,
   "id": "90b9ef4e",
   "metadata": {},
   "outputs": [
    {
     "data": {
      "text/html": [
       "<div>\n",
       "<style scoped>\n",
       "    .dataframe tbody tr th:only-of-type {\n",
       "        vertical-align: middle;\n",
       "    }\n",
       "\n",
       "    .dataframe tbody tr th {\n",
       "        vertical-align: top;\n",
       "    }\n",
       "\n",
       "    .dataframe thead th {\n",
       "        text-align: right;\n",
       "    }\n",
       "</style>\n",
       "<table border=\"1\" class=\"dataframe\">\n",
       "  <thead>\n",
       "    <tr style=\"text-align: right;\">\n",
       "      <th></th>\n",
       "      <th>coef</th>\n",
       "      <th>std err</th>\n",
       "      <th>t</th>\n",
       "      <th>P&gt;|t|</th>\n",
       "      <th>2.5 %</th>\n",
       "      <th>97.5 %</th>\n",
       "    </tr>\n",
       "  </thead>\n",
       "  <tbody>\n",
       "    <tr>\n",
       "      <th>A</th>\n",
       "      <td>0.739225</td>\n",
       "      <td>0.092511</td>\n",
       "      <td>7.990648</td>\n",
       "      <td>1.342310e-15</td>\n",
       "      <td>0.557906</td>\n",
       "      <td>0.920544</td>\n",
       "    </tr>\n",
       "  </tbody>\n",
       "</table>\n",
       "</div>"
      ],
      "text/plain": [
       "       coef   std err         t         P>|t|     2.5 %    97.5 %\n",
       "A  0.739225  0.092511  7.990648  1.342310e-15  0.557906  0.920544"
      ]
     },
     "execution_count": 20,
     "metadata": {},
     "output_type": "execute_result"
    }
   ],
   "source": [
    "boost = XGBRegressor(n_jobs=1, objective = \"reg:squarederror\")\n",
    "boost_class = XGBClassifier(use_label_encoder=False, n_jobs=1,\n",
    "                            objective = \"binary:logistic\", eval_metric = \"logloss\")\n",
    "\n",
    "np.random.seed(123)\n",
    "dml_irm_boost = dml.DoubleMLIRM(data_dml,\n",
    "                                ml_g = boost,\n",
    "                                ml_m = boost_class,\n",
    "                                trimming_threshold = 0.025,\n",
    "                                n_folds = 3)\n",
    "\n",
    "#Set nuisance-part specific parameters\n",
    "dml_irm_boost.set_ml_nuisance_params('ml_g0', 'A', {\n",
    "    'n_estimators': 30, 'eta': 0.2})\n",
    "dml_irm_boost.set_ml_nuisance_params('ml_g1', 'A', {\n",
    "    'n_estimators': 30, 'eta': 0.2})\n",
    "dml_irm_boost.set_ml_nuisance_params('ml_m', 'A', {\n",
    "    'n_estimators': 15, 'eta': 0.2})\n",
    "\n",
    "dml_irm_boost.fit(store_predictions=True)\n",
    "boost_summary = dml_irm_boost.summary\n",
    "boost_summary"
   ]
  },
  {
   "cell_type": "code",
   "execution_count": 21,
   "id": "traditional-ribbon",
   "metadata": {},
   "outputs": [
    {
     "name": "stdout",
     "output_type": "stream",
     "text": [
      "Bias: [-0.06077519]\n"
     ]
    }
   ],
   "source": [
    "print(\"Bias:\", dml_irm_boost.coef - 0.8)"
   ]
  },
  {
   "cell_type": "markdown",
   "id": "9ee7f068-1ac4-4d7d-99a7-5c68c91e8b51",
   "metadata": {},
   "source": [
    "The estimated coefficient is close to the true ATE of $0.8$ but has a small negative bias. The interpretation of the results obtained with lasso, random forests and boosting are very similar. In all cases we are able to reject the null hypothesis that the ad has no effect on the sales."
   ]
  },
  {
   "cell_type": "markdown",
   "id": "fba54a14-c685-4948-819d-94a99d88e94a",
   "metadata": {},
   "source": [
    "### Summary of IRM Results\n",
    "\n",
    "We define a small function which calculates the bias from the true parameter $0.8$. Then we save the estimates, bias and confidence intervals for peresentation and comparision."
   ]
  },
  {
   "cell_type": "code",
   "execution_count": 22,
   "id": "5e16a294",
   "metadata": {
    "tags": []
   },
   "outputs": [
    {
     "data": {
      "text/html": [
       "<div>\n",
       "<style scoped>\n",
       "    .dataframe tbody tr th:only-of-type {\n",
       "        vertical-align: middle;\n",
       "    }\n",
       "\n",
       "    .dataframe tbody tr th {\n",
       "        vertical-align: top;\n",
       "    }\n",
       "\n",
       "    .dataframe thead th {\n",
       "        text-align: right;\n",
       "    }\n",
       "</style>\n",
       "<table border=\"1\" class=\"dataframe\">\n",
       "  <thead>\n",
       "    <tr style=\"text-align: right;\">\n",
       "      <th></th>\n",
       "      <th>coef</th>\n",
       "      <th>Bias</th>\n",
       "      <th>2.5 %</th>\n",
       "      <th>97.5 %</th>\n",
       "    </tr>\n",
       "  </thead>\n",
       "  <tbody>\n",
       "    <tr>\n",
       "      <th>regression</th>\n",
       "      <td>1.482</td>\n",
       "      <td>0.682</td>\n",
       "      <td>0.188</td>\n",
       "      <td>2.776</td>\n",
       "    </tr>\n",
       "    <tr>\n",
       "      <th>lasso</th>\n",
       "      <td>0.834</td>\n",
       "      <td>0.034</td>\n",
       "      <td>0.696</td>\n",
       "      <td>0.972</td>\n",
       "    </tr>\n",
       "    <tr>\n",
       "      <th>forest</th>\n",
       "      <td>0.862</td>\n",
       "      <td>0.062</td>\n",
       "      <td>0.701</td>\n",
       "      <td>1.023</td>\n",
       "    </tr>\n",
       "    <tr>\n",
       "      <th>xgboost</th>\n",
       "      <td>0.739</td>\n",
       "      <td>0.061</td>\n",
       "      <td>0.558</td>\n",
       "      <td>0.921</td>\n",
       "    </tr>\n",
       "  </tbody>\n",
       "</table>\n",
       "</div>"
      ],
      "text/plain": [
       "             coef   Bias  2.5 %  97.5 %\n",
       "regression  1.482  0.682  0.188   2.776\n",
       "lasso       0.834  0.034  0.696   0.972\n",
       "forest      0.862  0.062  0.701   1.023\n",
       "xgboost     0.739  0.061  0.558   0.921"
      ]
     },
     "execution_count": 22,
     "metadata": {},
     "output_type": "execute_result"
    }
   ],
   "source": [
    "def bias(x):\n",
    "    x=x - 0.8\n",
    "    x=round(abs(x),3)\n",
    "    return x\n",
    "\n",
    "irm_summary = pd.concat((reg_summary, lasso_summary, forest_summary, boost_summary))\n",
    "irm_summary.index = ['regression','lasso', 'forest', 'xgboost']\n",
    "irm_summary=irm_summary[['coef', '2.5 %', '97.5 %']]\n",
    "irm_summary.insert(1, \"Bias\", [bias(irm_summary.loc['regression','coef']), \n",
    "                               bias(irm_summary.loc['lasso','coef']), \n",
    "                               bias(irm_summary.loc['forest','coef']), \n",
    "                               bias(irm_summary.loc['xgboost','coef'])])\n",
    "irm_summary.round(3)"
   ]
  },
  {
   "cell_type": "markdown",
   "id": "b29e412d-d86f-46b4-840f-cbbe082faf0b",
   "metadata": {},
   "source": [
    "### Conclusion\n",
    "\n",
    "We conclude that the interactive regression model (IRM) estimates are close to the true coefficient value, if the nuisance components are estimated with machine learning methods. The best results in terms of the smallest bias and standard errors is achieved by the lasso-based DML estimator for the ATE. The performance of the tree-based methods: random forests and extreme gradient boosting are comparable. All of the ML-based estimators have exhibited a superior performance to the benchmark based on linear and logistic regression.\n"
   ]
  },
  {
   "cell_type": "markdown",
   "id": "f50297c5",
   "metadata": {},
   "source": [
    "## 2. Partially Linear Regression Model (PLR)\n",
    "\n",
    "The [DoubleML](https://docs.doubleml.org/stable/index.html) package also includes the partial linear regression (PLR) Model, which assumes the data have an additive structure. Although we don't know if this structure really holds for the underlying data generating process, we can apply this model and see how the estimates compare to those from the IRM."
   ]
  },
  {
   "cell_type": "markdown",
   "id": "fa24e6e1-b878-401f-b38a-c29cc0620c2c",
   "metadata": {},
   "source": [
    "We estimate the function $g_0$ and $m_0$ in the following PLR model:\n",
    "\n",
    "\\begin{eqnarray}\n",
    "& Y = D\\theta_0 + g_0(X) + \\zeta, &\\quad E[\\zeta \\mid D,X]= 0,\\\\\n",
    "& D = m_0(X) +  V, &\\quad E[V \\mid X] = 0.\n",
    "\\end{eqnarray}\n",
    "\n",
    "To estimate the causal parameter $\\theta_0$ here, we use double machine learning with 3-fold cross-fitting. The steps of our analysis are very similar to the IRM cases with the difference being that we use a model class [DoubleMLPLR](https://docs.doubleml.org/dev/api/generated/doubleml.DoubleMLPLR.html) for estimation."
   ]
  },
  {
   "cell_type": "markdown",
   "id": "331a36d6",
   "metadata": {},
   "source": [
    "### Benchmark: Model based on Linear Regression"
   ]
  },
  {
   "cell_type": "code",
   "execution_count": 23,
   "id": "1432e567-d221-490d-9361-39b9072cb6d4",
   "metadata": {
    "scrolled": true,
    "tags": []
   },
   "outputs": [
    {
     "data": {
      "text/html": [
       "<div>\n",
       "<style scoped>\n",
       "    .dataframe tbody tr th:only-of-type {\n",
       "        vertical-align: middle;\n",
       "    }\n",
       "\n",
       "    .dataframe tbody tr th {\n",
       "        vertical-align: top;\n",
       "    }\n",
       "\n",
       "    .dataframe thead th {\n",
       "        text-align: right;\n",
       "    }\n",
       "</style>\n",
       "<table border=\"1\" class=\"dataframe\">\n",
       "  <thead>\n",
       "    <tr style=\"text-align: right;\">\n",
       "      <th></th>\n",
       "      <th>coef</th>\n",
       "      <th>std err</th>\n",
       "      <th>t</th>\n",
       "      <th>P&gt;|t|</th>\n",
       "      <th>2.5 %</th>\n",
       "      <th>97.5 %</th>\n",
       "    </tr>\n",
       "  </thead>\n",
       "  <tbody>\n",
       "    <tr>\n",
       "      <th>A</th>\n",
       "      <td>0.774071</td>\n",
       "      <td>0.070216</td>\n",
       "      <td>11.024117</td>\n",
       "      <td>2.923733e-28</td>\n",
       "      <td>0.63645</td>\n",
       "      <td>0.911692</td>\n",
       "    </tr>\n",
       "  </tbody>\n",
       "</table>\n",
       "</div>"
      ],
      "text/plain": [
       "       coef   std err          t         P>|t|    2.5 %    97.5 %\n",
       "A  0.774071  0.070216  11.024117  2.923733e-28  0.63645  0.911692"
      ]
     },
     "execution_count": 23,
     "metadata": {},
     "output_type": "execute_result"
    }
   ],
   "source": [
    "linreg = make_pipeline(StandardScaler(), LinearRegression())\n",
    "logreg_class = make_pipeline(StandardScaler(),LogisticRegression(penalty=\"none\"))\n",
    "\n",
    "np.random.seed(123)\n",
    "# Initialize DoubleMLPLR model\n",
    "dml_plr_regression = dml.DoubleMLPLR(data_dml,\n",
    "                                     ml_g = linreg,\n",
    "                                     ml_m = logreg_class,\n",
    "                                     n_folds = 3)\n",
    "\n",
    "dml_plr_regression.fit(store_predictions=True)\n",
    "reg_summary = dml_plr_regression.summary\n",
    "\n",
    "reg_summary"
   ]
  },
  {
   "cell_type": "markdown",
   "id": "4dd8948f",
   "metadata": {},
   "source": [
    "### Double Machine Learning based on Lasso"
   ]
  },
  {
   "cell_type": "code",
   "execution_count": 24,
   "id": "0bbbc3ce",
   "metadata": {},
   "outputs": [
    {
     "data": {
      "text/html": [
       "<div>\n",
       "<style scoped>\n",
       "    .dataframe tbody tr th:only-of-type {\n",
       "        vertical-align: middle;\n",
       "    }\n",
       "\n",
       "    .dataframe tbody tr th {\n",
       "        vertical-align: top;\n",
       "    }\n",
       "\n",
       "    .dataframe thead th {\n",
       "        text-align: right;\n",
       "    }\n",
       "</style>\n",
       "<table border=\"1\" class=\"dataframe\">\n",
       "  <thead>\n",
       "    <tr style=\"text-align: right;\">\n",
       "      <th></th>\n",
       "      <th>coef</th>\n",
       "      <th>std err</th>\n",
       "      <th>t</th>\n",
       "      <th>P&gt;|t|</th>\n",
       "      <th>2.5 %</th>\n",
       "      <th>97.5 %</th>\n",
       "    </tr>\n",
       "  </thead>\n",
       "  <tbody>\n",
       "    <tr>\n",
       "      <th>A</th>\n",
       "      <td>0.784579</td>\n",
       "      <td>0.070414</td>\n",
       "      <td>11.142419</td>\n",
       "      <td>7.797228e-29</td>\n",
       "      <td>0.64657</td>\n",
       "      <td>0.922587</td>\n",
       "    </tr>\n",
       "  </tbody>\n",
       "</table>\n",
       "</div>"
      ],
      "text/plain": [
       "       coef   std err          t         P>|t|    2.5 %    97.5 %\n",
       "A  0.784579  0.070414  11.142419  7.797228e-29  0.64657  0.922587"
      ]
     },
     "execution_count": 24,
     "metadata": {},
     "output_type": "execute_result"
    }
   ],
   "source": [
    "np.random.seed(123)\n",
    "# Initialize DoubleMLPLR model\n",
    "dml_plr_lasso = dml.DoubleMLPLR(data_dml,\n",
    "                                ml_g = lasso,\n",
    "                                ml_m = lasso_class,\n",
    "                                n_folds = 3)\n",
    "\n",
    "dml_plr_lasso.fit(store_predictions=True)\n",
    "lasso_summary=dml_plr_lasso.summary\n",
    "\n",
    "lasso_summary"
   ]
  },
  {
   "cell_type": "markdown",
   "id": "a4ed2694",
   "metadata": {},
   "source": [
    "### Double Machine Learning based on Random Forests"
   ]
  },
  {
   "cell_type": "code",
   "execution_count": 25,
   "id": "e5f3ac90",
   "metadata": {},
   "outputs": [
    {
     "data": {
      "text/html": [
       "<div>\n",
       "<style scoped>\n",
       "    .dataframe tbody tr th:only-of-type {\n",
       "        vertical-align: middle;\n",
       "    }\n",
       "\n",
       "    .dataframe tbody tr th {\n",
       "        vertical-align: top;\n",
       "    }\n",
       "\n",
       "    .dataframe thead th {\n",
       "        text-align: right;\n",
       "    }\n",
       "</style>\n",
       "<table border=\"1\" class=\"dataframe\">\n",
       "  <thead>\n",
       "    <tr style=\"text-align: right;\">\n",
       "      <th></th>\n",
       "      <th>coef</th>\n",
       "      <th>std err</th>\n",
       "      <th>t</th>\n",
       "      <th>P&gt;|t|</th>\n",
       "      <th>2.5 %</th>\n",
       "      <th>97.5 %</th>\n",
       "    </tr>\n",
       "  </thead>\n",
       "  <tbody>\n",
       "    <tr>\n",
       "      <th>A</th>\n",
       "      <td>0.823899</td>\n",
       "      <td>0.073474</td>\n",
       "      <td>11.213529</td>\n",
       "      <td>3.499555e-29</td>\n",
       "      <td>0.679893</td>\n",
       "      <td>0.967904</td>\n",
       "    </tr>\n",
       "  </tbody>\n",
       "</table>\n",
       "</div>"
      ],
      "text/plain": [
       "       coef   std err          t         P>|t|     2.5 %    97.5 %\n",
       "A  0.823899  0.073474  11.213529  3.499555e-29  0.679893  0.967904"
      ]
     },
     "execution_count": 25,
     "metadata": {},
     "output_type": "execute_result"
    }
   ],
   "source": [
    "randomForest = RandomForestRegressor()\n",
    "randomForest_class = RandomForestClassifier()\n",
    "\n",
    "np.random.seed(123)\n",
    "dml_plr_forest = dml.DoubleMLPLR(data_dml,\n",
    "                                 ml_g = randomForest,\n",
    "                                 ml_m = randomForest_class,\n",
    "                                 n_folds = 3,\n",
    "                                n_rep = 3)\n",
    "\n",
    "dml_plr_forest.fit(store_predictions=True)\n",
    "forest_summary = dml_plr_forest.summary\n",
    "\n",
    "forest_summary"
   ]
  },
  {
   "cell_type": "markdown",
   "id": "6aa9af04",
   "metadata": {},
   "source": [
    "### Double Machine Learning based on Extreme Gradient Boosting"
   ]
  },
  {
   "cell_type": "code",
   "execution_count": 26,
   "id": "6fab5d3a",
   "metadata": {},
   "outputs": [
    {
     "data": {
      "text/html": [
       "<div>\n",
       "<style scoped>\n",
       "    .dataframe tbody tr th:only-of-type {\n",
       "        vertical-align: middle;\n",
       "    }\n",
       "\n",
       "    .dataframe tbody tr th {\n",
       "        vertical-align: top;\n",
       "    }\n",
       "\n",
       "    .dataframe thead th {\n",
       "        text-align: right;\n",
       "    }\n",
       "</style>\n",
       "<table border=\"1\" class=\"dataframe\">\n",
       "  <thead>\n",
       "    <tr style=\"text-align: right;\">\n",
       "      <th></th>\n",
       "      <th>coef</th>\n",
       "      <th>std err</th>\n",
       "      <th>t</th>\n",
       "      <th>P&gt;|t|</th>\n",
       "      <th>2.5 %</th>\n",
       "      <th>97.5 %</th>\n",
       "    </tr>\n",
       "  </thead>\n",
       "  <tbody>\n",
       "    <tr>\n",
       "      <th>A</th>\n",
       "      <td>0.814555</td>\n",
       "      <td>0.071203</td>\n",
       "      <td>11.439929</td>\n",
       "      <td>2.641013e-30</td>\n",
       "      <td>0.675</td>\n",
       "      <td>0.95411</td>\n",
       "    </tr>\n",
       "  </tbody>\n",
       "</table>\n",
       "</div>"
      ],
      "text/plain": [
       "       coef   std err          t         P>|t|  2.5 %   97.5 %\n",
       "A  0.814555  0.071203  11.439929  2.641013e-30  0.675  0.95411"
      ]
     },
     "execution_count": 26,
     "metadata": {},
     "output_type": "execute_result"
    }
   ],
   "source": [
    "boost = XGBRegressor(n_jobs = 1, objective = \"reg:squarederror\",                         #where did you get tuning params?    #grid search?\n",
    "                     eta = 0.1, n_estimators = 57, max_depth = 2)\n",
    "boost_class = XGBClassifier(use_label_encoder=False, n_jobs=1,\n",
    "                            objective = \"binary:logistic\",\n",
    "                            eval_metric = \"logloss\",\n",
    "                            eta = 0.1, n_estimators = 10,\n",
    "                            max_depth = 3)\n",
    "\n",
    "np.random.seed(123)\n",
    "dml_plr_boost = dml.DoubleMLPLR(data_dml,\n",
    "                                ml_g = boost,\n",
    "                                ml_m = boost_class,\n",
    "                                n_folds = 3)\n",
    "dml_plr_boost.fit()\n",
    "boost_summary = dml_plr_boost.summary\n",
    "\n",
    "boost_summary"
   ]
  },
  {
   "cell_type": "code",
   "execution_count": 27,
   "id": "dba8d33c",
   "metadata": {},
   "outputs": [
    {
     "data": {
      "text/html": [
       "<div>\n",
       "<style scoped>\n",
       "    .dataframe tbody tr th:only-of-type {\n",
       "        vertical-align: middle;\n",
       "    }\n",
       "\n",
       "    .dataframe tbody tr th {\n",
       "        vertical-align: top;\n",
       "    }\n",
       "\n",
       "    .dataframe thead th {\n",
       "        text-align: right;\n",
       "    }\n",
       "</style>\n",
       "<table border=\"1\" class=\"dataframe\">\n",
       "  <thead>\n",
       "    <tr style=\"text-align: right;\">\n",
       "      <th></th>\n",
       "      <th>coef</th>\n",
       "      <th>Bias</th>\n",
       "      <th>2.5 %</th>\n",
       "      <th>97.5 %</th>\n",
       "    </tr>\n",
       "  </thead>\n",
       "  <tbody>\n",
       "    <tr>\n",
       "      <th>regression</th>\n",
       "      <td>0.774</td>\n",
       "      <td>0.026</td>\n",
       "      <td>0.636</td>\n",
       "      <td>0.912</td>\n",
       "    </tr>\n",
       "    <tr>\n",
       "      <th>lasso</th>\n",
       "      <td>0.785</td>\n",
       "      <td>0.015</td>\n",
       "      <td>0.647</td>\n",
       "      <td>0.923</td>\n",
       "    </tr>\n",
       "    <tr>\n",
       "      <th>forest</th>\n",
       "      <td>0.824</td>\n",
       "      <td>0.024</td>\n",
       "      <td>0.680</td>\n",
       "      <td>0.968</td>\n",
       "    </tr>\n",
       "    <tr>\n",
       "      <th>xgboost</th>\n",
       "      <td>0.815</td>\n",
       "      <td>0.015</td>\n",
       "      <td>0.675</td>\n",
       "      <td>0.954</td>\n",
       "    </tr>\n",
       "  </tbody>\n",
       "</table>\n",
       "</div>"
      ],
      "text/plain": [
       "             coef   Bias  2.5 %  97.5 %\n",
       "regression  0.774  0.026  0.636   0.912\n",
       "lasso       0.785  0.015  0.647   0.923\n",
       "forest      0.824  0.024  0.680   0.968\n",
       "xgboost     0.815  0.015  0.675   0.954"
      ]
     },
     "execution_count": 27,
     "metadata": {},
     "output_type": "execute_result"
    }
   ],
   "source": [
    "plr_summary = pd.concat((reg_summary, lasso_summary, forest_summary, boost_summary))\n",
    "plr_summary.index = ['regression','lasso', 'forest', 'xgboost']\n",
    "plr_summary=plr_summary[['coef', '2.5 %', '97.5 %']]\n",
    "plr_summary.insert(1, \"Bias\", [bias(plr_summary.loc['regression','coef']), \n",
    "                               bias(plr_summary.loc['lasso','coef']), \n",
    "                               bias(plr_summary.loc['forest','coef']), \n",
    "                               bias(plr_summary.loc['xgboost','coef'])])\n",
    "plr_summary.round(3) "
   ]
  },
  {
   "cell_type": "markdown",
   "id": "27d1d2a9-beed-493d-ae92-8d4e92cde8ae",
   "metadata": {},
   "source": [
    "### Summary of IRM and PLR Results"
   ]
  },
  {
   "cell_type": "code",
   "execution_count": 28,
   "id": "1b4ddf50-50de-4bab-a110-767b8d50df21",
   "metadata": {},
   "outputs": [
    {
     "data": {
      "text/html": [
       "<div>\n",
       "<style scoped>\n",
       "    .dataframe tbody tr th:only-of-type {\n",
       "        vertical-align: middle;\n",
       "    }\n",
       "\n",
       "    .dataframe tbody tr th {\n",
       "        vertical-align: top;\n",
       "    }\n",
       "\n",
       "    .dataframe thead th {\n",
       "        text-align: right;\n",
       "    }\n",
       "</style>\n",
       "<table border=\"1\" class=\"dataframe\">\n",
       "  <thead>\n",
       "    <tr style=\"text-align: right;\">\n",
       "      <th></th>\n",
       "      <th></th>\n",
       "      <th>coef</th>\n",
       "      <th>Bias</th>\n",
       "      <th>2.5 %</th>\n",
       "      <th>97.5 %</th>\n",
       "    </tr>\n",
       "    <tr>\n",
       "      <th>Model</th>\n",
       "      <th>ML</th>\n",
       "      <th></th>\n",
       "      <th></th>\n",
       "      <th></th>\n",
       "      <th></th>\n",
       "    </tr>\n",
       "  </thead>\n",
       "  <tbody>\n",
       "    <tr>\n",
       "      <th rowspan=\"4\" valign=\"top\">IRM</th>\n",
       "      <th>regression</th>\n",
       "      <td>1.482</td>\n",
       "      <td>0.682</td>\n",
       "      <td>0.188</td>\n",
       "      <td>2.776</td>\n",
       "    </tr>\n",
       "    <tr>\n",
       "      <th>lasso</th>\n",
       "      <td>0.834</td>\n",
       "      <td>0.034</td>\n",
       "      <td>0.696</td>\n",
       "      <td>0.972</td>\n",
       "    </tr>\n",
       "    <tr>\n",
       "      <th>forest</th>\n",
       "      <td>0.862</td>\n",
       "      <td>0.062</td>\n",
       "      <td>0.701</td>\n",
       "      <td>1.023</td>\n",
       "    </tr>\n",
       "    <tr>\n",
       "      <th>xgboost</th>\n",
       "      <td>0.739</td>\n",
       "      <td>0.061</td>\n",
       "      <td>0.558</td>\n",
       "      <td>0.921</td>\n",
       "    </tr>\n",
       "    <tr>\n",
       "      <th rowspan=\"4\" valign=\"top\">PLR</th>\n",
       "      <th>regression</th>\n",
       "      <td>0.774</td>\n",
       "      <td>0.026</td>\n",
       "      <td>0.636</td>\n",
       "      <td>0.912</td>\n",
       "    </tr>\n",
       "    <tr>\n",
       "      <th>lasso</th>\n",
       "      <td>0.785</td>\n",
       "      <td>0.015</td>\n",
       "      <td>0.647</td>\n",
       "      <td>0.923</td>\n",
       "    </tr>\n",
       "    <tr>\n",
       "      <th>forest</th>\n",
       "      <td>0.824</td>\n",
       "      <td>0.024</td>\n",
       "      <td>0.680</td>\n",
       "      <td>0.968</td>\n",
       "    </tr>\n",
       "    <tr>\n",
       "      <th>xgboost</th>\n",
       "      <td>0.815</td>\n",
       "      <td>0.015</td>\n",
       "      <td>0.675</td>\n",
       "      <td>0.954</td>\n",
       "    </tr>\n",
       "  </tbody>\n",
       "</table>\n",
       "</div>"
      ],
      "text/plain": [
       "                   coef   Bias  2.5 %  97.5 %\n",
       "Model ML                                     \n",
       "IRM   regression  1.482  0.682  0.188   2.776\n",
       "      lasso       0.834  0.034  0.696   0.972\n",
       "      forest      0.862  0.062  0.701   1.023\n",
       "      xgboost     0.739  0.061  0.558   0.921\n",
       "PLR   regression  0.774  0.026  0.636   0.912\n",
       "      lasso       0.785  0.015  0.647   0.923\n",
       "      forest      0.824  0.024  0.680   0.968\n",
       "      xgboost     0.815  0.015  0.675   0.954"
      ]
     },
     "execution_count": 28,
     "metadata": {},
     "output_type": "execute_result"
    }
   ],
   "source": [
    "df_summary = pd.concat((irm_summary,plr_summary)).reset_index().rename(columns={'index': 'ML'})\n",
    "df_summary['Model'] = np.concatenate((np.repeat('IRM', 4), np.repeat('PLR', 4)))\n",
    "df_summary.set_index(['Model', 'ML']).round(3)"
   ]
  },
  {
   "cell_type": "markdown",
   "id": "64aa3065-da5c-49b9-88f2-5c08c1b7e617",
   "metadata": {},
   "source": [
    "### Conclusion\n",
    "\n",
    "As in the IRM model, the ML-based PLR models are associated with a smaller bias as compared to the model that is based on linear regression. It seems that the estimates obtained from the PLR are slightly closer to the true ATE than those from the IRM analysis. This might suggest, that the parametric assumptions (i.e., an additive and homogeneous causal effect) that are incorporated in the PLR turn out to be **not restrictive** in our example data set. However, if both models are based on appropriate ML learners, the conclusions are very similar. In all cases, the ML-based estimates were very close to the true ATE and we were always able to reject the null hypothesis of a zero-effect at all common significance levels. In terms of the A/B testing example, it can be concluded that the new ad increases customers purchases (in $100\\$$) by around 0.8 on average and that this effect is significantly different from zero at the 5% significance level. The results are summarized in the graphic below."
   ]
  },
  {
   "cell_type": "code",
   "execution_count": 29,
   "id": "c80cadcc",
   "metadata": {},
   "outputs": [
    {
     "data": {
      "image/png": "[encoded data removed]",
      "text/plain": [
       "<Figure size 576x648 with 2 Axes>"
      ]
     },
     "metadata": {},
     "output_type": "display_data"
    }
   ],
   "source": [
    "plt.figure(figsize=(8, 9))\n",
    "colors = sns.color_palette()\n",
    "for ind, model in enumerate(['IRM', 'PLR']):\n",
    "    sns.set(font_scale=1.15)\n",
    "    plt.subplot(3, 1, ind+1)\n",
    "    this_df = df_summary.query('Model == @model')\n",
    "    errors = np.full((2, this_df.shape[0]), np.nan)\n",
    "    errors[0, :] = this_df['coef'] - this_df['2.5 %']\n",
    "    errors[1, :] = this_df['97.5 %'] - this_df['coef']\n",
    "    plt.errorbar(this_df.ML, this_df.coef, fmt='o', yerr=errors,\n",
    "                 color=colors[ind], ecolor=colors[ind])\n",
    "    plt.ylim([0.5, 1.2])\n",
    "    plt.title(model)\n",
    "    plt.ylabel('Coeff. and 95%-CI')\n",
    "    plt.axhline(y=0.8, color='r', linestyle='--', label=\"true value\")\n",
    "    plt.legend(bbox_to_anchor=(1.04,0.5), loc=\"best\", borderaxespad=0)\n",
    "\n",
    "_ = plt.xlabel('ML method')\n"
   ]
  },
  {
   "cell_type": "markdown",
   "id": "3aa8d603-0df5-48c6-ad62-ac5ffe3e8ada",
   "metadata": {},
   "source": [
    "______\n",
    "\n",
    "**Notes and Acknowledgement**\n",
    "\n",
    "We would like to thank the organizers of the [ACIC 2019 Data Challenge](https://sites.google.com/view/acic2019datachallenge/data-challenge) for setting up this data challenge and the numerous synthetic data examples that are all available online. Although the data examples in the [ACIC 2019 Data Challenge](https://sites.google.com/view/acic2019datachallenge/data-challenge) do not explicitly adress A/B testing, we put the data example here in this context to give a tractable example on the use of causal machine learning in practice. The parameters for the random forests and extreme gradient boosting learners have been tuned externally. The corresponding tuning notebook will be uploaded in the examples gallery in the future."
   ]
  },
  {
   "cell_type": "markdown",
   "id": "egyptian-platform",
   "metadata": {},
   "source": [
    "## References\n",
    "\n",
    "Chernozhukov, V., Chetverikov, D., Demirer, M., Duflo, E., Hansen, C., Newey, W. and Robins, J. (2018), Double/debiased machine learning for treatment and structural parameters. The Econometrics Journal, 21: C1-C68. doi:10.1111/ectj.12097."
   ]
  }
 ],
 "metadata": {
  "kernelspec": {
   "display_name": "Python 3",
   "language": "python",
   "name": "python3"
  },
  "language_info": {
   "codemirror_mode": {
    "name": "ipython",
    "version": 3
   },
   "file_extension": ".py",
   "mimetype": "text/x-python",
   "name": "python",
   "nbconvert_exporter": "python",
   "pygments_lexer": "ipython3",
   "version": "3.9.4"
  }
 },
 "nbformat": 4,
 "nbformat_minor": 5
}
