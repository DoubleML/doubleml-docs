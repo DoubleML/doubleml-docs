{
 "cells": [
  {
   "cell_type": "markdown",
   "id": "consecutive-cabinet",
   "metadata": {},
   "source": [
    "# Python: A/B Testing with DoubleML"
   ]
  },
  {
   "cell_type": "markdown",
   "id": "opponent-indonesian",
   "metadata": {},
   "source": [
    "<img src=\"figures/ab_testing.jpg\" alt=\"An illustration of A/B testing.\" style=\"width: 400px;\"/>\n",
    "\n",
    "Image Source Freepik http://www.freepik.com, Designed by macrovector\n"
   ]
  },
  {
   "cell_type": "markdown",
   "id": "c7c96f88",
   "metadata": {},
   "source": [
    "In this notebook, we demontrate exemplarily how the [DoubleML](https://docs.doubleml.org/stable/index.html) package can be used to estimate the causal effect of seeing a new ad design on customers' purchases in a webshop. The [DoubleML](https://docs.doubleml.org/stable/index.html) package for Python and R provides an implementation of the double / debiased machine learning (DML) framework of [Chernozhukov et al. (2018)](https://arxiv.org/abs/1608.00060) and can be used to estimate causal effects based on machine learning (ML) methods.\n",
    "\n",
    "## A/B Testing\n",
    "\n",
    "A/B testing is a frequently used framework to perform causal inference in practice. For example, a manager of a webshop might want to optimally adapt the webshop design according to users' preferences. For examle, she might want to estimate the effect of a new ad design, which is displayed on the starting page, on a customer's purchases (in $100\\$$). A/B tests refer to an experimental design in which a certain treatment, for example a new ad design (called \"Version $A$\"), is randomly assigned to groups of individuals, like website visitors or app users. If a user is not \"treated\", i.e., he is not exposed to Version $A$, he sees an alternative design \"Version $B$\" like the old design of the ad. The assignment of the treatment might either be unconditionally random, i.e., randomly assigned to all visitors of the online shop or directed towards specific groups of them. In the latter case, the treatment assignment would be conditional on their characteristics, like their shopping history. For example, a discount might only be granted to customers who already made some purchases in the past.\n",
    "\n",
    "In general, the goal of the A/B test is to assess whether the treatment has an effect on the outcome variable of interest. In our example, the manager wants to evaluate whether the new ad design changed the monetary value of products purchased (in $100\\$$). Alternative settings of A/B tests refer to improvement of a user experience on a website or estimation of price elasticities. Websites and apps are ideal for running A/B tests because they make it very easy to precisely direct the treatment to visitors and users (or to specific subgroups of them) as well as to collect the data required for evaluation of the intervention.\n",
    "\n",
    "## Scenario\n",
    "\n",
    "Let's consider the following stylized scenario. The manager of a webshop is performing an A/B test to estimate the effect a new ad design $A$ has on customers' purchases, $Y$, on average. This effect is called the **A**verage **T**reatment **E**ffect (**ATE**). The treatment is assigned randomly conditional on the visitors' characteristics, which we call $V$. Such characteristics could be collected from a customer's shoppers account, for example. These might include the number of previous purchases, time since the last purchase, length of stay on a page as well as whether a customer has a rewards card, among other characteristics. <br> \n",
    "\n",
    "In the following, we use a **D**irected **A**cyclical **G**raph (DAG) to illustrate our assumptions on the causal structure of the scenario. As not only the outcome, but also the treatment is dependent on the individuals characteristics, there are arrows going from $V$ to both $A$ and $Y$. In our example, we also assume that the treatment $A$ is a direct cause of the customers' purchases $Y$.\n",
    "\n",
    "\n",
    "![Scenario illustration with a DAG](figures/DAG.svg)\n",
    "\n"
   ]
  },
  {
   "cell_type": "markdown",
   "id": "220997c6",
   "metadata": {},
   "source": [
    "Let's assume the conditional randomization has been conducted properly, such that a tidy data set has been collected. Now, a data scientist wants to evaluate whether the new ad design causally affected the sales, by using the [DoubleML](https://docs.doubleml.org/stable/index.html) package.\n",
    "\n",
    "### Why control for individual characteristics?\n",
    "\n",
    "Before we start the case study, let us briefly address the question why we need to include individual characteristics in our analysis at all. There are mainly two reasons why we want to control for observable characteristics. First, so-called confounders, i.e., variables that have a causal effect on both the treatment variable and the outcome variable, possibly create a bias in our estimate. In order to uncover the true causal effect of the treatment, it is necessary that our causal framework takes all confounding variables into account. Otherwise, the average causal effect of the treatment on the outcome is not identified. A second reason to include individual characteristics is efficiency. The more variation can be explained within our causal framework, the more precise will be the resulting estimate. In practical terms, greater efficiency leads to tighter confidence intervals and smaller standard errors and p-values. This might help to improve the power of A/B tests even if the treatment variable is unconditionally assigned to individuals.\n",
    "\n",
    "### Why use machine learning to analyze A/B tests?\n",
    "\n",
    "ML methods have turned out to be very flexible in terms of modeling complex relationships of explanatory variables and dependent variables and, thus, have exhibited a great predictive performance in many applications. In the double machine learning approach ([Chernozhukov et al. (2018)](https://arxiv.org/abs/1608.00060)), ML methods are used for modelling so-called nuisance functions. In terms of the A/B case study considered here, ML tools can be used to flexibly control for confounding variables. For example, a linear parametric specification as in a standard linear regression model might not be correct and, hence, not sufficient to account for the underlying confounding. Moreover, by using powerful ML techniques, the causal model will likely be able to explain a greater share of the total variation and, hence, lead to more precise estimation."
   ]
  },
  {
   "cell_type": "markdown",
   "id": "0ec5b0cf",
   "metadata": {},
   "source": [
    "## Data \n",
    "\n",
    "As an illustrative example we use a data set from the [ACIC 2019 Data Challenge](https://sites.google.com/view/acic2019datachallenge/data-challenge). In this challenge, a great number of data sets have been generated in a way that they mimic distributional relationships that are found in many economic real data applications. Although the data have not been generated explicitly to address an A/B testing case study, they are well-suited for demonstration purposes. We will focus on one of the many different data genereting processes (DGP) that we picked at random, in this particualar case a data set called `high42`. An advantage of using the synthetic [ACIC 2019 data](https://sites.google.com/view/acic2019datachallenge/data-challenge) is that we know the true average treatment effect which is 0.8 in our data set.\n",
    "\n",
    "First we load the data."
   ]
  },
  {
   "cell_type": "code",
   "execution_count": 1,
   "id": "e39d4dd0",
   "metadata": {},
   "outputs": [],
   "source": [
    "import pandas as pd\n",
    "\n",
    "#fetch_ACIChigh42 needs to be defined\n",
    "#df = fetch_ACIChigh42(return_type='DataFrame')\n",
    "\n",
    "#load code locally\n",
    "df = pd.read_csv('data/high42.csv', sep=',', na_values=\".\")\n",
    "\n",
    "#code can also be loaded using a URL of the data\n",
    "#url = 'https://raw.githubusercontent.com/DoubleML/doubleml-hiwi-sandbox/master/case_studies/AB_testing/data/high42.CSV?token=AQWGKQRE57BBRGOCBPSNBJTBD57ZQ'\n",
    "#df = pd.read_csv(url)"
   ]
  },
  {
   "cell_type": "markdown",
   "id": "11525056-cdec-4916-9cb4-aa4268e99175",
   "metadata": {},
   "source": [
    "We see that the data set consists of 1000 observations (= website visitors) and 202 variables. The $Y$ column represents the customers' purchases (in $100\\$$). The treatment variable $A$ is binary with a value 1 indicating that a customer has been exposed to the new ad design (and value 0 otherwise). The remaining 200 columns $V$ represent individual characteristics of the customers."
   ]
  },
  {
   "cell_type": "code",
   "execution_count": 2,
   "id": "10edc74d",
   "metadata": {},
   "outputs": [
    {
     "name": "stdout",
     "output_type": "stream",
     "text": [
      "(1000, 202)\n"
     ]
    }
   ],
   "source": [
    "print(df.shape)"
   ]
  },
  {
   "cell_type": "code",
   "execution_count": 3,
   "id": "6760c009",
   "metadata": {
    "tags": []
   },
   "outputs": [
    {
     "data": {
      "text/html": [
       "<div>\n",
       "<style scoped>\n",
       "    .dataframe tbody tr th:only-of-type {\n",
       "        vertical-align: middle;\n",
       "    }\n",
       "\n",
       "    .dataframe tbody tr th {\n",
       "        vertical-align: top;\n",
       "    }\n",
       "\n",
       "    .dataframe thead th {\n",
       "        text-align: right;\n",
       "    }\n",
       "</style>\n",
       "<table border=\"1\" class=\"dataframe\">\n",
       "  <thead>\n",
       "    <tr style=\"text-align: right;\">\n",
       "      <th></th>\n",
       "      <th>Y</th>\n",
       "      <th>A</th>\n",
       "      <th>V1</th>\n",
       "      <th>V2</th>\n",
       "      <th>V3</th>\n",
       "      <th>V4</th>\n",
       "      <th>V5</th>\n",
       "      <th>V6</th>\n",
       "      <th>V7</th>\n",
       "      <th>V8</th>\n",
       "      <th>...</th>\n",
       "      <th>V191</th>\n",
       "      <th>V192</th>\n",
       "      <th>V193</th>\n",
       "      <th>V194</th>\n",
       "      <th>V195</th>\n",
       "      <th>V196</th>\n",
       "      <th>V197</th>\n",
       "      <th>V198</th>\n",
       "      <th>V199</th>\n",
       "      <th>V200</th>\n",
       "    </tr>\n",
       "  </thead>\n",
       "  <tbody>\n",
       "    <tr>\n",
       "      <th>0</th>\n",
       "      <td>7.358185</td>\n",
       "      <td>1</td>\n",
       "      <td>10</td>\n",
       "      <td>0</td>\n",
       "      <td>0</td>\n",
       "      <td>7</td>\n",
       "      <td>192.793769</td>\n",
       "      <td>23.676950</td>\n",
       "      <td>8</td>\n",
       "      <td>0.185443</td>\n",
       "      <td>...</td>\n",
       "      <td>1.462837</td>\n",
       "      <td>1</td>\n",
       "      <td>1627.274196</td>\n",
       "      <td>0</td>\n",
       "      <td>0</td>\n",
       "      <td>4.683956</td>\n",
       "      <td>0.565667</td>\n",
       "      <td>0</td>\n",
       "      <td>3</td>\n",
       "      <td>0.024338</td>\n",
       "    </tr>\n",
       "    <tr>\n",
       "      <th>1</th>\n",
       "      <td>8.333672</td>\n",
       "      <td>1</td>\n",
       "      <td>12</td>\n",
       "      <td>0</td>\n",
       "      <td>1</td>\n",
       "      <td>4</td>\n",
       "      <td>199.653596</td>\n",
       "      <td>19.281270</td>\n",
       "      <td>7</td>\n",
       "      <td>0.514842</td>\n",
       "      <td>...</td>\n",
       "      <td>1.330522</td>\n",
       "      <td>1</td>\n",
       "      <td>1661.484439</td>\n",
       "      <td>1</td>\n",
       "      <td>0</td>\n",
       "      <td>6.766661</td>\n",
       "      <td>-0.395402</td>\n",
       "      <td>0</td>\n",
       "      <td>4</td>\n",
       "      <td>0.056518</td>\n",
       "    </tr>\n",
       "    <tr>\n",
       "      <th>2</th>\n",
       "      <td>7.472758</td>\n",
       "      <td>0</td>\n",
       "      <td>14</td>\n",
       "      <td>1</td>\n",
       "      <td>1</td>\n",
       "      <td>2</td>\n",
       "      <td>194.207792</td>\n",
       "      <td>24.589331</td>\n",
       "      <td>5</td>\n",
       "      <td>0.309199</td>\n",
       "      <td>...</td>\n",
       "      <td>1.384151</td>\n",
       "      <td>1</td>\n",
       "      <td>1658.939293</td>\n",
       "      <td>0</td>\n",
       "      <td>0</td>\n",
       "      <td>5.647794</td>\n",
       "      <td>1.112766</td>\n",
       "      <td>0</td>\n",
       "      <td>0</td>\n",
       "      <td>0.013442</td>\n",
       "    </tr>\n",
       "    <tr>\n",
       "      <th>3</th>\n",
       "      <td>6.502319</td>\n",
       "      <td>1</td>\n",
       "      <td>0</td>\n",
       "      <td>1</td>\n",
       "      <td>0</td>\n",
       "      <td>9</td>\n",
       "      <td>201.838024</td>\n",
       "      <td>25.513918</td>\n",
       "      <td>4</td>\n",
       "      <td>0.160160</td>\n",
       "      <td>...</td>\n",
       "      <td>1.220303</td>\n",
       "      <td>1</td>\n",
       "      <td>1650.801625</td>\n",
       "      <td>0</td>\n",
       "      <td>0</td>\n",
       "      <td>5.370363</td>\n",
       "      <td>-0.305842</td>\n",
       "      <td>0</td>\n",
       "      <td>4</td>\n",
       "      <td>0.034632</td>\n",
       "    </tr>\n",
       "    <tr>\n",
       "      <th>4</th>\n",
       "      <td>7.043758</td>\n",
       "      <td>1</td>\n",
       "      <td>12</td>\n",
       "      <td>0</td>\n",
       "      <td>0</td>\n",
       "      <td>9</td>\n",
       "      <td>201.360443</td>\n",
       "      <td>31.160641</td>\n",
       "      <td>6</td>\n",
       "      <td>0.291976</td>\n",
       "      <td>...</td>\n",
       "      <td>1.170094</td>\n",
       "      <td>1</td>\n",
       "      <td>1676.818876</td>\n",
       "      <td>0</td>\n",
       "      <td>0</td>\n",
       "      <td>3.446532</td>\n",
       "      <td>2.440661</td>\n",
       "      <td>0</td>\n",
       "      <td>1</td>\n",
       "      <td>0.017514</td>\n",
       "    </tr>\n",
       "  </tbody>\n",
       "</table>\n",
       "<p>5 rows × 202 columns</p>\n",
       "</div>"
      ],
      "text/plain": [
       "          Y  A  V1  V2  V3  V4          V5         V6  V7        V8  ...  \\\n",
       "0  7.358185  1  10   0   0   7  192.793769  23.676950   8  0.185443  ...   \n",
       "1  8.333672  1  12   0   1   4  199.653596  19.281270   7  0.514842  ...   \n",
       "2  7.472758  0  14   1   1   2  194.207792  24.589331   5  0.309199  ...   \n",
       "3  6.502319  1   0   1   0   9  201.838024  25.513918   4  0.160160  ...   \n",
       "4  7.043758  1  12   0   0   9  201.360443  31.160641   6  0.291976  ...   \n",
       "\n",
       "       V191  V192         V193  V194  V195      V196      V197  V198  V199  \\\n",
       "0  1.462837     1  1627.274196     0     0  4.683956  0.565667     0     3   \n",
       "1  1.330522     1  1661.484439     1     0  6.766661 -0.395402     0     4   \n",
       "2  1.384151     1  1658.939293     0     0  5.647794  1.112766     0     0   \n",
       "3  1.220303     1  1650.801625     0     0  5.370363 -0.305842     0     4   \n",
       "4  1.170094     1  1676.818876     0     0  3.446532  2.440661     0     1   \n",
       "\n",
       "       V200  \n",
       "0  0.024338  \n",
       "1  0.056518  \n",
       "2  0.013442  \n",
       "3  0.034632  \n",
       "4  0.017514  \n",
       "\n",
       "[5 rows x 202 columns]"
      ]
     },
     "execution_count": 3,
     "metadata": {},
     "output_type": "execute_result"
    }
   ],
   "source": [
    "df.head()"
   ]
  },
  {
   "cell_type": "markdown",
   "id": "c6e32feb",
   "metadata": {},
   "source": [
    "### Descriptive Statistics\n"
   ]
  },
  {
   "cell_type": "markdown",
   "id": "horizontal-hanging",
   "metadata": {},
   "source": [
    "Once we loaded the data, we find that the outcome variable, $Y$, is continuous with mean around $7.33$. The treatment variable $A$ is binary with a value of $1$ indicating that a visitor was exposed to the new ad design $A$ as opposed to design $B$ (corresponding to a value of $A$ equal to $1$). The control variables $V$ are a collection of mixed data types, including continuous, discrete and binary variables."
   ]
  },
  {
   "cell_type": "code",
   "execution_count": 4,
   "id": "d14f929c-178b-47fc-8293-29a634194f21",
   "metadata": {},
   "outputs": [
    {
     "data": {
      "text/html": [
       "<div>\n",
       "<style scoped>\n",
       "    .dataframe tbody tr th:only-of-type {\n",
       "        vertical-align: middle;\n",
       "    }\n",
       "\n",
       "    .dataframe tbody tr th {\n",
       "        vertical-align: top;\n",
       "    }\n",
       "\n",
       "    .dataframe thead th {\n",
       "        text-align: right;\n",
       "    }\n",
       "</style>\n",
       "<table border=\"1\" class=\"dataframe\">\n",
       "  <thead>\n",
       "    <tr style=\"text-align: right;\">\n",
       "      <th></th>\n",
       "      <th>Y</th>\n",
       "      <th>A</th>\n",
       "      <th>V1</th>\n",
       "      <th>V2</th>\n",
       "      <th>V3</th>\n",
       "      <th>V4</th>\n",
       "      <th>V5</th>\n",
       "      <th>V6</th>\n",
       "      <th>V7</th>\n",
       "      <th>V8</th>\n",
       "      <th>...</th>\n",
       "      <th>V191</th>\n",
       "      <th>V192</th>\n",
       "      <th>V193</th>\n",
       "      <th>V194</th>\n",
       "      <th>V195</th>\n",
       "      <th>V196</th>\n",
       "      <th>V197</th>\n",
       "      <th>V198</th>\n",
       "      <th>V199</th>\n",
       "      <th>V200</th>\n",
       "    </tr>\n",
       "  </thead>\n",
       "  <tbody>\n",
       "    <tr>\n",
       "      <th>count</th>\n",
       "      <td>1000.000000</td>\n",
       "      <td>1000.000000</td>\n",
       "      <td>1000.000000</td>\n",
       "      <td>1000.000000</td>\n",
       "      <td>1000.000000</td>\n",
       "      <td>1000.000000</td>\n",
       "      <td>1000.000000</td>\n",
       "      <td>1000.000000</td>\n",
       "      <td>1000.000000</td>\n",
       "      <td>1000.000000</td>\n",
       "      <td>...</td>\n",
       "      <td>1000.000000</td>\n",
       "      <td>1000.00000</td>\n",
       "      <td>1000.000000</td>\n",
       "      <td>1000.000000</td>\n",
       "      <td>1000.000000</td>\n",
       "      <td>1000.000000</td>\n",
       "      <td>1000.000000</td>\n",
       "      <td>1000.00000</td>\n",
       "      <td>1000.000000</td>\n",
       "      <td>1000.000000</td>\n",
       "    </tr>\n",
       "    <tr>\n",
       "      <th>mean</th>\n",
       "      <td>7.331239</td>\n",
       "      <td>0.443000</td>\n",
       "      <td>9.290000</td>\n",
       "      <td>0.377000</td>\n",
       "      <td>0.616000</td>\n",
       "      <td>6.477000</td>\n",
       "      <td>200.088758</td>\n",
       "      <td>28.066028</td>\n",
       "      <td>6.031000</td>\n",
       "      <td>0.294206</td>\n",
       "      <td>...</td>\n",
       "      <td>1.318209</td>\n",
       "      <td>0.94200</td>\n",
       "      <td>1667.454561</td>\n",
       "      <td>0.254000</td>\n",
       "      <td>0.174000</td>\n",
       "      <td>5.804205</td>\n",
       "      <td>-0.076921</td>\n",
       "      <td>0.29400</td>\n",
       "      <td>1.629000</td>\n",
       "      <td>0.037936</td>\n",
       "    </tr>\n",
       "    <tr>\n",
       "      <th>std</th>\n",
       "      <td>1.379852</td>\n",
       "      <td>0.496989</td>\n",
       "      <td>3.889605</td>\n",
       "      <td>0.484877</td>\n",
       "      <td>0.486601</td>\n",
       "      <td>2.870141</td>\n",
       "      <td>6.105408</td>\n",
       "      <td>9.920941</td>\n",
       "      <td>2.480361</td>\n",
       "      <td>0.119454</td>\n",
       "      <td>...</td>\n",
       "      <td>0.270178</td>\n",
       "      <td>0.23386</td>\n",
       "      <td>44.191913</td>\n",
       "      <td>0.435515</td>\n",
       "      <td>0.379299</td>\n",
       "      <td>2.655835</td>\n",
       "      <td>1.002754</td>\n",
       "      <td>0.45582</td>\n",
       "      <td>1.388988</td>\n",
       "      <td>0.021688</td>\n",
       "    </tr>\n",
       "    <tr>\n",
       "      <th>min</th>\n",
       "      <td>3.435052</td>\n",
       "      <td>0.000000</td>\n",
       "      <td>0.000000</td>\n",
       "      <td>0.000000</td>\n",
       "      <td>0.000000</td>\n",
       "      <td>0.000000</td>\n",
       "      <td>183.123067</td>\n",
       "      <td>12.020630</td>\n",
       "      <td>0.000000</td>\n",
       "      <td>0.047160</td>\n",
       "      <td>...</td>\n",
       "      <td>0.668093</td>\n",
       "      <td>0.00000</td>\n",
       "      <td>1524.291675</td>\n",
       "      <td>0.000000</td>\n",
       "      <td>0.000000</td>\n",
       "      <td>1.097708</td>\n",
       "      <td>-3.644652</td>\n",
       "      <td>0.00000</td>\n",
       "      <td>0.000000</td>\n",
       "      <td>0.001478</td>\n",
       "    </tr>\n",
       "    <tr>\n",
       "      <th>25%</th>\n",
       "      <td>6.405583</td>\n",
       "      <td>0.000000</td>\n",
       "      <td>7.000000</td>\n",
       "      <td>0.000000</td>\n",
       "      <td>0.000000</td>\n",
       "      <td>5.000000</td>\n",
       "      <td>195.941569</td>\n",
       "      <td>21.206230</td>\n",
       "      <td>4.000000</td>\n",
       "      <td>0.204260</td>\n",
       "      <td>...</td>\n",
       "      <td>1.119369</td>\n",
       "      <td>1.00000</td>\n",
       "      <td>1637.699514</td>\n",
       "      <td>0.000000</td>\n",
       "      <td>0.000000</td>\n",
       "      <td>4.065465</td>\n",
       "      <td>-0.751355</td>\n",
       "      <td>0.00000</td>\n",
       "      <td>1.000000</td>\n",
       "      <td>0.021711</td>\n",
       "    </tr>\n",
       "    <tr>\n",
       "      <th>50%</th>\n",
       "      <td>7.335248</td>\n",
       "      <td>0.000000</td>\n",
       "      <td>10.000000</td>\n",
       "      <td>0.000000</td>\n",
       "      <td>1.000000</td>\n",
       "      <td>7.000000</td>\n",
       "      <td>199.876117</td>\n",
       "      <td>26.202582</td>\n",
       "      <td>6.000000</td>\n",
       "      <td>0.282867</td>\n",
       "      <td>...</td>\n",
       "      <td>1.293790</td>\n",
       "      <td>1.00000</td>\n",
       "      <td>1667.763480</td>\n",
       "      <td>0.000000</td>\n",
       "      <td>0.000000</td>\n",
       "      <td>5.236465</td>\n",
       "      <td>-0.091056</td>\n",
       "      <td>0.00000</td>\n",
       "      <td>1.000000</td>\n",
       "      <td>0.034009</td>\n",
       "    </tr>\n",
       "    <tr>\n",
       "      <th>75%</th>\n",
       "      <td>8.271881</td>\n",
       "      <td>1.000000</td>\n",
       "      <td>12.000000</td>\n",
       "      <td>1.000000</td>\n",
       "      <td>1.000000</td>\n",
       "      <td>8.000000</td>\n",
       "      <td>204.398067</td>\n",
       "      <td>33.071189</td>\n",
       "      <td>8.000000</td>\n",
       "      <td>0.374078</td>\n",
       "      <td>...</td>\n",
       "      <td>1.476828</td>\n",
       "      <td>1.00000</td>\n",
       "      <td>1695.972631</td>\n",
       "      <td>1.000000</td>\n",
       "      <td>0.000000</td>\n",
       "      <td>6.898240</td>\n",
       "      <td>0.594647</td>\n",
       "      <td>1.00000</td>\n",
       "      <td>2.000000</td>\n",
       "      <td>0.049100</td>\n",
       "    </tr>\n",
       "    <tr>\n",
       "      <th>max</th>\n",
       "      <td>13.197260</td>\n",
       "      <td>1.000000</td>\n",
       "      <td>20.000000</td>\n",
       "      <td>1.000000</td>\n",
       "      <td>1.000000</td>\n",
       "      <td>15.000000</td>\n",
       "      <td>220.584410</td>\n",
       "      <td>95.410020</td>\n",
       "      <td>14.000000</td>\n",
       "      <td>0.706249</td>\n",
       "      <td>...</td>\n",
       "      <td>2.448661</td>\n",
       "      <td>1.00000</td>\n",
       "      <td>1825.697096</td>\n",
       "      <td>1.000000</td>\n",
       "      <td>1.000000</td>\n",
       "      <td>38.427974</td>\n",
       "      <td>2.832673</td>\n",
       "      <td>1.00000</td>\n",
       "      <td>9.000000</td>\n",
       "      <td>0.139716</td>\n",
       "    </tr>\n",
       "  </tbody>\n",
       "</table>\n",
       "<p>8 rows × 202 columns</p>\n",
       "</div>"
      ],
      "text/plain": [
       "                 Y            A           V1           V2           V3  \\\n",
       "count  1000.000000  1000.000000  1000.000000  1000.000000  1000.000000   \n",
       "mean      7.331239     0.443000     9.290000     0.377000     0.616000   \n",
       "std       1.379852     0.496989     3.889605     0.484877     0.486601   \n",
       "min       3.435052     0.000000     0.000000     0.000000     0.000000   \n",
       "25%       6.405583     0.000000     7.000000     0.000000     0.000000   \n",
       "50%       7.335248     0.000000    10.000000     0.000000     1.000000   \n",
       "75%       8.271881     1.000000    12.000000     1.000000     1.000000   \n",
       "max      13.197260     1.000000    20.000000     1.000000     1.000000   \n",
       "\n",
       "                V4           V5           V6           V7           V8  ...  \\\n",
       "count  1000.000000  1000.000000  1000.000000  1000.000000  1000.000000  ...   \n",
       "mean      6.477000   200.088758    28.066028     6.031000     0.294206  ...   \n",
       "std       2.870141     6.105408     9.920941     2.480361     0.119454  ...   \n",
       "min       0.000000   183.123067    12.020630     0.000000     0.047160  ...   \n",
       "25%       5.000000   195.941569    21.206230     4.000000     0.204260  ...   \n",
       "50%       7.000000   199.876117    26.202582     6.000000     0.282867  ...   \n",
       "75%       8.000000   204.398067    33.071189     8.000000     0.374078  ...   \n",
       "max      15.000000   220.584410    95.410020    14.000000     0.706249  ...   \n",
       "\n",
       "              V191        V192         V193         V194         V195  \\\n",
       "count  1000.000000  1000.00000  1000.000000  1000.000000  1000.000000   \n",
       "mean      1.318209     0.94200  1667.454561     0.254000     0.174000   \n",
       "std       0.270178     0.23386    44.191913     0.435515     0.379299   \n",
       "min       0.668093     0.00000  1524.291675     0.000000     0.000000   \n",
       "25%       1.119369     1.00000  1637.699514     0.000000     0.000000   \n",
       "50%       1.293790     1.00000  1667.763480     0.000000     0.000000   \n",
       "75%       1.476828     1.00000  1695.972631     1.000000     0.000000   \n",
       "max       2.448661     1.00000  1825.697096     1.000000     1.000000   \n",
       "\n",
       "              V196         V197        V198         V199         V200  \n",
       "count  1000.000000  1000.000000  1000.00000  1000.000000  1000.000000  \n",
       "mean      5.804205    -0.076921     0.29400     1.629000     0.037936  \n",
       "std       2.655835     1.002754     0.45582     1.388988     0.021688  \n",
       "min       1.097708    -3.644652     0.00000     0.000000     0.001478  \n",
       "25%       4.065465    -0.751355     0.00000     1.000000     0.021711  \n",
       "50%       5.236465    -0.091056     0.00000     1.000000     0.034009  \n",
       "75%       6.898240     0.594647     1.00000     2.000000     0.049100  \n",
       "max      38.427974     2.832673     1.00000     9.000000     0.139716  \n",
       "\n",
       "[8 rows x 202 columns]"
      ]
     },
     "execution_count": 4,
     "metadata": {},
     "output_type": "execute_result"
    }
   ],
   "source": [
    "df.describe()"
   ]
  },
  {
   "cell_type": "markdown",
   "id": "d7e45649",
   "metadata": {},
   "source": [
    "From the explanatory variables $V1$ to $V200$, 107 variables are continuous, while 95 are integers. From the integer-variables 59 are binary variables. "
   ]
  },
  {
   "cell_type": "code",
   "execution_count": 5,
   "id": "bde50bfe",
   "metadata": {
    "scrolled": true
   },
   "outputs": [
    {
     "name": "stdout",
     "output_type": "stream",
     "text": [
      "float64    107\n",
      "int64       95\n",
      "dtype: int64\n",
      "Number of binary variables: 59\n"
     ]
    }
   ],
   "source": [
    "print(df.dtypes.value_counts())\n",
    "print(\"Number of binary variables:\", len(df[df.columns[df.isin([0,1]).all()]].columns))"
   ]
  },
  {
   "cell_type": "markdown",
   "id": "0ce90b4b",
   "metadata": {},
   "source": [
    "Let's continue with some visual inspection."
   ]
  },
  {
   "cell_type": "code",
   "execution_count": 6,
   "id": "b4d2dfb4",
   "metadata": {},
   "outputs": [],
   "source": [
    "# Define the settings for the graphs first\n",
    "import seaborn as sns\n",
    "sns.set()\n",
    "colors = sns.color_palette()\n",
    "\n",
    "import matplotlib.pyplot as plt\n",
    "\n",
    "plt.rcParams['figure.figsize'] = 5., 3.75\n",
    "sns.set(font_scale=1.5)\n",
    "sns.set_style('whitegrid', {'axes.spines.top': False,\n",
    "                            'axes.spines.bottom': False,\n",
    "                            'axes.spines.left': False,\n",
    "                            'axes.spines.right': False})"
   ]
  },
  {
   "cell_type": "markdown",
   "id": "11045894",
   "metadata": {},
   "source": [
    "The first figure shows that 443 out of the 1000 customers have been exposed to the new ad design."
   ]
  },
  {
   "cell_type": "code",
   "execution_count": 7,
   "id": "2b5037d3",
   "metadata": {
    "tags": []
   },
   "outputs": [
    {
     "data": {
      "image/png": "[encoded data removed]",
      "text/plain": [
       "<Figure size 360x270 with 1 Axes>"
      ]
     },
     "metadata": {},
     "output_type": "display_data"
    }
   ],
   "source": [
    "df['A'].value_counts().plot(kind='bar', color=colors)\n",
    "\n",
    "plt.title('Treatment')\n",
    "plt.xlabel('A')\n",
    "_ = plt.ylabel('count')"
   ]
  },
  {
   "cell_type": "markdown",
   "id": "8c2dc825",
   "metadata": {},
   "source": [
    "### Unconditional Estimate of ATE"
   ]
  },
  {
   "cell_type": "markdown",
   "id": "8da84d00",
   "metadata": {},
   "source": [
    "As a first naive estimate, we could calculate the unconditional average treatment effect. In other words, we simply take the difference between $Y$ observed for the customers who have been exposed to the treatment $(A=1)$ and those who haven't been exposed $(A=0)$. As a visualization, we plot the density of the outcome variable conditional on the treatment status to get a first impression on the descriptive relationship of $A$ and $Y$."
   ]
  },
  {
   "cell_type": "code",
   "execution_count": 8,
   "id": "57392f09",
   "metadata": {
    "scrolled": true
   },
   "outputs": [
    {
     "data": {
      "image/png": "[encoded data removed]",
      "text/plain": [
       "<Figure size 788.525x360 with 2 Axes>"
      ]
     },
     "metadata": {},
     "output_type": "display_data"
    }
   ],
   "source": [
    "_ = sns.displot(df, x=\"Y\", hue=\"A\", col=\"A\",\n",
    "                kind=\"kde\", rug = True, fill=True)"
   ]
  },
  {
   "cell_type": "markdown",
   "id": "b2bcca63",
   "metadata": {},
   "source": [
    "Since the unconditional ATE does not account for the confounding variables, it will generally not correspond to the true ATE. For example, if the unconditional ATE estimate is greater than the actual ATE, the manager would erroneously overinterpret the role of the new ad design and probably make misleading decisions for the marketing budget in the future."
   ]
  },
  {
   "cell_type": "code",
   "execution_count": 9,
   "id": "381e745d",
   "metadata": {},
   "outputs": [
    {
     "data": {
      "text/html": [
       "<div>\n",
       "<style scoped>\n",
       "    .dataframe tbody tr th:only-of-type {\n",
       "        vertical-align: middle;\n",
       "    }\n",
       "\n",
       "    .dataframe tbody tr th {\n",
       "        vertical-align: top;\n",
       "    }\n",
       "\n",
       "    .dataframe thead th {\n",
       "        text-align: right;\n",
       "    }\n",
       "</style>\n",
       "<table border=\"1\" class=\"dataframe\">\n",
       "  <thead>\n",
       "    <tr style=\"text-align: right;\">\n",
       "      <th></th>\n",
       "      <th>Y</th>\n",
       "    </tr>\n",
       "    <tr>\n",
       "      <th>A</th>\n",
       "      <th></th>\n",
       "    </tr>\n",
       "  </thead>\n",
       "  <tbody>\n",
       "    <tr>\n",
       "      <th>0</th>\n",
       "      <td>6.836141</td>\n",
       "    </tr>\n",
       "    <tr>\n",
       "      <th>1</th>\n",
       "      <td>7.953744</td>\n",
       "    </tr>\n",
       "  </tbody>\n",
       "</table>\n",
       "</div>"
      ],
      "text/plain": [
       "          Y\n",
       "A          \n",
       "0  6.836141\n",
       "1  7.953744"
      ]
     },
     "execution_count": 9,
     "metadata": {},
     "output_type": "execute_result"
    }
   ],
   "source": [
    "df[['A', 'Y']].groupby('A').mean()"
   ]
  },
  {
   "cell_type": "code",
   "execution_count": 10,
   "id": "48457fd4",
   "metadata": {},
   "outputs": [
    {
     "data": {
      "text/html": [
       "<div>\n",
       "<style scoped>\n",
       "    .dataframe tbody tr th:only-of-type {\n",
       "        vertical-align: middle;\n",
       "    }\n",
       "\n",
       "    .dataframe tbody tr th {\n",
       "        vertical-align: top;\n",
       "    }\n",
       "\n",
       "    .dataframe thead th {\n",
       "        text-align: right;\n",
       "    }\n",
       "</style>\n",
       "<table border=\"1\" class=\"dataframe\">\n",
       "  <thead>\n",
       "    <tr style=\"text-align: right;\">\n",
       "      <th></th>\n",
       "      <th>Y</th>\n",
       "    </tr>\n",
       "    <tr>\n",
       "      <th>A</th>\n",
       "      <th></th>\n",
       "    </tr>\n",
       "  </thead>\n",
       "  <tbody>\n",
       "    <tr>\n",
       "      <th>0</th>\n",
       "      <td>NaN</td>\n",
       "    </tr>\n",
       "    <tr>\n",
       "      <th>1</th>\n",
       "      <td>1.117603</td>\n",
       "    </tr>\n",
       "  </tbody>\n",
       "</table>\n",
       "</div>"
      ],
      "text/plain": [
       "          Y\n",
       "A          \n",
       "0       NaN\n",
       "1  1.117603"
      ]
     },
     "execution_count": 10,
     "metadata": {},
     "output_type": "execute_result"
    }
   ],
   "source": [
    "df[['A', 'Y']].groupby('A').mean().diff()"
   ]
  },
  {
   "cell_type": "markdown",
   "id": "e6f3fa75-a5d4-480c-b627-4b99c6f6afe3",
   "metadata": {},
   "source": [
    "The uncoditional effect is around $1.118$. Because we use a simulated data set in this example, we know that the true effect is $0.8$. Therefore the unconditional ATE overestimates the true effect, because it does not account for individual characteristics. In order to get an estimation on the ATE that explicitly takes the confounding variables $V$ into account, we apply the [DoubleML](https://docs.doubleml.org/stable/index.html) package in the next section."
   ]
  },
  {
   "cell_type": "markdown",
   "id": "9e21e9bb",
   "metadata": {},
   "source": [
    "## Estimate ATE with the `DoubleML` package"
   ]
  },
  {
   "cell_type": "markdown",
   "id": "19830a0a",
   "metadata": {},
   "source": [
    "Let’s use the package [DoubleML](https://docs.doubleml.org/stable/index.html) to estimate the average treatment effect of the new ad design on the value of customers' purchases. First, the required packages are imported."
   ]
  },
  {
   "cell_type": "code",
   "execution_count": 11,
   "id": "afaf4106",
   "metadata": {},
   "outputs": [],
   "source": [
    "import numpy as np\n",
    "import pandas as pd\n",
    "import doubleml as dml\n",
    "\n",
    "from sklearn.linear_model import LinearRegression\n",
    "from sklearn.linear_model import LogisticRegression\n",
    "from sklearn.linear_model import LassoCV, LogisticRegressionCV\n",
    "from sklearn.ensemble import RandomForestClassifier, RandomForestRegressor\n",
    "from sklearn.preprocessing import StandardScaler\n",
    "from sklearn.pipeline import make_pipeline\n",
    "from sklearn.metrics import mean_squared_error\n",
    "from sklearn.metrics import log_loss\n",
    "from xgboost import XGBClassifier, XGBRegressor\n",
    "\n",
    "import matplotlib.pyplot as plt\n",
    "import scipy.stats as stats"
   ]
  },
  {
   "cell_type": "markdown",
   "id": "49242003",
   "metadata": {},
   "source": [
    "### The Data Backend: `DoubleMLData`"
   ]
  },
  {
   "cell_type": "markdown",
   "id": "3653b53a",
   "metadata": {},
   "source": [
    "To start our analysis, we initialize the data backend from the previously loaded data set, i.e., we create a new instance of a [DoubleMLData](https://docs.doubleml.org/stable/api/generated/doubleml.DoubleMLData.html#doubleml.DoubleMLData) object. During initialization, we specify the roles of the variables in the data set, i.e., in our example the outcome variable $Y$ via the parameter `y_col`, the treatment variable $A$ via `d_cols` and the confounding variables $V$ via `x_cols`."
   ]
  },
  {
   "cell_type": "code",
   "execution_count": 12,
   "id": "abdd10b7",
   "metadata": {},
   "outputs": [],
   "source": [
    "# Specify explanatory variables for data-backend\n",
    "features_base = list(df.columns.values)[2:]\n",
    "\n",
    "# Initialize DoubleMLData (data-backend of DoubleML)\n",
    "data_dml = dml.DoubleMLData(df,\n",
    "                            y_col='Y',\n",
    "                            d_cols='A',\n",
    "                            x_cols=features_base)"
   ]
  },
  {
   "cell_type": "markdown",
   "id": "5800ca50-c293-4266-8dd7-00fadcea8d51",
   "metadata": {},
   "source": [
    "We can print the data-backend to see the variables, which we have assigned as outcome, treatment and controls."
   ]
  },
  {
   "cell_type": "code",
   "execution_count": 13,
   "id": "37b9bd8a",
   "metadata": {},
   "outputs": [
    {
     "name": "stdout",
     "output_type": "stream",
     "text": [
      "================== DoubleMLData Object ==================\n",
      "\n",
      "------------------ Data summary      ------------------\n",
      "Outcome variable: Y\n",
      "Treatment variable(s): ['A']\n",
      "Covariates: ['V1', 'V2', 'V3', 'V4', 'V5', 'V6', 'V7', 'V8', 'V9', 'V10', 'V11', 'V12', 'V13', 'V14', 'V15', 'V16', 'V17', 'V18', 'V19', 'V20', 'V21', 'V22', 'V23', 'V24', 'V25', 'V26', 'V27', 'V28', 'V29', 'V30', 'V31', 'V32', 'V33', 'V34', 'V35', 'V36', 'V37', 'V38', 'V39', 'V40', 'V41', 'V42', 'V43', 'V44', 'V45', 'V46', 'V47', 'V48', 'V49', 'V50', 'V51', 'V52', 'V53', 'V54', 'V55', 'V56', 'V57', 'V58', 'V59', 'V60', 'V61', 'V62', 'V63', 'V64', 'V65', 'V66', 'V67', 'V68', 'V69', 'V70', 'V71', 'V72', 'V73', 'V74', 'V75', 'V76', 'V77', 'V78', 'V79', 'V80', 'V81', 'V82', 'V83', 'V84', 'V85', 'V86', 'V87', 'V88', 'V89', 'V90', 'V91', 'V92', 'V93', 'V94', 'V95', 'V96', 'V97', 'V98', 'V99', 'V100', 'V101', 'V102', 'V103', 'V104', 'V105', 'V106', 'V107', 'V108', 'V109', 'V110', 'V111', 'V112', 'V113', 'V114', 'V115', 'V116', 'V117', 'V118', 'V119', 'V120', 'V121', 'V122', 'V123', 'V124', 'V125', 'V126', 'V127', 'V128', 'V129', 'V130', 'V131', 'V132', 'V133', 'V134', 'V135', 'V136', 'V137', 'V138', 'V139', 'V140', 'V141', 'V142', 'V143', 'V144', 'V145', 'V146', 'V147', 'V148', 'V149', 'V150', 'V151', 'V152', 'V153', 'V154', 'V155', 'V156', 'V157', 'V158', 'V159', 'V160', 'V161', 'V162', 'V163', 'V164', 'V165', 'V166', 'V167', 'V168', 'V169', 'V170', 'V171', 'V172', 'V173', 'V174', 'V175', 'V176', 'V177', 'V178', 'V179', 'V180', 'V181', 'V182', 'V183', 'V184', 'V185', 'V186', 'V187', 'V188', 'V189', 'V190', 'V191', 'V192', 'V193', 'V194', 'V195', 'V196', 'V197', 'V198', 'V199', 'V200']\n",
      "Instrument variable(s): None\n",
      "No. Observations: 1000\n",
      "\n",
      "------------------ DataFrame info    ------------------\n",
      "<class 'pandas.core.frame.DataFrame'>\n",
      "RangeIndex: 1000 entries, 0 to 999\n",
      "Columns: 202 entries, Y to V200\n",
      "dtypes: float64(107), int64(95)\n",
      "memory usage: 1.5 MB\n",
      "\n"
     ]
    }
   ],
   "source": [
    "print(data_dml)"
   ]
  },
  {
   "cell_type": "markdown",
   "id": "714346b8-90dd-4f15-b880-d71f4f60b04e",
   "metadata": {},
   "source": [
    "## The Inference Problem and Choosing an Appropriate Model\n",
    "\n",
    "The inference problem is to determine the causal effect of seeing the new ad design $A$ on a customer's purchases $Y$ once we control for individual characteristics $V$. In our example, we are interested in the average treatment effect. Basically, there are two causal models available in [DoubleMLData](https://docs.doubleml.org/stable/api/generated/doubleml.DoubleMLData.html#doubleml.DoubleMLData) that can be used to estimate the ATE.\n",
    "\n",
    "The so-called interactive regression model (IRM) called by [DoubleMLIRM](https://docs.doubleml.org/stable/api/generated/doubleml.DoubleMLIRM.html) is a flexible (nonparametric) model to estimate this causal quantity. The model does not impose functional form restrictions on the underlying regression relationships, for example, linearity or additivity as in a standard linear regression model. This means that the model hosts heterogeneous treatment effects, i.e., account for variation in the effect of the new ad design across customers. Moreover, it is possible to also estimate other causal parameters with the IRM, for example, the average treatment effect on the treated (= those customers who have been exposed to the new ad), which might be of interest too.\n",
    "\n",
    "The second causal model that can be used here is the partially linear regression model (PLR). The PLR incorporates stronger assumptions, for example, that the treatment effect is additive and constant, i.e., in the model it is assumed that the effect does not very across individuals. We will start with the IRM and include the PLR estimates at the end of the notebook."
   ]
  },
  {
   "cell_type": "markdown",
   "id": "9e798e44-8fc8-4c93-9cfb-2d3ad7486dc0",
   "metadata": {},
   "source": [
    "## 1. Interactive Regression Model (IRM)\n",
    "\n",
    "We briefly introduce the [Interactive Regression Model](https://docs.doubleml.org/stable/guide/models.html#interactive-regression-model-irm) (IRM) where the main regression relationship of interest is provided by\n",
    "\n",
    "$$Y = g_0(D, X) + U, \\quad E(U | X, D) = 0,$$\n",
    "\n",
    "where the treatment variable is binary, $D \\in \\lbrace 0,1 \\rbrace$. We consider estimation of the average treatment effect (ATE):\n",
    "\n",
    "$$\\theta_0 = \\mathbb{E}[g_0(1, X) - g_0(0,X)],$$\n",
    "\n",
    "when treatment effects are fully heterogeneous. In order to be able to use ML methods, the estimation framework generally requires a property called \"double robustness\" or \"Neyman orthogonality\". In the IRM, double robustness can be achieved by including the first-stage estimation\n",
    "\n",
    "$$D = m_0(X) + V, \\quad E(V | X) = 0,$$\n",
    "\n",
    "which amounts to estimation of the propensity score, i.e., the probability that a customer is exposed to the treatment provided her observed characteristics. Both predictions are then combined in [the doubly robust score for the average treatment effect](https://docs.doubleml.org/stable/guide/scores.html#interactive-regression-model-irm) which is given by\n",
    "\n",
    "$$\\psi(W; \\theta, \\eta) := g(1,X) - g(0,X) + \\frac{D (Y - g(1,X))}{m(X)} - \\frac{(1 - D)(Y - g(0,X))}{1 - m(x)} - \\theta.$$"
   ]
  },
  {
   "cell_type": "markdown",
   "id": "13a5f6f7-64c5-499b-b68a-16ca98943cd6",
   "metadata": {},
   "source": [
    "Because the data set was simulated we are aware of the true ATE, $\\theta_0=0.8$. The interpretation of this is that exposure to the new ad increases sales (in $100\\$$) by around $0.8$ on average. In the following, we try to estimate this causal effect using the [DoubleML](https://docs.doubleml.org/stable/index.html) package and assess whether the estimated effect is significantly different from zero."
   ]
  },
  {
   "cell_type": "markdown",
   "id": "69f0731d",
   "metadata": {},
   "source": [
    "### Assess predictive performance in the IRM"
   ]
  },
  {
   "cell_type": "markdown",
   "id": "6d494c68",
   "metadata": {},
   "source": [
    "In the following, we will compare the estimate of the ATE based on different learners. Moreover, we will also have a look how well the learners can predict the nuisance components of the causal model. \n",
    "\n",
    "To evaluate the predictive performance, we'll first define a helper function that uses a DoubleML model object and returns a summary for a predictive measure. We'll use the root mean squared error (RMSE) for the main regression and the log loss measure $L_{log}$ for the propensity score estimation.\n",
    "\n",
    "Estimation of the IRM delivers two arrays for the prediction function $g_0(D, X)$: `ml_g0` for $g_0(0, X)$ and `ml_g1` for $g_0(1, X)$. If we want to get the correct prediction for each observation based on the treatment realization, we pick the corresponding value of either `ml_g0` (for $D=0$) or `ml_g1` (for $D=1$). As we apply random sample splitting repeatedly in every model, the RMSE and the log loss can be calculated for each repetition. We are interested in mean and standard deviation across all repetitions."
   ]
  },
  {
   "cell_type": "code",
   "execution_count": 14,
   "id": "aa2a8f81",
   "metadata": {},
   "outputs": [],
   "source": [
    "def pred_acc_irm(DoubleML, prop):\n",
    "    \"\"\"\n",
    "    A function to calculate prediction accuracy values for every repetition\n",
    "    of a Double Machine Learning model using IRM, DoubleMLIRM\n",
    "    \n",
    "    ...\n",
    "    \n",
    "    Parameters\n",
    "    ----------\n",
    "    DoubleML : doubleml.double_ml_irm.DoubleMLIRM\n",
    "        The IRM Double Machine Learning model\n",
    "    prop : bool\n",
    "        Indication if RMSE values have to be computed for main regression or\n",
    "        log loss values for propensity score\n",
    "    \"\"\"\n",
    "    \n",
    "    # export data and predictions of the DoubleML model\n",
    "    y = DoubleML._dml_data.y\n",
    "    d = DoubleML._dml_data.d\n",
    "    g0 = DoubleML.predictions.get('ml_g0')\n",
    "    g1 = DoubleML.predictions.get('ml_g1')    \n",
    "    m = DoubleML.predictions.get('ml_m')\n",
    "    \n",
    "    # dimensions of prediction array\n",
    "    h = g0.shape[0]\n",
    "    w = DoubleML.n_rep\n",
    "    \n",
    "    # check whether treatment is binary \n",
    "    if np.isin(d, [0,1]).all() == False:\n",
    "        raise ValueError(\"Treatment must be a binary variable.\")\n",
    "    \n",
    "    # prepare array to store prediction accuracy measure values\n",
    "    pred_acc_array = np.zeros((w,))\n",
    "    \n",
    "    # check whether to assess main regression or propensity score accuracy:   \n",
    "    if prop == False:\n",
    "        \n",
    "        # evaluate main regression accuracy\n",
    "        # export an array with correctly picked prediction values    \n",
    "        export_pred_array = np.zeros((h, w))            \n",
    "        for i in range(w):\n",
    "            for j in range(h):\n",
    "                if d[j] == 0:\n",
    "                    export_pred_array[j,i] = g0[j,i]\n",
    "                else:\n",
    "                    export_pred_array[j,i] = g1[j,i]\n",
    "    \n",
    "        # fill array that contains rmse of each repetition\n",
    "        for i in range(w):\n",
    "            pred_acc_array[i] = mean_squared_error(y, export_pred_array[:,i], squared=False)    \n",
    "    else:\n",
    "        \n",
    "        # evaluate propensity score accuracy\n",
    "        # fill array that contains log loss of each repetition\n",
    "        for i in range(w):\n",
    "            pred_acc_array[i] = log_loss(d, m[:,i], eps=0.025)\n",
    "    \n",
    "    return pred_acc_array"
   ]
  },
  {
   "cell_type": "markdown",
   "id": "suburban-infrastructure",
   "metadata": {},
   "source": [
    "### Benchmark: Model based on Linear and Logistic Regression"
   ]
  },
  {
   "cell_type": "markdown",
   "id": "93f3af17-bcf9-429b-af9a-b90ea1153937",
   "metadata": {},
   "source": [
    "Let us first start with a benchmark model that is based on linear and logistic regression. Hence, we estimate the functions $g_0(D,X)$ using a linear regression model and $m_0(X)$ by using an (unpenalized) logistic regression. In both cases, we include all available characteristics $V$. Later we will assess whether we can find a \"better\" estimator based on ML methods like lasso, random forests and boosting. Because we have 200 variables and 1000 observations, this is approaching a high dimentional setting, therefore the linear and the logistic regression may not estimate the parameters well."
   ]
  },
  {
   "cell_type": "markdown",
   "id": "authorized-school",
   "metadata": {},
   "source": [
    "We start by initializing the learners for linear regression and logistic regression. Then, we initialize a causal model object, here of the class [DoubleMLIRM](https://docs.doubleml.org/stable/api/generated/doubleml.DoubleMLIRM.html). The latter is based on the data-backend we have specified above. To reduce the disproportionate impact of extreme propensity score weights in the interactive model we trim the propensity score from below and above at thresholds of 0.025 and 0.975."
   ]
  },
  {
   "cell_type": "code",
   "execution_count": 15,
   "id": "76037798",
   "metadata": {},
   "outputs": [
    {
     "data": {
      "text/html": [
       "<div>\n",
       "<style scoped>\n",
       "    .dataframe tbody tr th:only-of-type {\n",
       "        vertical-align: middle;\n",
       "    }\n",
       "\n",
       "    .dataframe tbody tr th {\n",
       "        vertical-align: top;\n",
       "    }\n",
       "\n",
       "    .dataframe thead th {\n",
       "        text-align: right;\n",
       "    }\n",
       "</style>\n",
       "<table border=\"1\" class=\"dataframe\">\n",
       "  <thead>\n",
       "    <tr style=\"text-align: right;\">\n",
       "      <th></th>\n",
       "      <th>coef</th>\n",
       "      <th>std err</th>\n",
       "      <th>t</th>\n",
       "      <th>P&gt;|t|</th>\n",
       "      <th>2.5 %</th>\n",
       "      <th>97.5 %</th>\n",
       "    </tr>\n",
       "  </thead>\n",
       "  <tbody>\n",
       "    <tr>\n",
       "      <th>A</th>\n",
       "      <td>0.795384</td>\n",
       "      <td>0.086909</td>\n",
       "      <td>9.151966</td>\n",
       "      <td>5.590671e-20</td>\n",
       "      <td>0.625047</td>\n",
       "      <td>0.965722</td>\n",
       "    </tr>\n",
       "  </tbody>\n",
       "</table>\n",
       "</div>"
      ],
      "text/plain": [
       "       coef   std err         t         P>|t|     2.5 %    97.5 %\n",
       "A  0.795384  0.086909  9.151966  5.590671e-20  0.625047  0.965722"
      ]
     },
     "execution_count": 15,
     "metadata": {},
     "output_type": "execute_result"
    }
   ],
   "source": [
    "# Initialize Linear and Logistic Regression learners\n",
    "linreg = make_pipeline(StandardScaler(), LinearRegression())\n",
    "logreg_class = make_pipeline(StandardScaler(), LogisticRegression(penalty=\"none\"))\n",
    "\n",
    "# Initialize DoubleMLIRM model\n",
    "np.random.seed(1234)\n",
    "dml_irm_regression = dml.DoubleMLIRM(data_dml,\n",
    "                                ml_g = linreg,\n",
    "                                ml_m = logreg_class,\n",
    "                                trimming_threshold = 0.025,\n",
    "                                n_folds = 1,\n",
    "                                apply_cross_fitting = False,\n",
    "                                n_rep=1)\n",
    "\n",
    "dml_irm_regression.fit(store_predictions=True)\n",
    "\n",
    "reg_summary = dml_irm_regression.summary\n",
    "reg_summary"
   ]
  },
  {
   "cell_type": "code",
   "execution_count": 16,
   "id": "controlling-collapse",
   "metadata": {
    "scrolled": true
   },
   "outputs": [
    {
     "name": "stdout",
     "output_type": "stream",
     "text": [
      "Bias: [-0.00461562]\n"
     ]
    }
   ],
   "source": [
    "print(\"Bias:\", dml_irm_regression.coef - 0.8)"
   ]
  },
  {
   "cell_type": "markdown",
   "id": "emerging-highlight",
   "metadata": {},
   "source": [
    "We see that the causal estimate suffers from a substantial bias and is quite noisy: The ATE is overestimated by around 0.26 and the standard error is around 0.62. The corresponding 95%-confidence interval is relatively wide. It even covers the value of zero. Hence, we cannot reject the null hypothesis that the average treatment effect is different from zero at the 5% significance level.\n",
    "\n",
    "Next, we'll calculate the RMSE and the log loss for the nuisance functions in order to find out how the benchmark compares to other ML models."
   ]
  },
  {
   "cell_type": "code",
   "execution_count": 17,
   "id": "7ad39856",
   "metadata": {},
   "outputs": [],
   "source": [
    "# calculate mean and standard deviation of repetition RMSE's to evaluate main regression accuracy\n",
    "rmse_main_linlog_irm = pred_acc_irm(dml_irm_regression, prop=False)\n",
    "rmse_main_linlog_irm_mean = np.mean(rmse_main_linlog_irm)\n",
    "rmse_main_linlog_irm_std = np.std(rmse_main_linlog_irm)\n",
    "\n",
    "# calculate mean and standard deviation of repetition log losses to evaluate propensity score accuracy\n",
    "logloss_prop_linlog_irm = pred_acc_irm(dml_irm_regression, prop=True)\n",
    "logloss_prop_linlog_irm_mean = np.mean(logloss_prop_linlog_irm)\n",
    "logloss_prop_linlog_irm_std = np.std(logloss_prop_linlog_irm)"
   ]
  },
  {
   "cell_type": "code",
   "execution_count": 18,
   "id": "dd39c325",
   "metadata": {},
   "outputs": [
    {
     "name": "stdout",
     "output_type": "stream",
     "text": [
      "Mean of the main regression RMSE across 3 repetitions is 0.812050411691478\n",
      "Standard deviation of the RMSE is 0.0\n"
     ]
    }
   ],
   "source": [
    "print(\"Mean of the main regression RMSE across 3 repetitions is\", rmse_main_linlog_irm_mean)\n",
    "print(\"Standard deviation of the RMSE is\", rmse_main_linlog_irm_std)"
   ]
  },
  {
   "cell_type": "code",
   "execution_count": 19,
   "id": "e21456ef",
   "metadata": {},
   "outputs": [
    {
     "name": "stdout",
     "output_type": "stream",
     "text": [
      "Mean of the propensity score's log loss across 3 repetitions is 0.5343917954144319\n",
      "Standard deviation of log loss is 0.0\n"
     ]
    }
   ],
   "source": [
    "print(\"Mean of the propensity score's log loss across 3 repetitions is\", logloss_prop_linlog_irm_mean)\n",
    "print(\"Standard deviation of log loss is\", logloss_prop_linlog_irm_std)"
   ]
  },
  {
   "cell_type": "markdown",
   "id": "neutral-converter",
   "metadata": {},
   "source": [
    "Next, let us find out if we are able to use ML methods to find estimators that have a lower bias and a smaller standard error than the benchmark."
   ]
  },
  {
   "cell_type": "markdown",
   "id": "723b8e6c",
   "metadata": {},
   "source": [
    "### Double Machine Learning based on Lasso\n",
    "\n",
    "We estimate the nuisance components $g_0$ and $m_0$ using lasso as provided by [scikit-learn](https://scikit-learn.org). We load the learner by initializing instances from the classes [LassoCV](https://scikit-learn.org/stable/modules/generated/sklearn.linear_model.LassoCV.html) and [LogisticRegressionCV](https://scikit-learn.org/stable/modules/generated/sklearn.linear_model.LogisticRegressionCV.html). Here we specify that the lasso should use the value of $\\lambda$ that minimizes the cross-validated mean squared error, which is based on 5-fold cross validation. We initialize the [DoubleMLIRM](https://docs.doubleml.org/stable/api/generated/doubleml.DoubleMLIRM.html) object and use the newly defined learners."
   ]
  },
  {
   "cell_type": "code",
   "execution_count": 20,
   "id": "73cbfd4b",
   "metadata": {},
   "outputs": [
    {
     "data": {
      "text/html": [
       "<div>\n",
       "<style scoped>\n",
       "    .dataframe tbody tr th:only-of-type {\n",
       "        vertical-align: middle;\n",
       "    }\n",
       "\n",
       "    .dataframe tbody tr th {\n",
       "        vertical-align: top;\n",
       "    }\n",
       "\n",
       "    .dataframe thead th {\n",
       "        text-align: right;\n",
       "    }\n",
       "</style>\n",
       "<table border=\"1\" class=\"dataframe\">\n",
       "  <thead>\n",
       "    <tr style=\"text-align: right;\">\n",
       "      <th></th>\n",
       "      <th>coef</th>\n",
       "      <th>std err</th>\n",
       "      <th>t</th>\n",
       "      <th>P&gt;|t|</th>\n",
       "      <th>2.5 %</th>\n",
       "      <th>97.5 %</th>\n",
       "    </tr>\n",
       "  </thead>\n",
       "  <tbody>\n",
       "    <tr>\n",
       "      <th>A</th>\n",
       "      <td>0.855559</td>\n",
       "      <td>0.070928</td>\n",
       "      <td>12.062417</td>\n",
       "      <td>1.668137e-33</td>\n",
       "      <td>0.716544</td>\n",
       "      <td>0.994575</td>\n",
       "    </tr>\n",
       "  </tbody>\n",
       "</table>\n",
       "</div>"
      ],
      "text/plain": [
       "       coef   std err          t         P>|t|     2.5 %    97.5 %\n",
       "A  0.855559  0.070928  12.062417  1.668137e-33  0.716544  0.994575"
      ]
     },
     "execution_count": 20,
     "metadata": {},
     "output_type": "execute_result"
    }
   ],
   "source": [
    "# Initialize Lasso learners\n",
    "lasso = make_pipeline(StandardScaler(), LassoCV(cv=5, max_iter=20000))      \n",
    "lasso_class = make_pipeline(StandardScaler(),\n",
    "                            LogisticRegressionCV(cv=5, penalty='l1', solver='liblinear',     \n",
    "                                                 Cs = 4, max_iter=1000))      \n",
    "\n",
    "# Initialize DoubleMLIRM model\n",
    "np.random.seed(1234)\n",
    "dml_irm_lasso = dml.DoubleMLIRM(data_dml,\n",
    "                          ml_g = lasso,\n",
    "                          ml_m = lasso_class,\n",
    "                          trimming_threshold = 0.025,                          \n",
    "                          n_folds = 3,\n",
    "                          n_rep = 3)\n",
    "\n",
    "dml_irm_lasso.fit(store_predictions=True)\n",
    "\n",
    "lasso_summary = dml_irm_lasso.summary\n",
    "lasso_summary"
   ]
  },
  {
   "cell_type": "code",
   "execution_count": 21,
   "id": "stock-bookmark",
   "metadata": {},
   "outputs": [
    {
     "name": "stdout",
     "output_type": "stream",
     "text": [
      "Bias: [0.05555945]\n"
     ]
    }
   ],
   "source": [
    "print(\"Bias:\", dml_irm_lasso.coef - 0.8)"
   ]
  },
  {
   "cell_type": "code",
   "execution_count": 22,
   "id": "85c6e74e",
   "metadata": {},
   "outputs": [],
   "source": [
    "# calculate mean and standard deviation of repetition RMSE's to evaluate main regression accuracy\n",
    "rmse_main_lasso_irm = pred_acc_irm(dml_irm_lasso, prop=False)\n",
    "rmse_main_lasso_irm_mean = np.mean(rmse_main_lasso_irm)\n",
    "rmse_main_lasso_irm_std = np.std(rmse_main_lasso_irm)\n",
    "\n",
    "# calculate mean and standard deviation of repetition log losses to evaluate propensity score accuracy\n",
    "logloss_prop_lasso_irm = pred_acc_irm(dml_irm_lasso, prop=True)\n",
    "logloss_prop_lasso_irm_mean = np.mean(logloss_prop_lasso_irm)\n",
    "logloss_prop_lasso_irm_std = np.std(logloss_prop_lasso_irm)"
   ]
  },
  {
   "cell_type": "code",
   "execution_count": 23,
   "id": "c659681b",
   "metadata": {},
   "outputs": [
    {
     "name": "stdout",
     "output_type": "stream",
     "text": [
      "Mean of the main regression RMSE across 3 repetitions is 1.1143405452234652\n",
      "Standard deviation of RMSE is 0.005869688113839954\n"
     ]
    }
   ],
   "source": [
    "print(\"Mean of the main regression RMSE across 3 repetitions is\", rmse_main_lasso_irm_mean)\n",
    "print(\"Standard deviation of RMSE is\", rmse_main_lasso_irm_std)"
   ]
  },
  {
   "cell_type": "code",
   "execution_count": 24,
   "id": "388cdfcf",
   "metadata": {},
   "outputs": [
    {
     "name": "stdout",
     "output_type": "stream",
     "text": [
      "Mean of the propensity score's log loss across 3 repetitions is 0.6686766530020503\n",
      "Standard deviation of log loss is 0.0032543941531603953\n"
     ]
    }
   ],
   "source": [
    "print(\"Mean of the propensity score's log loss across 3 repetitions is\", logloss_prop_lasso_irm_mean)\n",
    "print(\"Standard deviation of log loss is\", logloss_prop_lasso_irm_std)"
   ]
  },
  {
   "cell_type": "markdown",
   "id": "religious-algebra",
   "metadata": {},
   "source": [
    "We see that the lasso-based estimate for the ATE is $0.86$ and, hence, much closer to the true value of $0.8$ than in the benchmark $1.06$. Moreover, we can achieve improvements in terms of estimation precision as can be recognized from the smaller standard error. Also the prediction measures for the nuisance components are much smaller for Lasso than in the linear/logistic benchmark. Using the Lasso learners makes it now possible to conclude that the ATE is significantly different from zero at a significance level of 5%."
   ]
  },
  {
   "cell_type": "markdown",
   "id": "33d06b0d",
   "metadata": {},
   "source": [
    "### Double Machine Learning based on Random Forest"
   ]
  },
  {
   "cell_type": "markdown",
   "id": "4d9d008a-5b6a-4acf-93b9-b26599541653",
   "metadata": {},
   "source": [
    "Alternatively, we can repeat this procedure with other machine learning methods, for example a random forest learner as provided by the [RandomForestRegressor](https://scikit-learn.org/stable/modules/generated/sklearn.ensemble.RandomForestRegressor.html) and [RandomForestClassifier](https://scikit-learn.org/stable/modules/generated/sklearn.ensemble.RandomForestClassifier.html) class in [scikit-learn](https://scikit-learn.org)."
   ]
  },
  {
   "cell_type": "code",
   "execution_count": 25,
   "id": "2092891a",
   "metadata": {
    "tags": []
   },
   "outputs": [
    {
     "data": {
      "text/html": [
       "<div>\n",
       "<style scoped>\n",
       "    .dataframe tbody tr th:only-of-type {\n",
       "        vertical-align: middle;\n",
       "    }\n",
       "\n",
       "    .dataframe tbody tr th {\n",
       "        vertical-align: top;\n",
       "    }\n",
       "\n",
       "    .dataframe thead th {\n",
       "        text-align: right;\n",
       "    }\n",
       "</style>\n",
       "<table border=\"1\" class=\"dataframe\">\n",
       "  <thead>\n",
       "    <tr style=\"text-align: right;\">\n",
       "      <th></th>\n",
       "      <th>coef</th>\n",
       "      <th>std err</th>\n",
       "      <th>t</th>\n",
       "      <th>P&gt;|t|</th>\n",
       "      <th>2.5 %</th>\n",
       "      <th>97.5 %</th>\n",
       "    </tr>\n",
       "  </thead>\n",
       "  <tbody>\n",
       "    <tr>\n",
       "      <th>A</th>\n",
       "      <td>0.893176</td>\n",
       "      <td>0.077421</td>\n",
       "      <td>11.53655</td>\n",
       "      <td>8.631791e-31</td>\n",
       "      <td>0.741433</td>\n",
       "      <td>1.044919</td>\n",
       "    </tr>\n",
       "  </tbody>\n",
       "</table>\n",
       "</div>"
      ],
      "text/plain": [
       "       coef   std err         t         P>|t|     2.5 %    97.5 %\n",
       "A  0.893176  0.077421  11.53655  8.631791e-31  0.741433  1.044919"
      ]
     },
     "execution_count": 25,
     "metadata": {},
     "output_type": "execute_result"
    }
   ],
   "source": [
    "# Initialize Random Forest learners\n",
    "randomForest = RandomForestRegressor()\n",
    "randomForest_class = RandomForestClassifier()\n",
    "\n",
    "# Initialize DoubleMLIRM model\n",
    "np.random.seed(1234)\n",
    "dml_irm_forest = dml.DoubleMLIRM(data_dml,\n",
    "                                 ml_g = randomForest,\n",
    "                                 ml_m = randomForest_class,\n",
    "                                 trimming_threshold = 0.025,\n",
    "                                 n_folds = 3,\n",
    "                                 n_rep = 3)\n",
    "\n",
    "# Set nuisance-part specific parameters\n",
    "dml_irm_forest.set_ml_nuisance_params('ml_g0', 'A', {\n",
    "    'max_features': 200, 'n_estimators': 250})\n",
    "dml_irm_forest.set_ml_nuisance_params('ml_g1', 'A', {\n",
    "    'max_features': 200, 'n_estimators': 250})\n",
    "dml_irm_forest.set_ml_nuisance_params('ml_m', 'A', {\n",
    "    'max_features': 200, 'n_estimators': 250})\n",
    "\n",
    "dml_irm_forest.fit(store_predictions=True) \n",
    "\n",
    "forest_summary = dml_irm_forest.summary\n",
    "forest_summary"
   ]
  },
  {
   "cell_type": "code",
   "execution_count": 26,
   "id": "vital-insight",
   "metadata": {},
   "outputs": [
    {
     "name": "stdout",
     "output_type": "stream",
     "text": [
      "Bias: [0.09317591]\n"
     ]
    }
   ],
   "source": [
    "print(\"Bias:\", dml_irm_forest.coef - 0.8)"
   ]
  },
  {
   "cell_type": "code",
   "execution_count": 27,
   "id": "14c230b0",
   "metadata": {},
   "outputs": [],
   "source": [
    "# calculate mean and standard deviation of repetition RMSE's to evaluate main regression accuracy\n",
    "rmse_main_forest_irm = pred_acc_irm(dml_irm_forest, prop=False)\n",
    "rmse_main_forest_irm_mean = np.mean(rmse_main_forest_irm)\n",
    "rmse_main_forest_irm_std = np.std(rmse_main_forest_irm)\n",
    "\n",
    "# calculate mean and standard deviation of repetition log losses to evaluate propensity score accuracy\n",
    "logloss_prop_forest_irm = pred_acc_irm(dml_irm_forest, prop=True)\n",
    "logloss_prop_forest_irm_mean = np.mean(logloss_prop_forest_irm)\n",
    "logloss_prop_forest_irm_std = np.std(logloss_prop_forest_irm)"
   ]
  },
  {
   "cell_type": "code",
   "execution_count": 28,
   "id": "1d633282",
   "metadata": {},
   "outputs": [
    {
     "name": "stdout",
     "output_type": "stream",
     "text": [
      "Mean of the main regression RMSE across 3 repetitions is 1.1688034544446142\n",
      "Standard deviation of RMSE is 0.00826647072034282\n"
     ]
    }
   ],
   "source": [
    "print(\"Mean of the main regression RMSE across 3 repetitions is\", rmse_main_forest_irm_mean)\n",
    "print(\"Standard deviation of RMSE is\", rmse_main_forest_irm_std)"
   ]
  },
  {
   "cell_type": "code",
   "execution_count": 29,
   "id": "16a7a785",
   "metadata": {},
   "outputs": [
    {
     "name": "stdout",
     "output_type": "stream",
     "text": [
      "Mean of the propensity score's log loss across 3 repetitions is 0.6823242335385794\n",
      "Standard deviation of log loss is 0.0026223238604172463\n"
     ]
    }
   ],
   "source": [
    "print(\"Mean of the propensity score's log loss across 3 repetitions is\", logloss_prop_forest_irm_mean)\n",
    "print(\"Standard deviation of log loss is\", logloss_prop_forest_irm_std)"
   ]
  },
  {
   "cell_type": "markdown",
   "id": "d4b6e16b-6cb9-40d8-a4fa-c438f23b49f3",
   "metadata": {},
   "source": [
    "The results are relatively similar to the one obtained by lasso with a bias and standard errors that are slightly greater than before. The predictive accuracy of the random forest learners is also slightly worse than that of Lasso."
   ]
  },
  {
   "cell_type": "markdown",
   "id": "9ac68b60",
   "metadata": {},
   "source": [
    "### Double Machine Learning based on Extreme Gradient Boosting"
   ]
  },
  {
   "cell_type": "markdown",
   "id": "cc71c762-8497-43e5-a151-a5239641d510",
   "metadata": {},
   "source": [
    "Next, we estimate the ATE using extreme gradient boosting as provided by [xgboost](https://docs.getml.com/latest/api_reference/predictors.html)."
   ]
  },
  {
   "cell_type": "code",
   "execution_count": 30,
   "id": "90b9ef4e",
   "metadata": {},
   "outputs": [
    {
     "data": {
      "text/html": [
       "<div>\n",
       "<style scoped>\n",
       "    .dataframe tbody tr th:only-of-type {\n",
       "        vertical-align: middle;\n",
       "    }\n",
       "\n",
       "    .dataframe tbody tr th {\n",
       "        vertical-align: top;\n",
       "    }\n",
       "\n",
       "    .dataframe thead th {\n",
       "        text-align: right;\n",
       "    }\n",
       "</style>\n",
       "<table border=\"1\" class=\"dataframe\">\n",
       "  <thead>\n",
       "    <tr style=\"text-align: right;\">\n",
       "      <th></th>\n",
       "      <th>coef</th>\n",
       "      <th>std err</th>\n",
       "      <th>t</th>\n",
       "      <th>P&gt;|t|</th>\n",
       "      <th>2.5 %</th>\n",
       "      <th>97.5 %</th>\n",
       "    </tr>\n",
       "  </thead>\n",
       "  <tbody>\n",
       "    <tr>\n",
       "      <th>A</th>\n",
       "      <td>0.790906</td>\n",
       "      <td>0.104306</td>\n",
       "      <td>7.582588</td>\n",
       "      <td>3.387302e-14</td>\n",
       "      <td>0.586471</td>\n",
       "      <td>0.995341</td>\n",
       "    </tr>\n",
       "  </tbody>\n",
       "</table>\n",
       "</div>"
      ],
      "text/plain": [
       "       coef   std err         t         P>|t|     2.5 %    97.5 %\n",
       "A  0.790906  0.104306  7.582588  3.387302e-14  0.586471  0.995341"
      ]
     },
     "execution_count": 30,
     "metadata": {},
     "output_type": "execute_result"
    }
   ],
   "source": [
    "# Initialize Extreme Gradient Boosting learners\n",
    "boost = XGBRegressor(n_jobs=1, objective = \"reg:squarederror\")\n",
    "boost_class = XGBClassifier(use_label_encoder=False, n_jobs=1,\n",
    "                            objective = \"binary:logistic\", eval_metric = \"logloss\")\n",
    "\n",
    "# Initialize DoubleMLIRM model\n",
    "np.random.seed(1234)\n",
    "dml_irm_boost = dml.DoubleMLIRM(data_dml,\n",
    "                                ml_g = boost,\n",
    "                                ml_m = boost_class,\n",
    "                                trimming_threshold = 0.025,\n",
    "                                n_folds = 3,\n",
    "                                n_rep = 3)\n",
    "\n",
    "# Set nuisance-part specific parameters\n",
    "dml_irm_boost.set_ml_nuisance_params('ml_g0', 'A', {\n",
    "    'n_estimators': 30, 'eta': 0.2})\n",
    "dml_irm_boost.set_ml_nuisance_params('ml_g1', 'A', {\n",
    "    'n_estimators': 30, 'eta': 0.2})\n",
    "dml_irm_boost.set_ml_nuisance_params('ml_m', 'A', {\n",
    "    'n_estimators': 15, 'eta': 0.2})\n",
    "\n",
    "dml_irm_boost.fit(store_predictions=True)\n",
    "\n",
    "boost_summary = dml_irm_boost.summary\n",
    "boost_summary"
   ]
  },
  {
   "cell_type": "code",
   "execution_count": 31,
   "id": "traditional-ribbon",
   "metadata": {},
   "outputs": [
    {
     "name": "stdout",
     "output_type": "stream",
     "text": [
      "Bias: [-0.0090944]\n"
     ]
    }
   ],
   "source": [
    "print(\"Bias:\", dml_irm_boost.coef - 0.8)"
   ]
  },
  {
   "cell_type": "code",
   "execution_count": 32,
   "id": "efd04e78",
   "metadata": {},
   "outputs": [],
   "source": [
    "# calculate mean and standard deviation of repetition RMSE's to evaluate main regression accuracy\n",
    "rmse_main_boost_irm = pred_acc_irm(dml_irm_boost, prop=False)\n",
    "rmse_main_boost_irm_mean = np.mean(rmse_main_boost_irm)\n",
    "rmse_main_boost_irm_std = np.std(rmse_main_boost_irm)\n",
    "\n",
    "# calculate mean and standard deviation of repetition log losses to evaluate propensity score accuracy\n",
    "logloss_prop_boost_irm = pred_acc_irm(dml_irm_boost, prop=True)\n",
    "logloss_prop_boost_irm_mean = np.mean(logloss_prop_boost_irm)\n",
    "logloss_prop_boost_irm_std = np.std(logloss_prop_boost_irm)"
   ]
  },
  {
   "cell_type": "code",
   "execution_count": 33,
   "id": "114aa5cf",
   "metadata": {},
   "outputs": [
    {
     "name": "stdout",
     "output_type": "stream",
     "text": [
      "Mean of the main regression RMSE across 3 repetitions is 1.2287566646120192\n",
      "Standard deviation of RMSE is 0.010275338353331828\n"
     ]
    }
   ],
   "source": [
    "print(\"Mean of the main regression RMSE across 3 repetitions is\", rmse_main_boost_irm_mean)\n",
    "print(\"Standard deviation of RMSE is\", rmse_main_boost_irm_std)"
   ]
  },
  {
   "cell_type": "code",
   "execution_count": 34,
   "id": "c1ebde27",
   "metadata": {},
   "outputs": [
    {
     "name": "stdout",
     "output_type": "stream",
     "text": [
      "Mean of the propensity score's log loss across 3 repetitions is 0.7204831015081563\n",
      "Standard deviation of log loss is 0.01297502257820836\n"
     ]
    }
   ],
   "source": [
    "print(\"Mean of the propensity score's log loss across 3 repetitions is\", logloss_prop_boost_irm_mean)\n",
    "print(\"Standard deviation of log loss is\", logloss_prop_boost_irm_std)"
   ]
  },
  {
   "cell_type": "markdown",
   "id": "9ee7f068-1ac4-4d7d-99a7-5c68c91e8b51",
   "metadata": {},
   "source": [
    "The estimated coefficient is very close to the true ATE of $0.8$ but has a small negative bias. The interpretation of the results obtained with lasso, random forests and boosting are very similar. In all cases we are able to reject the null hypothesis that the ad has no effect on the sales."
   ]
  },
  {
   "cell_type": "markdown",
   "id": "fba54a14-c685-4948-819d-94a99d88e94a",
   "metadata": {},
   "source": [
    "#### IRM - Summary of coefficient estimates\n",
    "\n",
    "We save the estimates, bias and confidence intervals for later peresentation and comparision."
   ]
  },
  {
   "cell_type": "code",
   "execution_count": 35,
   "id": "5e16a294",
   "metadata": {
    "scrolled": false,
    "tags": []
   },
   "outputs": [
    {
     "data": {
      "text/html": [
       "<div>\n",
       "<style scoped>\n",
       "    .dataframe tbody tr th:only-of-type {\n",
       "        vertical-align: middle;\n",
       "    }\n",
       "\n",
       "    .dataframe tbody tr th {\n",
       "        vertical-align: top;\n",
       "    }\n",
       "\n",
       "    .dataframe thead th {\n",
       "        text-align: right;\n",
       "    }\n",
       "</style>\n",
       "<table border=\"1\" class=\"dataframe\">\n",
       "  <thead>\n",
       "    <tr style=\"text-align: right;\">\n",
       "      <th></th>\n",
       "      <th>coef</th>\n",
       "      <th>Bias</th>\n",
       "      <th>2.5 %</th>\n",
       "      <th>97.5 %</th>\n",
       "    </tr>\n",
       "  </thead>\n",
       "  <tbody>\n",
       "    <tr>\n",
       "      <th>regression</th>\n",
       "      <td>0.795</td>\n",
       "      <td>-0.005</td>\n",
       "      <td>0.625</td>\n",
       "      <td>0.966</td>\n",
       "    </tr>\n",
       "    <tr>\n",
       "      <th>lasso</th>\n",
       "      <td>0.856</td>\n",
       "      <td>0.056</td>\n",
       "      <td>0.717</td>\n",
       "      <td>0.995</td>\n",
       "    </tr>\n",
       "    <tr>\n",
       "      <th>forest</th>\n",
       "      <td>0.893</td>\n",
       "      <td>0.093</td>\n",
       "      <td>0.741</td>\n",
       "      <td>1.045</td>\n",
       "    </tr>\n",
       "    <tr>\n",
       "      <th>xgboost</th>\n",
       "      <td>0.791</td>\n",
       "      <td>-0.009</td>\n",
       "      <td>0.586</td>\n",
       "      <td>0.995</td>\n",
       "    </tr>\n",
       "  </tbody>\n",
       "</table>\n",
       "</div>"
      ],
      "text/plain": [
       "             coef   Bias  2.5 %  97.5 %\n",
       "regression  0.795 -0.005  0.625   0.966\n",
       "lasso       0.856  0.056  0.717   0.995\n",
       "forest      0.893  0.093  0.741   1.045\n",
       "xgboost     0.791 -0.009  0.586   0.995"
      ]
     },
     "execution_count": 35,
     "metadata": {},
     "output_type": "execute_result"
    }
   ],
   "source": [
    "irm_summary = pd.concat((reg_summary, lasso_summary, forest_summary, boost_summary))\n",
    "irm_summary.index = ['regression','lasso', 'forest', 'xgboost']\n",
    "irm_summary = irm_summary[['coef', '2.5 %', '97.5 %']]\n",
    "irm_summary.insert(1, \"Bias\", [irm_summary.loc['regression','coef'] - 0.8, \n",
    "                               irm_summary.loc['lasso','coef'] - 0.8, \n",
    "                               irm_summary.loc['forest','coef'] - 0.8, \n",
    "                               irm_summary.loc['xgboost','coef'] - 0.8])\n",
    "irm_summary.round(3)"
   ]
  },
  {
   "cell_type": "code",
   "execution_count": 36,
   "id": "4b478603",
   "metadata": {},
   "outputs": [
    {
     "data": {
      "image/png": "[encoded data removed]",
      "text/plain": [
       "<Figure size 360x270 with 1 Axes>"
      ]
     },
     "metadata": {},
     "output_type": "display_data"
    }
   ],
   "source": [
    "errors = np.full((2, irm_summary.shape[0]), np.nan)\n",
    "errors[0, :] = irm_summary['coef'] - irm_summary['2.5 %']\n",
    "errors[1, :] = irm_summary['97.5 %'] - irm_summary['coef']\n",
    "plt.errorbar(irm_summary.index, irm_summary.coef, fmt='o', yerr=errors)\n",
    "plt.axhline(y=0.8, color='r', linestyle='--', label=\"true value\")\n",
    "\n",
    "plt.title('Interactive Regression Model (IRM)')\n",
    "plt.xlabel('ML method')\n",
    "_ = plt.ylabel('Coefficients and 95%-CI')"
   ]
  },
  {
   "cell_type": "markdown",
   "id": "8c891e02",
   "metadata": {},
   "source": [
    "#### IRM - Summary of prediction assessment metric's mean values"
   ]
  },
  {
   "cell_type": "code",
   "execution_count": 37,
   "id": "6790aad8",
   "metadata": {},
   "outputs": [
    {
     "data": {
      "text/html": [
       "<div>\n",
       "<style scoped>\n",
       "    .dataframe tbody tr th:only-of-type {\n",
       "        vertical-align: middle;\n",
       "    }\n",
       "\n",
       "    .dataframe tbody tr th {\n",
       "        vertical-align: top;\n",
       "    }\n",
       "\n",
       "    .dataframe thead th {\n",
       "        text-align: right;\n",
       "    }\n",
       "</style>\n",
       "<table border=\"1\" class=\"dataframe\">\n",
       "  <thead>\n",
       "    <tr style=\"text-align: right;\">\n",
       "      <th></th>\n",
       "      <th>main RMSE</th>\n",
       "      <th>main RMSE (sd)</th>\n",
       "      <th>prop log loss</th>\n",
       "      <th>prop log loss (sd)</th>\n",
       "    </tr>\n",
       "  </thead>\n",
       "  <tbody>\n",
       "    <tr>\n",
       "      <th>regression</th>\n",
       "      <td>0.812</td>\n",
       "      <td>0.000</td>\n",
       "      <td>0.534</td>\n",
       "      <td>0.000</td>\n",
       "    </tr>\n",
       "    <tr>\n",
       "      <th>lasso</th>\n",
       "      <td>1.114</td>\n",
       "      <td>0.006</td>\n",
       "      <td>0.669</td>\n",
       "      <td>0.003</td>\n",
       "    </tr>\n",
       "    <tr>\n",
       "      <th>forest</th>\n",
       "      <td>1.169</td>\n",
       "      <td>0.008</td>\n",
       "      <td>0.682</td>\n",
       "      <td>0.003</td>\n",
       "    </tr>\n",
       "    <tr>\n",
       "      <th>xgboost</th>\n",
       "      <td>1.229</td>\n",
       "      <td>0.010</td>\n",
       "      <td>0.720</td>\n",
       "      <td>0.013</td>\n",
       "    </tr>\n",
       "  </tbody>\n",
       "</table>\n",
       "</div>"
      ],
      "text/plain": [
       "            main RMSE  main RMSE (sd)  prop log loss  prop log loss (sd)\n",
       "regression      0.812           0.000          0.534               0.000\n",
       "lasso           1.114           0.006          0.669               0.003\n",
       "forest          1.169           0.008          0.682               0.003\n",
       "xgboost         1.229           0.010          0.720               0.013"
      ]
     },
     "execution_count": 37,
     "metadata": {},
     "output_type": "execute_result"
    }
   ],
   "source": [
    "irm_rmse_index = ['regression','lasso', 'forest', 'xgboost']\n",
    "irm_rmse = pd.DataFrame([[rmse_main_linlog_irm_mean, rmse_main_linlog_irm_std,                          \n",
    "                         logloss_prop_linlog_irm_mean, logloss_prop_linlog_irm_std],\n",
    "                         [rmse_main_lasso_irm_mean, rmse_main_lasso_irm_std,\n",
    "                          logloss_prop_lasso_irm_mean, logloss_prop_lasso_irm_std],\n",
    "                         [rmse_main_forest_irm_mean, rmse_main_forest_irm_std,\n",
    "                          logloss_prop_forest_irm_mean, logloss_prop_forest_irm_std],\n",
    "                         [rmse_main_boost_irm_mean, rmse_main_boost_irm_std,\n",
    "                          logloss_prop_boost_irm_mean, logloss_prop_boost_irm_std]],\n",
    "                        index=irm_rmse_index,\n",
    "                        columns=['main RMSE', 'main RMSE (sd)',\n",
    "                                 'prop log loss', 'prop log loss (sd)'])\n",
    "irm_rmse.round(3)"
   ]
  },
  {
   "cell_type": "code",
   "execution_count": 40,
   "id": "a5be2641",
   "metadata": {},
   "outputs": [
    {
     "data": {
      "text/plain": [
       "<ErrorbarContainer object of 3 artists>"
      ]
     },
     "execution_count": 40,
     "metadata": {},
     "output_type": "execute_result"
    },
    {
     "data": {
      "image/png": "[encoded data removed]",
      "text/plain": [
       "<Figure size 360x270 with 1 Axes>"
      ]
     },
     "metadata": {},
     "output_type": "display_data"
    }
   ],
   "source": [
    "# graphical illustration of RMSE for main regression\n",
    "errors_irm_rmse = np.full((2, irm_rmse.shape[0]), np.nan)\n",
    "errors_irm_rmse[0, :] = irm_rmse['main RMSE'] - irm_rmse['main RMSE (sd)']\n",
    "errors_irm_rmse[1, :] = irm_rmse['main RMSE'] + irm_rmse['main RMSE (sd)']\n",
    "plt.errorbar(x=irm_rmse.index, y=irm_rmse['main RMSE'], fmt='x',\n",
    "            yerr=errors_irm_rmse, c='darkslategray')"
   ]
  },
  {
   "cell_type": "code",
   "execution_count": 45,
   "id": "d42b8ca8",
   "metadata": {},
   "outputs": [
    {
     "data": {
      "text/plain": [
       "regression    0.812050\n",
       "lasso         1.108471\n",
       "forest        1.160537\n",
       "xgboost       1.218481\n",
       "dtype: float64"
      ]
     },
     "execution_count": 45,
     "metadata": {},
     "output_type": "execute_result"
    }
   ],
   "source": [
    "irm_rmse['main RMSE'] - irm_rmse['main RMSE (sd)']"
   ]
  },
  {
   "cell_type": "code",
   "execution_count": 39,
   "id": "9255bc0a",
   "metadata": {},
   "outputs": [
    {
     "data": {
      "text/plain": [
       "<ErrorbarContainer object of 3 artists>"
      ]
     },
     "execution_count": 39,
     "metadata": {},
     "output_type": "execute_result"
    },
    {
     "data": {
      "image/png": "[encoded data removed]",
      "text/plain": [
       "<Figure size 360x270 with 1 Axes>"
      ]
     },
     "metadata": {},
     "output_type": "display_data"
    }
   ],
   "source": [
    "# graphical illustration of log loss for main regression\n",
    "errors_irm_logloss = np.full((2, irm_rmse.shape[0]), np.nan)\n",
    "errors_irm_logloss[0, :] = irm_rmse['prop log loss'] - irm_rmse['prop log loss (sd)']\n",
    "errors_irm_logloss[1, :] = irm_rmse['prop log loss'] + irm_rmse['prop log loss (sd)']\n",
    "plt.errorbar(x=irm_rmse.index, y=irm_rmse['prop log loss'], fmt='x',\n",
    "            yerr=errors_irm_logloss, c='darkslategray')"
   ]
  },
  {
   "cell_type": "markdown",
   "id": "27c6157d",
   "metadata": {},
   "source": [
    "### Inspection of the benchmark model\n",
    "\n",
    "It is natural to investigate why the the benchmark model performs so much worse as compared to the ML models. First of all, we can conclude that the predictive performance of the linear and logistic regression for the nuisance functions is considerably worse and more variable than for lasso, random forest and xgboost. Moreover, we can also inspect the propensity score estimates of the logistic regression which appear to be very close to zero and one for many observations.\n",
    "\n",
    "We first define a helper function that plots the propensity scores for each of the cross-fitting repetitions."
   ]
  },
  {
   "cell_type": "code",
   "execution_count": 40,
   "id": "78afa7eb",
   "metadata": {},
   "outputs": [],
   "source": [
    "def rep_propscore_plot(DoubleML):\n",
    "    \"\"\"\n",
    "    A function to create histograms as sublots for every repetition's propensity score density \n",
    "    of a Double Machine Learning model\n",
    "    \n",
    "    ...\n",
    "    \n",
    "    Parameters\n",
    "    ----------\n",
    "    DoubleML : doubleml\n",
    "        The Double Machine Learning model\n",
    "    \"\"\"\n",
    "    \n",
    "    \n",
    "    #export nuisance part from the DoubleML model\n",
    "    m = DoubleML.predictions.get('ml_m')\n",
    "    \n",
    "    # dimensions of nuisance array\n",
    "    h = m.shape[0]\n",
    "    rep = DoubleML.n_rep\n",
    "    \n",
    "    # create histograms as subplots covering the propensity score densities of all repetitions\n",
    "    fig, ax = plt.subplots(1, rep, figsize=[20,4.8])\n",
    "    for i in range(rep):\n",
    "        ax[i].hist(np.reshape(m[:,i], h), bins=25)\n",
    "        ax[i].set_title('repetition ' + str(i+1))\n",
    "        ax[i].set_xlabel(\"prop_score\")\n",
    "        ax[i].set_ylabel(\"density\")\n",
    "        \n",
    "    plt.show()"
   ]
  },
  {
   "cell_type": "code",
   "execution_count": 41,
   "id": "53d9d81d",
   "metadata": {},
   "outputs": [
    {
     "ename": "TypeError",
     "evalue": "'AxesSubplot' object is not subscriptable",
     "output_type": "error",
     "traceback": [
      "\u001b[1;31m---------------------------------------------------------------------------\u001b[0m",
      "\u001b[1;31mTypeError\u001b[0m                                 Traceback (most recent call last)",
      "\u001b[1;32m~\\AppData\\Local\\Temp/ipykernel_19728/494899183.py\u001b[0m in \u001b[0;36m<module>\u001b[1;34m\u001b[0m\n\u001b[1;32m----> 1\u001b[1;33m \u001b[0mrep_propscore_plot\u001b[0m\u001b[1;33m(\u001b[0m\u001b[0mdml_irm_regression\u001b[0m\u001b[1;33m)\u001b[0m\u001b[1;33m\u001b[0m\u001b[1;33m\u001b[0m\u001b[0m\n\u001b[0m",
      "\u001b[1;32m~\\AppData\\Local\\Temp/ipykernel_19728/230018885.py\u001b[0m in \u001b[0;36mrep_propscore_plot\u001b[1;34m(DoubleML)\u001b[0m\n\u001b[0;32m     23\u001b[0m     \u001b[0mfig\u001b[0m\u001b[1;33m,\u001b[0m \u001b[0max\u001b[0m \u001b[1;33m=\u001b[0m \u001b[0mplt\u001b[0m\u001b[1;33m.\u001b[0m\u001b[0msubplots\u001b[0m\u001b[1;33m(\u001b[0m\u001b[1;36m1\u001b[0m\u001b[1;33m,\u001b[0m \u001b[0mrep\u001b[0m\u001b[1;33m,\u001b[0m \u001b[0mfigsize\u001b[0m\u001b[1;33m=\u001b[0m\u001b[1;33m[\u001b[0m\u001b[1;36m20\u001b[0m\u001b[1;33m,\u001b[0m\u001b[1;36m4.8\u001b[0m\u001b[1;33m]\u001b[0m\u001b[1;33m)\u001b[0m\u001b[1;33m\u001b[0m\u001b[1;33m\u001b[0m\u001b[0m\n\u001b[0;32m     24\u001b[0m     \u001b[1;32mfor\u001b[0m \u001b[0mi\u001b[0m \u001b[1;32min\u001b[0m \u001b[0mrange\u001b[0m\u001b[1;33m(\u001b[0m\u001b[0mrep\u001b[0m\u001b[1;33m)\u001b[0m\u001b[1;33m:\u001b[0m\u001b[1;33m\u001b[0m\u001b[1;33m\u001b[0m\u001b[0m\n\u001b[1;32m---> 25\u001b[1;33m         \u001b[0max\u001b[0m\u001b[1;33m[\u001b[0m\u001b[0mi\u001b[0m\u001b[1;33m]\u001b[0m\u001b[1;33m.\u001b[0m\u001b[0mhist\u001b[0m\u001b[1;33m(\u001b[0m\u001b[0mnp\u001b[0m\u001b[1;33m.\u001b[0m\u001b[0mreshape\u001b[0m\u001b[1;33m(\u001b[0m\u001b[0mm\u001b[0m\u001b[1;33m[\u001b[0m\u001b[1;33m:\u001b[0m\u001b[1;33m,\u001b[0m\u001b[0mi\u001b[0m\u001b[1;33m]\u001b[0m\u001b[1;33m,\u001b[0m \u001b[0mh\u001b[0m\u001b[1;33m)\u001b[0m\u001b[1;33m,\u001b[0m \u001b[0mbins\u001b[0m\u001b[1;33m=\u001b[0m\u001b[1;36m25\u001b[0m\u001b[1;33m)\u001b[0m\u001b[1;33m\u001b[0m\u001b[1;33m\u001b[0m\u001b[0m\n\u001b[0m\u001b[0;32m     26\u001b[0m         \u001b[0max\u001b[0m\u001b[1;33m[\u001b[0m\u001b[0mi\u001b[0m\u001b[1;33m]\u001b[0m\u001b[1;33m.\u001b[0m\u001b[0mset_title\u001b[0m\u001b[1;33m(\u001b[0m\u001b[1;34m'repetition '\u001b[0m \u001b[1;33m+\u001b[0m \u001b[0mstr\u001b[0m\u001b[1;33m(\u001b[0m\u001b[0mi\u001b[0m\u001b[1;33m+\u001b[0m\u001b[1;36m1\u001b[0m\u001b[1;33m)\u001b[0m\u001b[1;33m)\u001b[0m\u001b[1;33m\u001b[0m\u001b[1;33m\u001b[0m\u001b[0m\n\u001b[0;32m     27\u001b[0m         \u001b[0max\u001b[0m\u001b[1;33m[\u001b[0m\u001b[0mi\u001b[0m\u001b[1;33m]\u001b[0m\u001b[1;33m.\u001b[0m\u001b[0mset_xlabel\u001b[0m\u001b[1;33m(\u001b[0m\u001b[1;34m\"prop_score\"\u001b[0m\u001b[1;33m)\u001b[0m\u001b[1;33m\u001b[0m\u001b[1;33m\u001b[0m\u001b[0m\n",
      "\u001b[1;31mTypeError\u001b[0m: 'AxesSubplot' object is not subscriptable"
     ]
    },
    {
     "data": {
      "image/png": "[encoded data removed]",
      "text/plain": [
       "<Figure size 1440x345.6 with 1 Axes>"
      ]
     },
     "metadata": {},
     "output_type": "display_data"
    }
   ],
   "source": [
    "rep_propscore_plot(dml_irm_regression)"
   ]
  },
  {
   "cell_type": "markdown",
   "id": "4f8d0f9f",
   "metadata": {},
   "source": [
    "Let's compare this to the corresponding plot for the lasso-based model."
   ]
  },
  {
   "cell_type": "code",
   "execution_count": 42,
   "id": "e67ebd28",
   "metadata": {},
   "outputs": [
    {
     "data": {
      "image/png": "[encoded data removed]",
      "text/plain": [
       "<Figure size 1440x345.6 with 3 Axes>"
      ]
     },
     "metadata": {},
     "output_type": "display_data"
    }
   ],
   "source": [
    "rep_propscore_plot(dml_irm_lasso)"
   ]
  },
  {
   "cell_type": "markdown",
   "id": "b282c8d9",
   "metadata": {},
   "source": [
    "We observe that the propensity score estimates of the lasso-based model are more centered and only close to zero and one for very few observations."
   ]
  },
  {
   "cell_type": "markdown",
   "id": "b29e412d-d86f-46b4-840f-cbbe082faf0b",
   "metadata": {},
   "source": [
    "### Conclusion\n",
    "\n",
    "We can conclude that the interactive regression model (IRM) estimates are close to the true coefficient value, if the nuisance components are estimated with machine learning methods. The performance of Lasso and the tree-based methods random forests and extreme gradient boosting are comparable. All of the ML-based estimators have exhibited a superior performance to the benchmark based on linear and logistic regression, which seems to be rather unstable in the data example considered.\n"
   ]
  },
  {
   "cell_type": "markdown",
   "id": "f50297c5",
   "metadata": {},
   "source": [
    "## 2. Partially Linear Regression Model (PLR)\n",
    "\n",
    "The [DoubleML](https://docs.doubleml.org/stable/index.html) package also includes the [Partial Linear Regression (PLR)](https://docs.doubleml.org/stable/guide/models.html#partially-linear-regression-model-plr) model, which assumes the population regression has a linear and additive structure. Although in reality, we never know if this structure really holds for the underlying data generating process, we can apply this model and see how the estimates compare to those from the IRM."
   ]
  },
  {
   "cell_type": "markdown",
   "id": "fa24e6e1-b878-401f-b38a-c29cc0620c2c",
   "metadata": {},
   "source": [
    "We estimate the function $g_0$ and $m_0$ in the following PLR model:\n",
    "\n",
    "\\begin{eqnarray}\n",
    "& Y = D\\theta_0 + g_0(X) + \\zeta, &\\quad E[\\zeta \\mid D,X]= 0,\\\\\n",
    "& D = m_0(X) +  V, &\\quad E[V \\mid X] = 0.\n",
    "\\end{eqnarray}\n",
    "\n",
    "To estimate the causal parameter $\\theta_0$, we use double machine learning with 3-fold cross-fitting again. The steps of our analysis are very similar to the IRM cases with the difference being that we use a model class [DoubleMLPLR](https://docs.doubleml.org/stable/api/generated/doubleml.DoubleMLPLR.html) for estimation."
   ]
  },
  {
   "cell_type": "markdown",
   "id": "8e7ad0b5",
   "metadata": {},
   "source": [
    "### Assess predictive performance in the PLR"
   ]
  },
  {
   "cell_type": "markdown",
   "id": "73c26a84",
   "metadata": {},
   "source": [
    "As in the IRM, we want to calculate mean and standard deviation of the RMSE / log loss values across all repetitions to evaluate the prediction performance. Once again, a helper function is used as follows:"
   ]
  },
  {
   "cell_type": "code",
   "execution_count": 43,
   "id": "54a843e3",
   "metadata": {},
   "outputs": [],
   "source": [
    "def pred_acc_plr(DoubleML, prop):\n",
    "    \"\"\"\n",
    "    A function to calculate prediction accuracy values for every repetition\n",
    "    of a Double Machine Learning model using PLR, DoubleMLPLR\n",
    "    \n",
    "    ...\n",
    "    \n",
    "    Parameters\n",
    "    ----------\n",
    "    DoubleML : doubleml.double_ml_plr.DoubleMLPLR\n",
    "        The PLR Double Machine Learning model\n",
    "    prop : bool\n",
    "        Indication if RMSE values have to be computed for main regression or log loss values for propensity score\n",
    "    \"\"\"\n",
    "    \n",
    "    \n",
    "    # export data, fitted coefficient and predictions of the DoubleML model\n",
    "    y = DoubleML._dml_data.y\n",
    "    d = DoubleML._dml_data.d\n",
    "    theta = DoubleML.coef\n",
    "    g0 = DoubleML.predictions.get('ml_g')\n",
    "    m = DoubleML.predictions.get('ml_m')\n",
    "    \n",
    "    # dimensions of prediction array\n",
    "    h = g0.shape[0]\n",
    "    w = DoubleML.n_rep\n",
    "    \n",
    "    # check whether treatment is binary \n",
    "    if np.isin(d, [0,1]).all() == False:\n",
    "        raise ValueError(\"Treatment must be a binary variable.\")\n",
    "        \n",
    "    # prepare array to store prediction accuracy values\n",
    "    pred_acc_array = np.zeros((w,))\n",
    "    \n",
    "     # check whether to assess main regression or propensity score accuracy:   \n",
    "    if prop == False:\n",
    "        \n",
    "        # evaluate main regression accuracy\n",
    "        # export array with prediction values\n",
    "        export_pred_array = np.zeros((h, w))      \n",
    "        for i in range(w):\n",
    "            for j in range(h):\n",
    "                export_pred_array[j,i] = theta*d[j] + g0[j,i]\n",
    "        \n",
    "        # fill array that contains rmse of each repetition\n",
    "        for i in range(w):\n",
    "            pred_acc_array[i] = mean_squared_error(y, export_pred_array[:,i], squared=False)\n",
    "    \n",
    "    else:\n",
    "        \n",
    "        # evaluate propensity score accuracy\n",
    "        # fill array that contains log loss of each repetition\n",
    "        for i in range(w):\n",
    "            pred_acc_array[i] = log_loss(d, m[:,i], eps=0.025)\n",
    "    \n",
    "    return pred_acc_array"
   ]
  },
  {
   "cell_type": "markdown",
   "id": "331a36d6",
   "metadata": {},
   "source": [
    "### Benchmark: Model based on Linear and Logistic Regression"
   ]
  },
  {
   "cell_type": "code",
   "execution_count": 44,
   "id": "1432e567-d221-490d-9361-39b9072cb6d4",
   "metadata": {
    "scrolled": true,
    "tags": []
   },
   "outputs": [
    {
     "data": {
      "text/html": [
       "<div>\n",
       "<style scoped>\n",
       "    .dataframe tbody tr th:only-of-type {\n",
       "        vertical-align: middle;\n",
       "    }\n",
       "\n",
       "    .dataframe tbody tr th {\n",
       "        vertical-align: top;\n",
       "    }\n",
       "\n",
       "    .dataframe thead th {\n",
       "        text-align: right;\n",
       "    }\n",
       "</style>\n",
       "<table border=\"1\" class=\"dataframe\">\n",
       "  <thead>\n",
       "    <tr style=\"text-align: right;\">\n",
       "      <th></th>\n",
       "      <th>coef</th>\n",
       "      <th>std err</th>\n",
       "      <th>t</th>\n",
       "      <th>P&gt;|t|</th>\n",
       "      <th>2.5 %</th>\n",
       "      <th>97.5 %</th>\n",
       "    </tr>\n",
       "  </thead>\n",
       "  <tbody>\n",
       "    <tr>\n",
       "      <th>A</th>\n",
       "      <td>0.784999</td>\n",
       "      <td>0.067127</td>\n",
       "      <td>11.694191</td>\n",
       "      <td>1.364815e-31</td>\n",
       "      <td>0.653432</td>\n",
       "      <td>0.916565</td>\n",
       "    </tr>\n",
       "  </tbody>\n",
       "</table>\n",
       "</div>"
      ],
      "text/plain": [
       "       coef   std err          t         P>|t|     2.5 %    97.5 %\n",
       "A  0.784999  0.067127  11.694191  1.364815e-31  0.653432  0.916565"
      ]
     },
     "execution_count": 44,
     "metadata": {},
     "output_type": "execute_result"
    }
   ],
   "source": [
    "# Initialize Linear and Logistic Regression learners\n",
    "linreg = make_pipeline(StandardScaler(), LinearRegression())\n",
    "logreg_class = make_pipeline(StandardScaler(), LogisticRegression(penalty=\"none\"))\n",
    "\n",
    "# Initialize DoubleMLPLR model\n",
    "np.random.seed(1234)\n",
    "dml_plr_regression = dml.DoubleMLPLR(data_dml,\n",
    "                                     ml_g = linreg,\n",
    "                                     ml_m = logreg_class,\n",
    "                                     n_folds = 3,\n",
    "                                     n_rep = 3)\n",
    "\n",
    "dml_plr_regression.fit(store_predictions=True)\n",
    "\n",
    "reg_summary = dml_plr_regression.summary\n",
    "reg_summary"
   ]
  },
  {
   "cell_type": "code",
   "execution_count": 45,
   "id": "ff708453",
   "metadata": {},
   "outputs": [
    {
     "name": "stdout",
     "output_type": "stream",
     "text": [
      "Bias: [-0.01500149]\n"
     ]
    }
   ],
   "source": [
    "print(\"Bias:\", dml_plr_regression.coef - 0.8)"
   ]
  },
  {
   "cell_type": "code",
   "execution_count": 46,
   "id": "88392566",
   "metadata": {},
   "outputs": [],
   "source": [
    "# calculate mean and standard deviation of repetition RMSE's to evaluate main regression accuracy\n",
    "rmse_main_linlog_plr = pred_acc_plr(dml_plr_regression, prop=False)\n",
    "rmse_main_linlog_plr_mean = np.mean(rmse_main_linlog_plr)\n",
    "rmse_main_linlog_plr_std = np.std(rmse_main_linlog_plr)\n",
    "\n",
    "# calculate mean and standard deviation of repetition log losses to evaluate propensity score accuracy\n",
    "logloss_prop_linlog_plr = pred_acc_plr(dml_plr_regression, prop=True)\n",
    "logloss_prop_linlog_plr_mean = np.mean(logloss_prop_linlog_plr)\n",
    "logloss_prop_linlog_plr_std = np.std(logloss_prop_linlog_plr)"
   ]
  },
  {
   "cell_type": "code",
   "execution_count": 47,
   "id": "08227dfc",
   "metadata": {
    "scrolled": true
   },
   "outputs": [
    {
     "name": "stdout",
     "output_type": "stream",
     "text": [
      "Mean of the main regression RMSE across 3 repetitions is 1.3418428467276253\n",
      "Standard deviation of RMSE is 0.009847706467828324\n"
     ]
    }
   ],
   "source": [
    "print(\"Mean of the main regression RMSE across 3 repetitions is\", rmse_main_linlog_plr_mean)\n",
    "print(\"Standard deviation of RMSE is\", rmse_main_linlog_plr_std)"
   ]
  },
  {
   "cell_type": "code",
   "execution_count": 48,
   "id": "c91ed6e8",
   "metadata": {},
   "outputs": [
    {
     "name": "stdout",
     "output_type": "stream",
     "text": [
      "Mean of the propensity score's log loss across 3 repetitions is 1.0228568161263911\n",
      "Standard deviation of log loss is 0.027536454508812133\n"
     ]
    }
   ],
   "source": [
    "print(\"Mean of the propensity score's log loss across 3 repetitions is\", logloss_prop_linlog_plr_mean)\n",
    "print(\"Standard deviation of log loss is\", logloss_prop_linlog_plr_std)"
   ]
  },
  {
   "cell_type": "markdown",
   "id": "4dd8948f",
   "metadata": {},
   "source": [
    "### Double Machine Learning based on Lasso"
   ]
  },
  {
   "cell_type": "code",
   "execution_count": 49,
   "id": "0bbbc3ce",
   "metadata": {},
   "outputs": [
    {
     "data": {
      "text/html": [
       "<div>\n",
       "<style scoped>\n",
       "    .dataframe tbody tr th:only-of-type {\n",
       "        vertical-align: middle;\n",
       "    }\n",
       "\n",
       "    .dataframe tbody tr th {\n",
       "        vertical-align: top;\n",
       "    }\n",
       "\n",
       "    .dataframe thead th {\n",
       "        text-align: right;\n",
       "    }\n",
       "</style>\n",
       "<table border=\"1\" class=\"dataframe\">\n",
       "  <thead>\n",
       "    <tr style=\"text-align: right;\">\n",
       "      <th></th>\n",
       "      <th>coef</th>\n",
       "      <th>std err</th>\n",
       "      <th>t</th>\n",
       "      <th>P&gt;|t|</th>\n",
       "      <th>2.5 %</th>\n",
       "      <th>97.5 %</th>\n",
       "    </tr>\n",
       "  </thead>\n",
       "  <tbody>\n",
       "    <tr>\n",
       "      <th>A</th>\n",
       "      <td>0.804795</td>\n",
       "      <td>0.070271</td>\n",
       "      <td>11.452807</td>\n",
       "      <td>2.276523e-30</td>\n",
       "      <td>0.667067</td>\n",
       "      <td>0.942522</td>\n",
       "    </tr>\n",
       "  </tbody>\n",
       "</table>\n",
       "</div>"
      ],
      "text/plain": [
       "       coef   std err          t         P>|t|     2.5 %    97.5 %\n",
       "A  0.804795  0.070271  11.452807  2.276523e-30  0.667067  0.942522"
      ]
     },
     "execution_count": 49,
     "metadata": {},
     "output_type": "execute_result"
    }
   ],
   "source": [
    "# Initialize DoubleMLPLR model\n",
    "np.random.seed(1234)\n",
    "dml_plr_lasso = dml.DoubleMLPLR(data_dml,\n",
    "                                ml_g = lasso,\n",
    "                                ml_m = lasso_class,\n",
    "                                n_folds = 3,\n",
    "                                n_rep = 3)\n",
    "\n",
    "dml_plr_lasso.fit(store_predictions=True)\n",
    "\n",
    "lasso_summary=dml_plr_lasso.summary\n",
    "lasso_summary"
   ]
  },
  {
   "cell_type": "code",
   "execution_count": 50,
   "id": "30aef0c8",
   "metadata": {},
   "outputs": [
    {
     "name": "stdout",
     "output_type": "stream",
     "text": [
      "Bias: [0.00479477]\n"
     ]
    }
   ],
   "source": [
    "print(\"Bias:\", dml_plr_lasso.coef - 0.8)"
   ]
  },
  {
   "cell_type": "code",
   "execution_count": 51,
   "id": "96383f94",
   "metadata": {},
   "outputs": [],
   "source": [
    "# calculate mean and standard deviation of repetition RMSE's to evaluate main regression accuracy\n",
    "rmse_main_lasso_plr = pred_acc_plr(dml_plr_lasso, prop=False)\n",
    "rmse_main_lasso_plr_mean = np.mean(rmse_main_lasso_plr)\n",
    "rmse_main_lasso_plr_std = np.std(rmse_main_lasso_plr)\n",
    "\n",
    "# calculate mean and standard deviation of repetition log losses to evaluate propensity score accuracy\n",
    "logloss_prop_lasso_plr = pred_acc_plr(dml_plr_lasso, prop=True)\n",
    "logloss_prop_lasso_plr_mean = np.mean(logloss_prop_lasso_plr)\n",
    "logloss_prop_lasso_plr_std = np.std(logloss_prop_lasso_plr)"
   ]
  },
  {
   "cell_type": "code",
   "execution_count": 52,
   "id": "10a66c25",
   "metadata": {},
   "outputs": [
    {
     "name": "stdout",
     "output_type": "stream",
     "text": [
      "Mean of the main regression RMSE across 3 repetitions is 1.1394799633725696\n",
      "Standard deviation of RMSE is 0.003190385536736178\n"
     ]
    }
   ],
   "source": [
    "print(\"Mean of the main regression RMSE across 3 repetitions is\", rmse_main_lasso_plr_mean)\n",
    "print(\"Standard deviation of RMSE is\", rmse_main_lasso_plr_std)"
   ]
  },
  {
   "cell_type": "code",
   "execution_count": 53,
   "id": "afe3b2b9",
   "metadata": {},
   "outputs": [
    {
     "name": "stdout",
     "output_type": "stream",
     "text": [
      "Mean of the propensity score's log loss across 3 repetitions is 0.6686763881131824\n",
      "Standard deviation of log loss 0.003254281706002184\n"
     ]
    }
   ],
   "source": [
    "print(\"Mean of the propensity score's log loss across 3 repetitions is\", logloss_prop_lasso_plr_mean)\n",
    "print(\"Standard deviation of log loss\", logloss_prop_lasso_plr_std)"
   ]
  },
  {
   "cell_type": "markdown",
   "id": "a4ed2694",
   "metadata": {},
   "source": [
    "### Double Machine Learning based on Random Forests"
   ]
  },
  {
   "cell_type": "code",
   "execution_count": 54,
   "id": "e5f3ac90",
   "metadata": {},
   "outputs": [
    {
     "data": {
      "text/html": [
       "<div>\n",
       "<style scoped>\n",
       "    .dataframe tbody tr th:only-of-type {\n",
       "        vertical-align: middle;\n",
       "    }\n",
       "\n",
       "    .dataframe tbody tr th {\n",
       "        vertical-align: top;\n",
       "    }\n",
       "\n",
       "    .dataframe thead th {\n",
       "        text-align: right;\n",
       "    }\n",
       "</style>\n",
       "<table border=\"1\" class=\"dataframe\">\n",
       "  <thead>\n",
       "    <tr style=\"text-align: right;\">\n",
       "      <th></th>\n",
       "      <th>coef</th>\n",
       "      <th>std err</th>\n",
       "      <th>t</th>\n",
       "      <th>P&gt;|t|</th>\n",
       "      <th>2.5 %</th>\n",
       "      <th>97.5 %</th>\n",
       "    </tr>\n",
       "  </thead>\n",
       "  <tbody>\n",
       "    <tr>\n",
       "      <th>A</th>\n",
       "      <td>0.799307</td>\n",
       "      <td>0.073297</td>\n",
       "      <td>10.905028</td>\n",
       "      <td>1.090595e-27</td>\n",
       "      <td>0.655647</td>\n",
       "      <td>0.942967</td>\n",
       "    </tr>\n",
       "  </tbody>\n",
       "</table>\n",
       "</div>"
      ],
      "text/plain": [
       "       coef   std err          t         P>|t|     2.5 %    97.5 %\n",
       "A  0.799307  0.073297  10.905028  1.090595e-27  0.655647  0.942967"
      ]
     },
     "execution_count": 54,
     "metadata": {},
     "output_type": "execute_result"
    }
   ],
   "source": [
    "# Initialize Random Forest learners\n",
    "randomForest = RandomForestRegressor()\n",
    "randomForest_class = RandomForestClassifier()\n",
    "\n",
    "# Initialize DoubleMLPLR model\n",
    "np.random.seed(1234)\n",
    "dml_plr_forest = dml.DoubleMLPLR(data_dml,\n",
    "                                 ml_g = randomForest,\n",
    "                                 ml_m = randomForest_class,\n",
    "                                 n_folds = 3,\n",
    "                                 n_rep = 3)\n",
    "\n",
    "dml_plr_forest.fit(store_predictions=True)\n",
    "\n",
    "forest_summary = dml_plr_forest.summary\n",
    "forest_summary"
   ]
  },
  {
   "cell_type": "code",
   "execution_count": 55,
   "id": "4c40246d",
   "metadata": {},
   "outputs": [
    {
     "name": "stdout",
     "output_type": "stream",
     "text": [
      "Bias: [-0.00069288]\n"
     ]
    }
   ],
   "source": [
    "print(\"Bias:\", dml_plr_forest.coef - 0.8)"
   ]
  },
  {
   "cell_type": "code",
   "execution_count": 56,
   "id": "a977c34b",
   "metadata": {},
   "outputs": [],
   "source": [
    "# calculate mean and standard deviation of repetition RMSE's to evaluate main regression accuracy\n",
    "rmse_main_forest_plr = pred_acc_plr(dml_plr_forest, prop=False)\n",
    "rmse_main_forest_plr_mean = np.mean(rmse_main_forest_plr)\n",
    "rmse_main_forest_plr_std = np.std(rmse_main_forest_plr)\n",
    "\n",
    "# calculate mean and standard deviation of repetition log losses to evaluate propensity score accuracy\n",
    "logloss_prop_forest_plr = pred_acc_plr(dml_plr_forest, prop=True)\n",
    "logloss_prop_forest_plr_mean = np.mean(logloss_prop_forest_plr)\n",
    "logloss_prop_forest_plr_std = np.std(logloss_prop_forest_plr)"
   ]
  },
  {
   "cell_type": "code",
   "execution_count": 57,
   "id": "1f54fed6",
   "metadata": {},
   "outputs": [
    {
     "name": "stdout",
     "output_type": "stream",
     "text": [
      "Mean of the main regression RMSE across 3 repetitions is 1.1886867050333019\n",
      "Standard deviation of RMSE is 0.006048072563384578\n"
     ]
    }
   ],
   "source": [
    "print(\"Mean of the main regression RMSE across 3 repetitions is\", rmse_main_forest_plr_mean)\n",
    "print(\"Standard deviation of RMSE is\", rmse_main_forest_plr_std)"
   ]
  },
  {
   "cell_type": "code",
   "execution_count": 58,
   "id": "8101acf6",
   "metadata": {},
   "outputs": [
    {
     "name": "stdout",
     "output_type": "stream",
     "text": [
      "Mean of the propensity score's log loss across 3 repetitions is 0.6836880652313276\n",
      "Standard deviation of log loss is 0.005321479254441978\n"
     ]
    }
   ],
   "source": [
    "print(\"Mean of the propensity score's log loss across 3 repetitions is\", logloss_prop_forest_plr_mean)\n",
    "print(\"Standard deviation of log loss is\", logloss_prop_forest_plr_std)"
   ]
  },
  {
   "cell_type": "markdown",
   "id": "6aa9af04",
   "metadata": {},
   "source": [
    "### Double Machine Learning based on Extreme Gradient Boosting"
   ]
  },
  {
   "cell_type": "code",
   "execution_count": 59,
   "id": "6fab5d3a",
   "metadata": {},
   "outputs": [
    {
     "data": {
      "text/html": [
       "<div>\n",
       "<style scoped>\n",
       "    .dataframe tbody tr th:only-of-type {\n",
       "        vertical-align: middle;\n",
       "    }\n",
       "\n",
       "    .dataframe tbody tr th {\n",
       "        vertical-align: top;\n",
       "    }\n",
       "\n",
       "    .dataframe thead th {\n",
       "        text-align: right;\n",
       "    }\n",
       "</style>\n",
       "<table border=\"1\" class=\"dataframe\">\n",
       "  <thead>\n",
       "    <tr style=\"text-align: right;\">\n",
       "      <th></th>\n",
       "      <th>coef</th>\n",
       "      <th>std err</th>\n",
       "      <th>t</th>\n",
       "      <th>P&gt;|t|</th>\n",
       "      <th>2.5 %</th>\n",
       "      <th>97.5 %</th>\n",
       "    </tr>\n",
       "  </thead>\n",
       "  <tbody>\n",
       "    <tr>\n",
       "      <th>A</th>\n",
       "      <td>0.82384</td>\n",
       "      <td>0.071676</td>\n",
       "      <td>11.493988</td>\n",
       "      <td>1.414286e-30</td>\n",
       "      <td>0.683358</td>\n",
       "      <td>0.964321</td>\n",
       "    </tr>\n",
       "  </tbody>\n",
       "</table>\n",
       "</div>"
      ],
      "text/plain": [
       "      coef   std err          t         P>|t|     2.5 %    97.5 %\n",
       "A  0.82384  0.071676  11.493988  1.414286e-30  0.683358  0.964321"
      ]
     },
     "execution_count": 59,
     "metadata": {},
     "output_type": "execute_result"
    }
   ],
   "source": [
    "# Initialize Extreme Gradient Boosting learners\n",
    "boost = XGBRegressor(n_jobs = 1, objective = \"reg:squarederror\",                        \n",
    "                     eta = 0.1, n_estimators = 57, max_depth = 2)\n",
    "boost_class = XGBClassifier(use_label_encoder=False, n_jobs=1,\n",
    "                            objective = \"binary:logistic\",\n",
    "                            eval_metric = \"logloss\",\n",
    "                            eta = 0.1, n_estimators = 10,\n",
    "                            max_depth = 3)\n",
    "\n",
    "# Initialize DoubleMLPLR model\n",
    "np.random.seed(1234)\n",
    "dml_plr_boost = dml.DoubleMLPLR(data_dml,\n",
    "                                ml_g = boost,\n",
    "                                ml_m = boost_class,\n",
    "                                n_folds = 3,\n",
    "                                n_rep = 3)\n",
    "\n",
    "dml_plr_boost.fit(store_predictions=True)\n",
    "\n",
    "boost_summary = dml_plr_boost.summary\n",
    "boost_summary"
   ]
  },
  {
   "cell_type": "code",
   "execution_count": 60,
   "id": "6e3252f8",
   "metadata": {},
   "outputs": [
    {
     "name": "stdout",
     "output_type": "stream",
     "text": [
      "Bias: [0.02383965]\n"
     ]
    }
   ],
   "source": [
    "print(\"Bias:\", dml_plr_boost.coef - 0.8)"
   ]
  },
  {
   "cell_type": "code",
   "execution_count": 61,
   "id": "e90a61cc",
   "metadata": {},
   "outputs": [],
   "source": [
    "# calculate mean and standard deviation of repetition RMSE's to evaluate main regression accuracy\n",
    "rmse_main_boost_plr = pred_acc_plr(dml_plr_boost, prop=False)\n",
    "rmse_main_boost_plr_mean = np.mean(rmse_main_boost_plr)\n",
    "rmse_main_boost_plr_std = np.std(rmse_main_boost_plr)\n",
    "\n",
    "# calculate mean and standard deviation of repetition log losses to evaluate propensity score accuracy\n",
    "logloss_prop_boost_plr = pred_acc_plr(dml_plr_boost, prop=True)\n",
    "logloss_prop_boost_plr_mean = np.mean(logloss_prop_boost_plr)\n",
    "logloss_prop_boost_plr_std = np.std(logloss_prop_boost_plr)"
   ]
  },
  {
   "cell_type": "code",
   "execution_count": 62,
   "id": "72121d00",
   "metadata": {},
   "outputs": [
    {
     "name": "stdout",
     "output_type": "stream",
     "text": [
      "Mean of the main regression RMSE across 3 repetitions is 1.1560362080432272\n",
      "Standard deviation of RMSE is 0.0027129250049691073\n"
     ]
    }
   ],
   "source": [
    "print(\"Mean of the main regression RMSE across 3 repetitions is\", rmse_main_boost_plr_mean)\n",
    "print(\"Standard deviation of RMSE is\", rmse_main_boost_plr_std)"
   ]
  },
  {
   "cell_type": "code",
   "execution_count": 63,
   "id": "8513cd4e",
   "metadata": {},
   "outputs": [
    {
     "name": "stdout",
     "output_type": "stream",
     "text": [
      "Mean of the propensity score's log loss across 3 repetitions is 0.677578683851663\n",
      "Standard deviation of log loss is 0.005774390874769318\n"
     ]
    }
   ],
   "source": [
    "print(\"Mean of the propensity score's log loss across 3 repetitions is\", logloss_prop_boost_plr_mean)\n",
    "print(\"Standard deviation of log loss is\", logloss_prop_boost_plr_std)"
   ]
  },
  {
   "cell_type": "markdown",
   "id": "a979a78b",
   "metadata": {},
   "source": [
    "#### PLR - Summary of coefficient estimates"
   ]
  },
  {
   "cell_type": "code",
   "execution_count": 64,
   "id": "dba8d33c",
   "metadata": {
    "scrolled": true
   },
   "outputs": [
    {
     "data": {
      "text/html": [
       "<div>\n",
       "<style scoped>\n",
       "    .dataframe tbody tr th:only-of-type {\n",
       "        vertical-align: middle;\n",
       "    }\n",
       "\n",
       "    .dataframe tbody tr th {\n",
       "        vertical-align: top;\n",
       "    }\n",
       "\n",
       "    .dataframe thead th {\n",
       "        text-align: right;\n",
       "    }\n",
       "</style>\n",
       "<table border=\"1\" class=\"dataframe\">\n",
       "  <thead>\n",
       "    <tr style=\"text-align: right;\">\n",
       "      <th></th>\n",
       "      <th>coef</th>\n",
       "      <th>Bias</th>\n",
       "      <th>2.5 %</th>\n",
       "      <th>97.5 %</th>\n",
       "    </tr>\n",
       "  </thead>\n",
       "  <tbody>\n",
       "    <tr>\n",
       "      <th>regression</th>\n",
       "      <td>0.785</td>\n",
       "      <td>-0.015</td>\n",
       "      <td>0.653</td>\n",
       "      <td>0.917</td>\n",
       "    </tr>\n",
       "    <tr>\n",
       "      <th>lasso</th>\n",
       "      <td>0.805</td>\n",
       "      <td>0.005</td>\n",
       "      <td>0.667</td>\n",
       "      <td>0.943</td>\n",
       "    </tr>\n",
       "    <tr>\n",
       "      <th>forest</th>\n",
       "      <td>0.799</td>\n",
       "      <td>-0.001</td>\n",
       "      <td>0.656</td>\n",
       "      <td>0.943</td>\n",
       "    </tr>\n",
       "    <tr>\n",
       "      <th>xgboost</th>\n",
       "      <td>0.824</td>\n",
       "      <td>0.024</td>\n",
       "      <td>0.683</td>\n",
       "      <td>0.964</td>\n",
       "    </tr>\n",
       "  </tbody>\n",
       "</table>\n",
       "</div>"
      ],
      "text/plain": [
       "             coef   Bias  2.5 %  97.5 %\n",
       "regression  0.785 -0.015  0.653   0.917\n",
       "lasso       0.805  0.005  0.667   0.943\n",
       "forest      0.799 -0.001  0.656   0.943\n",
       "xgboost     0.824  0.024  0.683   0.964"
      ]
     },
     "execution_count": 64,
     "metadata": {},
     "output_type": "execute_result"
    }
   ],
   "source": [
    "plr_summary = pd.concat((reg_summary, lasso_summary, forest_summary, boost_summary))\n",
    "plr_summary.index = ['regression','lasso', 'forest', 'xgboost']\n",
    "plr_summary = plr_summary[['coef', '2.5 %', '97.5 %']]\n",
    "plr_summary.insert(1, \"Bias\", [plr_summary.loc['regression','coef'] - 0.8, \n",
    "                               plr_summary.loc['lasso','coef'] - 0.8, \n",
    "                               plr_summary.loc['forest','coef'] - 0.8, \n",
    "                               plr_summary.loc['xgboost','coef'] - 0.8])\n",
    "plr_summary.round(3) "
   ]
  },
  {
   "cell_type": "code",
   "execution_count": 65,
   "id": "86fe5d87",
   "metadata": {},
   "outputs": [
    {
     "data": {
      "image/png": "[encoded data removed]",
      "text/plain": [
       "<Figure size 360x270 with 1 Axes>"
      ]
     },
     "metadata": {},
     "output_type": "display_data"
    }
   ],
   "source": [
    "errors = np.full((2, plr_summary.shape[0]), np.nan)\n",
    "errors[0, :] = plr_summary['coef'] - plr_summary['2.5 %']\n",
    "errors[1, :] = plr_summary['97.5 %'] - plr_summary['coef']\n",
    "plt.errorbar(plr_summary.index, plr_summary.coef, fmt='o', yerr=errors)\n",
    "plt.axhline(y=0.8, color='r', linestyle='--', label=\"true value\")\n",
    "\n",
    "plt.title('Partially Linear Regression Model (PLR)')\n",
    "plt.xlabel('ML method')\n",
    "_ = plt.ylabel('Coefficients and 95%-CI')"
   ]
  },
  {
   "cell_type": "markdown",
   "id": "19fc42af",
   "metadata": {},
   "source": [
    "#### PLR - Summary of prediction accuracy metric's mean values"
   ]
  },
  {
   "cell_type": "code",
   "execution_count": 66,
   "id": "b8937548",
   "metadata": {},
   "outputs": [
    {
     "data": {
      "text/html": [
       "<div>\n",
       "<style scoped>\n",
       "    .dataframe tbody tr th:only-of-type {\n",
       "        vertical-align: middle;\n",
       "    }\n",
       "\n",
       "    .dataframe tbody tr th {\n",
       "        vertical-align: top;\n",
       "    }\n",
       "\n",
       "    .dataframe thead th {\n",
       "        text-align: right;\n",
       "    }\n",
       "</style>\n",
       "<table border=\"1\" class=\"dataframe\">\n",
       "  <thead>\n",
       "    <tr style=\"text-align: right;\">\n",
       "      <th></th>\n",
       "      <th>main RMSE</th>\n",
       "      <th>main RMSE (sd)</th>\n",
       "      <th>prop log loss</th>\n",
       "      <th>prop log loss (sd)</th>\n",
       "    </tr>\n",
       "  </thead>\n",
       "  <tbody>\n",
       "    <tr>\n",
       "      <th>regression</th>\n",
       "      <td>1.342</td>\n",
       "      <td>0.010</td>\n",
       "      <td>1.023</td>\n",
       "      <td>0.028</td>\n",
       "    </tr>\n",
       "    <tr>\n",
       "      <th>lasso</th>\n",
       "      <td>1.139</td>\n",
       "      <td>0.003</td>\n",
       "      <td>0.669</td>\n",
       "      <td>0.003</td>\n",
       "    </tr>\n",
       "    <tr>\n",
       "      <th>forest</th>\n",
       "      <td>1.189</td>\n",
       "      <td>0.006</td>\n",
       "      <td>0.684</td>\n",
       "      <td>0.005</td>\n",
       "    </tr>\n",
       "    <tr>\n",
       "      <th>xgboost</th>\n",
       "      <td>1.156</td>\n",
       "      <td>0.003</td>\n",
       "      <td>0.678</td>\n",
       "      <td>0.006</td>\n",
       "    </tr>\n",
       "  </tbody>\n",
       "</table>\n",
       "</div>"
      ],
      "text/plain": [
       "            main RMSE  main RMSE (sd)  prop log loss  prop log loss (sd)\n",
       "regression      1.342           0.010          1.023               0.028\n",
       "lasso           1.139           0.003          0.669               0.003\n",
       "forest          1.189           0.006          0.684               0.005\n",
       "xgboost         1.156           0.003          0.678               0.006"
      ]
     },
     "execution_count": 66,
     "metadata": {},
     "output_type": "execute_result"
    }
   ],
   "source": [
    "plr_rmse_index = ['regression','lasso', 'forest', 'xgboost']\n",
    "plr_rmse = pd.DataFrame([[rmse_main_linlog_plr_mean, rmse_main_linlog_plr_std,                          \n",
    "                         logloss_prop_linlog_plr_mean, logloss_prop_linlog_plr_std],\n",
    "                         [rmse_main_lasso_plr_mean, rmse_main_lasso_plr_std,\n",
    "                          logloss_prop_lasso_plr_mean, logloss_prop_lasso_plr_std],\n",
    "                         [rmse_main_forest_plr_mean, rmse_main_forest_plr_std,\n",
    "                          logloss_prop_forest_plr_mean, logloss_prop_forest_plr_std],\n",
    "                         [rmse_main_boost_plr_mean, rmse_main_boost_plr_std,\n",
    "                          logloss_prop_boost_plr_mean, logloss_prop_boost_plr_std]],\n",
    "                        index=plr_rmse_index,\n",
    "                        columns=['main RMSE', 'main RMSE (sd)',\n",
    "                                 'prop log loss', 'prop log loss (sd)'])\n",
    "plr_rmse.round(3)"
   ]
  },
  {
   "cell_type": "code",
   "execution_count": 67,
   "id": "79fe38ed",
   "metadata": {},
   "outputs": [
    {
     "data": {
      "text/plain": [
       "<ErrorbarContainer object of 3 artists>"
      ]
     },
     "execution_count": 67,
     "metadata": {},
     "output_type": "execute_result"
    },
    {
     "data": {
      "image/png": "[encoded data removed]",
      "text/plain": [
       "<Figure size 360x270 with 1 Axes>"
      ]
     },
     "metadata": {},
     "output_type": "display_data"
    }
   ],
   "source": [
    "# graphical illustration of RMSE for main regression\n",
    "errors_plr_rmse = np.full((2, plr_rmse.shape[0]), np.nan)\n",
    "errors_plr_rmse[0, :] = plr_rmse['main RMSE'] - plr_rmse['main RMSE (sd)']\n",
    "errors_plr_rmse[1, :] = plr_rmse['main RMSE'] + plr_rmse['main RMSE (sd)']\n",
    "plt.errorbar(x=plr_rmse.index, y=plr_rmse['main RMSE'], fmt='x',\n",
    "            yerr=errors_plr_rmse, c='darkslategray')"
   ]
  },
  {
   "cell_type": "code",
   "execution_count": 68,
   "id": "bb40406b",
   "metadata": {},
   "outputs": [
    {
     "data": {
      "text/plain": [
       "<ErrorbarContainer object of 3 artists>"
      ]
     },
     "execution_count": 68,
     "metadata": {},
     "output_type": "execute_result"
    },
    {
     "data": {
      "image/png": "[encoded data removed]",
      "text/plain": [
       "<Figure size 360x270 with 1 Axes>"
      ]
     },
     "metadata": {},
     "output_type": "display_data"
    }
   ],
   "source": [
    "# graphical illustration of log loss for main regression\n",
    "errors_plr_logloss = np.full((2, plr_rmse.shape[0]), np.nan)\n",
    "errors_plr_logloss[0, :] = plr_rmse['prop log loss'] - plr_rmse['prop log loss (sd)']\n",
    "errors_plr_logloss[1, :] = plr_rmse['prop log loss'] + plr_rmse['prop log loss (sd)']\n",
    "plt.errorbar(x=plr_rmse.index, y=plr_rmse['prop log loss'], fmt='x',\n",
    "            yerr=errors_plr_logloss, c='darkslategray')"
   ]
  },
  {
   "cell_type": "markdown",
   "id": "27d1d2a9-beed-493d-ae92-8d4e92cde8ae",
   "metadata": {},
   "source": [
    "### Summary of IRM and PLR Results"
   ]
  },
  {
   "cell_type": "code",
   "execution_count": 69,
   "id": "1b4ddf50-50de-4bab-a110-767b8d50df21",
   "metadata": {
    "scrolled": true
   },
   "outputs": [
    {
     "data": {
      "text/html": [
       "<div>\n",
       "<style scoped>\n",
       "    .dataframe tbody tr th:only-of-type {\n",
       "        vertical-align: middle;\n",
       "    }\n",
       "\n",
       "    .dataframe tbody tr th {\n",
       "        vertical-align: top;\n",
       "    }\n",
       "\n",
       "    .dataframe thead th {\n",
       "        text-align: right;\n",
       "    }\n",
       "</style>\n",
       "<table border=\"1\" class=\"dataframe\">\n",
       "  <thead>\n",
       "    <tr style=\"text-align: right;\">\n",
       "      <th></th>\n",
       "      <th></th>\n",
       "      <th>coef</th>\n",
       "      <th>Bias</th>\n",
       "      <th>2.5 %</th>\n",
       "      <th>97.5 %</th>\n",
       "    </tr>\n",
       "    <tr>\n",
       "      <th>Model</th>\n",
       "      <th>ML</th>\n",
       "      <th></th>\n",
       "      <th></th>\n",
       "      <th></th>\n",
       "      <th></th>\n",
       "    </tr>\n",
       "  </thead>\n",
       "  <tbody>\n",
       "    <tr>\n",
       "      <th rowspan=\"4\" valign=\"top\">IRM</th>\n",
       "      <th>regression</th>\n",
       "      <td>1.058</td>\n",
       "      <td>0.258</td>\n",
       "      <td>-0.167</td>\n",
       "      <td>2.282</td>\n",
       "    </tr>\n",
       "    <tr>\n",
       "      <th>lasso</th>\n",
       "      <td>0.856</td>\n",
       "      <td>0.056</td>\n",
       "      <td>0.717</td>\n",
       "      <td>0.995</td>\n",
       "    </tr>\n",
       "    <tr>\n",
       "      <th>forest</th>\n",
       "      <td>0.893</td>\n",
       "      <td>0.093</td>\n",
       "      <td>0.741</td>\n",
       "      <td>1.045</td>\n",
       "    </tr>\n",
       "    <tr>\n",
       "      <th>xgboost</th>\n",
       "      <td>0.791</td>\n",
       "      <td>-0.009</td>\n",
       "      <td>0.586</td>\n",
       "      <td>0.995</td>\n",
       "    </tr>\n",
       "    <tr>\n",
       "      <th rowspan=\"4\" valign=\"top\">PLR</th>\n",
       "      <th>regression</th>\n",
       "      <td>0.785</td>\n",
       "      <td>-0.015</td>\n",
       "      <td>0.653</td>\n",
       "      <td>0.917</td>\n",
       "    </tr>\n",
       "    <tr>\n",
       "      <th>lasso</th>\n",
       "      <td>0.805</td>\n",
       "      <td>0.005</td>\n",
       "      <td>0.667</td>\n",
       "      <td>0.943</td>\n",
       "    </tr>\n",
       "    <tr>\n",
       "      <th>forest</th>\n",
       "      <td>0.799</td>\n",
       "      <td>-0.001</td>\n",
       "      <td>0.656</td>\n",
       "      <td>0.943</td>\n",
       "    </tr>\n",
       "    <tr>\n",
       "      <th>xgboost</th>\n",
       "      <td>0.824</td>\n",
       "      <td>0.024</td>\n",
       "      <td>0.683</td>\n",
       "      <td>0.964</td>\n",
       "    </tr>\n",
       "  </tbody>\n",
       "</table>\n",
       "</div>"
      ],
      "text/plain": [
       "                   coef   Bias  2.5 %  97.5 %\n",
       "Model ML                                     \n",
       "IRM   regression  1.058  0.258 -0.167   2.282\n",
       "      lasso       0.856  0.056  0.717   0.995\n",
       "      forest      0.893  0.093  0.741   1.045\n",
       "      xgboost     0.791 -0.009  0.586   0.995\n",
       "PLR   regression  0.785 -0.015  0.653   0.917\n",
       "      lasso       0.805  0.005  0.667   0.943\n",
       "      forest      0.799 -0.001  0.656   0.943\n",
       "      xgboost     0.824  0.024  0.683   0.964"
      ]
     },
     "execution_count": 69,
     "metadata": {},
     "output_type": "execute_result"
    }
   ],
   "source": [
    "df_summary = pd.concat((irm_summary,plr_summary)).reset_index().rename(columns={'index': 'ML'})\n",
    "df_summary['Model'] = np.concatenate((np.repeat('IRM', 4), np.repeat('PLR', 4)))\n",
    "df_summary.set_index(['Model', 'ML']).round(3)"
   ]
  },
  {
   "cell_type": "markdown",
   "id": "64aa3065-da5c-49b9-88f2-5c08c1b7e617",
   "metadata": {},
   "source": [
    "### Conclusion\n",
    "\n",
    "As in the IRM model, the ML-based PLR models are associated with a smaller bias as compared to the model that is based on linear and logistic regression. It seems that the estimates obtained from the PLR are slightly closer to the true ATE than those from the IRM analysis. This might suggest, that the parametric assumptions (i.e., an additive and homogeneous causal effect) that are incorporated in the PLR turn out to be **not restrictive** in our example data set. However, if both models are based on appropriate ML learners, the conclusions are very similar. In all cases, the ML-based estimates were very close to the true ATE and we were always able to reject the null hypothesis of a zero effect at all common significance levels. In terms of the A/B testing example, it can be concluded that the new ad increases customers purchases (in $100\\$$) by around 0.8 on average and that this effect is significantly different from zero at the 5% significance level. The results are summarized in the graphic below."
   ]
  },
  {
   "cell_type": "code",
   "execution_count": 70,
   "id": "c80cadcc",
   "metadata": {
    "scrolled": true
   },
   "outputs": [
    {
     "data": {
      "image/png": "[encoded data removed]",
      "text/plain": [
       "<Figure size 576x648 with 2 Axes>"
      ]
     },
     "metadata": {},
     "output_type": "display_data"
    }
   ],
   "source": [
    "plt.figure(figsize=(8, 9))\n",
    "colors = sns.color_palette()\n",
    "for ind, model in enumerate(['IRM', 'PLR']):\n",
    "    sns.set(font_scale=1.15)\n",
    "    plt.subplot(3, 1, ind+1)\n",
    "    this_df = df_summary.query('Model == @model')\n",
    "    errors = np.full((2, this_df.shape[0]), np.nan)\n",
    "    errors[0, :] = this_df['coef'] - this_df['2.5 %']\n",
    "    errors[1, :] = this_df['97.5 %'] - this_df['coef']\n",
    "    plt.errorbar(this_df.ML, this_df.coef, fmt='o', yerr=errors,\n",
    "                 color=colors[ind], ecolor=colors[ind])\n",
    "    plt.ylim([0.5, 1.2])\n",
    "    plt.title(model)\n",
    "    plt.ylabel('Coeff. and 95%-CI')\n",
    "    plt.axhline(y=0.8, color='r', linestyle='--', label=\"true value\")\n",
    "    plt.legend(bbox_to_anchor=(1.04,0.5), loc=\"best\", borderaxespad=0)\n",
    "\n",
    "_ = plt.xlabel('ML method')"
   ]
  },
  {
   "cell_type": "markdown",
   "id": "90109d08",
   "metadata": {},
   "source": [
    "## Appendix"
   ]
  },
  {
   "cell_type": "markdown",
   "id": "e42903ad",
   "metadata": {},
   "source": [
    "### Propensity score estimates"
   ]
  },
  {
   "cell_type": "markdown",
   "id": "157d7295",
   "metadata": {},
   "source": [
    "For both the IRM and the PLR model, we want to compare the propensity score estimates of all learners. Since repeated sample splitting is used for every learner, we first want to check whether the repetitions provide similare propensity score estimates. If that is the case, it should be legitimate to pick any of the repetitions for the comparision across all learners."
   ]
  },
  {
   "cell_type": "markdown",
   "id": "bb614dd1",
   "metadata": {},
   "source": [
    "#### IRM - Repetitions of the Linear and Logistic regression model"
   ]
  },
  {
   "cell_type": "code",
   "execution_count": 71,
   "id": "a2a753a7",
   "metadata": {
    "scrolled": true
   },
   "outputs": [
    {
     "data": {
      "image/png": "[encoded data removed]",
      "text/plain": [
       "<Figure size 1440x345.6 with 3 Axes>"
      ]
     },
     "metadata": {},
     "output_type": "display_data"
    }
   ],
   "source": [
    "rep_propscore_plot(dml_irm_regression)"
   ]
  },
  {
   "cell_type": "markdown",
   "id": "d0eca3c9",
   "metadata": {},
   "source": [
    "#### IRM - Repetitions of the Lasso model"
   ]
  },
  {
   "cell_type": "code",
   "execution_count": 72,
   "id": "a69be1ca",
   "metadata": {},
   "outputs": [
    {
     "data": {
      "image/png": "[encoded data removed]",
      "text/plain": [
       "<Figure size 1440x345.6 with 3 Axes>"
      ]
     },
     "metadata": {},
     "output_type": "display_data"
    }
   ],
   "source": [
    "rep_propscore_plot(dml_irm_lasso)"
   ]
  },
  {
   "cell_type": "markdown",
   "id": "6ae81d8d",
   "metadata": {},
   "source": [
    "#### IRM - Repetitions of the Random Forest model"
   ]
  },
  {
   "cell_type": "code",
   "execution_count": 73,
   "id": "2775a78e",
   "metadata": {},
   "outputs": [
    {
     "data": {
      "image/png": "[encoded data removed]",
      "text/plain": [
       "<Figure size 1440x345.6 with 3 Axes>"
      ]
     },
     "metadata": {},
     "output_type": "display_data"
    }
   ],
   "source": [
    "rep_propscore_plot(dml_irm_forest)"
   ]
  },
  {
   "cell_type": "markdown",
   "id": "686ad3c6",
   "metadata": {},
   "source": [
    "#### IRM - Repetitions of the Extreme Gradient Boosting model"
   ]
  },
  {
   "cell_type": "code",
   "execution_count": 74,
   "id": "3d0115cc",
   "metadata": {},
   "outputs": [
    {
     "data": {
      "image/png": "[encoded data removed]",
      "text/plain": [
       "<Figure size 1440x345.6 with 3 Axes>"
      ]
     },
     "metadata": {},
     "output_type": "display_data"
    }
   ],
   "source": [
    "rep_propscore_plot(dml_irm_boost)"
   ]
  },
  {
   "cell_type": "markdown",
   "id": "74d8b10e",
   "metadata": {},
   "source": [
    "#### IRM - Propensity score estimates across learners"
   ]
  },
  {
   "cell_type": "code",
   "execution_count": 75,
   "id": "bc06bedf",
   "metadata": {
    "scrolled": false
   },
   "outputs": [
    {
     "data": {
      "image/png": "[encoded data removed]",
      "text/plain": [
       "<Figure size 1440x345.6 with 4 Axes>"
      ]
     },
     "metadata": {},
     "output_type": "display_data"
    }
   ],
   "source": [
    "h = dml_irm_regression.predictions.get('ml_m').shape[0]\n",
    "fig, ax = plt.subplots(1, 4, figsize=(20,4.8))\n",
    "\n",
    "#regression histogram\n",
    "ax[0].hist(np.reshape(dml_irm_regression.predictions.get('ml_m')[:,0], h), bins=25)\n",
    "ax[0].set_title('regression')\n",
    "ax[0].set_xlabel(\"prop_score\")\n",
    "ax[0].set_ylabel(\"density\")\n",
    "\n",
    "#lasso histogram\n",
    "ax[1].hist(np.reshape(dml_irm_lasso.predictions.get('ml_m')[:,0], h), bins=25)\n",
    "ax[1].set_title('lasso')\n",
    "ax[1].set_xlabel(\"prop_score\")\n",
    "ax[1].set_ylabel(\"density\")\n",
    "\n",
    "#random forest histogram\n",
    "ax[2].hist(np.reshape(dml_irm_forest.predictions.get('ml_m')[:,0], h), bins=25)\n",
    "ax[2].set_title('random forest')\n",
    "ax[2].set_xlabel(\"prop_score\")\n",
    "ax[2].set_ylabel(\"density\")\n",
    "\n",
    "#boosting histogram\n",
    "ax[3].hist(np.reshape(dml_irm_boost.predictions.get('ml_m')[:,0], h), bins=25)\n",
    "ax[3].set_title('xgboost')\n",
    "ax[3].set_xlabel(\"prop_score\")\n",
    "ax[3].set_ylabel(\"density\")\n",
    "           \n",
    "plt.show()"
   ]
  },
  {
   "cell_type": "markdown",
   "id": "7a9a161d",
   "metadata": {},
   "source": [
    "#### PLR - Repetitions of the Linear and Logistic regression model"
   ]
  },
  {
   "cell_type": "code",
   "execution_count": 76,
   "id": "c4da298e",
   "metadata": {},
   "outputs": [
    {
     "data": {
      "image/png": "[encoded data removed]",
      "text/plain": [
       "<Figure size 1440x345.6 with 3 Axes>"
      ]
     },
     "metadata": {},
     "output_type": "display_data"
    }
   ],
   "source": [
    "rep_propscore_plot(dml_plr_regression)"
   ]
  },
  {
   "cell_type": "markdown",
   "id": "fbbbd43c",
   "metadata": {},
   "source": [
    "#### PLR - Repetitions of the Lasso model"
   ]
  },
  {
   "cell_type": "code",
   "execution_count": 77,
   "id": "17b9d772",
   "metadata": {},
   "outputs": [
    {
     "data": {
      "image/png": "[encoded data removed]",
      "text/plain": [
       "<Figure size 1440x345.6 with 3 Axes>"
      ]
     },
     "metadata": {},
     "output_type": "display_data"
    }
   ],
   "source": [
    "rep_propscore_plot(dml_plr_lasso)"
   ]
  },
  {
   "cell_type": "markdown",
   "id": "768dabe2",
   "metadata": {},
   "source": [
    "#### PLR - Repetitions of the Random Forest model"
   ]
  },
  {
   "cell_type": "code",
   "execution_count": 78,
   "id": "7639ef46",
   "metadata": {},
   "outputs": [
    {
     "data": {
      "image/png": "[encoded data removed]",
      "text/plain": [
       "<Figure size 1440x345.6 with 3 Axes>"
      ]
     },
     "metadata": {},
     "output_type": "display_data"
    }
   ],
   "source": [
    "rep_propscore_plot(dml_plr_forest)"
   ]
  },
  {
   "cell_type": "markdown",
   "id": "99539929",
   "metadata": {},
   "source": [
    "#### PLR - Repetitions of the Extreme Gradient Boosting model"
   ]
  },
  {
   "cell_type": "code",
   "execution_count": 79,
   "id": "da73a9b4",
   "metadata": {},
   "outputs": [
    {
     "data": {
      "image/png": "[encoded data removed]",
      "text/plain": [
       "<Figure size 1440x345.6 with 3 Axes>"
      ]
     },
     "metadata": {},
     "output_type": "display_data"
    }
   ],
   "source": [
    "rep_propscore_plot(dml_plr_boost)"
   ]
  },
  {
   "cell_type": "markdown",
   "id": "70375158",
   "metadata": {},
   "source": [
    "#### PLR - Propensity score estimates across learners"
   ]
  },
  {
   "cell_type": "code",
   "execution_count": 80,
   "id": "1aeded78",
   "metadata": {},
   "outputs": [
    {
     "data": {
      "image/png": "[encoded data removed]",
      "text/plain": [
       "<Figure size 1440x345.6 with 4 Axes>"
      ]
     },
     "metadata": {},
     "output_type": "display_data"
    }
   ],
   "source": [
    "h = dml_plr_regression.predictions.get('ml_m').shape[0]\n",
    "fig, ax = plt.subplots(1, 4, figsize=(20,4.8))\n",
    "\n",
    "#regression histogram\n",
    "ax[0].hist(np.reshape(dml_plr_regression.predictions.get('ml_m')[:,0], h), bins=25)\n",
    "ax[0].set_title('regression')\n",
    "ax[0].set_xlabel(\"prop_score\")\n",
    "ax[0].set_ylabel(\"density\")\n",
    "\n",
    "#lasso histogram\n",
    "ax[1].hist(np.reshape(dml_plr_lasso.predictions.get('ml_m')[:,0], h), bins=25)\n",
    "ax[1].set_title('lasso')\n",
    "ax[1].set_xlabel(\"prop_score\")\n",
    "ax[1].set_ylabel(\"density\")\n",
    "\n",
    "#random forest histogram\n",
    "ax[2].hist(np.reshape(dml_plr_forest.predictions.get('ml_m')[:,0], h), bins=25)\n",
    "ax[2].set_title('random forest')\n",
    "ax[2].set_xlabel(\"prop_score\")\n",
    "ax[2].set_ylabel(\"density\")\n",
    "\n",
    "#boosting histogram\n",
    "ax[3].hist(np.reshape(dml_plr_boost.predictions.get('ml_m')[:,0], h), bins=25)\n",
    "ax[3].set_title('xgboost')\n",
    "ax[3].set_xlabel(\"prop_score\")\n",
    "ax[3].set_ylabel(\"density\")\n",
    "           \n",
    "plt.show()"
   ]
  },
  {
   "cell_type": "markdown",
   "id": "3aa8d603-0df5-48c6-ad62-ac5ffe3e8ada",
   "metadata": {},
   "source": [
    "______\n",
    "\n",
    "**Notes and Acknowledgement**\n",
    "\n",
    "We would like to thank the organizers of the [ACIC 2019 Data Challenge](https://sites.google.com/view/acic2019datachallenge/data-challenge) for setting up this data challenge and making the numerous synthetic data examples publicly available.  Although the data examples in the [ACIC 2019 Data Challenge](https://sites.google.com/view/acic2019datachallenge/data-challenge) do not explicitly adress A/B testing, we put the data example here in this context to give a tractable example on the use of causal machine learning in practice. The parameters for the random forests and extreme gradient boosting learners have been tuned externally. The corresponding tuning notebook will be uploaded in the examples gallery in the future."
   ]
  },
  {
   "cell_type": "markdown",
   "id": "egyptian-platform",
   "metadata": {},
   "source": [
    "## References\n",
    "\n",
    "Chernozhukov, V., Chetverikov, D., Demirer, M., Duflo, E., Hansen, C., Newey, W. and Robins, J. (2018), Double/debiased machine learning for treatment and structural parameters. The Econometrics Journal, 21: C1-C68. doi:10.1111/ectj.12097."
   ]
  }
 ],
 "metadata": {
  "kernelspec": {
   "display_name": "Python 3",
   "language": "python",
   "name": "python3"
  },
  "language_info": {
   "codemirror_mode": {
    "name": "ipython",
    "version": 3
   },
   "file_extension": ".py",
   "mimetype": "text/x-python",
   "name": "python",
   "nbconvert_exporter": "python",
   "pygments_lexer": "ipython3",
   "version": "3.8.12"
  }
 },
 "nbformat": 4,
 "nbformat_minor": 5
}
