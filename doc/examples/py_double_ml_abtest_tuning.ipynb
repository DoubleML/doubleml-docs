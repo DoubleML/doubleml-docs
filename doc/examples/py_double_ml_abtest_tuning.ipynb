{
 "cells": [
  {
   "cell_type": "markdown",
   "id": "copyrighted-berry",
   "metadata": {
    "papermill": {
     "duration": 0.02998,
     "end_time": "2021-05-26T10:02:06.433929",
     "exception": false,
     "start_time": "2021-05-26T10:02:06.403949",
     "status": "completed"
    },
    "tags": []
   },
   "source": [
    "## Tuning Parameters for Python A/B Testing with DoubleML"
   ]
  },
  {
   "cell_type": "markdown",
   "id": "exciting-march",
   "metadata": {
    "papermill": {
     "duration": 0.028056,
     "end_time": "2021-05-26T10:02:06.564012",
     "exception": false,
     "start_time": "2021-05-26T10:02:06.535956",
     "status": "completed"
    },
    "tags": []
   },
   "source": [
    "Here, we illustrate how to tune the parameters of lasso, random forest and gradient boosting. The results are the same as in the A/B Test Main notebook [TODO: Insert link]. The baseline learner linear regression requires no tuning and is therefore not included in this notebook.\n",
    "\n",
    "Tuning in [DoubleML](https://docs.doubleml.org/stable/index.html) builds upon the functionalities of the Python package scikit learn. The hyperparameter-tuning is performed using either an exhaustive search over specified parameter values implemented in [sklearn.model_selection.GridSearchCV](https://scikit-learn.org/stable/modules/generated/sklearn.model_selection.RandomizedSearchCV.html) or via a randomized search implemented in [sklearn.model_selection.RandomizedSearchCV](https://scikit-learn.org/stable/modules/generated/sklearn.model_selection.GridSearchCV.html).\n",
    "\n",
    "We will perform parameter tuning in the A/B Case Study example based on the models:\n",
    "\n",
    "* Partially linear regression (PLR)\n",
    "* Interactive regression model (IRM)\n",
    "\n",
    "for\n",
    "* logistic regression ([LogisticRegressionCV](https://scikit-learn.org/stable/modules/generated/sklearn.linear_model.LogisticRegressionCV.html)),\n",
    "* lasso ([LassoCV](https://scikit-learn.org/stable/modules/generated/sklearn.linear_model.LassoCV.html)),\n",
    "* random forests ([RandomForestRegressor](https://scikit-learn.org/stable/modules/generated/sklearn.ensemble.RandomForestRegressor.html)),\n",
    "* extreme gradient boosting ([XGBRegressor/XGBClassifier](https://xgboost.readthedocs.io/en/latest/python/python_api.html)). "
   ]
  },
  {
   "cell_type": "code",
   "execution_count": 40,
   "id": "grave-marking",
   "metadata": {
    "papermill": {
     "duration": 0.546507,
     "end_time": "2021-05-26T10:02:07.138982",
     "exception": false,
     "start_time": "2021-05-26T10:02:06.592475",
     "status": "completed"
    },
    "tags": []
   },
   "outputs": [],
   "source": [
    "import pandas as pd\n",
    "df = pd.read_csv('data/high42.csv', sep=',', na_values=\".\")\n",
    "\n",
    "#code can also be loaded using a URL of the data\n",
    "#url = 'https://raw.githubusercontent.com/DoubleML/doubleml-hiwi-sandbox/master/case_studies/AB_testing/data/high42.CSV?token=AQWGKQUK2PJ4ANBW5GFDG2LAY5ZN4'\n",
    "#df = pd.read_csv(url)"
   ]
  },
  {
   "cell_type": "code",
   "execution_count": 41,
   "id": "linear-period",
   "metadata": {
    "papermill": {
     "duration": 7.12797,
     "end_time": "2021-05-26T10:02:14.295968",
     "exception": false,
     "start_time": "2021-05-26T10:02:07.167998",
     "status": "completed"
    },
    "tags": []
   },
   "outputs": [],
   "source": [
    "#pip install -U DoubleML"
   ]
  },
  {
   "cell_type": "code",
   "execution_count": 42,
   "id": "sonic-disclaimer",
   "metadata": {
    "papermill": {
     "duration": 1.50983,
     "end_time": "2021-05-26T10:02:15.836637",
     "exception": false,
     "start_time": "2021-05-26T10:02:14.326807",
     "status": "completed"
    },
    "tags": []
   },
   "outputs": [],
   "source": [
    "import numpy as np\n",
    "import pandas as pd\n",
    "import doubleml as dml\n",
    "\n",
    "from sklearn.preprocessing import PolynomialFeatures\n",
    "\n",
    "from sklearn.linear_model import LinearRegression\n",
    "from sklearn.linear_model import LogisticRegression\n",
    "\n",
    "from sklearn.linear_model import LassoCV, LogisticRegressionCV\n",
    "from sklearn.ensemble import RandomForestClassifier, RandomForestRegressor\n",
    "from sklearn.preprocessing import StandardScaler\n",
    "from sklearn.pipeline import make_pipeline\n",
    "\n",
    "from xgboost import XGBClassifier, XGBRegressor\n",
    "\n",
    "import matplotlib.pyplot as plt"
   ]
  },
  {
   "cell_type": "markdown",
   "id": "9ad48b2f-db15-4002-ade7-4fbd5d3666d0",
   "metadata": {},
   "source": [
    "### The Data Backend: `DoubleMLData`"
   ]
  },
  {
   "cell_type": "code",
   "execution_count": 43,
   "id": "economic-chicken",
   "metadata": {
    "papermill": {
     "duration": 0.066803,
     "end_time": "2021-05-26T10:02:15.993192",
     "exception": false,
     "start_time": "2021-05-26T10:02:15.926389",
     "status": "completed"
    },
    "tags": []
   },
   "outputs": [],
   "source": [
    "# Set up basic model: Specify variables for data-backend\n",
    "features_base = list(df.columns.values)[2:]\n",
    "\n",
    "# Initialize DoubleMLData (data-backend of DoubleML)\n",
    "data_dml_base = dml.DoubleMLData(df,\n",
    "                                 y_col='Y',\n",
    "                                 d_cols='A',\n",
    "                                 x_cols=features_base)\n",
    "\n",
    "#print(data_dml_base)"
   ]
  },
  {
   "cell_type": "markdown",
   "id": "960d19cb-1db9-4a68-9be1-9b8194f1bbb9",
   "metadata": {},
   "source": [
    "## 1. Tuning: Interactive Regression Model (IRM)\n",
    "### Lasso\n",
    "\n",
    "We start our tuning exercise with the interactive regression model with the nuisance parts being estimated by lasso. In a first step we set up our learners based on the [sklearn.linear_model](https://scikit-learn.org/stable/modules/classes.html#module-sklearn.linear_model) package. Here, we don't have to specify parameters.  In a second step we initalize our model object, here we use the class [DoubleMLIRM](https://docs.doubleml.org/dev/api/generated/doubleml.DoubleMLIRM.html). We specify the linear model [LassoCV](https://scikit-learn.org/stable/modules/generated/sklearn.linear_model.LassoCV.html#sklearn.linear_model.LassoCV) in a pipeline with a standard scaler applied. \n",
    "\n",
    "For the lasso regression we set 5 folds of cross validation and the maximum number of iterations to 10000.  [LogisticRegressionCV](https://scikit-learn.org/stable/modules/generated/sklearn.linear_model.LogisticRegressionCV.html) with L1 penalty is a lassso classifier. A liblinear `solver` is chosen, which is specifically good for small datasets. A grid of `Cs`, which control the strength of regularization, is created that ranges from 0 to 1. The best `C` is selected by the cross-validation, defined by the `cv` parameter. Note that if we don't specify any parameters for the learners, default values are used.\n",
    "\n",
    "Using the assigned learners, we initialize the `DoubleMLIRM` model."
   ]
  },
  {
   "cell_type": "code",
   "execution_count": 44,
   "id": "c383b584-7011-4469-87fa-3eb2fd742850",
   "metadata": {
    "papermill": {
     "duration": 8.853437,
     "end_time": "2021-05-26T10:04:04.449701",
     "exception": false,
     "start_time": "2021-05-26T10:03:55.596264",
     "status": "completed"
    },
    "tags": []
   },
   "outputs": [],
   "source": [
    "# Lasso\n",
    "Cs = 0.0001*np.logspace(0, 4, 10) \n",
    "lasso = make_pipeline(StandardScaler(), LassoCV(cv=5, max_iter=10000))     \n",
    "\n",
    "lasso_class = make_pipeline(StandardScaler(), LogisticRegressionCV(cv=5, penalty='l1', solver='liblinear',      \n",
    "                                                 Cs = Cs, max_iter=1000))          \n",
    "\n",
    "\n",
    "# Initialize DoubleMLIRM model\n",
    "np.random.seed(123)\n",
    "\n",
    "dml_irm_lasso = dml.DoubleMLIRM(data_dml_base,\n",
    "                          ml_g = lasso,\n",
    "                          ml_m = lasso_class,\n",
    "                          trimming_threshold = 0.025,                          \n",
    "                          n_folds = 3)"
   ]
  },
  {
   "cell_type": "markdown",
   "id": "21b99548-3e20-47fb-98f5-4edf174a64f3",
   "metadata": {
    "papermill": {
     "duration": 0.031063,
     "end_time": "2021-05-26T10:02:16.524653",
     "exception": false,
     "start_time": "2021-05-26T10:02:16.493590",
     "status": "completed"
    },
    "tags": []
   },
   "source": [
    "When one doesn't know, which hyperparameters to set when assigning the learner, trying different parameters or tuning is necessery.\n",
    "\n",
    "### 1. Parameters to Tune\n",
    "\n",
    "All parameters of a learner can be accessed via a the field [.get_params()](https://docs.doubleml.org/dev/api/generated/doubleml.DoubleMLPLR.html#doubleml.DoubleMLPLR.get_params). For example in the case of the [LassoCV](https://scikit-learn.org/stable/modules/generated/sklearn.linear_model.LassoCV.html#sklearn.linear_model.LassoCV) the parameters that can tuned are:"
   ]
  },
  {
   "cell_type": "code",
   "execution_count": 45,
   "id": "bd39548f-3c2a-4763-bad7-f6096ddbc7e0",
   "metadata": {
    "papermill": {
     "duration": 0.041091,
     "end_time": "2021-05-26T10:02:16.597951",
     "exception": false,
     "start_time": "2021-05-26T10:02:16.556860",
     "status": "completed"
    },
    "tags": []
   },
   "outputs": [
    {
     "name": "stdout",
     "output_type": "stream",
     "text": [
      "dict_keys(['memory', 'steps', 'verbose', 'standardscaler', 'lassocv', 'standardscaler__copy', 'standardscaler__with_mean', 'standardscaler__with_std', 'lassocv__alphas', 'lassocv__copy_X', 'lassocv__cv', 'lassocv__eps', 'lassocv__fit_intercept', 'lassocv__max_iter', 'lassocv__n_alphas', 'lassocv__n_jobs', 'lassocv__normalize', 'lassocv__positive', 'lassocv__precompute', 'lassocv__random_state', 'lassocv__selection', 'lassocv__tol', 'lassocv__verbose'])\n"
     ]
    }
   ],
   "source": [
    "print(lasso.get_params().keys())"
   ]
  },
  {
   "cell_type": "markdown",
   "id": "5fa3a099-fe24-487b-bfaf-0385439d6214",
   "metadata": {
    "papermill": {
     "duration": 0.03054,
     "end_time": "2021-05-26T10:02:16.659995",
     "exception": false,
     "start_time": "2021-05-26T10:02:16.629455",
     "status": "completed"
    },
    "tags": []
   },
   "source": [
    "### 2. Tuning Space"
   ]
  },
  {
   "cell_type": "markdown",
   "id": "0e583d7d-3683-47f0-9e78-23bb56956eb5",
   "metadata": {
    "papermill": {
     "duration": 0.030255,
     "end_time": "2021-05-26T10:02:16.721040",
     "exception": false,
     "start_time": "2021-05-26T10:02:16.690785",
     "status": "completed"
    },
    "tags": []
   },
   "source": [
    "Now, we have to specify at least\n",
    "\n",
    "1. which parameters we would like to tune\n",
    "2. the tuning space, i.e., a grid of values for these parameters, \n",
    "\n",
    "To specify the exact tuning set up in our example, we have to create objects that address points 1. and 2. These are then passed as arguments to the method [tune()](https://docs.doubleml.org/dev/api/generated/doubleml.DoubleMLPLR.html#doubleml.DoubleMLPLR.tune). To pass the tuning space to the model object, we collect the tuning spaces for all nuisance parts in a named list. The names of the arguments must match the names of the nuisance components. Since tuning takes time the `tune()` method has been commented out. If you uncomment it, it will yield a `C` of $4$ to be the best regularization parameter. A random state of $0$ is assigned for replication."
   ]
  },
  {
   "cell_type": "code",
   "execution_count": 46,
   "id": "19f95dae-0623-41eb-8787-ce0c532526e5",
   "metadata": {
    "papermill": {
     "duration": 8.853437,
     "end_time": "2021-05-26T10:04:04.449701",
     "exception": false,
     "start_time": "2021-05-26T10:03:55.596264",
     "status": "completed"
    },
    "tags": []
   },
   "outputs": [],
   "source": [
    "tuning_space_ml_g = {}                        #no tuning here (empty grid)\n",
    "tuning_space_ml_m = {\n",
    "    'logisticregressioncv__Cs' : np.logspace(0.001, 1, 20, dtype =int),\n",
    "    'logisticregressioncv__random_state' : [0]\n",
    "    }\n",
    "\n",
    "tuning_spaces = ({\"ml_g\" : tuning_space_ml_g, \n",
    "                     \"ml_m\" : tuning_space_ml_m})\n",
    "\n",
    "#to tune lasso, uncomment next two lines\n",
    "#dml_irm_lasso.tune(tuning_spaces, search_mode = 'randomized_search',  tune_on_folds = True,\n",
    "#                    n_folds_tune=3, n_iter_randomized_search = 50, set_as_params = True, n_jobs_cv = -1)"
   ]
  },
  {
   "cell_type": "code",
   "execution_count": 47,
   "id": "dff114cc-6bbd-4ee4-9f9a-88c8f77cd36f",
   "metadata": {
    "papermill": {
     "duration": 8.853437,
     "end_time": "2021-05-26T10:04:04.449701",
     "exception": false,
     "start_time": "2021-05-26T10:03:55.596264",
     "status": "completed"
    },
    "tags": []
   },
   "outputs": [
    {
     "name": "stdout",
     "output_type": "stream",
     "text": [
      "{'A': [None]}\n",
      "{'A': [None]}\n",
      "{'A': [None]}\n"
     ]
    }
   ],
   "source": [
    "print(dml_irm_lasso.get_params('ml_g0'))\n",
    "print(dml_irm_lasso.get_params('ml_g1'))\n",
    "print(dml_irm_lasso.get_params('ml_m'))"
   ]
  },
  {
   "cell_type": "markdown",
   "id": "56e8c8fb-dc94-413c-bc43-7f016cf10e28",
   "metadata": {},
   "source": [
    "Next, the best paramter of C is assigned using [.set_ml_nuisance_params](https://docs.doubleml.org/dev/api/generated/doubleml.DoubleMLPLR.html#doubleml.DoubleMLPLR.set_ml_nuisance_params) method and the model is fit. If you notice only the parameter `C=4` is set for the nuisance fuctnion `ml_m`, while the parameters of the other functions (`mlg0` and `ml_g1`) are left to their defaults. The result of the estimate is the same as in the main notebook."
   ]
  },
  {
   "cell_type": "code",
   "execution_count": 48,
   "id": "9681a76b-1e3a-42ee-9b0e-f9e87762589e",
   "metadata": {
    "papermill": {
     "duration": 8.853437,
     "end_time": "2021-05-26T10:04:04.449701",
     "exception": false,
     "start_time": "2021-05-26T10:03:55.596264",
     "status": "completed"
    },
    "tags": []
   },
   "outputs": [
    {
     "data": {
      "text/html": [
       "<div>\n",
       "<style scoped>\n",
       "    .dataframe tbody tr th:only-of-type {\n",
       "        vertical-align: middle;\n",
       "    }\n",
       "\n",
       "    .dataframe tbody tr th {\n",
       "        vertical-align: top;\n",
       "    }\n",
       "\n",
       "    .dataframe thead th {\n",
       "        text-align: right;\n",
       "    }\n",
       "</style>\n",
       "<table border=\"1\" class=\"dataframe\">\n",
       "  <thead>\n",
       "    <tr style=\"text-align: right;\">\n",
       "      <th></th>\n",
       "      <th>coef</th>\n",
       "      <th>std err</th>\n",
       "      <th>t</th>\n",
       "      <th>P&gt;|t|</th>\n",
       "      <th>2.5 %</th>\n",
       "      <th>97.5 %</th>\n",
       "    </tr>\n",
       "  </thead>\n",
       "  <tbody>\n",
       "    <tr>\n",
       "      <th>A</th>\n",
       "      <td>0.834276</td>\n",
       "      <td>0.070511</td>\n",
       "      <td>11.831913</td>\n",
       "      <td>2.669875e-32</td>\n",
       "      <td>0.696078</td>\n",
       "      <td>0.972475</td>\n",
       "    </tr>\n",
       "  </tbody>\n",
       "</table>\n",
       "</div>"
      ],
      "text/plain": [
       "       coef   std err          t         P>|t|     2.5 %    97.5 %\n",
       "A  0.834276  0.070511  11.831913  2.669875e-32  0.696078  0.972475"
      ]
     },
     "execution_count": 48,
     "metadata": {},
     "output_type": "execute_result"
    }
   ],
   "source": [
    "# Set nuisance-part specific parameters\n",
    "dml_irm_lasso.set_ml_nuisance_params('ml_g0', 'A', {})\n",
    "dml_irm_lasso.set_ml_nuisance_params('ml_g1', 'A', {})\n",
    "dml_irm_lasso.set_ml_nuisance_params('ml_m', 'A', {\n",
    "    'logisticregressioncv__Cs': 4, 'logisticregressioncv__random_state': 0})\n",
    "\n",
    "#fit model with above set parameters\n",
    "dml_irm_lasso.fit(store_predictions=True) \n",
    "lasso_summary = dml_irm_lasso.summary\n",
    "\n",
    "lasso_summary"
   ]
  },
  {
   "cell_type": "markdown",
   "id": "surface-tractor",
   "metadata": {
    "papermill": {
     "duration": 0.046539,
     "end_time": "2021-05-26T10:04:04.561414",
     "exception": false,
     "start_time": "2021-05-26T10:04:04.514875",
     "status": "completed"
    },
    "tags": []
   },
   "source": [
    "### Random Forest\n",
    "\n",
    "When the treated and untreated groups are unbalanced it could be hard to find overlap in order to calculate the ATE. To reduce the disproportionate impact of extreme propensity score weights in the interactive model, we trim the propensity scores, which are close to the bounds. The trimming threshold for the propensitiy scores is set to $0.025$ meaning that propensity score below $2.5%$ or abobe $97.5%$ are removed. This will remove some of the variance in the model, but will add bias back.\n",
    "\n",
    "A random forest regression and classifier are called."
   ]
  },
  {
   "cell_type": "code",
   "execution_count": 49,
   "id": "downtown-investor",
   "metadata": {
    "papermill": {
     "duration": 0.041146,
     "end_time": "2021-05-26T10:04:04.636144",
     "exception": false,
     "start_time": "2021-05-26T10:04:04.594998",
     "status": "completed"
    },
    "tags": []
   },
   "outputs": [],
   "source": [
    "# Random Forest\n",
    "randomForest = RandomForestRegressor()\n",
    "randomForest_class = RandomForestClassifier()\n",
    "\n",
    "np.random.seed(123)\n",
    "dml_irm_forest = dml.DoubleMLIRM(data_dml_base,\n",
    "                                 ml_g = randomForest,\n",
    "                                 ml_m = randomForest_class,\n",
    "                                 trimming_threshold = 0.025,\n",
    "                                 n_folds = 3)"
   ]
  },
  {
   "cell_type": "markdown",
   "id": "9921bb70-a994-4358-9114-c554f736b69c",
   "metadata": {},
   "source": [
    "A tuning grid of parameters is created for the two learners. Uncommenting the [`.tune`](https://docs.doubleml.org/dev/api/generated/doubleml.DoubleMLIRM.html?highlight=tune#doubleml.DoubleMLIRM.tune) method will begin the tuning, which can take more than an hour."
   ]
  },
  {
   "cell_type": "code",
   "execution_count": 50,
   "id": "automated-watershed",
   "metadata": {
    "papermill": {
     "duration": 152.721269,
     "end_time": "2021-05-26T10:06:37.391258",
     "exception": false,
     "start_time": "2021-05-26T10:04:04.669989",
     "status": "completed"
    },
    "tags": []
   },
   "outputs": [
    {
     "data": {
      "text/plain": [
       "dict"
      ]
     },
     "execution_count": 50,
     "metadata": {},
     "output_type": "execute_result"
    }
   ],
   "source": [
    "#RF Tuning \n",
    "\n",
    "tuning_space_ml_g = {\n",
    " 'max_depth': [8, 10, 12, 15],\n",
    "'max_features': ['auto', 'sqrt'],\n",
    " 'min_samples_leaf': [1, 2, 4, 5],\n",
    " 'min_samples_split': [4, 5, 6, 10],\n",
    " 'n_estimators': [100, 200, 300, ]}\n",
    "\n",
    "tuning_space_ml_m = {\n",
    " 'max_depth': [3, 5, 6, 7, 10],\n",
    "'max_features': ['auto', 'sqrt'],\n",
    " 'min_samples_leaf': [5, 6, 7, 8],\n",
    " 'min_samples_split': [2, 3, 5],\n",
    " 'n_estimators': [100, 200]}\n",
    "\n",
    "tuning_spaces = ({\"ml_g\" : tuning_space_ml_g, \n",
    "                     \"ml_m\" : tuning_space_ml_m})\n",
    "\n",
    "import warnings\n",
    "warnings.filterwarnings(\"ignore\")\n",
    "\n",
    "type(tuning_spaces)\n",
    "#dml_irm_forest.tune(tuning_spaces, search_mode = 'randomized_search', tune_on_folds = True,\n",
    "#                    n_folds_tune=3, n_iter_randomized_search = 50, set_as_params = True, return_tune_res = True, n_jobs_cv = -1)"
   ]
  },
  {
   "cell_type": "markdown",
   "id": "05feed3c-abdd-4b19-9ac0-41d9e3b4a56c",
   "metadata": {},
   "source": [
    "Using the [.get_params](https://docs.doubleml.org/dev/api/generated/doubleml.DoubleMLIRM.html?highlight=get_params#doubleml.DoubleMLIRM.get_params) method the tuned parameters are printed, which are then hardcoded into [.set_ml_nuisance_params](https://docs.doubleml.org/dev/api/generated/doubleml.DoubleMLPLR.html#doubleml.DoubleMLPLR.set_ml_nuisance_params) method. This way one does not have to wait for the tuning every time."
   ]
  },
  {
   "cell_type": "code",
   "execution_count": 51,
   "id": "convinced-effect",
   "metadata": {
    "papermill": {
     "duration": 0.042846,
     "end_time": "2021-05-26T10:06:37.468481",
     "exception": false,
     "start_time": "2021-05-26T10:06:37.425635",
     "status": "completed"
    },
    "tags": []
   },
   "outputs": [
    {
     "name": "stdout",
     "output_type": "stream",
     "text": [
      "{'A': [None]}\n",
      "{'A': [None]}\n",
      "{'A': [None]}\n"
     ]
    }
   ],
   "source": [
    "print(dml_irm_forest.get_params('ml_g0'))\n",
    "print(dml_irm_forest.get_params('ml_g1'))\n",
    "print(dml_irm_forest.get_params('ml_m'))"
   ]
  },
  {
   "cell_type": "markdown",
   "id": "b5d0d2e7-d4be-47e7-925c-ea1b6893d269",
   "metadata": {},
   "source": [
    "The results are the same as those in the main notebook."
   ]
  },
  {
   "cell_type": "code",
   "execution_count": 52,
   "id": "every-stack",
   "metadata": {
    "papermill": {
     "duration": 13.713732,
     "end_time": "2021-05-26T10:06:51.217700",
     "exception": false,
     "start_time": "2021-05-26T10:06:37.503968",
     "status": "completed"
    },
    "tags": []
   },
   "outputs": [
    {
     "data": {
      "text/html": [
       "<div>\n",
       "<style scoped>\n",
       "    .dataframe tbody tr th:only-of-type {\n",
       "        vertical-align: middle;\n",
       "    }\n",
       "\n",
       "    .dataframe tbody tr th {\n",
       "        vertical-align: top;\n",
       "    }\n",
       "\n",
       "    .dataframe thead th {\n",
       "        text-align: right;\n",
       "    }\n",
       "</style>\n",
       "<table border=\"1\" class=\"dataframe\">\n",
       "  <thead>\n",
       "    <tr style=\"text-align: right;\">\n",
       "      <th></th>\n",
       "      <th>coef</th>\n",
       "      <th>std err</th>\n",
       "      <th>t</th>\n",
       "      <th>P&gt;|t|</th>\n",
       "      <th>2.5 %</th>\n",
       "      <th>97.5 %</th>\n",
       "    </tr>\n",
       "  </thead>\n",
       "  <tbody>\n",
       "    <tr>\n",
       "      <th>A</th>\n",
       "      <td>0.86203</td>\n",
       "      <td>0.08229</td>\n",
       "      <td>10.475455</td>\n",
       "      <td>1.119983e-25</td>\n",
       "      <td>0.700743</td>\n",
       "      <td>1.023316</td>\n",
       "    </tr>\n",
       "  </tbody>\n",
       "</table>\n",
       "</div>"
      ],
      "text/plain": [
       "      coef  std err          t         P>|t|     2.5 %    97.5 %\n",
       "A  0.86203  0.08229  10.475455  1.119983e-25  0.700743  1.023316"
      ]
     },
     "execution_count": 52,
     "metadata": {},
     "output_type": "execute_result"
    }
   ],
   "source": [
    "#Set nuisance-part specific parameters\n",
    "dml_irm_forest.set_ml_nuisance_params('ml_g0', 'A', {\n",
    "    'max_features': 200, 'n_estimators': 250})\n",
    "dml_irm_forest.set_ml_nuisance_params('ml_g1', 'A', {\n",
    "    'max_features': 200, 'n_estimators': 250})\n",
    "dml_irm_forest.set_ml_nuisance_params('ml_m', 'A', {\n",
    "    'max_features': 200, 'n_estimators': 250})\n",
    "\n",
    "dml_irm_forest.fit(store_predictions=True) \n",
    "forest_summary = dml_irm_forest.summary\n",
    "\n",
    "forest_summary"
   ]
  },
  {
   "cell_type": "markdown",
   "id": "preliminary-ladder",
   "metadata": {
    "papermill": {
     "duration": 0.035057,
     "end_time": "2021-05-26T10:06:51.519120",
     "exception": false,
     "start_time": "2021-05-26T10:06:51.484063",
     "status": "completed"
    },
    "tags": []
   },
   "source": [
    "### Boosted Trees\n",
    "\n",
    "First we specify the learning task and the corresponding learning objective. The first nuiscance function is estimated using the `XGBRegressor` with objective option reg:squarederror, is a regression with squared loss. The default evaluation metric is the rmse. The second nuisance function is estimated by classification, hence the objective is binary:lorgistic with an evaluation metric logloss. Eta, which ranges $[0,1]$ is the step size shrinkage is used during update to prevent overfitting. Because our outpuv value is already numeric we set the label encoder to false. For further information see the documentation of [XGBoost](https://xgboost.readthedocs.io/en/latest/parameter.html)."
   ]
  },
  {
   "cell_type": "code",
   "execution_count": 53,
   "id": "touched-duration",
   "metadata": {
    "papermill": {
     "duration": 0.044223,
     "end_time": "2021-05-26T10:06:51.598881",
     "exception": false,
     "start_time": "2021-05-26T10:06:51.554658",
     "status": "completed"
    },
    "tags": []
   },
   "outputs": [],
   "source": [
    "boost = XGBRegressor(n_jobs=1, objective = \"reg:squarederror\")\n",
    "boost_class = XGBClassifier(use_label_encoder=False, n_jobs=1,\n",
    "                            objective = \"binary:logistic\", eval_metric = \"logloss\")\n",
    "\n",
    "np.random.seed(123)\n",
    "dml_irm_boost = dml.DoubleMLIRM(data_dml_base,\n",
    "                                ml_g = boost,\n",
    "                                ml_m = boost_class,\n",
    "                                trimming_threshold = 0.025,\n",
    "                                n_folds = 3)"
   ]
  },
  {
   "cell_type": "code",
   "execution_count": 54,
   "id": "domestic-belfast",
   "metadata": {
    "papermill": {
     "duration": 0.042653,
     "end_time": "2021-05-26T10:06:51.678474",
     "exception": false,
     "start_time": "2021-05-26T10:06:51.635821",
     "status": "completed"
    },
    "tags": []
   },
   "outputs": [
    {
     "name": "stdout",
     "output_type": "stream",
     "text": [
      "['ml_g0', 'ml_g1', 'ml_m']\n"
     ]
    }
   ],
   "source": [
    "print(dml_irm_boost.params_names)\n"
   ]
  },
  {
   "cell_type": "markdown",
   "id": "054d8a6d-e58f-444e-a2ce-b6de8590d123",
   "metadata": {},
   "source": [
    "### Grid Search"
   ]
  },
  {
   "cell_type": "markdown",
   "id": "4dcdf726-db3a-4975-b452-5d383ce80582",
   "metadata": {},
   "source": [
    "Similarly to the lasso and random forest the tuning for gradient boosting is done. Due to the smaller parameter grid, it only takes about 2 minutes to tune. The hardcoded parameters can be verified by uncommenting the `.tune` method and letting it run."
   ]
  },
  {
   "cell_type": "code",
   "execution_count": 55,
   "id": "50cebc31-f53b-45ea-90c3-184c002dfe31",
   "metadata": {
    "tags": []
   },
   "outputs": [
    {
     "data": {
      "text/plain": [
       "dict"
      ]
     },
     "execution_count": 55,
     "metadata": {},
     "output_type": "execute_result"
    }
   ],
   "source": [
    "#parameter space wide\n",
    "\n",
    "tuning_space_ml_g = {'n_estimators': [5,8,15,25,30, 40, 50], 'eta': [0.01,0.1,0.2,0,5]}\n",
    "\n",
    "tuning_space_ml_m = {'n_estimators': [5,8,15,25,30, 40, 50], 'eta': [0.01,0.1,0.2,0,5]}\n",
    "\n",
    "tuning_spaces = ({\"ml_g\" : tuning_space_ml_g,              \n",
    "                     \"ml_m\" : tuning_space_ml_m})\n",
    "\n",
    "import warnings\n",
    "warnings.filterwarnings(\"ignore\")\n",
    "\n",
    "type(tuning_spaces)\n",
    "#dml_irm_boost.tune(tuning_spaces, search_mode = 'randomized_search', tune_on_folds = True,\n",
    "#                    n_folds_tune=5, set_as_params = True, return_tune_res = False)"
   ]
  },
  {
   "cell_type": "code",
   "execution_count": 56,
   "id": "2d9368b4-af15-4921-82ac-321ea78f56f7",
   "metadata": {},
   "outputs": [
    {
     "name": "stdout",
     "output_type": "stream",
     "text": [
      "{'A': [None]}\n",
      "{'A': [None]}\n",
      "{'A': [None]}\n"
     ]
    }
   ],
   "source": [
    "print(dml_irm_boost.get_params('ml_g0'))\n",
    "print(dml_irm_boost.get_params('ml_g1'))\n",
    "print(dml_irm_boost.get_params('ml_m'))"
   ]
  },
  {
   "cell_type": "code",
   "execution_count": 57,
   "id": "03b67303-08ee-458b-86dc-03b96664bee9",
   "metadata": {},
   "outputs": [
    {
     "data": {
      "text/plain": [
       "<doubleml.double_ml_irm.DoubleMLIRM at 0x207f162bee0>"
      ]
     },
     "execution_count": 57,
     "metadata": {},
     "output_type": "execute_result"
    }
   ],
   "source": [
    "#Set nuisance-part specific parameters\n",
    "dml_irm_boost.set_ml_nuisance_params('ml_g0', 'A', {\n",
    "    'n_estimators': 30, 'eta': 0.2})\n",
    "dml_irm_boost.set_ml_nuisance_params('ml_g1', 'A', {\n",
    "    'n_estimators': 30, 'eta': 0.2})\n",
    "dml_irm_boost.set_ml_nuisance_params('ml_m', 'A', {\n",
    "    'n_estimators': 15, 'eta': 0.2})"
   ]
  },
  {
   "cell_type": "code",
   "execution_count": 58,
   "id": "published-haiti",
   "metadata": {
    "papermill": {
     "duration": 1.624245,
     "end_time": "2021-05-26T10:06:57.845803",
     "exception": false,
     "start_time": "2021-05-26T10:06:56.221558",
     "status": "completed"
    },
    "tags": []
   },
   "outputs": [
    {
     "data": {
      "text/html": [
       "<div>\n",
       "<style scoped>\n",
       "    .dataframe tbody tr th:only-of-type {\n",
       "        vertical-align: middle;\n",
       "    }\n",
       "\n",
       "    .dataframe tbody tr th {\n",
       "        vertical-align: top;\n",
       "    }\n",
       "\n",
       "    .dataframe thead th {\n",
       "        text-align: right;\n",
       "    }\n",
       "</style>\n",
       "<table border=\"1\" class=\"dataframe\">\n",
       "  <thead>\n",
       "    <tr style=\"text-align: right;\">\n",
       "      <th></th>\n",
       "      <th>coef</th>\n",
       "      <th>std err</th>\n",
       "      <th>t</th>\n",
       "      <th>P&gt;|t|</th>\n",
       "      <th>2.5 %</th>\n",
       "      <th>97.5 %</th>\n",
       "    </tr>\n",
       "  </thead>\n",
       "  <tbody>\n",
       "    <tr>\n",
       "      <th>A</th>\n",
       "      <td>0.739225</td>\n",
       "      <td>0.092511</td>\n",
       "      <td>7.990648</td>\n",
       "      <td>1.342310e-15</td>\n",
       "      <td>0.557906</td>\n",
       "      <td>0.920544</td>\n",
       "    </tr>\n",
       "  </tbody>\n",
       "</table>\n",
       "</div>"
      ],
      "text/plain": [
       "       coef   std err         t         P>|t|     2.5 %    97.5 %\n",
       "A  0.739225  0.092511  7.990648  1.342310e-15  0.557906  0.920544"
      ]
     },
     "execution_count": 58,
     "metadata": {},
     "output_type": "execute_result"
    }
   ],
   "source": [
    "dml_irm_boost.fit(store_predictions=True)\n",
    "boost_summary = dml_irm_boost.summary\n",
    "\n",
    "boost_summary"
   ]
  },
  {
   "cell_type": "markdown",
   "id": "29edef0d-7e46-4004-8dab-ebebd92d0c6b",
   "metadata": {},
   "source": [
    "### Summary Results\n",
    "We define a small function which calculates the bias from the true parameter $0.8$."
   ]
  },
  {
   "cell_type": "code",
   "execution_count": 59,
   "id": "e3486038-6b28-4278-a661-072a528a1602",
   "metadata": {},
   "outputs": [],
   "source": [
    "def bias(x):\n",
    "    x=x - 0.8\n",
    "    x=round(abs(x),3)\n",
    "    return x"
   ]
  },
  {
   "cell_type": "code",
   "execution_count": 60,
   "id": "touched-bristol",
   "metadata": {
    "papermill": {
     "duration": 0.054738,
     "end_time": "2021-05-26T10:06:57.937711",
     "exception": false,
     "start_time": "2021-05-26T10:06:57.882973",
     "status": "completed"
    },
    "tags": []
   },
   "outputs": [
    {
     "data": {
      "text/html": [
       "<div>\n",
       "<style scoped>\n",
       "    .dataframe tbody tr th:only-of-type {\n",
       "        vertical-align: middle;\n",
       "    }\n",
       "\n",
       "    .dataframe tbody tr th {\n",
       "        vertical-align: top;\n",
       "    }\n",
       "\n",
       "    .dataframe thead th {\n",
       "        text-align: right;\n",
       "    }\n",
       "</style>\n",
       "<table border=\"1\" class=\"dataframe\">\n",
       "  <thead>\n",
       "    <tr style=\"text-align: right;\">\n",
       "      <th></th>\n",
       "      <th>coef</th>\n",
       "      <th>Bias</th>\n",
       "      <th>2.5 %</th>\n",
       "      <th>97.5 %</th>\n",
       "    </tr>\n",
       "  </thead>\n",
       "  <tbody>\n",
       "    <tr>\n",
       "      <th>lasso</th>\n",
       "      <td>0.834</td>\n",
       "      <td>0.034</td>\n",
       "      <td>0.696</td>\n",
       "      <td>0.972</td>\n",
       "    </tr>\n",
       "    <tr>\n",
       "      <th>forest</th>\n",
       "      <td>0.862</td>\n",
       "      <td>0.062</td>\n",
       "      <td>0.701</td>\n",
       "      <td>1.023</td>\n",
       "    </tr>\n",
       "    <tr>\n",
       "      <th>xgboost</th>\n",
       "      <td>0.739</td>\n",
       "      <td>0.061</td>\n",
       "      <td>0.558</td>\n",
       "      <td>0.921</td>\n",
       "    </tr>\n",
       "  </tbody>\n",
       "</table>\n",
       "</div>"
      ],
      "text/plain": [
       "          coef   Bias  2.5 %  97.5 %\n",
       "lasso    0.834  0.034  0.696   0.972\n",
       "forest   0.862  0.062  0.701   1.023\n",
       "xgboost  0.739  0.061  0.558   0.921"
      ]
     },
     "execution_count": 60,
     "metadata": {},
     "output_type": "execute_result"
    }
   ],
   "source": [
    "irm_summary = pd.concat((lasso_summary, forest_summary, boost_summary))\n",
    "irm_summary.index = ['lasso', 'forest', 'xgboost']\n",
    "\n",
    "irm_summary.insert(1, \"Bias\", [bias(irm_summary.loc['lasso','coef']), \n",
    "                               bias(irm_summary.loc['forest','coef']), \n",
    "                               bias(irm_summary.loc['xgboost','coef'])])\n",
    "\n",
    "irm_summary[['coef', 'Bias', '2.5 %', '97.5 %']].round(3)"
   ]
  },
  {
   "cell_type": "markdown",
   "id": "fc7c0d5e-e824-48c1-8427-60416601e330",
   "metadata": {
    "papermill": {
     "duration": 0.030715,
     "end_time": "2021-05-26T10:02:16.264183",
     "exception": false,
     "start_time": "2021-05-26T10:02:16.233468",
     "status": "completed"
    },
    "tags": []
   },
   "source": [
    "## 2. Tuning: Partial Linear Regression Model\n",
    "\n",
    "### Lasso\n",
    "\n",
    "The lasso tuning from above problem works quite well, therefore it was unchanged."
   ]
  },
  {
   "cell_type": "code",
   "execution_count": 61,
   "id": "524baf7e-978d-452e-b38f-1e91c6004f74",
   "metadata": {
    "papermill": {
     "duration": 0.044535,
     "end_time": "2021-05-26T10:02:16.462934",
     "exception": false,
     "start_time": "2021-05-26T10:02:16.418399",
     "status": "completed"
    },
    "tags": []
   },
   "outputs": [
    {
     "data": {
      "text/plain": [
       "<doubleml.double_ml_plr.DoubleMLPLR at 0x207f15ea670>"
      ]
     },
     "execution_count": 61,
     "metadata": {},
     "output_type": "execute_result"
    }
   ],
   "source": [
    "#PLR\n",
    "from sklearn.linear_model import Lasso\n",
    "\n",
    "#is pipeline bc. there is scaling applied before\n",
    "lasso = make_pipeline(StandardScaler(), LassoCV(cv=5, max_iter=10000))          #lasso is only for regression (not for classification)\n",
    "\n",
    "lasso_class = make_pipeline(StandardScaler(),\n",
    "                            LogisticRegressionCV(cv=5, penalty='l1', solver='liblinear',      #logistic reg with l1 penalty is a lassso classifier\n",
    "                                                 max_iter=1000))                              #liblinear solver for small datasets\n",
    "\n",
    "np.random.seed(123)\n",
    "# Initialize DoubleMLPLR model\n",
    "dml_plr_lasso = dml.DoubleMLPLR(data_dml_base,\n",
    "                                ml_g = lasso,\n",
    "                                ml_m = lasso_class,\n",
    "                                n_folds = 3)\n",
    "\n",
    "dml_plr_lasso"
   ]
  },
  {
   "cell_type": "code",
   "execution_count": 62,
   "id": "5bda9cf2-d2dc-4e9a-a29c-51fec8ada893",
   "metadata": {
    "papermill": {
     "duration": 48.914961,
     "end_time": "2021-05-26T10:03:05.666964",
     "exception": false,
     "start_time": "2021-05-26T10:02:16.752003",
     "status": "completed"
    },
    "tags": []
   },
   "outputs": [
    {
     "data": {
      "text/html": [
       "<div>\n",
       "<style scoped>\n",
       "    .dataframe tbody tr th:only-of-type {\n",
       "        vertical-align: middle;\n",
       "    }\n",
       "\n",
       "    .dataframe tbody tr th {\n",
       "        vertical-align: top;\n",
       "    }\n",
       "\n",
       "    .dataframe thead th {\n",
       "        text-align: right;\n",
       "    }\n",
       "</style>\n",
       "<table border=\"1\" class=\"dataframe\">\n",
       "  <thead>\n",
       "    <tr style=\"text-align: right;\">\n",
       "      <th></th>\n",
       "      <th>coef</th>\n",
       "      <th>std err</th>\n",
       "      <th>t</th>\n",
       "      <th>P&gt;|t|</th>\n",
       "      <th>2.5 %</th>\n",
       "      <th>97.5 %</th>\n",
       "    </tr>\n",
       "  </thead>\n",
       "  <tbody>\n",
       "    <tr>\n",
       "      <th>A</th>\n",
       "      <td>0.784574</td>\n",
       "      <td>0.070414</td>\n",
       "      <td>11.14235</td>\n",
       "      <td>7.803312e-29</td>\n",
       "      <td>0.646566</td>\n",
       "      <td>0.922582</td>\n",
       "    </tr>\n",
       "  </tbody>\n",
       "</table>\n",
       "</div>"
      ],
      "text/plain": [
       "       coef   std err         t         P>|t|     2.5 %    97.5 %\n",
       "A  0.784574  0.070414  11.14235  7.803312e-29  0.646566  0.922582"
      ]
     },
     "execution_count": 62,
     "metadata": {},
     "output_type": "execute_result"
    }
   ],
   "source": [
    "# Set nuisance-part specific parameters\n",
    "dml_plr_lasso.set_ml_nuisance_params('ml_m', 'A', {\n",
    "    'logisticregressioncv__Cs': 4, 'logisticregressioncv__random_state': 0})\n",
    "\n",
    "#fit model with above set parameters\n",
    "dml_plr_lasso.fit(store_predictions=True) \n",
    "lasso_summary = dml_plr_lasso.summary\n",
    "\n",
    "lasso_summary"
   ]
  },
  {
   "cell_type": "code",
   "execution_count": 63,
   "id": "41ce1bd1-4926-4a7b-b27e-b48640956241",
   "metadata": {
    "papermill": {
     "duration": 3.407511,
     "end_time": "2021-05-26T10:03:09.115890",
     "exception": false,
     "start_time": "2021-05-26T10:03:05.708379",
     "status": "completed"
    },
    "tags": []
   },
   "outputs": [
    {
     "data": {
      "text/html": [
       "<div>\n",
       "<style scoped>\n",
       "    .dataframe tbody tr th:only-of-type {\n",
       "        vertical-align: middle;\n",
       "    }\n",
       "\n",
       "    .dataframe tbody tr th {\n",
       "        vertical-align: top;\n",
       "    }\n",
       "\n",
       "    .dataframe thead th {\n",
       "        text-align: right;\n",
       "    }\n",
       "</style>\n",
       "<table border=\"1\" class=\"dataframe\">\n",
       "  <thead>\n",
       "    <tr style=\"text-align: right;\">\n",
       "      <th></th>\n",
       "      <th>coef</th>\n",
       "      <th>std err</th>\n",
       "      <th>t</th>\n",
       "      <th>P&gt;|t|</th>\n",
       "      <th>2.5 %</th>\n",
       "      <th>97.5 %</th>\n",
       "    </tr>\n",
       "  </thead>\n",
       "  <tbody>\n",
       "    <tr>\n",
       "      <th>A</th>\n",
       "      <td>0.784574</td>\n",
       "      <td>0.070414</td>\n",
       "      <td>11.14235</td>\n",
       "      <td>7.803312e-29</td>\n",
       "      <td>0.646566</td>\n",
       "      <td>0.922582</td>\n",
       "    </tr>\n",
       "  </tbody>\n",
       "</table>\n",
       "</div>"
      ],
      "text/plain": [
       "       coef   std err         t         P>|t|     2.5 %    97.5 %\n",
       "A  0.784574  0.070414  11.14235  7.803312e-29  0.646566  0.922582"
      ]
     },
     "execution_count": 63,
     "metadata": {},
     "output_type": "execute_result"
    }
   ],
   "source": [
    "dml_plr_lasso.fit(store_predictions=True)\n",
    "lasso_summary = dml_plr_lasso.summary\n",
    "\n",
    "lasso_summary"
   ]
  },
  {
   "cell_type": "markdown",
   "id": "c6fef8ee-7283-4ec4-9f75-228c512e713e",
   "metadata": {
    "papermill": {
     "duration": 0.04306,
     "end_time": "2021-05-26T10:03:09.220743",
     "exception": false,
     "start_time": "2021-05-26T10:03:09.177683",
     "status": "completed"
    },
    "tags": []
   },
   "source": [
    "The coefficient estimated with lasso is the same as in the main notebook [TODO:insert link of main notebook]."
   ]
  },
  {
   "cell_type": "markdown",
   "id": "ff1daf63-a0b5-4b25-8401-4240c92b82cf",
   "metadata": {
    "papermill": {
     "duration": 0.032194,
     "end_time": "2021-05-26T10:03:09.284890",
     "exception": false,
     "start_time": "2021-05-26T10:03:09.252696",
     "status": "completed"
    },
    "tags": []
   },
   "source": [
    "### Random Forest"
   ]
  },
  {
   "cell_type": "markdown",
   "id": "5884e36c-3e4d-4cfd-8011-96b3b02612db",
   "metadata": {},
   "source": [
    "In this case we use the random forest defaults which perform quite well. Therefore no tuning grid is provided."
   ]
  },
  {
   "cell_type": "code",
   "execution_count": 64,
   "id": "95c1f2ae-e9dd-4bf4-b1cc-b163b0f1e761",
   "metadata": {
    "papermill": {
     "duration": 0.040901,
     "end_time": "2021-05-26T10:03:09.357683",
     "exception": false,
     "start_time": "2021-05-26T10:03:09.316782",
     "status": "completed"
    },
    "tags": []
   },
   "outputs": [],
   "source": [
    "randomForest = RandomForestRegressor()\n",
    "randomForest_class = RandomForestClassifier()\n",
    "\n",
    "np.random.seed(123)\n",
    "dml_plr_forest = dml.DoubleMLPLR(data_dml_base,\n",
    "                                 ml_g = randomForest,\n",
    "                                 ml_m = randomForest_class,\n",
    "                                 n_folds = 3,\n",
    "                                n_rep=3)"
   ]
  },
  {
   "cell_type": "code",
   "execution_count": 65,
   "id": "82241056-5645-409e-961d-6450cc34e8fe",
   "metadata": {
    "papermill": {
     "duration": 43.429064,
     "end_time": "2021-05-26T10:03:53.091617",
     "exception": false,
     "start_time": "2021-05-26T10:03:09.662553",
     "status": "completed"
    },
    "tags": []
   },
   "outputs": [
    {
     "data": {
      "text/html": [
       "<div>\n",
       "<style scoped>\n",
       "    .dataframe tbody tr th:only-of-type {\n",
       "        vertical-align: middle;\n",
       "    }\n",
       "\n",
       "    .dataframe tbody tr th {\n",
       "        vertical-align: top;\n",
       "    }\n",
       "\n",
       "    .dataframe thead th {\n",
       "        text-align: right;\n",
       "    }\n",
       "</style>\n",
       "<table border=\"1\" class=\"dataframe\">\n",
       "  <thead>\n",
       "    <tr style=\"text-align: right;\">\n",
       "      <th></th>\n",
       "      <th>coef</th>\n",
       "      <th>std err</th>\n",
       "      <th>t</th>\n",
       "      <th>P&gt;|t|</th>\n",
       "      <th>2.5 %</th>\n",
       "      <th>97.5 %</th>\n",
       "    </tr>\n",
       "  </thead>\n",
       "  <tbody>\n",
       "    <tr>\n",
       "      <th>A</th>\n",
       "      <td>0.823899</td>\n",
       "      <td>0.073474</td>\n",
       "      <td>11.213529</td>\n",
       "      <td>3.499555e-29</td>\n",
       "      <td>0.679893</td>\n",
       "      <td>0.967904</td>\n",
       "    </tr>\n",
       "  </tbody>\n",
       "</table>\n",
       "</div>"
      ],
      "text/plain": [
       "       coef   std err          t         P>|t|     2.5 %    97.5 %\n",
       "A  0.823899  0.073474  11.213529  3.499555e-29  0.679893  0.967904"
      ]
     },
     "execution_count": 65,
     "metadata": {},
     "output_type": "execute_result"
    }
   ],
   "source": [
    "dml_plr_forest.fit(store_predictions=True)\n",
    "forest_summary = dml_plr_forest.summary\n",
    "\n",
    "forest_summary"
   ]
  },
  {
   "cell_type": "markdown",
   "id": "f5dcd940-e798-4e5f-b867-b33f921b1809",
   "metadata": {
    "papermill": {
     "duration": 0.031748,
     "end_time": "2021-05-26T10:03:53.155272",
     "exception": false,
     "start_time": "2021-05-26T10:03:53.123524",
     "status": "completed"
    },
    "tags": []
   },
   "source": [
    "### Bosting\n",
    "\n",
    "Hyperparameters are pre-set for the boosting learners. The squared error objective is appropriate for a regression learner and the binary:logistic with a log loss evaluation metric for a classifier."
   ]
  },
  {
   "cell_type": "code",
   "execution_count": 66,
   "id": "a0504319-cee1-42c3-8a44-c7a5f417d9de",
   "metadata": {
    "papermill": {
     "duration": 0.039558,
     "end_time": "2021-05-26T10:03:53.369239",
     "exception": false,
     "start_time": "2021-05-26T10:03:53.329681",
     "status": "completed"
    },
    "tags": []
   },
   "outputs": [],
   "source": [
    "boost = XGBRegressor(n_jobs=1, objective = \"reg:squarederror\",\n",
    "                     eta=0.1)\n",
    "\n",
    "boost_class = XGBClassifier(use_label_encoder=False, n_jobs=1,\n",
    "                            objective = \"binary:logistic\", eval_metric = \"logloss\",\n",
    "                            eta=0.1)\n",
    "\n",
    "# Boosted Trees\n",
    "\n",
    "np.random.seed(123)\n",
    "dml_plr_boost = dml.DoubleMLPLR(data_dml_base,\n",
    "                                ml_g = boost,\n",
    "                                ml_m = boost_class,\n",
    "                                n_folds = 3)"
   ]
  },
  {
   "cell_type": "markdown",
   "id": "f49b5655-7425-46b9-b3c2-7eda01c0e86f",
   "metadata": {
    "papermill": {
     "duration": 0.032229,
     "end_time": "2021-05-26T10:03:53.505178",
     "exception": false,
     "start_time": "2021-05-26T10:03:53.472949",
     "status": "completed"
    },
    "tags": []
   },
   "source": [
    "Bosting is not very good without tuning, therefore a grid of parameters is provided below. It was found using a randomized search, that `n_estimators` in range $55$ and $65$ provide good results. Therfore in the gird search below this range for `n_estimators` is used. Similarly for the $ml_m$ it was found that `n_estimators` between $1$ and $10$ perform well. This refined our search to a smaller range of hyperparameters. To tune, uncomment `dml_plr_boost.tune`."
   ]
  },
  {
   "cell_type": "code",
   "execution_count": 67,
   "id": "0e0fbdf2-230c-4b61-ba88-faa1a2ca1fba",
   "metadata": {
    "papermill": {
     "duration": 0.041937,
     "end_time": "2021-05-26T10:03:53.579534",
     "exception": false,
     "start_time": "2021-05-26T10:03:53.537597",
     "status": "completed"
    },
    "tags": []
   },
   "outputs": [
    {
     "name": "stdout",
     "output_type": "stream",
     "text": [
      "['ml_g', 'ml_m']\n",
      "{'A': [None]}\n",
      "{'A': [None]}\n"
     ]
    }
   ],
   "source": [
    "#tuning further parameters\n",
    "\n",
    "tuning_space_ml_g = {'n_estimators': np.linspace(55, 65, 5, dtype = int), 'max_depth': [2,3,4,6]}\n",
    "\n",
    "tuning_space_ml_m = {'n_estimators': np.linspace(1, 10, 5, dtype = int), 'max_depth': [2,3,4,6]}\n",
    "\n",
    "tuning_spaces = ({\"ml_g\" : tuning_space_ml_g, \n",
    "                     \"ml_m\" : tuning_space_ml_m})\n",
    "\n",
    "import warnings\n",
    "warnings.filterwarnings(\"ignore\")\n",
    "\n",
    "type(tuning_spaces)\n",
    "#dml_plr_boost.tune(tuning_spaces, search_mode = 'randomized_search')\n",
    "\n",
    "print(dml_plr_boost.params_names)\n",
    "print(dml_plr_boost.get_params('ml_g'))\n",
    "print(dml_plr_boost.get_params('ml_m'))"
   ]
  },
  {
   "cell_type": "markdown",
   "id": "aab368e4-f997-4764-9d12-c3a1eaf1de04",
   "metadata": {
    "papermill": {
     "duration": 0.03227,
     "end_time": "2021-05-26T10:03:53.644151",
     "exception": false,
     "start_time": "2021-05-26T10:03:53.611881",
     "status": "completed"
    },
    "tags": []
   },
   "source": [
    "The results of the tuning will show that the best hyperparameters for $ml_g$ are  `n_estimators: 57, max_depth: 2` and the best hyperparameters for $ml_m$ are `n_estimators: 10, max_depth: 3`. These parameters are hardcoded using the [`.set_ml_nuisance_params`](https://docs.doubleml.org/stable/api/generated/doubleml.DoubleMLPLR.html#doubleml.DoubleMLPLR.set_ml_nuisance_params) method. "
   ]
  },
  {
   "cell_type": "code",
   "execution_count": 68,
   "id": "140830c6-2e1a-4ed5-b008-a9f2d00f4dfa",
   "metadata": {
    "papermill": {
     "duration": 0.039799,
     "end_time": "2021-05-26T10:03:53.716377",
     "exception": false,
     "start_time": "2021-05-26T10:03:53.676578",
     "status": "completed"
    },
    "tags": []
   },
   "outputs": [
    {
     "data": {
      "text/plain": [
       "<doubleml.double_ml_plr.DoubleMLPLR at 0x207f162b1f0>"
      ]
     },
     "execution_count": 68,
     "metadata": {},
     "output_type": "execute_result"
    }
   ],
   "source": [
    "dml_plr_boost.set_ml_nuisance_params('ml_g', 'A', {                                  \n",
    "    'n_estimators': 57, 'max_depth': 2})\n",
    "dml_plr_boost.set_ml_nuisance_params('ml_m', 'A', {                          \n",
    "    'n_estimators': 10, 'max_depth': 3})                                "
   ]
  },
  {
   "cell_type": "code",
   "execution_count": 69,
   "id": "3972a161-0583-4b9c-b7cb-3a34129c7394",
   "metadata": {
    "papermill": {
     "duration": 1.529645,
     "end_time": "2021-05-26T10:03:55.279584",
     "exception": false,
     "start_time": "2021-05-26T10:03:53.749939",
     "status": "completed"
    },
    "tags": []
   },
   "outputs": [
    {
     "data": {
      "text/html": [
       "<div>\n",
       "<style scoped>\n",
       "    .dataframe tbody tr th:only-of-type {\n",
       "        vertical-align: middle;\n",
       "    }\n",
       "\n",
       "    .dataframe tbody tr th {\n",
       "        vertical-align: top;\n",
       "    }\n",
       "\n",
       "    .dataframe thead th {\n",
       "        text-align: right;\n",
       "    }\n",
       "</style>\n",
       "<table border=\"1\" class=\"dataframe\">\n",
       "  <thead>\n",
       "    <tr style=\"text-align: right;\">\n",
       "      <th></th>\n",
       "      <th>coef</th>\n",
       "      <th>std err</th>\n",
       "      <th>t</th>\n",
       "      <th>P&gt;|t|</th>\n",
       "      <th>2.5 %</th>\n",
       "      <th>97.5 %</th>\n",
       "    </tr>\n",
       "  </thead>\n",
       "  <tbody>\n",
       "    <tr>\n",
       "      <th>A</th>\n",
       "      <td>0.814555</td>\n",
       "      <td>0.071203</td>\n",
       "      <td>11.439929</td>\n",
       "      <td>2.641013e-30</td>\n",
       "      <td>0.675</td>\n",
       "      <td>0.95411</td>\n",
       "    </tr>\n",
       "  </tbody>\n",
       "</table>\n",
       "</div>"
      ],
      "text/plain": [
       "       coef   std err          t         P>|t|  2.5 %   97.5 %\n",
       "A  0.814555  0.071203  11.439929  2.641013e-30  0.675  0.95411"
      ]
     },
     "execution_count": 69,
     "metadata": {},
     "output_type": "execute_result"
    }
   ],
   "source": [
    "dml_plr_boost.fit(store_predictions=True)\n",
    "boost_summary = dml_plr_boost.summary\n",
    "\n",
    "boost_summary"
   ]
  },
  {
   "cell_type": "code",
   "execution_count": 70,
   "id": "bab3da63-40f4-430d-8379-552068cd6c35",
   "metadata": {
    "papermill": {
     "duration": 0.04787,
     "end_time": "2021-05-26T10:03:55.428273",
     "exception": false,
     "start_time": "2021-05-26T10:03:55.380403",
     "status": "completed"
    },
    "tags": []
   },
   "outputs": [
    {
     "data": {
      "text/html": [
       "<div>\n",
       "<style scoped>\n",
       "    .dataframe tbody tr th:only-of-type {\n",
       "        vertical-align: middle;\n",
       "    }\n",
       "\n",
       "    .dataframe tbody tr th {\n",
       "        vertical-align: top;\n",
       "    }\n",
       "\n",
       "    .dataframe thead th {\n",
       "        text-align: right;\n",
       "    }\n",
       "</style>\n",
       "<table border=\"1\" class=\"dataframe\">\n",
       "  <thead>\n",
       "    <tr style=\"text-align: right;\">\n",
       "      <th></th>\n",
       "      <th>coef</th>\n",
       "      <th>Bias</th>\n",
       "      <th>2.5 %</th>\n",
       "      <th>97.5 %</th>\n",
       "    </tr>\n",
       "  </thead>\n",
       "  <tbody>\n",
       "    <tr>\n",
       "      <th>lasso</th>\n",
       "      <td>0.785</td>\n",
       "      <td>0.015</td>\n",
       "      <td>0.647</td>\n",
       "      <td>0.923</td>\n",
       "    </tr>\n",
       "    <tr>\n",
       "      <th>forest</th>\n",
       "      <td>0.824</td>\n",
       "      <td>0.024</td>\n",
       "      <td>0.680</td>\n",
       "      <td>0.968</td>\n",
       "    </tr>\n",
       "    <tr>\n",
       "      <th>xgboost</th>\n",
       "      <td>0.815</td>\n",
       "      <td>0.015</td>\n",
       "      <td>0.675</td>\n",
       "      <td>0.954</td>\n",
       "    </tr>\n",
       "  </tbody>\n",
       "</table>\n",
       "</div>"
      ],
      "text/plain": [
       "          coef   Bias  2.5 %  97.5 %\n",
       "lasso    0.785  0.015  0.647   0.923\n",
       "forest   0.824  0.024  0.680   0.968\n",
       "xgboost  0.815  0.015  0.675   0.954"
      ]
     },
     "execution_count": 70,
     "metadata": {},
     "output_type": "execute_result"
    }
   ],
   "source": [
    "plr_summary = pd.concat((lasso_summary, forest_summary, boost_summary))\n",
    "plr_summary.index = ['lasso', 'forest', 'xgboost']\n",
    "\n",
    "plr_summary.insert(1, \"Bias\",  [bias(plr_summary.loc['lasso','coef']), \n",
    "                               bias(plr_summary.loc['forest','coef']), \n",
    "                               bias(plr_summary.loc['xgboost','coef'])])\n",
    "\n",
    "plr_summary[['coef', 'Bias', '2.5 %', '97.5 %']].round(3)"
   ]
  },
  {
   "cell_type": "markdown",
   "id": "agricultural-holder",
   "metadata": {
    "papermill": {
     "duration": 0.038336,
     "end_time": "2021-05-26T10:06:58.015999",
     "exception": false,
     "start_time": "2021-05-26T10:06:57.977663",
     "status": "completed"
    },
    "tags": []
   },
   "source": [
    "## Summary Results All Models\n",
    "Regression results are left out because there is no tuning required."
   ]
  },
  {
   "cell_type": "code",
   "execution_count": 71,
   "id": "pediatric-subdivision",
   "metadata": {
    "papermill": {
     "duration": 0.065362,
     "end_time": "2021-05-26T10:06:58.120049",
     "exception": false,
     "start_time": "2021-05-26T10:06:58.054687",
     "status": "completed"
    },
    "tags": []
   },
   "outputs": [
    {
     "data": {
      "text/html": [
       "<div>\n",
       "<style scoped>\n",
       "    .dataframe tbody tr th:only-of-type {\n",
       "        vertical-align: middle;\n",
       "    }\n",
       "\n",
       "    .dataframe tbody tr th {\n",
       "        vertical-align: top;\n",
       "    }\n",
       "\n",
       "    .dataframe thead th {\n",
       "        text-align: right;\n",
       "    }\n",
       "</style>\n",
       "<table border=\"1\" class=\"dataframe\">\n",
       "  <thead>\n",
       "    <tr style=\"text-align: right;\">\n",
       "      <th></th>\n",
       "      <th></th>\n",
       "      <th>coef</th>\n",
       "      <th>Bias</th>\n",
       "      <th>2.5 %</th>\n",
       "      <th>97.5 %</th>\n",
       "    </tr>\n",
       "    <tr>\n",
       "      <th>Model</th>\n",
       "      <th>ML</th>\n",
       "      <th></th>\n",
       "      <th></th>\n",
       "      <th></th>\n",
       "      <th></th>\n",
       "    </tr>\n",
       "  </thead>\n",
       "  <tbody>\n",
       "    <tr>\n",
       "      <th rowspan=\"3\" valign=\"top\">IRM Tune</th>\n",
       "      <th>lasso</th>\n",
       "      <td>0.834</td>\n",
       "      <td>0.034</td>\n",
       "      <td>0.696</td>\n",
       "      <td>0.972</td>\n",
       "    </tr>\n",
       "    <tr>\n",
       "      <th>forest</th>\n",
       "      <td>0.862</td>\n",
       "      <td>0.062</td>\n",
       "      <td>0.701</td>\n",
       "      <td>1.023</td>\n",
       "    </tr>\n",
       "    <tr>\n",
       "      <th>xgboost</th>\n",
       "      <td>0.739</td>\n",
       "      <td>0.061</td>\n",
       "      <td>0.558</td>\n",
       "      <td>0.921</td>\n",
       "    </tr>\n",
       "    <tr>\n",
       "      <th rowspan=\"3\" valign=\"top\">PLR Tune</th>\n",
       "      <th>lasso</th>\n",
       "      <td>0.785</td>\n",
       "      <td>0.015</td>\n",
       "      <td>0.647</td>\n",
       "      <td>0.923</td>\n",
       "    </tr>\n",
       "    <tr>\n",
       "      <th>forest</th>\n",
       "      <td>0.824</td>\n",
       "      <td>0.024</td>\n",
       "      <td>0.680</td>\n",
       "      <td>0.968</td>\n",
       "    </tr>\n",
       "    <tr>\n",
       "      <th>xgboost</th>\n",
       "      <td>0.815</td>\n",
       "      <td>0.015</td>\n",
       "      <td>0.675</td>\n",
       "      <td>0.954</td>\n",
       "    </tr>\n",
       "  </tbody>\n",
       "</table>\n",
       "</div>"
      ],
      "text/plain": [
       "                   coef   Bias  2.5 %  97.5 %\n",
       "Model    ML                                  \n",
       "IRM Tune lasso    0.834  0.034  0.696   0.972\n",
       "         forest   0.862  0.062  0.701   1.023\n",
       "         xgboost  0.739  0.061  0.558   0.921\n",
       "PLR Tune lasso    0.785  0.015  0.647   0.923\n",
       "         forest   0.824  0.024  0.680   0.968\n",
       "         xgboost  0.815  0.015  0.675   0.954"
      ]
     },
     "execution_count": 71,
     "metadata": {},
     "output_type": "execute_result"
    }
   ],
   "source": [
    "df_summary = pd.concat((irm_summary, plr_summary)).reset_index().rename(columns={'index': 'ML'})\n",
    "df_summary['Model'] = np.concatenate((np.repeat('IRM Tune', 3), np.repeat('PLR Tune', 3)))\n",
    "df_summary\n",
    "\n",
    "df_summary=df_summary[['ML', 'Model','coef', 'Bias', '2.5 %', '97.5 %']]\n",
    "df_summary\n",
    "df_summary.set_index(['Model', 'ML']).round(3)"
   ]
  }
 ],
 "metadata": {
  "kernelspec": {
   "display_name": "Python 3 (ipykernel)",
   "language": "python",
   "name": "python3"
  },
  "language_info": {
   "codemirror_mode": {
    "name": "ipython",
    "version": 3
   },
   "file_extension": ".py",
   "mimetype": "text/x-python",
   "name": "python",
   "nbconvert_exporter": "python",
   "pygments_lexer": "ipython3",
   "version": "3.8.12"
  },
  "papermill": {
   "default_parameters": {},
   "duration": 299.684742,
   "end_time": "2021-05-26T10:06:59.042230",
   "environment_variables": {},
   "exception": null,
   "input_path": "__notebook__.ipynb",
   "output_path": "__notebook__.ipynb",
   "parameters": {},
   "start_time": "2021-05-26T10:01:59.357488",
   "version": "2.3.3"
  }
 },
 "nbformat": 4,
 "nbformat_minor": 5
}
