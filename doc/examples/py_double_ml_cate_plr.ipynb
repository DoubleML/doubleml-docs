{
 "cells": [
  {
   "cell_type": "markdown",
   "metadata": {},
   "source": [
    "# Python: Conditional Average Treatment Effects (CATEs) for PLR models\n",
    "\n",
    "In this simple example, we illustrate how the [DoubleML](https://docs.doubleml.org/stable/index.html) package can be used to estimate conditional average treatment effects with B-splines for one or two-dimensional effects in the [DoubleMLPLR](https://docs.doubleml.org/stable/guide/models.html#partially-linear-regression-model-plr) model."
   ]
  },
  {
   "cell_type": "code",
   "execution_count": 1,
   "metadata": {},
   "outputs": [],
   "source": [
    "import numpy as np\n",
    "import pandas as pd\n",
    "import doubleml as dml\n",
    "\n",
    "from doubleml.datasets import make_heterogeneous_data"
   ]
  },
  {
   "cell_type": "markdown",
   "metadata": {},
   "source": [
    "## Data\n",
    "\n",
    "We define a data generating process to create synthetic data to compare the estimates to the true effect. The data generating process is based on the Monte Carlo simulation from [Oprescu et al. (2019)](http://proceedings.mlr.press/v97/oprescu19a.html).\n",
    "\n",
    "The documentation of the data generating process can be found [here](https://docs.doubleml.org/stable/guide/examples.html#data-generating-process)."
   ]
  },
  {
   "cell_type": "markdown",
   "metadata": {},
   "source": [
    "## One-dimensional Example\n",
    "\n",
    "We start with an one-dimensional effect and create our training data. In this example the true effect depends only the first covariate $X_1$ and takes the following form\n",
    "\n",
    "$$\n",
    "g(X) = \\exp(2X_0) + 3\\sin(4X_0).\n",
    "$$"
   ]
  },
  {
   "cell_type": "markdown",
   "metadata": {},
   "source": [
    "The generated data also contain a callable with key `treatment_effect` to calculate the true treatment effect."
   ]
  },
  {
   "cell_type": "code",
   "execution_count": 2,
   "metadata": {},
   "outputs": [
    {
     "data": {
      "text/html": [
       "<div>\n",
       "<style scoped>\n",
       "    .dataframe tbody tr th:only-of-type {\n",
       "        vertical-align: middle;\n",
       "    }\n",
       "\n",
       "    .dataframe tbody tr th {\n",
       "        vertical-align: top;\n",
       "    }\n",
       "\n",
       "    .dataframe thead th {\n",
       "        text-align: right;\n",
       "    }\n",
       "</style>\n",
       "<table border=\"1\" class=\"dataframe\">\n",
       "  <thead>\n",
       "    <tr style=\"text-align: right;\">\n",
       "      <th></th>\n",
       "      <th>y</th>\n",
       "      <th>d</th>\n",
       "      <th>X_0</th>\n",
       "      <th>X_1</th>\n",
       "      <th>X_2</th>\n",
       "      <th>X_3</th>\n",
       "      <th>X_4</th>\n",
       "      <th>X_5</th>\n",
       "      <th>X_6</th>\n",
       "      <th>X_7</th>\n",
       "      <th>X_8</th>\n",
       "      <th>X_9</th>\n",
       "    </tr>\n",
       "  </thead>\n",
       "  <tbody>\n",
       "    <tr>\n",
       "      <th>0</th>\n",
       "      <td>10.533800</td>\n",
       "      <td>1.730504</td>\n",
       "      <td>0.402253</td>\n",
       "      <td>0.317759</td>\n",
       "      <td>0.346251</td>\n",
       "      <td>0.156271</td>\n",
       "      <td>0.206901</td>\n",
       "      <td>0.611841</td>\n",
       "      <td>0.537868</td>\n",
       "      <td>0.634596</td>\n",
       "      <td>0.704866</td>\n",
       "      <td>0.695175</td>\n",
       "    </tr>\n",
       "    <tr>\n",
       "      <th>1</th>\n",
       "      <td>7.207826</td>\n",
       "      <td>1.355270</td>\n",
       "      <td>0.448032</td>\n",
       "      <td>0.520593</td>\n",
       "      <td>0.729525</td>\n",
       "      <td>0.993063</td>\n",
       "      <td>0.678403</td>\n",
       "      <td>0.061944</td>\n",
       "      <td>0.975903</td>\n",
       "      <td>0.994558</td>\n",
       "      <td>0.307703</td>\n",
       "      <td>0.399361</td>\n",
       "    </tr>\n",
       "    <tr>\n",
       "      <th>2</th>\n",
       "      <td>5.629033</td>\n",
       "      <td>1.035330</td>\n",
       "      <td>0.884943</td>\n",
       "      <td>0.185242</td>\n",
       "      <td>0.576921</td>\n",
       "      <td>0.139531</td>\n",
       "      <td>0.094937</td>\n",
       "      <td>0.570169</td>\n",
       "      <td>0.869129</td>\n",
       "      <td>0.774277</td>\n",
       "      <td>0.725709</td>\n",
       "      <td>0.327578</td>\n",
       "    </tr>\n",
       "    <tr>\n",
       "      <th>3</th>\n",
       "      <td>10.295751</td>\n",
       "      <td>2.041533</td>\n",
       "      <td>0.856392</td>\n",
       "      <td>0.109578</td>\n",
       "      <td>0.289179</td>\n",
       "      <td>0.539200</td>\n",
       "      <td>0.107302</td>\n",
       "      <td>0.229375</td>\n",
       "      <td>0.402990</td>\n",
       "      <td>0.642634</td>\n",
       "      <td>0.901492</td>\n",
       "      <td>0.956414</td>\n",
       "    </tr>\n",
       "    <tr>\n",
       "      <th>4</th>\n",
       "      <td>4.648531</td>\n",
       "      <td>2.493625</td>\n",
       "      <td>0.017342</td>\n",
       "      <td>0.971714</td>\n",
       "      <td>0.753524</td>\n",
       "      <td>0.812654</td>\n",
       "      <td>0.100088</td>\n",
       "      <td>0.209802</td>\n",
       "      <td>0.871548</td>\n",
       "      <td>0.939126</td>\n",
       "      <td>0.734091</td>\n",
       "      <td>0.943711</td>\n",
       "    </tr>\n",
       "  </tbody>\n",
       "</table>\n",
       "</div>"
      ],
      "text/plain": [
       "           y         d       X_0       X_1       X_2       X_3       X_4  \\\n",
       "0  10.533800  1.730504  0.402253  0.317759  0.346251  0.156271  0.206901   \n",
       "1   7.207826  1.355270  0.448032  0.520593  0.729525  0.993063  0.678403   \n",
       "2   5.629033  1.035330  0.884943  0.185242  0.576921  0.139531  0.094937   \n",
       "3  10.295751  2.041533  0.856392  0.109578  0.289179  0.539200  0.107302   \n",
       "4   4.648531  2.493625  0.017342  0.971714  0.753524  0.812654  0.100088   \n",
       "\n",
       "        X_5       X_6       X_7       X_8       X_9  \n",
       "0  0.611841  0.537868  0.634596  0.704866  0.695175  \n",
       "1  0.061944  0.975903  0.994558  0.307703  0.399361  \n",
       "2  0.570169  0.869129  0.774277  0.725709  0.327578  \n",
       "3  0.229375  0.402990  0.642634  0.901492  0.956414  \n",
       "4  0.209802  0.871548  0.939126  0.734091  0.943711  "
      ]
     },
     "execution_count": 2,
     "metadata": {},
     "output_type": "execute_result"
    }
   ],
   "source": [
    "data_dict = make_heterogeneous_data(\n",
    "    n_obs=2000,\n",
    "    p=10,\n",
    "    support_size=5,\n",
    "    n_x=1,\n",
    ")\n",
    "treatment_effect = data_dict['treatment_effect']\n",
    "data = data_dict['data']\n",
    "data.head()"
   ]
  },
  {
   "cell_type": "markdown",
   "metadata": {},
   "source": [
    "First, define the ``DoubleMLData`` object."
   ]
  },
  {
   "cell_type": "code",
   "execution_count": 3,
   "metadata": {},
   "outputs": [],
   "source": [
    "data_dml_base = dml.DoubleMLData(\n",
    "    data,\n",
    "    y_col='y',\n",
    "    d_cols='d'\n",
    ")"
   ]
  },
  {
   "cell_type": "markdown",
   "metadata": {},
   "source": [
    "Next, define the learners for the nuisance functions and fit the [PLR Model](https://docs.doubleml.org/stable/api/generated/doubleml.DoubleMLPLR.html). Remark that the learners are not optimal for the linear form of this example."
   ]
  },
  {
   "cell_type": "code",
   "execution_count": 4,
   "metadata": {},
   "outputs": [
    {
     "name": "stdout",
     "output_type": "stream",
     "text": [
      "Training PLR Model\n",
      "       coef   std err          t  P>|t|     2.5 %    97.5 %\n",
      "d  4.405008  0.047855  92.049447    0.0  4.311215  4.498802\n"
     ]
    }
   ],
   "source": [
    "# First stage estimation\n",
    "from sklearn.ensemble import RandomForestClassifier, RandomForestRegressor\n",
    "ml_l = RandomForestRegressor(n_estimators=500)\n",
    "ml_m = RandomForestRegressor(n_estimators=500)\n",
    "\n",
    "np.random.seed(42)\n",
    "\n",
    "dml_plr = dml.DoubleMLPLR(data_dml_base,\n",
    "                          ml_l=ml_l,\n",
    "                          ml_m=ml_m,\n",
    "                          n_folds=5)\n",
    "print(\"Training PLR Model\")\n",
    "dml_plr.fit()\n",
    "\n",
    "print(dml_plr.summary)"
   ]
  },
  {
   "cell_type": "markdown",
   "metadata": {},
   "source": [
    "To estimate the CATE, we rely on the best-linear-predictor of the linear score as in [Semenova et al. (2021)](https://doi.org/10.1093/ectj/utaa027) To approximate the target function $\\theta_0(x)$ with a linear form, we have to define a data frame of basis functions. Here, we rely on [patsy](https://patsy.readthedocs.io/en/latest/) to construct a suitable basis of [B-splines](https://en.wikipedia.org/wiki/B-spline)."
   ]
  },
  {
   "cell_type": "code",
   "execution_count": 5,
   "metadata": {},
   "outputs": [],
   "source": [
    "import patsy\n",
    "design_matrix = patsy.dmatrix(\"bs(x, df=5, degree=2)\", {\"x\": data[\"X_0\"]})\n",
    "spline_basis = pd.DataFrame(design_matrix)"
   ]
  },
  {
   "cell_type": "markdown",
   "metadata": {},
   "source": [
    "To estimate the parameters to calculate the CATE estimate call the ``cate()`` method and supply the dataframe of basis elements."
   ]
  },
  {
   "cell_type": "code",
   "execution_count": 6,
   "metadata": {},
   "outputs": [
    {
     "name": "stdout",
     "output_type": "stream",
     "text": [
      "================== DoubleMLBLP Object ==================\n",
      "\n",
      "------------------ Fit summary ------------------\n",
      "       coef   std err          t          P>|t|    [0.025    0.975]\n",
      "0  0.942671  0.167585   5.625028   2.116457e-08  0.614011  1.271331\n",
      "1  1.930949  0.272674   7.081530   1.968157e-12  1.396193  2.465705\n",
      "2  4.281002  0.179223  23.886478  4.141166e-111  3.929518  4.632485\n",
      "3  4.622346  0.216784  21.322313   4.834272e-91  4.197198  5.047494\n",
      "4  3.328832  0.220189  15.118057   5.727567e-49  2.897007  3.760656\n",
      "5  4.296581  0.241393  17.799095   6.848524e-66  3.823171  4.769990\n"
     ]
    }
   ],
   "source": [
    "cate = dml_plr.cate(spline_basis)\n",
    "print(cate)"
   ]
  },
  {
   "cell_type": "markdown",
   "metadata": {},
   "source": [
    "To obtain the confidence intervals for the CATE, we have to call the ``confint()`` method and a supply a dataframe of basis elements.\n",
    "This could be the same basis as for fitting the CATE model or a new basis to e.g. evaluate the CATE model on a grid.\n",
    "Here, we will evaluate the CATE on a grid from 0.1 to 0.9 to plot the final results.\n",
    "Further, we construct uniform confidence intervals by setting the option ``joint`` and providing a number of bootstrap repetitions ``n_rep_boot``."
   ]
  },
  {
   "cell_type": "code",
   "execution_count": 7,
   "metadata": {},
   "outputs": [
    {
     "name": "stdout",
     "output_type": "stream",
     "text": [
      "       2.5 %    effect    97.5 %\n",
      "0   2.170901  2.481679  2.792457\n",
      "1   2.270901  2.592746  2.914590\n",
      "2   2.368937  2.701733  3.034529\n",
      "3   2.465753  2.808641  3.151529\n",
      "4   2.561898  2.913469  3.265040\n",
      "..       ...       ...       ...\n",
      "95  4.398154  4.676427  4.954700\n",
      "96  4.414468  4.687485  4.960502\n",
      "97  4.433593  4.701601  4.969608\n",
      "98  4.454944  4.718774  4.982604\n",
      "99  4.477831  4.739005  5.000179\n",
      "\n",
      "[100 rows x 3 columns]\n"
     ]
    }
   ],
   "source": [
    "new_data = {\"x\": np.linspace(0.1, 0.9, 100)}\n",
    "spline_grid = pd.DataFrame(patsy.build_design_matrices([design_matrix.design_info], new_data)[0])\n",
    "df_cate = cate.confint(spline_grid, level=0.95, joint=True, n_rep_boot=2000)\n",
    "print(df_cate)"
   ]
  },
  {
   "cell_type": "markdown",
   "metadata": {},
   "source": [
    "Finally, we can plot our results and compare them with the true effect."
   ]
  },
  {
   "cell_type": "code",
   "execution_count": 8,
   "metadata": {},
   "outputs": [
    {
     "data": {
      "image/png": "[encoded data removed]",
      "text/plain": [
       "<Figure size 1000x750 with 1 Axes>"
      ]
     },
     "metadata": {},
     "output_type": "display_data"
    }
   ],
   "source": [
    "from matplotlib import pyplot as plt\n",
    "plt.rcParams['figure.figsize'] = 10., 7.5\n",
    "\n",
    "df_cate['x'] = new_data['x']\n",
    "df_cate['true_effect'] = treatment_effect(new_data[\"x\"].reshape(-1, 1))\n",
    "fig, ax = plt.subplots()\n",
    "ax.plot(df_cate['x'],df_cate['effect'], label='Estimated Effect')\n",
    "ax.plot(df_cate['x'],df_cate['true_effect'], color=\"green\", label='True Effect')\n",
    "ax.fill_between(df_cate['x'], df_cate['2.5 %'], df_cate['97.5 %'], color='b', alpha=.3, label='Confidence Interval')\n",
    "\n",
    "plt.legend()\n",
    "plt.title('CATE')\n",
    "plt.xlabel('x')\n",
    "_ =  plt.ylabel('Effect and 95%-CI')"
   ]
  },
  {
   "cell_type": "markdown",
   "metadata": {},
   "source": [
    "If the effect is not one-dimensional, the estimate still corresponds to the projection of the true effect on the basis functions."
   ]
  },
  {
   "cell_type": "markdown",
   "metadata": {},
   "source": [
    "## Two-Dimensional Example\n",
    "\n",
    "It is also possible to estimate multi-dimensional conditional effects. We will use a similar data generating process but now the effect depends on the first two covariates $X_0$ and $X_1$ and takes the following form\n",
    "$$\n",
    "g(X) = \\exp(2X_0) + 3\\sin(4X_1).\n",
    "$$"
   ]
  },
  {
   "cell_type": "markdown",
   "metadata": {},
   "source": [
    "With the argument ``n_x=2`` we can specify set the effect to be two-dimensional."
   ]
  },
  {
   "cell_type": "code",
   "execution_count": 9,
   "metadata": {},
   "outputs": [
    {
     "data": {
      "text/html": [
       "<div>\n",
       "<style scoped>\n",
       "    .dataframe tbody tr th:only-of-type {\n",
       "        vertical-align: middle;\n",
       "    }\n",
       "\n",
       "    .dataframe tbody tr th {\n",
       "        vertical-align: top;\n",
       "    }\n",
       "\n",
       "    .dataframe thead th {\n",
       "        text-align: right;\n",
       "    }\n",
       "</style>\n",
       "<table border=\"1\" class=\"dataframe\">\n",
       "  <thead>\n",
       "    <tr style=\"text-align: right;\">\n",
       "      <th></th>\n",
       "      <th>y</th>\n",
       "      <th>d</th>\n",
       "      <th>X_0</th>\n",
       "      <th>X_1</th>\n",
       "      <th>X_2</th>\n",
       "      <th>X_3</th>\n",
       "      <th>X_4</th>\n",
       "      <th>X_5</th>\n",
       "      <th>X_6</th>\n",
       "      <th>X_7</th>\n",
       "      <th>X_8</th>\n",
       "      <th>X_9</th>\n",
       "    </tr>\n",
       "  </thead>\n",
       "  <tbody>\n",
       "    <tr>\n",
       "      <th>0</th>\n",
       "      <td>3.229377</td>\n",
       "      <td>0.968135</td>\n",
       "      <td>0.398619</td>\n",
       "      <td>0.026628</td>\n",
       "      <td>0.839477</td>\n",
       "      <td>0.177093</td>\n",
       "      <td>0.673867</td>\n",
       "      <td>0.357376</td>\n",
       "      <td>0.816065</td>\n",
       "      <td>0.509687</td>\n",
       "      <td>0.324402</td>\n",
       "      <td>0.323871</td>\n",
       "    </tr>\n",
       "    <tr>\n",
       "      <th>1</th>\n",
       "      <td>3.604357</td>\n",
       "      <td>0.629705</td>\n",
       "      <td>0.326927</td>\n",
       "      <td>0.788579</td>\n",
       "      <td>0.711116</td>\n",
       "      <td>0.319214</td>\n",
       "      <td>0.490208</td>\n",
       "      <td>0.076153</td>\n",
       "      <td>0.827500</td>\n",
       "      <td>0.265955</td>\n",
       "      <td>0.889225</td>\n",
       "      <td>0.596797</td>\n",
       "    </tr>\n",
       "    <tr>\n",
       "      <th>2</th>\n",
       "      <td>13.411539</td>\n",
       "      <td>2.279208</td>\n",
       "      <td>0.567820</td>\n",
       "      <td>0.162719</td>\n",
       "      <td>0.069535</td>\n",
       "      <td>0.552617</td>\n",
       "      <td>0.467989</td>\n",
       "      <td>0.119683</td>\n",
       "      <td>0.835588</td>\n",
       "      <td>0.417240</td>\n",
       "      <td>0.260458</td>\n",
       "      <td>0.788272</td>\n",
       "    </tr>\n",
       "    <tr>\n",
       "      <th>3</th>\n",
       "      <td>10.096991</td>\n",
       "      <td>0.923248</td>\n",
       "      <td>0.913064</td>\n",
       "      <td>0.305963</td>\n",
       "      <td>0.775950</td>\n",
       "      <td>0.652520</td>\n",
       "      <td>0.989728</td>\n",
       "      <td>0.203993</td>\n",
       "      <td>0.960679</td>\n",
       "      <td>0.315272</td>\n",
       "      <td>0.411954</td>\n",
       "      <td>0.358826</td>\n",
       "    </tr>\n",
       "    <tr>\n",
       "      <th>4</th>\n",
       "      <td>3.163961</td>\n",
       "      <td>0.701036</td>\n",
       "      <td>0.268451</td>\n",
       "      <td>0.693223</td>\n",
       "      <td>0.589145</td>\n",
       "      <td>0.305692</td>\n",
       "      <td>0.132212</td>\n",
       "      <td>0.317376</td>\n",
       "      <td>0.381231</td>\n",
       "      <td>0.380653</td>\n",
       "      <td>0.357260</td>\n",
       "      <td>0.048723</td>\n",
       "    </tr>\n",
       "  </tbody>\n",
       "</table>\n",
       "</div>"
      ],
      "text/plain": [
       "           y         d       X_0       X_1       X_2       X_3       X_4  \\\n",
       "0   3.229377  0.968135  0.398619  0.026628  0.839477  0.177093  0.673867   \n",
       "1   3.604357  0.629705  0.326927  0.788579  0.711116  0.319214  0.490208   \n",
       "2  13.411539  2.279208  0.567820  0.162719  0.069535  0.552617  0.467989   \n",
       "3  10.096991  0.923248  0.913064  0.305963  0.775950  0.652520  0.989728   \n",
       "4   3.163961  0.701036  0.268451  0.693223  0.589145  0.305692  0.132212   \n",
       "\n",
       "        X_5       X_6       X_7       X_8       X_9  \n",
       "0  0.357376  0.816065  0.509687  0.324402  0.323871  \n",
       "1  0.076153  0.827500  0.265955  0.889225  0.596797  \n",
       "2  0.119683  0.835588  0.417240  0.260458  0.788272  \n",
       "3  0.203993  0.960679  0.315272  0.411954  0.358826  \n",
       "4  0.317376  0.381231  0.380653  0.357260  0.048723  "
      ]
     },
     "execution_count": 9,
     "metadata": {},
     "output_type": "execute_result"
    }
   ],
   "source": [
    "data_dict = make_heterogeneous_data(\n",
    "    n_obs=5000,\n",
    "    p=10,\n",
    "    support_size=5,\n",
    "    n_x=2,\n",
    ")\n",
    "true_effect = data_dict['treatment_effect']\n",
    "data = data_dict['data']\n",
    "data.head()"
   ]
  },
  {
   "cell_type": "markdown",
   "metadata": {},
   "source": [
    "As univariate example estimate the [PLR Model](https://docs.doubleml.org/stable/api/generated/doubleml.DoubleMLPLR.html)."
   ]
  },
  {
   "cell_type": "code",
   "execution_count": 10,
   "metadata": {},
   "outputs": [],
   "source": [
    "data_dml_base = dml.DoubleMLData(\n",
    "    data,\n",
    "    y_col='y',\n",
    "    d_cols='d'\n",
    ")"
   ]
  },
  {
   "cell_type": "code",
   "execution_count": 11,
   "metadata": {},
   "outputs": [
    {
     "name": "stdout",
     "output_type": "stream",
     "text": [
      "Training PLR Model\n"
     ]
    }
   ],
   "source": [
    "# First stage estimation\n",
    "from sklearn.ensemble import RandomForestClassifier, RandomForestRegressor\n",
    "ml_l = RandomForestRegressor(n_estimators=500)\n",
    "ml_m = RandomForestRegressor(n_estimators=500)\n",
    "\n",
    "np.random.seed(42)\n",
    "\n",
    "dml_plr = dml.DoubleMLPLR(data_dml_base,\n",
    "                          ml_l=ml_l,\n",
    "                          ml_m=ml_m,\n",
    "                          n_folds=5)\n",
    "print(\"Training PLR Model\")\n",
    "dml_plr.fit()\n",
    "\n",
    "print(dml_plr.summary)"
   ]
  },
  {
   "cell_type": "markdown",
   "metadata": {},
   "source": [
    "As above, we will rely on the [patsy](https://patsy.readthedocs.io/en/latest/) package to construct the basis elements.\n",
    "In the two-dimensional case, we will construct a tensor product of B-splines (for more information see [here](https://patsy.readthedocs.io/en/latest/spline-regression.html#tensor-product-smooths))."
   ]
  },
  {
   "cell_type": "code",
   "execution_count": null,
   "metadata": {},
   "outputs": [],
   "source": [
    "design_matrix = patsy.dmatrix(\"te(bs(x_0, df=7, degree=3), bs(x_1, df=7, degree=3))\", {\"x_0\": data[\"X_0\"], \"x_1\": data[\"X_1\"]})\n",
    "spline_basis = pd.DataFrame(design_matrix)\n",
    "\n",
    "cate = dml_plr.cate(spline_basis)\n",
    "print(cate)"
   ]
  },
  {
   "cell_type": "markdown",
   "metadata": {},
   "source": [
    "Finally, we create a new grid to evaluate and plot the effects."
   ]
  },
  {
   "cell_type": "code",
   "execution_count": null,
   "metadata": {},
   "outputs": [],
   "source": [
    "grid_size = 100\n",
    "x_0 = np.linspace(0.1, 0.9, grid_size)\n",
    "x_1 = np.linspace(0.1, 0.9, grid_size)\n",
    "x_0, x_1 = np.meshgrid(x_0, x_1)\n",
    "\n",
    "new_data = {\"x_0\": x_0.ravel(), \"x_1\": x_1.ravel()}"
   ]
  },
  {
   "cell_type": "code",
   "execution_count": null,
   "metadata": {},
   "outputs": [],
   "source": [
    "spline_grid = pd.DataFrame(patsy.build_design_matrices([design_matrix.design_info], new_data)[0])\n",
    "df_cate = cate.confint(spline_grid, joint=True, n_rep_boot=2000)\n",
    "print(df_cate)"
   ]
  },
  {
   "cell_type": "code",
   "execution_count": null,
   "metadata": {},
   "outputs": [],
   "source": [
    "import plotly.graph_objects as go\n",
    "\n",
    "grid_array = np.array(list(zip(x_0.ravel(), x_1.ravel())))\n",
    "true_effect = treatment_effect(grid_array)\n",
    "effect = np.asarray(df_cate['effect']).reshape(x_0.shape)\n",
    "lower_bound = np.asarray(df_cate['2.5 %']).reshape(x_0.shape)\n",
    "upper_bound = np.asarray(df_cate['97.5 %']).reshape(x_0.shape)\n",
    "\n",
    "fig = go.Figure(data=[\n",
    "    go.Surface(x=x_0,\n",
    "               y=x_1,\n",
    "               z=true_effect),\n",
    "    go.Surface(x=x_0,\n",
    "               y=x_1,\n",
    "               z=upper_bound, showscale=False, opacity=0.4,colorscale='purp'),\n",
    "    go.Surface(x=x_0,\n",
    "               y=x_1,\n",
    "               z=lower_bound, showscale=False, opacity=0.4,colorscale='purp'),\n",
    "])\n",
    "fig.update_traces(contours_z=dict(show=True, usecolormap=True,\n",
    "                                  highlightcolor=\"limegreen\", project_z=True))\n",
    "\n",
    "fig.update_layout(scene = dict(\n",
    "                    xaxis_title='X_0',\n",
    "                    yaxis_title='X_1',\n",
    "                    zaxis_title='Effect'),\n",
    "                    width=700,\n",
    "                    margin=dict(r=20, b=10, l=10, t=10))\n",
    "\n",
    "fig.show()"
   ]
  },
  {
   "cell_type": "code",
   "execution_count": null,
   "metadata": {},
   "outputs": [],
   "source": []
  }
 ],
 "metadata": {
  "kernelspec": {
   "display_name": "dml_dev",
   "language": "python",
   "name": "python3"
  },
  "language_info": {
   "codemirror_mode": {
    "name": "ipython",
    "version": 3
   },
   "file_extension": ".py",
   "mimetype": "text/x-python",
   "name": "python",
   "nbconvert_exporter": "python",
   "pygments_lexer": "ipython3",
   "version": "3.11.2"
  }
 },
 "nbformat": 4,
 "nbformat_minor": 2
}
