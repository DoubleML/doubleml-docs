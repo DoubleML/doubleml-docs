{
 "cells": [
  {
   "cell_type": "markdown",
   "metadata": {
    "collapsed": false
   },
   "source": [
    "# Python: Coniditional Value at Risk of potential outcomes\n",
    "In this example, we illustrate how the [DoubleML](https://docs.doubleml.org/stable/index.html) package can be used to estimate the conditional Value at Risk of potential outcomes. The estimation is based on the article from [Kallus  et al.](https://arxiv.org/abs/1912.12945)"
   ]
  },
  {
   "cell_type": "markdown",
   "metadata": {
    "collapsed": false
   },
   "source": [
    "## Data\n",
    "We define a data generating process to create synthetic data to compare the estimates to the true effect."
   ]
  },
  {
   "cell_type": "code",
   "execution_count": 1,
   "metadata": {
    "collapsed": false
   },
   "outputs": [],
   "source": [
    "import numpy as np\n",
    "import pandas as pd\n",
    "import doubleml as dml\n",
    "import multiprocessing\n",
    "\n",
    "from sklearn.ensemble import RandomForestClassifier"
   ]
  },
  {
   "cell_type": "markdown",
   "metadata": {
    "collapsed": false
   },
   "source": [
    "The data is generated as a location-scale model with\n",
    "\n",
    "$$Y_i = \\text{loc}(D_i,X_i) + \\text{scale}(D_i,X_i)\\cdot\\varepsilon_i,$$\n",
    "\n",
    "where $X_i\\sim\\mathcal{U}[-1,1]^{p}$, $D_i\\sim \\mathcal{B}(1,1/2)$ and $\\varepsilon_i \\sim \\mathcal{N}(0,1)$.\n",
    "Further, the location and scale are determined according to the following functions\n",
    "\n",
    "$$\\begin{aligned}\n",
    "\\text{loc}(d,x) &:= 0.3d + 4dx_4x_1 - 3x_3 \\\\\n",
    "\\text{scale}(d,x) &:= \\sqrt{d/2 + 3dx_1 + 1},\n",
    "\\end{aligned}$$\n",
    "\n",
    "and the treatment takes the following form\n",
    "\n",
    "$$D_i = 1_{\\{(X_2 - X_3 + \\epsilon_i > 0)\\}}$$\n",
    "\n",
    "with $\\epsilon_i \\sim \\mathcal{N}(0,1)$."
   ]
  },
  {
   "cell_type": "code",
   "execution_count": 2,
   "metadata": {
    "collapsed": false
   },
   "outputs": [],
   "source": [
    "def f_loc(D, X):\n",
    "  loc = 0.3*D + 4*D*X[:,4]*2*X[:,1] - 3*X[:,3]\n",
    "  return loc\n",
    "\n",
    "def f_scale(D, X):\n",
    "  scale = np.sqrt(1*D + 2*D*X[:,1] + 1)\n",
    "  return scale\n",
    "\n",
    "def dgp(n=200, p=5):\n",
    "    X = np.random.uniform(-1,1,size=[n,p])\n",
    "    D = ((X[:,1 ] - X[:,3] + np.random.normal(size=n)) > 0)*1.0\n",
    "    epsilon = np.random.normal(size=n)\n",
    "\n",
    "    Y = f_loc(D, X) + f_scale(D, X)*epsilon\n",
    "\n",
    "    return Y, X, D, epsilon"
   ]
  },
  {
   "cell_type": "markdown",
   "metadata": {
    "collapsed": false
   },
   "source": [
    "We can calculate the true conditional value at risk through simulations. Here, we will just simulate the true quantile for a range of quantiles."
   ]
  },
  {
   "cell_type": "code",
   "execution_count": 3,
   "metadata": {
    "collapsed": false
   },
   "outputs": [
    {
     "name": "stdout",
     "output_type": "stream",
     "text": [
      "Conditional Value at Risk Y(0): [0.3735891994561554, 0.5383946918721213, 0.6995157928012022, 0.859082298817502, 1.0183418352676812, 1.1780934230585896, 1.339011848694319, 1.5017552032336068, 1.6670168238653724, 1.8355712185257773, 2.008527740972667, 2.1876819190489334, 2.3755373097468517, 2.576125865884954, 2.7960101056979716, 3.0472894536775486, 3.3558794252961475]\n",
      "Conditional Value at Risk Y(1): [0.9841698903589027, 1.2585662699820532, 1.5196468993702361, 1.774102311255711, 2.026174230860782, 2.2789665764480365, 2.5352060141764303, 2.7975690707232053, 3.06878062284555, 3.3521567515302912, 3.651884277590134, 3.9736056098240566, 4.325233560662923, 4.718599137506422, 5.172986816935914, 5.723165994125883, 6.4423340576001324]\n"
     ]
    }
   ],
   "source": [
    "tau_vec = np.arange(0.1,0.95,0.05)\n",
    "p = 10\n",
    "n_true = int(10e+6)\n",
    "\n",
    "_, X_true, _, epsilon_true = dgp(n=n_true, p = p)\n",
    "D1 = np.ones(n_true)\n",
    "D0 = np.zeros(n_true)\n",
    "\n",
    "Y1 = f_loc(D1, X_true) + f_scale(D1, X_true)*epsilon_true\n",
    "Y0 = f_loc(D0, X_true) + f_scale(D0, X_true)*epsilon_true\n",
    "\n",
    "Y1_quant = np.quantile(Y1, q=tau_vec)\n",
    "Y0_quant = np.quantile(Y0, q=tau_vec)\n",
    "\n",
    "Y1_cvar = [Y1[Y1 >= quant].mean() for quant in Y1_quant]\n",
    "Y0_cvar = [Y0[Y0 >= quant].mean() for quant in Y0_quant]\n",
    "\n",
    "print(f'Conditional Value at Risk Y(0): {Y0_cvar}')\n",
    "print(f'Conditional Value at Risk Y(1): {Y1_cvar}')"
   ]
  },
  {
   "cell_type": "markdown",
   "metadata": {
    "collapsed": false
   },
   "source": [
    "Let us generate $n=1000$ observations and convert them to a [DoubleMLData](https://docs.doubleml.org/stable/api/generated/doubleml.DoubleMLData.html) object."
   ]
  },
  {
   "cell_type": "code",
   "execution_count": 4,
   "metadata": {
    "collapsed": false
   },
   "outputs": [],
   "source": [
    "n = 1000\n",
    "p = 5\n",
    "\n",
    "np.random.seed(42)\n",
    "Y, X, D, _ = dgp(n=n,p=p)\n",
    "obj_dml_data = dml.DoubleMLData.from_arrays(X, Y, D)"
   ]
  },
  {
   "cell_type": "markdown",
   "metadata": {
    "collapsed": false
   },
   "source": [
    "## Conditional Value at Risk (CVaR)\n",
    "Next, we can initialize our two machine learning algorithms to train the different classifiers. Then we can initialize the `DoubleMLCVAR` objects and call `.fit()` to estimate the relevant parameters. To obtain confidence intervals, we can use the `.confint()` method."
   ]
  },
  {
   "cell_type": "code",
   "execution_count": 5,
   "metadata": {
    "collapsed": false
   },
   "outputs": [
    {
     "name": "stdout",
     "output_type": "stream",
     "text": [
      "Number of Cores: 24\n",
      "Quantile: 0.1\n",
      "Quantile: 0.15000000000000002\n",
      "Quantile: 0.20000000000000004\n",
      "Quantile: 0.25000000000000006\n",
      "Quantile: 0.30000000000000004\n",
      "Quantile: 0.3500000000000001\n",
      "Quantile: 0.40000000000000013\n",
      "Quantile: 0.45000000000000007\n",
      "Quantile: 0.5000000000000001\n",
      "Quantile: 0.5500000000000002\n",
      "Quantile: 0.6000000000000002\n",
      "Quantile: 0.6500000000000001\n",
      "Quantile: 0.7000000000000002\n",
      "Quantile: 0.7500000000000002\n",
      "Quantile: 0.8000000000000002\n",
      "Quantile: 0.8500000000000002\n",
      "Quantile: 0.9000000000000002\n"
     ]
    }
   ],
   "source": [
    "ml_m = RandomForestClassifier(n_estimators=200)\n",
    "ml_g = RandomForestClassifier(n_estimators=200)\n",
    "\n",
    "n_cores = multiprocessing.cpu_count()\n",
    "print(f\"Number of Cores: {n_cores}\")\n",
    "\n",
    "CVAR_0 = np.full((len(tau_vec)), np.nan)\n",
    "CVAR_1 = np.full((len(tau_vec)), np.nan)\n",
    "\n",
    "ci_CVAR_0 = np.full((len(tau_vec),2), np.nan)\n",
    "ci_CVAR_1 = np.full((len(tau_vec),2), np.nan)\n",
    "\n",
    "for idx_tau, tau in enumerate(tau_vec):\n",
    "    print(f'Quantile: {tau}')\n",
    "    dml_CVAR_0 = dml.DoubleMLCVAR(obj_dml_data,\n",
    "                                ml_g, ml_m,\n",
    "                                quantile=tau,\n",
    "                                treatment=0,\n",
    "                                n_folds=5)\n",
    "    dml_CVAR_1 = dml.DoubleMLCVAR(obj_dml_data,\n",
    "                                ml_g, ml_m,\n",
    "                                quantile=tau,\n",
    "                                treatment=1,\n",
    "                                n_folds=5)\n",
    "\n",
    "    dml_CVAR_0.fit(n_jobs_cv=n_cores-1)\n",
    "    dml_CVAR_1.fit(n_jobs_cv=n_cores-1)\n",
    "\n",
    "    ci_CVAR_0[idx_tau, :] = dml_CVAR_0.confint(level=0.95).to_numpy()\n",
    "    ci_CVAR_1[idx_tau, :] = dml_CVAR_1.confint(level=0.95).to_numpy()\n",
    "\n",
    "    CVAR_0[idx_tau] = dml_CVAR_0.coef\n",
    "    CVAR_1[idx_tau] = dml_CVAR_1.coef"
   ]
  },
  {
   "cell_type": "markdown",
   "metadata": {
    "collapsed": false
   },
   "source": [
    "Finally, let us take a look at the estimated values."
   ]
  },
  {
   "cell_type": "code",
   "execution_count": 6,
   "metadata": {
    "collapsed": false
   },
   "outputs": [
    {
     "name": "stdout",
     "output_type": "stream",
     "text": [
      "    Quantile  CVaR Y(0)  CVaR Y(1)  DML CVaR Y(0)  DML CVaR Y(1)  \\\n",
      "0       0.10   0.373589   0.984170       0.402146       0.923113   \n",
      "1       0.15   0.538395   1.258566       0.385928       1.094065   \n",
      "2       0.20   0.699516   1.519647       0.601610       1.142731   \n",
      "3       0.25   0.859082   1.774102       0.797331       1.653433   \n",
      "4       0.30   1.018342   2.026174       0.881134       1.833344   \n",
      "5       0.35   1.178093   2.278967       1.097953       2.096988   \n",
      "6       0.40   1.339012   2.535206       1.200685       2.319370   \n",
      "7       0.45   1.501755   2.797569       1.261211       2.520283   \n",
      "8       0.50   1.667017   3.068781       1.574061       2.799580   \n",
      "9       0.55   1.835571   3.352157       1.724443       3.119003   \n",
      "10      0.60   2.008528   3.651884       1.809993       3.370586   \n",
      "11      0.65   2.187682   3.973606       1.978819       3.651538   \n",
      "12      0.70   2.375537   4.325234       2.295349       4.016379   \n",
      "13      0.75   2.576126   4.718599       2.552897       4.372538   \n",
      "14      0.80   2.796010   5.172987       2.472174       4.735780   \n",
      "15      0.85   3.047289   5.723166       2.709514       5.302752   \n",
      "16      0.90   3.355879   6.442334       3.076025       6.024459   \n",
      "\n",
      "    DML CVaR Y(0) lower  DML CVaR Y(0) upper  DML CVaR Y(1) lower  \\\n",
      "0              0.033726             0.770566             0.544457   \n",
      "1              0.134257             0.637598             0.664542   \n",
      "2              0.326933             0.876287             0.479823   \n",
      "3              0.476942             1.117721             1.145056   \n",
      "4              0.567208             1.195060             1.444369   \n",
      "5              0.753025             1.442881             1.732184   \n",
      "6              0.863455             1.537915             1.955970   \n",
      "7              0.971124             1.551297             2.144623   \n",
      "8              1.204203             1.943918             2.380532   \n",
      "9              1.394551             2.054335             2.722363   \n",
      "10             1.478741             2.141246             2.971370   \n",
      "11             1.688891             2.268748             3.173151   \n",
      "12             1.864281             2.726416             3.503088   \n",
      "13             2.054950             3.050844             3.881451   \n",
      "14             2.180923             2.763426             4.173718   \n",
      "15             2.291167             3.127861             4.703967   \n",
      "16             2.460489             3.691561             5.319179   \n",
      "\n",
      "    DML CVaR Y(1) upper  \n",
      "0              1.301769  \n",
      "1              1.523589  \n",
      "2              1.805640  \n",
      "3              2.161811  \n",
      "4              2.222319  \n",
      "5              2.461792  \n",
      "6              2.682769  \n",
      "7              2.895943  \n",
      "8              3.218629  \n",
      "9              3.515644  \n",
      "10             3.769802  \n",
      "11             4.129925  \n",
      "12             4.529669  \n",
      "13             4.863626  \n",
      "14             5.297843  \n",
      "15             5.901536  \n",
      "16             6.729739  \n"
     ]
    }
   ],
   "source": [
    "data = {\"Quantile\": tau_vec, \"CVaR Y(0)\": Y0_cvar, \"CVaR Y(1)\": Y1_cvar,\n",
    "        \"DML CVaR Y(0)\": CVAR_0, \"DML CVaR Y(1)\": CVAR_1,\n",
    "        \"DML CVaR Y(0) lower\": ci_CVAR_0[:, 0], \"DML CVaR Y(0) upper\": ci_CVAR_0[:, 1],\n",
    "        \"DML CVaR Y(1) lower\": ci_CVAR_1[:, 0], \"DML CVaR Y(1) upper\": ci_CVAR_1[:, 1]}\n",
    "df = pd.DataFrame(data)\n",
    "print(df)"
   ]
  },
  {
   "cell_type": "code",
   "execution_count": 7,
   "metadata": {
    "collapsed": false
   },
   "outputs": [
    {
     "data": {
      "image/png": "[encoded data removed]",
      "text/plain": [
       "<Figure size 1000x750 with 2 Axes>"
      ]
     },
     "metadata": {},
     "output_type": "display_data"
    }
   ],
   "source": [
    "from matplotlib import pyplot as plt\n",
    "plt.rcParams['figure.figsize'] = 10., 7.5\n",
    "fig, (ax1, ax2) = plt.subplots(1 ,2)\n",
    "ax1.grid(); ax2.grid()\n",
    "\n",
    "ax1.plot(df['Quantile'],df['DML CVaR Y(0)'], color='violet', label='Estimated CVaR Y(0)')\n",
    "ax1.plot(df['Quantile'],df['CVaR Y(0)'], color='green', label='True CVaR Y(0)')\n",
    "ax1.fill_between(df['Quantile'], df['DML CVaR Y(0) lower'], df['DML CVaR Y(0) upper'], color='violet', alpha=.3, label='Confidence Interval')\n",
    "ax1.legend()\n",
    "ax1.set_ylim(-2, 6)\n",
    "\n",
    "ax2.plot(df['Quantile'],df['DML CVaR Y(1)'], color='violet', label='Estimated CVaR Y(1)')\n",
    "ax2.plot(df['Quantile'],df['CVaR Y(1)'], color='green', label='True CVaR Y(1)')\n",
    "ax2.fill_between(df['Quantile'], df['DML CVaR Y(1) lower'], df['DML CVaR Y(1) upper'], color='violet', alpha=.3, label='Confidence Interval')\n",
    "ax2.legend()\n",
    "ax2.set_ylim(-2, 6)\n",
    "\n",
    "fig.suptitle('Potential Quantiles', fontsize=16)\n",
    "fig.supxlabel('Quantile')\n",
    "_ = fig.supylabel('Potential Quantile and 95%-CI')"
   ]
  },
  {
   "attachments": {},
   "cell_type": "markdown",
   "metadata": {},
   "source": [
    "## CVaR Treatment Effects\n",
    "In most cases, we want to evaluate the treatment effect on the CVaR as the difference between potential CVaRs.\n",
    "To estimate the treatment effect, we can use the `DoubleMLQTE` object and specify `CVaR` as the score"
   ]
  },
  {
   "cell_type": "code",
   "execution_count": 8,
   "metadata": {},
   "outputs": [
    {
     "name": "stdout",
     "output_type": "stream",
     "text": [
      "================== DoubleMLQTE Object ==================\n",
      "\n",
      "------------------ Fit summary       ------------------\n",
      "          coef   std err         t         P>|t|     2.5 %    97.5 %\n",
      "0.10  0.502257  0.251360  1.998156  4.569977e-02  0.009600  0.994915\n",
      "0.15  0.645851  0.266993  2.418981  1.556404e-02  0.122554  1.169147\n",
      "0.20  0.733353  0.264996  2.767417  5.650239e-03  0.213972  1.252735\n",
      "0.25  0.725982  0.336665  2.156392  3.105307e-02  0.066130  1.385834\n",
      "0.30  0.933647  0.247939  3.765628  1.661311e-04  0.447695  1.419599\n",
      "0.35  1.164317  0.276587  4.209593  2.558308e-05  0.622217  1.706417\n",
      "0.40  1.207184  0.279021  4.326498  1.514989e-05  0.660313  1.754055\n",
      "0.45  1.156647  0.280697  4.120624  3.778472e-05  0.606491  1.706803\n",
      "0.50  1.324633  0.294340  4.500348  6.784242e-06  0.747737  1.901529\n",
      "0.55  1.503223  0.318259  4.723275  2.320772e-06  0.879448  2.126999\n",
      "0.60  1.623700  0.311740  5.208504  1.903691e-07  1.012701  2.234700\n",
      "0.65  1.536958  0.327035  4.699672  2.605793e-06  0.895981  2.177935\n",
      "0.70  1.852161  0.333285  5.557287  2.740004e-08  1.198934  2.505387\n",
      "0.75  2.084541  0.343279  6.072432  1.259878e-09  1.411726  2.757356\n",
      "0.80  2.267585  0.344362  6.584883  4.552423e-11  1.592647  2.942522\n",
      "0.85  2.676092  0.389962  6.862448  6.769024e-12  1.911781  3.440402\n",
      "0.90  3.246186  0.482122  6.733120  1.660635e-11  2.301244  4.191128\n"
     ]
    }
   ],
   "source": [
    "dml_CVAR = dml.DoubleMLQTE(obj_dml_data,\n",
    "                           ml_g, ml_m,\n",
    "                           score='CVaR',\n",
    "                           quantiles=tau_vec,\n",
    "                           n_rep=1,\n",
    "                           n_folds=5)\n",
    "dml_CVAR.fit()\n",
    "CVAR_est = dml_CVAR.coef\n",
    "print(dml_CVAR)"
   ]
  },
  {
   "attachments": {},
   "cell_type": "markdown",
   "metadata": {},
   "source": [
    "As for standard `DoubleMLCVAR` objects, we can construct valid confidencebands with the `confint()` method. Additionally, it might be helpful to construct uniformly valid confidence regions via boostrap."
   ]
  },
  {
   "cell_type": "code",
   "execution_count": 9,
   "metadata": {},
   "outputs": [
    {
     "data": {
      "text/html": [
       "<div>\n",
       "<style scoped>\n",
       "    .dataframe tbody tr th:only-of-type {\n",
       "        vertical-align: middle;\n",
       "    }\n",
       "\n",
       "    .dataframe tbody tr th {\n",
       "        vertical-align: top;\n",
       "    }\n",
       "\n",
       "    .dataframe thead th {\n",
       "        text-align: right;\n",
       "    }\n",
       "</style>\n",
       "<table border=\"1\" class=\"dataframe\">\n",
       "  <thead>\n",
       "    <tr style=\"text-align: right;\">\n",
       "      <th></th>\n",
       "      <th>2.5 %</th>\n",
       "      <th>97.5 %</th>\n",
       "    </tr>\n",
       "  </thead>\n",
       "  <tbody>\n",
       "    <tr>\n",
       "      <th>0.10</th>\n",
       "      <td>-0.111676</td>\n",
       "      <td>1.116190</td>\n",
       "    </tr>\n",
       "    <tr>\n",
       "      <th>0.15</th>\n",
       "      <td>-0.006264</td>\n",
       "      <td>1.297965</td>\n",
       "    </tr>\n",
       "    <tr>\n",
       "      <th>0.20</th>\n",
       "      <td>0.086117</td>\n",
       "      <td>1.380589</td>\n",
       "    </tr>\n",
       "    <tr>\n",
       "      <th>0.25</th>\n",
       "      <td>-0.096303</td>\n",
       "      <td>1.548267</td>\n",
       "    </tr>\n",
       "    <tr>\n",
       "      <th>0.30</th>\n",
       "      <td>0.328070</td>\n",
       "      <td>1.539224</td>\n",
       "    </tr>\n",
       "    <tr>\n",
       "      <th>0.35</th>\n",
       "      <td>0.488771</td>\n",
       "      <td>1.839863</td>\n",
       "    </tr>\n",
       "    <tr>\n",
       "      <th>0.40</th>\n",
       "      <td>0.525691</td>\n",
       "      <td>1.888676</td>\n",
       "    </tr>\n",
       "    <tr>\n",
       "      <th>0.45</th>\n",
       "      <td>0.471061</td>\n",
       "      <td>1.842233</td>\n",
       "    </tr>\n",
       "    <tr>\n",
       "      <th>0.50</th>\n",
       "      <td>0.605724</td>\n",
       "      <td>2.043541</td>\n",
       "    </tr>\n",
       "    <tr>\n",
       "      <th>0.55</th>\n",
       "      <td>0.725895</td>\n",
       "      <td>2.280552</td>\n",
       "    </tr>\n",
       "    <tr>\n",
       "      <th>0.60</th>\n",
       "      <td>0.862293</td>\n",
       "      <td>2.385107</td>\n",
       "    </tr>\n",
       "    <tr>\n",
       "      <th>0.65</th>\n",
       "      <td>0.738194</td>\n",
       "      <td>2.335722</td>\n",
       "    </tr>\n",
       "    <tr>\n",
       "      <th>0.70</th>\n",
       "      <td>1.038131</td>\n",
       "      <td>2.666190</td>\n",
       "    </tr>\n",
       "    <tr>\n",
       "      <th>0.75</th>\n",
       "      <td>1.246101</td>\n",
       "      <td>2.922981</td>\n",
       "    </tr>\n",
       "    <tr>\n",
       "      <th>0.80</th>\n",
       "      <td>1.426501</td>\n",
       "      <td>3.108669</td>\n",
       "    </tr>\n",
       "    <tr>\n",
       "      <th>0.85</th>\n",
       "      <td>1.723633</td>\n",
       "      <td>3.628550</td>\n",
       "    </tr>\n",
       "    <tr>\n",
       "      <th>0.90</th>\n",
       "      <td>2.068631</td>\n",
       "      <td>4.423741</td>\n",
       "    </tr>\n",
       "  </tbody>\n",
       "</table>\n",
       "</div>"
      ],
      "text/plain": [
       "         2.5 %    97.5 %\n",
       "0.10 -0.111676  1.116190\n",
       "0.15 -0.006264  1.297965\n",
       "0.20  0.086117  1.380589\n",
       "0.25 -0.096303  1.548267\n",
       "0.30  0.328070  1.539224\n",
       "0.35  0.488771  1.839863\n",
       "0.40  0.525691  1.888676\n",
       "0.45  0.471061  1.842233\n",
       "0.50  0.605724  2.043541\n",
       "0.55  0.725895  2.280552\n",
       "0.60  0.862293  2.385107\n",
       "0.65  0.738194  2.335722\n",
       "0.70  1.038131  2.666190\n",
       "0.75  1.246101  2.922981\n",
       "0.80  1.426501  3.108669\n",
       "0.85  1.723633  3.628550\n",
       "0.90  2.068631  4.423741"
      ]
     },
     "execution_count": 9,
     "metadata": {},
     "output_type": "execute_result"
    }
   ],
   "source": [
    "ci_CVAR = dml_CVAR.confint(level=0.95, joint=False)\n",
    "\n",
    "dml_CVAR.bootstrap(n_rep_boot=2000)\n",
    "ci_joint_CVAR = dml_CVAR.confint(level=0.95, joint=True)\n",
    "ci_joint_CVAR"
   ]
  },
  {
   "attachments": {},
   "cell_type": "markdown",
   "metadata": {},
   "source": [
    "Finally, we can compare the predicted treatment effect with the true treatment effect on the CVaR."
   ]
  },
  {
   "cell_type": "code",
   "execution_count": 1,
   "metadata": {},
   "outputs": [
    {
     "ename": "NameError",
     "evalue": "name 'np' is not defined",
     "output_type": "error",
     "traceback": [
      "\u001b[1;31m---------------------------------------------------------------------------\u001b[0m",
      "\u001b[1;31mNameError\u001b[0m                                 Traceback (most recent call last)",
      "Cell \u001b[1;32mIn [1], line 1\u001b[0m\n\u001b[1;32m----> 1\u001b[0m CVAR \u001b[39m=\u001b[39m np\u001b[39m.\u001b[39marray(Y1_cvar) \u001b[39m-\u001b[39m np\u001b[39m.\u001b[39marray(Y0_cvar)\n\u001b[0;32m      2\u001b[0m data \u001b[39m=\u001b[39m {\u001b[39m\"\u001b[39m\u001b[39mQuantile\u001b[39m\u001b[39m\"\u001b[39m: tau_vec, \u001b[39m\"\u001b[39m\u001b[39mCVaR\u001b[39m\u001b[39m\"\u001b[39m: CVAR, \u001b[39m\"\u001b[39m\u001b[39mDML CVaR\u001b[39m\u001b[39m\"\u001b[39m: CVAR_est,\n\u001b[0;32m      3\u001b[0m         \u001b[39m\"\u001b[39m\u001b[39mDML CVaR pointwise lower\u001b[39m\u001b[39m\"\u001b[39m: ci_CVAR[\u001b[39m'\u001b[39m\u001b[39m2.5 \u001b[39m\u001b[39m%\u001b[39m\u001b[39m'\u001b[39m], \u001b[39m\"\u001b[39m\u001b[39mDML CVaR pointwise upper\u001b[39m\u001b[39m\"\u001b[39m: ci_CVAR[\u001b[39m'\u001b[39m\u001b[39m97.5 \u001b[39m\u001b[39m%\u001b[39m\u001b[39m'\u001b[39m],\n\u001b[0;32m      4\u001b[0m         \u001b[39m\"\u001b[39m\u001b[39mDML CVaR joint lower\u001b[39m\u001b[39m\"\u001b[39m: ci_joint_CVAR[\u001b[39m'\u001b[39m\u001b[39m2.5 \u001b[39m\u001b[39m%\u001b[39m\u001b[39m'\u001b[39m], \u001b[39m\"\u001b[39m\u001b[39mDML CVaR joint upper\u001b[39m\u001b[39m\"\u001b[39m: ci_joint_CVAR[\u001b[39m'\u001b[39m\u001b[39m97.5 \u001b[39m\u001b[39m%\u001b[39m\u001b[39m'\u001b[39m]}\n\u001b[0;32m      5\u001b[0m df \u001b[39m=\u001b[39m pd\u001b[39m.\u001b[39mDataFrame(data)\n",
      "\u001b[1;31mNameError\u001b[0m: name 'np' is not defined"
     ]
    }
   ],
   "source": [
    "CVAR = np.array(Y1_cvar) - np.array(Y0_cvar)\n",
    "data = {\"Quantile\": tau_vec, \"CVaR\": CVAR, \"DML CVaR\": CVAR_est,\n",
    "        \"DML CVaR pointwise lower\": ci_CVAR['2.5 %'], \"DML CVaR pointwise upper\": ci_CVAR['97.5 %'],\n",
    "        \"DML CVaR joint lower\": ci_joint_CVAR['2.5 %'], \"DML CVaR joint upper\": ci_joint_CVAR['97.5 %']}\n",
    "df = pd.DataFrame(data)\n",
    "print(df)"
   ]
  },
  {
   "cell_type": "code",
   "execution_count": 2,
   "metadata": {},
   "outputs": [
    {
     "ename": "NameError",
     "evalue": "name 'plt' is not defined",
     "output_type": "error",
     "traceback": [
      "\u001b[1;31m---------------------------------------------------------------------------\u001b[0m",
      "\u001b[1;31mNameError\u001b[0m                                 Traceback (most recent call last)",
      "Cell \u001b[1;32mIn [2], line 1\u001b[0m\n\u001b[1;32m----> 1\u001b[0m plt\u001b[39m.\u001b[39mrcParams[\u001b[39m'\u001b[39m\u001b[39mfigure.figsize\u001b[39m\u001b[39m'\u001b[39m] \u001b[39m=\u001b[39m \u001b[39m10.\u001b[39m, \u001b[39m7.5\u001b[39m\n\u001b[0;32m      2\u001b[0m fig, ax \u001b[39m=\u001b[39m plt\u001b[39m.\u001b[39msubplots()\n\u001b[0;32m      3\u001b[0m ax\u001b[39m.\u001b[39mgrid()\n",
      "\u001b[1;31mNameError\u001b[0m: name 'plt' is not defined"
     ]
    }
   ],
   "source": [
    "plt.rcParams['figure.figsize'] = 10., 7.5\n",
    "fig, ax = plt.subplots()\n",
    "ax.grid()\n",
    "\n",
    "ax.plot(df['Quantile'],df['DML CVaR'], color='violet', label='Estimated CVaR')\n",
    "ax.plot(df['Quantile'],df['CVaR'], color='green', label='True QTE')\n",
    "ax.fill_between(df['Quantile'], df['DML CVaR pointwise lower'], df['DML CVaR pointwise upper'], color='violet', alpha=.3, label='Pointwise Confidence Interval')\n",
    "ax.fill_between(df['Quantile'], df['DML CVaR joint lower'], df['DML CVaR joint upper'], color='violet', alpha=.2, label='Joint Confidence Interval')\n",
    "\n",
    "plt.legend()\n",
    "plt.title('Conditional Value at Risk', fontsize=16)\n",
    "plt.xlabel('Quantile')\n",
    "_ = plt.ylabel('QTE and 95%-CI')"
   ]
  }
 ],
 "metadata": {
  "kernelspec": {
   "display_name": "doubleml",
   "language": "python",
   "name": "python3"
  },
  "language_info": {
   "codemirror_mode": {
    "name": "ipython",
    "version": 3
   },
   "file_extension": ".py",
   "mimetype": "text/x-python",
   "name": "python",
   "nbconvert_exporter": "python",
   "pygments_lexer": "ipython3",
   "version": "3.10.8"
  },
  "vscode": {
   "interpreter": {
    "hash": "c17b3f7bd1a966b23df6bc421cb393eedb89185fca3be80230a2e6676a5e11a1"
   }
  }
 },
 "nbformat": 4,
 "nbformat_minor": 0
}
