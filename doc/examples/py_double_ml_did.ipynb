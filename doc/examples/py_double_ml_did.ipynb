{
 "cells": [
  {
   "cell_type": "code",
   "execution_count": 84,
   "metadata": {},
   "outputs": [],
   "source": [
    "import numpy as np\n",
    "import pandas as pd\n",
    "import doubleml as dml\n",
    "import multiprocessing\n",
    "import copy\n",
    "\n",
    "from sklearn.ensemble import RandomForestClassifier, RandomForestRegressor"
   ]
  },
  {
   "cell_type": "code",
   "execution_count": 85,
   "metadata": {},
   "outputs": [],
   "source": [
    "def f_loc(T, D, X):\n",
    "  loc = (0.3*D + 4*D*X[:,1] + X[:, 0] - 3*X[:,3]) * T - 3*X[:, 1]**2*np.exp(T)\n",
    "  return loc\n",
    "\n",
    "def f_scale(T, D, X):\n",
    "  scale = np.sqrt(1*D + 2*D*X[:,1] + 1)\n",
    "  return scale\n",
    "\n",
    "def dgp(n=200, p=5):\n",
    "    X = np.random.uniform(0,0.5,size=[n,p])\n",
    "    D = ((X[:,1] - 3*X[:, 0] + np.random.normal(size=n)) > 0)*1.0\n",
    "    epsilon = np.random.normal(size=n)\n",
    "\n",
    "    T_vec = np.array([1, 2, 3])\n",
    "    Y0 = np.full(shape=(n,len(T_vec)), fill_value=np.nan)\n",
    "    Y1 = np.full(shape=(n,len(T_vec)), fill_value=np.nan)\n",
    "    for T_idx, T in enumerate(T_vec):\n",
    "        Y0[:, T_idx] = f_loc(T, 0, X) + f_scale(T, 0, X)*epsilon\n",
    "        Y1[:, T_idx] = f_loc(T, 1, X) + f_scale(T, 1, X)*epsilon\n",
    "\n",
    "    Y = copy.deepcopy(Y0)\n",
    "    Y[D == 1, len(T_vec)-1] = Y1[D == 1, len(T_vec)-1]\n",
    "    return Y, X, D, epsilon, Y1, Y0"
   ]
  },
  {
   "cell_type": "code",
   "execution_count": 86,
   "metadata": {},
   "outputs": [],
   "source": [
    "p = 5\n",
    "n_true = int(10e+6)\n",
    "\n",
    "Y_true, _, D_true, _, Y1, Y0 = dgp(n=n_true, p = p)"
   ]
  },
  {
   "cell_type": "code",
   "execution_count": 87,
   "metadata": {},
   "outputs": [
    {
     "data": {
      "text/plain": [
       "<AxesSubplot: xlabel='Time', ylabel='Outcome'>"
      ]
     },
     "execution_count": 87,
     "metadata": {},
     "output_type": "execute_result"
    },
    {
     "data": {
      "image/png": "[encoded data removed]",
      "text/plain": [
       "<Figure size 640x480 with 1 Axes>"
      ]
     },
     "metadata": {},
     "output_type": "display_data"
    }
   ],
   "source": [
    "import seaborn as sns\n",
    "\n",
    "data_dic ={\"Outcome\":  np.concatenate((Y_true[D_true == 1,:].mean(axis=0), Y_true[D_true == 0,:].mean(axis=0))),\n",
    "            \"Time\" : np.array([1, 2, 3 , 1, 2, 3]),\n",
    "            \"Group\": [\"Treated\", \"Treated\", \"Treated\", \"Control\", \"Control\", \"Control\"]}\n",
    "df = pd.DataFrame(data_dic)\n",
    "\n",
    "sns.lineplot(df, x=\"Time\", y=\"Outcome\", hue=\"Group\")"
   ]
  },
  {
   "cell_type": "code",
   "execution_count": null,
   "metadata": {},
   "outputs": [],
   "source": []
  },
  {
   "cell_type": "code",
   "execution_count": 88,
   "metadata": {},
   "outputs": [
    {
     "data": {
      "text/plain": [
       "4.151738510253498"
      ]
     },
     "execution_count": 88,
     "metadata": {},
     "output_type": "execute_result"
    }
   ],
   "source": [
    "ATT = np.mean(Y1[D_true == 1, 2] - Y0[D_true == 1, 2])\n",
    "ATT"
   ]
  },
  {
   "cell_type": "code",
   "execution_count": 89,
   "metadata": {},
   "outputs": [],
   "source": [
    "n = 1000\n",
    "np.random.seed(42)\n",
    "Y, X, D, _, _, _ = dgp(n=n,p=p)\n",
    "Y_diff = Y[:, 2] - Y[:, 1]\n",
    "obj_dml_data = dml.DoubleMLData.from_arrays(X, Y_diff, D)"
   ]
  },
  {
   "cell_type": "code",
   "execution_count": 90,
   "metadata": {},
   "outputs": [
    {
     "name": "stdout",
     "output_type": "stream",
     "text": [
      "[3.94309439]\n"
     ]
    },
    {
     "name": "stderr",
     "output_type": "stream",
     "text": [
      "c:\\users\\bam5698\\github\\doubleml-for-py\\doubleml\\_utils.py:252: UserWarning: Propensity predictions from learner RandomForestClassifier(n_estimators=50) for ml_m are close to zero or one (eps=1e-12).\n",
      "  warnings.warn(f'Propensity predictions from learner {str(learner)} for'\n"
     ]
    },
    {
     "data": {
      "text/html": [
       "<div>\n",
       "<style scoped>\n",
       "    .dataframe tbody tr th:only-of-type {\n",
       "        vertical-align: middle;\n",
       "    }\n",
       "\n",
       "    .dataframe tbody tr th {\n",
       "        vertical-align: top;\n",
       "    }\n",
       "\n",
       "    .dataframe thead th {\n",
       "        text-align: right;\n",
       "    }\n",
       "</style>\n",
       "<table border=\"1\" class=\"dataframe\">\n",
       "  <thead>\n",
       "    <tr style=\"text-align: right;\">\n",
       "      <th></th>\n",
       "      <th>2.5 %</th>\n",
       "      <th>97.5 %</th>\n",
       "    </tr>\n",
       "  </thead>\n",
       "  <tbody>\n",
       "    <tr>\n",
       "      <th>d</th>\n",
       "      <td>3.732052</td>\n",
       "      <td>4.154137</td>\n",
       "    </tr>\n",
       "  </tbody>\n",
       "</table>\n",
       "</div>"
      ],
      "text/plain": [
       "      2.5 %    97.5 %\n",
       "d  3.732052  4.154137"
      ]
     },
     "execution_count": 90,
     "metadata": {},
     "output_type": "execute_result"
    }
   ],
   "source": [
    "ml_g = RandomForestRegressor(n_estimators=50)\n",
    "ml_m = RandomForestClassifier(n_estimators=50)\n",
    "\n",
    "dml_DiD = dml.DoubleMLDID(obj_dml_data, ml_g, ml_m,n_folds=5)\n",
    "\n",
    "dml_DiD.fit()\n",
    "\n",
    "print(dml_DiD.coef)\n",
    "dml_DiD.confint(level=0.95)"
   ]
  },
  {
   "cell_type": "code",
   "execution_count": null,
   "metadata": {},
   "outputs": [],
   "source": [
    "\n",
    "\n"
   ]
  },
  {
   "cell_type": "code",
   "execution_count": null,
   "metadata": {},
   "outputs": [],
   "source": []
  }
 ],
 "metadata": {
  "kernelspec": {
   "display_name": "doubleml",
   "language": "python",
   "name": "python3"
  },
  "language_info": {
   "codemirror_mode": {
    "name": "ipython",
    "version": 3
   },
   "file_extension": ".py",
   "mimetype": "text/x-python",
   "name": "python",
   "nbconvert_exporter": "python",
   "pygments_lexer": "ipython3",
   "version": "3.10.8"
  },
  "orig_nbformat": 4,
  "vscode": {
   "interpreter": {
    "hash": "c17b3f7bd1a966b23df6bc421cb393eedb89185fca3be80230a2e6676a5e11a1"
   }
  }
 },
 "nbformat": 4,
 "nbformat_minor": 2
}
