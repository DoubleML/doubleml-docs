{
 "cells": [
  {
   "attachments": {},
   "cell_type": "markdown",
   "metadata": {},
   "source": [
    "# DML Diff-in-Diff\n"
   ]
  },
  {
   "cell_type": "code",
   "execution_count": 61,
   "metadata": {},
   "outputs": [],
   "source": [
    "import numpy as np\n",
    "import pandas as pd\n",
    "import doubleml as dml\n",
    "import multiprocessing\n",
    "import copy\n",
    "\n",
    "from sklearn.preprocessing import Normalizer\n",
    "from sklearn.ensemble import RandomForestClassifier, RandomForestRegressor"
   ]
  },
  {
   "attachments": {},
   "cell_type": "markdown",
   "metadata": {},
   "source": [
    "## Repeated Outcomes\n",
    "\n",
    "We will focus on the the DGP1 from [Sant'Anna and Zhao (2020)](https://arxiv.org/pdf/1812.01723.pdf), see Section 4.1 and 4.2."
   ]
  },
  {
   "cell_type": "code",
   "execution_count": 78,
   "metadata": {},
   "outputs": [],
   "source": [
    "def f_reg(Z):\n",
    "  res = 210 + 27.4*Z[:, 0] + 13.7*(Z[:, 1] + Z[:, 2] + Z[:, 3])\n",
    "  return res\n",
    "\n",
    "def f_ps(Z):\n",
    "  res = 0.75*(-Z[:, 0] + 0.5*Z[:, 1] - 0.25*Z[:, 2] - 0.1*Z[:, 3])\n",
    "  return res\n",
    "\n",
    "def nu(Z, D):\n",
    "  res = np.random.normal(loc=D*f_reg(Z), scale=1, size=n)\n",
    "\n",
    "\n",
    "def dgp(n=200):\n",
    "  # features\n",
    "  X = np.random.normal(loc=0, scale=1, size=[n,4])\n",
    "  Z_tilde_1 = np.exp(0.5*X[:, 0])\n",
    "  Z_tilde_2 = 10 + X[:, 1] / (1 + np.exp(X[:, 0]))\n",
    "  Z_tilde_3 = (0.6 + X[:, 0]*X[:, 2]/25)**3\n",
    "  Z_tilde_4 = (20 + X[:, 1] + X[:, 3])**2\n",
    "\n",
    "  Z_tilde = np.column_stack((Z_tilde_1, Z_tilde_2, Z_tilde_3, Z_tilde_4))\n",
    "  Z = (Z_tilde - np.mean(Z_tilde, axis=0)) / np.std(Z_tilde, axis=0)\n",
    "\n",
    "  # error terms\n",
    "  epsilon_0 = np.random.normal(loc=0, scale=1, size=n)\n",
    "  epsilon_1 = np.random.normal(loc=0, scale=1, size=[n,2])\n",
    "\n",
    "  # treatment and propensities\n",
    "  p = np.exp(f_ps(Z)) / (1 + np.exp(f_ps(Z)))\n",
    "  U = np.random.uniform(low=0, high=1, size=n)\n",
    "  D = 1.0 * (p >= U)\n",
    "  nu =  np.random.normal(loc=D*f_reg(Z), scale=1, size=n)\n",
    "\n",
    "  # potential outcomes\n",
    "  Y0 = f_reg(Z) + nu + epsilon_0\n",
    "  Y1_d0 = 2*f_reg(Z) + nu + epsilon_1[:, 0]\n",
    "  Y1_d1 = 2*f_reg(Z) + nu + epsilon_1[:, 1]\n",
    "  Y1 = D*Y1_d1 + (1-D)*Y1_d0\n",
    "\n",
    "  return Y0, Y1, D, Z, Y1_d0, Y1_d1\n"
   ]
  },
  {
   "attachments": {},
   "cell_type": "markdown",
   "metadata": {},
   "source": [
    "The ATT should be zero:"
   ]
  },
  {
   "cell_type": "code",
   "execution_count": 85,
   "metadata": {},
   "outputs": [
    {
     "name": "stdout",
     "output_type": "stream",
     "text": [
      "Observed ATT: 0.0001247502481387498\n"
     ]
    }
   ],
   "source": [
    "_, _, D, _, Y1_d0, Y1_d1 = dgp(int(10e+6))\n",
    "\n",
    "ATT = np.mean(Y1_d1[D == 1] - Y1_d0[D == 1])\n",
    "print(f'Observed ATT: {ATT}')"
   ]
  },
  {
   "cell_type": "code",
   "execution_count": 90,
   "metadata": {},
   "outputs": [],
   "source": [
    "n = 1000\n",
    "np.random.seed(42)\n",
    "Y0, Y1, D, X, _, _ = dgp(n=n)\n",
    "Y_diff = Y1 - Y0\n",
    "obj_dml_data = dml.DoubleMLData.from_arrays(X, Y_diff, D)"
   ]
  },
  {
   "cell_type": "code",
   "execution_count": 91,
   "metadata": {},
   "outputs": [
    {
     "name": "stdout",
     "output_type": "stream",
     "text": [
      "[-0.15108756]\n"
     ]
    },
    {
     "name": "stderr",
     "output_type": "stream",
     "text": [
      "c:\\github\\doubleml-for-py\\doubleml\\_utils.py:252: UserWarning: Propensity predictions from learner RandomForestClassifier() for ml_m are close to zero or one (eps=1e-12).\n",
      "  warnings.warn(f'Propensity predictions from learner {str(learner)} for'\n"
     ]
    },
    {
     "data": {
      "text/html": [
       "<div>\n",
       "<style scoped>\n",
       "    .dataframe tbody tr th:only-of-type {\n",
       "        vertical-align: middle;\n",
       "    }\n",
       "\n",
       "    .dataframe tbody tr th {\n",
       "        vertical-align: top;\n",
       "    }\n",
       "\n",
       "    .dataframe thead th {\n",
       "        text-align: right;\n",
       "    }\n",
       "</style>\n",
       "<table border=\"1\" class=\"dataframe\">\n",
       "  <thead>\n",
       "    <tr style=\"text-align: right;\">\n",
       "      <th></th>\n",
       "      <th>2.5 %</th>\n",
       "      <th>97.5 %</th>\n",
       "    </tr>\n",
       "  </thead>\n",
       "  <tbody>\n",
       "    <tr>\n",
       "      <th>d</th>\n",
       "      <td>-3.308783</td>\n",
       "      <td>3.006608</td>\n",
       "    </tr>\n",
       "  </tbody>\n",
       "</table>\n",
       "</div>"
      ],
      "text/plain": [
       "      2.5 %    97.5 %\n",
       "d -3.308783  3.006608"
      ]
     },
     "execution_count": 91,
     "metadata": {},
     "output_type": "execute_result"
    }
   ],
   "source": [
    "ml_g = RandomForestRegressor(n_estimators=100)\n",
    "ml_m = RandomForestClassifier(n_estimators=100)\n",
    "\n",
    "dml_DiD = dml.DoubleMLDID(obj_dml_data, ml_g, ml_m,n_folds=5)\n",
    "\n",
    "dml_DiD.fit()\n",
    "\n",
    "print(dml_DiD.coef)\n",
    "dml_DiD.confint(level=0.95)"
   ]
  },
  {
   "attachments": {},
   "cell_type": "markdown",
   "metadata": {},
   "source": [
    "# Repeated Cross-sectional Data"
   ]
  },
  {
   "attachments": {},
   "cell_type": "markdown",
   "metadata": {},
   "source": [
    "Use the same data with coss-sectional observations"
   ]
  },
  {
   "cell_type": "code",
   "execution_count": 96,
   "metadata": {},
   "outputs": [],
   "source": [
    "lambda_T = 0.5\n",
    "U_T = np.random.uniform(low=0, high=1, size=n)\n",
    "T = 1.0 * (U_T <= lambda_T)\n",
    "Y_obs = T * Y1 + (1-T)*Y0\n",
    "obj_dml_rcs_data = dml.DoubleMLDIDData.from_arrays(X, Y_obs, D, T)"
   ]
  },
  {
   "cell_type": "code",
   "execution_count": 97,
   "metadata": {},
   "outputs": [
    {
     "name": "stdout",
     "output_type": "stream",
     "text": [
      "[28.47806774]\n"
     ]
    },
    {
     "data": {
      "text/html": [
       "<div>\n",
       "<style scoped>\n",
       "    .dataframe tbody tr th:only-of-type {\n",
       "        vertical-align: middle;\n",
       "    }\n",
       "\n",
       "    .dataframe tbody tr th {\n",
       "        vertical-align: top;\n",
       "    }\n",
       "\n",
       "    .dataframe thead th {\n",
       "        text-align: right;\n",
       "    }\n",
       "</style>\n",
       "<table border=\"1\" class=\"dataframe\">\n",
       "  <thead>\n",
       "    <tr style=\"text-align: right;\">\n",
       "      <th></th>\n",
       "      <th>2.5 %</th>\n",
       "      <th>97.5 %</th>\n",
       "    </tr>\n",
       "  </thead>\n",
       "  <tbody>\n",
       "    <tr>\n",
       "      <th>d</th>\n",
       "      <td>-1.381118</td>\n",
       "      <td>58.337253</td>\n",
       "    </tr>\n",
       "  </tbody>\n",
       "</table>\n",
       "</div>"
      ],
      "text/plain": [
       "      2.5 %     97.5 %\n",
       "d -1.381118  58.337253"
      ]
     },
     "execution_count": 97,
     "metadata": {},
     "output_type": "execute_result"
    }
   ],
   "source": [
    "ml_g = RandomForestRegressor(n_estimators=100)\n",
    "ml_m = RandomForestClassifier(n_estimators=100)\n",
    "\n",
    "dml_DiD_RCS = dml.DoubleMLDID(obj_dml_rcs_data, ml_g, ml_m,n_folds=5, score='RCS')\n",
    "\n",
    "dml_DiD_RCS.fit()\n",
    "\n",
    "print(dml_DiD_RCS.coef)\n",
    "dml_DiD_RCS.confint(level=0.95)"
   ]
  }
 ],
 "metadata": {
  "kernelspec": {
   "display_name": "dml_base",
   "language": "python",
   "name": "python3"
  },
  "language_info": {
   "codemirror_mode": {
    "name": "ipython",
    "version": 3
   },
   "file_extension": ".py",
   "mimetype": "text/x-python",
   "name": "python",
   "nbconvert_exporter": "python",
   "pygments_lexer": "ipython3",
   "version": "3.10.8"
  },
  "orig_nbformat": 4,
  "vscode": {
   "interpreter": {
    "hash": "04413e1efd13b5e2aaedccc5facec5686292d28983ef24fa021a12c73bd6369e"
   }
  }
 },
 "nbformat": 4,
 "nbformat_minor": 2
}
