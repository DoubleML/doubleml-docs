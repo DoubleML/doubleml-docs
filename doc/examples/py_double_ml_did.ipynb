{
 "cells": [
  {
   "attachments": {},
   "cell_type": "markdown",
   "metadata": {},
   "source": [
    "# DML Diff-in-Diff\n"
   ]
  },
  {
   "cell_type": "code",
   "execution_count": 56,
   "metadata": {},
   "outputs": [],
   "source": [
    "import numpy as np\n",
    "import pandas as pd\n",
    "import doubleml as dml\n",
    "import multiprocessing\n",
    "import seaborn as sns\n",
    "\n",
    "from sklearn.base import clone\n",
    "from sklearn.ensemble import RandomForestClassifier, RandomForestRegressor"
   ]
  },
  {
   "attachments": {},
   "cell_type": "markdown",
   "metadata": {},
   "source": [
    "## Repeated Outcomes\n",
    "\n",
    "We will focus on the the DGP1 from [Sant'Anna and Zhao (2020)](https://arxiv.org/abs/1812.01723), see Section 4.1 and 4.2."
   ]
  },
  {
   "cell_type": "code",
   "execution_count": 57,
   "metadata": {},
   "outputs": [],
   "source": [
    "def f_reg(Z):\n",
    "  res = 210 + 27.4*Z[:, 0] + 13.7*(Z[:, 1] + Z[:, 2] + Z[:, 3])\n",
    "  return res\n",
    "\n",
    "def f_ps(Z):\n",
    "  res = 0.75*(-Z[:, 0] + 0.5*Z[:, 1] - 0.25*Z[:, 2] - 0.1*Z[:, 3])\n",
    "  return res\n",
    "\n",
    "def dgp(n=200, dgp_type=1):\n",
    "  # features\n",
    "  X = np.random.normal(loc=0, scale=1, size=[n,4])\n",
    "  Z_tilde_1 = np.exp(0.5*X[:, 0])\n",
    "  Z_tilde_2 = 10 + X[:, 1] / (1 + np.exp(X[:, 0]))\n",
    "  Z_tilde_3 = (0.6 + X[:, 0]*X[:, 2]/25)**3\n",
    "  Z_tilde_4 = (20 + X[:, 1] + X[:, 3])**2\n",
    "\n",
    "  Z_tilde = np.column_stack((Z_tilde_1, Z_tilde_2, Z_tilde_3, Z_tilde_4))\n",
    "  Z = (Z_tilde - np.mean(Z_tilde, axis=0)) / np.std(Z_tilde, axis=0)\n",
    "  \n",
    "  # error terms\n",
    "  epsilon_0 = np.random.normal(loc=0, scale=1, size=n)\n",
    "  epsilon_1 = np.random.normal(loc=0, scale=1, size=[n,2])\n",
    "  if dgp_type == 1:\n",
    "    features_ps = Z\n",
    "    features_reg = Z\n",
    "  elif dgp_type == 2:\n",
    "    features_ps = X\n",
    "    features_reg = Z\n",
    "  elif dgp_type == 3:\n",
    "    features_ps = Z\n",
    "    features_reg = X\n",
    "  elif dgp_type == 4:\n",
    "    features_ps = X\n",
    "    features_reg = X\n",
    "  else:\n",
    "    ValueError(\"DGP type not specified\")\n",
    "\n",
    "  # treatment and propensities\n",
    "  p = np.exp(f_ps(features_ps)) / (1 + np.exp(f_ps(features_ps)))\n",
    "  U = np.random.uniform(low=0, high=1, size=n)\n",
    "  D = 1.0 * (p >= U)\n",
    "\n",
    "  # potential outcomes\n",
    "  nu =  np.random.normal(loc=D*f_reg(features_reg), scale=1, size=n)\n",
    "  Y0 = f_reg(features_reg) + nu + epsilon_0\n",
    "  Y1_d0 = 2*f_reg(features_reg) + nu + epsilon_1[:, 0]\n",
    "  Y1_d1 = 2*f_reg(features_reg) + nu + epsilon_1[:, 1]\n",
    "  Y1 = D*Y1_d1 + (1-D)*Y1_d0\n",
    "\n",
    "  return Y0, Y1, D, Z, Y1_d0, Y1_d1\n"
   ]
  },
  {
   "attachments": {},
   "cell_type": "markdown",
   "metadata": {},
   "source": [
    "The ATT should be zero:"
   ]
  },
  {
   "cell_type": "code",
   "execution_count": 58,
   "metadata": {},
   "outputs": [
    {
     "name": "stdout",
     "output_type": "stream",
     "text": [
      "Observed ATT: 0.0003696334225408699\n"
     ]
    }
   ],
   "source": [
    "dgp_type = 4\n",
    "_, _, D, _, Y1_d0, Y1_d1 = dgp(int(10e+6), dgp_type=dgp_type)\n",
    "\n",
    "ATT = np.mean(Y1_d1[D == 1] - Y1_d0[D == 1])\n",
    "print(f'Observed ATT: {ATT}')"
   ]
  },
  {
   "cell_type": "code",
   "execution_count": 59,
   "metadata": {},
   "outputs": [],
   "source": [
    "np.random.seed(42)\n",
    "n_rep = 100\n",
    "n_obs = 1000\n",
    "lambda_T = 0.5\n",
    "\n",
    "datasets_ro = []\n",
    "datasets_rcs = []\n",
    "for i in range(n_rep):\n",
    "    Y0, Y1, D, X, _, _ = dgp(n=n_obs, dgp_type=dgp_type)\n",
    "\n",
    "    # datasets with repeated outcomes (ro)\n",
    "    Y_diff = Y1 - Y0\n",
    "    data_ro =  dml.DoubleMLData.from_arrays(X, Y_diff, D)  \n",
    "    datasets_ro.append(data_ro)\n",
    "\n",
    "    # datasets with repeated cross sections\n",
    "    U_T = np.random.uniform(low=0, high=1, size=n_obs)\n",
    "    T = 1.0 * (U_T <= lambda_T)\n",
    "    Y_obs = T * Y1 + (1-T)*Y0\n",
    "    data_rcs = dml.DoubleMLDIDData.from_arrays(X, Y_obs, D, T)\n",
    "    datasets_rcs.append(data_rcs)"
   ]
  },
  {
   "cell_type": "code",
   "execution_count": 60,
   "metadata": {},
   "outputs": [
    {
     "name": "stdout",
     "output_type": "stream",
     "text": [
      "Number of Cores: 8\n"
     ]
    }
   ],
   "source": [
    "ml_g = RandomForestRegressor(n_estimators=50)\n",
    "ml_m = RandomForestClassifier(n_estimators=50)\n",
    "\n",
    "n_cores = multiprocessing.cpu_count()\n",
    "print(f\"Number of Cores: {n_cores}\")\n",
    "# to be process folds in parallel\n",
    "cores_used = 5"
   ]
  },
  {
   "cell_type": "code",
   "execution_count": 61,
   "metadata": {},
   "outputs": [
    {
     "name": "stdout",
     "output_type": "stream",
     "text": [
      "0\n"
     ]
    },
    {
     "name": "stderr",
     "output_type": "stream",
     "text": [
      "c:\\users\\bam5698\\github\\doubleml-for-py\\doubleml\\_utils.py:252: UserWarning: Propensity predictions from learner RandomForestClassifier(n_estimators=50) for ml_m are close to zero or one (eps=1e-12).\n",
      "  warnings.warn(f'Propensity predictions from learner {str(learner)} for'\n"
     ]
    },
    {
     "name": "stdout",
     "output_type": "stream",
     "text": [
      "1\n",
      "2\n"
     ]
    },
    {
     "name": "stderr",
     "output_type": "stream",
     "text": [
      "c:\\users\\bam5698\\github\\doubleml-for-py\\doubleml\\_utils.py:252: UserWarning: Propensity predictions from learner RandomForestClassifier(n_estimators=50) for ml_m are close to zero or one (eps=1e-12).\n",
      "  warnings.warn(f'Propensity predictions from learner {str(learner)} for'\n"
     ]
    },
    {
     "name": "stdout",
     "output_type": "stream",
     "text": [
      "3\n",
      "4\n",
      "5\n"
     ]
    },
    {
     "name": "stderr",
     "output_type": "stream",
     "text": [
      "c:\\users\\bam5698\\github\\doubleml-for-py\\doubleml\\_utils.py:252: UserWarning: Propensity predictions from learner RandomForestClassifier(n_estimators=50) for ml_m are close to zero or one (eps=1e-12).\n",
      "  warnings.warn(f'Propensity predictions from learner {str(learner)} for'\n"
     ]
    },
    {
     "name": "stdout",
     "output_type": "stream",
     "text": [
      "6\n"
     ]
    },
    {
     "name": "stderr",
     "output_type": "stream",
     "text": [
      "c:\\users\\bam5698\\github\\doubleml-for-py\\doubleml\\_utils.py:252: UserWarning: Propensity predictions from learner RandomForestClassifier(n_estimators=50) for ml_m are close to zero or one (eps=1e-12).\n",
      "  warnings.warn(f'Propensity predictions from learner {str(learner)} for'\n"
     ]
    },
    {
     "name": "stdout",
     "output_type": "stream",
     "text": [
      "7\n"
     ]
    },
    {
     "name": "stderr",
     "output_type": "stream",
     "text": [
      "c:\\users\\bam5698\\github\\doubleml-for-py\\doubleml\\_utils.py:252: UserWarning: Propensity predictions from learner RandomForestClassifier(n_estimators=50) for ml_m are close to zero or one (eps=1e-12).\n",
      "  warnings.warn(f'Propensity predictions from learner {str(learner)} for'\n"
     ]
    },
    {
     "name": "stdout",
     "output_type": "stream",
     "text": [
      "8\n"
     ]
    },
    {
     "name": "stderr",
     "output_type": "stream",
     "text": [
      "c:\\users\\bam5698\\github\\doubleml-for-py\\doubleml\\_utils.py:252: UserWarning: Propensity predictions from learner RandomForestClassifier(n_estimators=50) for ml_m are close to zero or one (eps=1e-12).\n",
      "  warnings.warn(f'Propensity predictions from learner {str(learner)} for'\n"
     ]
    },
    {
     "name": "stdout",
     "output_type": "stream",
     "text": [
      "9\n"
     ]
    },
    {
     "name": "stderr",
     "output_type": "stream",
     "text": [
      "c:\\users\\bam5698\\github\\doubleml-for-py\\doubleml\\_utils.py:252: UserWarning: Propensity predictions from learner RandomForestClassifier(n_estimators=50) for ml_m are close to zero or one (eps=1e-12).\n",
      "  warnings.warn(f'Propensity predictions from learner {str(learner)} for'\n"
     ]
    },
    {
     "name": "stdout",
     "output_type": "stream",
     "text": [
      "10\n"
     ]
    },
    {
     "name": "stderr",
     "output_type": "stream",
     "text": [
      "c:\\users\\bam5698\\github\\doubleml-for-py\\doubleml\\_utils.py:252: UserWarning: Propensity predictions from learner RandomForestClassifier(n_estimators=50) for ml_m are close to zero or one (eps=1e-12).\n",
      "  warnings.warn(f'Propensity predictions from learner {str(learner)} for'\n"
     ]
    },
    {
     "name": "stdout",
     "output_type": "stream",
     "text": [
      "11\n"
     ]
    },
    {
     "name": "stderr",
     "output_type": "stream",
     "text": [
      "c:\\users\\bam5698\\github\\doubleml-for-py\\doubleml\\_utils.py:252: UserWarning: Propensity predictions from learner RandomForestClassifier(n_estimators=50) for ml_m are close to zero or one (eps=1e-12).\n",
      "  warnings.warn(f'Propensity predictions from learner {str(learner)} for'\n"
     ]
    },
    {
     "name": "stdout",
     "output_type": "stream",
     "text": [
      "12\n"
     ]
    },
    {
     "name": "stderr",
     "output_type": "stream",
     "text": [
      "c:\\users\\bam5698\\github\\doubleml-for-py\\doubleml\\_utils.py:252: UserWarning: Propensity predictions from learner RandomForestClassifier(n_estimators=50) for ml_m are close to zero or one (eps=1e-12).\n",
      "  warnings.warn(f'Propensity predictions from learner {str(learner)} for'\n"
     ]
    },
    {
     "name": "stdout",
     "output_type": "stream",
     "text": [
      "13\n"
     ]
    },
    {
     "name": "stderr",
     "output_type": "stream",
     "text": [
      "c:\\users\\bam5698\\github\\doubleml-for-py\\doubleml\\_utils.py:252: UserWarning: Propensity predictions from learner RandomForestClassifier(n_estimators=50) for ml_m are close to zero or one (eps=1e-12).\n",
      "  warnings.warn(f'Propensity predictions from learner {str(learner)} for'\n"
     ]
    },
    {
     "name": "stdout",
     "output_type": "stream",
     "text": [
      "14\n"
     ]
    },
    {
     "name": "stderr",
     "output_type": "stream",
     "text": [
      "c:\\users\\bam5698\\github\\doubleml-for-py\\doubleml\\_utils.py:252: UserWarning: Propensity predictions from learner RandomForestClassifier(n_estimators=50) for ml_m are close to zero or one (eps=1e-12).\n",
      "  warnings.warn(f'Propensity predictions from learner {str(learner)} for'\n"
     ]
    },
    {
     "name": "stdout",
     "output_type": "stream",
     "text": [
      "15\n"
     ]
    },
    {
     "name": "stderr",
     "output_type": "stream",
     "text": [
      "c:\\users\\bam5698\\github\\doubleml-for-py\\doubleml\\_utils.py:252: UserWarning: Propensity predictions from learner RandomForestClassifier(n_estimators=50) for ml_m are close to zero or one (eps=1e-12).\n",
      "  warnings.warn(f'Propensity predictions from learner {str(learner)} for'\n"
     ]
    },
    {
     "name": "stdout",
     "output_type": "stream",
     "text": [
      "16\n",
      "17\n"
     ]
    },
    {
     "name": "stderr",
     "output_type": "stream",
     "text": [
      "c:\\users\\bam5698\\github\\doubleml-for-py\\doubleml\\_utils.py:252: UserWarning: Propensity predictions from learner RandomForestClassifier(n_estimators=50) for ml_m are close to zero or one (eps=1e-12).\n",
      "  warnings.warn(f'Propensity predictions from learner {str(learner)} for'\n"
     ]
    },
    {
     "name": "stdout",
     "output_type": "stream",
     "text": [
      "18\n"
     ]
    },
    {
     "name": "stderr",
     "output_type": "stream",
     "text": [
      "c:\\users\\bam5698\\github\\doubleml-for-py\\doubleml\\_utils.py:252: UserWarning: Propensity predictions from learner RandomForestClassifier(n_estimators=50) for ml_m are close to zero or one (eps=1e-12).\n",
      "  warnings.warn(f'Propensity predictions from learner {str(learner)} for'\n"
     ]
    },
    {
     "name": "stdout",
     "output_type": "stream",
     "text": [
      "19\n"
     ]
    },
    {
     "name": "stderr",
     "output_type": "stream",
     "text": [
      "c:\\users\\bam5698\\github\\doubleml-for-py\\doubleml\\_utils.py:252: UserWarning: Propensity predictions from learner RandomForestClassifier(n_estimators=50) for ml_m are close to zero or one (eps=1e-12).\n",
      "  warnings.warn(f'Propensity predictions from learner {str(learner)} for'\n"
     ]
    },
    {
     "name": "stdout",
     "output_type": "stream",
     "text": [
      "20\n"
     ]
    },
    {
     "name": "stderr",
     "output_type": "stream",
     "text": [
      "c:\\users\\bam5698\\github\\doubleml-for-py\\doubleml\\_utils.py:252: UserWarning: Propensity predictions from learner RandomForestClassifier(n_estimators=50) for ml_m are close to zero or one (eps=1e-12).\n",
      "  warnings.warn(f'Propensity predictions from learner {str(learner)} for'\n"
     ]
    },
    {
     "name": "stdout",
     "output_type": "stream",
     "text": [
      "21\n"
     ]
    },
    {
     "name": "stderr",
     "output_type": "stream",
     "text": [
      "c:\\users\\bam5698\\github\\doubleml-for-py\\doubleml\\_utils.py:252: UserWarning: Propensity predictions from learner RandomForestClassifier(n_estimators=50) for ml_m are close to zero or one (eps=1e-12).\n",
      "  warnings.warn(f'Propensity predictions from learner {str(learner)} for'\n"
     ]
    },
    {
     "name": "stdout",
     "output_type": "stream",
     "text": [
      "22\n"
     ]
    },
    {
     "name": "stderr",
     "output_type": "stream",
     "text": [
      "c:\\users\\bam5698\\github\\doubleml-for-py\\doubleml\\_utils.py:252: UserWarning: Propensity predictions from learner RandomForestClassifier(n_estimators=50) for ml_m are close to zero or one (eps=1e-12).\n",
      "  warnings.warn(f'Propensity predictions from learner {str(learner)} for'\n"
     ]
    },
    {
     "name": "stdout",
     "output_type": "stream",
     "text": [
      "23\n"
     ]
    },
    {
     "name": "stderr",
     "output_type": "stream",
     "text": [
      "c:\\users\\bam5698\\github\\doubleml-for-py\\doubleml\\_utils.py:252: UserWarning: Propensity predictions from learner RandomForestClassifier(n_estimators=50) for ml_m are close to zero or one (eps=1e-12).\n",
      "  warnings.warn(f'Propensity predictions from learner {str(learner)} for'\n"
     ]
    },
    {
     "name": "stdout",
     "output_type": "stream",
     "text": [
      "24\n"
     ]
    },
    {
     "name": "stderr",
     "output_type": "stream",
     "text": [
      "c:\\users\\bam5698\\github\\doubleml-for-py\\doubleml\\_utils.py:252: UserWarning: Propensity predictions from learner RandomForestClassifier(n_estimators=50) for ml_m are close to zero or one (eps=1e-12).\n",
      "  warnings.warn(f'Propensity predictions from learner {str(learner)} for'\n"
     ]
    },
    {
     "name": "stdout",
     "output_type": "stream",
     "text": [
      "25\n"
     ]
    },
    {
     "name": "stderr",
     "output_type": "stream",
     "text": [
      "c:\\users\\bam5698\\github\\doubleml-for-py\\doubleml\\_utils.py:252: UserWarning: Propensity predictions from learner RandomForestClassifier(n_estimators=50) for ml_m are close to zero or one (eps=1e-12).\n",
      "  warnings.warn(f'Propensity predictions from learner {str(learner)} for'\n"
     ]
    },
    {
     "name": "stdout",
     "output_type": "stream",
     "text": [
      "26\n"
     ]
    },
    {
     "name": "stderr",
     "output_type": "stream",
     "text": [
      "c:\\users\\bam5698\\github\\doubleml-for-py\\doubleml\\_utils.py:252: UserWarning: Propensity predictions from learner RandomForestClassifier(n_estimators=50) for ml_m are close to zero or one (eps=1e-12).\n",
      "  warnings.warn(f'Propensity predictions from learner {str(learner)} for'\n"
     ]
    },
    {
     "name": "stdout",
     "output_type": "stream",
     "text": [
      "27\n"
     ]
    },
    {
     "name": "stderr",
     "output_type": "stream",
     "text": [
      "c:\\users\\bam5698\\github\\doubleml-for-py\\doubleml\\_utils.py:252: UserWarning: Propensity predictions from learner RandomForestClassifier(n_estimators=50) for ml_m are close to zero or one (eps=1e-12).\n",
      "  warnings.warn(f'Propensity predictions from learner {str(learner)} for'\n"
     ]
    },
    {
     "name": "stdout",
     "output_type": "stream",
     "text": [
      "28\n"
     ]
    },
    {
     "name": "stderr",
     "output_type": "stream",
     "text": [
      "c:\\users\\bam5698\\github\\doubleml-for-py\\doubleml\\_utils.py:252: UserWarning: Propensity predictions from learner RandomForestClassifier(n_estimators=50) for ml_m are close to zero or one (eps=1e-12).\n",
      "  warnings.warn(f'Propensity predictions from learner {str(learner)} for'\n"
     ]
    },
    {
     "name": "stdout",
     "output_type": "stream",
     "text": [
      "29\n"
     ]
    },
    {
     "name": "stderr",
     "output_type": "stream",
     "text": [
      "c:\\users\\bam5698\\github\\doubleml-for-py\\doubleml\\_utils.py:252: UserWarning: Propensity predictions from learner RandomForestClassifier(n_estimators=50) for ml_m are close to zero or one (eps=1e-12).\n",
      "  warnings.warn(f'Propensity predictions from learner {str(learner)} for'\n"
     ]
    },
    {
     "name": "stdout",
     "output_type": "stream",
     "text": [
      "30\n"
     ]
    },
    {
     "name": "stderr",
     "output_type": "stream",
     "text": [
      "c:\\users\\bam5698\\github\\doubleml-for-py\\doubleml\\_utils.py:252: UserWarning: Propensity predictions from learner RandomForestClassifier(n_estimators=50) for ml_m are close to zero or one (eps=1e-12).\n",
      "  warnings.warn(f'Propensity predictions from learner {str(learner)} for'\n"
     ]
    },
    {
     "name": "stdout",
     "output_type": "stream",
     "text": [
      "31\n"
     ]
    },
    {
     "name": "stderr",
     "output_type": "stream",
     "text": [
      "c:\\users\\bam5698\\github\\doubleml-for-py\\doubleml\\_utils.py:252: UserWarning: Propensity predictions from learner RandomForestClassifier(n_estimators=50) for ml_m are close to zero or one (eps=1e-12).\n",
      "  warnings.warn(f'Propensity predictions from learner {str(learner)} for'\n"
     ]
    },
    {
     "name": "stdout",
     "output_type": "stream",
     "text": [
      "32\n"
     ]
    },
    {
     "name": "stderr",
     "output_type": "stream",
     "text": [
      "c:\\users\\bam5698\\github\\doubleml-for-py\\doubleml\\_utils.py:252: UserWarning: Propensity predictions from learner RandomForestClassifier(n_estimators=50) for ml_m are close to zero or one (eps=1e-12).\n",
      "  warnings.warn(f'Propensity predictions from learner {str(learner)} for'\n"
     ]
    },
    {
     "name": "stdout",
     "output_type": "stream",
     "text": [
      "33\n"
     ]
    },
    {
     "name": "stderr",
     "output_type": "stream",
     "text": [
      "c:\\users\\bam5698\\github\\doubleml-for-py\\doubleml\\_utils.py:252: UserWarning: Propensity predictions from learner RandomForestClassifier(n_estimators=50) for ml_m are close to zero or one (eps=1e-12).\n",
      "  warnings.warn(f'Propensity predictions from learner {str(learner)} for'\n"
     ]
    },
    {
     "name": "stdout",
     "output_type": "stream",
     "text": [
      "34\n"
     ]
    },
    {
     "name": "stderr",
     "output_type": "stream",
     "text": [
      "c:\\users\\bam5698\\github\\doubleml-for-py\\doubleml\\_utils.py:252: UserWarning: Propensity predictions from learner RandomForestClassifier(n_estimators=50) for ml_m are close to zero or one (eps=1e-12).\n",
      "  warnings.warn(f'Propensity predictions from learner {str(learner)} for'\n"
     ]
    },
    {
     "name": "stdout",
     "output_type": "stream",
     "text": [
      "35\n"
     ]
    },
    {
     "name": "stderr",
     "output_type": "stream",
     "text": [
      "c:\\users\\bam5698\\github\\doubleml-for-py\\doubleml\\_utils.py:252: UserWarning: Propensity predictions from learner RandomForestClassifier(n_estimators=50) for ml_m are close to zero or one (eps=1e-12).\n",
      "  warnings.warn(f'Propensity predictions from learner {str(learner)} for'\n"
     ]
    },
    {
     "name": "stdout",
     "output_type": "stream",
     "text": [
      "36\n"
     ]
    },
    {
     "name": "stderr",
     "output_type": "stream",
     "text": [
      "c:\\users\\bam5698\\github\\doubleml-for-py\\doubleml\\_utils.py:252: UserWarning: Propensity predictions from learner RandomForestClassifier(n_estimators=50) for ml_m are close to zero or one (eps=1e-12).\n",
      "  warnings.warn(f'Propensity predictions from learner {str(learner)} for'\n"
     ]
    },
    {
     "name": "stdout",
     "output_type": "stream",
     "text": [
      "37\n"
     ]
    },
    {
     "name": "stderr",
     "output_type": "stream",
     "text": [
      "c:\\users\\bam5698\\github\\doubleml-for-py\\doubleml\\_utils.py:252: UserWarning: Propensity predictions from learner RandomForestClassifier(n_estimators=50) for ml_m are close to zero or one (eps=1e-12).\n",
      "  warnings.warn(f'Propensity predictions from learner {str(learner)} for'\n"
     ]
    },
    {
     "name": "stdout",
     "output_type": "stream",
     "text": [
      "38\n"
     ]
    },
    {
     "name": "stderr",
     "output_type": "stream",
     "text": [
      "c:\\users\\bam5698\\github\\doubleml-for-py\\doubleml\\_utils.py:252: UserWarning: Propensity predictions from learner RandomForestClassifier(n_estimators=50) for ml_m are close to zero or one (eps=1e-12).\n",
      "  warnings.warn(f'Propensity predictions from learner {str(learner)} for'\n"
     ]
    },
    {
     "name": "stdout",
     "output_type": "stream",
     "text": [
      "39\n"
     ]
    },
    {
     "name": "stderr",
     "output_type": "stream",
     "text": [
      "c:\\users\\bam5698\\github\\doubleml-for-py\\doubleml\\_utils.py:252: UserWarning: Propensity predictions from learner RandomForestClassifier(n_estimators=50) for ml_m are close to zero or one (eps=1e-12).\n",
      "  warnings.warn(f'Propensity predictions from learner {str(learner)} for'\n"
     ]
    },
    {
     "name": "stdout",
     "output_type": "stream",
     "text": [
      "40\n"
     ]
    },
    {
     "name": "stderr",
     "output_type": "stream",
     "text": [
      "c:\\users\\bam5698\\github\\doubleml-for-py\\doubleml\\_utils.py:252: UserWarning: Propensity predictions from learner RandomForestClassifier(n_estimators=50) for ml_m are close to zero or one (eps=1e-12).\n",
      "  warnings.warn(f'Propensity predictions from learner {str(learner)} for'\n"
     ]
    },
    {
     "name": "stdout",
     "output_type": "stream",
     "text": [
      "41\n"
     ]
    },
    {
     "name": "stderr",
     "output_type": "stream",
     "text": [
      "c:\\users\\bam5698\\github\\doubleml-for-py\\doubleml\\_utils.py:252: UserWarning: Propensity predictions from learner RandomForestClassifier(n_estimators=50) for ml_m are close to zero or one (eps=1e-12).\n",
      "  warnings.warn(f'Propensity predictions from learner {str(learner)} for'\n"
     ]
    },
    {
     "name": "stdout",
     "output_type": "stream",
     "text": [
      "42\n"
     ]
    },
    {
     "name": "stderr",
     "output_type": "stream",
     "text": [
      "c:\\users\\bam5698\\github\\doubleml-for-py\\doubleml\\_utils.py:252: UserWarning: Propensity predictions from learner RandomForestClassifier(n_estimators=50) for ml_m are close to zero or one (eps=1e-12).\n",
      "  warnings.warn(f'Propensity predictions from learner {str(learner)} for'\n"
     ]
    },
    {
     "name": "stdout",
     "output_type": "stream",
     "text": [
      "43\n"
     ]
    },
    {
     "name": "stderr",
     "output_type": "stream",
     "text": [
      "c:\\users\\bam5698\\github\\doubleml-for-py\\doubleml\\_utils.py:252: UserWarning: Propensity predictions from learner RandomForestClassifier(n_estimators=50) for ml_m are close to zero or one (eps=1e-12).\n",
      "  warnings.warn(f'Propensity predictions from learner {str(learner)} for'\n"
     ]
    },
    {
     "name": "stdout",
     "output_type": "stream",
     "text": [
      "44\n"
     ]
    },
    {
     "name": "stderr",
     "output_type": "stream",
     "text": [
      "c:\\users\\bam5698\\github\\doubleml-for-py\\doubleml\\_utils.py:252: UserWarning: Propensity predictions from learner RandomForestClassifier(n_estimators=50) for ml_m are close to zero or one (eps=1e-12).\n",
      "  warnings.warn(f'Propensity predictions from learner {str(learner)} for'\n"
     ]
    },
    {
     "name": "stdout",
     "output_type": "stream",
     "text": [
      "45\n"
     ]
    },
    {
     "name": "stderr",
     "output_type": "stream",
     "text": [
      "c:\\users\\bam5698\\github\\doubleml-for-py\\doubleml\\_utils.py:252: UserWarning: Propensity predictions from learner RandomForestClassifier(n_estimators=50) for ml_m are close to zero or one (eps=1e-12).\n",
      "  warnings.warn(f'Propensity predictions from learner {str(learner)} for'\n"
     ]
    },
    {
     "name": "stdout",
     "output_type": "stream",
     "text": [
      "46\n"
     ]
    },
    {
     "name": "stderr",
     "output_type": "stream",
     "text": [
      "c:\\users\\bam5698\\github\\doubleml-for-py\\doubleml\\_utils.py:252: UserWarning: Propensity predictions from learner RandomForestClassifier(n_estimators=50) for ml_m are close to zero or one (eps=1e-12).\n",
      "  warnings.warn(f'Propensity predictions from learner {str(learner)} for'\n"
     ]
    },
    {
     "name": "stdout",
     "output_type": "stream",
     "text": [
      "47\n"
     ]
    },
    {
     "name": "stderr",
     "output_type": "stream",
     "text": [
      "c:\\users\\bam5698\\github\\doubleml-for-py\\doubleml\\_utils.py:252: UserWarning: Propensity predictions from learner RandomForestClassifier(n_estimators=50) for ml_m are close to zero or one (eps=1e-12).\n",
      "  warnings.warn(f'Propensity predictions from learner {str(learner)} for'\n"
     ]
    },
    {
     "name": "stdout",
     "output_type": "stream",
     "text": [
      "48\n",
      "49\n"
     ]
    },
    {
     "name": "stderr",
     "output_type": "stream",
     "text": [
      "c:\\users\\bam5698\\github\\doubleml-for-py\\doubleml\\_utils.py:252: UserWarning: Propensity predictions from learner RandomForestClassifier(n_estimators=50) for ml_m are close to zero or one (eps=1e-12).\n",
      "  warnings.warn(f'Propensity predictions from learner {str(learner)} for'\n"
     ]
    },
    {
     "name": "stdout",
     "output_type": "stream",
     "text": [
      "50\n"
     ]
    },
    {
     "name": "stderr",
     "output_type": "stream",
     "text": [
      "c:\\users\\bam5698\\github\\doubleml-for-py\\doubleml\\_utils.py:252: UserWarning: Propensity predictions from learner RandomForestClassifier(n_estimators=50) for ml_m are close to zero or one (eps=1e-12).\n",
      "  warnings.warn(f'Propensity predictions from learner {str(learner)} for'\n"
     ]
    },
    {
     "name": "stdout",
     "output_type": "stream",
     "text": [
      "51\n"
     ]
    },
    {
     "name": "stderr",
     "output_type": "stream",
     "text": [
      "c:\\users\\bam5698\\github\\doubleml-for-py\\doubleml\\_utils.py:252: UserWarning: Propensity predictions from learner RandomForestClassifier(n_estimators=50) for ml_m are close to zero or one (eps=1e-12).\n",
      "  warnings.warn(f'Propensity predictions from learner {str(learner)} for'\n"
     ]
    },
    {
     "name": "stdout",
     "output_type": "stream",
     "text": [
      "52\n"
     ]
    },
    {
     "name": "stderr",
     "output_type": "stream",
     "text": [
      "c:\\users\\bam5698\\github\\doubleml-for-py\\doubleml\\_utils.py:252: UserWarning: Propensity predictions from learner RandomForestClassifier(n_estimators=50) for ml_m are close to zero or one (eps=1e-12).\n",
      "  warnings.warn(f'Propensity predictions from learner {str(learner)} for'\n"
     ]
    },
    {
     "name": "stdout",
     "output_type": "stream",
     "text": [
      "53\n"
     ]
    },
    {
     "name": "stderr",
     "output_type": "stream",
     "text": [
      "c:\\users\\bam5698\\github\\doubleml-for-py\\doubleml\\_utils.py:252: UserWarning: Propensity predictions from learner RandomForestClassifier(n_estimators=50) for ml_m are close to zero or one (eps=1e-12).\n",
      "  warnings.warn(f'Propensity predictions from learner {str(learner)} for'\n"
     ]
    },
    {
     "name": "stdout",
     "output_type": "stream",
     "text": [
      "54\n"
     ]
    },
    {
     "name": "stderr",
     "output_type": "stream",
     "text": [
      "c:\\users\\bam5698\\github\\doubleml-for-py\\doubleml\\_utils.py:252: UserWarning: Propensity predictions from learner RandomForestClassifier(n_estimators=50) for ml_m are close to zero or one (eps=1e-12).\n",
      "  warnings.warn(f'Propensity predictions from learner {str(learner)} for'\n"
     ]
    },
    {
     "name": "stdout",
     "output_type": "stream",
     "text": [
      "55\n"
     ]
    },
    {
     "name": "stderr",
     "output_type": "stream",
     "text": [
      "c:\\users\\bam5698\\github\\doubleml-for-py\\doubleml\\_utils.py:252: UserWarning: Propensity predictions from learner RandomForestClassifier(n_estimators=50) for ml_m are close to zero or one (eps=1e-12).\n",
      "  warnings.warn(f'Propensity predictions from learner {str(learner)} for'\n"
     ]
    },
    {
     "name": "stdout",
     "output_type": "stream",
     "text": [
      "56\n"
     ]
    },
    {
     "name": "stderr",
     "output_type": "stream",
     "text": [
      "c:\\users\\bam5698\\github\\doubleml-for-py\\doubleml\\_utils.py:252: UserWarning: Propensity predictions from learner RandomForestClassifier(n_estimators=50) for ml_m are close to zero or one (eps=1e-12).\n",
      "  warnings.warn(f'Propensity predictions from learner {str(learner)} for'\n"
     ]
    },
    {
     "name": "stdout",
     "output_type": "stream",
     "text": [
      "57\n"
     ]
    },
    {
     "name": "stderr",
     "output_type": "stream",
     "text": [
      "c:\\users\\bam5698\\github\\doubleml-for-py\\doubleml\\_utils.py:252: UserWarning: Propensity predictions from learner RandomForestClassifier(n_estimators=50) for ml_m are close to zero or one (eps=1e-12).\n",
      "  warnings.warn(f'Propensity predictions from learner {str(learner)} for'\n"
     ]
    },
    {
     "name": "stdout",
     "output_type": "stream",
     "text": [
      "58\n"
     ]
    },
    {
     "name": "stderr",
     "output_type": "stream",
     "text": [
      "c:\\users\\bam5698\\github\\doubleml-for-py\\doubleml\\_utils.py:252: UserWarning: Propensity predictions from learner RandomForestClassifier(n_estimators=50) for ml_m are close to zero or one (eps=1e-12).\n",
      "  warnings.warn(f'Propensity predictions from learner {str(learner)} for'\n"
     ]
    },
    {
     "name": "stdout",
     "output_type": "stream",
     "text": [
      "59\n"
     ]
    },
    {
     "name": "stderr",
     "output_type": "stream",
     "text": [
      "c:\\users\\bam5698\\github\\doubleml-for-py\\doubleml\\_utils.py:252: UserWarning: Propensity predictions from learner RandomForestClassifier(n_estimators=50) for ml_m are close to zero or one (eps=1e-12).\n",
      "  warnings.warn(f'Propensity predictions from learner {str(learner)} for'\n"
     ]
    },
    {
     "name": "stdout",
     "output_type": "stream",
     "text": [
      "60\n"
     ]
    },
    {
     "name": "stderr",
     "output_type": "stream",
     "text": [
      "c:\\users\\bam5698\\github\\doubleml-for-py\\doubleml\\_utils.py:252: UserWarning: Propensity predictions from learner RandomForestClassifier(n_estimators=50) for ml_m are close to zero or one (eps=1e-12).\n",
      "  warnings.warn(f'Propensity predictions from learner {str(learner)} for'\n"
     ]
    },
    {
     "name": "stdout",
     "output_type": "stream",
     "text": [
      "61\n"
     ]
    },
    {
     "name": "stderr",
     "output_type": "stream",
     "text": [
      "c:\\users\\bam5698\\github\\doubleml-for-py\\doubleml\\_utils.py:252: UserWarning: Propensity predictions from learner RandomForestClassifier(n_estimators=50) for ml_m are close to zero or one (eps=1e-12).\n",
      "  warnings.warn(f'Propensity predictions from learner {str(learner)} for'\n"
     ]
    },
    {
     "name": "stdout",
     "output_type": "stream",
     "text": [
      "62\n"
     ]
    },
    {
     "name": "stderr",
     "output_type": "stream",
     "text": [
      "c:\\users\\bam5698\\github\\doubleml-for-py\\doubleml\\_utils.py:252: UserWarning: Propensity predictions from learner RandomForestClassifier(n_estimators=50) for ml_m are close to zero or one (eps=1e-12).\n",
      "  warnings.warn(f'Propensity predictions from learner {str(learner)} for'\n"
     ]
    },
    {
     "name": "stdout",
     "output_type": "stream",
     "text": [
      "63\n"
     ]
    },
    {
     "name": "stderr",
     "output_type": "stream",
     "text": [
      "c:\\users\\bam5698\\github\\doubleml-for-py\\doubleml\\_utils.py:252: UserWarning: Propensity predictions from learner RandomForestClassifier(n_estimators=50) for ml_m are close to zero or one (eps=1e-12).\n",
      "  warnings.warn(f'Propensity predictions from learner {str(learner)} for'\n"
     ]
    },
    {
     "name": "stdout",
     "output_type": "stream",
     "text": [
      "64\n",
      "65\n"
     ]
    },
    {
     "name": "stderr",
     "output_type": "stream",
     "text": [
      "c:\\users\\bam5698\\github\\doubleml-for-py\\doubleml\\_utils.py:252: UserWarning: Propensity predictions from learner RandomForestClassifier(n_estimators=50) for ml_m are close to zero or one (eps=1e-12).\n",
      "  warnings.warn(f'Propensity predictions from learner {str(learner)} for'\n"
     ]
    },
    {
     "name": "stdout",
     "output_type": "stream",
     "text": [
      "66\n"
     ]
    },
    {
     "name": "stderr",
     "output_type": "stream",
     "text": [
      "c:\\users\\bam5698\\github\\doubleml-for-py\\doubleml\\_utils.py:252: UserWarning: Propensity predictions from learner RandomForestClassifier(n_estimators=50) for ml_m are close to zero or one (eps=1e-12).\n",
      "  warnings.warn(f'Propensity predictions from learner {str(learner)} for'\n"
     ]
    },
    {
     "name": "stdout",
     "output_type": "stream",
     "text": [
      "67\n"
     ]
    },
    {
     "name": "stderr",
     "output_type": "stream",
     "text": [
      "c:\\users\\bam5698\\github\\doubleml-for-py\\doubleml\\_utils.py:252: UserWarning: Propensity predictions from learner RandomForestClassifier(n_estimators=50) for ml_m are close to zero or one (eps=1e-12).\n",
      "  warnings.warn(f'Propensity predictions from learner {str(learner)} for'\n"
     ]
    },
    {
     "name": "stdout",
     "output_type": "stream",
     "text": [
      "68\n"
     ]
    },
    {
     "name": "stderr",
     "output_type": "stream",
     "text": [
      "c:\\users\\bam5698\\github\\doubleml-for-py\\doubleml\\_utils.py:252: UserWarning: Propensity predictions from learner RandomForestClassifier(n_estimators=50) for ml_m are close to zero or one (eps=1e-12).\n",
      "  warnings.warn(f'Propensity predictions from learner {str(learner)} for'\n"
     ]
    },
    {
     "name": "stdout",
     "output_type": "stream",
     "text": [
      "69\n"
     ]
    },
    {
     "name": "stderr",
     "output_type": "stream",
     "text": [
      "c:\\users\\bam5698\\github\\doubleml-for-py\\doubleml\\_utils.py:252: UserWarning: Propensity predictions from learner RandomForestClassifier(n_estimators=50) for ml_m are close to zero or one (eps=1e-12).\n",
      "  warnings.warn(f'Propensity predictions from learner {str(learner)} for'\n"
     ]
    },
    {
     "name": "stdout",
     "output_type": "stream",
     "text": [
      "70\n"
     ]
    },
    {
     "name": "stderr",
     "output_type": "stream",
     "text": [
      "c:\\users\\bam5698\\github\\doubleml-for-py\\doubleml\\_utils.py:252: UserWarning: Propensity predictions from learner RandomForestClassifier(n_estimators=50) for ml_m are close to zero or one (eps=1e-12).\n",
      "  warnings.warn(f'Propensity predictions from learner {str(learner)} for'\n"
     ]
    },
    {
     "name": "stdout",
     "output_type": "stream",
     "text": [
      "71\n"
     ]
    },
    {
     "name": "stderr",
     "output_type": "stream",
     "text": [
      "c:\\users\\bam5698\\github\\doubleml-for-py\\doubleml\\_utils.py:252: UserWarning: Propensity predictions from learner RandomForestClassifier(n_estimators=50) for ml_m are close to zero or one (eps=1e-12).\n",
      "  warnings.warn(f'Propensity predictions from learner {str(learner)} for'\n"
     ]
    },
    {
     "name": "stdout",
     "output_type": "stream",
     "text": [
      "72\n"
     ]
    },
    {
     "name": "stderr",
     "output_type": "stream",
     "text": [
      "c:\\users\\bam5698\\github\\doubleml-for-py\\doubleml\\_utils.py:252: UserWarning: Propensity predictions from learner RandomForestClassifier(n_estimators=50) for ml_m are close to zero or one (eps=1e-12).\n",
      "  warnings.warn(f'Propensity predictions from learner {str(learner)} for'\n"
     ]
    },
    {
     "name": "stdout",
     "output_type": "stream",
     "text": [
      "73\n"
     ]
    },
    {
     "name": "stderr",
     "output_type": "stream",
     "text": [
      "c:\\users\\bam5698\\github\\doubleml-for-py\\doubleml\\_utils.py:252: UserWarning: Propensity predictions from learner RandomForestClassifier(n_estimators=50) for ml_m are close to zero or one (eps=1e-12).\n",
      "  warnings.warn(f'Propensity predictions from learner {str(learner)} for'\n"
     ]
    },
    {
     "name": "stdout",
     "output_type": "stream",
     "text": [
      "74\n",
      "75\n"
     ]
    },
    {
     "name": "stderr",
     "output_type": "stream",
     "text": [
      "c:\\users\\bam5698\\github\\doubleml-for-py\\doubleml\\_utils.py:252: UserWarning: Propensity predictions from learner RandomForestClassifier(n_estimators=50) for ml_m are close to zero or one (eps=1e-12).\n",
      "  warnings.warn(f'Propensity predictions from learner {str(learner)} for'\n"
     ]
    },
    {
     "name": "stdout",
     "output_type": "stream",
     "text": [
      "76\n"
     ]
    },
    {
     "name": "stderr",
     "output_type": "stream",
     "text": [
      "c:\\users\\bam5698\\github\\doubleml-for-py\\doubleml\\_utils.py:252: UserWarning: Propensity predictions from learner RandomForestClassifier(n_estimators=50) for ml_m are close to zero or one (eps=1e-12).\n",
      "  warnings.warn(f'Propensity predictions from learner {str(learner)} for'\n"
     ]
    },
    {
     "name": "stdout",
     "output_type": "stream",
     "text": [
      "77\n"
     ]
    },
    {
     "name": "stderr",
     "output_type": "stream",
     "text": [
      "c:\\users\\bam5698\\github\\doubleml-for-py\\doubleml\\_utils.py:252: UserWarning: Propensity predictions from learner RandomForestClassifier(n_estimators=50) for ml_m are close to zero or one (eps=1e-12).\n",
      "  warnings.warn(f'Propensity predictions from learner {str(learner)} for'\n"
     ]
    },
    {
     "name": "stdout",
     "output_type": "stream",
     "text": [
      "78\n"
     ]
    },
    {
     "name": "stderr",
     "output_type": "stream",
     "text": [
      "c:\\users\\bam5698\\github\\doubleml-for-py\\doubleml\\_utils.py:252: UserWarning: Propensity predictions from learner RandomForestClassifier(n_estimators=50) for ml_m are close to zero or one (eps=1e-12).\n",
      "  warnings.warn(f'Propensity predictions from learner {str(learner)} for'\n"
     ]
    },
    {
     "name": "stdout",
     "output_type": "stream",
     "text": [
      "79\n"
     ]
    },
    {
     "name": "stderr",
     "output_type": "stream",
     "text": [
      "c:\\users\\bam5698\\github\\doubleml-for-py\\doubleml\\_utils.py:252: UserWarning: Propensity predictions from learner RandomForestClassifier(n_estimators=50) for ml_m are close to zero or one (eps=1e-12).\n",
      "  warnings.warn(f'Propensity predictions from learner {str(learner)} for'\n"
     ]
    },
    {
     "name": "stdout",
     "output_type": "stream",
     "text": [
      "80\n"
     ]
    },
    {
     "name": "stderr",
     "output_type": "stream",
     "text": [
      "c:\\users\\bam5698\\github\\doubleml-for-py\\doubleml\\_utils.py:252: UserWarning: Propensity predictions from learner RandomForestClassifier(n_estimators=50) for ml_m are close to zero or one (eps=1e-12).\n",
      "  warnings.warn(f'Propensity predictions from learner {str(learner)} for'\n"
     ]
    },
    {
     "name": "stdout",
     "output_type": "stream",
     "text": [
      "81\n"
     ]
    },
    {
     "name": "stderr",
     "output_type": "stream",
     "text": [
      "c:\\users\\bam5698\\github\\doubleml-for-py\\doubleml\\_utils.py:252: UserWarning: Propensity predictions from learner RandomForestClassifier(n_estimators=50) for ml_m are close to zero or one (eps=1e-12).\n",
      "  warnings.warn(f'Propensity predictions from learner {str(learner)} for'\n"
     ]
    },
    {
     "name": "stdout",
     "output_type": "stream",
     "text": [
      "82\n"
     ]
    },
    {
     "name": "stderr",
     "output_type": "stream",
     "text": [
      "c:\\users\\bam5698\\github\\doubleml-for-py\\doubleml\\_utils.py:252: UserWarning: Propensity predictions from learner RandomForestClassifier(n_estimators=50) for ml_m are close to zero or one (eps=1e-12).\n",
      "  warnings.warn(f'Propensity predictions from learner {str(learner)} for'\n"
     ]
    },
    {
     "name": "stdout",
     "output_type": "stream",
     "text": [
      "83\n"
     ]
    },
    {
     "name": "stderr",
     "output_type": "stream",
     "text": [
      "c:\\users\\bam5698\\github\\doubleml-for-py\\doubleml\\_utils.py:252: UserWarning: Propensity predictions from learner RandomForestClassifier(n_estimators=50) for ml_m are close to zero or one (eps=1e-12).\n",
      "  warnings.warn(f'Propensity predictions from learner {str(learner)} for'\n"
     ]
    },
    {
     "name": "stdout",
     "output_type": "stream",
     "text": [
      "84\n"
     ]
    },
    {
     "name": "stderr",
     "output_type": "stream",
     "text": [
      "c:\\users\\bam5698\\github\\doubleml-for-py\\doubleml\\_utils.py:252: UserWarning: Propensity predictions from learner RandomForestClassifier(n_estimators=50) for ml_m are close to zero or one (eps=1e-12).\n",
      "  warnings.warn(f'Propensity predictions from learner {str(learner)} for'\n"
     ]
    },
    {
     "name": "stdout",
     "output_type": "stream",
     "text": [
      "85\n"
     ]
    },
    {
     "name": "stderr",
     "output_type": "stream",
     "text": [
      "c:\\users\\bam5698\\github\\doubleml-for-py\\doubleml\\_utils.py:252: UserWarning: Propensity predictions from learner RandomForestClassifier(n_estimators=50) for ml_m are close to zero or one (eps=1e-12).\n",
      "  warnings.warn(f'Propensity predictions from learner {str(learner)} for'\n"
     ]
    },
    {
     "name": "stdout",
     "output_type": "stream",
     "text": [
      "86\n"
     ]
    },
    {
     "name": "stderr",
     "output_type": "stream",
     "text": [
      "c:\\users\\bam5698\\github\\doubleml-for-py\\doubleml\\_utils.py:252: UserWarning: Propensity predictions from learner RandomForestClassifier(n_estimators=50) for ml_m are close to zero or one (eps=1e-12).\n",
      "  warnings.warn(f'Propensity predictions from learner {str(learner)} for'\n"
     ]
    },
    {
     "name": "stdout",
     "output_type": "stream",
     "text": [
      "87\n"
     ]
    },
    {
     "name": "stderr",
     "output_type": "stream",
     "text": [
      "c:\\users\\bam5698\\github\\doubleml-for-py\\doubleml\\_utils.py:252: UserWarning: Propensity predictions from learner RandomForestClassifier(n_estimators=50) for ml_m are close to zero or one (eps=1e-12).\n",
      "  warnings.warn(f'Propensity predictions from learner {str(learner)} for'\n"
     ]
    },
    {
     "name": "stdout",
     "output_type": "stream",
     "text": [
      "88\n"
     ]
    },
    {
     "name": "stderr",
     "output_type": "stream",
     "text": [
      "c:\\users\\bam5698\\github\\doubleml-for-py\\doubleml\\_utils.py:252: UserWarning: Propensity predictions from learner RandomForestClassifier(n_estimators=50) for ml_m are close to zero or one (eps=1e-12).\n",
      "  warnings.warn(f'Propensity predictions from learner {str(learner)} for'\n"
     ]
    },
    {
     "name": "stdout",
     "output_type": "stream",
     "text": [
      "89\n"
     ]
    },
    {
     "name": "stderr",
     "output_type": "stream",
     "text": [
      "c:\\users\\bam5698\\github\\doubleml-for-py\\doubleml\\_utils.py:252: UserWarning: Propensity predictions from learner RandomForestClassifier(n_estimators=50) for ml_m are close to zero or one (eps=1e-12).\n",
      "  warnings.warn(f'Propensity predictions from learner {str(learner)} for'\n"
     ]
    },
    {
     "name": "stdout",
     "output_type": "stream",
     "text": [
      "90\n"
     ]
    },
    {
     "name": "stderr",
     "output_type": "stream",
     "text": [
      "c:\\users\\bam5698\\github\\doubleml-for-py\\doubleml\\_utils.py:252: UserWarning: Propensity predictions from learner RandomForestClassifier(n_estimators=50) for ml_m are close to zero or one (eps=1e-12).\n",
      "  warnings.warn(f'Propensity predictions from learner {str(learner)} for'\n"
     ]
    },
    {
     "name": "stdout",
     "output_type": "stream",
     "text": [
      "91\n"
     ]
    },
    {
     "name": "stderr",
     "output_type": "stream",
     "text": [
      "c:\\users\\bam5698\\github\\doubleml-for-py\\doubleml\\_utils.py:252: UserWarning: Propensity predictions from learner RandomForestClassifier(n_estimators=50) for ml_m are close to zero or one (eps=1e-12).\n",
      "  warnings.warn(f'Propensity predictions from learner {str(learner)} for'\n"
     ]
    },
    {
     "name": "stdout",
     "output_type": "stream",
     "text": [
      "92\n"
     ]
    },
    {
     "name": "stderr",
     "output_type": "stream",
     "text": [
      "c:\\users\\bam5698\\github\\doubleml-for-py\\doubleml\\_utils.py:252: UserWarning: Propensity predictions from learner RandomForestClassifier(n_estimators=50) for ml_m are close to zero or one (eps=1e-12).\n",
      "  warnings.warn(f'Propensity predictions from learner {str(learner)} for'\n"
     ]
    },
    {
     "name": "stdout",
     "output_type": "stream",
     "text": [
      "93\n"
     ]
    },
    {
     "name": "stderr",
     "output_type": "stream",
     "text": [
      "c:\\users\\bam5698\\github\\doubleml-for-py\\doubleml\\_utils.py:252: UserWarning: Propensity predictions from learner RandomForestClassifier(n_estimators=50) for ml_m are close to zero or one (eps=1e-12).\n",
      "  warnings.warn(f'Propensity predictions from learner {str(learner)} for'\n"
     ]
    },
    {
     "name": "stdout",
     "output_type": "stream",
     "text": [
      "94\n"
     ]
    },
    {
     "name": "stderr",
     "output_type": "stream",
     "text": [
      "c:\\users\\bam5698\\github\\doubleml-for-py\\doubleml\\_utils.py:252: UserWarning: Propensity predictions from learner RandomForestClassifier(n_estimators=50) for ml_m are close to zero or one (eps=1e-12).\n",
      "  warnings.warn(f'Propensity predictions from learner {str(learner)} for'\n"
     ]
    },
    {
     "name": "stdout",
     "output_type": "stream",
     "text": [
      "95\n"
     ]
    },
    {
     "name": "stderr",
     "output_type": "stream",
     "text": [
      "c:\\users\\bam5698\\github\\doubleml-for-py\\doubleml\\_utils.py:252: UserWarning: Propensity predictions from learner RandomForestClassifier(n_estimators=50) for ml_m are close to zero or one (eps=1e-12).\n",
      "  warnings.warn(f'Propensity predictions from learner {str(learner)} for'\n"
     ]
    },
    {
     "name": "stdout",
     "output_type": "stream",
     "text": [
      "96\n",
      "97\n"
     ]
    },
    {
     "name": "stderr",
     "output_type": "stream",
     "text": [
      "c:\\users\\bam5698\\github\\doubleml-for-py\\doubleml\\_utils.py:252: UserWarning: Propensity predictions from learner RandomForestClassifier(n_estimators=50) for ml_m are close to zero or one (eps=1e-12).\n",
      "  warnings.warn(f'Propensity predictions from learner {str(learner)} for'\n"
     ]
    },
    {
     "name": "stdout",
     "output_type": "stream",
     "text": [
      "98\n"
     ]
    },
    {
     "name": "stderr",
     "output_type": "stream",
     "text": [
      "c:\\users\\bam5698\\github\\doubleml-for-py\\doubleml\\_utils.py:252: UserWarning: Propensity predictions from learner RandomForestClassifier(n_estimators=50) for ml_m are close to zero or one (eps=1e-12).\n",
      "  warnings.warn(f'Propensity predictions from learner {str(learner)} for'\n"
     ]
    },
    {
     "name": "stdout",
     "output_type": "stream",
     "text": [
      "99\n"
     ]
    },
    {
     "name": "stderr",
     "output_type": "stream",
     "text": [
      "c:\\users\\bam5698\\github\\doubleml-for-py\\doubleml\\_utils.py:252: UserWarning: Propensity predictions from learner RandomForestClassifier(n_estimators=50) for ml_m are close to zero or one (eps=1e-12).\n",
      "  warnings.warn(f'Propensity predictions from learner {str(learner)} for'\n"
     ]
    }
   ],
   "source": [
    "# set core to repeated outcomes\n",
    "score = \"RO\"\n",
    "\n",
    "coefs = np.full((n_rep), np.nan)\n",
    "ses = np.full((n_rep), np.nan)\n",
    "cover = np.full((n_rep), np.nan)\n",
    "ci_length = np.full((n_rep), np.nan)\n",
    "\n",
    "for i_rep in range(n_rep):\n",
    "    print(i_rep)\n",
    "    obj_dml_data = datasets_ro[i_rep]\n",
    "    dml_DiD = dml.DoubleMLDID(obj_dml_data, \n",
    "                              ml_g=clone(ml_g),\n",
    "                              ml_m=clone(ml_m),\n",
    "                              score=score,\n",
    "                              n_folds=5)\n",
    "\n",
    "    dml_DiD.fit(n_jobs_cv=cores_used)\n",
    "\n",
    "    # save coefs and ses\n",
    "    coefs[i_rep] = dml_DiD.coef\n",
    "    ses[i_rep] = dml_DiD.se\n",
    "\n",
    "    # calculate confidence interval\n",
    "    confint = dml_DiD.confint(level=0.95)\n",
    "    cover[i_rep] = (confint['2.5 %'] < ATT) & (ATT < confint['97.5 %'])\n",
    "    ci_length[i_rep] = confint['97.5 %'] - confint['2.5 %']"
   ]
  },
  {
   "cell_type": "code",
   "execution_count": 62,
   "metadata": {},
   "outputs": [
    {
     "name": "stdout",
     "output_type": "stream",
     "text": [
      "Avg. Bias: 1.0986198264028149\n",
      "Avg. asymptotic Variance: 6.029983629152161\n",
      "Coverage: 0.98\n",
      "Avg. CI length: 8.45144303389483\n"
     ]
    }
   ],
   "source": [
    "print(f'Avg. Bias: {coefs.mean()}')\n",
    "print(f'Avg. asymptotic Variance: {np.square(ses).mean()}')\n",
    "print(f'Coverage: {cover.mean()}')\n",
    "print(f'Avg. CI length: {ci_length.mean()}')"
   ]
  },
  {
   "attachments": {},
   "cell_type": "markdown",
   "metadata": {},
   "source": [
    "Save the estimates to compare this to repeated cross-sectional data."
   ]
  },
  {
   "cell_type": "code",
   "execution_count": 68,
   "metadata": {},
   "outputs": [],
   "source": [
    "data_plot = {\"Repeated Outcomes\": coefs}\n",
    "df_plot = pd.DataFrame(data_plot)"
   ]
  },
  {
   "attachments": {},
   "cell_type": "markdown",
   "metadata": {},
   "source": [
    "## Repeated Cross-sectional Data\n",
    "\n",
    "Use the same data with coss-sectional observations"
   ]
  },
  {
   "cell_type": "code",
   "execution_count": 64,
   "metadata": {},
   "outputs": [
    {
     "name": "stdout",
     "output_type": "stream",
     "text": [
      "0\n"
     ]
    },
    {
     "name": "stderr",
     "output_type": "stream",
     "text": [
      "c:\\users\\bam5698\\github\\doubleml-for-py\\doubleml\\_utils.py:252: UserWarning: Propensity predictions from learner RandomForestClassifier(n_estimators=50) for ml_m are close to zero or one (eps=1e-12).\n",
      "  warnings.warn(f'Propensity predictions from learner {str(learner)} for'\n"
     ]
    },
    {
     "name": "stdout",
     "output_type": "stream",
     "text": [
      "1\n"
     ]
    },
    {
     "name": "stderr",
     "output_type": "stream",
     "text": [
      "c:\\users\\bam5698\\github\\doubleml-for-py\\doubleml\\_utils.py:252: UserWarning: Propensity predictions from learner RandomForestClassifier(n_estimators=50) for ml_m are close to zero or one (eps=1e-12).\n",
      "  warnings.warn(f'Propensity predictions from learner {str(learner)} for'\n"
     ]
    },
    {
     "name": "stdout",
     "output_type": "stream",
     "text": [
      "2\n"
     ]
    },
    {
     "name": "stderr",
     "output_type": "stream",
     "text": [
      "c:\\users\\bam5698\\github\\doubleml-for-py\\doubleml\\_utils.py:252: UserWarning: Propensity predictions from learner RandomForestClassifier(n_estimators=50) for ml_m are close to zero or one (eps=1e-12).\n",
      "  warnings.warn(f'Propensity predictions from learner {str(learner)} for'\n"
     ]
    },
    {
     "name": "stdout",
     "output_type": "stream",
     "text": [
      "3\n"
     ]
    },
    {
     "name": "stderr",
     "output_type": "stream",
     "text": [
      "c:\\users\\bam5698\\github\\doubleml-for-py\\doubleml\\_utils.py:252: UserWarning: Propensity predictions from learner RandomForestClassifier(n_estimators=50) for ml_m are close to zero or one (eps=1e-12).\n",
      "  warnings.warn(f'Propensity predictions from learner {str(learner)} for'\n"
     ]
    },
    {
     "name": "stdout",
     "output_type": "stream",
     "text": [
      "4\n"
     ]
    },
    {
     "name": "stderr",
     "output_type": "stream",
     "text": [
      "c:\\users\\bam5698\\github\\doubleml-for-py\\doubleml\\_utils.py:252: UserWarning: Propensity predictions from learner RandomForestClassifier(n_estimators=50) for ml_m are close to zero or one (eps=1e-12).\n",
      "  warnings.warn(f'Propensity predictions from learner {str(learner)} for'\n"
     ]
    },
    {
     "name": "stdout",
     "output_type": "stream",
     "text": [
      "5\n"
     ]
    },
    {
     "name": "stderr",
     "output_type": "stream",
     "text": [
      "c:\\users\\bam5698\\github\\doubleml-for-py\\doubleml\\_utils.py:252: UserWarning: Propensity predictions from learner RandomForestClassifier(n_estimators=50) for ml_m are close to zero or one (eps=1e-12).\n",
      "  warnings.warn(f'Propensity predictions from learner {str(learner)} for'\n"
     ]
    },
    {
     "name": "stdout",
     "output_type": "stream",
     "text": [
      "6\n"
     ]
    },
    {
     "name": "stderr",
     "output_type": "stream",
     "text": [
      "c:\\users\\bam5698\\github\\doubleml-for-py\\doubleml\\_utils.py:252: UserWarning: Propensity predictions from learner RandomForestClassifier(n_estimators=50) for ml_m are close to zero or one (eps=1e-12).\n",
      "  warnings.warn(f'Propensity predictions from learner {str(learner)} for'\n"
     ]
    },
    {
     "name": "stdout",
     "output_type": "stream",
     "text": [
      "7\n"
     ]
    },
    {
     "name": "stderr",
     "output_type": "stream",
     "text": [
      "c:\\users\\bam5698\\github\\doubleml-for-py\\doubleml\\_utils.py:252: UserWarning: Propensity predictions from learner RandomForestClassifier(n_estimators=50) for ml_m are close to zero or one (eps=1e-12).\n",
      "  warnings.warn(f'Propensity predictions from learner {str(learner)} for'\n"
     ]
    },
    {
     "name": "stdout",
     "output_type": "stream",
     "text": [
      "8\n"
     ]
    },
    {
     "name": "stderr",
     "output_type": "stream",
     "text": [
      "c:\\users\\bam5698\\github\\doubleml-for-py\\doubleml\\_utils.py:252: UserWarning: Propensity predictions from learner RandomForestClassifier(n_estimators=50) for ml_m are close to zero or one (eps=1e-12).\n",
      "  warnings.warn(f'Propensity predictions from learner {str(learner)} for'\n"
     ]
    },
    {
     "name": "stdout",
     "output_type": "stream",
     "text": [
      "9\n"
     ]
    },
    {
     "name": "stderr",
     "output_type": "stream",
     "text": [
      "c:\\users\\bam5698\\github\\doubleml-for-py\\doubleml\\_utils.py:252: UserWarning: Propensity predictions from learner RandomForestClassifier(n_estimators=50) for ml_m are close to zero or one (eps=1e-12).\n",
      "  warnings.warn(f'Propensity predictions from learner {str(learner)} for'\n"
     ]
    },
    {
     "name": "stdout",
     "output_type": "stream",
     "text": [
      "10\n"
     ]
    },
    {
     "name": "stderr",
     "output_type": "stream",
     "text": [
      "c:\\users\\bam5698\\github\\doubleml-for-py\\doubleml\\_utils.py:252: UserWarning: Propensity predictions from learner RandomForestClassifier(n_estimators=50) for ml_m are close to zero or one (eps=1e-12).\n",
      "  warnings.warn(f'Propensity predictions from learner {str(learner)} for'\n"
     ]
    },
    {
     "name": "stdout",
     "output_type": "stream",
     "text": [
      "11\n"
     ]
    },
    {
     "name": "stderr",
     "output_type": "stream",
     "text": [
      "c:\\users\\bam5698\\github\\doubleml-for-py\\doubleml\\_utils.py:252: UserWarning: Propensity predictions from learner RandomForestClassifier(n_estimators=50) for ml_m are close to zero or one (eps=1e-12).\n",
      "  warnings.warn(f'Propensity predictions from learner {str(learner)} for'\n"
     ]
    },
    {
     "name": "stdout",
     "output_type": "stream",
     "text": [
      "12\n"
     ]
    },
    {
     "name": "stderr",
     "output_type": "stream",
     "text": [
      "c:\\users\\bam5698\\github\\doubleml-for-py\\doubleml\\_utils.py:252: UserWarning: Propensity predictions from learner RandomForestClassifier(n_estimators=50) for ml_m are close to zero or one (eps=1e-12).\n",
      "  warnings.warn(f'Propensity predictions from learner {str(learner)} for'\n"
     ]
    },
    {
     "name": "stdout",
     "output_type": "stream",
     "text": [
      "13\n"
     ]
    },
    {
     "name": "stderr",
     "output_type": "stream",
     "text": [
      "c:\\users\\bam5698\\github\\doubleml-for-py\\doubleml\\_utils.py:252: UserWarning: Propensity predictions from learner RandomForestClassifier(n_estimators=50) for ml_m are close to zero or one (eps=1e-12).\n",
      "  warnings.warn(f'Propensity predictions from learner {str(learner)} for'\n"
     ]
    },
    {
     "name": "stdout",
     "output_type": "stream",
     "text": [
      "14\n"
     ]
    },
    {
     "name": "stderr",
     "output_type": "stream",
     "text": [
      "c:\\users\\bam5698\\github\\doubleml-for-py\\doubleml\\_utils.py:252: UserWarning: Propensity predictions from learner RandomForestClassifier(n_estimators=50) for ml_m are close to zero or one (eps=1e-12).\n",
      "  warnings.warn(f'Propensity predictions from learner {str(learner)} for'\n"
     ]
    },
    {
     "name": "stdout",
     "output_type": "stream",
     "text": [
      "15\n"
     ]
    },
    {
     "name": "stderr",
     "output_type": "stream",
     "text": [
      "c:\\users\\bam5698\\github\\doubleml-for-py\\doubleml\\_utils.py:252: UserWarning: Propensity predictions from learner RandomForestClassifier(n_estimators=50) for ml_m are close to zero or one (eps=1e-12).\n",
      "  warnings.warn(f'Propensity predictions from learner {str(learner)} for'\n"
     ]
    },
    {
     "name": "stdout",
     "output_type": "stream",
     "text": [
      "16\n",
      "17\n"
     ]
    },
    {
     "name": "stderr",
     "output_type": "stream",
     "text": [
      "c:\\users\\bam5698\\github\\doubleml-for-py\\doubleml\\_utils.py:252: UserWarning: Propensity predictions from learner RandomForestClassifier(n_estimators=50) for ml_m are close to zero or one (eps=1e-12).\n",
      "  warnings.warn(f'Propensity predictions from learner {str(learner)} for'\n"
     ]
    },
    {
     "name": "stdout",
     "output_type": "stream",
     "text": [
      "18\n"
     ]
    },
    {
     "name": "stderr",
     "output_type": "stream",
     "text": [
      "c:\\users\\bam5698\\github\\doubleml-for-py\\doubleml\\_utils.py:252: UserWarning: Propensity predictions from learner RandomForestClassifier(n_estimators=50) for ml_m are close to zero or one (eps=1e-12).\n",
      "  warnings.warn(f'Propensity predictions from learner {str(learner)} for'\n"
     ]
    },
    {
     "name": "stdout",
     "output_type": "stream",
     "text": [
      "19\n"
     ]
    },
    {
     "name": "stderr",
     "output_type": "stream",
     "text": [
      "c:\\users\\bam5698\\github\\doubleml-for-py\\doubleml\\_utils.py:252: UserWarning: Propensity predictions from learner RandomForestClassifier(n_estimators=50) for ml_m are close to zero or one (eps=1e-12).\n",
      "  warnings.warn(f'Propensity predictions from learner {str(learner)} for'\n"
     ]
    },
    {
     "name": "stdout",
     "output_type": "stream",
     "text": [
      "20\n"
     ]
    },
    {
     "name": "stderr",
     "output_type": "stream",
     "text": [
      "c:\\users\\bam5698\\github\\doubleml-for-py\\doubleml\\_utils.py:252: UserWarning: Propensity predictions from learner RandomForestClassifier(n_estimators=50) for ml_m are close to zero or one (eps=1e-12).\n",
      "  warnings.warn(f'Propensity predictions from learner {str(learner)} for'\n"
     ]
    },
    {
     "name": "stdout",
     "output_type": "stream",
     "text": [
      "21\n"
     ]
    },
    {
     "name": "stderr",
     "output_type": "stream",
     "text": [
      "c:\\users\\bam5698\\github\\doubleml-for-py\\doubleml\\_utils.py:252: UserWarning: Propensity predictions from learner RandomForestClassifier(n_estimators=50) for ml_m are close to zero or one (eps=1e-12).\n",
      "  warnings.warn(f'Propensity predictions from learner {str(learner)} for'\n"
     ]
    },
    {
     "name": "stdout",
     "output_type": "stream",
     "text": [
      "22\n"
     ]
    },
    {
     "name": "stderr",
     "output_type": "stream",
     "text": [
      "c:\\users\\bam5698\\github\\doubleml-for-py\\doubleml\\_utils.py:252: UserWarning: Propensity predictions from learner RandomForestClassifier(n_estimators=50) for ml_m are close to zero or one (eps=1e-12).\n",
      "  warnings.warn(f'Propensity predictions from learner {str(learner)} for'\n"
     ]
    },
    {
     "name": "stdout",
     "output_type": "stream",
     "text": [
      "23\n",
      "24\n"
     ]
    },
    {
     "name": "stderr",
     "output_type": "stream",
     "text": [
      "c:\\users\\bam5698\\github\\doubleml-for-py\\doubleml\\_utils.py:252: UserWarning: Propensity predictions from learner RandomForestClassifier(n_estimators=50) for ml_m are close to zero or one (eps=1e-12).\n",
      "  warnings.warn(f'Propensity predictions from learner {str(learner)} for'\n"
     ]
    },
    {
     "name": "stdout",
     "output_type": "stream",
     "text": [
      "25\n"
     ]
    },
    {
     "name": "stderr",
     "output_type": "stream",
     "text": [
      "c:\\users\\bam5698\\github\\doubleml-for-py\\doubleml\\_utils.py:252: UserWarning: Propensity predictions from learner RandomForestClassifier(n_estimators=50) for ml_m are close to zero or one (eps=1e-12).\n",
      "  warnings.warn(f'Propensity predictions from learner {str(learner)} for'\n"
     ]
    },
    {
     "name": "stdout",
     "output_type": "stream",
     "text": [
      "26\n"
     ]
    },
    {
     "name": "stderr",
     "output_type": "stream",
     "text": [
      "c:\\users\\bam5698\\github\\doubleml-for-py\\doubleml\\_utils.py:252: UserWarning: Propensity predictions from learner RandomForestClassifier(n_estimators=50) for ml_m are close to zero or one (eps=1e-12).\n",
      "  warnings.warn(f'Propensity predictions from learner {str(learner)} for'\n"
     ]
    },
    {
     "name": "stdout",
     "output_type": "stream",
     "text": [
      "27\n"
     ]
    },
    {
     "name": "stderr",
     "output_type": "stream",
     "text": [
      "c:\\users\\bam5698\\github\\doubleml-for-py\\doubleml\\_utils.py:252: UserWarning: Propensity predictions from learner RandomForestClassifier(n_estimators=50) for ml_m are close to zero or one (eps=1e-12).\n",
      "  warnings.warn(f'Propensity predictions from learner {str(learner)} for'\n"
     ]
    },
    {
     "name": "stdout",
     "output_type": "stream",
     "text": [
      "28\n"
     ]
    },
    {
     "name": "stderr",
     "output_type": "stream",
     "text": [
      "c:\\users\\bam5698\\github\\doubleml-for-py\\doubleml\\_utils.py:252: UserWarning: Propensity predictions from learner RandomForestClassifier(n_estimators=50) for ml_m are close to zero or one (eps=1e-12).\n",
      "  warnings.warn(f'Propensity predictions from learner {str(learner)} for'\n"
     ]
    },
    {
     "name": "stdout",
     "output_type": "stream",
     "text": [
      "29\n"
     ]
    },
    {
     "name": "stderr",
     "output_type": "stream",
     "text": [
      "c:\\users\\bam5698\\github\\doubleml-for-py\\doubleml\\_utils.py:252: UserWarning: Propensity predictions from learner RandomForestClassifier(n_estimators=50) for ml_m are close to zero or one (eps=1e-12).\n",
      "  warnings.warn(f'Propensity predictions from learner {str(learner)} for'\n"
     ]
    },
    {
     "name": "stdout",
     "output_type": "stream",
     "text": [
      "30\n"
     ]
    },
    {
     "name": "stderr",
     "output_type": "stream",
     "text": [
      "c:\\users\\bam5698\\github\\doubleml-for-py\\doubleml\\_utils.py:252: UserWarning: Propensity predictions from learner RandomForestClassifier(n_estimators=50) for ml_m are close to zero or one (eps=1e-12).\n",
      "  warnings.warn(f'Propensity predictions from learner {str(learner)} for'\n"
     ]
    },
    {
     "name": "stdout",
     "output_type": "stream",
     "text": [
      "31\n"
     ]
    },
    {
     "name": "stderr",
     "output_type": "stream",
     "text": [
      "c:\\users\\bam5698\\github\\doubleml-for-py\\doubleml\\_utils.py:252: UserWarning: Propensity predictions from learner RandomForestClassifier(n_estimators=50) for ml_m are close to zero or one (eps=1e-12).\n",
      "  warnings.warn(f'Propensity predictions from learner {str(learner)} for'\n"
     ]
    },
    {
     "name": "stdout",
     "output_type": "stream",
     "text": [
      "32\n"
     ]
    },
    {
     "name": "stderr",
     "output_type": "stream",
     "text": [
      "c:\\users\\bam5698\\github\\doubleml-for-py\\doubleml\\_utils.py:252: UserWarning: Propensity predictions from learner RandomForestClassifier(n_estimators=50) for ml_m are close to zero or one (eps=1e-12).\n",
      "  warnings.warn(f'Propensity predictions from learner {str(learner)} for'\n"
     ]
    },
    {
     "name": "stdout",
     "output_type": "stream",
     "text": [
      "33\n"
     ]
    },
    {
     "name": "stderr",
     "output_type": "stream",
     "text": [
      "c:\\users\\bam5698\\github\\doubleml-for-py\\doubleml\\_utils.py:252: UserWarning: Propensity predictions from learner RandomForestClassifier(n_estimators=50) for ml_m are close to zero or one (eps=1e-12).\n",
      "  warnings.warn(f'Propensity predictions from learner {str(learner)} for'\n"
     ]
    },
    {
     "name": "stdout",
     "output_type": "stream",
     "text": [
      "34\n"
     ]
    },
    {
     "name": "stderr",
     "output_type": "stream",
     "text": [
      "c:\\users\\bam5698\\github\\doubleml-for-py\\doubleml\\_utils.py:252: UserWarning: Propensity predictions from learner RandomForestClassifier(n_estimators=50) for ml_m are close to zero or one (eps=1e-12).\n",
      "  warnings.warn(f'Propensity predictions from learner {str(learner)} for'\n"
     ]
    },
    {
     "name": "stdout",
     "output_type": "stream",
     "text": [
      "35\n"
     ]
    },
    {
     "name": "stderr",
     "output_type": "stream",
     "text": [
      "c:\\users\\bam5698\\github\\doubleml-for-py\\doubleml\\_utils.py:252: UserWarning: Propensity predictions from learner RandomForestClassifier(n_estimators=50) for ml_m are close to zero or one (eps=1e-12).\n",
      "  warnings.warn(f'Propensity predictions from learner {str(learner)} for'\n"
     ]
    },
    {
     "name": "stdout",
     "output_type": "stream",
     "text": [
      "36\n"
     ]
    },
    {
     "name": "stderr",
     "output_type": "stream",
     "text": [
      "c:\\users\\bam5698\\github\\doubleml-for-py\\doubleml\\_utils.py:252: UserWarning: Propensity predictions from learner RandomForestClassifier(n_estimators=50) for ml_m are close to zero or one (eps=1e-12).\n",
      "  warnings.warn(f'Propensity predictions from learner {str(learner)} for'\n"
     ]
    },
    {
     "name": "stdout",
     "output_type": "stream",
     "text": [
      "37\n"
     ]
    },
    {
     "name": "stderr",
     "output_type": "stream",
     "text": [
      "c:\\users\\bam5698\\github\\doubleml-for-py\\doubleml\\_utils.py:252: UserWarning: Propensity predictions from learner RandomForestClassifier(n_estimators=50) for ml_m are close to zero or one (eps=1e-12).\n",
      "  warnings.warn(f'Propensity predictions from learner {str(learner)} for'\n"
     ]
    },
    {
     "name": "stdout",
     "output_type": "stream",
     "text": [
      "38\n"
     ]
    },
    {
     "name": "stderr",
     "output_type": "stream",
     "text": [
      "c:\\users\\bam5698\\github\\doubleml-for-py\\doubleml\\_utils.py:252: UserWarning: Propensity predictions from learner RandomForestClassifier(n_estimators=50) for ml_m are close to zero or one (eps=1e-12).\n",
      "  warnings.warn(f'Propensity predictions from learner {str(learner)} for'\n"
     ]
    },
    {
     "name": "stdout",
     "output_type": "stream",
     "text": [
      "39\n"
     ]
    },
    {
     "name": "stderr",
     "output_type": "stream",
     "text": [
      "c:\\users\\bam5698\\github\\doubleml-for-py\\doubleml\\_utils.py:252: UserWarning: Propensity predictions from learner RandomForestClassifier(n_estimators=50) for ml_m are close to zero or one (eps=1e-12).\n",
      "  warnings.warn(f'Propensity predictions from learner {str(learner)} for'\n"
     ]
    },
    {
     "name": "stdout",
     "output_type": "stream",
     "text": [
      "40\n"
     ]
    },
    {
     "name": "stderr",
     "output_type": "stream",
     "text": [
      "c:\\users\\bam5698\\github\\doubleml-for-py\\doubleml\\_utils.py:252: UserWarning: Propensity predictions from learner RandomForestClassifier(n_estimators=50) for ml_m are close to zero or one (eps=1e-12).\n",
      "  warnings.warn(f'Propensity predictions from learner {str(learner)} for'\n"
     ]
    },
    {
     "name": "stdout",
     "output_type": "stream",
     "text": [
      "41\n"
     ]
    },
    {
     "name": "stderr",
     "output_type": "stream",
     "text": [
      "c:\\users\\bam5698\\github\\doubleml-for-py\\doubleml\\_utils.py:252: UserWarning: Propensity predictions from learner RandomForestClassifier(n_estimators=50) for ml_m are close to zero or one (eps=1e-12).\n",
      "  warnings.warn(f'Propensity predictions from learner {str(learner)} for'\n"
     ]
    },
    {
     "name": "stdout",
     "output_type": "stream",
     "text": [
      "42\n"
     ]
    },
    {
     "name": "stderr",
     "output_type": "stream",
     "text": [
      "c:\\users\\bam5698\\github\\doubleml-for-py\\doubleml\\_utils.py:252: UserWarning: Propensity predictions from learner RandomForestClassifier(n_estimators=50) for ml_m are close to zero or one (eps=1e-12).\n",
      "  warnings.warn(f'Propensity predictions from learner {str(learner)} for'\n"
     ]
    },
    {
     "name": "stdout",
     "output_type": "stream",
     "text": [
      "43\n"
     ]
    },
    {
     "name": "stderr",
     "output_type": "stream",
     "text": [
      "c:\\users\\bam5698\\github\\doubleml-for-py\\doubleml\\_utils.py:252: UserWarning: Propensity predictions from learner RandomForestClassifier(n_estimators=50) for ml_m are close to zero or one (eps=1e-12).\n",
      "  warnings.warn(f'Propensity predictions from learner {str(learner)} for'\n"
     ]
    },
    {
     "name": "stdout",
     "output_type": "stream",
     "text": [
      "44\n"
     ]
    },
    {
     "name": "stderr",
     "output_type": "stream",
     "text": [
      "c:\\users\\bam5698\\github\\doubleml-for-py\\doubleml\\_utils.py:252: UserWarning: Propensity predictions from learner RandomForestClassifier(n_estimators=50) for ml_m are close to zero or one (eps=1e-12).\n",
      "  warnings.warn(f'Propensity predictions from learner {str(learner)} for'\n"
     ]
    },
    {
     "name": "stdout",
     "output_type": "stream",
     "text": [
      "45\n"
     ]
    },
    {
     "name": "stderr",
     "output_type": "stream",
     "text": [
      "c:\\users\\bam5698\\github\\doubleml-for-py\\doubleml\\_utils.py:252: UserWarning: Propensity predictions from learner RandomForestClassifier(n_estimators=50) for ml_m are close to zero or one (eps=1e-12).\n",
      "  warnings.warn(f'Propensity predictions from learner {str(learner)} for'\n"
     ]
    },
    {
     "name": "stdout",
     "output_type": "stream",
     "text": [
      "46\n"
     ]
    },
    {
     "name": "stderr",
     "output_type": "stream",
     "text": [
      "c:\\users\\bam5698\\github\\doubleml-for-py\\doubleml\\_utils.py:252: UserWarning: Propensity predictions from learner RandomForestClassifier(n_estimators=50) for ml_m are close to zero or one (eps=1e-12).\n",
      "  warnings.warn(f'Propensity predictions from learner {str(learner)} for'\n"
     ]
    },
    {
     "name": "stdout",
     "output_type": "stream",
     "text": [
      "47\n"
     ]
    },
    {
     "name": "stderr",
     "output_type": "stream",
     "text": [
      "c:\\users\\bam5698\\github\\doubleml-for-py\\doubleml\\_utils.py:252: UserWarning: Propensity predictions from learner RandomForestClassifier(n_estimators=50) for ml_m are close to zero or one (eps=1e-12).\n",
      "  warnings.warn(f'Propensity predictions from learner {str(learner)} for'\n"
     ]
    },
    {
     "name": "stdout",
     "output_type": "stream",
     "text": [
      "48\n"
     ]
    },
    {
     "name": "stderr",
     "output_type": "stream",
     "text": [
      "c:\\users\\bam5698\\github\\doubleml-for-py\\doubleml\\_utils.py:252: UserWarning: Propensity predictions from learner RandomForestClassifier(n_estimators=50) for ml_m are close to zero or one (eps=1e-12).\n",
      "  warnings.warn(f'Propensity predictions from learner {str(learner)} for'\n"
     ]
    },
    {
     "name": "stdout",
     "output_type": "stream",
     "text": [
      "49\n"
     ]
    },
    {
     "name": "stderr",
     "output_type": "stream",
     "text": [
      "c:\\users\\bam5698\\github\\doubleml-for-py\\doubleml\\_utils.py:252: UserWarning: Propensity predictions from learner RandomForestClassifier(n_estimators=50) for ml_m are close to zero or one (eps=1e-12).\n",
      "  warnings.warn(f'Propensity predictions from learner {str(learner)} for'\n"
     ]
    },
    {
     "name": "stdout",
     "output_type": "stream",
     "text": [
      "50\n"
     ]
    },
    {
     "name": "stderr",
     "output_type": "stream",
     "text": [
      "c:\\users\\bam5698\\github\\doubleml-for-py\\doubleml\\_utils.py:252: UserWarning: Propensity predictions from learner RandomForestClassifier(n_estimators=50) for ml_m are close to zero or one (eps=1e-12).\n",
      "  warnings.warn(f'Propensity predictions from learner {str(learner)} for'\n"
     ]
    },
    {
     "name": "stdout",
     "output_type": "stream",
     "text": [
      "51\n"
     ]
    },
    {
     "name": "stderr",
     "output_type": "stream",
     "text": [
      "c:\\users\\bam5698\\github\\doubleml-for-py\\doubleml\\_utils.py:252: UserWarning: Propensity predictions from learner RandomForestClassifier(n_estimators=50) for ml_m are close to zero or one (eps=1e-12).\n",
      "  warnings.warn(f'Propensity predictions from learner {str(learner)} for'\n"
     ]
    },
    {
     "name": "stdout",
     "output_type": "stream",
     "text": [
      "52\n"
     ]
    },
    {
     "name": "stderr",
     "output_type": "stream",
     "text": [
      "c:\\users\\bam5698\\github\\doubleml-for-py\\doubleml\\_utils.py:252: UserWarning: Propensity predictions from learner RandomForestClassifier(n_estimators=50) for ml_m are close to zero or one (eps=1e-12).\n",
      "  warnings.warn(f'Propensity predictions from learner {str(learner)} for'\n"
     ]
    },
    {
     "name": "stdout",
     "output_type": "stream",
     "text": [
      "53\n"
     ]
    },
    {
     "name": "stderr",
     "output_type": "stream",
     "text": [
      "c:\\users\\bam5698\\github\\doubleml-for-py\\doubleml\\_utils.py:252: UserWarning: Propensity predictions from learner RandomForestClassifier(n_estimators=50) for ml_m are close to zero or one (eps=1e-12).\n",
      "  warnings.warn(f'Propensity predictions from learner {str(learner)} for'\n"
     ]
    },
    {
     "name": "stdout",
     "output_type": "stream",
     "text": [
      "54\n"
     ]
    },
    {
     "name": "stderr",
     "output_type": "stream",
     "text": [
      "c:\\users\\bam5698\\github\\doubleml-for-py\\doubleml\\_utils.py:252: UserWarning: Propensity predictions from learner RandomForestClassifier(n_estimators=50) for ml_m are close to zero or one (eps=1e-12).\n",
      "  warnings.warn(f'Propensity predictions from learner {str(learner)} for'\n"
     ]
    },
    {
     "name": "stdout",
     "output_type": "stream",
     "text": [
      "55\n"
     ]
    },
    {
     "name": "stderr",
     "output_type": "stream",
     "text": [
      "c:\\users\\bam5698\\github\\doubleml-for-py\\doubleml\\_utils.py:252: UserWarning: Propensity predictions from learner RandomForestClassifier(n_estimators=50) for ml_m are close to zero or one (eps=1e-12).\n",
      "  warnings.warn(f'Propensity predictions from learner {str(learner)} for'\n"
     ]
    },
    {
     "name": "stdout",
     "output_type": "stream",
     "text": [
      "56\n"
     ]
    },
    {
     "name": "stderr",
     "output_type": "stream",
     "text": [
      "c:\\users\\bam5698\\github\\doubleml-for-py\\doubleml\\_utils.py:252: UserWarning: Propensity predictions from learner RandomForestClassifier(n_estimators=50) for ml_m are close to zero or one (eps=1e-12).\n",
      "  warnings.warn(f'Propensity predictions from learner {str(learner)} for'\n"
     ]
    },
    {
     "name": "stdout",
     "output_type": "stream",
     "text": [
      "57\n"
     ]
    },
    {
     "name": "stderr",
     "output_type": "stream",
     "text": [
      "c:\\users\\bam5698\\github\\doubleml-for-py\\doubleml\\_utils.py:252: UserWarning: Propensity predictions from learner RandomForestClassifier(n_estimators=50) for ml_m are close to zero or one (eps=1e-12).\n",
      "  warnings.warn(f'Propensity predictions from learner {str(learner)} for'\n"
     ]
    },
    {
     "name": "stdout",
     "output_type": "stream",
     "text": [
      "58\n"
     ]
    },
    {
     "name": "stderr",
     "output_type": "stream",
     "text": [
      "c:\\users\\bam5698\\github\\doubleml-for-py\\doubleml\\_utils.py:252: UserWarning: Propensity predictions from learner RandomForestClassifier(n_estimators=50) for ml_m are close to zero or one (eps=1e-12).\n",
      "  warnings.warn(f'Propensity predictions from learner {str(learner)} for'\n"
     ]
    },
    {
     "name": "stdout",
     "output_type": "stream",
     "text": [
      "59\n"
     ]
    },
    {
     "name": "stderr",
     "output_type": "stream",
     "text": [
      "c:\\users\\bam5698\\github\\doubleml-for-py\\doubleml\\_utils.py:252: UserWarning: Propensity predictions from learner RandomForestClassifier(n_estimators=50) for ml_m are close to zero or one (eps=1e-12).\n",
      "  warnings.warn(f'Propensity predictions from learner {str(learner)} for'\n"
     ]
    },
    {
     "name": "stdout",
     "output_type": "stream",
     "text": [
      "60\n"
     ]
    },
    {
     "name": "stderr",
     "output_type": "stream",
     "text": [
      "c:\\users\\bam5698\\github\\doubleml-for-py\\doubleml\\_utils.py:252: UserWarning: Propensity predictions from learner RandomForestClassifier(n_estimators=50) for ml_m are close to zero or one (eps=1e-12).\n",
      "  warnings.warn(f'Propensity predictions from learner {str(learner)} for'\n"
     ]
    },
    {
     "name": "stdout",
     "output_type": "stream",
     "text": [
      "61\n"
     ]
    },
    {
     "name": "stderr",
     "output_type": "stream",
     "text": [
      "c:\\users\\bam5698\\github\\doubleml-for-py\\doubleml\\_utils.py:252: UserWarning: Propensity predictions from learner RandomForestClassifier(n_estimators=50) for ml_m are close to zero or one (eps=1e-12).\n",
      "  warnings.warn(f'Propensity predictions from learner {str(learner)} for'\n"
     ]
    },
    {
     "name": "stdout",
     "output_type": "stream",
     "text": [
      "62\n"
     ]
    },
    {
     "name": "stderr",
     "output_type": "stream",
     "text": [
      "c:\\users\\bam5698\\github\\doubleml-for-py\\doubleml\\_utils.py:252: UserWarning: Propensity predictions from learner RandomForestClassifier(n_estimators=50) for ml_m are close to zero or one (eps=1e-12).\n",
      "  warnings.warn(f'Propensity predictions from learner {str(learner)} for'\n"
     ]
    },
    {
     "name": "stdout",
     "output_type": "stream",
     "text": [
      "63\n"
     ]
    },
    {
     "name": "stderr",
     "output_type": "stream",
     "text": [
      "c:\\users\\bam5698\\github\\doubleml-for-py\\doubleml\\_utils.py:252: UserWarning: Propensity predictions from learner RandomForestClassifier(n_estimators=50) for ml_m are close to zero or one (eps=1e-12).\n",
      "  warnings.warn(f'Propensity predictions from learner {str(learner)} for'\n"
     ]
    },
    {
     "name": "stdout",
     "output_type": "stream",
     "text": [
      "64\n"
     ]
    },
    {
     "name": "stderr",
     "output_type": "stream",
     "text": [
      "c:\\users\\bam5698\\github\\doubleml-for-py\\doubleml\\_utils.py:252: UserWarning: Propensity predictions from learner RandomForestClassifier(n_estimators=50) for ml_m are close to zero or one (eps=1e-12).\n",
      "  warnings.warn(f'Propensity predictions from learner {str(learner)} for'\n"
     ]
    },
    {
     "name": "stdout",
     "output_type": "stream",
     "text": [
      "65\n"
     ]
    },
    {
     "name": "stderr",
     "output_type": "stream",
     "text": [
      "c:\\users\\bam5698\\github\\doubleml-for-py\\doubleml\\_utils.py:252: UserWarning: Propensity predictions from learner RandomForestClassifier(n_estimators=50) for ml_m are close to zero or one (eps=1e-12).\n",
      "  warnings.warn(f'Propensity predictions from learner {str(learner)} for'\n"
     ]
    },
    {
     "name": "stdout",
     "output_type": "stream",
     "text": [
      "66\n"
     ]
    },
    {
     "name": "stderr",
     "output_type": "stream",
     "text": [
      "c:\\users\\bam5698\\github\\doubleml-for-py\\doubleml\\_utils.py:252: UserWarning: Propensity predictions from learner RandomForestClassifier(n_estimators=50) for ml_m are close to zero or one (eps=1e-12).\n",
      "  warnings.warn(f'Propensity predictions from learner {str(learner)} for'\n"
     ]
    },
    {
     "name": "stdout",
     "output_type": "stream",
     "text": [
      "67\n"
     ]
    },
    {
     "name": "stderr",
     "output_type": "stream",
     "text": [
      "c:\\users\\bam5698\\github\\doubleml-for-py\\doubleml\\_utils.py:252: UserWarning: Propensity predictions from learner RandomForestClassifier(n_estimators=50) for ml_m are close to zero or one (eps=1e-12).\n",
      "  warnings.warn(f'Propensity predictions from learner {str(learner)} for'\n"
     ]
    },
    {
     "name": "stdout",
     "output_type": "stream",
     "text": [
      "68\n"
     ]
    },
    {
     "name": "stderr",
     "output_type": "stream",
     "text": [
      "c:\\users\\bam5698\\github\\doubleml-for-py\\doubleml\\_utils.py:252: UserWarning: Propensity predictions from learner RandomForestClassifier(n_estimators=50) for ml_m are close to zero or one (eps=1e-12).\n",
      "  warnings.warn(f'Propensity predictions from learner {str(learner)} for'\n"
     ]
    },
    {
     "name": "stdout",
     "output_type": "stream",
     "text": [
      "69\n"
     ]
    },
    {
     "name": "stderr",
     "output_type": "stream",
     "text": [
      "c:\\users\\bam5698\\github\\doubleml-for-py\\doubleml\\_utils.py:252: UserWarning: Propensity predictions from learner RandomForestClassifier(n_estimators=50) for ml_m are close to zero or one (eps=1e-12).\n",
      "  warnings.warn(f'Propensity predictions from learner {str(learner)} for'\n"
     ]
    },
    {
     "name": "stdout",
     "output_type": "stream",
     "text": [
      "70\n",
      "71\n"
     ]
    },
    {
     "name": "stderr",
     "output_type": "stream",
     "text": [
      "c:\\users\\bam5698\\github\\doubleml-for-py\\doubleml\\_utils.py:252: UserWarning: Propensity predictions from learner RandomForestClassifier(n_estimators=50) for ml_m are close to zero or one (eps=1e-12).\n",
      "  warnings.warn(f'Propensity predictions from learner {str(learner)} for'\n"
     ]
    },
    {
     "name": "stdout",
     "output_type": "stream",
     "text": [
      "72\n"
     ]
    },
    {
     "name": "stderr",
     "output_type": "stream",
     "text": [
      "c:\\users\\bam5698\\github\\doubleml-for-py\\doubleml\\_utils.py:252: UserWarning: Propensity predictions from learner RandomForestClassifier(n_estimators=50) for ml_m are close to zero or one (eps=1e-12).\n",
      "  warnings.warn(f'Propensity predictions from learner {str(learner)} for'\n"
     ]
    },
    {
     "name": "stdout",
     "output_type": "stream",
     "text": [
      "73\n"
     ]
    },
    {
     "name": "stderr",
     "output_type": "stream",
     "text": [
      "c:\\users\\bam5698\\github\\doubleml-for-py\\doubleml\\_utils.py:252: UserWarning: Propensity predictions from learner RandomForestClassifier(n_estimators=50) for ml_m are close to zero or one (eps=1e-12).\n",
      "  warnings.warn(f'Propensity predictions from learner {str(learner)} for'\n"
     ]
    },
    {
     "name": "stdout",
     "output_type": "stream",
     "text": [
      "74\n"
     ]
    },
    {
     "name": "stderr",
     "output_type": "stream",
     "text": [
      "c:\\users\\bam5698\\github\\doubleml-for-py\\doubleml\\_utils.py:252: UserWarning: Propensity predictions from learner RandomForestClassifier(n_estimators=50) for ml_m are close to zero or one (eps=1e-12).\n",
      "  warnings.warn(f'Propensity predictions from learner {str(learner)} for'\n"
     ]
    },
    {
     "name": "stdout",
     "output_type": "stream",
     "text": [
      "75\n"
     ]
    },
    {
     "name": "stderr",
     "output_type": "stream",
     "text": [
      "c:\\users\\bam5698\\github\\doubleml-for-py\\doubleml\\_utils.py:252: UserWarning: Propensity predictions from learner RandomForestClassifier(n_estimators=50) for ml_m are close to zero or one (eps=1e-12).\n",
      "  warnings.warn(f'Propensity predictions from learner {str(learner)} for'\n"
     ]
    },
    {
     "name": "stdout",
     "output_type": "stream",
     "text": [
      "76\n"
     ]
    },
    {
     "name": "stderr",
     "output_type": "stream",
     "text": [
      "c:\\users\\bam5698\\github\\doubleml-for-py\\doubleml\\_utils.py:252: UserWarning: Propensity predictions from learner RandomForestClassifier(n_estimators=50) for ml_m are close to zero or one (eps=1e-12).\n",
      "  warnings.warn(f'Propensity predictions from learner {str(learner)} for'\n"
     ]
    },
    {
     "name": "stdout",
     "output_type": "stream",
     "text": [
      "77\n"
     ]
    },
    {
     "name": "stderr",
     "output_type": "stream",
     "text": [
      "c:\\users\\bam5698\\github\\doubleml-for-py\\doubleml\\_utils.py:252: UserWarning: Propensity predictions from learner RandomForestClassifier(n_estimators=50) for ml_m are close to zero or one (eps=1e-12).\n",
      "  warnings.warn(f'Propensity predictions from learner {str(learner)} for'\n"
     ]
    },
    {
     "name": "stdout",
     "output_type": "stream",
     "text": [
      "78\n",
      "79\n"
     ]
    },
    {
     "name": "stderr",
     "output_type": "stream",
     "text": [
      "c:\\users\\bam5698\\github\\doubleml-for-py\\doubleml\\_utils.py:252: UserWarning: Propensity predictions from learner RandomForestClassifier(n_estimators=50) for ml_m are close to zero or one (eps=1e-12).\n",
      "  warnings.warn(f'Propensity predictions from learner {str(learner)} for'\n"
     ]
    },
    {
     "name": "stdout",
     "output_type": "stream",
     "text": [
      "80\n"
     ]
    },
    {
     "name": "stderr",
     "output_type": "stream",
     "text": [
      "c:\\users\\bam5698\\github\\doubleml-for-py\\doubleml\\_utils.py:252: UserWarning: Propensity predictions from learner RandomForestClassifier(n_estimators=50) for ml_m are close to zero or one (eps=1e-12).\n",
      "  warnings.warn(f'Propensity predictions from learner {str(learner)} for'\n"
     ]
    },
    {
     "name": "stdout",
     "output_type": "stream",
     "text": [
      "81\n",
      "82\n"
     ]
    },
    {
     "name": "stderr",
     "output_type": "stream",
     "text": [
      "c:\\users\\bam5698\\github\\doubleml-for-py\\doubleml\\_utils.py:252: UserWarning: Propensity predictions from learner RandomForestClassifier(n_estimators=50) for ml_m are close to zero or one (eps=1e-12).\n",
      "  warnings.warn(f'Propensity predictions from learner {str(learner)} for'\n"
     ]
    },
    {
     "name": "stdout",
     "output_type": "stream",
     "text": [
      "83\n",
      "84\n"
     ]
    },
    {
     "name": "stderr",
     "output_type": "stream",
     "text": [
      "c:\\users\\bam5698\\github\\doubleml-for-py\\doubleml\\_utils.py:252: UserWarning: Propensity predictions from learner RandomForestClassifier(n_estimators=50) for ml_m are close to zero or one (eps=1e-12).\n",
      "  warnings.warn(f'Propensity predictions from learner {str(learner)} for'\n"
     ]
    },
    {
     "name": "stdout",
     "output_type": "stream",
     "text": [
      "85\n"
     ]
    },
    {
     "name": "stderr",
     "output_type": "stream",
     "text": [
      "c:\\users\\bam5698\\github\\doubleml-for-py\\doubleml\\_utils.py:252: UserWarning: Propensity predictions from learner RandomForestClassifier(n_estimators=50) for ml_m are close to zero or one (eps=1e-12).\n",
      "  warnings.warn(f'Propensity predictions from learner {str(learner)} for'\n"
     ]
    },
    {
     "name": "stdout",
     "output_type": "stream",
     "text": [
      "86\n",
      "87\n"
     ]
    },
    {
     "name": "stderr",
     "output_type": "stream",
     "text": [
      "c:\\users\\bam5698\\github\\doubleml-for-py\\doubleml\\_utils.py:252: UserWarning: Propensity predictions from learner RandomForestClassifier(n_estimators=50) for ml_m are close to zero or one (eps=1e-12).\n",
      "  warnings.warn(f'Propensity predictions from learner {str(learner)} for'\n"
     ]
    },
    {
     "name": "stdout",
     "output_type": "stream",
     "text": [
      "88\n"
     ]
    },
    {
     "name": "stderr",
     "output_type": "stream",
     "text": [
      "c:\\users\\bam5698\\github\\doubleml-for-py\\doubleml\\_utils.py:252: UserWarning: Propensity predictions from learner RandomForestClassifier(n_estimators=50) for ml_m are close to zero or one (eps=1e-12).\n",
      "  warnings.warn(f'Propensity predictions from learner {str(learner)} for'\n"
     ]
    },
    {
     "name": "stdout",
     "output_type": "stream",
     "text": [
      "89\n"
     ]
    },
    {
     "name": "stderr",
     "output_type": "stream",
     "text": [
      "c:\\users\\bam5698\\github\\doubleml-for-py\\doubleml\\_utils.py:252: UserWarning: Propensity predictions from learner RandomForestClassifier(n_estimators=50) for ml_m are close to zero or one (eps=1e-12).\n",
      "  warnings.warn(f'Propensity predictions from learner {str(learner)} for'\n"
     ]
    },
    {
     "name": "stdout",
     "output_type": "stream",
     "text": [
      "90\n"
     ]
    },
    {
     "name": "stderr",
     "output_type": "stream",
     "text": [
      "c:\\users\\bam5698\\github\\doubleml-for-py\\doubleml\\_utils.py:252: UserWarning: Propensity predictions from learner RandomForestClassifier(n_estimators=50) for ml_m are close to zero or one (eps=1e-12).\n",
      "  warnings.warn(f'Propensity predictions from learner {str(learner)} for'\n"
     ]
    },
    {
     "name": "stdout",
     "output_type": "stream",
     "text": [
      "91\n"
     ]
    },
    {
     "name": "stderr",
     "output_type": "stream",
     "text": [
      "c:\\users\\bam5698\\github\\doubleml-for-py\\doubleml\\_utils.py:252: UserWarning: Propensity predictions from learner RandomForestClassifier(n_estimators=50) for ml_m are close to zero or one (eps=1e-12).\n",
      "  warnings.warn(f'Propensity predictions from learner {str(learner)} for'\n"
     ]
    },
    {
     "name": "stdout",
     "output_type": "stream",
     "text": [
      "92\n"
     ]
    },
    {
     "name": "stderr",
     "output_type": "stream",
     "text": [
      "c:\\users\\bam5698\\github\\doubleml-for-py\\doubleml\\_utils.py:252: UserWarning: Propensity predictions from learner RandomForestClassifier(n_estimators=50) for ml_m are close to zero or one (eps=1e-12).\n",
      "  warnings.warn(f'Propensity predictions from learner {str(learner)} for'\n"
     ]
    },
    {
     "name": "stdout",
     "output_type": "stream",
     "text": [
      "93\n"
     ]
    },
    {
     "name": "stderr",
     "output_type": "stream",
     "text": [
      "c:\\users\\bam5698\\github\\doubleml-for-py\\doubleml\\_utils.py:252: UserWarning: Propensity predictions from learner RandomForestClassifier(n_estimators=50) for ml_m are close to zero or one (eps=1e-12).\n",
      "  warnings.warn(f'Propensity predictions from learner {str(learner)} for'\n"
     ]
    },
    {
     "name": "stdout",
     "output_type": "stream",
     "text": [
      "94\n",
      "95\n"
     ]
    },
    {
     "name": "stderr",
     "output_type": "stream",
     "text": [
      "c:\\users\\bam5698\\github\\doubleml-for-py\\doubleml\\_utils.py:252: UserWarning: Propensity predictions from learner RandomForestClassifier(n_estimators=50) for ml_m are close to zero or one (eps=1e-12).\n",
      "  warnings.warn(f'Propensity predictions from learner {str(learner)} for'\n"
     ]
    },
    {
     "name": "stdout",
     "output_type": "stream",
     "text": [
      "96\n"
     ]
    },
    {
     "name": "stderr",
     "output_type": "stream",
     "text": [
      "c:\\users\\bam5698\\github\\doubleml-for-py\\doubleml\\_utils.py:252: UserWarning: Propensity predictions from learner RandomForestClassifier(n_estimators=50) for ml_m are close to zero or one (eps=1e-12).\n",
      "  warnings.warn(f'Propensity predictions from learner {str(learner)} for'\n"
     ]
    },
    {
     "name": "stdout",
     "output_type": "stream",
     "text": [
      "97\n"
     ]
    },
    {
     "name": "stderr",
     "output_type": "stream",
     "text": [
      "c:\\users\\bam5698\\github\\doubleml-for-py\\doubleml\\_utils.py:252: UserWarning: Propensity predictions from learner RandomForestClassifier(n_estimators=50) for ml_m are close to zero or one (eps=1e-12).\n",
      "  warnings.warn(f'Propensity predictions from learner {str(learner)} for'\n"
     ]
    },
    {
     "name": "stdout",
     "output_type": "stream",
     "text": [
      "98\n"
     ]
    },
    {
     "name": "stderr",
     "output_type": "stream",
     "text": [
      "c:\\users\\bam5698\\github\\doubleml-for-py\\doubleml\\_utils.py:252: UserWarning: Propensity predictions from learner RandomForestClassifier(n_estimators=50) for ml_m are close to zero or one (eps=1e-12).\n",
      "  warnings.warn(f'Propensity predictions from learner {str(learner)} for'\n"
     ]
    },
    {
     "name": "stdout",
     "output_type": "stream",
     "text": [
      "99\n"
     ]
    },
    {
     "name": "stderr",
     "output_type": "stream",
     "text": [
      "c:\\users\\bam5698\\github\\doubleml-for-py\\doubleml\\_utils.py:252: UserWarning: Propensity predictions from learner RandomForestClassifier(n_estimators=50) for ml_m are close to zero or one (eps=1e-12).\n",
      "  warnings.warn(f'Propensity predictions from learner {str(learner)} for'\n"
     ]
    }
   ],
   "source": [
    "# set core to repeated outcomes\n",
    "score = \"RCS\"\n",
    "\n",
    "coefs = np.full((n_rep), np.nan)\n",
    "ses = np.full((n_rep), np.nan)\n",
    "cover = np.full((n_rep), np.nan)\n",
    "\n",
    "for i_rep in range(n_rep):\n",
    "    print(i_rep)\n",
    "    obj_dml_data = datasets_rcs[i_rep]\n",
    "    dml_DiD = dml.DoubleMLDID(obj_dml_data, \n",
    "                              ml_g=clone(ml_g),\n",
    "                              ml_m=clone(ml_m),\n",
    "                              score=score,\n",
    "                              n_folds=5)\n",
    "\n",
    "    dml_DiD.fit(n_jobs_cv=cores_used)\n",
    "\n",
    "    # save coefs and ses\n",
    "    coefs[i_rep] = dml_DiD.coef\n",
    "    ses[i_rep] = dml_DiD.se\n",
    "\n",
    "    # calculate confidence interval\n",
    "    confint = dml_DiD.confint(level=0.95)\n",
    "    cover[i_rep] = (confint['2.5 %'] < ATT) & (ATT < confint['97.5 %'])"
   ]
  },
  {
   "cell_type": "code",
   "execution_count": 65,
   "metadata": {},
   "outputs": [
    {
     "name": "stdout",
     "output_type": "stream",
     "text": [
      "Avg. Bias: -2.1395153047709154\n",
      "Avg. asymptotic Variance: 378.11274549138346\n",
      "Coverage: 1.0\n",
      "Avg. CI length: 8.45144303389483\n"
     ]
    }
   ],
   "source": [
    "print(f'Avg. Bias: {coefs.mean()}')\n",
    "print(f'Avg. asymptotic Variance: {np.square(ses).mean()}')\n",
    "print(f'Coverage: {cover.mean()}')\n",
    "print(f'Avg. CI length: {ci_length.mean()}')"
   ]
  },
  {
   "cell_type": "code",
   "execution_count": 66,
   "metadata": {},
   "outputs": [],
   "source": [
    "df_plot['Repeated Cross-Sections'] = coefs\n",
    "df_density = pd.melt(df_plot, value_name='Estimated ATT', var_name='Type')"
   ]
  },
  {
   "cell_type": "code",
   "execution_count": 67,
   "metadata": {},
   "outputs": [
    {
     "data": {
      "text/plain": [
       "<seaborn.axisgrid.FacetGrid at 0x1d9bec2eef0>"
      ]
     },
     "execution_count": 67,
     "metadata": {},
     "output_type": "execute_result"
    },
    {
     "data": {
      "image/png": "[encoded data removed]",
      "text/plain": [
       "<Figure size 722.25x500 with 1 Axes>"
      ]
     },
     "metadata": {},
     "output_type": "display_data"
    }
   ],
   "source": [
    "sns.displot(df_density, x=\"Estimated ATT\", hue=\"Type\", kind=\"kde\", fill=True)"
   ]
  },
  {
   "cell_type": "code",
   "execution_count": null,
   "metadata": {},
   "outputs": [],
   "source": []
  }
 ],
 "metadata": {
  "kernelspec": {
   "display_name": "doubleml",
   "language": "python",
   "name": "python3"
  },
  "language_info": {
   "codemirror_mode": {
    "name": "ipython",
    "version": 3
   },
   "file_extension": ".py",
   "mimetype": "text/x-python",
   "name": "python",
   "nbconvert_exporter": "python",
   "pygments_lexer": "ipython3",
   "version": "3.10.8"
  },
  "orig_nbformat": 4,
  "vscode": {
   "interpreter": {
    "hash": "c17b3f7bd1a966b23df6bc421cb393eedb89185fca3be80230a2e6676a5e11a1"
   }
  }
 },
 "nbformat": 4,
 "nbformat_minor": 2
}
