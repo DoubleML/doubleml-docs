{
 "cells": [
  {
   "attachments": {},
   "cell_type": "markdown",
   "metadata": {},
   "source": [
    "# Python: Difference-in-Differences\n",
    "\n",
    "In this example, we illustrate how the [DoubleML](https://docs.doubleml.org/stable/index.html) package can be used to estimate the average treatment effect on the treated under the conditional parallel trend assumption. The estimation is based on [Chang (2020)](https://academic.oup.com/ectj/article/23/2/177/5722119), [Sant'Anna and Zhao (2020)](https://www.sciencedirect.com/science/article/abs/pii/S0304407620301901) and [Zimmert et al. (2018)](https://arxiv.org/abs/1809.01643).\n",
    "\n",
    "In this example, we will adapt the notation of [Sant'Anna and Zhao (2020)](https://www.sciencedirect.com/science/article/abs/pii/S0304407620301901).\n",
    "\n",
    "In the whole example our treatment and time variable $t\\in\\{0,1\\}$ will be binary. \n",
    "Let $D_i\\in\\{0,1\\}$ denote the treatment status of unit $i$ at time $t=1$ (at time $t=0$ all units are not treated) and let $Y_{it}$ be the outcome of interest of unit $i$ at time $t$.\n",
    "Using the potential outcome notation, the potential outcomes at "
   ]
  },
  {
   "attachments": {},
   "cell_type": "markdown",
   "metadata": {},
   "source": [
    "## Panel Data (Repeated Outcomes)\n",
    "\n",
    "At first, we will consider panel data of the following form.\n",
    "\n",
    "Let "
   ]
  },
  {
   "attachments": {},
   "cell_type": "markdown",
   "metadata": {},
   "source": [
    "## Repeated Cross-Sectional Data"
   ]
  },
  {
   "cell_type": "code",
   "execution_count": null,
   "metadata": {},
   "outputs": [],
   "source": []
  },
  {
   "cell_type": "code",
   "execution_count": 80,
   "metadata": {},
   "outputs": [],
   "source": [
    "import numpy as np\n",
    "import pandas as pd\n",
    "import doubleml as dml\n",
    "import multiprocessing\n",
    "import seaborn as sns\n",
    "import matplotlib.pyplot as plt\n",
    "\n",
    "from sklearn.base import clone\n",
    "from sklearn.ensemble import RandomForestClassifier, RandomForestRegressor\n",
    "from sklearn.linear_model import LinearRegression, LogisticRegression\n",
    "from xgboost import XGBClassifier, XGBRegressor"
   ]
  },
  {
   "attachments": {},
   "cell_type": "markdown",
   "metadata": {},
   "source": [
    "We will focus on the the Ddata generating processes from [Sant'Anna and Zhao (2020)](https://arxiv.org/abs/1812.01723), see Section 4.1 and 4.2."
   ]
  },
  {
   "cell_type": "code",
   "execution_count": 58,
   "metadata": {},
   "outputs": [],
   "source": [
    "def f_reg(W):\n",
    "  res = 210 + 27.4*W[:, 0] + 13.7*(W[:, 1] + W[:, 2] + W[:, 3])\n",
    "  return res\n",
    "\n",
    "def f_ps(W):\n",
    "  res = 0.75*(-W[:, 0] + 0.5*W[:, 1] - 0.25*W[:, 2] - 0.1*W[:, 3])\n",
    "  return res\n",
    "\n",
    "def dgp(n=200, dgp_type=1):\n",
    "  # features\n",
    "  X = np.random.normal(loc=0, scale=1, size=[n,4])\n",
    "  Z_tilde_1 = np.exp(0.5*X[:, 0])\n",
    "  Z_tilde_2 = 10 + X[:, 1] / (1 + np.exp(X[:, 0]))\n",
    "  Z_tilde_3 = (0.6 + X[:, 0]*X[:, 2]/25)**3\n",
    "  Z_tilde_4 = (20 + X[:, 1] + X[:, 3])**2\n",
    "\n",
    "  Z_tilde = np.column_stack((Z_tilde_1, Z_tilde_2, Z_tilde_3, Z_tilde_4))\n",
    "  Z = (Z_tilde - np.mean(Z_tilde, axis=0)) / np.std(Z_tilde, axis=0)\n",
    "  \n",
    "  # error terms\n",
    "  epsilon_0 = np.random.normal(loc=0, scale=1, size=n)\n",
    "  epsilon_1 = np.random.normal(loc=0, scale=1, size=[n,2])\n",
    "  if dgp_type == 1:\n",
    "    features_ps = Z\n",
    "    features_reg = Z\n",
    "  elif dgp_type == 2:\n",
    "    features_ps = X\n",
    "    features_reg = Z\n",
    "  elif dgp_type == 3:\n",
    "    features_ps = Z\n",
    "    features_reg = X\n",
    "  elif dgp_type == 4:\n",
    "    features_ps = X\n",
    "    features_reg = X\n",
    "  elif dgp_type == 5:\n",
    "    features_reg = Z\n",
    "  elif dgp_type == 6:\n",
    "    features_reg = X\n",
    "\n",
    "  # treatment and propensities\n",
    "  if (dgp_type == 5) or (dgp_type == 6):\n",
    "    # Set D to be experimental\n",
    "    p = 0.5*np.ones(n)\n",
    "  else:\n",
    "    p = np.exp(f_ps(features_ps)) / (1 + np.exp(f_ps(features_ps)))\n",
    "  U = np.random.uniform(low=0, high=1, size=n)\n",
    "  D = 1.0 * (p >= U)\n",
    "\n",
    "  # potential outcomes\n",
    "  nu =  np.random.normal(loc=D*f_reg(features_reg), scale=1, size=n)\n",
    "  Y0 = f_reg(features_reg) + nu + epsilon_0\n",
    "  Y1_d0 = 2*f_reg(features_reg) + nu + epsilon_1[:, 0]\n",
    "  Y1_d1 = 2*f_reg(features_reg) + nu + epsilon_1[:, 1]\n",
    "  Y1 = D*Y1_d1 + (1-D)*Y1_d0\n",
    "\n",
    "  return Y0, Y1, D, Z, Y1_d0, Y1_d1\n"
   ]
  },
  {
   "attachments": {},
   "cell_type": "markdown",
   "metadata": {},
   "source": [
    "The ATT should be zero. We will check this numerically:"
   ]
  },
  {
   "cell_type": "code",
   "execution_count": 59,
   "metadata": {},
   "outputs": [
    {
     "name": "stdout",
     "output_type": "stream",
     "text": [
      "ATT (DGP=1): 0.00017714460408496785\n",
      "ATT (DGP=2): -7.786579431018051e-05\n",
      "ATT (DGP=3): -0.00037106941603644387\n",
      "ATT (DGP=4): -0.0002544412554790141\n",
      "ATT (DGP=5): 0.0006732709733100862\n",
      "ATT (DGP=6): -0.0008134639869466084\n"
     ]
    }
   ],
   "source": [
    "dgp_types = [1, 2, 3, 4, 5, 6]\n",
    "n_dgps = len(dgp_types)\n",
    "\n",
    "for dgp_type in dgp_types:  \n",
    "    _, _, D, _, Y1_d0, Y1_d1 = dgp(int(10e+6), dgp_type=dgp_type)\n",
    "    ATT = np.mean(Y1_d1[D == 1] - Y1_d0[D == 1])\n",
    "    print(f'ATT (DGP={dgp_type}): {ATT}')\n",
    "# Set the true ATT to zero\n",
    "ATT = 0"
   ]
  },
  {
   "cell_type": "code",
   "execution_count": 60,
   "metadata": {},
   "outputs": [],
   "source": [
    "np.random.seed(42)\n",
    "n_rep = 200\n",
    "n_obs = 1000\n",
    "lambda_T = 0.5\n",
    "\n",
    "datasets = []\n",
    "for dgp_type in dgp_types:\n",
    "    datasets_dgp = []\n",
    "    for i in range(n_rep):\n",
    "        Y0, Y1, D, X, _, _ = dgp(n=n_obs, dgp_type=dgp_type)\n",
    "\n",
    "        # datasets with Y_delta as outcome\n",
    "        Y_delta = Y1 - Y0\n",
    "        data = dml.DoubleMLData.from_arrays(X, Y_delta, D)\n",
    "        datasets_dgp.append(data)\n",
    "    datasets.append(datasets_dgp)"
   ]
  },
  {
   "cell_type": "code",
   "execution_count": 61,
   "metadata": {},
   "outputs": [
    {
     "name": "stdout",
     "output_type": "stream",
     "text": [
      "Number of Cores: 8\n"
     ]
    }
   ],
   "source": [
    "n_estimators = 50\n",
    "\n",
    "# Random Forest\n",
    "# ml_g = RandomForestRegressor(n_estimators=n_estimators)\n",
    "# ml_m = RandomForestClassifier(n_estimators=n_estimators)\n",
    "\n",
    "# Boosted Trees\n",
    "ml_g = XGBRegressor(n_jobs=1, objective = \"reg:squarederror\",\n",
    "                    eta=0.1, n_estimators=n_estimators)\n",
    "ml_m = XGBClassifier(n_jobs=1, objective = \"binary:logistic\",\n",
    "                     eval_metric = \"logloss\",\n",
    "                     eta=0.1, n_estimators=n_estimators)\n",
    "\n",
    "# linear models\n",
    "#ml_g = LinearRegression()\n",
    "#ml_m = LogisticRegression()\n",
    "\n",
    "n_cores = multiprocessing.cpu_count()\n",
    "print(f\"Number of Cores: {n_cores}\")\n",
    "# to be process folds in parallel\n",
    "cores_used = 5"
   ]
  },
  {
   "attachments": {},
   "cell_type": "markdown",
   "metadata": {},
   "source": [
    "## Repeated Cross-sectional Data\n",
    "\n",
    "Use the same data with coss-sectional observations"
   ]
  },
  {
   "cell_type": "code",
   "execution_count": 62,
   "metadata": {},
   "outputs": [],
   "source": [
    "from contextlib import contextmanager\n",
    "import sys, os\n",
    "\n",
    "@contextmanager\n",
    "def suppress_stdout():\n",
    "    with open(os.devnull, \"w\") as devnull:\n",
    "        old_stdout = sys.stdout\n",
    "        sys.stdout = devnull\n",
    "        try:  \n",
    "            yield\n",
    "        finally:\n",
    "            sys.stdout = old_stdout"
   ]
  },
  {
   "cell_type": "code",
   "execution_count": 63,
   "metadata": {},
   "outputs": [
    {
     "name": "stdout",
     "output_type": "stream",
     "text": [
      "DPG=1\n",
      "Iteration: 0/200\n",
      "Iteration: 20/200\n",
      "Iteration: 40/200\n",
      "Iteration: 60/200\n",
      "Iteration: 80/200\n",
      "Iteration: 100/200\n",
      "Iteration: 120/200\n",
      "Iteration: 140/200\n",
      "Iteration: 160/200\n",
      "Iteration: 180/200\n",
      "DPG=2\n",
      "Iteration: 0/200\n",
      "Iteration: 20/200\n",
      "Iteration: 40/200\n",
      "Iteration: 60/200\n",
      "Iteration: 80/200\n",
      "Iteration: 100/200\n",
      "Iteration: 120/200\n",
      "Iteration: 140/200\n",
      "Iteration: 160/200\n",
      "Iteration: 180/200\n",
      "DPG=3\n",
      "Iteration: 0/200\n",
      "Iteration: 20/200\n",
      "Iteration: 40/200\n",
      "Iteration: 60/200\n",
      "Iteration: 80/200\n",
      "Iteration: 100/200\n",
      "Iteration: 120/200\n",
      "Iteration: 140/200\n",
      "Iteration: 160/200\n",
      "Iteration: 180/200\n",
      "DPG=4\n",
      "Iteration: 0/200\n",
      "Iteration: 20/200\n",
      "Iteration: 40/200\n",
      "Iteration: 60/200\n",
      "Iteration: 80/200\n",
      "Iteration: 100/200\n",
      "Iteration: 120/200\n",
      "Iteration: 140/200\n",
      "Iteration: 160/200\n",
      "Iteration: 180/200\n",
      "DPG=5\n",
      "Iteration: 0/200\n",
      "Iteration: 20/200\n",
      "Iteration: 40/200\n",
      "Iteration: 60/200\n",
      "Iteration: 80/200\n",
      "Iteration: 100/200\n",
      "Iteration: 120/200\n",
      "Iteration: 140/200\n",
      "Iteration: 160/200\n",
      "Iteration: 180/200\n",
      "DPG=6\n",
      "Iteration: 0/200\n",
      "Iteration: 20/200\n",
      "Iteration: 40/200\n",
      "Iteration: 60/200\n",
      "Iteration: 80/200\n",
      "Iteration: 100/200\n",
      "Iteration: 120/200\n",
      "Iteration: 140/200\n",
      "Iteration: 160/200\n",
      "Iteration: 180/200\n",
      "Finished!\n"
     ]
    }
   ],
   "source": [
    "score_names = [\"Not Experimental\", \"Experimental\"]\n",
    "valid_scores = ['PA-1', 'PA-2']\n",
    "n_scores = len(valid_scores)\n",
    "coefs = np.full((n_rep, n_dgps, n_scores), np.nan)\n",
    "ses = np.full((n_rep, n_dgps, n_scores), np.nan)\n",
    "cover = np.full((n_rep, n_dgps, n_scores), np.nan)\n",
    "ci_length = np.full((n_rep, n_dgps, n_scores), np.nan)\n",
    "\n",
    "for i_dgp, dgp_type in enumerate(dgp_types):\n",
    "    print(f'DPG={dgp_type}')\n",
    "    for i_rep in range(n_rep):\n",
    "        if (i_rep % int(n_rep/10)) == 0:\n",
    "            print(f'Iteration: {i_rep}/{n_rep}')\n",
    "        obj_dml_data = datasets[i_dgp][i_rep]\n",
    "        with suppress_stdout():\n",
    "            for i_score, score in enumerate(valid_scores):\n",
    "                dml_DiD = dml.DoubleMLDID(obj_dml_data,\n",
    "                                          ml_g=clone(ml_g),\n",
    "                                          ml_m=clone(ml_m),\n",
    "                                          score=score,\n",
    "                                          n_folds=5)\n",
    "                dml_DiD.fit(n_jobs_cv=cores_used)\n",
    "                # save coefs and ses\n",
    "                coefs[i_rep, i_dgp, i_score] = dml_DiD.coef\n",
    "                ses[i_rep, i_dgp, i_score] = dml_DiD.se\n",
    "\n",
    "                # calculate confidence interval\n",
    "                confint = dml_DiD.confint(level=0.95)\n",
    "                cover[i_rep, i_dgp, i_score] = (confint['2.5 %'] < ATT) & (ATT < confint['97.5 %'])\n",
    "                ci_length[i_rep, i_dgp, i_score] = confint['97.5 %'] - confint['2.5 %']\n",
    "\n",
    "print('Finished!')"
   ]
  },
  {
   "attachments": {},
   "cell_type": "markdown",
   "metadata": {},
   "source": [
    "## Results"
   ]
  },
  {
   "cell_type": "code",
   "execution_count": 64,
   "metadata": {},
   "outputs": [
    {
     "name": "stdout",
     "output_type": "stream",
     "text": [
      "Summary DGP=1\n"
     ]
    },
    {
     "data": {
      "text/html": [
       "<div>\n",
       "<style scoped>\n",
       "    .dataframe tbody tr th:only-of-type {\n",
       "        vertical-align: middle;\n",
       "    }\n",
       "\n",
       "    .dataframe tbody tr th {\n",
       "        vertical-align: top;\n",
       "    }\n",
       "\n",
       "    .dataframe thead th {\n",
       "        text-align: right;\n",
       "    }\n",
       "</style>\n",
       "<table border=\"1\" class=\"dataframe\">\n",
       "  <thead>\n",
       "    <tr style=\"text-align: right;\">\n",
       "      <th></th>\n",
       "      <th>Avg. Bias</th>\n",
       "      <th>RMSE</th>\n",
       "      <th>Asy. Variance</th>\n",
       "      <th>Coverage</th>\n",
       "      <th>Avg. CI length</th>\n",
       "    </tr>\n",
       "  </thead>\n",
       "  <tbody>\n",
       "    <tr>\n",
       "      <th>Not Experimental</th>\n",
       "      <td>-0.174415</td>\n",
       "      <td>0.948425</td>\n",
       "      <td>58.252326</td>\n",
       "      <td>1.00</td>\n",
       "      <td>5.065623</td>\n",
       "    </tr>\n",
       "    <tr>\n",
       "      <th>Experimental</th>\n",
       "      <td>-2.432090</td>\n",
       "      <td>2.432090</td>\n",
       "      <td>12.614557</td>\n",
       "      <td>0.04</td>\n",
       "      <td>2.463736</td>\n",
       "    </tr>\n",
       "  </tbody>\n",
       "</table>\n",
       "</div>"
      ],
      "text/plain": [
       "                  Avg. Bias      RMSE  Asy. Variance  Coverage  Avg. CI length\n",
       "Not Experimental  -0.174415  0.948425      58.252326      1.00        5.065623\n",
       "Experimental      -2.432090  2.432090      12.614557      0.04        2.463736"
      ]
     },
     "execution_count": 64,
     "metadata": {},
     "output_type": "execute_result"
    }
   ],
   "source": [
    "dpg_summary = []\n",
    "for i_dgp, dgp_type in enumerate(dgp_types):\n",
    "    data = {'Avg. Bias': coefs[:, i_dgp, :].mean(0),\n",
    "            'RMSE': np.sqrt(np.square(coefs[:, i_dgp, :])).mean(0),\n",
    "            'Asy. Variance': np.sqrt(n_obs)*np.square(ses[:, i_dgp, :]).mean(0),\n",
    "            'Coverage': cover[:, i_dgp, :].mean(0),\n",
    "            'Avg. CI length': ci_length[:, i_dgp, :].mean(0)}\n",
    "    dpg_summary.append(pd.DataFrame(data, index=score_names))\n",
    "print(\"Summary DGP=1\")\n",
    "dpg_summary[0]"
   ]
  },
  {
   "cell_type": "code",
   "execution_count": 65,
   "metadata": {},
   "outputs": [
    {
     "name": "stdout",
     "output_type": "stream",
     "text": [
      "Summary DGP=2\n"
     ]
    },
    {
     "data": {
      "text/html": [
       "<div>\n",
       "<style scoped>\n",
       "    .dataframe tbody tr th:only-of-type {\n",
       "        vertical-align: middle;\n",
       "    }\n",
       "\n",
       "    .dataframe tbody tr th {\n",
       "        vertical-align: top;\n",
       "    }\n",
       "\n",
       "    .dataframe thead th {\n",
       "        text-align: right;\n",
       "    }\n",
       "</style>\n",
       "<table border=\"1\" class=\"dataframe\">\n",
       "  <thead>\n",
       "    <tr style=\"text-align: right;\">\n",
       "      <th></th>\n",
       "      <th>Avg. Bias</th>\n",
       "      <th>RMSE</th>\n",
       "      <th>Asy. Variance</th>\n",
       "      <th>Coverage</th>\n",
       "      <th>Avg. CI length</th>\n",
       "    </tr>\n",
       "  </thead>\n",
       "  <tbody>\n",
       "    <tr>\n",
       "      <th>Not Experimental</th>\n",
       "      <td>-0.417534</td>\n",
       "      <td>1.374452</td>\n",
       "      <td>110.272581</td>\n",
       "      <td>0.980</td>\n",
       "      <td>6.727293</td>\n",
       "    </tr>\n",
       "    <tr>\n",
       "      <th>Experimental</th>\n",
       "      <td>-1.389002</td>\n",
       "      <td>1.404732</td>\n",
       "      <td>11.404659</td>\n",
       "      <td>0.385</td>\n",
       "      <td>2.343931</td>\n",
       "    </tr>\n",
       "  </tbody>\n",
       "</table>\n",
       "</div>"
      ],
      "text/plain": [
       "                  Avg. Bias      RMSE  Asy. Variance  Coverage  Avg. CI length\n",
       "Not Experimental  -0.417534  1.374452     110.272581     0.980        6.727293\n",
       "Experimental      -1.389002  1.404732      11.404659     0.385        2.343931"
      ]
     },
     "execution_count": 65,
     "metadata": {},
     "output_type": "execute_result"
    }
   ],
   "source": [
    "print(\"Summary DGP=2\")\n",
    "dpg_summary[1]"
   ]
  },
  {
   "cell_type": "code",
   "execution_count": 66,
   "metadata": {},
   "outputs": [
    {
     "name": "stdout",
     "output_type": "stream",
     "text": [
      "Summary DGP=3\n"
     ]
    },
    {
     "data": {
      "text/html": [
       "<div>\n",
       "<style scoped>\n",
       "    .dataframe tbody tr th:only-of-type {\n",
       "        vertical-align: middle;\n",
       "    }\n",
       "\n",
       "    .dataframe tbody tr th {\n",
       "        vertical-align: top;\n",
       "    }\n",
       "\n",
       "    .dataframe thead th {\n",
       "        text-align: right;\n",
       "    }\n",
       "</style>\n",
       "<table border=\"1\" class=\"dataframe\">\n",
       "  <thead>\n",
       "    <tr style=\"text-align: right;\">\n",
       "      <th></th>\n",
       "      <th>Avg. Bias</th>\n",
       "      <th>RMSE</th>\n",
       "      <th>Asy. Variance</th>\n",
       "      <th>Coverage</th>\n",
       "      <th>Avg. CI length</th>\n",
       "    </tr>\n",
       "  </thead>\n",
       "  <tbody>\n",
       "    <tr>\n",
       "      <th>Not Experimental</th>\n",
       "      <td>-0.417066</td>\n",
       "      <td>1.017914</td>\n",
       "      <td>68.741066</td>\n",
       "      <td>0.965</td>\n",
       "      <td>5.548693</td>\n",
       "    </tr>\n",
       "    <tr>\n",
       "      <th>Experimental</th>\n",
       "      <td>-1.053731</td>\n",
       "      <td>1.090447</td>\n",
       "      <td>11.780155</td>\n",
       "      <td>0.565</td>\n",
       "      <td>2.391088</td>\n",
       "    </tr>\n",
       "  </tbody>\n",
       "</table>\n",
       "</div>"
      ],
      "text/plain": [
       "                  Avg. Bias      RMSE  Asy. Variance  Coverage  Avg. CI length\n",
       "Not Experimental  -0.417066  1.017914      68.741066     0.965        5.548693\n",
       "Experimental      -1.053731  1.090447      11.780155     0.565        2.391088"
      ]
     },
     "execution_count": 66,
     "metadata": {},
     "output_type": "execute_result"
    }
   ],
   "source": [
    "print(\"Summary DGP=3\")\n",
    "dpg_summary[2]"
   ]
  },
  {
   "cell_type": "code",
   "execution_count": 67,
   "metadata": {},
   "outputs": [
    {
     "name": "stdout",
     "output_type": "stream",
     "text": [
      "Summary DGP=4\n"
     ]
    },
    {
     "data": {
      "text/html": [
       "<div>\n",
       "<style scoped>\n",
       "    .dataframe tbody tr th:only-of-type {\n",
       "        vertical-align: middle;\n",
       "    }\n",
       "\n",
       "    .dataframe tbody tr th {\n",
       "        vertical-align: top;\n",
       "    }\n",
       "\n",
       "    .dataframe thead th {\n",
       "        text-align: right;\n",
       "    }\n",
       "</style>\n",
       "<table border=\"1\" class=\"dataframe\">\n",
       "  <thead>\n",
       "    <tr style=\"text-align: right;\">\n",
       "      <th></th>\n",
       "      <th>Avg. Bias</th>\n",
       "      <th>RMSE</th>\n",
       "      <th>Asy. Variance</th>\n",
       "      <th>Coverage</th>\n",
       "      <th>Avg. CI length</th>\n",
       "    </tr>\n",
       "  </thead>\n",
       "  <tbody>\n",
       "    <tr>\n",
       "      <th>Not Experimental</th>\n",
       "      <td>-0.199835</td>\n",
       "      <td>1.093100</td>\n",
       "      <td>97.049449</td>\n",
       "      <td>0.975</td>\n",
       "      <td>6.539464</td>\n",
       "    </tr>\n",
       "    <tr>\n",
       "      <th>Experimental</th>\n",
       "      <td>-2.300266</td>\n",
       "      <td>2.300266</td>\n",
       "      <td>11.428790</td>\n",
       "      <td>0.040</td>\n",
       "      <td>2.355399</td>\n",
       "    </tr>\n",
       "  </tbody>\n",
       "</table>\n",
       "</div>"
      ],
      "text/plain": [
       "                  Avg. Bias      RMSE  Asy. Variance  Coverage  Avg. CI length\n",
       "Not Experimental  -0.199835  1.093100      97.049449     0.975        6.539464\n",
       "Experimental      -2.300266  2.300266      11.428790     0.040        2.355399"
      ]
     },
     "execution_count": 67,
     "metadata": {},
     "output_type": "execute_result"
    }
   ],
   "source": [
    "print(\"Summary DGP=4\")\n",
    "dpg_summary[3]"
   ]
  },
  {
   "cell_type": "code",
   "execution_count": 68,
   "metadata": {},
   "outputs": [
    {
     "name": "stdout",
     "output_type": "stream",
     "text": [
      "Summary DGP=5\n"
     ]
    },
    {
     "data": {
      "text/html": [
       "<div>\n",
       "<style scoped>\n",
       "    .dataframe tbody tr th:only-of-type {\n",
       "        vertical-align: middle;\n",
       "    }\n",
       "\n",
       "    .dataframe tbody tr th {\n",
       "        vertical-align: top;\n",
       "    }\n",
       "\n",
       "    .dataframe thead th {\n",
       "        text-align: right;\n",
       "    }\n",
       "</style>\n",
       "<table border=\"1\" class=\"dataframe\">\n",
       "  <thead>\n",
       "    <tr style=\"text-align: right;\">\n",
       "      <th></th>\n",
       "      <th>Avg. Bias</th>\n",
       "      <th>RMSE</th>\n",
       "      <th>Asy. Variance</th>\n",
       "      <th>Coverage</th>\n",
       "      <th>Avg. CI length</th>\n",
       "    </tr>\n",
       "  </thead>\n",
       "  <tbody>\n",
       "    <tr>\n",
       "      <th>Not Experimental</th>\n",
       "      <td>-0.504128</td>\n",
       "      <td>0.787918</td>\n",
       "      <td>33.938490</td>\n",
       "      <td>0.965</td>\n",
       "      <td>3.878076</td>\n",
       "    </tr>\n",
       "    <tr>\n",
       "      <th>Experimental</th>\n",
       "      <td>0.037399</td>\n",
       "      <td>0.461257</td>\n",
       "      <td>9.443674</td>\n",
       "      <td>0.935</td>\n",
       "      <td>2.131685</td>\n",
       "    </tr>\n",
       "  </tbody>\n",
       "</table>\n",
       "</div>"
      ],
      "text/plain": [
       "                  Avg. Bias      RMSE  Asy. Variance  Coverage  Avg. CI length\n",
       "Not Experimental  -0.504128  0.787918      33.938490     0.965        3.878076\n",
       "Experimental       0.037399  0.461257       9.443674     0.935        2.131685"
      ]
     },
     "execution_count": 68,
     "metadata": {},
     "output_type": "execute_result"
    }
   ],
   "source": [
    "print(\"Summary DGP=5\")\n",
    "dpg_summary[4]"
   ]
  },
  {
   "cell_type": "code",
   "execution_count": 69,
   "metadata": {},
   "outputs": [
    {
     "name": "stdout",
     "output_type": "stream",
     "text": [
      "Summary DGP=6\n"
     ]
    },
    {
     "data": {
      "text/html": [
       "<div>\n",
       "<style scoped>\n",
       "    .dataframe tbody tr th:only-of-type {\n",
       "        vertical-align: middle;\n",
       "    }\n",
       "\n",
       "    .dataframe tbody tr th {\n",
       "        vertical-align: top;\n",
       "    }\n",
       "\n",
       "    .dataframe thead th {\n",
       "        text-align: right;\n",
       "    }\n",
       "</style>\n",
       "<table border=\"1\" class=\"dataframe\">\n",
       "  <thead>\n",
       "    <tr style=\"text-align: right;\">\n",
       "      <th></th>\n",
       "      <th>Avg. Bias</th>\n",
       "      <th>RMSE</th>\n",
       "      <th>Asy. Variance</th>\n",
       "      <th>Coverage</th>\n",
       "      <th>Avg. CI length</th>\n",
       "    </tr>\n",
       "  </thead>\n",
       "  <tbody>\n",
       "    <tr>\n",
       "      <th>Not Experimental</th>\n",
       "      <td>-0.335531</td>\n",
       "      <td>0.764008</td>\n",
       "      <td>30.479523</td>\n",
       "      <td>0.965</td>\n",
       "      <td>3.787889</td>\n",
       "    </tr>\n",
       "    <tr>\n",
       "      <th>Experimental</th>\n",
       "      <td>0.071205</td>\n",
       "      <td>0.466371</td>\n",
       "      <td>11.081003</td>\n",
       "      <td>0.955</td>\n",
       "      <td>2.319064</td>\n",
       "    </tr>\n",
       "  </tbody>\n",
       "</table>\n",
       "</div>"
      ],
      "text/plain": [
       "                  Avg. Bias      RMSE  Asy. Variance  Coverage  Avg. CI length\n",
       "Not Experimental  -0.335531  0.764008      30.479523     0.965        3.787889\n",
       "Experimental       0.071205  0.466371      11.081003     0.955        2.319064"
      ]
     },
     "execution_count": 69,
     "metadata": {},
     "output_type": "execute_result"
    }
   ],
   "source": [
    "print(\"Summary DGP=6\")\n",
    "dpg_summary[5]"
   ]
  },
  {
   "cell_type": "code",
   "execution_count": 89,
   "metadata": {},
   "outputs": [],
   "source": [
    "df_plot_dens = pd.DataFrame(data=None, columns=['DGP', 'Algorithm', 'ATT'])\n",
    "df_plot_cov = pd.DataFrame(data=None, columns=['DGP', 'Algorithm', 'Coverage'])\n",
    "for i_dgp, dgp_type in enumerate(dgp_types):\n",
    "    for i_score, score in enumerate(score_names):\n",
    "        # add ATT estimates for density plot\n",
    "        df = pd.DataFrame(coefs[:, i_dgp, i_score], columns=['ATT'])\n",
    "        df['DGP'] = str(dgp_type)\n",
    "        df['Algorithm'] = score\n",
    "        df_plot_dens = pd.concat([df_plot_dens, df], axis=0)\n",
    "\n",
    "        #add coverage data\n",
    "        df = pd.DataFrame(np.array([[cover[:, i_dgp, i_score].mean()]]), columns=[\"Coverage\"])\n",
    "        df['DGP'] = str(dgp_type)\n",
    "        df['Algorithm'] = score\n",
    "        df_plot_cov = pd.concat([df_plot_cov, df], axis=0)"
   ]
  },
  {
   "cell_type": "code",
   "execution_count": 90,
   "metadata": {},
   "outputs": [
    {
     "data": {
      "text/plain": [
       "<seaborn.axisgrid.FacetGrid at 0x1eb0902eda0>"
      ]
     },
     "execution_count": 90,
     "metadata": {},
     "output_type": "execute_result"
    },
    {
     "data": {
      "image/png": "[encoded data removed]",
      "text/plain": [
       "<Figure size 1071.5x600 with 6 Axes>"
      ]
     },
     "metadata": {},
     "output_type": "display_data"
    }
   ],
   "source": [
    "g = sns.FacetGrid(df_plot_dens, col=\"DGP\", hue=\"Algorithm\", col_wrap=3)\n",
    "g.map_dataframe(sns.kdeplot, x=\"ATT\", fill=True)\n",
    "g.add_legend()\n",
    "g.map(plt.axvline, x=ATT, ls='-', c='red', lw=0.5)"
   ]
  },
  {
   "cell_type": "code",
   "execution_count": 91,
   "metadata": {},
   "outputs": [
    {
     "data": {
      "text/plain": [
       "<matplotlib.lines.Line2D at 0x1eb0ad1aa10>"
      ]
     },
     "execution_count": 91,
     "metadata": {},
     "output_type": "execute_result"
    },
    {
     "data": {
      "image/png": "[encoded data removed]",
      "text/plain": [
       "<Figure size 1200x800 with 1 Axes>"
      ]
     },
     "metadata": {},
     "output_type": "display_data"
    }
   ],
   "source": [
    "sns.set(rc={'figure.figsize':(12,8)})\n",
    "g = sns.lineplot(data=df_plot_cov, x=\"DGP\", y=\"Coverage\", hue=\"Algorithm\")\n",
    "g.axhline(0.95, ls='--', c='red', lw=0.5)"
   ]
  }
 ],
 "metadata": {
  "kernelspec": {
   "display_name": "doubleml",
   "language": "python",
   "name": "python3"
  },
  "language_info": {
   "codemirror_mode": {
    "name": "ipython",
    "version": 3
   },
   "file_extension": ".py",
   "mimetype": "text/x-python",
   "name": "python",
   "nbconvert_exporter": "python",
   "pygments_lexer": "ipython3",
   "version": "3.10.8"
  },
  "orig_nbformat": 4,
  "vscode": {
   "interpreter": {
    "hash": "c17b3f7bd1a966b23df6bc421cb393eedb89185fca3be80230a2e6676a5e11a1"
   }
  }
 },
 "nbformat": 4,
 "nbformat_minor": 2
}
