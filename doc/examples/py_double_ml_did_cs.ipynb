{
 "cells": [
  {
   "attachments": {},
   "cell_type": "markdown",
   "metadata": {},
   "source": [
    "# DML Diff-in-Diff\n"
   ]
  },
  {
   "cell_type": "code",
   "execution_count": 1,
   "metadata": {},
   "outputs": [],
   "source": [
    "import numpy as np\n",
    "import pandas as pd\n",
    "import doubleml as dml\n",
    "import multiprocessing\n",
    "import seaborn as sns\n",
    "\n",
    "from sklearn.base import clone\n",
    "from sklearn.ensemble import RandomForestClassifier, RandomForestRegressor\n",
    "from sklearn.linear_model import LinearRegression, LogisticRegression\n",
    "from xgboost import XGBClassifier, XGBRegressor\n"
   ]
  },
  {
   "attachments": {},
   "cell_type": "markdown",
   "metadata": {},
   "source": [
    "We will focus on the the Ddata generating processes from [Sant'Anna and Zhao (2020)](https://arxiv.org/abs/1812.01723), see Section 4.1 and 4.2."
   ]
  },
  {
   "cell_type": "code",
   "execution_count": 2,
   "metadata": {},
   "outputs": [],
   "source": [
    "def f_reg(W):\n",
    "  res = 210 + 27.4*W[:, 0] + 13.7*(W[:, 1] + W[:, 2] + W[:, 3])\n",
    "  return res\n",
    "\n",
    "def f_ps(W):\n",
    "  res = 0.75*(-W[:, 0] + 0.5*W[:, 1] - 0.25*W[:, 2] - 0.1*W[:, 3])\n",
    "  return res\n",
    "\n",
    "def dgp(n=200, dgp_type=1):\n",
    "  # features\n",
    "  X = np.random.normal(loc=0, scale=1, size=[n,4])\n",
    "  Z_tilde_1 = np.exp(0.5*X[:, 0])\n",
    "  Z_tilde_2 = 10 + X[:, 1] / (1 + np.exp(X[:, 0]))\n",
    "  Z_tilde_3 = (0.6 + X[:, 0]*X[:, 2]/25)**3\n",
    "  Z_tilde_4 = (20 + X[:, 1] + X[:, 3])**2\n",
    "\n",
    "  Z_tilde = np.column_stack((Z_tilde_1, Z_tilde_2, Z_tilde_3, Z_tilde_4))\n",
    "  Z = (Z_tilde - np.mean(Z_tilde, axis=0)) / np.std(Z_tilde, axis=0)\n",
    "  \n",
    "  # error terms\n",
    "  epsilon_0 = np.random.normal(loc=0, scale=1, size=n)\n",
    "  epsilon_1 = np.random.normal(loc=0, scale=1, size=[n,2])\n",
    "  if dgp_type == 1:\n",
    "    features_ps = Z\n",
    "    features_reg = Z\n",
    "  elif dgp_type == 2:\n",
    "    features_ps = X\n",
    "    features_reg = Z\n",
    "  elif dgp_type == 3:\n",
    "    features_ps = Z\n",
    "    features_reg = X\n",
    "  elif dgp_type == 4:\n",
    "    features_ps = X\n",
    "    features_reg = X\n",
    "  else:\n",
    "    ValueError(\"DGP type not specified\")\n",
    "\n",
    "  # treatment and propensities\n",
    "  p = np.exp(f_ps(features_ps)) / (1 + np.exp(f_ps(features_ps)))\n",
    "  U = np.random.uniform(low=0, high=1, size=n)\n",
    "  D = 1.0 * (p >= U)\n",
    "\n",
    "  # potential outcomes\n",
    "  nu =  np.random.normal(loc=D*f_reg(features_reg), scale=1, size=n)\n",
    "  Y0 = f_reg(features_reg) + nu + epsilon_0\n",
    "  Y1_d0 = 2*f_reg(features_reg) + nu + epsilon_1[:, 0]\n",
    "  Y1_d1 = 2*f_reg(features_reg) + nu + epsilon_1[:, 1]\n",
    "  Y1 = D*Y1_d1 + (1-D)*Y1_d0\n",
    "\n",
    "  return Y0, Y1, D, Z, Y1_d0, Y1_d1\n"
   ]
  },
  {
   "attachments": {},
   "cell_type": "markdown",
   "metadata": {},
   "source": [
    "The ATT should be zero. We will check this numerically:"
   ]
  },
  {
   "cell_type": "code",
   "execution_count": 3,
   "metadata": {},
   "outputs": [
    {
     "name": "stdout",
     "output_type": "stream",
     "text": [
      "ATT (DGP=1): 0.0003048138339405014\n",
      "ATT (DGP=2): -0.0005357545552229088\n",
      "ATT (DGP=3): 7.015588986036638e-05\n",
      "ATT (DGP=4): -0.0007254919985098836\n"
     ]
    }
   ],
   "source": [
    "dgp_types = [1, 2, 3, 4]\n",
    "n_dgps = len(dgp_types)\n",
    "\n",
    "for dgp_type in dgp_types:  \n",
    "    _, _, D, _, Y1_d0, Y1_d1 = dgp(int(10e+6), dgp_type=dgp_type)\n",
    "    ATT = np.mean(Y1_d1[D == 1] - Y1_d0[D == 1])\n",
    "    print(f'ATT (DGP={dgp_type}): {ATT}')\n",
    "# Set the true ATT to zero\n",
    "ATT = 0"
   ]
  },
  {
   "cell_type": "code",
   "execution_count": 4,
   "metadata": {},
   "outputs": [],
   "source": [
    "np.random.seed(42)\n",
    "n_rep = 10\n",
    "n_obs = 1000\n",
    "lambda_T = 0.5\n",
    "\n",
    "datasets = []\n",
    "for dgp_type in dgp_types:\n",
    "    datasets_dgp = []\n",
    "    for i in range(n_rep):\n",
    "        Y0, Y1, D, X, _, _ = dgp(n=n_obs, dgp_type=dgp_type)\n",
    "\n",
    "        # datasets with repeated cross sections\n",
    "        U_T = np.random.uniform(low=0, high=1, size=n_obs)\n",
    "        T = 1.0 * (U_T <= lambda_T)\n",
    "        Y_obs = T * Y1 + (1-T)*Y0\n",
    "        data = dml.DoubleMLDIDData.from_arrays(X, Y_obs, D, T)\n",
    "        datasets_dgp.append(data)\n",
    "    datasets.append(datasets_dgp)"
   ]
  },
  {
   "cell_type": "code",
   "execution_count": 5,
   "metadata": {},
   "outputs": [
    {
     "name": "stdout",
     "output_type": "stream",
     "text": [
      "Number of Cores: 24\n"
     ]
    }
   ],
   "source": [
    "n_estimators = 50\n",
    "\n",
    "# Random Forest\n",
    "# ml_g = RandomForestRegressor(n_estimators=n_estimators)\n",
    "# ml_m = RandomForestClassifier(n_estimators=n_estimators)\n",
    "\n",
    "# Boosted Trees\n",
    "ml_g = XGBRegressor(n_jobs=1, objective = \"reg:squarederror\",\n",
    "                    eta=0.1, n_estimators=n_estimators)\n",
    "ml_m = XGBClassifier(n_jobs=1, objective = \"binary:logistic\",\n",
    "                     eval_metric = \"logloss\",\n",
    "                     eta=0.1, n_estimators=n_estimators)\n",
    "\n",
    "# linear models\n",
    "#ml_g = LinearRegression()\n",
    "#ml_m = LogisticRegression()\n",
    "\n",
    "n_cores = multiprocessing.cpu_count()\n",
    "print(f\"Number of Cores: {n_cores}\")\n",
    "# to be process folds in parallel\n",
    "cores_used = 5"
   ]
  },
  {
   "attachments": {},
   "cell_type": "markdown",
   "metadata": {},
   "source": [
    "## Repeated Cross-sectional Data\n",
    "\n",
    "Use the same data with coss-sectional observations"
   ]
  },
  {
   "cell_type": "code",
   "execution_count": 6,
   "metadata": {},
   "outputs": [],
   "source": [
    "from contextlib import contextmanager\n",
    "import sys, os\n",
    "\n",
    "@contextmanager\n",
    "def suppress_stdout():\n",
    "    with open(os.devnull, \"w\") as devnull:\n",
    "        old_stdout = sys.stdout\n",
    "        sys.stdout = devnull\n",
    "        try:  \n",
    "            yield\n",
    "        finally:\n",
    "            sys.stdout = old_stdout"
   ]
  },
  {
   "cell_type": "code",
   "execution_count": 7,
   "metadata": {},
   "outputs": [
    {
     "name": "stdout",
     "output_type": "stream",
     "text": [
      "DPG=1\n",
      "Iteration: 0\n",
      "Iteration: 1\n",
      "Iteration: 2\n",
      "Iteration: 3\n",
      "Iteration: 4\n",
      "Iteration: 5\n",
      "Iteration: 6\n",
      "Iteration: 7\n",
      "Iteration: 8\n",
      "Iteration: 9\n",
      "DPG=2\n",
      "Iteration: 0\n",
      "Iteration: 1\n",
      "Iteration: 2\n",
      "Iteration: 3\n",
      "Iteration: 4\n",
      "Iteration: 5\n",
      "Iteration: 6\n",
      "Iteration: 7\n",
      "Iteration: 8\n",
      "Iteration: 9\n",
      "DPG=3\n",
      "Iteration: 0\n",
      "Iteration: 1\n",
      "Iteration: 2\n",
      "Iteration: 3\n",
      "Iteration: 4\n",
      "Iteration: 5\n",
      "Iteration: 6\n",
      "Iteration: 7\n",
      "Iteration: 8\n",
      "Iteration: 9\n",
      "DPG=4\n",
      "Iteration: 0\n",
      "Iteration: 1\n",
      "Iteration: 2\n",
      "Iteration: 3\n",
      "Iteration: 4\n",
      "Iteration: 5\n",
      "Iteration: 6\n",
      "Iteration: 7\n",
      "Iteration: 8\n",
      "Iteration: 9\n"
     ]
    }
   ],
   "source": [
    "coefs_ch = np.full((n_rep, n_dgps), np.nan)\n",
    "ses_ch = np.full((n_rep, n_dgps), np.nan)\n",
    "cover_ch = np.full((n_rep, n_dgps), np.nan)\n",
    "ci_length_ch = np.full((n_rep, n_dgps), np.nan)\n",
    "\n",
    "coefs_zi_1 = np.full((n_rep, n_dgps), np.nan)\n",
    "ses_zi_1 = np.full((n_rep, n_dgps), np.nan)\n",
    "cover_zi_1 = np.full((n_rep, n_dgps), np.nan)\n",
    "ci_length_zi_1 = np.full((n_rep, n_dgps), np.nan)\n",
    "\n",
    "coefs_zi_2 = np.full((n_rep, n_dgps), np.nan)\n",
    "ses_zi_2 = np.full((n_rep, n_dgps), np.nan)\n",
    "cover_zi_2 = np.full((n_rep, n_dgps), np.nan)\n",
    "ci_length_zi_2 = np.full((n_rep, n_dgps), np.nan)\n",
    "\n",
    "for i_dgp, dgp_type in enumerate(dgp_types):\n",
    "    print(f'DPG={dgp_type}')\n",
    "    for i_rep in range(n_rep):\n",
    "        if (i_rep % int(n_rep/10)) == 0:\n",
    "            print(f'Iteration: {i_rep}')\n",
    "        obj_dml_data = datasets[i_dgp][i_rep]\n",
    "        with suppress_stdout():\n",
    "            # estimate ATT with Chang\n",
    "            dml_DiD_ch = dml.DoubleMLDID(obj_dml_data,\n",
    "                                        ml_g=clone(ml_g),\n",
    "                                        ml_m=clone(ml_m),\n",
    "                                        score='RCS',\n",
    "                                        n_folds=5)\n",
    "\n",
    "            dml_DiD_ch.fit(n_jobs_cv=cores_used)\n",
    "\n",
    "            # estimate ATT with Zimmert and Sant'Anna\n",
    "            dml_DiD_zi_1 = dml.DoubleMLDiDCS(obj_dml_data,\n",
    "                                        ml_g=clone(ml_g),\n",
    "                                        ml_m=clone(ml_m),\n",
    "                                        score='CS-4',\n",
    "                                        n_folds=5)\n",
    "\n",
    "            dml_DiD_zi_1.fit(n_jobs_cv=cores_used)\n",
    "\n",
    "        # estimate ATT with Zimmert (not efficient)\n",
    "        dml_DiD_zi_2 = dml.DoubleMLDiDCS(obj_dml_data,\n",
    "                                    ml_g=clone(ml_g),\n",
    "                                    ml_m=clone(ml_m),\n",
    "                                    score='CS*-4',\n",
    "                                    n_folds=5)\n",
    "\n",
    "        dml_DiD_zi_2.fit(n_jobs_cv=cores_used)\n",
    "\n",
    "        # save coefs and ses\n",
    "        coefs_ch[i_rep, i_dgp] = dml_DiD_ch.coef\n",
    "        ses_ch[i_rep, i_dgp] = dml_DiD_ch.se\n",
    "\n",
    "        # calculate confidence interval\n",
    "        confint_ch = dml_DiD_ch.confint(level=0.95)\n",
    "        cover_ch[i_rep, i_dgp] = (confint_ch['2.5 %'] < ATT) & (ATT < confint_ch['97.5 %'])\n",
    "        ci_length_ch[i_rep, i_dgp] = confint_ch['97.5 %'] - confint_ch['2.5 %']\n",
    "\n",
    "        # save coefs and ses\n",
    "        coefs_zi_1[i_rep, i_dgp] = dml_DiD_zi_1.coef\n",
    "        ses_zi_1[i_rep, i_dgp] = dml_DiD_zi_1.se\n",
    "\n",
    "        # calculate confidence interval\n",
    "        confint_zi_1 = dml_DiD_zi_1.confint(level=0.95)\n",
    "        cover_zi_1[i_rep, i_dgp] = (confint_zi_1['2.5 %'] < ATT) & (ATT < confint_zi_1['97.5 %'])\n",
    "        ci_length_zi_1[i_rep, i_dgp] = confint_zi_1['97.5 %'] - confint_zi_1['2.5 %']\n",
    "\n",
    "        # save coefs and ses\n",
    "        coefs_zi_2[i_rep, i_dgp] = dml_DiD_zi_2.coef\n",
    "        ses_zi_2[i_rep, i_dgp] = dml_DiD_zi_2.se\n",
    "\n",
    "        # calculate confidence interval\n",
    "        confint_zi_2 = dml_DiD_zi_2.confint(level=0.95)\n",
    "        cover_zi_2[i_rep, i_dgp] = (confint_zi_2['2.5 %'] < ATT) & (ATT < confint_zi_2['97.5 %'])\n",
    "        ci_length_zi_2[i_rep, i_dgp] = confint_zi_2['97.5 %'] - confint_zi_2['2.5 %']"
   ]
  },
  {
   "attachments": {},
   "cell_type": "markdown",
   "metadata": {},
   "source": [
    "## Results Chang"
   ]
  },
  {
   "cell_type": "code",
   "execution_count": 9,
   "metadata": {},
   "outputs": [
    {
     "name": "stdout",
     "output_type": "stream",
     "text": [
      "Avg. Bias: [-5.46851576 -2.1540094  -5.4749057  -7.52324991]\n",
      "RMSE: [ 6.88822453 11.37310114 11.61939598  9.92874278]\n",
      "Avg. asymptotic Variance: [246.95357665 281.85283641 249.83410982 327.51193879]\n",
      "Coverage: [1. 1. 1. 1.]\n",
      "Avg. CI length: [61.5127149  65.63711825 61.91940119 70.67144729]\n"
     ]
    }
   ],
   "source": [
    "print(f'Avg. Bias: {coefs_ch.mean(0)}')\n",
    "print(f'RMSE: {np.sqrt(np.square(coefs_ch)).mean(0)}')\n",
    "print(f'Avg. asymptotic Variance: {np.square(ses_ch).mean(0)}')\n",
    "print(f'Coverage: {cover_ch.mean(0)}')\n",
    "print(f'Avg. CI length: {ci_length_ch.mean(0)}')"
   ]
  },
  {
   "attachments": {},
   "cell_type": "markdown",
   "metadata": {},
   "source": [
    "## Results Zimmert and Sant'Anna"
   ]
  },
  {
   "cell_type": "code",
   "execution_count": 10,
   "metadata": {},
   "outputs": [
    {
     "name": "stdout",
     "output_type": "stream",
     "text": [
      "Avg. Bias: [-1.18824269 -1.11952649  0.0757818   0.52908827]\n",
      "RMSE: [4.85584641 3.49429261 4.42618405 3.99785919]\n",
      "Avg. asymptotic Variance: [21.2882964  27.21006482 24.71400012 64.82900222]\n",
      "Coverage: [0.9 1.  1.  1. ]\n",
      "Avg. CI length: [17.72715698 20.22525291 19.17813789 31.00034414]\n"
     ]
    }
   ],
   "source": [
    "print(f'Avg. Bias: {coefs_zi_1.mean(0)}')\n",
    "print(f'RMSE: {np.sqrt(np.square(coefs_zi_1)).mean(0)}')\n",
    "print(f'Avg. asymptotic Variance: {np.square(ses_zi_1).mean(0)}')\n",
    "print(f'Coverage: {cover_zi_1.mean(0)}')\n",
    "print(f'Avg. CI length: {ci_length_zi_1.mean(0)}')"
   ]
  },
  {
   "attachments": {},
   "cell_type": "markdown",
   "metadata": {},
   "source": [
    "## Results Zimmert (not efficient)"
   ]
  },
  {
   "cell_type": "code",
   "execution_count": 11,
   "metadata": {},
   "outputs": [
    {
     "name": "stdout",
     "output_type": "stream",
     "text": [
      "Avg. Bias: [-10.99385253  -2.52738917 -11.83891951  -8.92245404]\n",
      "RMSE: [15.93130733 25.08362616 26.40456952 23.34137792]\n",
      "Avg. asymptotic Variance: [2119.9473935  2211.93459057 2135.68477477 2114.75967932]\n",
      "Coverage: [1. 1. 1. 1.]\n",
      "Avg. CI length: [180.47523682 184.33036506 181.1404997  180.21300798]\n"
     ]
    }
   ],
   "source": [
    "print(f'Avg. Bias: {coefs_zi_2.mean(0)}')\n",
    "print(f'RMSE: {np.sqrt(np.square(coefs_zi_2)).mean(0)}')\n",
    "print(f'Avg. asymptotic Variance: {np.square(ses_zi_2).mean(0)}')\n",
    "print(f'Coverage: {cover_zi_2.mean(0)}')\n",
    "print(f'Avg. CI length: {ci_length_zi_2.mean(0)}')"
   ]
  },
  {
   "attachments": {},
   "cell_type": "markdown",
   "metadata": {},
   "source": [
    "## Comparison"
   ]
  },
  {
   "cell_type": "code",
   "execution_count": 12,
   "metadata": {},
   "outputs": [],
   "source": [
    "df_ch = pd.DataFrame(coefs_ch,\n",
    "                     columns=[\"1\", \"2\", \"3\", \"4\"])\n",
    "df2_ch = pd.melt(df_ch, value_name='Estimated ATT', var_name='DGP')\n",
    "df2_ch[\"Alg\"] = \"Chang\"\n",
    "\n",
    "df_zi_1 = pd.DataFrame(coefs_zi_1,\n",
    "                     columns=[\"1\", \"2\", \"3\", \"4\"])\n",
    "df2_zi_1 = pd.melt(df_zi_1, value_name='Estimated ATT', var_name='DGP')\n",
    "df2_zi_1[\"Alg\"] = \"Zimmert\"\n",
    "\n",
    "df_zi_2 = pd.DataFrame(coefs_zi_2,\n",
    "                     columns=[\"1\", \"2\", \"3\", \"4\"])\n",
    "df2_zi_2 = pd.melt(df_zi_2, value_name='Estimated ATT', var_name='DGP')\n",
    "df2_zi_2[\"Alg\"] = \"Zimmert (not efficient)\""
   ]
  },
  {
   "cell_type": "code",
   "execution_count": 13,
   "metadata": {},
   "outputs": [
    {
     "data": {
      "text/plain": [
       "<seaborn.axisgrid.FacetGrid at 0x13aaee9b730>"
      ]
     },
     "execution_count": 13,
     "metadata": {},
     "output_type": "execute_result"
    },
    {
     "data": {
      "image/png": "[encoded data removed]",
      "text/plain": [
       "<Figure size 1409.12x300 with 4 Axes>"
      ]
     },
     "metadata": {},
     "output_type": "display_data"
    }
   ],
   "source": [
    "df_plot = pd.concat([df2_ch, df2_zi_1, df2_zi_2], axis=0)\n",
    "g = sns.FacetGrid(df_plot, col=\"DGP\", hue=\"Alg\")\n",
    "g.map_dataframe(sns.kdeplot, x=\"Estimated ATT\", fill=True)\n",
    "g.add_legend()"
   ]
  },
  {
   "cell_type": "code",
   "execution_count": null,
   "metadata": {},
   "outputs": [],
   "source": []
  }
 ],
 "metadata": {
  "kernelspec": {
   "display_name": "dml_base",
   "language": "python",
   "name": "python3"
  },
  "language_info": {
   "codemirror_mode": {
    "name": "ipython",
    "version": 3
   },
   "file_extension": ".py",
   "mimetype": "text/x-python",
   "name": "python",
   "nbconvert_exporter": "python",
   "pygments_lexer": "ipython3",
   "version": "3.10.8"
  },
  "orig_nbformat": 4,
  "vscode": {
   "interpreter": {
    "hash": "04413e1efd13b5e2aaedccc5facec5686292d28983ef24fa021a12c73bd6369e"
   }
  }
 },
 "nbformat": 4,
 "nbformat_minor": 2
}
