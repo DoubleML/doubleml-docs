{
 "cells": [
  {
   "attachments": {},
   "cell_type": "markdown",
   "metadata": {
    "collapsed": false
   },
   "source": [
    "# Python: Group Average Treatment Effects (GATEs)\n",
    "\n",
    "In this simple example, we illustrate how the [DoubleML](https://docs.doubleml.org/stable/index.html) package can be used to estimate group average treatment effects."
   ]
  },
  {
   "attachments": {},
   "cell_type": "markdown",
   "metadata": {
    "collapsed": false
   },
   "source": [
    "## Data\n",
    "\n",
    "The data will be generated with a simple data generating process to enable us to know the true group effects."
   ]
  },
  {
   "cell_type": "code",
   "execution_count": 1,
   "metadata": {
    "collapsed": true
   },
   "outputs": [],
   "source": [
    "import numpy as np\n",
    "import pandas as pd\n",
    "import doubleml as dml"
   ]
  },
  {
   "attachments": {},
   "cell_type": "markdown",
   "metadata": {
    "collapsed": false
   },
   "source": [
    "Here, we consider three different groups which depend on the first covariate, which could correspond to e.g. three different age groups in the sample.\n",
    "For simplicity, the treatment effect within each group is generated to be constant, such that it corresponds to the group average treatment effect."
   ]
  },
  {
   "cell_type": "code",
   "execution_count": 2,
   "metadata": {
    "collapsed": false
   },
   "outputs": [],
   "source": [
    "def group_effect(x):\n",
    "    if x[0] <= -0.7:\n",
    "        te = 3\n",
    "    elif (x[0] > -0.7) & (x[0] <= 0.2):\n",
    "        te = 1\n",
    "    else:\n",
    "        te = 0\n",
    "    return te"
   ]
  },
  {
   "attachments": {},
   "cell_type": "markdown",
   "metadata": {
    "collapsed": false
   },
   "source": [
    "The data is generated as\n",
    "\n",
    "$$\n",
    "\\begin{aligned}\n",
    "Y_i & = g(W_1)T_i + \\langle W_i,\\gamma_0\\rangle + \\epsilon_i \\\\\n",
    "T_i & = \\langle W_i,\\beta_0\\rangle +\\eta_i,\n",
    "\\end{aligned}\n",
    "$$\n",
    "\n",
    "where $W_i\\sim\\mathcal{N}(0,I_{d_w})$ and $\\epsilon_i,\\eta_i\\sim\\mathcal{U}[0,1]$.\n",
    "The coefficient vectors $\\gamma_0$ and $\\beta_0$ both have small random support which values are drawn independently from $\\mathcal{U}[0,1]$.\n",
    "Further, $g(w_1)$ defines the conditional treatment effect, which is generated depending on $w_1$.\n",
    "\n",
    "$$g(w_1) = \\begin{cases}3\\quad,\\text{for } w_1\\le -0.7\\\\\n",
    "1\\quad,\\text{for } -0.7 < w_1\\le  0.2\\\\\n",
    "0\\quad,\\text{for } 0.2 < w_1\\\\\n",
    " \\end{cases}.$$"
   ]
  },
  {
   "cell_type": "code",
   "execution_count": 3,
   "metadata": {
    "collapsed": false
   },
   "outputs": [],
   "source": [
    "def create_synthetic_group_data(n_samples=200, n_w=10, support_size=5):\n",
    "    \"\"\"\n",
    "    Creates a simple synthetic example for group effects.\n",
    "\n",
    "    Parameters\n",
    "    ----------\n",
    "    n_samples : int\n",
    "        Number of samples.\n",
    "        Default is ``200``.\n",
    "\n",
    "    n_w : int\n",
    "        Dimension of covariates.\n",
    "        Default is ``10``.\n",
    "\n",
    "    support_size : int\n",
    "        Number of relevant covariates.\n",
    "        Default is ``5``.\n",
    "\n",
    "    Returns\n",
    "    -------\n",
    "     data : pd.DataFrame\n",
    "            A data frame.\n",
    "\n",
    "    \"\"\"\n",
    "    # Outcome support\n",
    "    support_w = np.random.choice(np.arange(n_w), size=support_size, replace=False)\n",
    "    coefs_w = np.random.uniform(0, 1, size=support_size)\n",
    "    # Define the function to generate the noise\n",
    "    epsilon_sample = lambda n: np.random.uniform(-1, 1, size=n_samples)\n",
    "    # Treatment support\n",
    "    # Assuming the matrices gamma and beta have the same number of non-zero components\n",
    "    support_t = np.random.choice(np.arange(n_w), size=support_size, replace=False)\n",
    "    coefs_t = np.random.uniform(0, 1, size=support_size)\n",
    "    # Define the function to generate the noise\n",
    "    eta_sample = lambda n: np.random.uniform(-1, 1, size=n_samples)\n",
    "\n",
    "    # Generate controls, covariates, treatments and outcomes\n",
    "    w = np.random.normal(0, 1, size=(n_samples, n_w))\n",
    "    # Group treatment effect\n",
    "    te = np.apply_along_axis(group_effect, axis=1, arr=w)\n",
    "    # Define treatment\n",
    "    log_odds = np.dot(w[:, support_t], coefs_t) + eta_sample(n_samples)\n",
    "    t_sigmoid = 1 / (1 + np.exp(-log_odds))\n",
    "    t = np.array([np.random.binomial(1, p) for p in t_sigmoid])\n",
    "    # Define the outcome\n",
    "    y = te * t + np.dot(w[:, support_w], coefs_w) + epsilon_sample(n_samples)\n",
    "\n",
    "    # Now we build the dataset\n",
    "    y_df = pd.DataFrame({'y': y})\n",
    "    t_df = pd.DataFrame({'t': t})\n",
    "    w_df = pd.DataFrame(data=w, index=np.arange(w.shape[0]), columns=[f'w_{i}' for i in range(w.shape[1])])\n",
    "\n",
    "    data = pd.concat([y_df, t_df, w_df], axis=1)\n",
    "    covariates = list(w_df.columns.values)\n",
    "\n",
    "    return data, covariates"
   ]
  },
  {
   "attachments": {},
   "cell_type": "markdown",
   "metadata": {
    "collapsed": false
   },
   "source": [
    "We will consider a quite small number of covariates to ensure fast calcualtion."
   ]
  },
  {
   "cell_type": "code",
   "execution_count": 4,
   "metadata": {
    "collapsed": false
   },
   "outputs": [],
   "source": [
    "# DGP constants\n",
    "np.random.seed(42)\n",
    "n_samples = 500\n",
    "n_w = 10\n",
    "support_size = 5\n",
    "\n",
    "# Create data\n",
    "data, covariates = create_synthetic_group_data(n_samples=n_samples, n_w=n_w, support_size=support_size)\n",
    "data_dml_base = dml.DoubleMLData(data,\n",
    "                                 y_col='y',\n",
    "                                 d_cols='t',\n",
    "                                 x_cols=covariates)"
   ]
  },
  {
   "attachments": {},
   "cell_type": "markdown",
   "metadata": {
    "collapsed": false
   },
   "source": [
    "## Interactive Regression Model (IRM)\n",
    "The first step is to fit a [DoubleML IRM Model](https://docs.doubleml.org/stable/guide/models.html#interactive-regression-model-irm) to the data."
   ]
  },
  {
   "cell_type": "code",
   "execution_count": 5,
   "metadata": {
    "collapsed": false
   },
   "outputs": [
    {
     "name": "stdout",
     "output_type": "stream",
     "text": [
      "Training IRM Model\n"
     ]
    },
    {
     "data": {
      "text/plain": [
       "<doubleml.double_ml_irm.DoubleMLIRM at 0x1b4784fff10>"
      ]
     },
     "execution_count": 5,
     "metadata": {},
     "output_type": "execute_result"
    }
   ],
   "source": [
    "# First stage estimation\n",
    "from sklearn.ensemble import RandomForestClassifier, RandomForestRegressor\n",
    "randomForest_reg = RandomForestRegressor(n_estimators=500)\n",
    "randomForest_class = RandomForestClassifier(n_estimators=500)\n",
    "\n",
    "np.random.seed(42)\n",
    "\n",
    "dml_irm = dml.DoubleMLIRM(data_dml_base,\n",
    "                          ml_g=randomForest_reg,\n",
    "                          ml_m=randomForest_class,\n",
    "                          trimming_threshold=0.01,\n",
    "                          n_folds=5)\n",
    "print(\"Training IRM Model\")\n",
    "dml_irm.fit(store_predictions=True)"
   ]
  },
  {
   "attachments": {},
   "cell_type": "markdown",
   "metadata": {
    "collapsed": false
   },
   "source": [
    "## Group Average Treatment Effects (GATEs)\n",
    "Next, we can specify the groups as [DataFrame](https://pandas.pydata.org/docs/reference/api/pandas.DataFrame.html) with boolean columns."
   ]
  },
  {
   "cell_type": "code",
   "execution_count": 6,
   "metadata": {
    "collapsed": false
   },
   "outputs": [],
   "source": [
    "groups = pd.DataFrame(np.column_stack([data['w_0'] <= -0.7,\n",
    "                                       (data['w_0'] > -0.7) & (data['w_0'] <= 0.2),\n",
    "                                       data['w_0'] > 0.2]),\n",
    "             columns=['Group 1', 'Group 2', 'Group 3'])"
   ]
  },
  {
   "cell_type": "code",
   "execution_count": 7,
   "metadata": {
    "collapsed": false
   },
   "outputs": [
    {
     "name": "stdout",
     "output_type": "stream",
     "text": [
      "   Group 1  Group 2  Group 3\n",
      "0    False     True    False\n",
      "1    False     True    False\n",
      "2     True    False    False\n",
      "3     True    False    False\n",
      "4     True    False    False\n"
     ]
    }
   ],
   "source": [
    "print(groups.head())"
   ]
  },
  {
   "attachments": {},
   "cell_type": "markdown",
   "metadata": {
    "collapsed": false
   },
   "source": [
    "To calculate GATEs just call the ``gate()`` method and supply the DataFrame with the group definitions and the ``level`` (with default of ``0.95``)."
   ]
  },
  {
   "cell_type": "code",
   "execution_count": 8,
   "metadata": {
    "collapsed": false
   },
   "outputs": [
    {
     "name": "stdout",
     "output_type": "stream",
     "text": [
      "            2.5 %    effect    97.5 %\n",
      "Group 1  2.793648  3.125180  3.456711\n",
      "Group 2  0.935750  1.233350  1.530950\n",
      "Group 3 -0.170841  0.024572  0.219985\n"
     ]
    }
   ],
   "source": [
    "gate = dml_irm.gate(groups=groups)\n",
    "print(gate.confint(level=0.95))"
   ]
  },
  {
   "attachments": {},
   "cell_type": "markdown",
   "metadata": {
    "collapsed": false
   },
   "source": [
    "The confidence intervals above are point-wise, but by setting the option ``joint`` and providing a number of bootstrap repetitions ``n_rep_boot``."
   ]
  },
  {
   "cell_type": "code",
   "execution_count": 9,
   "metadata": {
    "collapsed": false
   },
   "outputs": [
    {
     "name": "stdout",
     "output_type": "stream",
     "text": [
      "            2.5 %    effect    97.5 %\n",
      "Group 1  2.498694  3.125180  3.751665\n",
      "Group 2  0.670983  1.233350  1.795717\n",
      "Group 3 -0.344695  0.024572  0.393839\n"
     ]
    }
   ],
   "source": [
    "ci = gate.confint(level=0.95, joint=True, n_rep_boot=1000)\n",
    "print(ci)"
   ]
  },
  {
   "attachments": {},
   "cell_type": "markdown",
   "metadata": {
    "collapsed": false
   },
   "source": [
    "Finally, let us plot the estimates together with the true effect within each group."
   ]
  },
  {
   "cell_type": "code",
   "execution_count": 10,
   "metadata": {
    "collapsed": false,
    "tags": [
     "nbsphinx-thumbnail"
    ]
   },
   "outputs": [
    {
     "data": {
      "image/png": "[encoded data removed]",
      "text/plain": [
       "<Figure size 1000x750 with 1 Axes>"
      ]
     },
     "metadata": {},
     "output_type": "display_data"
    }
   ],
   "source": [
    "import matplotlib.pyplot as plt\n",
    "plt.rcParams['figure.figsize'] = 10., 7.5\n",
    "\n",
    "errors = np.full((2, ci.shape[0]), np.nan)\n",
    "errors[0, :] = ci['effect'] - ci['2.5 %']\n",
    "errors[1, :] = ci['97.5 %'] - ci['effect']\n",
    "\n",
    "plt.errorbar(ci.index, ci.effect, fmt='o', yerr=errors, label='Estimated Effect (with joint CI)')\n",
    "\n",
    "#add true effect\n",
    "ax = plt.subplot(1, 1, 1)\n",
    "ax.scatter(x=['Group 1', 'Group 2', 'Group 3'], y=[3, 1, 0], c='red', label='True Effect')\n",
    "\n",
    "plt.title('GATEs')\n",
    "plt.xlabel('Groups')\n",
    "plt.legend()\n",
    "_ = plt.ylabel('Effect and 95%-CI')"
   ]
  },
  {
   "attachments": {},
   "cell_type": "markdown",
   "metadata": {
    "collapsed": false
   },
   "source": [
    "It is also possible to supply disjoint groups as a single vector (still as a data frame). Remark the slightly different name."
   ]
  },
  {
   "cell_type": "code",
   "execution_count": 11,
   "metadata": {
    "collapsed": false
   },
   "outputs": [
    {
     "name": "stdout",
     "output_type": "stream",
     "text": [
      "  Group\n",
      "0     2\n",
      "1     2\n",
      "2     1\n",
      "3     1\n",
      "4     1\n"
     ]
    }
   ],
   "source": [
    "groups =  pd.DataFrame(columns=['Group'], index=range(data['w_0'].shape[0]), dtype=str)\n",
    "for i, w_i in enumerate(data['w_0']):\n",
    "    if w_i <= -0.7:\n",
    "         groups['Group'][i] = '1'\n",
    "    elif (w_i > -0.7) & (w_i <= 0.2):\n",
    "         groups['Group'][i] = '2'\n",
    "    else:\n",
    "         groups['Group'][i] = '3'\n",
    "\n",
    "print(groups.head())"
   ]
  },
  {
   "cell_type": "code",
   "execution_count": 12,
   "metadata": {
    "collapsed": false
   },
   "outputs": [
    {
     "name": "stdout",
     "output_type": "stream",
     "text": [
      "            2.5 %    effect    97.5 %\n",
      "Group_1  2.793648  3.125180  3.456711\n",
      "Group_2  0.935750  1.233350  1.530950\n",
      "Group_3 -0.170841  0.024572  0.219985\n"
     ]
    }
   ],
   "source": [
    "gate = dml_irm.gate(groups=groups)\n",
    "ci = gate.confint()\n",
    "print(ci)"
   ]
  },
  {
   "attachments": {},
   "cell_type": "markdown",
   "metadata": {
    "collapsed": false
   },
   "source": [
    "The coefficients of the best linear predictor can be seen via the summary (the values can be accessed through the underlying model ``.blp_model``)."
   ]
  },
  {
   "cell_type": "code",
   "execution_count": 13,
   "metadata": {
    "collapsed": false
   },
   "outputs": [
    {
     "name": "stdout",
     "output_type": "stream",
     "text": [
      "             coef   std err          t         P>|t|    [0.025    0.975]\n",
      "Group_1  3.125180  0.149762  20.867623  6.450889e-70  2.830935  3.419425\n",
      "Group_2  1.233350  0.142024   8.684105  5.517504e-17  0.954309  1.512391\n",
      "Group_3  0.024572  0.117686   0.208795  8.346940e-01 -0.206651  0.255795\n"
     ]
    }
   ],
   "source": [
    "print(gate.summary)"
   ]
  },
  {
   "attachments": {},
   "cell_type": "markdown",
   "metadata": {
    "collapsed": false
   },
   "source": [
    "Remark that the confidence intervals are slightly smaller, since they are not based on the White's heteroskedasticity robus standard errors."
   ]
  },
  {
   "cell_type": "code",
   "execution_count": 14,
   "metadata": {
    "collapsed": false
   },
   "outputs": [
    {
     "name": "stdout",
     "output_type": "stream",
     "text": [
      "================== DoubleMLBLP Object ==================\n",
      "\n",
      "------------------ Fit summary ------------------\n",
      "             coef   std err          t         P>|t|    [0.025    0.975]\n",
      "Group_1  3.125180  0.149762  20.867623  6.450889e-70  2.830935  3.419425\n",
      "Group_2  1.233350  0.142024   8.684105  5.517504e-17  0.954309  1.512391\n",
      "Group_3  0.024572  0.117686   0.208795  8.346940e-01 -0.206651  0.255795\n"
     ]
    }
   ],
   "source": [
    "print(gate)"
   ]
  },
  {
   "cell_type": "code",
   "execution_count": 15,
   "metadata": {
    "collapsed": false
   },
   "outputs": [
    {
     "data": {
      "image/png": "[encoded data removed]",
      "text/plain": [
       "<Figure size 1000x750 with 1 Axes>"
      ]
     },
     "metadata": {},
     "output_type": "display_data"
    }
   ],
   "source": [
    "errors = np.full((2, ci.shape[0]), np.nan)\n",
    "errors[0, :] = ci['effect'] - ci['2.5 %']\n",
    "errors[1, :] = ci['97.5 %'] - ci['effect']\n",
    "\n",
    "#add true effect\n",
    "ax = plt.subplot(1, 1, 1)\n",
    "ax.scatter(x=['Group_1', 'Group_2', 'Group_3'], y=[3, 1, 0], c='red', label='True Effect')\n",
    "\n",
    "plt.errorbar(ci.index, ci.effect, fmt='o', yerr=errors)\n",
    "plt.title('GATEs')\n",
    "plt.xlabel('Groups')\n",
    "_ =  plt.ylabel('Effect and 95%-CI')"
   ]
  }
 ],
 "metadata": {
  "kernelspec": {
   "display_name": "Python 3",
   "language": "python",
   "name": "python3"
  },
  "language_info": {
   "codemirror_mode": {
    "name": "ipython",
    "version": 3
   },
   "file_extension": ".py",
   "mimetype": "text/x-python",
   "name": "python",
   "nbconvert_exporter": "python",
   "pygments_lexer": "ipython3",
   "version": "3.11.2"
  }
 },
 "nbformat": 4,
 "nbformat_minor": 0
}
