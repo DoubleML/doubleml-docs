{
 "cells": [
  {
   "attachments": {},
   "cell_type": "markdown",
   "metadata": {
    "collapsed": false
   },
   "source": [
    "# Python: Group Average Treatment Effects (GATEs) for IRM models\n",
    "\n",
    "In this simple example, we illustrate how the [DoubleML](https://docs.doubleml.org/stable/index.html) package can be used to estimate group average treatment effects in the [DoubleMLIRM](https://docs.doubleml.org/stable/guide/models.html#interactive-regression-model-irm) model."
   ]
  },
  {
   "cell_type": "code",
   "execution_count": 12,
   "metadata": {},
   "outputs": [],
   "source": [
    "import numpy as np\n",
    "import pandas as pd\n",
    "import doubleml as dml\n",
    "\n",
    "from doubleml.datasets import make_heterogeneous_data"
   ]
  },
  {
   "cell_type": "markdown",
   "metadata": {},
   "source": [
    "## Data\n",
    "\n",
    "We define a data generating process to create synthetic data to compare the estimates to the true effect. The data generating process is based on the Monte Carlo simulation from [Oprescu et al. (2019)](http://proceedings.mlr.press/v97/oprescu19a.html).\n",
    "\n",
    "The documentation of the data generating process can be found [here](https://docs.doubleml.org/dev/api/api.html#dataset-generators). In this example the true effect depends only the first covariate $X_1$ and takes the following form\n",
    "\n",
    "$$\n",
    "g(X) = \\exp(2X_0) + 3\\sin(4X_0).\n",
    "$$"
   ]
  },
  {
   "cell_type": "code",
   "execution_count": 13,
   "metadata": {},
   "outputs": [
    {
     "data": {
      "text/html": [
       "<div>\n",
       "<style scoped>\n",
       "    .dataframe tbody tr th:only-of-type {\n",
       "        vertical-align: middle;\n",
       "    }\n",
       "\n",
       "    .dataframe tbody tr th {\n",
       "        vertical-align: top;\n",
       "    }\n",
       "\n",
       "    .dataframe thead th {\n",
       "        text-align: right;\n",
       "    }\n",
       "</style>\n",
       "<table border=\"1\" class=\"dataframe\">\n",
       "  <thead>\n",
       "    <tr style=\"text-align: right;\">\n",
       "      <th></th>\n",
       "      <th>y</th>\n",
       "      <th>d</th>\n",
       "      <th>X_0</th>\n",
       "      <th>X_1</th>\n",
       "      <th>X_2</th>\n",
       "      <th>X_3</th>\n",
       "      <th>X_4</th>\n",
       "      <th>X_5</th>\n",
       "      <th>X_6</th>\n",
       "      <th>X_7</th>\n",
       "      <th>X_8</th>\n",
       "      <th>X_9</th>\n",
       "    </tr>\n",
       "  </thead>\n",
       "  <tbody>\n",
       "    <tr>\n",
       "      <th>0</th>\n",
       "      <td>1.992180</td>\n",
       "      <td>0.0</td>\n",
       "      <td>0.753313</td>\n",
       "      <td>0.716325</td>\n",
       "      <td>0.669385</td>\n",
       "      <td>0.476992</td>\n",
       "      <td>0.642278</td>\n",
       "      <td>0.038362</td>\n",
       "      <td>0.621464</td>\n",
       "      <td>0.777878</td>\n",
       "      <td>0.500358</td>\n",
       "      <td>0.357513</td>\n",
       "    </tr>\n",
       "    <tr>\n",
       "      <th>1</th>\n",
       "      <td>5.750041</td>\n",
       "      <td>1.0</td>\n",
       "      <td>0.277427</td>\n",
       "      <td>0.642802</td>\n",
       "      <td>0.692801</td>\n",
       "      <td>0.870968</td>\n",
       "      <td>0.342334</td>\n",
       "      <td>0.769772</td>\n",
       "      <td>0.561356</td>\n",
       "      <td>0.882836</td>\n",
       "      <td>0.527812</td>\n",
       "      <td>0.517630</td>\n",
       "    </tr>\n",
       "    <tr>\n",
       "      <th>2</th>\n",
       "      <td>6.101979</td>\n",
       "      <td>1.0</td>\n",
       "      <td>0.577877</td>\n",
       "      <td>0.749315</td>\n",
       "      <td>0.964690</td>\n",
       "      <td>0.073563</td>\n",
       "      <td>0.053435</td>\n",
       "      <td>0.937550</td>\n",
       "      <td>0.529876</td>\n",
       "      <td>0.614903</td>\n",
       "      <td>0.482424</td>\n",
       "      <td>0.093657</td>\n",
       "    </tr>\n",
       "    <tr>\n",
       "      <th>3</th>\n",
       "      <td>6.669092</td>\n",
       "      <td>1.0</td>\n",
       "      <td>0.768089</td>\n",
       "      <td>0.747225</td>\n",
       "      <td>0.311703</td>\n",
       "      <td>0.306239</td>\n",
       "      <td>0.837841</td>\n",
       "      <td>0.072357</td>\n",
       "      <td>0.881105</td>\n",
       "      <td>0.256662</td>\n",
       "      <td>0.592985</td>\n",
       "      <td>0.935994</td>\n",
       "    </tr>\n",
       "    <tr>\n",
       "      <th>4</th>\n",
       "      <td>6.141206</td>\n",
       "      <td>1.0</td>\n",
       "      <td>0.678123</td>\n",
       "      <td>0.414430</td>\n",
       "      <td>0.689534</td>\n",
       "      <td>0.343980</td>\n",
       "      <td>0.277258</td>\n",
       "      <td>0.996683</td>\n",
       "      <td>0.750790</td>\n",
       "      <td>0.644720</td>\n",
       "      <td>0.355290</td>\n",
       "      <td>0.049161</td>\n",
       "    </tr>\n",
       "  </tbody>\n",
       "</table>\n",
       "</div>"
      ],
      "text/plain": [
       "          y    d       X_0       X_1       X_2       X_3       X_4       X_5  \\\n",
       "0  1.992180  0.0  0.753313  0.716325  0.669385  0.476992  0.642278  0.038362   \n",
       "1  5.750041  1.0  0.277427  0.642802  0.692801  0.870968  0.342334  0.769772   \n",
       "2  6.101979  1.0  0.577877  0.749315  0.964690  0.073563  0.053435  0.937550   \n",
       "3  6.669092  1.0  0.768089  0.747225  0.311703  0.306239  0.837841  0.072357   \n",
       "4  6.141206  1.0  0.678123  0.414430  0.689534  0.343980  0.277258  0.996683   \n",
       "\n",
       "        X_6       X_7       X_8       X_9  \n",
       "0  0.621464  0.777878  0.500358  0.357513  \n",
       "1  0.561356  0.882836  0.527812  0.517630  \n",
       "2  0.529876  0.614903  0.482424  0.093657  \n",
       "3  0.881105  0.256662  0.592985  0.935994  \n",
       "4  0.750790  0.644720  0.355290  0.049161  "
      ]
     },
     "execution_count": 13,
     "metadata": {},
     "output_type": "execute_result"
    }
   ],
   "source": [
    "data_dict = make_heterogeneous_data(\n",
    "    n_obs=500,\n",
    "    p=10,\n",
    "    support_size=5,\n",
    "    n_x=1,\n",
    "    binary_treatment=True,\n",
    ")\n",
    "data = data_dict['data']\n",
    "data.head()"
   ]
  },
  {
   "cell_type": "markdown",
   "metadata": {},
   "source": [
    "The generated dictionary also contains the true individual effects saved in the key `effects`."
   ]
  },
  {
   "cell_type": "code",
   "execution_count": 14,
   "metadata": {},
   "outputs": [
    {
     "name": "stdout",
     "output_type": "stream",
     "text": [
      "[4.8954494  4.42839076 5.39038289 4.85433927 5.12975546]\n"
     ]
    }
   ],
   "source": [
    "ite = data_dict['effects']\n",
    "print(ite[:5])"
   ]
  },
  {
   "cell_type": "markdown",
   "metadata": {},
   "source": [
    "The goal is to estimate the average treatment effect for different groups based on the covariate $X_0$. The groups can be specified as [DataFrame](https://pandas.pydata.org/docs/reference/api/pandas.DataFrame.html) with boolean columns. We consider the following three groups"
   ]
  },
  {
   "cell_type": "code",
   "execution_count": 15,
   "metadata": {},
   "outputs": [
    {
     "name": "stdout",
     "output_type": "stream",
     "text": [
      "   Group 1  Group 2  Group 3\n",
      "0    False    False     True\n",
      "1     True    False    False\n",
      "2    False     True    False\n",
      "3    False    False     True\n",
      "4    False     True    False\n"
     ]
    }
   ],
   "source": [
    "groups = pd.DataFrame(\n",
    "    np.column_stack((data['X_0'] <= 0.3,\n",
    "                     (data['X_0'] > 0.3) & (data['X_0'] <= 0.7),\n",
    "                     data['X_0'] > 0.7)),\n",
    "    columns=['Group 1', 'Group 2', 'Group 3'])\n",
    "print(groups.head())"
   ]
  },
  {
   "cell_type": "markdown",
   "metadata": {},
   "source": [
    "The true effects (still including sampling uncertainty) are given by"
   ]
  },
  {
   "cell_type": "code",
   "execution_count": 16,
   "metadata": {},
   "outputs": [
    {
     "name": "stdout",
     "output_type": "stream",
     "text": [
      "[2.8833498812375438, 5.2395103148295785, 4.836236315301628]\n"
     ]
    }
   ],
   "source": [
    "true_effects = [ite[groups[group]].mean() for group in groups.columns]\n",
    "print(true_effects)"
   ]
  },
  {
   "cell_type": "markdown",
   "metadata": {},
   "source": [
    "## Interactive Regression Model (IRM)\n",
    "The first step is to fit a [DoubleML IRM Model](https://docs.doubleml.org/stable/guide/models.html#interactive-regression-model-irm) to the data."
   ]
  },
  {
   "cell_type": "code",
   "execution_count": 17,
   "metadata": {},
   "outputs": [],
   "source": [
    "data_dml_base = dml.DoubleMLData(\n",
    "    data,\n",
    "    y_col='y',\n",
    "    d_cols='d'\n",
    ")"
   ]
  },
  {
   "cell_type": "code",
   "execution_count": 18,
   "metadata": {},
   "outputs": [
    {
     "name": "stdout",
     "output_type": "stream",
     "text": [
      "Training PLR Model\n"
     ]
    },
    {
     "name": "stdout",
     "output_type": "stream",
     "text": [
      "       coef   std err          t  P>|t|     2.5 %    97.5 %\n",
      "d  4.164111  0.101867  40.877822    0.0  3.964455  4.363767\n"
     ]
    }
   ],
   "source": [
    "# First stage estimation\n",
    "from sklearn.ensemble import RandomForestClassifier, RandomForestRegressor\n",
    "ml_l = RandomForestRegressor(n_estimators=500)\n",
    "ml_m = RandomForestRegressor(n_estimators=500)\n",
    "\n",
    "np.random.seed(42)\n",
    "\n",
    "dml_plr = dml.DoubleMLPLR(data_dml_base,\n",
    "                          ml_l=ml_l,\n",
    "                          ml_m=ml_m,\n",
    "                          n_folds=5)\n",
    "print(\"Training PLR Model\")\n",
    "dml_plr.fit()\n",
    "\n",
    "print(dml_plr.summary)"
   ]
  },
  {
   "cell_type": "markdown",
   "metadata": {},
   "source": [
    "## Group Average Treatment Effects (GATEs)\n",
    "To calculate GATEs just call the ``gate()`` method and supply the DataFrame with the group definitions and the ``level`` (with default of ``0.95``). Remark that for straightforward interpretation of the GATEs the groups should be mutually exclusive."
   ]
  },
  {
   "cell_type": "code",
   "execution_count": 19,
   "metadata": {},
   "outputs": [
    {
     "name": "stdout",
     "output_type": "stream",
     "text": [
      "            2.5 %    effect    97.5 %\n",
      "Group 1  2.200768  2.471764  2.742760\n",
      "Group 2  4.940768  5.149974  5.359180\n",
      "Group 3  4.658253  4.901199  5.144145\n"
     ]
    }
   ],
   "source": [
    "gate = dml_plr.gate(groups=groups)\n",
    "print(gate.confint(level=0.95))"
   ]
  },
  {
   "cell_type": "markdown",
   "metadata": {},
   "source": [
    "The confidence intervals above are point-wise, but by setting the option ``joint`` and providing a number of bootstrap repetitions ``n_rep_boot``."
   ]
  },
  {
   "cell_type": "code",
   "execution_count": 20,
   "metadata": {},
   "outputs": [
    {
     "name": "stdout",
     "output_type": "stream",
     "text": [
      "            2.5 %    effect    97.5 %\n",
      "Group 1  1.959671  2.471764  2.983857\n",
      "Group 2  4.754643  5.149974  5.545304\n",
      "Group 3  4.442111  4.901199  5.360287\n"
     ]
    }
   ],
   "source": [
    "ci = gate.confint(level=0.95, joint=True, n_rep_boot=1000)\n",
    "print(ci)"
   ]
  },
  {
   "cell_type": "markdown",
   "metadata": {},
   "source": [
    "Finally, let us plot the estimates together with the true effect within each group."
   ]
  },
  {
   "cell_type": "code",
   "execution_count": 21,
   "metadata": {},
   "outputs": [
    {
     "data": {
      "image/png": "[encoded data removed]",
      "text/plain": [
       "<Figure size 1000x750 with 1 Axes>"
      ]
     },
     "metadata": {},
     "output_type": "display_data"
    }
   ],
   "source": [
    "import matplotlib.pyplot as plt\n",
    "plt.rcParams['figure.figsize'] = 10., 7.5\n",
    "\n",
    "errors = np.full((2, ci.shape[0]), np.nan)\n",
    "errors[0, :] = ci['effect'] - ci['2.5 %']\n",
    "errors[1, :] = ci['97.5 %'] - ci['effect']\n",
    "\n",
    "plt.errorbar(ci.index, ci.effect, fmt='o', yerr=errors, label='Estimated Effect (with joint CI)')\n",
    "\n",
    "#add true effect\n",
    "ax = plt.subplot(1, 1, 1)\n",
    "ax.scatter(x=['Group 1', 'Group 2', 'Group 3'], y=true_effects, c='red', label='True Effect')\n",
    "\n",
    "plt.title('GATEs')\n",
    "plt.xlabel('Groups')\n",
    "plt.legend()\n",
    "_ = plt.ylabel('Effect and 95%-CI')"
   ]
  },
  {
   "cell_type": "markdown",
   "metadata": {},
   "source": [
    "It is also possible to supply disjoint groups as a single vector (still as a data frame). Remark the slightly different name."
   ]
  },
  {
   "cell_type": "code",
   "execution_count": 22,
   "metadata": {},
   "outputs": [
    {
     "name": "stdout",
     "output_type": "stream",
     "text": [
      "  Group\n",
      "0     3\n",
      "1     1\n",
      "2     2\n",
      "3     3\n",
      "4     2\n"
     ]
    }
   ],
   "source": [
    "groups =  pd.DataFrame(columns=['Group'], index=range(data['X_0'].shape[0]), dtype=str)\n",
    "for i, x_i in enumerate(data['X_0']):\n",
    "    if x_i <= 0.3:\n",
    "         groups['Group'][i] = '1'\n",
    "    elif (x_i > 0.3) & (x_i <= 0.7):\n",
    "         groups['Group'][i] = '2'\n",
    "    else:\n",
    "         groups['Group'][i] = '3'\n",
    "\n",
    "print(groups.head())"
   ]
  },
  {
   "cell_type": "markdown",
   "metadata": {},
   "source": [
    "This time lets consider pointwise confidence intervals."
   ]
  },
  {
   "cell_type": "code",
   "execution_count": 23,
   "metadata": {},
   "outputs": [
    {
     "name": "stdout",
     "output_type": "stream",
     "text": [
      "            2.5 %    effect    97.5 %\n",
      "Group_1  2.200768  2.471764  2.742760\n",
      "Group_2  4.940768  5.149974  5.359180\n",
      "Group_3  4.658253  4.901199  5.144145\n"
     ]
    }
   ],
   "source": [
    "gate = dml_plr.gate(groups=groups)\n",
    "ci = gate.confint()\n",
    "print(ci)"
   ]
  },
  {
   "cell_type": "markdown",
   "metadata": {},
   "source": [
    "The coefficients of the best linear predictor can be seen via the summary (the values can be accessed through the underlying model ``.blp_model``)."
   ]
  },
  {
   "cell_type": "code",
   "execution_count": 24,
   "metadata": {},
   "outputs": [
    {
     "name": "stdout",
     "output_type": "stream",
     "text": [
      "             coef   std err          t          P>|t|    [0.025    0.975]\n",
      "Group_1  2.471764  0.121047  20.419915   9.452697e-68  2.233937  2.709590\n",
      "Group_2  5.149974  0.109978  46.827255  2.276040e-184  4.933894  5.366053\n",
      "Group_3  4.901199  0.147256  33.283486  1.354388e-128  4.611878  5.190520\n"
     ]
    }
   ],
   "source": [
    "print(gate.summary)"
   ]
  },
  {
   "cell_type": "markdown",
   "metadata": {},
   "source": [
    "Remark that the confidence intervals in the summary are slightly smaller, since they are not based on the White's heteroskedasticity robus standard errors."
   ]
  },
  {
   "cell_type": "code",
   "execution_count": 25,
   "metadata": {},
   "outputs": [
    {
     "data": {
      "image/png": "[encoded data removed]",
      "text/plain": [
       "<Figure size 1000x750 with 1 Axes>"
      ]
     },
     "metadata": {},
     "output_type": "display_data"
    }
   ],
   "source": [
    "errors = np.full((2, ci.shape[0]), np.nan)\n",
    "errors[0, :] = ci['effect'] - ci['2.5 %']\n",
    "errors[1, :] = ci['97.5 %'] - ci['effect']\n",
    "\n",
    "#add true effect\n",
    "ax = plt.subplot(1, 1, 1)\n",
    "ax.scatter(x=['Group_1', 'Group_2', 'Group_3'], y=true_effects, c='red', label='True Effect')\n",
    "\n",
    "plt.errorbar(ci.index, ci.effect, fmt='o', yerr=errors)\n",
    "plt.title('GATEs')\n",
    "plt.xlabel('Groups')\n",
    "_ =  plt.ylabel('Effect and 95%-CI')"
   ]
  }
 ],
 "metadata": {
  "kernelspec": {
   "display_name": "Python 3",
   "language": "python",
   "name": "python3"
  },
  "language_info": {
   "codemirror_mode": {
    "name": "ipython",
    "version": 3
   },
   "file_extension": ".py",
   "mimetype": "text/x-python",
   "name": "python",
   "nbconvert_exporter": "python",
   "pygments_lexer": "ipython3",
   "version": "3.11.2"
  }
 },
 "nbformat": 4,
 "nbformat_minor": 0
}
