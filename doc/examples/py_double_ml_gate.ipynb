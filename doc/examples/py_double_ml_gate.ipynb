{
 "cells": [
  {
   "attachments": {},
   "cell_type": "markdown",
   "metadata": {
    "collapsed": false
   },
   "source": [
    "# Python: Group Average Treatment Effects (GATEs) for IRM models\n",
    "\n",
    "In this simple example, we illustrate how the [DoubleML](https://docs.doubleml.org/stable/index.html) package can be used to estimate group average treatment effects in the [DoubleMLIRM](https://docs.doubleml.org/stable/guide/models.html#interactive-regression-model-irm) model."
   ]
  },
  {
   "cell_type": "code",
   "execution_count": 29,
   "metadata": {},
   "outputs": [],
   "source": [
    "import numpy as np\n",
    "import pandas as pd\n",
    "import doubleml as dml\n",
    "\n",
    "from doubleml.datasets import make_heterogeneous_data"
   ]
  },
  {
   "cell_type": "markdown",
   "metadata": {},
   "source": [
    "## Data\n",
    "\n",
    "We define a data generating process to create synthetic data to compare the estimates to the true effect. The data generating process is based on the Monte Carlo simulation from [Oprescu et al. (2019)](http://proceedings.mlr.press/v97/oprescu19a.html).\n",
    "\n",
    "The documentation of the data generating process can be found [here](https://docs.doubleml.org/dev/api/api.html#dataset-generators). In this example the true effect depends only the first covariate $X_0$ and takes the following form\n",
    "\n",
    "$$\n",
    "\\theta_0(X) = \\exp(2X_0) + 3\\sin(4X_0).\n",
    "$$"
   ]
  },
  {
   "cell_type": "code",
   "execution_count": 30,
   "metadata": {},
   "outputs": [
    {
     "name": "stdout",
     "output_type": "stream",
     "text": [
      "          y    d       X_0       X_1       X_2       X_3       X_4       X_5  \\\n",
      "0  6.114530  1.0  0.925248  0.180575  0.567945  0.915488  0.033946  0.697420   \n",
      "1  5.580922  1.0  0.474214  0.862043  0.844549  0.319100  0.828915  0.037008   \n",
      "2  1.278434  0.0  0.696289  0.339875  0.724767  0.065356  0.315290  0.539491   \n",
      "3  1.794805  0.0  0.615863  0.232959  0.024401  0.870099  0.021269  0.874702   \n",
      "4  6.178169  1.0  0.350712  0.767188  0.401931  0.479876  0.627505  0.873677   \n",
      "\n",
      "        X_6       X_7       X_8       X_9  \n",
      "0  0.297349  0.924396  0.971058  0.944266  \n",
      "1  0.596270  0.230009  0.120567  0.076953  \n",
      "2  0.790723  0.318753  0.625891  0.885978  \n",
      "3  0.528937  0.939068  0.798783  0.997934  \n",
      "4  0.984083  0.768273  0.417767  0.421357  \n"
     ]
    }
   ],
   "source": [
    "np.random.seed(42)\n",
    "data_dict = make_heterogeneous_data(\n",
    "    n_obs=500,\n",
    "    p=10,\n",
    "    support_size=5,\n",
    "    n_x=1,\n",
    "    binary_treatment=True,\n",
    ")\n",
    "data = data_dict['data']\n",
    "print(data.head())"
   ]
  },
  {
   "cell_type": "markdown",
   "metadata": {},
   "source": [
    "The generated dictionary also contains the true individual effects saved in the key `effects`."
   ]
  },
  {
   "cell_type": "code",
   "execution_count": 31,
   "metadata": {},
   "outputs": [
    {
     "name": "stdout",
     "output_type": "stream",
     "text": [
      "[4.770944   5.4235839  5.07202564 5.30917769 4.97441062]\n"
     ]
    }
   ],
   "source": [
    "ite = data_dict['effects']\n",
    "print(ite[:5])"
   ]
  },
  {
   "cell_type": "markdown",
   "metadata": {},
   "source": [
    "The goal is to estimate the average treatment effect for different groups based on the covariate $X_0$. The groups can be specified as [DataFrame](https://pandas.pydata.org/docs/reference/api/pandas.DataFrame.html) with boolean columns. We consider the following three groups"
   ]
  },
  {
   "cell_type": "code",
   "execution_count": 32,
   "metadata": {},
   "outputs": [
    {
     "name": "stdout",
     "output_type": "stream",
     "text": [
      "   Group 1  Group 2  Group 3\n",
      "0    False    False     True\n",
      "1    False     True    False\n",
      "2    False     True    False\n",
      "3    False     True    False\n",
      "4    False     True    False\n"
     ]
    }
   ],
   "source": [
    "groups = pd.DataFrame(\n",
    "    np.column_stack((data['X_0'] <= 0.3,\n",
    "                     (data['X_0'] > 0.3) & (data['X_0'] <= 0.7),\n",
    "                     data['X_0'] > 0.7)),\n",
    "    columns=['Group 1', 'Group 2', 'Group 3'])\n",
    "print(groups.head())"
   ]
  },
  {
   "cell_type": "markdown",
   "metadata": {},
   "source": [
    "The true effects (still including sampling uncertainty) are given by"
   ]
  },
  {
   "cell_type": "code",
   "execution_count": 33,
   "metadata": {},
   "outputs": [
    {
     "name": "stdout",
     "output_type": "stream",
     "text": [
      "[2.906716732639898, 5.223485956098176, 4.827938162750831]\n"
     ]
    }
   ],
   "source": [
    "true_effects = [ite[groups[group]].mean() for group in groups.columns]\n",
    "print(true_effects)"
   ]
  },
  {
   "cell_type": "markdown",
   "metadata": {},
   "source": [
    "## Interactive Regression Model (IRM)\n",
    "The first step is to fit a [DoubleML IRM Model](https://docs.doubleml.org/stable/guide/models.html#interactive-regression-model-irm) to the data."
   ]
  },
  {
   "cell_type": "code",
   "execution_count": 34,
   "metadata": {},
   "outputs": [],
   "source": [
    "data_dml_base = dml.DoubleMLData(\n",
    "    data,\n",
    "    y_col='y',\n",
    "    d_cols='d'\n",
    ")"
   ]
  },
  {
   "cell_type": "code",
   "execution_count": 35,
   "metadata": {},
   "outputs": [
    {
     "name": "stdout",
     "output_type": "stream",
     "text": [
      "Training PLR Model\n",
      "       coef   std err          t  P>|t|     2.5 %    97.5 %\n",
      "d  4.352519  0.097702  44.549049    0.0  4.161027  4.544011\n"
     ]
    }
   ],
   "source": [
    "# First stage estimation\n",
    "from sklearn.ensemble import RandomForestClassifier, RandomForestRegressor\n",
    "ml_l = RandomForestRegressor(n_estimators=500)\n",
    "ml_m = RandomForestRegressor(n_estimators=500)\n",
    "\n",
    "np.random.seed(42)\n",
    "\n",
    "dml_plr = dml.DoubleMLPLR(data_dml_base,\n",
    "                          ml_l=ml_l,\n",
    "                          ml_m=ml_m,\n",
    "                          n_folds=5)\n",
    "print(\"Training PLR Model\")\n",
    "dml_plr.fit()\n",
    "\n",
    "print(dml_plr.summary)"
   ]
  },
  {
   "cell_type": "markdown",
   "metadata": {},
   "source": [
    "## Group Average Treatment Effects (GATEs)\n",
    "To calculate GATEs just call the ``gate()`` method and supply the DataFrame with the group definitions and the ``level`` (with default of ``0.95``). Remark that for straightforward interpretation of the GATEs the groups should be mutually exclusive."
   ]
  },
  {
   "cell_type": "code",
   "execution_count": 36,
   "metadata": {},
   "outputs": [
    {
     "name": "stdout",
     "output_type": "stream",
     "text": [
      "            2.5 %    effect    97.5 %\n",
      "Group 1  2.434306  2.781513  3.128720\n",
      "Group 2  5.018284  5.221479  5.424674\n",
      "Group 3  4.427046  4.679951  4.932856\n"
     ]
    }
   ],
   "source": [
    "gate = dml_plr.gate(groups=groups)\n",
    "print(gate.confint(level=0.95))"
   ]
  },
  {
   "cell_type": "markdown",
   "metadata": {},
   "source": [
    "The confidence intervals above are point-wise, but by setting the option ``joint`` and providing a number of bootstrap repetitions ``n_rep_boot``."
   ]
  },
  {
   "cell_type": "code",
   "execution_count": 37,
   "metadata": {},
   "outputs": [
    {
     "name": "stdout",
     "output_type": "stream",
     "text": [
      "            2.5 %    effect    97.5 %\n",
      "Group 1  2.125406  2.781513  3.437621\n",
      "Group 2  4.837507  5.221479  5.605451\n",
      "Group 3  4.202043  4.679951  5.157859\n"
     ]
    }
   ],
   "source": [
    "ci = gate.confint(level=0.95, joint=True, n_rep_boot=1000)\n",
    "print(ci)"
   ]
  },
  {
   "cell_type": "markdown",
   "metadata": {},
   "source": [
    "Finally, let us plot the estimates together with the true effect within each group."
   ]
  },
  {
   "cell_type": "code",
   "execution_count": 38,
   "metadata": {},
   "outputs": [
    {
     "data": {
      "image/png": "[encoded data removed]",
      "text/plain": [
       "<Figure size 1000x750 with 1 Axes>"
      ]
     },
     "metadata": {},
     "output_type": "display_data"
    }
   ],
   "source": [
    "import matplotlib.pyplot as plt\n",
    "plt.rcParams['figure.figsize'] = 10., 7.5\n",
    "\n",
    "errors = np.full((2, ci.shape[0]), np.nan)\n",
    "errors[0, :] = ci['effect'] - ci['2.5 %']\n",
    "errors[1, :] = ci['97.5 %'] - ci['effect']\n",
    "\n",
    "plt.errorbar(ci.index, ci.effect, fmt='o', yerr=errors, label='Estimated Effect (with joint CI)')\n",
    "\n",
    "#add true effect\n",
    "ax = plt.subplot(1, 1, 1)\n",
    "ax.scatter(x=['Group 1', 'Group 2', 'Group 3'], y=true_effects, c='red', label='True Effect')\n",
    "\n",
    "plt.title('GATEs')\n",
    "plt.xlabel('Groups')\n",
    "plt.legend()\n",
    "_ = plt.ylabel('Effect and 95%-CI')"
   ]
  },
  {
   "cell_type": "markdown",
   "metadata": {},
   "source": [
    "It is also possible to supply disjoint groups as a single vector (still as a data frame). Remark the slightly different name."
   ]
  },
  {
   "cell_type": "code",
   "execution_count": 39,
   "metadata": {},
   "outputs": [
    {
     "name": "stdout",
     "output_type": "stream",
     "text": [
      "  Group\n",
      "0     3\n",
      "1     2\n",
      "2     2\n",
      "3     2\n",
      "4     2\n"
     ]
    }
   ],
   "source": [
    "groups =  pd.DataFrame(columns=['Group'], index=range(data['X_0'].shape[0]), dtype=str)\n",
    "for i, x_i in enumerate(data['X_0']):\n",
    "    if x_i <= 0.3:\n",
    "         groups['Group'][i] = '1'\n",
    "    elif (x_i > 0.3) & (x_i <= 0.7):\n",
    "         groups['Group'][i] = '2'\n",
    "    else:\n",
    "         groups['Group'][i] = '3'\n",
    "\n",
    "print(groups.head())"
   ]
  },
  {
   "cell_type": "markdown",
   "metadata": {},
   "source": [
    "This time lets consider pointwise confidence intervals."
   ]
  },
  {
   "cell_type": "code",
   "execution_count": 40,
   "metadata": {},
   "outputs": [
    {
     "name": "stdout",
     "output_type": "stream",
     "text": [
      "            2.5 %    effect    97.5 %\n",
      "Group_1  2.434306  2.781513  3.128720\n",
      "Group_2  5.018284  5.221479  5.424674\n",
      "Group_3  4.427046  4.679951  4.932856\n"
     ]
    }
   ],
   "source": [
    "gate = dml_plr.gate(groups=groups)\n",
    "ci = gate.confint()\n",
    "print(ci)"
   ]
  },
  {
   "cell_type": "markdown",
   "metadata": {},
   "source": [
    "The coefficients of the best linear predictor can be seen via the summary (the values can be accessed through the underlying model ``.blp_model``)."
   ]
  },
  {
   "cell_type": "code",
   "execution_count": 41,
   "metadata": {},
   "outputs": [
    {
     "name": "stdout",
     "output_type": "stream",
     "text": [
      "             coef   std err          t          P>|t|    [0.025    0.975]\n",
      "Group_1  2.781513  0.141741  19.623913   6.546859e-64  2.503028  3.059999\n",
      "Group_2  5.221479  0.116838  44.689855  3.231858e-176  4.991922  5.451037\n",
      "Group_3  4.679951  0.150056  31.187975  4.282587e-119  4.385128  4.974774\n"
     ]
    }
   ],
   "source": [
    "print(gate.summary)"
   ]
  },
  {
   "cell_type": "markdown",
   "metadata": {},
   "source": [
    "Remark that the confidence intervals in the summary are slightly smaller, since they are not based on the White's heteroskedasticity robus standard errors."
   ]
  },
  {
   "cell_type": "code",
   "execution_count": 42,
   "metadata": {},
   "outputs": [
    {
     "data": {
      "image/png": "[encoded data removed]",
      "text/plain": [
       "<Figure size 1000x750 with 1 Axes>"
      ]
     },
     "metadata": {},
     "output_type": "display_data"
    }
   ],
   "source": [
    "errors = np.full((2, ci.shape[0]), np.nan)\n",
    "errors[0, :] = ci['effect'] - ci['2.5 %']\n",
    "errors[1, :] = ci['97.5 %'] - ci['effect']\n",
    "\n",
    "#add true effect\n",
    "ax = plt.subplot(1, 1, 1)\n",
    "ax.scatter(x=['Group_1', 'Group_2', 'Group_3'], y=true_effects, c='red', label='True Effect')\n",
    "\n",
    "plt.errorbar(ci.index, ci.effect, fmt='o', yerr=errors)\n",
    "plt.title('GATEs')\n",
    "plt.xlabel('Groups')\n",
    "_ =  plt.ylabel('Effect and 95%-CI')"
   ]
  }
 ],
 "metadata": {
  "kernelspec": {
   "display_name": "Python 3",
   "language": "python",
   "name": "python3"
  },
  "language_info": {
   "codemirror_mode": {
    "name": "ipython",
    "version": 3
   },
   "file_extension": ".py",
   "mimetype": "text/x-python",
   "name": "python",
   "nbconvert_exporter": "python",
   "pygments_lexer": "ipython3",
   "version": "3.11.2"
  }
 },
 "nbformat": 4,
 "nbformat_minor": 0
}
