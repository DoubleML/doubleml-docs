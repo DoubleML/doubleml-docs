{
 "cells": [
  {
   "cell_type": "markdown",
   "metadata": {},
   "source": [
    "# Python: Group Average Treatment Effects (GATEs) for PLR models\n",
    "\n",
    "In this simple example, we illustrate how the [DoubleML](https://docs.doubleml.org/stable/index.html) package can be used to estimate group average treatment effects in the [DoubleMLPLR](https://docs.doubleml.org/stable/guide/models.html#partially-linear-regression-model-plr) model."
   ]
  },
  {
   "cell_type": "markdown",
   "metadata": {},
   "source": [
    "## Data\n",
    "\n",
    "Consider the following partially linear model\n",
    "\n",
    "$$\n",
    "\\begin{align*}\n",
    "Y &= \\theta(X) D + g(X) + \\varepsilon\\\\\n",
    "D &= m(X) + \\nu\n",
    "\\end{align*}\n",
    "$$\n",
    "\n",
    "with \n",
    "\n",
    "$$\n",
    "\\begin{align*}\n",
    "\\mathbb{E}[\\varepsilon|D, X] &= 0\\\\\n",
    "\\mathbb{E}[\\nu|X] &= 0.\n",
    "\\end{align*}\n",
    "$$\n",
    "\n",
    "The data will be generated with a simple data generating process to enable us to know the true group effects."
   ]
  },
  {
   "cell_type": "markdown",
   "metadata": {},
   "source": [
    "Here, we consider three different groups which depend on the first covariate, which could correspond to e.g. three different age groups in the sample.\n",
    "For simplicity, the treatment effect within each group is generated to be constant, such that the data generating process corresponds to the model.\n",
    "\n",
    "If the effect within each group would be heterogeneous, the model would estimate the average treatment effect within each group."
   ]
  },
  {
   "cell_type": "code",
   "execution_count": 1,
   "metadata": {},
   "outputs": [],
   "source": [
    "def group_effect(x):\n",
    "    if x[0] <= -0.7:\n",
    "        te = 3\n",
    "    elif (x[0] > -0.7) & (x[0] <= 0.2):\n",
    "        te = 1\n",
    "    else:\n",
    "        te = 0\n",
    "    return te"
   ]
  },
  {
   "cell_type": "markdown",
   "metadata": {},
   "source": [
    "Here the group effect are solely defined based on the first feature: \n",
    "\n",
    "$$\n",
    "\\theta(X):=\n",
    "\\begin{cases} \n",
    "3, \\text{ if } X_1 \\le -0.7\\\\\n",
    "1, \\text{ if } -0.7 <X_1 \\le 0.2\\\\\n",
    "0, \\text{ if } 0.2 < X_1\n",
    "\\end{cases}\n",
    "$$"
   ]
  },
  {
   "cell_type": "code",
   "execution_count": 2,
   "metadata": {},
   "outputs": [],
   "source": [
    "import numpy as np\n",
    "import pandas as pd\n",
    "import doubleml as dml"
   ]
  },
  {
   "cell_type": "code",
   "execution_count": 3,
   "metadata": {},
   "outputs": [],
   "source": [
    "def dgp(n, p, support_size):\n",
    "    X = np.random.uniform(-1, 1, size=(n,p))\n",
    "\n",
    "    support = np.random.choice(np.arange(p), size=support_size, replace=False)\n",
    "    coefs_D = np.random.uniform(0, 1, size=support_size)\n",
    "    coefs_Y = np.random.uniform(0, 1, size=support_size)\n",
    "\n",
    "    # Define the function to generate the noise\n",
    "    epsilon_sample = lambda n: np.random.uniform(-1, 1, size=n)\n",
    "\n",
    "    D = np.dot(X[:, support], coefs_D) + epsilon_sample(n)\n",
    "    theta_x = np.apply_along_axis(group_effect, axis=1, arr=X)\n",
    "    Y = theta_x * D + np.dot(X[:, support], coefs_Y) + epsilon_sample(n)\n",
    "    df = pd.DataFrame(X, columns=[f'X_{i}' for i in range(p)])\n",
    "    df['D'] = D\n",
    "    df['Y'] = Y\n",
    "    return df"
   ]
  },
  {
   "cell_type": "code",
   "execution_count": 4,
   "metadata": {},
   "outputs": [
    {
     "name": "stdout",
     "output_type": "stream",
     "text": [
      "================== DoubleMLData Object ==================\n",
      "\n",
      "------------------ Data summary      ------------------\n",
      "Outcome variable: Y\n",
      "Treatment variable(s): ['D']\n",
      "Covariates: ['X_0', 'X_1', 'X_2', 'X_3', 'X_4']\n",
      "Instrument variable(s): None\n",
      "No. Observations: 500\n",
      "\n",
      "------------------ DataFrame info    ------------------\n",
      "<class 'pandas.core.frame.DataFrame'>\n",
      "RangeIndex: 500 entries, 0 to 499\n",
      "Columns: 7 entries, X_0 to Y\n",
      "dtypes: float64(7)\n",
      "memory usage: 27.5 KB\n",
      "\n"
     ]
    }
   ],
   "source": [
    "n = 500\n",
    "p = 5\n",
    "support_size = 5\n",
    "\n",
    "df = dgp(n, p, support_size)\n",
    "dml_data = dml.DoubleMLData(df, y_col='Y', d_cols='D')\n",
    "print(dml_data)"
   ]
  },
  {
   "cell_type": "markdown",
   "metadata": {},
   "source": [
    "## Partially Linear Regression Model (PLR)\n",
    "The first step is to fit a [DoubleML PLR Model](https://docs.doubleml.org/stable/guide/models.html#partially-linear-regression-model-plr) to the data.\n",
    "This will estimate the average treatment effect."
   ]
  },
  {
   "cell_type": "code",
   "execution_count": 5,
   "metadata": {},
   "outputs": [
    {
     "name": "stdout",
     "output_type": "stream",
     "text": [
      "Training PLR Model\n",
      "       coef   std err          t         P>|t|     2.5 %    97.5 %\n",
      "D  0.925308  0.080305  11.522422  1.017117e-30  0.767913  1.082703\n"
     ]
    }
   ],
   "source": [
    "# First stage estimation\n",
    "from sklearn.ensemble import RandomForestRegressor\n",
    "rf_ml_l = RandomForestRegressor(n_estimators=500)\n",
    "rf_ml_m = RandomForestRegressor(n_estimators=500)\n",
    "\n",
    "np.random.seed(42)\n",
    "\n",
    "dml_plr = dml.DoubleMLPLR(dml_data,\n",
    "                          ml_l=rf_ml_l,\n",
    "                          ml_m=rf_ml_m,\n",
    "                          n_folds=5)\n",
    "print(\"Training PLR Model\")\n",
    "dml_plr.fit()\n",
    "\n",
    "print(dml_plr.summary)"
   ]
  },
  {
   "cell_type": "markdown",
   "metadata": {},
   "source": [
    "## Group Average Treatment Effects (GATEs)\n",
    "Next, we can specify the groups as [DataFrame](https://pandas.pydata.org/docs/reference/api/pandas.DataFrame.html) with boolean columns."
   ]
  },
  {
   "cell_type": "code",
   "execution_count": 7,
   "metadata": {},
   "outputs": [
    {
     "name": "stdout",
     "output_type": "stream",
     "text": [
      "   Group 1  Group 2  Group 3\n",
      "0    False     True    False\n",
      "1    False     True    False\n",
      "2    False     True    False\n",
      "3    False     True    False\n",
      "4     True    False    False\n"
     ]
    }
   ],
   "source": [
    "groups = pd.DataFrame(\n",
    "    np.column_stack([df['X_0'] <= -0.7,\n",
    "                     (df['X_0'] > -0.7) & (df['X_0'] <= 0.2),\n",
    "                     df['X_0'] > 0.2]),\n",
    "    columns=['Group 1', 'Group 2', 'Group 3'])\n",
    "print(groups.head())"
   ]
  },
  {
   "cell_type": "markdown",
   "metadata": {},
   "source": [
    "To calculate GATEs just call the ``gate()`` method and supply the DataFrame with the group definitions and the ``level`` (with default of ``0.95``)."
   ]
  },
  {
   "cell_type": "code",
   "execution_count": 8,
   "metadata": {},
   "outputs": [
    {
     "name": "stdout",
     "output_type": "stream",
     "text": [
      "            2.5 %    effect    97.5 %\n",
      "Group 1  2.598868  2.970404  3.341940\n",
      "Group 2  0.829584  0.967269  1.104954\n",
      "Group 3 -0.075318  0.069070  0.213458\n"
     ]
    }
   ],
   "source": [
    "gate = dml_plr.gate(groups=groups)\n",
    "print(gate.confint(level=0.95))"
   ]
  },
  {
   "cell_type": "markdown",
   "metadata": {},
   "source": [
    "The confidence intervals above are point-wise, but by setting the option ``joint`` and providing a number of bootstrap repetitions ``n_rep_boot``."
   ]
  },
  {
   "cell_type": "code",
   "execution_count": 9,
   "metadata": {},
   "outputs": [
    {
     "name": "stdout",
     "output_type": "stream",
     "text": [
      "            2.5 %    effect    97.5 %\n",
      "Group 1  2.268323  2.970404  3.672485\n",
      "Group 2  0.707089  0.967269  1.227448\n",
      "Group 3 -0.203776  0.069070  0.341916\n"
     ]
    }
   ],
   "source": [
    "ci = gate.confint(level=0.95, joint=True, n_rep_boot=1000)\n",
    "print(ci)"
   ]
  },
  {
   "cell_type": "markdown",
   "metadata": {},
   "source": [
    "Finally, let us plot the estimates together with the true effect within each group."
   ]
  },
  {
   "cell_type": "code",
   "execution_count": 10,
   "metadata": {},
   "outputs": [
    {
     "data": {
      "image/png": "[encoded data removed]",
      "text/plain": [
       "<Figure size 1000x750 with 1 Axes>"
      ]
     },
     "metadata": {},
     "output_type": "display_data"
    }
   ],
   "source": [
    "import matplotlib.pyplot as plt\n",
    "plt.rcParams['figure.figsize'] = 10., 7.5\n",
    "\n",
    "errors = np.full((2, ci.shape[0]), np.nan)\n",
    "errors[0, :] = ci['effect'] - ci['2.5 %']\n",
    "errors[1, :] = ci['97.5 %'] - ci['effect']\n",
    "\n",
    "plt.errorbar(ci.index, ci.effect, fmt='o', yerr=errors, label='Estimated Effect (with joint CI)')\n",
    "\n",
    "#add true effect\n",
    "ax = plt.subplot(1, 1, 1)\n",
    "ax.scatter(x=['Group 1', 'Group 2', 'Group 3'], y=[3, 1, 0], c='red', label='True Effect')\n",
    "\n",
    "plt.title('GATEs')\n",
    "plt.xlabel('Groups')\n",
    "plt.legend()\n",
    "_ = plt.ylabel('Effect and 95%-CI')"
   ]
  },
  {
   "cell_type": "markdown",
   "metadata": {},
   "source": [
    "It is also possible to supply disjoint groups as a single vector (still as a data frame). Remark the slightly different name."
   ]
  },
  {
   "cell_type": "code",
   "execution_count": 11,
   "metadata": {},
   "outputs": [
    {
     "name": "stdout",
     "output_type": "stream",
     "text": [
      "  Group\n",
      "0     2\n",
      "1     2\n",
      "2     2\n",
      "3     2\n",
      "4     1\n"
     ]
    }
   ],
   "source": [
    "groups =  pd.DataFrame(columns=['Group'], index=range(df['X_0'].shape[0]), dtype=str)\n",
    "for i, x_i in enumerate(df['X_0']):\n",
    "    if x_i <= -0.7:\n",
    "         groups['Group'][i] = '1'\n",
    "    elif (x_i > -0.7) & (x_i <= 0.2):\n",
    "         groups['Group'][i] = '2'\n",
    "    else:\n",
    "         groups['Group'][i] = '3'\n",
    "\n",
    "print(groups.head())"
   ]
  },
  {
   "cell_type": "code",
   "execution_count": 13,
   "metadata": {},
   "outputs": [
    {
     "name": "stdout",
     "output_type": "stream",
     "text": [
      "            2.5 %    effect    97.5 %\n",
      "Group_1  2.598868  2.970404  3.341940\n",
      "Group_2  0.829584  0.967269  1.104954\n",
      "Group_3 -0.075318  0.069070  0.213458\n"
     ]
    }
   ],
   "source": [
    "gate = dml_plr.gate(groups=groups)\n",
    "ci = gate.confint()\n",
    "print(ci)"
   ]
  },
  {
   "cell_type": "markdown",
   "metadata": {},
   "source": [
    "The coefficients of the best linear predictor can be seen via the summary (the values can be accessed through the underlying model ``.blp_model``)."
   ]
  },
  {
   "cell_type": "code",
   "execution_count": 14,
   "metadata": {},
   "outputs": [
    {
     "name": "stdout",
     "output_type": "stream",
     "text": [
      "             coef   std err          t         P>|t|    [0.025    0.975]\n",
      "Group_1  2.970404  0.140982  21.069408  6.798647e-71  2.693410  3.247398\n",
      "Group_2  0.967269  0.081744  11.832961  1.236484e-28  0.806663  1.127875\n",
      "Group_3  0.069070  0.088560   0.779920  4.358090e-01 -0.104929  0.243069\n"
     ]
    }
   ],
   "source": [
    "print(gate.summary)"
   ]
  },
  {
   "cell_type": "markdown",
   "metadata": {},
   "source": [
    "Remark that the confidence intervals are slightly smaller, since they are not based on the White's heteroskedasticity robus standard errors."
   ]
  },
  {
   "cell_type": "code",
   "execution_count": 15,
   "metadata": {},
   "outputs": [
    {
     "data": {
      "image/png": "[encoded data removed]",
      "text/plain": [
       "<Figure size 1000x750 with 1 Axes>"
      ]
     },
     "metadata": {},
     "output_type": "display_data"
    }
   ],
   "source": [
    "errors = np.full((2, ci.shape[0]), np.nan)\n",
    "errors[0, :] = ci['effect'] - ci['2.5 %']\n",
    "errors[1, :] = ci['97.5 %'] - ci['effect']\n",
    "\n",
    "#add true effect\n",
    "ax = plt.subplot(1, 1, 1)\n",
    "ax.scatter(x=['Group_1', 'Group_2', 'Group_3'], y=[3, 1, 0], c='red', label='True Effect')\n",
    "\n",
    "plt.errorbar(ci.index, ci.effect, fmt='o', yerr=errors)\n",
    "plt.title('GATEs')\n",
    "plt.xlabel('Groups')\n",
    "_ =  plt.ylabel('Effect and 95%-CI')"
   ]
  }
 ],
 "metadata": {
  "kernelspec": {
   "display_name": "dml_dev",
   "language": "python",
   "name": "python3"
  },
  "language_info": {
   "codemirror_mode": {
    "name": "ipython",
    "version": 3
   },
   "file_extension": ".py",
   "mimetype": "text/x-python",
   "name": "python",
   "nbconvert_exporter": "python",
   "pygments_lexer": "ipython3",
   "version": "3.11.2"
  }
 },
 "nbformat": 4,
 "nbformat_minor": 2
}
