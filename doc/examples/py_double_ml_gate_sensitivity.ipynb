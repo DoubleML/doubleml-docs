{
 "cells": [
  {
   "cell_type": "markdown",
   "metadata": {},
   "source": [
    "# Python: GATE Sensitivity Analysis\n",
    "\n",
    "In this simple example, we illustrate how the [DoubleML](https://docs.doubleml.org/stable/index.html) package can be used to perfrom a sensitivity analysis for group average treatment effects in the [DoubleMLIRM](https://docs.doubleml.org/stable/guide/models.html#interactive-regression-model-irm) model.\n"
   ]
  },
  {
   "cell_type": "markdown",
   "metadata": {},
   "source": [
    "## Data"
   ]
  },
  {
   "cell_type": "code",
   "execution_count": 75,
   "metadata": {},
   "outputs": [],
   "source": [
    "import numpy as np\n",
    "import pandas as pd\n",
    "import doubleml as dml\n",
    "\n",
    "from doubleml.datasets import make_heterogeneous_data\n",
    "from lightgbm import LGBMRegressor, LGBMClassifier\n",
    "from sklearn.ensemble import RandomForestRegressor, RandomForestClassifier\n",
    "from sklearn.linear_model import Lasso, LogisticRegression\n",
    "\n",
    "from sklearn.isotonic import IsotonicRegression\n",
    "from sklearn.base import clone"
   ]
  },
  {
   "cell_type": "code",
   "execution_count": 76,
   "metadata": {},
   "outputs": [],
   "source": [
    "n_obs = 10000\n",
    "p = 5\n",
    "\n",
    "data_dict = make_heterogeneous_data(n_obs, p, binary_treatment=True, n_x=2)\n",
    "data = data_dict['data']\n",
    "# add random covariate\n",
    "data['Z'] = np.random.normal(size=(n_obs, 1))\n",
    "ite = data_dict['effects']\n",
    "\n",
    "group = data['X_0'] >= 0.6"
   ]
  },
  {
   "cell_type": "code",
   "execution_count": 77,
   "metadata": {},
   "outputs": [
    {
     "data": {
      "text/plain": [
       "4.471158510805745"
      ]
     },
     "execution_count": 77,
     "metadata": {},
     "output_type": "execute_result"
    }
   ],
   "source": [
    "ite.mean()"
   ]
  },
  {
   "cell_type": "code",
   "execution_count": 78,
   "metadata": {},
   "outputs": [
    {
     "name": "stdout",
     "output_type": "stream",
     "text": [
      "================== DoubleMLData Object ==================\n",
      "\n",
      "------------------ Data summary      ------------------\n",
      "Outcome variable: y\n",
      "Treatment variable(s): ['d']\n",
      "Covariates: ['X_0', 'X_1', 'X_2', 'X_3', 'X_4', 'Z']\n",
      "Instrument variable(s): None\n",
      "No. Observations: 10000\n",
      "\n",
      "------------------ DataFrame info    ------------------\n",
      "<class 'pandas.core.frame.DataFrame'>\n",
      "RangeIndex: 10000 entries, 0 to 9999\n",
      "Columns: 8 entries, y to Z\n",
      "dtypes: float64(8)\n",
      "memory usage: 625.1 KB\n",
      "\n"
     ]
    }
   ],
   "source": [
    "dml_data = dml.DoubleMLData(data, 'y', 'd')\n",
    "print(dml_data)"
   ]
  },
  {
   "cell_type": "code",
   "execution_count": 79,
   "metadata": {},
   "outputs": [],
   "source": [
    "ml_g = LGBMRegressor()\n",
    "ml_m = LGBMClassifier()\n",
    "\n",
    "#ml_g = RandomForestRegressor()\n",
    "#ml_m = RandomForestClassifier()\n",
    "\n",
    "#ml_g = Lasso()\n",
    "#ml_m = LogisticRegression()"
   ]
  },
  {
   "cell_type": "code",
   "execution_count": 80,
   "metadata": {},
   "outputs": [],
   "source": [
    "threshold = 0.05\n",
    "benchmarking_variable = 'Z'\n",
    "#benchmarking_variable = 'X_4'"
   ]
  },
  {
   "cell_type": "markdown",
   "metadata": {},
   "source": [
    "## ATE estimation"
   ]
  },
  {
   "cell_type": "code",
   "execution_count": 81,
   "metadata": {},
   "outputs": [],
   "source": [
    "threshold = 0.05\n",
    "\n",
    "dml_irm_obj = dml.DoubleMLIRM(\n",
    "    dml_data,\n",
    "    ml_g,\n",
    "    ml_m,\n",
    "    n_folds=5,\n",
    "    n_rep=5,\n",
    "    trimming_threshold=threshold, \n",
    "    weights=None)"
   ]
  },
  {
   "cell_type": "code",
   "execution_count": 82,
   "metadata": {},
   "outputs": [
    {
     "name": "stdout",
     "output_type": "stream",
     "text": [
      "       coef   std err           t  P>|t|   2.5 %    97.5 %\n",
      "d  4.465126  0.027412  162.889346    0.0  4.4114  4.518853\n"
     ]
    }
   ],
   "source": [
    "dml_irm_obj.fit()\n",
    "print(dml_irm_obj.summary)"
   ]
  },
  {
   "cell_type": "code",
   "execution_count": 83,
   "metadata": {},
   "outputs": [
    {
     "name": "stdout",
     "output_type": "stream",
     "text": [
      "================== Sensitivity Analysis ==================\n",
      "\n",
      "------------------ Scenario          ------------------\n",
      "Significance Level: level=0.95\n",
      "Sensitivity parameters: cf_y=0.03; cf_d=0.03, rho=1.0\n",
      "\n",
      "------------------ Bounds with CI    ------------------\n",
      "   CI lower  theta lower     theta  theta upper  CI upper\n",
      "d  4.383087     4.428184  4.465126     4.502069  4.547158\n",
      "\n",
      "------------------ Robustness Values ------------------\n",
      "   H_0     RV (%)    RVa (%)\n",
      "d  0.0  93.524845  93.278662\n"
     ]
    }
   ],
   "source": [
    "dml_irm_obj.sensitivity_analysis()\n",
    "print(dml_irm_obj.sensitivity_summary)"
   ]
  },
  {
   "cell_type": "code",
   "execution_count": 84,
   "metadata": {},
   "outputs": [
    {
     "data": {
      "text/html": [
       "<div>\n",
       "<style scoped>\n",
       "    .dataframe tbody tr th:only-of-type {\n",
       "        vertical-align: middle;\n",
       "    }\n",
       "\n",
       "    .dataframe tbody tr th {\n",
       "        vertical-align: top;\n",
       "    }\n",
       "\n",
       "    .dataframe thead th {\n",
       "        text-align: right;\n",
       "    }\n",
       "</style>\n",
       "<table border=\"1\" class=\"dataframe\">\n",
       "  <thead>\n",
       "    <tr style=\"text-align: right;\">\n",
       "      <th></th>\n",
       "      <th>cf_y</th>\n",
       "      <th>cf_d</th>\n",
       "      <th>rho</th>\n",
       "      <th>delta_theta</th>\n",
       "    </tr>\n",
       "  </thead>\n",
       "  <tbody>\n",
       "    <tr>\n",
       "      <th>d</th>\n",
       "      <td>0.0</td>\n",
       "      <td>0.008838</td>\n",
       "      <td>1.0</td>\n",
       "      <td>0.00098</td>\n",
       "    </tr>\n",
       "  </tbody>\n",
       "</table>\n",
       "</div>"
      ],
      "text/plain": [
       "   cf_y      cf_d  rho  delta_theta\n",
       "d   0.0  0.008838  1.0      0.00098"
      ]
     },
     "execution_count": 84,
     "metadata": {},
     "output_type": "execute_result"
    }
   ],
   "source": [
    "dml_irm_obj.sensitivity_benchmark(benchmarking_set=[benchmarking_variable])"
   ]
  },
  {
   "cell_type": "code",
   "execution_count": 85,
   "metadata": {},
   "outputs": [],
   "source": [
    "ext_predictions = {\"d\": {}}\n",
    "ext_predictions[\"d\"][\"ml_m\"] = dml_irm_obj.predictions['ml_m'][:, :, 0]\n",
    "ext_predictions[\"d\"][\"ml_g0\"] = dml_irm_obj.predictions['ml_g0'][:, :, 0]\n",
    "ext_predictions[\"d\"][\"ml_g1\"] = dml_irm_obj.predictions['ml_g1'][:, :, 0]"
   ]
  },
  {
   "cell_type": "code",
   "execution_count": 86,
   "metadata": {},
   "outputs": [],
   "source": [
    "dml_irm_obj = dml.DoubleMLIRM(\n",
    "    dml_data,\n",
    "    ml_g,\n",
    "    ml_m,\n",
    "    n_folds=5,\n",
    "    n_rep=5,\n",
    "    trimming_threshold=threshold, \n",
    "    weights=None)"
   ]
  },
  {
   "cell_type": "markdown",
   "metadata": {},
   "source": [
    "calib_model = IsotonicRegression(y_min=threshold, y_max=1-threshold)\n",
    "outcome_d = dml_irm_obj._dml_data._d\n",
    "\n",
    "calib_ml_m = np.full_like(pred_ml_m, np.nan)\n",
    "for i in range(pred_ml_m.shape[1]):\n",
    "    model = clone(calib_model)\n",
    "    model.fit(pred_ml_m[:, i], outcome_d)\n",
    "    calib_ml_m[:, i] = model.predict(pred_ml_m[:, i])\n",
    "\n",
    "ext_predictions[\"d\"][\"ml_m\"] = calib_ml_m"
   ]
  },
  {
   "cell_type": "code",
   "execution_count": 87,
   "metadata": {},
   "outputs": [
    {
     "name": "stdout",
     "output_type": "stream",
     "text": [
      "       coef   std err           t  P>|t|   2.5 %    97.5 %\n",
      "d  4.465126  0.027412  162.889346    0.0  4.4114  4.518853\n"
     ]
    }
   ],
   "source": [
    "dml_irm_obj.fit(external_predictions=ext_predictions)\n",
    "print(dml_irm_obj.summary)"
   ]
  },
  {
   "cell_type": "code",
   "execution_count": 88,
   "metadata": {},
   "outputs": [
    {
     "name": "stdout",
     "output_type": "stream",
     "text": [
      "================== Sensitivity Analysis ==================\n",
      "\n",
      "------------------ Scenario          ------------------\n",
      "Significance Level: level=0.95\n",
      "Sensitivity parameters: cf_y=0.03; cf_d=0.03, rho=1.0\n",
      "\n",
      "------------------ Bounds with CI    ------------------\n",
      "   CI lower  theta lower     theta  theta upper  CI upper\n",
      "d  4.383087     4.428184  4.465126     4.502069  4.547158\n",
      "\n",
      "------------------ Robustness Values ------------------\n",
      "   H_0     RV (%)    RVa (%)\n",
      "d  0.0  93.524845  93.278662\n"
     ]
    }
   ],
   "source": [
    "dml_irm_obj.sensitivity_analysis()\n",
    "print(dml_irm_obj.sensitivity_summary)"
   ]
  },
  {
   "cell_type": "code",
   "execution_count": 89,
   "metadata": {},
   "outputs": [
    {
     "data": {
      "text/html": [
       "<div>\n",
       "<style scoped>\n",
       "    .dataframe tbody tr th:only-of-type {\n",
       "        vertical-align: middle;\n",
       "    }\n",
       "\n",
       "    .dataframe tbody tr th {\n",
       "        vertical-align: top;\n",
       "    }\n",
       "\n",
       "    .dataframe thead th {\n",
       "        text-align: right;\n",
       "    }\n",
       "</style>\n",
       "<table border=\"1\" class=\"dataframe\">\n",
       "  <thead>\n",
       "    <tr style=\"text-align: right;\">\n",
       "      <th></th>\n",
       "      <th>cf_y</th>\n",
       "      <th>cf_d</th>\n",
       "      <th>rho</th>\n",
       "      <th>delta_theta</th>\n",
       "    </tr>\n",
       "  </thead>\n",
       "  <tbody>\n",
       "    <tr>\n",
       "      <th>d</th>\n",
       "      <td>0.0</td>\n",
       "      <td>0.001088</td>\n",
       "      <td>1.0</td>\n",
       "      <td>0.003704</td>\n",
       "    </tr>\n",
       "  </tbody>\n",
       "</table>\n",
       "</div>"
      ],
      "text/plain": [
       "   cf_y      cf_d  rho  delta_theta\n",
       "d   0.0  0.001088  1.0     0.003704"
      ]
     },
     "execution_count": 89,
     "metadata": {},
     "output_type": "execute_result"
    }
   ],
   "source": [
    "dml_irm_obj.sensitivity_benchmark(benchmarking_set=[benchmarking_variable])"
   ]
  },
  {
   "cell_type": "markdown",
   "metadata": {},
   "source": [
    "## GATE estimation"
   ]
  },
  {
   "cell_type": "code",
   "execution_count": 90,
   "metadata": {},
   "outputs": [
    {
     "name": "stdout",
     "output_type": "stream",
     "text": [
      "6.322531621471547\n"
     ]
    }
   ],
   "source": [
    "true_group_effect = ite[group].mean()\n",
    "print(true_group_effect)"
   ]
  },
  {
   "cell_type": "code",
   "execution_count": 91,
   "metadata": {},
   "outputs": [
    {
     "name": "stdout",
     "output_type": "stream",
     "text": [
      "[0.         0.         0.         ... 2.48756219 2.48756219 0.        ]\n"
     ]
    }
   ],
   "source": [
    "weights = group.to_numpy() / group.mean()\n",
    "print(weights)"
   ]
  },
  {
   "cell_type": "code",
   "execution_count": 92,
   "metadata": {},
   "outputs": [],
   "source": [
    "dml_irm_obj = dml.DoubleMLIRM(\n",
    "    dml_data,\n",
    "    ml_g,\n",
    "    ml_m,\n",
    "    n_folds=5,\n",
    "    n_rep=5,\n",
    "    trimming_threshold=threshold, \n",
    "    weights=weights)"
   ]
  },
  {
   "cell_type": "code",
   "execution_count": 93,
   "metadata": {},
   "outputs": [
    {
     "name": "stdout",
     "output_type": "stream",
     "text": [
      "       coef   std err          t  P>|t|     2.5 %   97.5 %\n",
      "d  6.295059  0.086007  73.192366    0.0  6.126489  6.46363\n"
     ]
    }
   ],
   "source": [
    "dml_irm_obj.fit(external_predictions=ext_predictions)\n",
    "print(dml_irm_obj.summary)"
   ]
  },
  {
   "cell_type": "code",
   "execution_count": 94,
   "metadata": {},
   "outputs": [
    {
     "data": {
      "text/html": [
       "<div>\n",
       "<style scoped>\n",
       "    .dataframe tbody tr th:only-of-type {\n",
       "        vertical-align: middle;\n",
       "    }\n",
       "\n",
       "    .dataframe tbody tr th {\n",
       "        vertical-align: top;\n",
       "    }\n",
       "\n",
       "    .dataframe thead th {\n",
       "        text-align: right;\n",
       "    }\n",
       "</style>\n",
       "<table border=\"1\" class=\"dataframe\">\n",
       "  <thead>\n",
       "    <tr style=\"text-align: right;\">\n",
       "      <th></th>\n",
       "      <th>cf_y</th>\n",
       "      <th>cf_d</th>\n",
       "      <th>rho</th>\n",
       "      <th>delta_theta</th>\n",
       "    </tr>\n",
       "  </thead>\n",
       "  <tbody>\n",
       "    <tr>\n",
       "      <th>d</th>\n",
       "      <td>0.0</td>\n",
       "      <td>0.011791</td>\n",
       "      <td>-1.0</td>\n",
       "      <td>-0.004441</td>\n",
       "    </tr>\n",
       "  </tbody>\n",
       "</table>\n",
       "</div>"
      ],
      "text/plain": [
       "   cf_y      cf_d  rho  delta_theta\n",
       "d   0.0  0.011791 -1.0    -0.004441"
      ]
     },
     "execution_count": 94,
     "metadata": {},
     "output_type": "execute_result"
    }
   ],
   "source": [
    "dml_irm_obj.sensitivity_benchmark(benchmarking_set=[benchmarking_variable])"
   ]
  },
  {
   "cell_type": "code",
   "execution_count": 95,
   "metadata": {},
   "outputs": [
    {
     "name": "stdout",
     "output_type": "stream",
     "text": [
      "================== Sensitivity Analysis ==================\n",
      "\n",
      "------------------ Scenario          ------------------\n",
      "Significance Level: level=0.95\n",
      "Sensitivity parameters: cf_y=0.03; cf_d=0.03, rho=1.0\n",
      "\n",
      "------------------ Bounds with CI    ------------------\n",
      "   CI lower  theta lower     theta  theta upper  CI upper\n",
      "d  6.094266     6.236329  6.295059      6.35379  6.494681\n",
      "\n",
      "------------------ Robustness Values ------------------\n",
      "   H_0     RV (%)    RVa (%)\n",
      "d  0.0  92.055234  91.480086\n"
     ]
    }
   ],
   "source": [
    "dml_irm_obj.sensitivity_analysis()\n",
    "print(dml_irm_obj.sensitivity_summary)"
   ]
  },
  {
   "cell_type": "markdown",
   "metadata": {},
   "source": [
    "## GATE ATTE"
   ]
  },
  {
   "cell_type": "code",
   "execution_count": 96,
   "metadata": {},
   "outputs": [
    {
     "name": "stdout",
     "output_type": "stream",
     "text": [
      "6.302728138378982\n"
     ]
    }
   ],
   "source": [
    "group_atte = (data['d'] == 1) * group\n",
    "print(ite[group_atte].mean())"
   ]
  },
  {
   "cell_type": "code",
   "execution_count": 97,
   "metadata": {},
   "outputs": [],
   "source": [
    "weights_atte = group_atte.to_numpy() / group_atte.mean()\n",
    "m_0 = ext_predictions[\"d\"][\"ml_m\"]\n",
    "\n",
    "weights_bar_atte =  group.to_numpy().reshape(-1,1) * m_0 / group_atte.mean()\n",
    "weight_dict = {'weights': weights_atte, 'weights_bar': weights_bar_atte}"
   ]
  },
  {
   "cell_type": "code",
   "execution_count": 98,
   "metadata": {},
   "outputs": [],
   "source": [
    "dml_irm_obj_atte = dml.DoubleMLIRM(\n",
    "    dml_data,\n",
    "    ml_g,\n",
    "    ml_m,\n",
    "    n_folds=5,\n",
    "    n_rep=5,\n",
    "    trimming_threshold=threshold, \n",
    "    weights=weight_dict)"
   ]
  },
  {
   "cell_type": "code",
   "execution_count": 99,
   "metadata": {},
   "outputs": [
    {
     "name": "stdout",
     "output_type": "stream",
     "text": [
      "       coef   std err          t  P>|t|     2.5 %    97.5 %\n",
      "d  6.280159  0.115627  54.313975    0.0  6.053535  6.506784\n"
     ]
    }
   ],
   "source": [
    "dml_irm_obj_atte.fit(external_predictions=ext_predictions)\n",
    "print(dml_irm_obj_atte.summary)"
   ]
  },
  {
   "cell_type": "code",
   "execution_count": 100,
   "metadata": {},
   "outputs": [
    {
     "data": {
      "text/html": [
       "<div>\n",
       "<style scoped>\n",
       "    .dataframe tbody tr th:only-of-type {\n",
       "        vertical-align: middle;\n",
       "    }\n",
       "\n",
       "    .dataframe tbody tr th {\n",
       "        vertical-align: top;\n",
       "    }\n",
       "\n",
       "    .dataframe thead th {\n",
       "        text-align: right;\n",
       "    }\n",
       "</style>\n",
       "<table border=\"1\" class=\"dataframe\">\n",
       "  <thead>\n",
       "    <tr style=\"text-align: right;\">\n",
       "      <th></th>\n",
       "      <th>cf_y</th>\n",
       "      <th>cf_d</th>\n",
       "      <th>rho</th>\n",
       "      <th>delta_theta</th>\n",
       "    </tr>\n",
       "  </thead>\n",
       "  <tbody>\n",
       "    <tr>\n",
       "      <th>d</th>\n",
       "      <td>0.0</td>\n",
       "      <td>0.0</td>\n",
       "      <td>0.112033</td>\n",
       "      <td>0.006748</td>\n",
       "    </tr>\n",
       "  </tbody>\n",
       "</table>\n",
       "</div>"
      ],
      "text/plain": [
       "   cf_y  cf_d       rho  delta_theta\n",
       "d   0.0   0.0  0.112033     0.006748"
      ]
     },
     "execution_count": 100,
     "metadata": {},
     "output_type": "execute_result"
    }
   ],
   "source": [
    "dml_irm_obj_atte.sensitivity_benchmark(benchmarking_set=[benchmarking_variable])"
   ]
  },
  {
   "cell_type": "code",
   "execution_count": 101,
   "metadata": {},
   "outputs": [
    {
     "name": "stdout",
     "output_type": "stream",
     "text": [
      "================== Sensitivity Analysis ==================\n",
      "\n",
      "------------------ Scenario          ------------------\n",
      "Significance Level: level=0.95\n",
      "Sensitivity parameters: cf_y=0.03; cf_d=0.03, rho=1.0\n",
      "\n",
      "------------------ Bounds with CI    ------------------\n",
      "   CI lower  theta lower     theta  theta upper  CI upper\n",
      "d  6.032506     6.224768  6.280159      6.33555  6.523701\n",
      "\n",
      "------------------ Robustness Values ------------------\n",
      "   H_0     RV (%)    RVa (%)\n",
      "d  0.0  92.782454  91.612626\n"
     ]
    }
   ],
   "source": [
    "dml_irm_obj_atte.sensitivity_analysis()\n",
    "print(dml_irm_obj_atte.sensitivity_summary)"
   ]
  },
  {
   "cell_type": "markdown",
   "metadata": {},
   "source": [
    "## Benchmarking GATE ATTE\n",
    "\n",
    "Problem is that usually, we would like to fit\n",
    "\n",
    "$$\\bar{\\omega}_{short}(D,X_{long}) = \\mathbb{E}[\\omega(D,X_{long})|X_{short}],$$\n",
    "\n",
    "for $X_{short}\\subset X_{long}$, but the implementation will rely on the weight definition of \n",
    "\n",
    "$$\\bar{\\omega}_{short}(D,X_{long}) = \\bar{\\omega}(D,X_{long}) = \\mathbb{E}[\\omega(D,X_{long})|X_{long}].$$\n",
    "\n",
    "Due to the confounding in the propensity score, this might lead to biased estimates."
   ]
  },
  {
   "cell_type": "code",
   "execution_count": 102,
   "metadata": {},
   "outputs": [],
   "source": [
    "x_list_long = dml_irm_obj_atte._dml_data.x_cols\n",
    "x_list_short = [x for x in x_list_long if x != benchmarking_variable]"
   ]
  },
  {
   "cell_type": "code",
   "execution_count": 103,
   "metadata": {},
   "outputs": [],
   "source": [
    "learner_weights = clone(ml_m)\n",
    "X_short = data[x_list_short]\n",
    "learner_weights.fit(X_short, data['d'])\n",
    "\n",
    "weights_bar_atte_2 = group.to_numpy().reshape(-1,1) * learner_weights.predict_proba(X_short)[:,1].reshape(-1, 1) / group_atte.mean()\n",
    "weight_dict_short = {'weights': weights_atte, 'weights_bar': weights_bar_atte_2}"
   ]
  },
  {
   "cell_type": "code",
   "execution_count": 104,
   "metadata": {},
   "outputs": [],
   "source": [
    "dml_data_short = dml.DoubleMLData(data, 'y', 'd', x_cols=x_list_short)"
   ]
  },
  {
   "cell_type": "code",
   "execution_count": 105,
   "metadata": {},
   "outputs": [
    {
     "name": "stdout",
     "output_type": "stream",
     "text": [
      "       coef   std err          t  P>|t|    2.5 %    97.5 %\n",
      "d  6.275906  0.115092  54.529643    0.0  6.05033  6.501481\n"
     ]
    }
   ],
   "source": [
    "dml_irm_obj_short = dml.DoubleMLIRM(\n",
    "    dml_data_short,\n",
    "    ml_g,\n",
    "    ml_m,\n",
    "    n_folds=5,\n",
    "    n_rep=1,\n",
    "    trimming_threshold=threshold, \n",
    "    weights=weight_dict_short)\n",
    "\n",
    "dml_irm_obj_short.fit()\n",
    "print(dml_irm_obj_short.summary)"
   ]
  },
  {
   "cell_type": "code",
   "execution_count": 106,
   "metadata": {},
   "outputs": [],
   "source": [
    "dml_long = dml_irm_obj_atte\n",
    "dml_short = dml_irm_obj_short\n",
    "\n",
    "# save elements for readability\n",
    "var_y = np.var(dml_long._dml_data.y)\n",
    "var_y_residuals_long = np.squeeze(dml_long.sensitivity_elements['sigma2'], axis=0)\n",
    "nu2_long = np.squeeze(dml_long.sensitivity_elements['nu2'], axis=0)\n",
    "var_y_residuals_short = np.squeeze(dml_short.sensitivity_elements['sigma2'], axis=0)\n",
    "nu2_short = np.squeeze(dml_short.sensitivity_elements['nu2'], axis=0)\n",
    "\n",
    "# compute nonparametric R2\n",
    "R2_y_long = 1.0 - np.divide(var_y_residuals_long, var_y)\n",
    "R2_y_short = 1.0 - np.divide(var_y_residuals_short, var_y)\n",
    "R2_riesz = np.divide(nu2_short, nu2_long)"
   ]
  },
  {
   "cell_type": "code",
   "execution_count": 107,
   "metadata": {},
   "outputs": [],
   "source": [
    "# Gain statistics\n",
    "all_cf_y_benchmark = np.clip(np.divide((R2_y_long - R2_y_short), (1.0 - R2_y_long)), 0, 1)\n",
    "all_cf_d_benchmark = np.clip(np.divide((1.0 - R2_riesz), R2_riesz), 0, 1)\n",
    "cf_y_benchmark = np.median(all_cf_y_benchmark, axis=0)\n",
    "cf_d_benchmark = np.median(all_cf_d_benchmark, axis=0)"
   ]
  },
  {
   "cell_type": "code",
   "execution_count": 108,
   "metadata": {},
   "outputs": [
    {
     "name": "stdout",
     "output_type": "stream",
     "text": [
      "cf_y_benchmark: [0.00371926]\n",
      "cf_d_benchmark: [0.]\n"
     ]
    }
   ],
   "source": [
    "print(f'cf_y_benchmark: {cf_y_benchmark}')\n",
    "print(f'cf_d_benchmark: {cf_d_benchmark}')"
   ]
  }
 ],
 "metadata": {
  "kernelspec": {
   "display_name": "dml_dev",
   "language": "python",
   "name": "python3"
  },
  "language_info": {
   "codemirror_mode": {
    "name": "ipython",
    "version": 3
   },
   "file_extension": ".py",
   "mimetype": "text/x-python",
   "name": "python",
   "nbconvert_exporter": "python",
   "pygments_lexer": "ipython3",
   "version": "3.11.2"
  }
 },
 "nbformat": 4,
 "nbformat_minor": 2
}
