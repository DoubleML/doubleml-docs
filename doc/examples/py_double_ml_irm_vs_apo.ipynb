{
    "cells": [
        {
            "cell_type": "markdown",
            "metadata": {},
            "source": [
                "# Python: IRM and APO Model Comparison\n",
                "\n",
                "In this simple example, we illustrate how the (binary) [DoubleMLIRM](https://docs.doubleml.org/stable/guide/models.html#binary-interactive-regression-model-irm) class relates to the [DoubleMLAPOS](https://docs.doubleml.org/stable/guide/models.html#average-potential-outcomes-apos-for-multiple-treatment-levels) class.\n",
                "\n",
                "More specifically, we focus on the `causal_contrast()` method of [DoubleMLAPOS](https://docs.doubleml.org/stable/guide/models.html#average-potential-outcomes-apos-for-multiple-treatment-levels) in a binary setting to highlight, when both methods coincide."
            ]
        },
        {
            "cell_type": "code",
            "execution_count": 1,
            "metadata": {},
            "outputs": [],
            "source": [
                "import numpy as np\n",
                "import pandas as pd\n",
                "import doubleml as dml\n",
                "\n",
                "from sklearn.linear_model import LinearRegression, LogisticRegression\n",
                "from sklearn.preprocessing import PolynomialFeatures\n",
                "\n",
                "from matplotlib import pyplot as plt\n",
                "\n",
                "from doubleml.datasets import make_irm_data"
            ]
        },
        {
            "cell_type": "markdown",
            "metadata": {},
            "source": [
                "## Data\n",
                "\n",
                "We rely on the [make_irm_data](https://docs.doubleml.org/stable/api/generated/doubleml.datasets.make_irm_data.html) go generate data with a binary treatment."
            ]
        },
        {
            "cell_type": "code",
            "execution_count": 2,
            "metadata": {},
            "outputs": [
                {
                    "data": {
                        "text/html": [
                            "<div>\n",
                            "<style scoped>\n",
                            "    .dataframe tbody tr th:only-of-type {\n",
                            "        vertical-align: middle;\n",
                            "    }\n",
                            "\n",
                            "    .dataframe tbody tr th {\n",
                            "        vertical-align: top;\n",
                            "    }\n",
                            "\n",
                            "    .dataframe thead th {\n",
                            "        text-align: right;\n",
                            "    }\n",
                            "</style>\n",
                            "<table border=\"1\" class=\"dataframe\">\n",
                            "  <thead>\n",
                            "    <tr style=\"text-align: right;\">\n",
                            "      <th></th>\n",
                            "      <th>X1</th>\n",
                            "      <th>X2</th>\n",
                            "      <th>X3</th>\n",
                            "      <th>X4</th>\n",
                            "      <th>X5</th>\n",
                            "      <th>X6</th>\n",
                            "      <th>X7</th>\n",
                            "      <th>X8</th>\n",
                            "      <th>X9</th>\n",
                            "      <th>X10</th>\n",
                            "      <th>y</th>\n",
                            "      <th>d</th>\n",
                            "    </tr>\n",
                            "  </thead>\n",
                            "  <tbody>\n",
                            "    <tr>\n",
                            "      <th>0</th>\n",
                            "      <td>0.541060</td>\n",
                            "      <td>0.195963</td>\n",
                            "      <td>0.835750</td>\n",
                            "      <td>1.180271</td>\n",
                            "      <td>0.655959</td>\n",
                            "      <td>1.044239</td>\n",
                            "      <td>-1.214769</td>\n",
                            "      <td>-2.160836</td>\n",
                            "      <td>-2.196655</td>\n",
                            "      <td>-2.037529</td>\n",
                            "      <td>4.704558</td>\n",
                            "      <td>1.0</td>\n",
                            "    </tr>\n",
                            "    <tr>\n",
                            "      <th>1</th>\n",
                            "      <td>1.340235</td>\n",
                            "      <td>2.319420</td>\n",
                            "      <td>2.193375</td>\n",
                            "      <td>1.139508</td>\n",
                            "      <td>1.458814</td>\n",
                            "      <td>0.493195</td>\n",
                            "      <td>1.313870</td>\n",
                            "      <td>0.127337</td>\n",
                            "      <td>0.418400</td>\n",
                            "      <td>1.070433</td>\n",
                            "      <td>6.113952</td>\n",
                            "      <td>1.0</td>\n",
                            "    </tr>\n",
                            "    <tr>\n",
                            "      <th>2</th>\n",
                            "      <td>-0.563563</td>\n",
                            "      <td>-1.480199</td>\n",
                            "      <td>0.943548</td>\n",
                            "      <td>-0.400113</td>\n",
                            "      <td>0.757559</td>\n",
                            "      <td>0.131483</td>\n",
                            "      <td>-0.574160</td>\n",
                            "      <td>0.067212</td>\n",
                            "      <td>-0.427654</td>\n",
                            "      <td>-1.342117</td>\n",
                            "      <td>-0.226479</td>\n",
                            "      <td>0.0</td>\n",
                            "    </tr>\n",
                            "    <tr>\n",
                            "      <th>3</th>\n",
                            "      <td>-0.044176</td>\n",
                            "      <td>-2.122421</td>\n",
                            "      <td>-1.526582</td>\n",
                            "      <td>-1.892828</td>\n",
                            "      <td>-1.777867</td>\n",
                            "      <td>-1.425325</td>\n",
                            "      <td>0.020272</td>\n",
                            "      <td>0.487524</td>\n",
                            "      <td>-0.579197</td>\n",
                            "      <td>-0.752909</td>\n",
                            "      <td>0.367366</td>\n",
                            "      <td>0.0</td>\n",
                            "    </tr>\n",
                            "    <tr>\n",
                            "      <th>4</th>\n",
                            "      <td>-1.896263</td>\n",
                            "      <td>-1.198493</td>\n",
                            "      <td>-1.285483</td>\n",
                            "      <td>-1.361623</td>\n",
                            "      <td>-2.921778</td>\n",
                            "      <td>-2.026966</td>\n",
                            "      <td>-1.107156</td>\n",
                            "      <td>-0.498122</td>\n",
                            "      <td>0.568287</td>\n",
                            "      <td>1.004542</td>\n",
                            "      <td>0.913585</td>\n",
                            "      <td>0.0</td>\n",
                            "    </tr>\n",
                            "  </tbody>\n",
                            "</table>\n",
                            "</div>"
                        ],
                        "text/plain": [
                            "         X1        X2        X3        X4        X5        X6        X7  \\\n",
                            "0  0.541060  0.195963  0.835750  1.180271  0.655959  1.044239 -1.214769   \n",
                            "1  1.340235  2.319420  2.193375  1.139508  1.458814  0.493195  1.313870   \n",
                            "2 -0.563563 -1.480199  0.943548 -0.400113  0.757559  0.131483 -0.574160   \n",
                            "3 -0.044176 -2.122421 -1.526582 -1.892828 -1.777867 -1.425325  0.020272   \n",
                            "4 -1.896263 -1.198493 -1.285483 -1.361623 -2.921778 -2.026966 -1.107156   \n",
                            "\n",
                            "         X8        X9       X10         y    d  \n",
                            "0 -2.160836 -2.196655 -2.037529  4.704558  1.0  \n",
                            "1  0.127337  0.418400  1.070433  6.113952  1.0  \n",
                            "2  0.067212 -0.427654 -1.342117 -0.226479  0.0  \n",
                            "3  0.487524 -0.579197 -0.752909  0.367366  0.0  \n",
                            "4 -0.498122  0.568287  1.004542  0.913585  0.0  "
                        ]
                    },
                    "execution_count": 2,
                    "metadata": {},
                    "output_type": "execute_result"
                }
            ],
            "source": [
                "n_obs = 2000\n",
                "\n",
                "np.random.seed(42)\n",
                "df = make_irm_data(\n",
                "    n_obs=n_obs,\n",
                "    dim_x=10,\n",
                "    theta=5.0,\n",
                "    return_type='DataFrame'\n",
                ")\n",
                "\n",
                "df.head()"
            ]
        },
        {
            "cell_type": "markdown",
            "metadata": {},
            "source": [
                "First, define the ``DoubleMLData`` object."
            ]
        },
        {
            "cell_type": "code",
            "execution_count": 3,
            "metadata": {},
            "outputs": [],
            "source": [
                "dml_data = dml.DoubleMLData(\n",
                "    df,\n",
                "    y_col='y',\n",
                "    d_cols='d'\n",
                ")"
            ]
        },
        {
            "cell_type": "markdown",
            "metadata": {},
            "source": [
                "## Learners and Hyperparameters\n",
                "\n",
                "To simplify the comparison and keep the variation in learners as small as possible, we will use linear models."
            ]
        },
        {
            "cell_type": "code",
            "execution_count": 4,
            "metadata": {},
            "outputs": [],
            "source": [
                "n_folds = 5\n",
                "n_rep = 1\n",
                "\n",
                "dml_kwargs = {\n",
                "    \"obj_dml_data\": dml_data,\n",
                "    \"ml_g\": LinearRegression(),\n",
                "    \"ml_m\": LogisticRegression(random_state=42),\n",
                "    \"n_folds\": n_folds,\n",
                "    \"n_rep\": n_rep,\n",
                "    \"normalize_ipw\": True,\n",
                "    \"trimming_threshold\": 1e-2,\n",
                "    \"draw_sample_splitting\": False,\n",
                "}"
            ]
        },
        {
            "cell_type": "markdown",
            "metadata": {},
            "source": [
                "**Remark:**\n",
                "All results rely on the exact same predictions for the machine learning algorithms. If the more than two treatment levels exists the `DoubleMLAPOS` model fit multiple binary models such that the combined model might differ."
            ]
        },
        {
            "cell_type": "markdown",
            "metadata": {},
            "source": [
                "Further, to remove all uncertainty from sample splitting, we will rely on externally provided sample splits."
            ]
        },
        {
            "cell_type": "code",
            "execution_count": 5,
            "metadata": {},
            "outputs": [],
            "source": [
                "from doubleml.utils import DoubleMLResampling\n",
                "\n",
                "rskf = DoubleMLResampling(\n",
                "    n_folds=n_folds,\n",
                "    n_rep=n_rep,\n",
                "    n_obs=n_obs,\n",
                "    stratify=df['d'],\n",
                ")\n",
                "all_smpls = rskf.split_samples()"
            ]
        },
        {
            "cell_type": "markdown",
            "metadata": {},
            "source": [
                "## Average Treatment Effect\n",
                "\n",
                "Comparing the effect estimates for the `DoubleMLIRM` and `causal_contrasts` of the `DoubleMLAPOS` model, we can numerically equivalent results for the ATE."
            ]
        },
        {
            "cell_type": "code",
            "execution_count": 6,
            "metadata": {},
            "outputs": [
                {
                    "name": "stdout",
                    "output_type": "stream",
                    "text": [
                        "Training IRM Model\n",
                        "       coef   std err          t  P>|t|     2.5 %    97.5 %\n",
                        "d  5.002585  0.066201  75.566262    0.0  4.872833  5.132337\n"
                    ]
                }
            ],
            "source": [
                "dml_irm = dml.DoubleMLIRM(**dml_kwargs)\n",
                "dml_irm.set_sample_splitting(all_smpls)\n",
                "print(\"Training IRM Model\")\n",
                "dml_irm.fit()\n",
                "\n",
                "print(dml_irm.summary)"
            ]
        },
        {
            "cell_type": "code",
            "execution_count": 7,
            "metadata": {},
            "outputs": [
                {
                    "name": "stdout",
                    "output_type": "stream",
                    "text": [
                        "Training APOS Model\n",
                        "       coef   std err           t     P>|t|     2.5 %    97.5 %\n",
                        "0  0.037800  0.045201    0.836262  0.403008 -0.050793  0.126392\n",
                        "1  5.040385  0.048482  103.965037  0.000000  4.945363  5.135407\n",
                        "Evaluate Causal Contrast\n",
                        "            coef   std err          t  P>|t|     2.5 %    97.5 %\n",
                        "1 vs 0  5.002585  0.066201  75.566262    0.0  4.872833  5.132337\n"
                    ]
                }
            ],
            "source": [
                "dml_apos = dml.DoubleMLAPOS(treatment_levels=[0,1], **dml_kwargs)\n",
                "dml_apos.set_sample_splitting(all_smpls)\n",
                "print(\"Training APOS Model\")\n",
                "dml_apos.fit()\n",
                "print(dml_apos.summary)\n",
                "\n",
                "print(\"Evaluate Causal Contrast\")\n",
                "causal_contrast = dml_apos.causal_contrast(reference_levels=[0])\n",
                "print(causal_contrast.summary)"
            ]
        },
        {
            "cell_type": "markdown",
            "metadata": {},
            "source": [
                "For a direct comparison, see"
            ]
        },
        {
            "cell_type": "code",
            "execution_count": 8,
            "metadata": {},
            "outputs": [
                {
                    "name": "stdout",
                    "output_type": "stream",
                    "text": [
                        "IRM Model\n",
                        "       coef   std err          t  P>|t|     2.5 %    97.5 %\n",
                        "d  5.002585  0.066201  75.566262    0.0  4.872833  5.132337\n",
                        "Causal Contrast\n",
                        "            coef   std err          t  P>|t|     2.5 %    97.5 %\n",
                        "1 vs 0  5.002585  0.066201  75.566262    0.0  4.872833  5.132337\n"
                    ]
                }
            ],
            "source": [
                "print(\"IRM Model\")\n",
                "print(dml_irm.summary)\n",
                "print(\"Causal Contrast\")\n",
                "print(causal_contrast.summary)"
            ]
        },
        {
            "cell_type": "markdown",
            "metadata": {},
            "source": [
                "## Average Treatment Effect on the Treated\n",
                "\n",
                "For the average treatment effect on the treated we can adjust the score in `DoubleMLIRM` model to `score=\"ATTE\"`."
            ]
        },
        {
            "cell_type": "code",
            "execution_count": 9,
            "metadata": {},
            "outputs": [
                {
                    "name": "stdout",
                    "output_type": "stream",
                    "text": [
                        "Training IRM Model\n",
                        "       coef   std err          t  P>|t|     2.5 %    97.5 %\n",
                        "d  5.541136  0.082383  67.260366    0.0  5.379668  5.702605\n"
                    ]
                }
            ],
            "source": [
                "dml_irm_atte = dml.DoubleMLIRM(score=\"ATTE\", **dml_kwargs)\n",
                "dml_irm_atte.set_sample_splitting(all_smpls)\n",
                "print(\"Training IRM Model\")\n",
                "dml_irm_atte.fit()\n",
                "\n",
                "print(dml_irm_atte.summary)"
            ]
        },
        {
            "cell_type": "markdown",
            "metadata": {},
            "source": [
                "In order to consider weighted effects in the `DoubleMLAPOS` model, we have to specify the correct weight, see [User Guide](https://docs.doubleml.org/stable/guide/heterogeneity.html#weighted-average-treatment-effects).\n",
                "\n",
                "As these weights include the propensity score, we will use the predicted propensity score from the previous `DoubleMLIRM` model.\n"
            ]
        },
        {
            "cell_type": "code",
            "execution_count": 10,
            "metadata": {},
            "outputs": [
                {
                    "name": "stdout",
                    "output_type": "stream",
                    "text": [
                        "Training APOS Model\n",
                        "       coef   std err           t     P>|t|     2.5 %    97.5 %\n",
                        "0  0.044364  0.072137    0.615000  0.538555 -0.097022  0.185751\n",
                        "1  5.585498  0.040281  138.663329  0.000000  5.506548  5.664447\n",
                        "Evaluate Causal Contrast\n",
                        "            coef   std err          t  P>|t|     2.5 %    97.5 %\n",
                        "1 vs 0  5.541133  0.082736  66.974012    0.0  5.378975  5.703292\n"
                    ]
                }
            ],
            "source": [
                "p_hat = df[\"d\"].mean()\n",
                "m_hat = dml_irm_atte.predictions[\"ml_m\"][:, :, 0]\n",
                "\n",
                "weights_dict = {\n",
                "    \"weights\": df[\"d\"] / p_hat,\n",
                "    \"weights_bar\": m_hat / p_hat,\n",
                "}\n",
                "\n",
                "dml_apos_atte = dml.DoubleMLAPOS(treatment_levels=[0,1], weights=weights_dict, **dml_kwargs)\n",
                "dml_apos_atte.set_sample_splitting(all_smpls)\n",
                "print(\"Training APOS Model\")\n",
                "dml_apos_atte.fit()\n",
                "print(dml_apos_atte.summary)\n",
                "\n",
                "print(\"Evaluate Causal Contrast\")\n",
                "causal_contrast_atte = dml_apos_atte.causal_contrast(reference_levels=[0])\n",
                "print(causal_contrast_atte.summary)"
            ]
        },
        {
            "cell_type": "markdown",
            "metadata": {},
            "source": [
                "The same results can be achieved by specifying the weights for `DoubleMLIRM` class with `score='ATE'`."
            ]
        },
        {
            "cell_type": "code",
            "execution_count": 11,
            "metadata": {},
            "outputs": [
                {
                    "name": "stdout",
                    "output_type": "stream",
                    "text": [
                        "Training IRM Model\n",
                        "       coef   std err          t  P>|t|     2.5 %    97.5 %\n",
                        "d  5.541133  0.082736  66.974012    0.0  5.378975  5.703292\n"
                    ]
                }
            ],
            "source": [
                "dml_irm_weighted_atte = dml.DoubleMLIRM(score=\"ATE\", weights=weights_dict, **dml_kwargs)\n",
                "dml_irm_weighted_atte.set_sample_splitting(all_smpls)\n",
                "print(\"Training IRM Model\")\n",
                "dml_irm_weighted_atte.fit()\n",
                "\n",
                "print(dml_irm_weighted_atte.summary)"
            ]
        },
        {
            "cell_type": "markdown",
            "metadata": {},
            "source": [
                "In summary, see"
            ]
        },
        {
            "cell_type": "code",
            "execution_count": 12,
            "metadata": {},
            "outputs": [
                {
                    "name": "stdout",
                    "output_type": "stream",
                    "text": [
                        "IRM Model ATTE Score\n",
                        "     coef  std err        t  P>|t|   2.5 %  97.5 %\n",
                        "d  5.5411   0.0824  67.2604    0.0  5.3797  5.7026\n",
                        "IRM Model (Weighted)\n",
                        "     coef  std err       t  P>|t|  2.5 %  97.5 %\n",
                        "d  5.5411   0.0827  66.974    0.0  5.379  5.7033\n",
                        "Causal Contrast (Weighted)\n",
                        "          coef  std err       t  P>|t|  2.5 %  97.5 %\n",
                        "1 vs 0  5.5411   0.0827  66.974    0.0  5.379  5.7033\n"
                    ]
                }
            ],
            "source": [
                "print(\"IRM Model ATTE Score\")\n",
                "print(dml_irm_atte.summary.round(4))\n",
                "print(\"IRM Model (Weighted)\")\n",
                "print(dml_irm_weighted_atte.summary.round(4))\n",
                "print(\"Causal Contrast (Weighted)\")\n",
                "print(causal_contrast_atte.summary.round(4))"
            ]
        },
        {
            "cell_type": "markdown",
            "metadata": {},
            "source": [
                "## Sensitivity Analysis\n",
                "\n",
                "The sensitvity analysis gives identical results."
            ]
        },
        {
            "cell_type": "code",
            "execution_count": 13,
            "metadata": {},
            "outputs": [
                {
                    "name": "stdout",
                    "output_type": "stream",
                    "text": [
                        "================== Sensitivity Analysis ==================\n",
                        "\n",
                        "------------------ Scenario          ------------------\n",
                        "Significance Level: level=0.95\n",
                        "Sensitivity parameters: cf_y=0.03; cf_d=0.03, rho=1.0\n",
                        "\n",
                        "------------------ Bounds with CI    ------------------\n",
                        "   CI lower  theta lower     theta  theta upper  CI upper\n",
                        "d  4.770463     4.917327  5.002585     5.087842  5.221186\n",
                        "\n",
                        "------------------ Robustness Values ------------------\n",
                        "   H_0    RV (%)    RVa (%)\n",
                        "d  0.0  79.97688  57.230886\n"
                    ]
                }
            ],
            "source": [
                "dml_irm.sensitivity_analysis()\n",
                "print(dml_irm.sensitivity_summary)"
            ]
        },
        {
            "cell_type": "code",
            "execution_count": 14,
            "metadata": {},
            "outputs": [
                {
                    "name": "stdout",
                    "output_type": "stream",
                    "text": [
                        "================== Sensitivity Analysis ==================\n",
                        "\n",
                        "------------------ Scenario          ------------------\n",
                        "Significance Level: level=0.95\n",
                        "Sensitivity parameters: cf_y=0.03; cf_d=0.03, rho=1.0\n",
                        "\n",
                        "------------------ Bounds with CI    ------------------\n",
                        "        CI lower  theta lower     theta  theta upper  CI upper\n",
                        "1 vs 0  4.770463     4.917327  5.002585     5.087842  5.221186\n",
                        "\n",
                        "------------------ Robustness Values ------------------\n",
                        "        H_0    RV (%)    RVa (%)\n",
                        "1 vs 0  0.0  79.97688  57.230886\n"
                    ]
                }
            ],
            "source": [
                "causal_contrast.sensitivity_analysis()\n",
                "print(causal_contrast.sensitivity_summary)"
            ]
        },
        {
            "cell_type": "markdown",
            "metadata": {},
            "source": [
                "## Effect Heterogeneity\n",
                "\n",
                "For conditional treatment effects the exact same methods do not exist.\n",
                "Nevertheless, we will compare the `capo()` variant of the `DoubleMLAPO` class to the corresponding `cate()` method of the `DoubleMLIRM` class.\n",
                "\n",
                "For a simple case we will just use a polynomial basis of the first feature `X1`. To plot the data we will evaluate the methods on the corresponding grid of basis values."
            ]
        },
        {
            "cell_type": "code",
            "execution_count": 15,
            "metadata": {},
            "outputs": [],
            "source": [
                "X = df[[\"X1\"]]\n",
                "poly = PolynomialFeatures(degree=2, include_bias=True)\n",
                "\n",
                "basis_matrix = poly.fit_transform(X)\n",
                "basis_df = pd.DataFrame(basis_matrix, columns=poly.get_feature_names_out([\"X1\"]))\n",
                "\n",
                "grid = pd.DataFrame({\"X1\": np.linspace(np.quantile(df[\"X1\"], 0.1), np.quantile(df[\"X1\"], 0.9), 100)})\n",
                "grid_basis = pd.DataFrame( poly.transform(grid), columns=poly.get_feature_names_out([\"X1\"]))"
            ]
        },
        {
            "cell_type": "markdown",
            "metadata": {},
            "source": [
                "Apply the `cate()` method to the basis and evaluate on the transformed grid values."
            ]
        },
        {
            "cell_type": "code",
            "execution_count": 16,
            "metadata": {},
            "outputs": [
                {
                    "name": "stdout",
                    "output_type": "stream",
                    "text": [
                        "================== DoubleMLBLP Object ==================\n",
                        "\n",
                        "------------------ Fit summary ------------------\n",
                        "          coef   std err          t         P>|t|    [0.025    0.975]\n",
                        "1     4.980006  0.065959  75.501036  0.000000e+00  4.850728  5.109284\n",
                        "X1    0.921124  0.072210  12.756191  2.879412e-37  0.779595  1.062653\n",
                        "X1^2  0.002328  0.042443   0.054851  9.562573e-01 -0.080859  0.085515\n"
                    ]
                }
            ],
            "source": [
                "cate = dml_irm.cate(basis_df)\n",
                "print(cate)\n",
                "np.random.seed(42)\n",
                "df_cate = cate.confint(grid_basis, level=0.95, joint=True, n_rep_boot=2000)"
            ]
        },
        {
            "cell_type": "markdown",
            "metadata": {},
            "source": [
                "The corresponding `apo()` method can be used for the treatment levels $0$ and $1$."
            ]
        },
        {
            "cell_type": "code",
            "execution_count": 17,
            "metadata": {},
            "outputs": [
                {
                    "name": "stdout",
                    "output_type": "stream",
                    "text": [
                        "================== DoubleMLBLP Object ==================\n",
                        "\n",
                        "------------------ Fit summary ------------------\n",
                        "          coef   std err         t     P>|t|    [0.025    0.975]\n",
                        "1     0.013534  0.045659  0.296413  0.766915 -0.075956  0.103024\n",
                        "X1    0.001013  0.055947  0.018108  0.985553 -0.108641  0.110667\n",
                        "X1^2  0.023895  0.036482  0.654985  0.512477 -0.047608  0.095399\n",
                        "================== DoubleMLBLP Object ==================\n",
                        "\n",
                        "------------------ Fit summary ------------------\n",
                        "          coef   std err           t         P>|t|    [0.025    0.975]\n",
                        "1     4.993540  0.047982  104.070731  0.000000e+00  4.899497  5.087583\n",
                        "X1    0.922137  0.045885   20.096828  7.866358e-90  0.832205  1.012070\n",
                        "X1^2  0.026223  0.022604    1.160093  2.460111e-01 -0.018081  0.070527\n"
                    ]
                }
            ],
            "source": [
                "capo0 = dml_apos.modellist[0].capo(basis_df)\n",
                "print(capo0)\n",
                "np.random.seed(42)\n",
                "df_capo0 = capo0.confint(grid_basis, level=0.95, joint=True, n_rep_boot=2000)\n",
                "\n",
                "capo1 = dml_apos.modellist[1].capo(basis_df)\n",
                "print(capo1)\n",
                "np.random.seed(42)\n",
                "df_capo1 = capo1.confint(grid_basis, level=0.95, joint=True, n_rep_boot=2000)"
            ]
        },
        {
            "cell_type": "markdown",
            "metadata": {},
            "source": [
                "In this example the average potential outcome of the control group is zero (as can be seen in the outcome definition, see [documentation](https://docs.doubleml.org/stable/api/generated/doubleml.datasets.make_irm_data.html#doubleml.datasets.make_irm_data)).\n",
                "Let us visualize the effects"
            ]
        },
        {
            "cell_type": "code",
            "execution_count": 18,
            "metadata": {
                "tags": [
                    "nbsphinx-thumbnail"
                ]
            },
            "outputs": [
                {
                    "data": {
                        "image/png": "[encoded data removed]",
                        "text/plain": [
                            "<Figure size 1000x750 with 2 Axes>"
                        ]
                    },
                    "metadata": {},
                    "output_type": "display_data"
                }
            ],
            "source": [
                "df_cate['x'] = grid_basis['X1']\n",
                "\n",
                "plt.rcParams['figure.figsize'] = 10., 7.5\n",
                "fig, (ax1, ax2) = plt.subplots(1, 2)\n",
                "\n",
                "# Plot CATE\n",
                "ax1.plot(df_cate['x'], df_cate['effect'], label='Estimated Effect')\n",
                "ax1.fill_between(df_cate['x'], df_cate['2.5 %'], df_cate['97.5 %'], alpha=.3, label='Confidence Interval')\n",
                "ax1.legend()\n",
                "ax1.set_title('CATE')\n",
                "ax1.set_xlabel('X1')\n",
                "ax1.set_ylabel('Effect and 95%-CI')\n",
                "\n",
                "# Plot Average Potential Outcomes\n",
                "ax2.plot(df_cate['x'], df_capo0['effect'], label='APO(0)')\n",
                "ax2.fill_between(df_cate['x'], df_capo0['2.5 %'], df_capo0['97.5 %'], alpha=.3, label='Confidence Interval')\n",
                "ax2.plot(df_cate['x'], df_capo1['effect'], label='APO(1)')\n",
                "ax2.fill_between(df_cate['x'], df_capo1['2.5 %'], df_capo1['97.5 %'], alpha=.3, label='Confidence Interval')\n",
                "ax2.legend()\n",
                "ax2.set_title('Average Potential Outcomes')\n",
                "ax2.set_xlabel('X1')\n",
                "ax2.set_ylabel('Effect and 95%-CI')\n",
                "\n",
                "# Ensure the same scale on y-axis\n",
                "ax1.set_ylim(min(ax1.get_ylim()[0], ax2.get_ylim()[0]), max(ax1.get_ylim()[1], ax2.get_ylim()[1]))\n",
                "ax2.set_ylim(min(ax1.get_ylim()[0], ax2.get_ylim()[0]), max(ax1.get_ylim()[1], ax2.get_ylim()[1]))\n",
                "\n",
                "plt.show()"
            ]
        },
        {
            "cell_type": "markdown",
            "metadata": {},
            "source": [
                "The `causal_contrast()` method does not currently not have a `cate()` method implemented. But the cate can be manually constructed via the the correct score function."
            ]
        },
        {
            "cell_type": "code",
            "execution_count": 19,
            "metadata": {},
            "outputs": [
                {
                    "name": "stdout",
                    "output_type": "stream",
                    "text": [
                        "          coef   std err          t         P>|t|    [0.025    0.975]\n",
                        "1     4.980006  0.065959  75.501036  0.000000e+00  4.850728  5.109284\n",
                        "X1    0.921124  0.072210  12.756191  2.879412e-37  0.779595  1.062653\n",
                        "X1^2  0.002328  0.042443   0.054851  9.562573e-01 -0.080859  0.085515\n",
                        "CATE (IRM) as comparison:\n",
                        "          coef   std err          t         P>|t|    [0.025    0.975]\n",
                        "1     4.980006  0.065959  75.501036  0.000000e+00  4.850728  5.109284\n",
                        "X1    0.921124  0.072210  12.756191  2.879412e-37  0.779595  1.062653\n",
                        "X1^2  0.002328  0.042443   0.054851  9.562573e-01 -0.080859  0.085515\n"
                    ]
                }
            ],
            "source": [
                "orth_signal = -1.0 * (causal_contrast.scaled_psi.reshape(-1) - causal_contrast.thetas)\n",
                "\n",
                "causal_contrast_cate = dml.utils.DoubleMLBLP(orth_signal, basis_df)\n",
                "causal_contrast_cate.fit()\n",
                "print(causal_contrast_cate.summary)\n",
                "np.random.seed(42)\n",
                "df_causal_contrast_cate = causal_contrast_cate.confint(grid_basis, level=0.95, joint=True, n_rep_boot=2000)\n",
                "\n",
                "print(\"CATE (IRM) as comparison:\")\n",
                "print(cate.summary)"
            ]
        },
        {
            "cell_type": "code",
            "execution_count": 20,
            "metadata": {},
            "outputs": [
                {
                    "data": {
                        "image/png": "[encoded data removed]",
                        "text/plain": [
                            "<Figure size 1000x750 with 2 Axes>"
                        ]
                    },
                    "metadata": {},
                    "output_type": "display_data"
                }
            ],
            "source": [
                "plt.rcParams['figure.figsize'] = 10., 7.5\n",
                "fig, (ax1, ax2) = plt.subplots(1, 2)\n",
                "\n",
                "# Plot CATE\n",
                "ax1.plot(df_cate['x'], df_cate['effect'], label='Estimated Effect')\n",
                "ax1.fill_between(df_cate['x'], df_cate['2.5 %'], df_cate['97.5 %'], alpha=.3, label='Confidence Interval')\n",
                "ax1.legend()\n",
                "ax1.set_title('CATE (IRM)')\n",
                "ax1.set_xlabel('X1')\n",
                "ax1.set_ylabel('Effect and 95%-CI')\n",
                "\n",
                "# Plot Average Potential Outcomes\n",
                "ax2.plot(df_cate['x'], df_causal_contrast_cate['effect'], label='Estimated Effect')\n",
                "ax2.fill_between(df_cate['x'], df_causal_contrast_cate['2.5 %'], df_causal_contrast_cate['97.5 %'], alpha=.3, label='Confidence Interval')\n",
                "ax2.legend()\n",
                "ax2.set_title('CATE (Causal Contrast)')\n",
                "ax2.set_xlabel('X1')\n",
                "ax2.set_ylabel('Effect and 95%-CI')\n",
                "\n",
                "# Ensure the same scale on y-axis\n",
                "ax1.set_ylim(min(ax1.get_ylim()[0], ax2.get_ylim()[0]), max(ax1.get_ylim()[1], ax2.get_ylim()[1]))\n",
                "ax2.set_ylim(min(ax1.get_ylim()[0], ax2.get_ylim()[0]), max(ax1.get_ylim()[1], ax2.get_ylim()[1]))\n",
                "\n",
                "plt.show()"
            ]
        }
    ],
    "metadata": {
        "kernelspec": {
            "display_name": "base",
            "language": "python",
            "name": "python3"
        },
        "language_info": {
            "codemirror_mode": {
                "name": "ipython",
                "version": 3
            },
            "file_extension": ".py",
            "mimetype": "text/x-python",
            "name": "python",
            "nbconvert_exporter": "python",
            "pygments_lexer": "ipython3",
            "version": "3.12.3"
        }
    },
    "nbformat": 4,
    "nbformat_minor": 2
}
