{
 "cells": [
  {
   "cell_type": "markdown",
   "metadata": {},
   "source": [
    "# Use the IRM with weights"
   ]
  },
  {
   "cell_type": "code",
   "execution_count": 1,
   "metadata": {},
   "outputs": [],
   "source": [
    "import numpy as np\n",
    "import pandas as pd\n",
    "import doubleml as dml\n",
    "from doubleml._utils_resampling import DoubleMLResampling"
   ]
  },
  {
   "cell_type": "code",
   "execution_count": 2,
   "metadata": {},
   "outputs": [],
   "source": [
    "def group_effect(x):\n",
    "    if x[0] <= -0.3:\n",
    "        te = 2.5\n",
    "    elif (x[0] >= 0.2) & (x[1] >= 0.4):\n",
    "        te = 1.5\n",
    "    else:\n",
    "        te = -2\n",
    "    return te"
   ]
  },
  {
   "cell_type": "code",
   "execution_count": 3,
   "metadata": {},
   "outputs": [],
   "source": [
    "def create_synthetic_group_data(n_samples=200, n_w=10, support_size=5):\n",
    "    \"\"\"\n",
    "    Creates a simple synthetic example for group effects.\n",
    "\n",
    "    Parameters\n",
    "    ----------\n",
    "    n_samples : int\n",
    "        Number of samples.\n",
    "        Default is ``200``.\n",
    "\n",
    "    n_w : int\n",
    "        Dimension of covariates.\n",
    "        Default is ``10``.\n",
    "\n",
    "    support_size : int\n",
    "        Number of relevant covariates.\n",
    "        Default is ``5``.\n",
    "\n",
    "    Returns\n",
    "    -------\n",
    "     data : pd.DataFrame\n",
    "            A data frame.\n",
    "\n",
    "    \"\"\"\n",
    "    # Outcome support\n",
    "    support_w = np.random.choice(np.arange(n_w), size=support_size, replace=False)\n",
    "    coefs_w = np.random.uniform(0, 1, size=support_size)\n",
    "    # Define the function to generate the noise\n",
    "    epsilon_sample = lambda n: np.random.uniform(-1, 1, size=n_samples)\n",
    "    # Treatment support\n",
    "    # Assuming the matrices gamma and beta have the same number of non-zero components\n",
    "    support_t = np.random.choice(np.arange(n_w), size=support_size, replace=False)\n",
    "    coefs_t = np.random.uniform(0, 1, size=support_size)\n",
    "    # Define the function to generate the noise\n",
    "    eta_sample = lambda n: np.random.uniform(-1, 1, size=n_samples)\n",
    "\n",
    "    # Generate controls, covariates, treatments and outcomes\n",
    "    w = np.random.normal(0, 1, size=(n_samples, n_w))\n",
    "    # Group treatment effect\n",
    "    te = np.apply_along_axis(group_effect, axis=1, arr=w)\n",
    "    # Define treatment\n",
    "    log_odds = np.dot(w[:, support_t], coefs_t) + eta_sample(n_samples)\n",
    "    t_sigmoid = 1 / (1 + np.exp(-log_odds))\n",
    "    t = np.array([np.random.binomial(1, p) for p in t_sigmoid])\n",
    "    # Define the outcome\n",
    "    y = te * t + np.dot(w[:, support_w], coefs_w) + epsilon_sample(n_samples)\n",
    "\n",
    "    # Now we build the dataset\n",
    "    y_df = pd.DataFrame({'y': y})\n",
    "    t_df = pd.DataFrame({'t': t})\n",
    "    w_df = pd.DataFrame(data=w, index=np.arange(w.shape[0]),\n",
    "                        columns=[f'w_{i}' for i in range(1, w.shape[1] + 1)])\n",
    "\n",
    "    data = pd.concat([y_df, t_df, w_df], axis=1)\n",
    "    covariates = list(w_df.columns.values)\n",
    "\n",
    "    return data, covariates"
   ]
  },
  {
   "cell_type": "markdown",
   "metadata": {},
   "source": [
    "#### Set up simulation study"
   ]
  },
  {
   "cell_type": "code",
   "execution_count": 4,
   "metadata": {},
   "outputs": [],
   "source": [
    "# No of repetitions\n",
    "n_rep = 100\n",
    "datasets = []\n",
    "\n",
    "# DGP constants\n",
    "np.random.seed(42)\n",
    "n_obs = 5000\n",
    "n_w = 10\n",
    "support_size = 5\n",
    "\n",
    "# For first stage estimation\n",
    "from sklearn.ensemble import RandomForestClassifier, RandomForestRegressor\n",
    "randomForest_reg = RandomForestRegressor(n_estimators=200, random_state=42)\n",
    "randomForest_class = RandomForestClassifier(n_estimators=200, random_state=42)\n",
    "\n",
    "from sklearn.linear_model import LinearRegression, LogisticRegression\n",
    "lm = LinearRegression()\n",
    "lr = LogisticRegression(random_state=42)\n",
    "\n",
    "# Create data\n",
    "for i in range(n_rep):\n",
    "    data, covariates = create_synthetic_group_data(n_samples=n_obs, n_w=n_w, support_size=support_size)\n",
    "    data_dml_base = dml.DoubleMLData(data,\n",
    "                                     y_col='y',\n",
    "                                     d_cols='t',\n",
    "                                     x_cols=covariates)\n",
    "    datasets.append(data_dml_base)\n",
    "    "
   ]
  },
  {
   "cell_type": "markdown",
   "metadata": {},
   "source": [
    "#### Run simulation study"
   ]
  },
  {
   "cell_type": "code",
   "execution_count": 29,
   "metadata": {},
   "outputs": [
    {
     "name": "stdout",
     "output_type": "stream",
     "text": [
      "0\n",
      "10\n",
      "20\n",
      "30\n",
      "40\n",
      "50\n",
      "60\n",
      "70\n",
      "80\n",
      "90\n"
     ]
    }
   ],
   "source": [
    "wates = []\n",
    "gates = []\n",
    "attes = []\n",
    "for i in range(100):\n",
    "    if i%10==0:\n",
    "        print(i)\n",
    "    dml_data = datasets[i]\n",
    "    smpls = DoubleMLResampling(n_folds=5, n_rep=1, n_obs=n_obs,\n",
    "                               apply_cross_fitting=True, stratify=dml_data.d).split_samples()\n",
    "    dml_irm = dml.DoubleMLIRM(dml_data,\n",
    "                              ml_g=randomForest_reg,\n",
    "                              ml_m=randomForest_class,\n",
    "                              trimming_threshold=0.01,\n",
    "                              n_folds=5,\n",
    "                              draw_sample_splitting=False)\n",
    "    dml_irm.set_sample_splitting(smpls)\n",
    "    dml_irm.fit()\n",
    "\n",
    "    # create groups for WATE and GATE\n",
    "    groups_1, groups_2 = np.zeros_like(dml_data.y),np.zeros_like(dml_data.y)\n",
    "    groups_1[np.where(dml_data.x[:,0]<=-0.3)] = 1\n",
    "    groups_2[np.where((dml_data.x[:,0]>=0.2) & (dml_data.x[:,1]>=0.4))] = 1\n",
    "    groups_3 = groups_1 + groups_2\n",
    "\n",
    "    # estimate GATEs\n",
    "    gate_1 = dml_irm.gate(groups=pd.DataFrame(groups_1)).confint()[\"effect\"][0]\n",
    "    gate_2 = dml_irm.gate(groups=pd.DataFrame(groups_2)).confint()[\"effect\"][0]\n",
    "    gate_3 = dml_irm.gate(groups=pd.DataFrame(groups_3)).confint()[\"effect\"][0]\n",
    "    gates.append([gate_1, gate_2, gate_3])\n",
    "\n",
    "    # estimate WATEs\n",
    "    _wates = []\n",
    "    for groups in [groups_1,groups_2,groups_3]:\n",
    "        dml_irm_wate = dml.DoubleMLIRM(dml_data,\n",
    "                                   ml_g=randomForest_reg,\n",
    "                                   ml_m=randomForest_class,\n",
    "                                   trimming_threshold=0.01,\n",
    "                                   n_folds=5,\n",
    "                                   draw_sample_splitting=False,\n",
    "                                   weights=groups)\n",
    "        dml_irm_wate.set_sample_splitting(smpls)\n",
    "        dml_irm_wate.fit()\n",
    "        _wates.append(dml_irm_wate.coef[0])\n",
    "        wates.append(_wates)"
   ]
  },
  {
   "cell_type": "code",
   "execution_count": 40,
   "metadata": {},
   "outputs": [
    {
     "data": {
      "text/plain": [
       "<doubleml.double_ml_irm.DoubleMLIRM at 0x145928548d0>"
      ]
     },
     "execution_count": 40,
     "metadata": {},
     "output_type": "execute_result"
    }
   ],
   "source": [
    "dml_irm_wate = dml.DoubleMLIRM(dml_data,\n",
    "                            ml_g=randomForest_reg,\n",
    "                            ml_m=randomForest_class,\n",
    "                            trimming_threshold=0.01,\n",
    "                            n_folds=5,\n",
    "                            draw_sample_splitting=False,\n",
    "                            weights=np.abs(groups_3-1))\n",
    "dml_irm_wate.set_sample_splitting(smpls)\n",
    "dml_irm_wate.fit()"
   ]
  },
  {
   "cell_type": "code",
   "execution_count": 30,
   "metadata": {},
   "outputs": [],
   "source": [
    "import seaborn as sns\n",
    "gates_df = pd.DataFrame(gates)\n",
    "wates_df = pd.DataFrame(wates)"
   ]
  },
  {
   "cell_type": "code",
   "execution_count": 38,
   "metadata": {},
   "outputs": [
    {
     "data": {
      "text/plain": [
       "<AxesSubplot: xlabel='0', ylabel='Density'>"
      ]
     },
     "execution_count": 38,
     "metadata": {},
     "output_type": "execute_result"
    },
    {
     "data": {
      "image/png": "[encoded data removed]",
      "text/plain": [
       "<Figure size 640x480 with 1 Axes>"
      ]
     },
     "metadata": {},
     "output_type": "display_data"
    }
   ],
   "source": [
    "sns.kdeplot(wates_df[0])"
   ]
  },
  {
   "cell_type": "markdown",
   "metadata": {},
   "source": [
    "#### Baseline IRM Model without Weights"
   ]
  },
  {
   "cell_type": "code",
   "execution_count": 5,
   "metadata": {},
   "outputs": [
    {
     "name": "stdout",
     "output_type": "stream",
     "text": [
      "Training IRM Model\n",
      "================== DoubleMLIRM Object ==================\n",
      "\n",
      "------------------ Data summary      ------------------\n",
      "Outcome variable: y\n",
      "Treatment variable(s): ['t']\n",
      "Covariates: ['w_1', 'w_2', 'w_3', 'w_4', 'w_5', 'w_6', 'w_7', 'w_8', 'w_9', 'w_10']\n",
      "Instrument variable(s): None\n",
      "No. Observations: 500\n",
      "\n",
      "------------------ Score & algorithm ------------------\n",
      "Score function: ATE\n",
      "DML algorithm: dml2\n",
      "\n",
      "------------------ Machine learner   ------------------\n",
      "Learner ml_g: RandomForestRegressor(n_estimators=200, random_state=42)\n",
      "Learner ml_m: RandomForestClassifier(n_estimators=200, random_state=42)\n",
      "Out-of-sample Performance:\n",
      "Learner ml_g0 RMSE: [[0.73537189]]\n",
      "Learner ml_g1 RMSE: [[1.0429027]]\n",
      "Learner ml_m RMSE: [[0.46644759]]\n",
      "\n",
      "------------------ Resampling        ------------------\n",
      "No. folds: 5\n",
      "No. repeated sample splits: 1\n",
      "Apply cross-fitting: True\n",
      "\n",
      "------------------ Fit summary       ------------------\n",
      "      coef   std err         t     P>|t|     2.5 %    97.5 %\n",
      "t  0.41154  0.127716  3.222304  0.001272  0.161221  0.661859\n"
     ]
    }
   ],
   "source": [
    "dml_irm_0 = dml.DoubleMLIRM(data_dml_base,\n",
    "                          ml_g=randomForest_reg,\n",
    "                          ml_m=randomForest_class,\n",
    "                          trimming_threshold=0.01,\n",
    "                          n_folds=5)\n",
    "print(\"Training IRM Model\")\n",
    "print(dml_irm_0.fit(store_predictions=True))"
   ]
  },
  {
   "cell_type": "markdown",
   "metadata": {},
   "source": [
    "We create weights according to the DGP"
   ]
  },
  {
   "cell_type": "code",
   "execution_count": 23,
   "metadata": {},
   "outputs": [],
   "source": [
    "groups_1, groups_2 = np.zeros_like(data.y.values),np.zeros_like(data.y.values)\n",
    "groups_1[np.where(data[\"w_1\"].values<=-0.3)] = 1\n",
    "groups_2[np.where((data[\"w_1\"].values>=0.2) & (data[\"w_2\"].values>=0.4))] = 1\n",
    "groups_3 = groups_1 + groups_2\n",
    "weights_1 = groups_1 / groups_1.mean()\n",
    "weights_2 = groups_2 / groups_2.mean()\n",
    "weights_3 = groups_3 / groups_3.mean()"
   ]
  },
  {
   "cell_type": "markdown",
   "metadata": {},
   "source": [
    "Compare weighted ATE to GATE estimation"
   ]
  },
  {
   "cell_type": "code",
   "execution_count": 16,
   "metadata": {},
   "outputs": [
    {
     "name": "stdout",
     "output_type": "stream",
     "text": [
      "Training IRM Model\n",
      "       coef   std err          t         P>|t|     2.5 %   97.5 %\n",
      "t  2.613093  0.216344  12.078407  1.373543e-33  2.189066  3.03712\n",
      "      2.5 %    effect    97.5 %\n",
      "0  2.374641  2.642063  2.909486\n"
     ]
    }
   ],
   "source": [
    "dml_irm = dml.DoubleMLIRM(data_dml_base,\n",
    "                          ml_g=randomForest_reg,\n",
    "                          ml_m=randomForest_class,\n",
    "                          trimming_threshold=0.01,\n",
    "                          n_folds=5,\n",
    "                          weights=weights_1)\n",
    "print(\"Training IRM Model\")\n",
    "dml_irm.fit(store_predictions=True)\n",
    "print(dml_irm.summary)\n",
    "print(dml_irm_0.gate(groups=pd.DataFrame(groups_1)).confint())"
   ]
  },
  {
   "cell_type": "code",
   "execution_count": 20,
   "metadata": {},
   "outputs": [
    {
     "name": "stdout",
     "output_type": "stream",
     "text": [
      "Training IRM Model\n",
      "       coef   std err         t         P>|t|     2.5 %    97.5 %\n",
      "t  1.732115  0.241235  7.180202  6.960840e-13  1.259303  2.204926\n",
      "     2.5 %    effect    97.5 %\n",
      "0  1.35915  1.765627  2.172105\n"
     ]
    }
   ],
   "source": [
    "dml_irm = dml.DoubleMLIRM(data_dml_base,\n",
    "                          ml_g=randomForest_reg,\n",
    "                          ml_m=randomForest_class,\n",
    "                          trimming_threshold=0.01,\n",
    "                          n_folds=5,\n",
    "                          weights=weights_2)\n",
    "print(\"Training IRM Model\")\n",
    "dml_irm.fit(store_predictions=True)\n",
    "print(dml_irm.summary)\n",
    "print(dml_irm_0.gate(groups=pd.DataFrame(groups_2)).confint())"
   ]
  },
  {
   "cell_type": "code",
   "execution_count": 34,
   "metadata": {},
   "outputs": [
    {
     "name": "stdout",
     "output_type": "stream",
     "text": [
      "Training IRM Model\n",
      "       coef   std err          t         P>|t|     2.5 %    97.5 %\n",
      "t  2.219536  0.146039  15.198293  3.629578e-52  1.933306  2.505766\n",
      "      2.5 %    effect    97.5 %\n",
      "0  2.104724  2.334826  2.564927\n"
     ]
    }
   ],
   "source": [
    "dml_irm = dml.DoubleMLIRM(data_dml_base,\n",
    "                          ml_g=randomForest_reg,\n",
    "                          ml_m=randomForest_class,\n",
    "                          trimming_threshold=0.01,\n",
    "                          n_folds=5,\n",
    "                          weights=weights_3)\n",
    "print(\"Training IRM Model\")\n",
    "dml_irm.fit(store_predictions=True)\n",
    "print(dml_irm.summary)\n",
    "print(dml_irm_0.gate(groups=pd.DataFrame(groups_3)).confint())"
   ]
  },
  {
   "cell_type": "markdown",
   "metadata": {},
   "source": [
    "Compare weighted ATE to ATTE estimation"
   ]
  },
  {
   "cell_type": "code",
   "execution_count": 38,
   "metadata": {},
   "outputs": [
    {
     "data": {
      "text/plain": [
       "(500, 1)"
      ]
     },
     "execution_count": 38,
     "metadata": {},
     "output_type": "execute_result"
    }
   ],
   "source": [
    "res_1, res_2 = np.hsplit(np.c_[weights,weights_bar], 2)\n",
    "res_1.shape"
   ]
  },
  {
   "cell_type": "code",
   "execution_count": 26,
   "metadata": {},
   "outputs": [
    {
     "data": {
      "text/plain": [
       "(500,)"
      ]
     },
     "execution_count": 26,
     "metadata": {},
     "output_type": "execute_result"
    }
   ],
   "source": [
    "dml_irm.predictions[\"ml_m\"][:,0,0].shape"
   ]
  },
  {
   "cell_type": "code",
   "execution_count": 11,
   "metadata": {},
   "outputs": [
    {
     "name": "stdout",
     "output_type": "stream",
     "text": [
      "Training IRM Model\n",
      "       coef   std err         t         P>|t|     2.5 %    97.5 %\n",
      "t  0.342102  0.046336  7.383037  1.547192e-13  0.251285  0.432919\n",
      "Training IRM Model\n",
      "       coef   std err         t         P>|t|     2.5 %    97.5 %\n",
      "t  0.342102  0.046576  7.345073  2.056461e-13  0.250815  0.433389\n"
     ]
    }
   ],
   "source": [
    "smpls = DoubleMLResampling(n_folds=5, n_rep=1, n_obs=n_obs,\n",
    "                               apply_cross_fitting=True, stratify=data_dml_base.d).split_samples()\n",
    "\n",
    "dml_irm_atte = dml.DoubleMLIRM(data_dml_base,\n",
    "                          ml_g=lm,\n",
    "                          ml_m=lr,\n",
    "                          trimming_threshold=0.01,\n",
    "                          n_folds=5,\n",
    "                          score=\"ATTE\",\n",
    "                          draw_sample_splitting=False)\n",
    "dml_irm_atte.set_sample_splitting(smpls)\n",
    "print(\"Training IRM Model\")\n",
    "np.random.seed(42)\n",
    "dml_irm_atte.fit(store_predictions=True)\n",
    "print(dml_irm_atte.summary)\n",
    "m_hat = dml_irm_atte.predictions[\"ml_m\"][:,0,0]\n",
    "weights = data.t.values / data.t.values.mean()\n",
    "weights_bar = m_hat / data.t.values.mean()\n",
    "dml_irm = dml.DoubleMLIRM(data_dml_base,\n",
    "                          ml_g=lm,\n",
    "                          ml_m=lr,\n",
    "                          trimming_threshold=0.01,\n",
    "                          n_folds=5,\n",
    "                          weights=np.c_[weights,weights_bar],\n",
    "                          draw_sample_splitting=False)\n",
    "dml_irm.set_sample_splitting(smpls)\n",
    "print(\"Training IRM Model\")\n",
    "np.random.seed(42)\n",
    "dml_irm.fit(store_predictions=True)\n",
    "print(dml_irm.summary)"
   ]
  }
 ],
 "metadata": {
  "kernelspec": {
   "display_name": "dml-pt",
   "language": "python",
   "name": "python3"
  },
  "language_info": {
   "codemirror_mode": {
    "name": "ipython",
    "version": 3
   },
   "file_extension": ".py",
   "mimetype": "text/x-python",
   "name": "python",
   "nbconvert_exporter": "python",
   "pygments_lexer": "ipython3",
   "version": "3.11.4"
  }
 },
 "nbformat": 4,
 "nbformat_minor": 2
}
