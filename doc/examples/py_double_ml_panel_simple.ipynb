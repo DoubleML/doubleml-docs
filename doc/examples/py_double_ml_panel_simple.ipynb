{
 "cells": [
  {
   "cell_type": "code",
   "execution_count": 6,
   "metadata": {},
   "outputs": [],
   "source": [
    "import pandas as pd\n",
    "import numpy as np\n",
    "\n",
    "from sklearn.linear_model import LinearRegression, LogisticRegression\n",
    "\n",
    "from doubleml.data import DoubleMLPanelData\n",
    "from doubleml.did import DoubleMLDIDMulti"
   ]
  },
  {
   "cell_type": "code",
   "execution_count": 7,
   "metadata": {},
   "outputs": [],
   "source": [
    "import pandas as pd\n",
    "import numpy as np\n",
    "dta = pd.read_csv(\"https://raw.githubusercontent.com/d2cml-ai/csdid/main/data/sim_data.csv\")\n",
    "dta.head()\n",
    "dta.loc[dta[\"G\"] == 0, \"G\"] = np.nan"
   ]
  },
  {
   "cell_type": "code",
   "execution_count": 8,
   "metadata": {},
   "outputs": [],
   "source": [
    "dml_data = DoubleMLPanelData(dta, y_col=\"Y\", d_cols=\"G\", id_col=\"id\", t_col=\"period\", x_cols=[\"X\"])"
   ]
  },
  {
   "cell_type": "code",
   "execution_count": 9,
   "metadata": {},
   "outputs": [
    {
     "data": {
      "text/html": [
       "<div>\n",
       "<style scoped>\n",
       "    .dataframe tbody tr th:only-of-type {\n",
       "        vertical-align: middle;\n",
       "    }\n",
       "\n",
       "    .dataframe tbody tr th {\n",
       "        vertical-align: top;\n",
       "    }\n",
       "\n",
       "    .dataframe thead th {\n",
       "        text-align: right;\n",
       "    }\n",
       "</style>\n",
       "<table border=\"1\" class=\"dataframe\">\n",
       "  <thead>\n",
       "    <tr style=\"text-align: right;\">\n",
       "      <th></th>\n",
       "      <th>coef</th>\n",
       "      <th>std err</th>\n",
       "      <th>t</th>\n",
       "      <th>P&gt;|t|</th>\n",
       "      <th>2.5 %</th>\n",
       "      <th>97.5 %</th>\n",
       "    </tr>\n",
       "  </thead>\n",
       "  <tbody>\n",
       "    <tr>\n",
       "      <th>ATT(2.0,1,2)</th>\n",
       "      <td>0.920659</td>\n",
       "      <td>0.064105</td>\n",
       "      <td>14.361647</td>\n",
       "      <td>0.000000</td>\n",
       "      <td>0.795014</td>\n",
       "      <td>1.046303</td>\n",
       "    </tr>\n",
       "    <tr>\n",
       "      <th>ATT(2.0,1,3)</th>\n",
       "      <td>1.987829</td>\n",
       "      <td>0.064660</td>\n",
       "      <td>30.742884</td>\n",
       "      <td>0.000000</td>\n",
       "      <td>1.861098</td>\n",
       "      <td>2.114560</td>\n",
       "    </tr>\n",
       "    <tr>\n",
       "      <th>ATT(2.0,1,4)</th>\n",
       "      <td>2.955122</td>\n",
       "      <td>0.063113</td>\n",
       "      <td>46.822594</td>\n",
       "      <td>0.000000</td>\n",
       "      <td>2.831422</td>\n",
       "      <td>3.078821</td>\n",
       "    </tr>\n",
       "    <tr>\n",
       "      <th>ATT(3.0,1,2)</th>\n",
       "      <td>-0.042606</td>\n",
       "      <td>0.066026</td>\n",
       "      <td>-0.645298</td>\n",
       "      <td>0.518734</td>\n",
       "      <td>-0.172015</td>\n",
       "      <td>0.086802</td>\n",
       "    </tr>\n",
       "    <tr>\n",
       "      <th>ATT(3.0,2,3)</th>\n",
       "      <td>1.107568</td>\n",
       "      <td>0.065475</td>\n",
       "      <td>16.915916</td>\n",
       "      <td>0.000000</td>\n",
       "      <td>0.979239</td>\n",
       "      <td>1.235896</td>\n",
       "    </tr>\n",
       "    <tr>\n",
       "      <th>ATT(3.0,2,4)</th>\n",
       "      <td>2.057568</td>\n",
       "      <td>0.065470</td>\n",
       "      <td>31.427868</td>\n",
       "      <td>0.000000</td>\n",
       "      <td>1.929250</td>\n",
       "      <td>2.185886</td>\n",
       "    </tr>\n",
       "    <tr>\n",
       "      <th>ATT(4.0,1,2)</th>\n",
       "      <td>0.004233</td>\n",
       "      <td>0.068274</td>\n",
       "      <td>0.062002</td>\n",
       "      <td>0.950562</td>\n",
       "      <td>-0.129581</td>\n",
       "      <td>0.138048</td>\n",
       "    </tr>\n",
       "    <tr>\n",
       "      <th>ATT(4.0,2,3)</th>\n",
       "      <td>0.061837</td>\n",
       "      <td>0.066472</td>\n",
       "      <td>0.930267</td>\n",
       "      <td>0.352233</td>\n",
       "      <td>-0.068446</td>\n",
       "      <td>0.192119</td>\n",
       "    </tr>\n",
       "    <tr>\n",
       "      <th>ATT(4.0,3,4)</th>\n",
       "      <td>0.953010</td>\n",
       "      <td>0.067443</td>\n",
       "      <td>14.130675</td>\n",
       "      <td>0.000000</td>\n",
       "      <td>0.820825</td>\n",
       "      <td>1.085195</td>\n",
       "    </tr>\n",
       "  </tbody>\n",
       "</table>\n",
       "</div>"
      ],
      "text/plain": [
       "                  coef   std err          t     P>|t|     2.5 %    97.5 %\n",
       "ATT(2.0,1,2)  0.920659  0.064105  14.361647  0.000000  0.795014  1.046303\n",
       "ATT(2.0,1,3)  1.987829  0.064660  30.742884  0.000000  1.861098  2.114560\n",
       "ATT(2.0,1,4)  2.955122  0.063113  46.822594  0.000000  2.831422  3.078821\n",
       "ATT(3.0,1,2) -0.042606  0.066026  -0.645298  0.518734 -0.172015  0.086802\n",
       "ATT(3.0,2,3)  1.107568  0.065475  16.915916  0.000000  0.979239  1.235896\n",
       "ATT(3.0,2,4)  2.057568  0.065470  31.427868  0.000000  1.929250  2.185886\n",
       "ATT(4.0,1,2)  0.004233  0.068274   0.062002  0.950562 -0.129581  0.138048\n",
       "ATT(4.0,2,3)  0.061837  0.066472   0.930267  0.352233 -0.068446  0.192119\n",
       "ATT(4.0,3,4)  0.953010  0.067443  14.130675  0.000000  0.820825  1.085195"
      ]
     },
     "execution_count": 9,
     "metadata": {},
     "output_type": "execute_result"
    }
   ],
   "source": [
    "control_group = \"not_yet_treated\"\n",
    "control_group = \"never_treated\"\n",
    "\n",
    "ml_g=LinearRegression()\n",
    "ml_m=LogisticRegression()\n",
    "\n",
    "# ml_g = LGBMRegressor()\n",
    "# ml_m = LGBMClassifier()\n",
    "\n",
    "dml_obj = DoubleMLDIDMulti(\n",
    "    obj_dml_data=dml_data,\n",
    "    ml_g=ml_g,\n",
    "    ml_m=ml_m,\n",
    "    gt_combinations=\"standard\",\n",
    "    control_group=control_group,\n",
    ")\n",
    "\n",
    "dml_obj.fit()\n",
    "\n",
    "dml_obj.summary"
   ]
  },
  {
   "cell_type": "code",
   "execution_count": 10,
   "metadata": {},
   "outputs": [],
   "source": [
    "level = 0.95\n",
    "\n",
    "ci = dml_obj.confint(level=level)\n",
    "dml_obj.bootstrap(n_rep_boot=5000)\n",
    "ci_joint = dml_obj.confint(level=level, joint=True)"
   ]
  },
  {
   "cell_type": "code",
   "execution_count": 11,
   "metadata": {},
   "outputs": [
    {
     "name": "stdout",
     "output_type": "stream",
     "text": [
      "================== DoubleMLDIDMulti Object ==================\n",
      "\n",
      "------------------ Data summary      ------------------\n",
      "Outcome variable: Y\n",
      "Treatment variable(s): ['G']\n",
      "Covariates: ['X']\n",
      "Instrument variable(s): None\n",
      "Time variable: period\n",
      "Id variable: id\n",
      "No. Observations: 3979\n",
      "\n",
      "------------------ Score & algorithm ------------------\n",
      "Score function: observational\n",
      "GT combinations: ['(2.0,1,2)', '(2.0,1,3)', '(2.0,1,4)', '(3.0,1,2)', '(3.0,2,3)', '(3.0,2,4)', '(4.0,1,2)', '(4.0,2,3)', '(4.0,3,4)']\n",
      "Control group: never_treated\n",
      "Anticipation periods: 0\n",
      "------------------ Machine learner   ------------------\n",
      "Learner ml_g: LinearRegression()\n",
      "Learner ml_m: LogisticRegression()\n",
      "Out-of-sample Performance:\n",
      "Regression:\n",
      "Learner ml_g0 RMSE: [[1.42730197 1.41113036 1.39623362 1.4271475  1.40723812 1.41836799\n",
      "  1.423926   1.40487993 1.42254218]]\n",
      "Learner ml_g1 RMSE: [[1.40496958 1.43560178 1.39842847 1.4127457  1.42704868 1.38713382\n",
      "  1.45719691 1.41487036 1.41335501]]\n",
      "Classification:\n",
      "Learner ml_m Log Loss: [[0.69060261 0.69041707 0.69043153 0.67919869 0.67914682 0.67934808\n",
      "  0.66257322 0.66203852 0.66207553]]\n",
      "\n",
      "------------------ Resampling        ------------------\n",
      "No. folds: 5\n",
      "No. repeated sample splits: 1\n",
      "\n",
      "------------------ Fit summary       ------------------\n",
      "                  coef   std err          t     P>|t|     2.5 %    97.5 %\n",
      "ATT(2.0,1,2)  0.920659  0.064105  14.361647  0.000000  0.795014  1.046303\n",
      "ATT(2.0,1,3)  1.987829  0.064660  30.742884  0.000000  1.861098  2.114560\n",
      "ATT(2.0,1,4)  2.955122  0.063113  46.822594  0.000000  2.831422  3.078821\n",
      "ATT(3.0,1,2) -0.042606  0.066026  -0.645298  0.518734 -0.172015  0.086802\n",
      "ATT(3.0,2,3)  1.107568  0.065475  16.915916  0.000000  0.979239  1.235896\n",
      "ATT(3.0,2,4)  2.057568  0.065470  31.427868  0.000000  1.929250  2.185886\n",
      "ATT(4.0,1,2)  0.004233  0.068274   0.062002  0.950562 -0.129581  0.138048\n",
      "ATT(4.0,2,3)  0.061837  0.066472   0.930267  0.352233 -0.068446  0.192119\n",
      "ATT(4.0,3,4)  0.953010  0.067443  14.130675  0.000000  0.820825  1.085195\n"
     ]
    }
   ],
   "source": [
    "print(dml_obj)"
   ]
  },
  {
   "cell_type": "code",
   "execution_count": 12,
   "metadata": {},
   "outputs": [
    {
     "name": "stdout",
     "output_type": "stream",
     "text": [
      "================== DoubleMLDIDAggregation Object ==================\n",
      " Group Aggregation \n",
      "\n",
      "------------------ Overall Aggregated Effects ------------------\n",
      "    coef  std err         t  P>|t|    2.5 %   97.5 %\n",
      "1.487968 0.034215 43.488305    0.0 1.420908 1.555029\n",
      "------------------ Aggregated Effects         ------------------\n",
      "         coef   std err          t  P>|t|     2.5 %    97.5 %\n",
      "2.0  1.954536  0.052243  37.412432    0.0  1.852142  2.056931\n",
      "3.0  1.582568  0.056295  28.111848    0.0  1.472231  1.692905\n",
      "4.0  0.953010  0.067443  14.130675    0.0  0.820825  1.085195\n",
      "------------------ Additional Information     ------------------\n",
      "Control Group: never_treated\n",
      "Anticipation Periods: 0\n",
      "Score: observational\n",
      "\n"
     ]
    }
   ],
   "source": [
    "aggregated = dml_obj.aggregate(\"group\")\n",
    "print(aggregated)"
   ]
  },
  {
   "cell_type": "code",
   "execution_count": 13,
   "metadata": {},
   "outputs": [
    {
     "name": "stdout",
     "output_type": "stream",
     "text": [
      "================== DoubleMLDIDAggregation Object ==================\n",
      " Time Aggregation \n",
      "\n",
      "------------------ Overall Aggregated Effects ------------------\n",
      "    coef  std err         t  P>|t|    2.5 %   97.5 %\n",
      "1.480608 0.035103 42.178921    0.0 1.411807 1.549409\n",
      "------------------ Aggregated Effects         ------------------\n",
      "       coef   std err          t  P>|t|     2.5 %    97.5 %\n",
      "2  0.920659  0.064105  14.361647    0.0  0.795014  1.046303\n",
      "3  1.549048  0.051383  30.147284    0.0  1.448340  1.649757\n",
      "4  1.972117  0.046579  42.339413    0.0  1.880824  2.063410\n",
      "------------------ Additional Information     ------------------\n",
      "Control Group: never_treated\n",
      "Anticipation Periods: 0\n",
      "Score: observational\n",
      "\n"
     ]
    }
   ],
   "source": [
    "aggregated_time = dml_obj.aggregate(\"time\")\n",
    "print(aggregated_time)"
   ]
  },
  {
   "cell_type": "code",
   "execution_count": 14,
   "metadata": {},
   "outputs": [
    {
     "name": "stdout",
     "output_type": "stream",
     "text": [
      "================== DoubleMLDIDAggregation Object ==================\n",
      " Event Study Aggregation \n",
      "\n",
      "------------------ Overall Aggregated Effects ------------------\n",
      "    coef  std err         t  P>|t|    2.5 %   97.5 %\n",
      "1.990196 0.038709 51.414618    0.0 1.914328 2.066064\n",
      "------------------ Aggregated Effects         ------------------\n",
      "          coef   std err          t     P>|t|     2.5 %    97.5 %\n",
      "-2.0  0.004233  0.068274   0.062002  0.950562 -0.129581  0.138048\n",
      "-1.0  0.010997  0.040478   0.271675  0.785872 -0.068339  0.090333\n",
      "0.0   0.992875  0.030721  32.319092  0.000000  0.932663  1.053087\n",
      "1.0   2.022591  0.045690  44.267485  0.000000  1.933040  2.112143\n",
      "2.0   2.955122  0.063113  46.822594  0.000000  2.831422  3.078821\n",
      "------------------ Additional Information     ------------------\n",
      "Control Group: never_treated\n",
      "Anticipation Periods: 0\n",
      "Score: observational\n",
      "\n"
     ]
    }
   ],
   "source": [
    "aggregated_eventstudy = dml_obj.aggregate(\"eventstudy\")\n",
    "print(aggregated_eventstudy)"
   ]
  },
  {
   "cell_type": "code",
   "execution_count": null,
   "metadata": {},
   "outputs": [],
   "source": []
  }
 ],
 "metadata": {
  "kernelspec": {
   "display_name": "venv",
   "language": "python",
   "name": "python3"
  },
  "language_info": {
   "codemirror_mode": {
    "name": "ipython",
    "version": 3
   },
   "file_extension": ".py",
   "mimetype": "text/x-python",
   "name": "python",
   "nbconvert_exporter": "python",
   "pygments_lexer": "ipython3",
   "version": "3.12.3"
  }
 },
 "nbformat": 4,
 "nbformat_minor": 2
}
