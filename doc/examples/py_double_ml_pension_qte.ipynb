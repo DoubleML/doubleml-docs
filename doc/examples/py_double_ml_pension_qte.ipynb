{
 "cells": [
  {
   "attachments": {},
   "cell_type": "markdown",
   "id": "2b2a0fd8",
   "metadata": {},
   "source": [
    "# Python: Impact of 401(k) on Financial Wealth (Quantile Effects)"
   ]
  },
  {
   "attachments": {},
   "cell_type": "markdown",
   "id": "a967ed5f",
   "metadata": {},
   "source": [
    "In this real-data example, we illustrate how the [DoubleML](https://docs.doubleml.org/stable/index.html) package can be used to estimate the effect of 401(k) eligibility and participation on accumulated assets. The 401(k) data set has been analyzed in several studies, among others [Chernozhukov et al. (2018)](https://arxiv.org/abs/1608.00060), see [Kallus et al. (2019)](https://arxiv.org/abs/1912.12945) for quantile effects.\n",
    "\n",
    "_Remark:_\n",
    "_This notebook focuses on the evaluation of the treatment effect at different quantiles. For a basic introduction to the [DoubleML](https://docs.doubleml.org/stable/index.html) package and a detailed example of the average treatment effect estimation for the 401(k) data set, we refer to the notebook [Python: Impact of 401(k) on Financial Wealth](https://docs.doubleml.org/stable/examples/py_double_ml_pension.html). The Data sections of both notebooks coincide._\n",
    "\n",
    "401(k) plans are pension accounts sponsored by employers. The key problem in determining the effect of participation in 401(k) plans on accumulated assets is saver heterogeneity coupled with the fact that the decision to enroll in a 401(k) is non-random. It is generally recognized that some people have a higher preference for saving than others. It also seems likely that those individuals with high unobserved preference for saving would be most likely to choose to participate in tax-advantaged retirement savings plans and would tend to have otherwise high amounts of accumulated assets. The presence of unobserved savings preferences with these properties then implies that conventional estimates that do not account for saver heterogeneity and endogeneity of participation will be biased upward, tending to overstate the savings effects of 401(k) participation.\n",
    "\n",
    "One can argue that eligibility for enrolling in a 401(k) plan in this data can be taken as exogenous after conditioning on a few observables of which the most important for their argument is income. The basic idea is that, at least around the time 401(k)’s initially became available, people were unlikely to be basing their employment decisions on whether an employer offered a 401(k) but would instead focus on income and other aspects of the job."
   ]
  },
  {
   "cell_type": "markdown",
   "id": "40b41785",
   "metadata": {},
   "source": [
    "## Data\n",
    "\n",
    "The preprocessed data can be fetched by calling [fetch_401K()](https://docs.doubleml.org/stable/api/generated/doubleml.datasets.fetch_401K.html#doubleml.datasets.fetch_401K). Note that an internet connection is required for loading the data."
   ]
  },
  {
   "cell_type": "code",
   "execution_count": 1,
   "id": "c06e87b2",
   "metadata": {},
   "outputs": [],
   "source": [
    "import numpy as np\n",
    "import pandas as pd\n",
    "import doubleml as dml\n",
    "import multiprocessing\n",
    "from doubleml.datasets import fetch_401K\n",
    "\n",
    "from sklearn.preprocessing import PolynomialFeatures\n",
    "from sklearn.linear_model import LassoCV, LogisticRegressionCV\n",
    "from sklearn.ensemble import RandomForestClassifier, RandomForestRegressor\n",
    "from sklearn.tree import DecisionTreeClassifier, DecisionTreeRegressor\n",
    "from sklearn.preprocessing import StandardScaler\n",
    "from sklearn.pipeline import make_pipeline\n",
    "from sklearn.base import clone\n",
    "\n",
    "from xgboost import XGBClassifier, XGBRegressor\n",
    "\n",
    "import matplotlib.pyplot as plt\n",
    "import seaborn as sns"
   ]
  },
  {
   "cell_type": "code",
   "execution_count": 2,
   "id": "28347df3",
   "metadata": {},
   "outputs": [],
   "source": [
    "sns.set()\n",
    "colors = sns.color_palette()"
   ]
  },
  {
   "cell_type": "code",
   "execution_count": 3,
   "id": "0ad5caf0",
   "metadata": {},
   "outputs": [],
   "source": [
    "plt.rcParams['figure.figsize'] = 10., 7.5\n",
    "sns.set(font_scale=1.5)\n",
    "sns.set_style('whitegrid', {'axes.spines.top': False,\n",
    "                            'axes.spines.bottom': False,\n",
    "                            'axes.spines.left': False,\n",
    "                            'axes.spines.right': False})"
   ]
  },
  {
   "cell_type": "code",
   "execution_count": 4,
   "id": "11763be2",
   "metadata": {},
   "outputs": [],
   "source": [
    "data = fetch_401K(return_type='DataFrame')"
   ]
  },
  {
   "cell_type": "code",
   "execution_count": 5,
   "id": "c1d9ce03",
   "metadata": {},
   "outputs": [
    {
     "data": {
      "text/html": [
       "<div>\n",
       "<style scoped>\n",
       "    .dataframe tbody tr th:only-of-type {\n",
       "        vertical-align: middle;\n",
       "    }\n",
       "\n",
       "    .dataframe tbody tr th {\n",
       "        vertical-align: top;\n",
       "    }\n",
       "\n",
       "    .dataframe thead th {\n",
       "        text-align: right;\n",
       "    }\n",
       "</style>\n",
       "<table border=\"1\" class=\"dataframe\">\n",
       "  <thead>\n",
       "    <tr style=\"text-align: right;\">\n",
       "      <th></th>\n",
       "      <th>nifa</th>\n",
       "      <th>net_tfa</th>\n",
       "      <th>tw</th>\n",
       "      <th>age</th>\n",
       "      <th>inc</th>\n",
       "      <th>fsize</th>\n",
       "      <th>educ</th>\n",
       "      <th>db</th>\n",
       "      <th>marr</th>\n",
       "      <th>twoearn</th>\n",
       "      <th>e401</th>\n",
       "      <th>p401</th>\n",
       "      <th>pira</th>\n",
       "      <th>hown</th>\n",
       "    </tr>\n",
       "  </thead>\n",
       "  <tbody>\n",
       "    <tr>\n",
       "      <th>count</th>\n",
       "      <td>9.915000e+03</td>\n",
       "      <td>9.915000e+03</td>\n",
       "      <td>9.915000e+03</td>\n",
       "      <td>9915.000000</td>\n",
       "      <td>9915.000000</td>\n",
       "      <td>9915.000000</td>\n",
       "      <td>9915.000000</td>\n",
       "      <td>9915.000000</td>\n",
       "      <td>9915.000000</td>\n",
       "      <td>9915.000000</td>\n",
       "      <td>9915.000000</td>\n",
       "      <td>9915.000000</td>\n",
       "      <td>9915.000000</td>\n",
       "      <td>9915.000000</td>\n",
       "    </tr>\n",
       "    <tr>\n",
       "      <th>mean</th>\n",
       "      <td>1.392864e+04</td>\n",
       "      <td>1.805153e+04</td>\n",
       "      <td>6.381685e+04</td>\n",
       "      <td>41.060212</td>\n",
       "      <td>37200.621094</td>\n",
       "      <td>2.865860</td>\n",
       "      <td>13.206253</td>\n",
       "      <td>0.271004</td>\n",
       "      <td>0.604841</td>\n",
       "      <td>0.380837</td>\n",
       "      <td>0.371357</td>\n",
       "      <td>0.261624</td>\n",
       "      <td>0.242158</td>\n",
       "      <td>0.635199</td>\n",
       "    </tr>\n",
       "    <tr>\n",
       "      <th>std</th>\n",
       "      <td>5.490488e+04</td>\n",
       "      <td>6.352250e+04</td>\n",
       "      <td>1.115297e+05</td>\n",
       "      <td>10.344505</td>\n",
       "      <td>24774.289062</td>\n",
       "      <td>1.538937</td>\n",
       "      <td>2.810382</td>\n",
       "      <td>0.444500</td>\n",
       "      <td>0.488909</td>\n",
       "      <td>0.485617</td>\n",
       "      <td>0.483192</td>\n",
       "      <td>0.439541</td>\n",
       "      <td>0.428411</td>\n",
       "      <td>0.481399</td>\n",
       "    </tr>\n",
       "    <tr>\n",
       "      <th>min</th>\n",
       "      <td>0.000000e+00</td>\n",
       "      <td>-5.023020e+05</td>\n",
       "      <td>-5.023020e+05</td>\n",
       "      <td>25.000000</td>\n",
       "      <td>-2652.000000</td>\n",
       "      <td>1.000000</td>\n",
       "      <td>1.000000</td>\n",
       "      <td>0.000000</td>\n",
       "      <td>0.000000</td>\n",
       "      <td>0.000000</td>\n",
       "      <td>0.000000</td>\n",
       "      <td>0.000000</td>\n",
       "      <td>0.000000</td>\n",
       "      <td>0.000000</td>\n",
       "    </tr>\n",
       "    <tr>\n",
       "      <th>25%</th>\n",
       "      <td>2.000000e+02</td>\n",
       "      <td>-5.000000e+02</td>\n",
       "      <td>3.291500e+03</td>\n",
       "      <td>32.000000</td>\n",
       "      <td>19413.000000</td>\n",
       "      <td>2.000000</td>\n",
       "      <td>12.000000</td>\n",
       "      <td>0.000000</td>\n",
       "      <td>0.000000</td>\n",
       "      <td>0.000000</td>\n",
       "      <td>0.000000</td>\n",
       "      <td>0.000000</td>\n",
       "      <td>0.000000</td>\n",
       "      <td>0.000000</td>\n",
       "    </tr>\n",
       "    <tr>\n",
       "      <th>50%</th>\n",
       "      <td>1.635000e+03</td>\n",
       "      <td>1.499000e+03</td>\n",
       "      <td>2.510000e+04</td>\n",
       "      <td>40.000000</td>\n",
       "      <td>31476.000000</td>\n",
       "      <td>3.000000</td>\n",
       "      <td>12.000000</td>\n",
       "      <td>0.000000</td>\n",
       "      <td>1.000000</td>\n",
       "      <td>0.000000</td>\n",
       "      <td>0.000000</td>\n",
       "      <td>0.000000</td>\n",
       "      <td>0.000000</td>\n",
       "      <td>1.000000</td>\n",
       "    </tr>\n",
       "    <tr>\n",
       "      <th>75%</th>\n",
       "      <td>8.765500e+03</td>\n",
       "      <td>1.652450e+04</td>\n",
       "      <td>8.148750e+04</td>\n",
       "      <td>48.000000</td>\n",
       "      <td>48583.500000</td>\n",
       "      <td>4.000000</td>\n",
       "      <td>16.000000</td>\n",
       "      <td>1.000000</td>\n",
       "      <td>1.000000</td>\n",
       "      <td>1.000000</td>\n",
       "      <td>1.000000</td>\n",
       "      <td>1.000000</td>\n",
       "      <td>0.000000</td>\n",
       "      <td>1.000000</td>\n",
       "    </tr>\n",
       "    <tr>\n",
       "      <th>max</th>\n",
       "      <td>1.430298e+06</td>\n",
       "      <td>1.536798e+06</td>\n",
       "      <td>2.029910e+06</td>\n",
       "      <td>64.000000</td>\n",
       "      <td>242124.000000</td>\n",
       "      <td>13.000000</td>\n",
       "      <td>18.000000</td>\n",
       "      <td>1.000000</td>\n",
       "      <td>1.000000</td>\n",
       "      <td>1.000000</td>\n",
       "      <td>1.000000</td>\n",
       "      <td>1.000000</td>\n",
       "      <td>1.000000</td>\n",
       "      <td>1.000000</td>\n",
       "    </tr>\n",
       "  </tbody>\n",
       "</table>\n",
       "</div>"
      ],
      "text/plain": [
       "               nifa       net_tfa            tw          age            inc  \\\n",
       "count  9.915000e+03  9.915000e+03  9.915000e+03  9915.000000    9915.000000   \n",
       "mean   1.392864e+04  1.805153e+04  6.381685e+04    41.060212   37200.621094   \n",
       "std    5.490488e+04  6.352250e+04  1.115297e+05    10.344505   24774.289062   \n",
       "min    0.000000e+00 -5.023020e+05 -5.023020e+05    25.000000   -2652.000000   \n",
       "25%    2.000000e+02 -5.000000e+02  3.291500e+03    32.000000   19413.000000   \n",
       "50%    1.635000e+03  1.499000e+03  2.510000e+04    40.000000   31476.000000   \n",
       "75%    8.765500e+03  1.652450e+04  8.148750e+04    48.000000   48583.500000   \n",
       "max    1.430298e+06  1.536798e+06  2.029910e+06    64.000000  242124.000000   \n",
       "\n",
       "             fsize         educ           db         marr      twoearn  \\\n",
       "count  9915.000000  9915.000000  9915.000000  9915.000000  9915.000000   \n",
       "mean      2.865860    13.206253     0.271004     0.604841     0.380837   \n",
       "std       1.538937     2.810382     0.444500     0.488909     0.485617   \n",
       "min       1.000000     1.000000     0.000000     0.000000     0.000000   \n",
       "25%       2.000000    12.000000     0.000000     0.000000     0.000000   \n",
       "50%       3.000000    12.000000     0.000000     1.000000     0.000000   \n",
       "75%       4.000000    16.000000     1.000000     1.000000     1.000000   \n",
       "max      13.000000    18.000000     1.000000     1.000000     1.000000   \n",
       "\n",
       "              e401         p401         pira         hown  \n",
       "count  9915.000000  9915.000000  9915.000000  9915.000000  \n",
       "mean      0.371357     0.261624     0.242158     0.635199  \n",
       "std       0.483192     0.439541     0.428411     0.481399  \n",
       "min       0.000000     0.000000     0.000000     0.000000  \n",
       "25%       0.000000     0.000000     0.000000     0.000000  \n",
       "50%       0.000000     0.000000     0.000000     1.000000  \n",
       "75%       1.000000     1.000000     0.000000     1.000000  \n",
       "max       1.000000     1.000000     1.000000     1.000000  "
      ]
     },
     "execution_count": 5,
     "metadata": {},
     "output_type": "execute_result"
    }
   ],
   "source": [
    "data.describe()"
   ]
  },
  {
   "cell_type": "markdown",
   "id": "3ea8c00f",
   "metadata": {},
   "source": [
    "The data consist of 9,915 observations at the household level drawn from the 1991 Survey of Income and Program Participation (SIPP).  All the variables are referred to 1990. We use net financial assets (*net\\_tfa*) as the outcome variable, $Y$,  in our analysis. The net financial assets are computed as the sum of IRA balances, 401(k) balances, checking accounts, saving bonds, other interest-earning accounts, other interest-earning assets, stocks, and mutual funds less non mortgage debts. "
   ]
  },
  {
   "cell_type": "markdown",
   "id": "1a4f9dc4",
   "metadata": {},
   "source": [
    "Among the $9915$ individuals, $3682$ are eligible to participate in the program. The variable *e401* indicates eligibility and *p401* indicates participation, respectively."
   ]
  },
  {
   "cell_type": "code",
   "execution_count": 6,
   "id": "1fb9537b",
   "metadata": {},
   "outputs": [
    {
     "data": {
      "image/png": "[encoded data removed]",
      "text/plain": [
       "<Figure size 1000x750 with 1 Axes>"
      ]
     },
     "metadata": {},
     "output_type": "display_data"
    }
   ],
   "source": [
    "data['e401'].value_counts().plot(kind='bar', color=colors)\n",
    "plt.title('Eligibility, 401(k)')\n",
    "plt.xlabel('e401')\n",
    "_ = plt.ylabel('count')"
   ]
  },
  {
   "cell_type": "code",
   "execution_count": 7,
   "id": "3d464563",
   "metadata": {},
   "outputs": [
    {
     "data": {
      "image/png": "[encoded data removed]",
      "text/plain": [
       "<Figure size 1000x750 with 1 Axes>"
      ]
     },
     "metadata": {},
     "output_type": "display_data"
    }
   ],
   "source": [
    "data['p401'].value_counts().plot(kind='bar', color=colors)\n",
    "plt.title('Participation, 401(k)')\n",
    "plt.xlabel('p401')\n",
    "_ = plt.ylabel('count')"
   ]
  },
  {
   "cell_type": "markdown",
   "id": "b8461a88",
   "metadata": {},
   "source": [
    "Eligibility is highly associated with financial wealth:"
   ]
  },
  {
   "cell_type": "code",
   "execution_count": 8,
   "id": "9ab147b8",
   "metadata": {},
   "outputs": [
    {
     "data": {
      "image/png": "[encoded data removed]",
      "text/plain": [
       "<Figure size 1095.25x500 with 2 Axes>"
      ]
     },
     "metadata": {},
     "output_type": "display_data"
    }
   ],
   "source": [
    "_ = sns.displot(data, x=\"net_tfa\", hue=\"e401\", col=\"e401\",\n",
    "                kind=\"kde\", fill=True)"
   ]
  },
  {
   "cell_type": "markdown",
   "id": "aae566a4",
   "metadata": {},
   "source": [
    "As a first estimate, we calculate the unconditional average predictive effect (APE) of 401(k) eligibility on accumulated assets. This effect corresponds to the average treatment effect if 401(k) eligibility would be assigned to individuals in an entirely randomized way. The unconditional APE of e401 is about $19559$:"
   ]
  },
  {
   "cell_type": "code",
   "execution_count": 9,
   "id": "97d9b759",
   "metadata": {},
   "outputs": [
    {
     "data": {
      "text/html": [
       "<div>\n",
       "<style scoped>\n",
       "    .dataframe tbody tr th:only-of-type {\n",
       "        vertical-align: middle;\n",
       "    }\n",
       "\n",
       "    .dataframe tbody tr th {\n",
       "        vertical-align: top;\n",
       "    }\n",
       "\n",
       "    .dataframe thead th {\n",
       "        text-align: right;\n",
       "    }\n",
       "</style>\n",
       "<table border=\"1\" class=\"dataframe\">\n",
       "  <thead>\n",
       "    <tr style=\"text-align: right;\">\n",
       "      <th></th>\n",
       "      <th>net_tfa</th>\n",
       "    </tr>\n",
       "    <tr>\n",
       "      <th>e401</th>\n",
       "      <th></th>\n",
       "    </tr>\n",
       "  </thead>\n",
       "  <tbody>\n",
       "    <tr>\n",
       "      <th>0</th>\n",
       "      <td>NaN</td>\n",
       "    </tr>\n",
       "    <tr>\n",
       "      <th>1</th>\n",
       "      <td>19559.34375</td>\n",
       "    </tr>\n",
       "  </tbody>\n",
       "</table>\n",
       "</div>"
      ],
      "text/plain": [
       "          net_tfa\n",
       "e401             \n",
       "0             NaN\n",
       "1     19559.34375"
      ]
     },
     "execution_count": 9,
     "metadata": {},
     "output_type": "execute_result"
    }
   ],
   "source": [
    "data[['e401', 'net_tfa']].groupby('e401').mean().diff()"
   ]
  },
  {
   "cell_type": "markdown",
   "id": "491fc066",
   "metadata": {},
   "source": [
    "Among the $3682$ individuals that  are eligible, $2594$ decided to participate in the program. The unconditional APE of p401 is about $27372$:"
   ]
  },
  {
   "cell_type": "code",
   "execution_count": 10,
   "id": "7f1660be",
   "metadata": {},
   "outputs": [
    {
     "data": {
      "text/html": [
       "<div>\n",
       "<style scoped>\n",
       "    .dataframe tbody tr th:only-of-type {\n",
       "        vertical-align: middle;\n",
       "    }\n",
       "\n",
       "    .dataframe tbody tr th {\n",
       "        vertical-align: top;\n",
       "    }\n",
       "\n",
       "    .dataframe thead th {\n",
       "        text-align: right;\n",
       "    }\n",
       "</style>\n",
       "<table border=\"1\" class=\"dataframe\">\n",
       "  <thead>\n",
       "    <tr style=\"text-align: right;\">\n",
       "      <th></th>\n",
       "      <th>net_tfa</th>\n",
       "    </tr>\n",
       "    <tr>\n",
       "      <th>p401</th>\n",
       "      <th></th>\n",
       "    </tr>\n",
       "  </thead>\n",
       "  <tbody>\n",
       "    <tr>\n",
       "      <th>0</th>\n",
       "      <td>NaN</td>\n",
       "    </tr>\n",
       "    <tr>\n",
       "      <th>1</th>\n",
       "      <td>27371.582031</td>\n",
       "    </tr>\n",
       "  </tbody>\n",
       "</table>\n",
       "</div>"
      ],
      "text/plain": [
       "           net_tfa\n",
       "p401              \n",
       "0              NaN\n",
       "1     27371.582031"
      ]
     },
     "execution_count": 10,
     "metadata": {},
     "output_type": "execute_result"
    }
   ],
   "source": [
    "data[['p401', 'net_tfa']].groupby('p401').mean().diff()"
   ]
  },
  {
   "cell_type": "markdown",
   "id": "58862aff",
   "metadata": {},
   "source": [
    "As discussed, these estimates are biased since they do not account for saver heterogeneity and endogeneity of participation."
   ]
  },
  {
   "cell_type": "code",
   "execution_count": 11,
   "metadata": {
    "collapsed": false
   },
   "outputs": [],
   "source": [
    "# Set up basic model: Specify variables for data-backend\n",
    "features_base = ['age', 'inc', 'educ', 'fsize', 'marr',\n",
    "                 'twoearn', 'db', 'pira', 'hown']\n",
    "\n",
    "\n",
    "# Initialize DoubleMLData (data-backend of DoubleML)\n",
    "data_dml_base = dml.DoubleMLData(data,\n",
    "                                 y_col='net_tfa',\n",
    "                                 d_cols='e401',\n",
    "                                 x_cols=features_base)"
   ]
  },
  {
   "attachments": {},
   "cell_type": "markdown",
   "id": "6a22a2ed",
   "metadata": {},
   "source": [
    "## Estimating Potential Quantiles and Quantile Treatment Effects\n",
    "\n",
    "We will use the [DoubleML](https://docs.doubleml.org/stable/index.html) package to estimate quantile treatment effects of 401(k) eligibility, i.e. `e401`.\n",
    "As it is more interesting to take a look at a range of quantiles instead of a single one, we will first define a discretisized grid of quanitles `tau_vec`, which will range from the 10%-quantile to the 90%-quantile.\n",
    "Further, we need a machine learning algorithm to estimate the nuisance elements of our model. In this example, we will use a basic `RandomForestClassifier`."
   ]
  },
  {
   "cell_type": "code",
   "execution_count": 12,
   "metadata": {
    "collapsed": false
   },
   "outputs": [],
   "source": [
    "tau_vec = np.arange(0.1,0.95,0.05)\n",
    "n_folds = 5\n",
    "\n",
    "# Random Forest\n",
    "learner = RandomForestClassifier(\n",
    "    n_estimators=100, max_depth=20, max_features=5, min_samples_leaf=10)"
   ]
  },
  {
   "attachments": {},
   "cell_type": "markdown",
   "id": "d56cd2b7",
   "metadata": {},
   "source": [
    "Next, we will apply create an `DoubleMLPQ` object for each quantile to fit a quantile model. Here, we have to specifiy, whether we would like to estimate a potential quantile for the treatment group `treatment=1` or control `treatment=0`. Further basic options are trimming and normalization of the propensity scores (`trimming_rule=\"truncate\"`, `trimming_threshold=0.01` and `normalize_ipw=True`). "
   ]
  },
  {
   "cell_type": "code",
   "execution_count": null,
   "metadata": {
    "collapsed": false
   },
   "outputs": [],
   "source": [
    "PQ_0 = np.full((len(tau_vec)), np.nan)\n",
    "PQ_1 = np.full((len(tau_vec)), np.nan)\n",
    "\n",
    "ci_PQ_0 = np.full((len(tau_vec),2), np.nan)\n",
    "ci_PQ_1 = np.full((len(tau_vec),2), np.nan)\n",
    "\n",
    "for idx_tau, tau in enumerate(tau_vec):\n",
    "    print(f'Quantile: {tau}')\n",
    "    dml_PQ_0 = dml.DoubleMLPQ(data_dml_base, \n",
    "                              ml_g=clone(learner),\n",
    "                              ml_m=clone(learner),\n",
    "                              score=\"PQ\",\n",
    "                              treatment=0,\n",
    "                              quantile=tau,\n",
    "                              n_folds=n_folds,\n",
    "                              normalize_ipw=True,\n",
    "                              trimming_rule=\"truncate\",\n",
    "                              trimming_threshold=1e-2)\n",
    "    dml_PQ_1 = dml.DoubleMLPQ(data_dml_base,\n",
    "                              ml_g=clone(learner),\n",
    "                              ml_m=clone(learner),\n",
    "                              score=\"PQ\",\n",
    "                              treatment=1,\n",
    "                              quantile=tau,\n",
    "                              n_folds=n_folds,\n",
    "                              normalize_ipw=True,\n",
    "                              trimming_rule=\"truncate\",\n",
    "                              trimming_threshold=1e-2)\n",
    "\n",
    "    dml_PQ_0.fit()\n",
    "    dml_PQ_1.fit()\n",
    "\n",
    "    PQ_0[idx_tau] = dml_PQ_0.coef\n",
    "    PQ_1[idx_tau] = dml_PQ_1.coef\n",
    "\n",
    "    ci_PQ_0[idx_tau, :] = dml_PQ_0.confint(level=0.95).to_numpy()\n",
    "    ci_PQ_1[idx_tau, :] = dml_PQ_1.confint(level=0.95).to_numpy()"
   ]
  },
  {
   "attachments": {},
   "cell_type": "markdown",
   "id": "3ba94f1d",
   "metadata": {},
   "source": [
    "Additionally, each `DoubleMLPQ` object has a (hopefully) helpful summary, which indicates also the evaluation of the nuisance elements with cross-validated estimation. See e.g. `dml_PQ_1'"
   ]
  },
  {
   "cell_type": "code",
   "execution_count": null,
   "id": "611263dd",
   "metadata": {},
   "outputs": [],
   "source": [
    "print(dml_PQ_1)"
   ]
  },
  {
   "attachments": {},
   "cell_type": "markdown",
   "id": "3011ec6c",
   "metadata": {},
   "source": [
    "Finally, let us take a look at the estimated potential quantiles"
   ]
  },
  {
   "cell_type": "code",
   "execution_count": null,
   "metadata": {
    "collapsed": false
   },
   "outputs": [],
   "source": [
    "data_pq = {\"Quantile\": tau_vec,\n",
    "           \"DML Y(0)\": PQ_0, \"DML Y(1)\": PQ_1,\n",
    "           \"DML Y(0) lower\": ci_PQ_0[:, 0], \"DML Y(0) upper\": ci_PQ_0[:, 1],\n",
    "           \"DML Y(1) lower\": ci_PQ_1[:, 0], \"DML Y(1) upper\": ci_PQ_1[:, 1]}\n",
    "df_pq = pd.DataFrame(data_pq)\n",
    "print(df_pq)"
   ]
  },
  {
   "cell_type": "code",
   "execution_count": null,
   "metadata": {
    "collapsed": false
   },
   "outputs": [],
   "source": [
    "from matplotlib import pyplot as plt\n",
    "plt.rcParams['figure.figsize'] = 10., 7.5\n",
    "fig, (ax1, ax2) = plt.subplots(1 ,2)\n",
    "ax1.grid(); ax2.grid()\n",
    "\n",
    "ax1.plot(df_pq['Quantile'],df_pq['DML Y(0)'], color='violet', label='Estimated Quantile Y(0)')\n",
    "ax1.fill_between(df_pq['Quantile'], df_pq['DML Y(0) lower'], df_pq['DML Y(0) upper'], color='violet', alpha=.3, label='Confidence Interval')\n",
    "ax1.legend()\n",
    "\n",
    "ax2.plot(df_pq['Quantile'],df_pq['DML Y(1)'], color='violet', label='Estimated Quantile Y(1)')\n",
    "ax2.fill_between(df_pq['Quantile'], df_pq['DML Y(1) lower'], df_pq['DML Y(1) upper'], color='violet', alpha=.3, label='Confidence Interval')\n",
    "ax2.legend()\n",
    "\n",
    "fig.suptitle('Potential Quantiles', fontsize=16)\n",
    "fig.supxlabel('Quantile')\n",
    "_ = fig.supylabel('Potential Quantile and 95%-CI')"
   ]
  },
  {
   "attachments": {},
   "cell_type": "markdown",
   "id": "0a78b537",
   "metadata": {},
   "source": [
    "As we are interested in the QTE, we can use the `DoubleMLQTE` object, which internally fits two `DoubleMLPQ` objects for the treatment and control group. The main advantage is to apply this to a list of quantiles and construct uniformly valid confidence intervals for the range of treatment effects."
   ]
  },
  {
   "cell_type": "code",
   "execution_count": 13,
   "metadata": {
    "collapsed": false
   },
   "outputs": [
    {
     "name": "stdout",
     "output_type": "stream",
     "text": [
      "================== DoubleMLQTE Object ==================\n",
      "\n",
      "------------------ Fit summary       ------------------\n",
      "         coef      std err          t         P>|t|         2.5 %  \\\n",
      "0.10   1601.0   366.085743   4.373292  1.223866e-05    883.485129   \n",
      "0.15   1200.0   249.486286   4.809884  1.510182e-06    711.015865   \n",
      "0.20   1224.0   234.882351   5.211120  1.877045e-07    763.639052   \n",
      "0.25   1000.0   220.889223   4.527156  5.978277e-06    567.065078   \n",
      "0.30    649.0   235.553813   2.755209  5.865464e-03    187.323011   \n",
      "0.35    900.0   225.867729   3.984633  6.758450e-05    457.307386   \n",
      "0.40   1620.0   231.441395   6.999612  2.566721e-12   1166.383201   \n",
      "0.45   2900.0   299.965109   9.667791  4.132001e-22   2312.079190   \n",
      "0.50   4126.0   374.671241  11.012321  3.333045e-28   3391.657862   \n",
      "0.55   4945.0   434.728388  11.374919  5.575489e-30   4092.948016   \n",
      "0.60   6760.0   643.137694  10.510968  7.689978e-26   5499.473282   \n",
      "0.65   8600.0   799.986578  10.750180  5.914585e-27   7032.055120   \n",
      "0.70  10621.0  1016.162588  10.452068  1.433652e-25   8629.357925   \n",
      "0.75  13084.0  1158.374072  11.295142  1.386792e-29  10813.628538   \n",
      "0.80  15500.0  1615.690050   9.593424  8.520916e-22  12333.305692   \n",
      "0.85  18500.0  1637.888132  11.295033  1.388524e-29  15289.798251   \n",
      "0.90  20270.0  2240.812179   9.045827  1.485361e-19  15878.088833   \n",
      "\n",
      "            97.5 %  \n",
      "0.10   2318.514871  \n",
      "0.15   1688.984135  \n",
      "0.20   1684.360948  \n",
      "0.25   1432.934922  \n",
      "0.30   1110.676989  \n",
      "0.35   1342.692614  \n",
      "0.40   2073.616799  \n",
      "0.45   3487.920810  \n",
      "0.50   4860.342138  \n",
      "0.55   5797.051984  \n",
      "0.60   8020.526718  \n",
      "0.65  10167.944880  \n",
      "0.70  12612.642075  \n",
      "0.75  15354.371462  \n",
      "0.80  18666.694308  \n",
      "0.85  21710.201749  \n",
      "0.90  24661.911167  \n"
     ]
    }
   ],
   "source": [
    "n_cores = multiprocessing.cpu_count()\n",
    "print(f\"Number of Cores: {n_cores}\")\n",
    "\n",
    "np.random.seed(42)\n",
    "dml_QTE = dml.DoubleMLQTE(data_dml_base,\n",
    "                           ml_g=clone(learner),\n",
    "                           ml_m=clone(learner),\n",
    "                           quantiles=tau_vec,\n",
    "                           score='PQ',\n",
    "                           n_folds=n_folds,\n",
    "                           normalize_ipw=True,\n",
    "                           trimming_rule=\"truncate\",\n",
    "                           trimming_threshold=1e-2)\n",
    "dml_QTE.fit(n_jobs_models=n_cores-1)\n",
    "print(dml_QTE)"
   ]
  },
  {
   "attachments": {},
   "cell_type": "markdown",
   "id": "91202581",
   "metadata": {},
   "source": [
    "For uniformly valid confidence intervals, we still need to apply a bootstrap first. \n",
    "Let's take a quick look at the QTEs combinded with a confidence interval."
   ]
  },
  {
   "cell_type": "code",
   "execution_count": 17,
   "metadata": {
    "collapsed": false
   },
   "outputs": [
    {
     "name": "stdout",
     "output_type": "stream",
     "text": [
      "      Quantile  DML QTE  DML QTE lower  DML QTE upper\n",
      "0.10      0.10   1601.0     555.486637    2646.513363\n",
      "0.15      0.15   1200.0     487.485921    1912.514079\n",
      "0.20      0.20   1224.0     553.193662    1894.806338\n",
      "0.25      0.25   1000.0     369.156983    1630.843017\n",
      "0.30      0.30    649.0     -23.723982    1321.723982\n",
      "0.35      0.35    900.0     254.938745    1545.061255\n",
      "0.40      0.40   1620.0     959.020773    2280.979227\n",
      "0.45      0.45   2900.0    2043.322197    3756.677803\n",
      "0.50      0.50   4126.0    3055.967101    5196.032899\n",
      "0.55      0.55   4945.0    3703.448402    6186.551598\n",
      "0.60      0.60   6760.0    4923.247090    8596.752910\n",
      "0.65      0.65   8600.0    6315.298470   10884.701530\n",
      "0.70      0.70  10621.0    7718.916034   13523.083966\n",
      "0.75      0.75  13084.0    9775.770725   16392.229275\n",
      "0.80      0.80  15500.0   10885.710670   20114.289330\n",
      "0.85      0.85  18500.0   13822.314616   23177.685384\n",
      "0.90      0.90  20270.0   13870.408859   26669.591141\n"
     ]
    }
   ],
   "source": [
    "dml_QTE.bootstrap(n_rep_boot=2000)\n",
    "ci_QTE = dml_QTE.confint(level=0.95, joint=True)\n",
    "\n",
    "data_qte = {\"Quantile\": tau_vec, \"DML QTE\": dml_QTE.coef,\n",
    "            \"DML QTE lower\": ci_QTE[\"2.5 %\"], \"DML QTE upper\": ci_QTE[\"97.5 %\"]}\n",
    "df_qte = pd.DataFrame(data_qte)\n",
    "print(df_qte)"
   ]
  },
  {
   "cell_type": "code",
   "execution_count": 18,
   "metadata": {
    "collapsed": false
   },
   "outputs": [
    {
     "data": {
      "image/png": "[encoded data removed]",
      "text/plain": [
       "<Figure size 1000x750 with 1 Axes>"
      ]
     },
     "metadata": {},
     "output_type": "display_data"
    }
   ],
   "source": [
    "plt.rcParams['figure.figsize'] = 10., 7.5\n",
    "fig, ax = plt.subplots()\n",
    "ax.grid()\n",
    "\n",
    "ax.plot(df_qte['Quantile'],df_qte['DML QTE'], color='violet', label='Estimated QTE')\n",
    "ax.fill_between(df_qte['Quantile'], df_qte['DML QTE lower'], df_qte['DML QTE upper'], color='violet', alpha=.3, label='Confidence Interval')\n",
    "\n",
    "plt.legend()\n",
    "plt.title('Quantile Treatment Effects', fontsize=16)\n",
    "plt.xlabel('Quantile')\n",
    "_ = plt.ylabel('QTE and 95%-CI')"
   ]
  },
  {
   "attachments": {},
   "cell_type": "markdown",
   "id": "1d0c8d17",
   "metadata": {},
   "source": [
    "## Estimating the treatment effect on the Conditional Value a Risk (CVaR)\n",
    "\n",
    "Similar to the evaluation of the estimation of quantile treatment effects (QTEs), we can estimate the conditional value at risk ([CVaR](https://de.wikipedia.org/wiki/Conditional_Value_at_Risk)) for given quantiles. Here, we will only focus on treatment effect estimation, but the DoubleML package also allows for estimation of potential CVaRs.\n",
    "\n",
    "The estimation of treatment effects can be easily done by adjusting the score in the `DoubleMLQTE` object to `score=\"CVaR\"`, as the estimation is based on the same nuisance elements as QTEs."
   ]
  },
  {
   "cell_type": "code",
   "execution_count": null,
   "id": "2147887e",
   "metadata": {},
   "outputs": [],
   "source": [
    "np.random.seed(42)\n",
    "dml_CVAR = dml.DoubleMLQTE(data_dml_base,\n",
    "                           ml_g=clone(learner),\n",
    "                           ml_m=clone(learner),\n",
    "                           quantiles=tau_vec,\n",
    "                           score=\"CVaR\",\n",
    "                           n_folds=n_folds,\n",
    "                           normalize_ipw=True,\n",
    "                           trimming_rule=\"truncate\",\n",
    "                           trimming_threshold=1e-2)\n",
    "dml_CVAR.fit()\n",
    "print(dml_CVAR)"
   ]
  },
  {
   "attachments": {},
   "cell_type": "markdown",
   "id": "f380651e",
   "metadata": {},
   "source": [
    "Estimation of the corresponding (uniformly) valid confidence intervals can be done analogously to the quantile treatment effects."
   ]
  },
  {
   "cell_type": "code",
   "execution_count": null,
   "id": "e50b4b99",
   "metadata": {},
   "outputs": [],
   "source": [
    "dml_CVAR.bootstrap(n_rep_boot=2000)\n",
    "ci_CVAR = dml_CVAR.confint(level=0.95, joint=True)\n",
    "\n",
    "data_cvar = {\"Quantile\": tau_vec, \"DML CVAR\": dml_CVAR.coef,\n",
    "            \"DML CVAR lower\": ci_CVAR[\"2.5 %\"], \"DML CVAR upper\": ci_CVAR[\"97.5 %\"]}\n",
    "df_cvar = pd.DataFrame(data_cvar)\n",
    "print(df_cvar)"
   ]
  },
  {
   "attachments": {},
   "cell_type": "markdown",
   "id": "741d477f",
   "metadata": {},
   "source": [
    "Finally, let us take a look at the estimated treatment effects on the CVaR."
   ]
  },
  {
   "cell_type": "code",
   "execution_count": null,
   "id": "5b3d590a",
   "metadata": {},
   "outputs": [],
   "source": [
    "plt.rcParams['figure.figsize'] = 10., 7.5\n",
    "fig, ax = plt.subplots()\n",
    "ax.grid()\n",
    "\n",
    "ax.plot(df_cvar['Quantile'],df_cvar['DML CVAR'], color='violet', label='Estimated CVaR Effect')\n",
    "ax.fill_between(df_cvar['Quantile'], df_cvar['DML CVAR lower'], df_cvar['DML CVAR upper'], color='violet', alpha=.3, label='Confidence Interval')\n",
    "\n",
    "plt.legend()\n",
    "plt.title('Conditional Value at Risk', fontsize=16)\n",
    "plt.xlabel('Quantile')\n",
    "_ = plt.ylabel('CVaR Effect and 95%-CI')"
   ]
  },
  {
   "attachments": {},
   "cell_type": "markdown",
   "id": "7b39b3f4",
   "metadata": {},
   "source": [
    "## Estimating local quantile treatment effects (LQTEs)\n",
    "\n",
    "If we have an `IIVM` model with a given instrumental variable, we are still able to identify the local quantile treatment effect (LQTE), the quantile treatment effect on compliers. For the 401(k) pension data we can use `e401` as an instrument for participation `p401`. \n",
    "To fit an `DoubleML` model with an instrument, we have to change the data backend and specify the instrument."
   ]
  },
  {
   "cell_type": "code",
   "execution_count": null,
   "id": "3d0d5a8c",
   "metadata": {},
   "outputs": [],
   "source": [
    "# Initialize DoubleMLData with an instrument\n",
    "\n",
    "# Basic model\n",
    "data_dml_base_iv = dml.DoubleMLData(data,\n",
    "                                    y_col='net_tfa',\n",
    "                                    d_cols='p401',\n",
    "                                    z_cols='e401',\n",
    "                                    x_cols=features_base)\n",
    "\n",
    "print(data_dml_base_iv)"
   ]
  },
  {
   "attachments": {},
   "cell_type": "markdown",
   "id": "797ab98e",
   "metadata": {},
   "source": [
    "The estimation of local treatment effects can be easily done by adjusting the score in the `DoubleMLQTE` object to `score=\"LPQ\"`."
   ]
  },
  {
   "cell_type": "code",
   "execution_count": null,
   "id": "bf543cbb",
   "metadata": {},
   "outputs": [],
   "source": [
    "np.random.seed(42)\n",
    "dml_LQTE = dml.DoubleMLQTE(data_dml_base_iv,\n",
    "                           ml_g=clone(learner),\n",
    "                           ml_m=clone(learner),\n",
    "                           quantiles=tau_vec,\n",
    "                           score=\"LPQ\",\n",
    "                           n_folds=n_folds,\n",
    "                           normalize_ipw=True,\n",
    "                           trimming_rule=\"truncate\",\n",
    "                           trimming_threshold=1e-2)\n",
    "dml_LQTE.fit()\n",
    "print(dml_LQTE)"
   ]
  },
  {
   "attachments": {},
   "cell_type": "markdown",
   "id": "62bd2981",
   "metadata": {},
   "source": [
    "Estimation of the corresponding (uniformly) valid confidence intervals can be done analogously to the quantile treatment effects."
   ]
  },
  {
   "cell_type": "code",
   "execution_count": null,
   "id": "f92451b9",
   "metadata": {},
   "outputs": [],
   "source": [
    "dml_LQTE.bootstrap(n_rep_boot=2000)\n",
    "ci_LQTE = dml_LQTE.confint(level=0.95, joint=True)\n",
    "\n",
    "data_lqte = {\"Quantile\": tau_vec, \"DML LQTE\": dml_LQTE.coef,\n",
    "            \"DML LQTE lower\": ci_LQTE[\"2.5 %\"], \"DML LQTE upper\": ci_LQTE[\"97.5 %\"]}\n",
    "df_lqte = pd.DataFrame(data_lqte)\n",
    "print(df_lqte)"
   ]
  },
  {
   "attachments": {},
   "cell_type": "markdown",
   "id": "5f26ac09",
   "metadata": {},
   "source": [
    "Finally, let us take a look at the estimated local quantile treatment effects."
   ]
  },
  {
   "cell_type": "code",
   "execution_count": null,
   "id": "727c5bf0",
   "metadata": {},
   "outputs": [],
   "source": [
    "plt.rcParams['figure.figsize'] = 10., 7.5\n",
    "fig, ax = plt.subplots()\n",
    "ax.grid()\n",
    "\n",
    "ax.plot(df_lqte['Quantile'],df_lqte['DML LQTE'], color='violet', label='Estimated LQTE')\n",
    "ax.fill_between(df_lqte['Quantile'], df_lqte['DML LQTE lower'], df_lqte['DML LQTE upper'], color='violet', alpha=.3, label='Confidence Interval')\n",
    "\n",
    "plt.legend()\n",
    "plt.title('Local Quantile Treatment Effect', fontsize=16)\n",
    "plt.xlabel('Quantile')\n",
    "_ = plt.ylabel('LQTE and 95%-CI')"
   ]
  }
 ],
 "metadata": {
  "kernelspec": {
   "display_name": "dml_base",
   "language": "python",
   "name": "python3"
  },
  "language_info": {
   "codemirror_mode": {
    "name": "ipython",
    "version": 3
   },
   "file_extension": ".py",
   "mimetype": "text/x-python",
   "name": "python",
   "nbconvert_exporter": "python",
   "pygments_lexer": "ipython3",
   "version": "3.10.8"
  },
  "vscode": {
   "interpreter": {
    "hash": "04413e1efd13b5e2aaedccc5facec5686292d28983ef24fa021a12c73bd6369e"
   }
  }
 },
 "nbformat": 4,
 "nbformat_minor": 5
}
