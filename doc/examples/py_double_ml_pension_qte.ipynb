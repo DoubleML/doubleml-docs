{
 "cells": [
  {
   "cell_type": "markdown",
   "id": "2b2a0fd8",
   "metadata": {},
   "source": [
    "# Python: Impact of 401(k) on Financial Wealth"
   ]
  },
  {
   "cell_type": "markdown",
   "id": "a967ed5f",
   "metadata": {},
   "source": [
    "In this real-data example, we illustrate how the [DoubleML](https://docs.doubleml.org/stable/index.html) package can be used to estimate the effect of 401(k) eligibility and participation on accumulated assets. The 401(k) data set has been analyzed in several studies, among others [Chernozhukov et al. (2018)](https://arxiv.org/abs/1608.00060).\n",
    "\n",
    "401(k) plans are pension accounts sponsored by employers. The key problem in determining the effect of participation in 401(k) plans on accumulated assets is saver heterogeneity coupled with the fact that the decision to enroll in a 401(k) is non-random. It is generally recognized that some people have a higher preference for saving than others. It also seems likely that those individuals with high unobserved preference for saving would be most likely to choose to participate in tax-advantaged retirement savings plans and would tend to have otherwise high amounts of accumulated assets. The presence of unobserved savings preferences with these properties then implies that conventional estimates that do not account for saver heterogeneity and endogeneity of participation will be biased upward, tending to overstate the savings effects of 401(k) participation.\n",
    "\n",
    "One can argue that eligibility for enrolling in a 401(k) plan in this data can be taken as exogenous after conditioning on a few observables of which the most important for their argument is income. The basic idea is that, at least around the time 401(k)’s initially became available, people were unlikely to be basing their employment decisions on whether an employer offered a 401(k) but would instead focus on income and other aspects of the job."
   ]
  },
  {
   "cell_type": "markdown",
   "id": "40b41785",
   "metadata": {},
   "source": [
    "## Data\n",
    "\n",
    "The preprocessed data can be fetched by calling [fetch_401K()](https://docs.doubleml.org/stable/api/generated/doubleml.datasets.fetch_401K.html#doubleml.datasets.fetch_401K). Note that an internet connection is required for loading the data."
   ]
  },
  {
   "cell_type": "code",
   "execution_count": 137,
   "id": "c06e87b2",
   "metadata": {},
   "outputs": [],
   "source": [
    "import numpy as np\n",
    "import pandas as pd\n",
    "import doubleml as dml\n",
    "import multiprocessing\n",
    "from doubleml.datasets import fetch_401K\n",
    "\n",
    "from sklearn.preprocessing import PolynomialFeatures\n",
    "from sklearn.linear_model import LassoCV, LogisticRegressionCV\n",
    "from sklearn.ensemble import RandomForestClassifier, RandomForestRegressor\n",
    "from sklearn.tree import DecisionTreeClassifier, DecisionTreeRegressor\n",
    "from sklearn.preprocessing import StandardScaler\n",
    "from sklearn.pipeline import make_pipeline\n",
    "from sklearn.base import clone\n",
    "\n",
    "from xgboost import XGBClassifier, XGBRegressor\n",
    "\n",
    "import matplotlib.pyplot as plt\n",
    "import seaborn as sns"
   ]
  },
  {
   "cell_type": "code",
   "execution_count": 138,
   "id": "28347df3",
   "metadata": {},
   "outputs": [],
   "source": [
    "sns.set()\n",
    "colors = sns.color_palette()"
   ]
  },
  {
   "cell_type": "code",
   "execution_count": 139,
   "id": "0ad5caf0",
   "metadata": {},
   "outputs": [],
   "source": [
    "plt.rcParams['figure.figsize'] = 10., 7.5\n",
    "sns.set(font_scale=1.5)\n",
    "sns.set_style('whitegrid', {'axes.spines.top': False,\n",
    "                            'axes.spines.bottom': False,\n",
    "                            'axes.spines.left': False,\n",
    "                            'axes.spines.right': False})"
   ]
  },
  {
   "cell_type": "code",
   "execution_count": 140,
   "id": "11763be2",
   "metadata": {},
   "outputs": [],
   "source": [
    "data_pension = fetch_401K(return_type='DataFrame')"
   ]
  },
  {
   "cell_type": "code",
   "execution_count": 5,
   "id": "853ba4be",
   "metadata": {},
   "outputs": [],
   "source": [
    "# Temporary fix for https://github.com/DoubleML/doubleml-docs/issues/45 / https://github.com/scikit-learn/scikit-learn/issues/21997\n",
    "# Can be removed when scikit-learn version 1.2.0 is released\n",
    "dtypes = data.dtypes\n",
    "dtypes['nifa'] = 'float64'\n",
    "dtypes['net_tfa'] = 'float64'\n",
    "dtypes['tw'] = 'float64'\n",
    "dtypes['inc'] = 'float64'\n",
    "data = data.astype(dtypes)"
   ]
  },
  {
   "cell_type": "code",
   "execution_count": 6,
   "id": "cf8659c7",
   "metadata": {},
   "outputs": [
    {
     "data": {
      "text/html": [
       "<div>\n",
       "<style scoped>\n",
       "    .dataframe tbody tr th:only-of-type {\n",
       "        vertical-align: middle;\n",
       "    }\n",
       "\n",
       "    .dataframe tbody tr th {\n",
       "        vertical-align: top;\n",
       "    }\n",
       "\n",
       "    .dataframe thead th {\n",
       "        text-align: right;\n",
       "    }\n",
       "</style>\n",
       "<table border=\"1\" class=\"dataframe\">\n",
       "  <thead>\n",
       "    <tr style=\"text-align: right;\">\n",
       "      <th></th>\n",
       "      <th>nifa</th>\n",
       "      <th>net_tfa</th>\n",
       "      <th>tw</th>\n",
       "      <th>age</th>\n",
       "      <th>inc</th>\n",
       "      <th>fsize</th>\n",
       "      <th>educ</th>\n",
       "      <th>db</th>\n",
       "      <th>marr</th>\n",
       "      <th>twoearn</th>\n",
       "      <th>e401</th>\n",
       "      <th>p401</th>\n",
       "      <th>pira</th>\n",
       "      <th>hown</th>\n",
       "    </tr>\n",
       "  </thead>\n",
       "  <tbody>\n",
       "    <tr>\n",
       "      <th>0</th>\n",
       "      <td>0.0</td>\n",
       "      <td>0.0</td>\n",
       "      <td>4500.0</td>\n",
       "      <td>47</td>\n",
       "      <td>6765.0</td>\n",
       "      <td>2</td>\n",
       "      <td>8</td>\n",
       "      <td>0</td>\n",
       "      <td>0</td>\n",
       "      <td>0</td>\n",
       "      <td>0</td>\n",
       "      <td>0</td>\n",
       "      <td>0</td>\n",
       "      <td>1</td>\n",
       "    </tr>\n",
       "    <tr>\n",
       "      <th>1</th>\n",
       "      <td>6215.0</td>\n",
       "      <td>1015.0</td>\n",
       "      <td>22390.0</td>\n",
       "      <td>36</td>\n",
       "      <td>28452.0</td>\n",
       "      <td>1</td>\n",
       "      <td>16</td>\n",
       "      <td>0</td>\n",
       "      <td>0</td>\n",
       "      <td>0</td>\n",
       "      <td>0</td>\n",
       "      <td>0</td>\n",
       "      <td>0</td>\n",
       "      <td>1</td>\n",
       "    </tr>\n",
       "    <tr>\n",
       "      <th>2</th>\n",
       "      <td>0.0</td>\n",
       "      <td>-2000.0</td>\n",
       "      <td>-2000.0</td>\n",
       "      <td>37</td>\n",
       "      <td>3300.0</td>\n",
       "      <td>6</td>\n",
       "      <td>12</td>\n",
       "      <td>1</td>\n",
       "      <td>0</td>\n",
       "      <td>0</td>\n",
       "      <td>0</td>\n",
       "      <td>0</td>\n",
       "      <td>0</td>\n",
       "      <td>0</td>\n",
       "    </tr>\n",
       "    <tr>\n",
       "      <th>3</th>\n",
       "      <td>15000.0</td>\n",
       "      <td>15000.0</td>\n",
       "      <td>155000.0</td>\n",
       "      <td>58</td>\n",
       "      <td>52590.0</td>\n",
       "      <td>2</td>\n",
       "      <td>16</td>\n",
       "      <td>0</td>\n",
       "      <td>1</td>\n",
       "      <td>1</td>\n",
       "      <td>0</td>\n",
       "      <td>0</td>\n",
       "      <td>0</td>\n",
       "      <td>1</td>\n",
       "    </tr>\n",
       "    <tr>\n",
       "      <th>4</th>\n",
       "      <td>0.0</td>\n",
       "      <td>0.0</td>\n",
       "      <td>58000.0</td>\n",
       "      <td>32</td>\n",
       "      <td>21804.0</td>\n",
       "      <td>1</td>\n",
       "      <td>11</td>\n",
       "      <td>0</td>\n",
       "      <td>0</td>\n",
       "      <td>0</td>\n",
       "      <td>0</td>\n",
       "      <td>0</td>\n",
       "      <td>0</td>\n",
       "      <td>1</td>\n",
       "    </tr>\n",
       "  </tbody>\n",
       "</table>\n",
       "</div>"
      ],
      "text/plain": [
       "      nifa  net_tfa        tw  age      inc  fsize  educ  db  marr  twoearn  \\\n",
       "0      0.0      0.0    4500.0   47   6765.0      2     8   0     0        0   \n",
       "1   6215.0   1015.0   22390.0   36  28452.0      1    16   0     0        0   \n",
       "2      0.0  -2000.0   -2000.0   37   3300.0      6    12   1     0        0   \n",
       "3  15000.0  15000.0  155000.0   58  52590.0      2    16   0     1        1   \n",
       "4      0.0      0.0   58000.0   32  21804.0      1    11   0     0        0   \n",
       "\n",
       "   e401  p401  pira  hown  \n",
       "0     0     0     0     1  \n",
       "1     0     0     0     1  \n",
       "2     0     0     0     0  \n",
       "3     0     0     0     1  \n",
       "4     0     0     0     1  "
      ]
     },
     "execution_count": 6,
     "metadata": {},
     "output_type": "execute_result"
    }
   ],
   "source": [
    "data.head()"
   ]
  },
  {
   "cell_type": "code",
   "execution_count": 7,
   "id": "c1d9ce03",
   "metadata": {},
   "outputs": [
    {
     "data": {
      "text/html": [
       "<div>\n",
       "<style scoped>\n",
       "    .dataframe tbody tr th:only-of-type {\n",
       "        vertical-align: middle;\n",
       "    }\n",
       "\n",
       "    .dataframe tbody tr th {\n",
       "        vertical-align: top;\n",
       "    }\n",
       "\n",
       "    .dataframe thead th {\n",
       "        text-align: right;\n",
       "    }\n",
       "</style>\n",
       "<table border=\"1\" class=\"dataframe\">\n",
       "  <thead>\n",
       "    <tr style=\"text-align: right;\">\n",
       "      <th></th>\n",
       "      <th>nifa</th>\n",
       "      <th>net_tfa</th>\n",
       "      <th>tw</th>\n",
       "      <th>age</th>\n",
       "      <th>inc</th>\n",
       "      <th>fsize</th>\n",
       "      <th>educ</th>\n",
       "      <th>db</th>\n",
       "      <th>marr</th>\n",
       "      <th>twoearn</th>\n",
       "      <th>e401</th>\n",
       "      <th>p401</th>\n",
       "      <th>pira</th>\n",
       "      <th>hown</th>\n",
       "    </tr>\n",
       "  </thead>\n",
       "  <tbody>\n",
       "    <tr>\n",
       "      <th>count</th>\n",
       "      <td>9.915000e+03</td>\n",
       "      <td>9.915000e+03</td>\n",
       "      <td>9.915000e+03</td>\n",
       "      <td>9915.000000</td>\n",
       "      <td>9915.000000</td>\n",
       "      <td>9915.000000</td>\n",
       "      <td>9915.000000</td>\n",
       "      <td>9915.000000</td>\n",
       "      <td>9915.000000</td>\n",
       "      <td>9915.000000</td>\n",
       "      <td>9915.000000</td>\n",
       "      <td>9915.000000</td>\n",
       "      <td>9915.000000</td>\n",
       "      <td>9915.000000</td>\n",
       "    </tr>\n",
       "    <tr>\n",
       "      <th>mean</th>\n",
       "      <td>1.392864e+04</td>\n",
       "      <td>1.805153e+04</td>\n",
       "      <td>6.381685e+04</td>\n",
       "      <td>41.060212</td>\n",
       "      <td>37200.623197</td>\n",
       "      <td>2.865860</td>\n",
       "      <td>13.206253</td>\n",
       "      <td>0.271004</td>\n",
       "      <td>0.604841</td>\n",
       "      <td>0.380837</td>\n",
       "      <td>0.371357</td>\n",
       "      <td>0.261624</td>\n",
       "      <td>0.242158</td>\n",
       "      <td>0.635199</td>\n",
       "    </tr>\n",
       "    <tr>\n",
       "      <th>std</th>\n",
       "      <td>5.490488e+04</td>\n",
       "      <td>6.352250e+04</td>\n",
       "      <td>1.115297e+05</td>\n",
       "      <td>10.344505</td>\n",
       "      <td>24774.288006</td>\n",
       "      <td>1.538937</td>\n",
       "      <td>2.810382</td>\n",
       "      <td>0.444500</td>\n",
       "      <td>0.488909</td>\n",
       "      <td>0.485617</td>\n",
       "      <td>0.483192</td>\n",
       "      <td>0.439541</td>\n",
       "      <td>0.428411</td>\n",
       "      <td>0.481399</td>\n",
       "    </tr>\n",
       "    <tr>\n",
       "      <th>min</th>\n",
       "      <td>0.000000e+00</td>\n",
       "      <td>-5.023020e+05</td>\n",
       "      <td>-5.023020e+05</td>\n",
       "      <td>25.000000</td>\n",
       "      <td>-2652.000000</td>\n",
       "      <td>1.000000</td>\n",
       "      <td>1.000000</td>\n",
       "      <td>0.000000</td>\n",
       "      <td>0.000000</td>\n",
       "      <td>0.000000</td>\n",
       "      <td>0.000000</td>\n",
       "      <td>0.000000</td>\n",
       "      <td>0.000000</td>\n",
       "      <td>0.000000</td>\n",
       "    </tr>\n",
       "    <tr>\n",
       "      <th>25%</th>\n",
       "      <td>2.000000e+02</td>\n",
       "      <td>-5.000000e+02</td>\n",
       "      <td>3.291500e+03</td>\n",
       "      <td>32.000000</td>\n",
       "      <td>19413.000000</td>\n",
       "      <td>2.000000</td>\n",
       "      <td>12.000000</td>\n",
       "      <td>0.000000</td>\n",
       "      <td>0.000000</td>\n",
       "      <td>0.000000</td>\n",
       "      <td>0.000000</td>\n",
       "      <td>0.000000</td>\n",
       "      <td>0.000000</td>\n",
       "      <td>0.000000</td>\n",
       "    </tr>\n",
       "    <tr>\n",
       "      <th>50%</th>\n",
       "      <td>1.635000e+03</td>\n",
       "      <td>1.499000e+03</td>\n",
       "      <td>2.510000e+04</td>\n",
       "      <td>40.000000</td>\n",
       "      <td>31476.000000</td>\n",
       "      <td>3.000000</td>\n",
       "      <td>12.000000</td>\n",
       "      <td>0.000000</td>\n",
       "      <td>1.000000</td>\n",
       "      <td>0.000000</td>\n",
       "      <td>0.000000</td>\n",
       "      <td>0.000000</td>\n",
       "      <td>0.000000</td>\n",
       "      <td>1.000000</td>\n",
       "    </tr>\n",
       "    <tr>\n",
       "      <th>75%</th>\n",
       "      <td>8.765500e+03</td>\n",
       "      <td>1.652450e+04</td>\n",
       "      <td>8.148750e+04</td>\n",
       "      <td>48.000000</td>\n",
       "      <td>48583.500000</td>\n",
       "      <td>4.000000</td>\n",
       "      <td>16.000000</td>\n",
       "      <td>1.000000</td>\n",
       "      <td>1.000000</td>\n",
       "      <td>1.000000</td>\n",
       "      <td>1.000000</td>\n",
       "      <td>1.000000</td>\n",
       "      <td>0.000000</td>\n",
       "      <td>1.000000</td>\n",
       "    </tr>\n",
       "    <tr>\n",
       "      <th>max</th>\n",
       "      <td>1.430298e+06</td>\n",
       "      <td>1.536798e+06</td>\n",
       "      <td>2.029910e+06</td>\n",
       "      <td>64.000000</td>\n",
       "      <td>242124.000000</td>\n",
       "      <td>13.000000</td>\n",
       "      <td>18.000000</td>\n",
       "      <td>1.000000</td>\n",
       "      <td>1.000000</td>\n",
       "      <td>1.000000</td>\n",
       "      <td>1.000000</td>\n",
       "      <td>1.000000</td>\n",
       "      <td>1.000000</td>\n",
       "      <td>1.000000</td>\n",
       "    </tr>\n",
       "  </tbody>\n",
       "</table>\n",
       "</div>"
      ],
      "text/plain": [
       "               nifa       net_tfa            tw          age            inc  \\\n",
       "count  9.915000e+03  9.915000e+03  9.915000e+03  9915.000000    9915.000000   \n",
       "mean   1.392864e+04  1.805153e+04  6.381685e+04    41.060212   37200.623197   \n",
       "std    5.490488e+04  6.352250e+04  1.115297e+05    10.344505   24774.288006   \n",
       "min    0.000000e+00 -5.023020e+05 -5.023020e+05    25.000000   -2652.000000   \n",
       "25%    2.000000e+02 -5.000000e+02  3.291500e+03    32.000000   19413.000000   \n",
       "50%    1.635000e+03  1.499000e+03  2.510000e+04    40.000000   31476.000000   \n",
       "75%    8.765500e+03  1.652450e+04  8.148750e+04    48.000000   48583.500000   \n",
       "max    1.430298e+06  1.536798e+06  2.029910e+06    64.000000  242124.000000   \n",
       "\n",
       "             fsize         educ           db         marr      twoearn  \\\n",
       "count  9915.000000  9915.000000  9915.000000  9915.000000  9915.000000   \n",
       "mean      2.865860    13.206253     0.271004     0.604841     0.380837   \n",
       "std       1.538937     2.810382     0.444500     0.488909     0.485617   \n",
       "min       1.000000     1.000000     0.000000     0.000000     0.000000   \n",
       "25%       2.000000    12.000000     0.000000     0.000000     0.000000   \n",
       "50%       3.000000    12.000000     0.000000     1.000000     0.000000   \n",
       "75%       4.000000    16.000000     1.000000     1.000000     1.000000   \n",
       "max      13.000000    18.000000     1.000000     1.000000     1.000000   \n",
       "\n",
       "              e401         p401         pira         hown  \n",
       "count  9915.000000  9915.000000  9915.000000  9915.000000  \n",
       "mean      0.371357     0.261624     0.242158     0.635199  \n",
       "std       0.483192     0.439541     0.428411     0.481399  \n",
       "min       0.000000     0.000000     0.000000     0.000000  \n",
       "25%       0.000000     0.000000     0.000000     0.000000  \n",
       "50%       0.000000     0.000000     0.000000     1.000000  \n",
       "75%       1.000000     1.000000     0.000000     1.000000  \n",
       "max       1.000000     1.000000     1.000000     1.000000  "
      ]
     },
     "execution_count": 7,
     "metadata": {},
     "output_type": "execute_result"
    }
   ],
   "source": [
    "data.describe()"
   ]
  },
  {
   "cell_type": "markdown",
   "id": "3ea8c00f",
   "metadata": {},
   "source": [
    "The data consist of 9,915 observations at the household level drawn from the 1991 Survey of Income and Program Participation (SIPP).  All the variables are referred to 1990. We use net financial assets (*net\\_tfa*) as the outcome variable, $Y$,  in our analysis. The net financial assets are computed as the sum of IRA balances, 401(k) balances, checking accounts, saving bonds, other interest-earning accounts, other interest-earning assets, stocks, and mutual funds less non mortgage debts. "
   ]
  },
  {
   "cell_type": "markdown",
   "id": "1a4f9dc4",
   "metadata": {},
   "source": [
    "Among the $9915$ individuals, $3682$ are eligible to participate in the program. The variable *e401* indicates eligibility and *p401* indicates participation, respectively."
   ]
  },
  {
   "cell_type": "code",
   "execution_count": 8,
   "id": "1fb9537b",
   "metadata": {},
   "outputs": [
    {
     "data": {
      "image/png": "[encoded data removed]",
      "text/plain": [
       "<Figure size 1000x750 with 1 Axes>"
      ]
     },
     "metadata": {},
     "output_type": "display_data"
    }
   ],
   "source": [
    "data['e401'].value_counts().plot(kind='bar', color=colors)\n",
    "plt.title('Eligibility, 401(k)')\n",
    "plt.xlabel('e401')\n",
    "_ = plt.ylabel('count')"
   ]
  },
  {
   "cell_type": "code",
   "execution_count": 9,
   "id": "3d464563",
   "metadata": {},
   "outputs": [
    {
     "data": {
      "image/png": "[encoded data removed]",
      "text/plain": [
       "<Figure size 1000x750 with 1 Axes>"
      ]
     },
     "metadata": {},
     "output_type": "display_data"
    }
   ],
   "source": [
    "data['p401'].value_counts().plot(kind='bar', color=colors)\n",
    "plt.title('Participation, 401(k)')\n",
    "plt.xlabel('p401')\n",
    "_ = plt.ylabel('count')"
   ]
  },
  {
   "cell_type": "markdown",
   "id": "b8461a88",
   "metadata": {},
   "source": [
    "Eligibility is highly associated with financial wealth:"
   ]
  },
  {
   "cell_type": "code",
   "execution_count": 10,
   "id": "9ab147b8",
   "metadata": {},
   "outputs": [
    {
     "data": {
      "image/png": "[encoded data removed]",
      "text/plain": [
       "<Figure size 1095.25x500 with 2 Axes>"
      ]
     },
     "metadata": {},
     "output_type": "display_data"
    }
   ],
   "source": [
    "_ = sns.displot(data, x=\"net_tfa\", hue=\"e401\", col=\"e401\",\n",
    "                kind=\"kde\", fill=True)"
   ]
  },
  {
   "cell_type": "markdown",
   "id": "aae566a4",
   "metadata": {},
   "source": [
    "As a first estimate, we calculate the unconditional average predictive effect (APE) of 401(k) eligibility on accumulated assets. This effect corresponds to the average treatment effect if 401(k) eligibility would be assigned to individuals in an entirely randomized way. The unconditional APE of e401 is about $19559$:"
   ]
  },
  {
   "cell_type": "code",
   "execution_count": 11,
   "id": "97d9b759",
   "metadata": {},
   "outputs": [
    {
     "data": {
      "text/html": [
       "<div>\n",
       "<style scoped>\n",
       "    .dataframe tbody tr th:only-of-type {\n",
       "        vertical-align: middle;\n",
       "    }\n",
       "\n",
       "    .dataframe tbody tr th {\n",
       "        vertical-align: top;\n",
       "    }\n",
       "\n",
       "    .dataframe thead th {\n",
       "        text-align: right;\n",
       "    }\n",
       "</style>\n",
       "<table border=\"1\" class=\"dataframe\">\n",
       "  <thead>\n",
       "    <tr style=\"text-align: right;\">\n",
       "      <th></th>\n",
       "      <th>net_tfa</th>\n",
       "    </tr>\n",
       "    <tr>\n",
       "      <th>e401</th>\n",
       "      <th></th>\n",
       "    </tr>\n",
       "  </thead>\n",
       "  <tbody>\n",
       "    <tr>\n",
       "      <th>0</th>\n",
       "      <td>NaN</td>\n",
       "    </tr>\n",
       "    <tr>\n",
       "      <th>1</th>\n",
       "      <td>19559.34475</td>\n",
       "    </tr>\n",
       "  </tbody>\n",
       "</table>\n",
       "</div>"
      ],
      "text/plain": [
       "          net_tfa\n",
       "e401             \n",
       "0             NaN\n",
       "1     19559.34475"
      ]
     },
     "execution_count": 11,
     "metadata": {},
     "output_type": "execute_result"
    }
   ],
   "source": [
    "data[['e401', 'net_tfa']].groupby('e401').mean().diff()"
   ]
  },
  {
   "cell_type": "markdown",
   "id": "491fc066",
   "metadata": {},
   "source": [
    "Among the $3682$ individuals that  are eligible, $2594$ decided to participate in the program. The unconditional APE of p401 is about $27372$:"
   ]
  },
  {
   "cell_type": "code",
   "execution_count": 18,
   "id": "7f1660be",
   "metadata": {},
   "outputs": [
    {
     "data": {
      "text/html": [
       "<div>\n",
       "<style scoped>\n",
       "    .dataframe tbody tr th:only-of-type {\n",
       "        vertical-align: middle;\n",
       "    }\n",
       "\n",
       "    .dataframe tbody tr th {\n",
       "        vertical-align: top;\n",
       "    }\n",
       "\n",
       "    .dataframe thead th {\n",
       "        text-align: right;\n",
       "    }\n",
       "</style>\n",
       "<table border=\"1\" class=\"dataframe\">\n",
       "  <thead>\n",
       "    <tr style=\"text-align: right;\">\n",
       "      <th></th>\n",
       "      <th>net_tfa</th>\n",
       "    </tr>\n",
       "    <tr>\n",
       "      <th>p401</th>\n",
       "      <th></th>\n",
       "    </tr>\n",
       "  </thead>\n",
       "  <tbody>\n",
       "    <tr>\n",
       "      <th>0</th>\n",
       "      <td>NaN</td>\n",
       "    </tr>\n",
       "    <tr>\n",
       "      <th>1</th>\n",
       "      <td>27371.583404</td>\n",
       "    </tr>\n",
       "  </tbody>\n",
       "</table>\n",
       "</div>"
      ],
      "text/plain": [
       "           net_tfa\n",
       "p401              \n",
       "0              NaN\n",
       "1     27371.583404"
      ]
     },
     "execution_count": 18,
     "metadata": {},
     "output_type": "execute_result"
    }
   ],
   "source": [
    "data[['p401', 'net_tfa']].groupby('p401').mean().diff()"
   ]
  },
  {
   "cell_type": "markdown",
   "id": "58862aff",
   "metadata": {},
   "source": [
    "As discussed, these estimates are biased since they do not account for saver heterogeneity and endogeneity of participation."
   ]
  },
  {
   "cell_type": "code",
   "execution_count": 187,
   "id": "fe5014ef",
   "metadata": {},
   "outputs": [],
   "source": [
    "data_scaled = data_pension.copy()\n",
    "scaler = StandardScaler(with_mean=False)\n",
    "data_scaled[['net_tfa']] = scaler.fit_transform(data_scaled[['net_tfa']])"
   ]
  },
  {
   "cell_type": "code",
   "execution_count": 188,
   "metadata": {
    "collapsed": false
   },
   "outputs": [],
   "source": [
    "# Set up basic model: Specify variables for data-backend\n",
    "features_base = ['age', 'inc', 'educ', 'fsize', 'marr',\n",
    "                 'twoearn', 'db', 'pira', 'hown']\n",
    "\n",
    "\n",
    "# Initialize DoubleMLData (data-backend of DoubleML)\n",
    "data_dml_base = dml.DoubleMLData(data_scaled,\n",
    "                                 y_col='net_tfa',\n",
    "                                 d_cols='e401',\n",
    "                                 x_cols=features_base)"
   ]
  },
  {
   "cell_type": "code",
   "execution_count": 189,
   "metadata": {
    "collapsed": false
   },
   "outputs": [
    {
     "name": "stdout",
     "output_type": "stream",
     "text": [
      "Number of Cores: 8\n"
     ]
    }
   ],
   "source": [
    "n_cores = multiprocessing.cpu_count()\n",
    "print(f\"Number of Cores: {n_cores}\")\n",
    "\n",
    "tau_vec = np.arange(0.1,0.95,0.05)\n",
    "#tau_vec = [0.25, 0.5, 0.75]\n",
    "n_folds = 5\n",
    "\n",
    "# Random Forest\n",
    "learner = RandomForestClassifier(\n",
    "    n_estimators=100, max_depth=10, max_features=5, min_samples_leaf=10)"
   ]
  },
  {
   "cell_type": "code",
   "execution_count": 190,
   "metadata": {
    "collapsed": false
   },
   "outputs": [
    {
     "name": "stdout",
     "output_type": "stream",
     "text": [
      "Quantile: 0.1\n",
      "Quantile: 0.15000000000000002\n",
      "Quantile: 0.20000000000000004\n",
      "Quantile: 0.25000000000000006\n",
      "Quantile: 0.30000000000000004\n",
      "Quantile: 0.3500000000000001\n",
      "Quantile: 0.40000000000000013\n",
      "Quantile: 0.45000000000000007\n",
      "Quantile: 0.5000000000000001\n",
      "Quantile: 0.5500000000000002\n",
      "Quantile: 0.6000000000000002\n",
      "Quantile: 0.6500000000000001\n",
      "Quantile: 0.7000000000000002\n",
      "Quantile: 0.7500000000000002\n",
      "Quantile: 0.8000000000000002\n",
      "Quantile: 0.8500000000000002\n",
      "Quantile: 0.9000000000000002\n"
     ]
    }
   ],
   "source": [
    "PQ_0 = np.full((len(tau_vec)), np.nan)\n",
    "PQ_1 = np.full((len(tau_vec)), np.nan)\n",
    "\n",
    "ci_PQ_0 = np.full((len(tau_vec),2), np.nan)\n",
    "ci_PQ_1 = np.full((len(tau_vec),2), np.nan)\n",
    "\n",
    "for idx_tau, tau in enumerate(tau_vec):\n",
    "    print(f'Quantile: {tau}')\n",
    "    dml_PQ_0 = dml.DoubleMLPQ(data_dml_base, ml_g=clone(learner),\n",
    "                              ml_m=clone(learner),\n",
    "                                score=\"PQ\",\n",
    "                                treatment=0,\n",
    "                                quantile=tau,\n",
    "                                n_folds=n_folds,\n",
    "                                trimming_rule=\"truncate\",\n",
    "                                trimming_threshold=1e-12)\n",
    "    dml_PQ_1 = dml.DoubleMLPQ(data_dml_base,  ml_g=clone(learner),\n",
    "                              ml_m=clone(learner),\n",
    "                                score=\"PQ\",\n",
    "                                treatment=1,\n",
    "                                quantile=tau,\n",
    "                                n_folds=n_folds,\n",
    "                                trimming_rule=\"truncate\",\n",
    "                                trimming_threshold=1e-12)\n",
    "\n",
    "    dml_PQ_0.fit(n_jobs_cv=n_cores-1)\n",
    "    dml_PQ_1.fit(n_jobs_cv=n_cores-1)\n",
    "\n",
    "    PQ_0[idx_tau] = scaler.inverse_transform(dml_PQ_0.coef.reshape(-1,1))\n",
    "    PQ_1[idx_tau] = scaler.inverse_transform(dml_PQ_1.coef.reshape(-1,1))\n",
    "\n",
    "    ci_PQ_0[idx_tau, :] = scaler.inverse_transform(dml_PQ_0.confint(level=0.95).to_numpy())\n",
    "    ci_PQ_1[idx_tau, :] = scaler.inverse_transform(dml_PQ_1.confint(level=0.95).to_numpy())"
   ]
  },
  {
   "cell_type": "code",
   "execution_count": 191,
   "metadata": {
    "collapsed": false
   },
   "outputs": [
    {
     "name": "stdout",
     "output_type": "stream",
     "text": [
      "    Quantile      DML Y(0)      DML Y(1)  DML Y(0) lower  DML Y(0) upper  \\\n",
      "0       0.10 -5.200000e+03 -3.978000e+03    -5532.729885    -4867.270115   \n",
      "1       0.15 -3.151000e+03 -2.000000e+03    -3513.392507    -2788.607493   \n",
      "2       0.20 -1.900000e+03 -7.390000e+02    -2286.847386    -1513.152614   \n",
      "3       0.25 -9.960000e+02 -6.544670e-08    -1403.345791     -588.654209   \n",
      "4       0.30 -3.070000e+02  3.000000e+02     -731.382681      117.382681   \n",
      "5       0.35 -6.898907e-09  9.500000e+02     -434.389839      434.389839   \n",
      "6       0.40  5.270728e-08  1.750000e+03     -447.974766      447.974766   \n",
      "7       0.45  1.110000e+02  3.000000e+03     -338.849906      560.849906   \n",
      "8       0.50  5.000000e+02  4.550000e+03       50.597186      949.402813   \n",
      "9       0.55  1.200000e+03  6.150000e+03      755.398416     1644.601584   \n",
      "10      0.60  2.359000e+03  8.800000e+03     1912.215134     2805.784866   \n",
      "11      0.65  4.100000e+03  1.208000e+04     3654.747515     4545.252485   \n",
      "12      0.70  6.750000e+03  1.670000e+04     6268.394170     7231.605830   \n",
      "13      0.75  1.070000e+04  2.104700e+04    10129.968648    11270.031351   \n",
      "14      0.80  1.620900e+04  3.119900e+04    15395.014276    17022.985724   \n",
      "15      0.85  2.600000e+04  4.344700e+04    24292.458669    27707.541331   \n",
      "16      0.90  4.240000e+04  6.269900e+04    38991.764962    45808.235038   \n",
      "\n",
      "    DML Y(1) lower  DML Y(1) upper  \n",
      "0     -4661.819169    -3294.180831  \n",
      "1     -2848.689496    -1151.310504  \n",
      "2     -1838.857858      360.857858  \n",
      "3     -1021.846345     1021.846345  \n",
      "4     -1004.659145     1604.659145  \n",
      "5      -287.199413     2187.199413  \n",
      "6       671.865075     2828.134925  \n",
      "7      1935.020463     4064.979537  \n",
      "8      3530.001863     5569.998137  \n",
      "9      5274.621157     7025.378843  \n",
      "10     7755.282034     9844.717966  \n",
      "11    11014.171829    13145.828171  \n",
      "12    15398.786653    18001.213347  \n",
      "13    18808.495792    23285.504208  \n",
      "14    28380.323589    34017.676411  \n",
      "15    40098.931865    46795.068135  \n",
      "16    58247.308941    67150.691059  \n"
     ]
    }
   ],
   "source": [
    "data = {\"Quantile\": tau_vec,\n",
    "        \"DML Y(0)\": PQ_0, \"DML Y(1)\": PQ_1,\n",
    "        \"DML Y(0) lower\": ci_PQ_0[:, 0], \"DML Y(0) upper\": ci_PQ_0[:, 1],\n",
    "        \"DML Y(1) lower\": ci_PQ_1[:, 0], \"DML Y(1) upper\": ci_PQ_1[:, 1]}\n",
    "df = pd.DataFrame(data)\n",
    "print(df)"
   ]
  },
  {
   "cell_type": "code",
   "execution_count": 192,
   "metadata": {
    "collapsed": false
   },
   "outputs": [
    {
     "data": {
      "image/png": "[encoded data removed]",
      "text/plain": [
       "<Figure size 1000x750 with 2 Axes>"
      ]
     },
     "metadata": {},
     "output_type": "display_data"
    }
   ],
   "source": [
    "from matplotlib import pyplot as plt\n",
    "plt.rcParams['figure.figsize'] = 10., 7.5\n",
    "fig, (ax1, ax2) = plt.subplots(1 ,2)\n",
    "ax1.grid(); ax2.grid()\n",
    "\n",
    "ax1.plot(df['Quantile'],df['DML Y(0)'], color='violet', label='Estimated Quantile Y(0)')\n",
    "ax1.fill_between(df['Quantile'], df['DML Y(0) lower'], df['DML Y(0) upper'], color='violet', alpha=.3, label='Confidence Interval')\n",
    "ax1.legend()\n",
    "\n",
    "ax2.plot(df['Quantile'],df['DML Y(1)'], color='violet', label='Estimated Quantile Y(1)')\n",
    "ax2.fill_between(df['Quantile'], df['DML Y(1) lower'], df['DML Y(1) upper'], color='violet', alpha=.3, label='Confidence Interval')\n",
    "ax2.legend()\n",
    "\n",
    "fig.suptitle('Potential Quantiles', fontsize=16)\n",
    "fig.supxlabel('Quantile')\n",
    "_ = fig.supylabel('Potential Quantile and 95%-CI')"
   ]
  },
  {
   "cell_type": "code",
   "execution_count": 193,
   "metadata": {
    "collapsed": false
   },
   "outputs": [
    {
     "ename": "KeyboardInterrupt",
     "evalue": "",
     "output_type": "error",
     "traceback": [
      "\u001b[1;31m---------------------------------------------------------------------------\u001b[0m",
      "\u001b[1;31mKeyboardInterrupt\u001b[0m                         Traceback (most recent call last)",
      "Cell \u001b[1;32mIn [193], line 6\u001b[0m\n\u001b[0;32m      1\u001b[0m np\u001b[39m.\u001b[39mrandom\u001b[39m.\u001b[39mseed(\u001b[39m42\u001b[39m)\n\u001b[0;32m      2\u001b[0m dml_QTE \u001b[39m=\u001b[39m dml\u001b[39m.\u001b[39mDoubleMLQTE(data_dml_base,\n\u001b[0;32m      3\u001b[0m                            ml_g\u001b[39m=\u001b[39mclone(learner),ml_m\u001b[39m=\u001b[39mclone(learner),\n\u001b[0;32m      4\u001b[0m                            quantiles\u001b[39m=\u001b[39mtau_vec, n_rep\u001b[39m=\u001b[39m\u001b[39m1\u001b[39m,\n\u001b[0;32m      5\u001b[0m                            score\u001b[39m=\u001b[39m\u001b[39m'\u001b[39m\u001b[39mPQ\u001b[39m\u001b[39m'\u001b[39m, n_folds\u001b[39m=\u001b[39mn_folds, trimming_rule\u001b[39m=\u001b[39m\u001b[39m\"\u001b[39m\u001b[39mtruncate\u001b[39m\u001b[39m\"\u001b[39m, trimming_threshold\u001b[39m=\u001b[39m\u001b[39m1e-12\u001b[39m)\n\u001b[1;32m----> 6\u001b[0m dml_QTE\u001b[39m.\u001b[39;49mfit(n_jobs_cv\u001b[39m=\u001b[39;49mn_cores\u001b[39m-\u001b[39;49m\u001b[39m1\u001b[39;49m)\n\u001b[0;32m      7\u001b[0m QTE_est \u001b[39m=\u001b[39m scaler\u001b[39m.\u001b[39minverse_transform(dml_QTE\u001b[39m.\u001b[39mcoef\u001b[39m.\u001b[39mreshape(\u001b[39m1\u001b[39m,\u001b[39m-\u001b[39m\u001b[39m1\u001b[39m))\n\u001b[0;32m      8\u001b[0m \u001b[39mprint\u001b[39m(dml_QTE)\n",
      "File \u001b[1;32mc:\\users\\bam5698\\github\\doubleml-for-py\\doubleml\\double_ml_qte.py:420\u001b[0m, in \u001b[0;36mDoubleMLQTE.fit\u001b[1;34m(self, n_jobs_cv)\u001b[0m\n\u001b[0;32m    417\u001b[0m model_PQ_0\u001b[39m.\u001b[39mset_sample_splitting(all_smpls\u001b[39m=\u001b[39m\u001b[39mself\u001b[39m\u001b[39m.\u001b[39msmpls)\n\u001b[0;32m    418\u001b[0m model_PQ_1\u001b[39m.\u001b[39mset_sample_splitting(all_smpls\u001b[39m=\u001b[39m\u001b[39mself\u001b[39m\u001b[39m.\u001b[39msmpls)\n\u001b[1;32m--> 420\u001b[0m model_PQ_0\u001b[39m.\u001b[39;49mfit(n_jobs_cv\u001b[39m=\u001b[39;49mn_jobs_cv)\n\u001b[0;32m    421\u001b[0m model_PQ_1\u001b[39m.\u001b[39mfit(n_jobs_cv\u001b[39m=\u001b[39mn_jobs_cv)\n\u001b[0;32m    423\u001b[0m \u001b[39m# Quantile Treatment Effects\u001b[39;00m\n",
      "File \u001b[1;32mc:\\users\\bam5698\\github\\doubleml-for-py\\doubleml\\double_ml.py:482\u001b[0m, in \u001b[0;36mDoubleML.fit\u001b[1;34m(self, n_jobs_cv, store_predictions, store_models)\u001b[0m\n\u001b[0;32m    479\u001b[0m     \u001b[39mself\u001b[39m\u001b[39m.\u001b[39m_dml_data\u001b[39m.\u001b[39mset_x_d(\u001b[39mself\u001b[39m\u001b[39m.\u001b[39m_dml_data\u001b[39m.\u001b[39md_cols[i_d])\n\u001b[0;32m    481\u001b[0m \u001b[39m# ml estimation of nuisance models and computation of score elements\u001b[39;00m\n\u001b[1;32m--> 482\u001b[0m score_elements, preds \u001b[39m=\u001b[39m \u001b[39mself\u001b[39;49m\u001b[39m.\u001b[39;49m_nuisance_est(\u001b[39mself\u001b[39;49m\u001b[39m.\u001b[39;49m__smpls, n_jobs_cv, return_models\u001b[39m=\u001b[39;49mstore_models)\n\u001b[0;32m    484\u001b[0m \u001b[39mself\u001b[39m\u001b[39m.\u001b[39m_set_score_elements(score_elements, \u001b[39mself\u001b[39m\u001b[39m.\u001b[39m_i_rep, \u001b[39mself\u001b[39m\u001b[39m.\u001b[39m_i_treat)\n\u001b[0;32m    486\u001b[0m \u001b[39mif\u001b[39;00m store_predictions:\n",
      "File \u001b[1;32mc:\\users\\bam5698\\github\\doubleml-for-py\\doubleml\\double_ml_pq.py:318\u001b[0m, in \u001b[0;36mDoubleMLPQ._nuisance_est\u001b[1;34m(self, smpls, n_jobs_cv, return_models)\u001b[0m\n\u001b[0;32m    315\u001b[0m     g_hat[test_inds] \u001b[39m=\u001b[39m _predict_zero_one_propensity(\u001b[39mself\u001b[39m\u001b[39m.\u001b[39m_learner[\u001b[39m'\u001b[39m\u001b[39mml_g\u001b[39m\u001b[39m'\u001b[39m], x[test_inds, :])\n\u001b[0;32m    317\u001b[0m     \u001b[39m# refit the propensity score on the whole training set\u001b[39;00m\n\u001b[1;32m--> 318\u001b[0m     \u001b[39mself\u001b[39;49m\u001b[39m.\u001b[39;49m_learner[\u001b[39m'\u001b[39;49m\u001b[39mml_m\u001b[39;49m\u001b[39m'\u001b[39;49m]\u001b[39m.\u001b[39;49mfit(x[train_inds, :], d[train_inds])\n\u001b[0;32m    319\u001b[0m     m_hat[test_inds] \u001b[39m=\u001b[39m _predict_zero_one_propensity(\u001b[39mself\u001b[39m\u001b[39m.\u001b[39m_learner[\u001b[39m'\u001b[39m\u001b[39mml_m\u001b[39m\u001b[39m'\u001b[39m], x[test_inds, :])\n\u001b[0;32m    321\u001b[0m \u001b[39mif\u001b[39;00m \u001b[39mself\u001b[39m\u001b[39m.\u001b[39mtreatment \u001b[39m==\u001b[39m \u001b[39m0\u001b[39m:\n",
      "File \u001b[1;32mc:\\ProgramData\\Anaconda3\\envs\\doubleml\\lib\\site-packages\\sklearn\\ensemble\\_forest.py:474\u001b[0m, in \u001b[0;36mBaseForest.fit\u001b[1;34m(self, X, y, sample_weight)\u001b[0m\n\u001b[0;32m    463\u001b[0m trees \u001b[39m=\u001b[39m [\n\u001b[0;32m    464\u001b[0m     \u001b[39mself\u001b[39m\u001b[39m.\u001b[39m_make_estimator(append\u001b[39m=\u001b[39m\u001b[39mFalse\u001b[39;00m, random_state\u001b[39m=\u001b[39mrandom_state)\n\u001b[0;32m    465\u001b[0m     \u001b[39mfor\u001b[39;00m i \u001b[39min\u001b[39;00m \u001b[39mrange\u001b[39m(n_more_estimators)\n\u001b[0;32m    466\u001b[0m ]\n\u001b[0;32m    468\u001b[0m \u001b[39m# Parallel loop: we prefer the threading backend as the Cython code\u001b[39;00m\n\u001b[0;32m    469\u001b[0m \u001b[39m# for fitting the trees is internally releasing the Python GIL\u001b[39;00m\n\u001b[0;32m    470\u001b[0m \u001b[39m# making threading more efficient than multiprocessing in\u001b[39;00m\n\u001b[0;32m    471\u001b[0m \u001b[39m# that case. However, for joblib 0.12+ we respect any\u001b[39;00m\n\u001b[0;32m    472\u001b[0m \u001b[39m# parallel_backend contexts set at a higher level,\u001b[39;00m\n\u001b[0;32m    473\u001b[0m \u001b[39m# since correctness does not rely on using threads.\u001b[39;00m\n\u001b[1;32m--> 474\u001b[0m trees \u001b[39m=\u001b[39m Parallel(\n\u001b[0;32m    475\u001b[0m     n_jobs\u001b[39m=\u001b[39;49m\u001b[39mself\u001b[39;49m\u001b[39m.\u001b[39;49mn_jobs,\n\u001b[0;32m    476\u001b[0m     verbose\u001b[39m=\u001b[39;49m\u001b[39mself\u001b[39;49m\u001b[39m.\u001b[39;49mverbose,\n\u001b[0;32m    477\u001b[0m     prefer\u001b[39m=\u001b[39;49m\u001b[39m\"\u001b[39;49m\u001b[39mthreads\u001b[39;49m\u001b[39m\"\u001b[39;49m,\n\u001b[0;32m    478\u001b[0m )(\n\u001b[0;32m    479\u001b[0m     delayed(_parallel_build_trees)(\n\u001b[0;32m    480\u001b[0m         t,\n\u001b[0;32m    481\u001b[0m         \u001b[39mself\u001b[39;49m\u001b[39m.\u001b[39;49mbootstrap,\n\u001b[0;32m    482\u001b[0m         X,\n\u001b[0;32m    483\u001b[0m         y,\n\u001b[0;32m    484\u001b[0m         sample_weight,\n\u001b[0;32m    485\u001b[0m         i,\n\u001b[0;32m    486\u001b[0m         \u001b[39mlen\u001b[39;49m(trees),\n\u001b[0;32m    487\u001b[0m         verbose\u001b[39m=\u001b[39;49m\u001b[39mself\u001b[39;49m\u001b[39m.\u001b[39;49mverbose,\n\u001b[0;32m    488\u001b[0m         class_weight\u001b[39m=\u001b[39;49m\u001b[39mself\u001b[39;49m\u001b[39m.\u001b[39;49mclass_weight,\n\u001b[0;32m    489\u001b[0m         n_samples_bootstrap\u001b[39m=\u001b[39;49mn_samples_bootstrap,\n\u001b[0;32m    490\u001b[0m     )\n\u001b[0;32m    491\u001b[0m     \u001b[39mfor\u001b[39;49;00m i, t \u001b[39min\u001b[39;49;00m \u001b[39menumerate\u001b[39;49m(trees)\n\u001b[0;32m    492\u001b[0m )\n\u001b[0;32m    494\u001b[0m \u001b[39m# Collect newly grown trees\u001b[39;00m\n\u001b[0;32m    495\u001b[0m \u001b[39mself\u001b[39m\u001b[39m.\u001b[39mestimators_\u001b[39m.\u001b[39mextend(trees)\n",
      "File \u001b[1;32mc:\\ProgramData\\Anaconda3\\envs\\doubleml\\lib\\site-packages\\joblib\\parallel.py:1088\u001b[0m, in \u001b[0;36mParallel.__call__\u001b[1;34m(self, iterable)\u001b[0m\n\u001b[0;32m   1085\u001b[0m \u001b[39mif\u001b[39;00m \u001b[39mself\u001b[39m\u001b[39m.\u001b[39mdispatch_one_batch(iterator):\n\u001b[0;32m   1086\u001b[0m     \u001b[39mself\u001b[39m\u001b[39m.\u001b[39m_iterating \u001b[39m=\u001b[39m \u001b[39mself\u001b[39m\u001b[39m.\u001b[39m_original_iterator \u001b[39mis\u001b[39;00m \u001b[39mnot\u001b[39;00m \u001b[39mNone\u001b[39;00m\n\u001b[1;32m-> 1088\u001b[0m \u001b[39mwhile\u001b[39;00m \u001b[39mself\u001b[39;49m\u001b[39m.\u001b[39;49mdispatch_one_batch(iterator):\n\u001b[0;32m   1089\u001b[0m     \u001b[39mpass\u001b[39;00m\n\u001b[0;32m   1091\u001b[0m \u001b[39mif\u001b[39;00m pre_dispatch \u001b[39m==\u001b[39m \u001b[39m\"\u001b[39m\u001b[39mall\u001b[39m\u001b[39m\"\u001b[39m \u001b[39mor\u001b[39;00m n_jobs \u001b[39m==\u001b[39m \u001b[39m1\u001b[39m:\n\u001b[0;32m   1092\u001b[0m     \u001b[39m# The iterable was consumed all at once by the above for loop.\u001b[39;00m\n\u001b[0;32m   1093\u001b[0m     \u001b[39m# No need to wait for async callbacks to trigger to\u001b[39;00m\n\u001b[0;32m   1094\u001b[0m     \u001b[39m# consumption.\u001b[39;00m\n",
      "File \u001b[1;32mc:\\ProgramData\\Anaconda3\\envs\\doubleml\\lib\\site-packages\\joblib\\parallel.py:901\u001b[0m, in \u001b[0;36mParallel.dispatch_one_batch\u001b[1;34m(self, iterator)\u001b[0m\n\u001b[0;32m    899\u001b[0m     \u001b[39mreturn\u001b[39;00m \u001b[39mFalse\u001b[39;00m\n\u001b[0;32m    900\u001b[0m \u001b[39melse\u001b[39;00m:\n\u001b[1;32m--> 901\u001b[0m     \u001b[39mself\u001b[39;49m\u001b[39m.\u001b[39;49m_dispatch(tasks)\n\u001b[0;32m    902\u001b[0m     \u001b[39mreturn\u001b[39;00m \u001b[39mTrue\u001b[39;00m\n",
      "File \u001b[1;32mc:\\ProgramData\\Anaconda3\\envs\\doubleml\\lib\\site-packages\\joblib\\parallel.py:819\u001b[0m, in \u001b[0;36mParallel._dispatch\u001b[1;34m(self, batch)\u001b[0m\n\u001b[0;32m    817\u001b[0m \u001b[39mwith\u001b[39;00m \u001b[39mself\u001b[39m\u001b[39m.\u001b[39m_lock:\n\u001b[0;32m    818\u001b[0m     job_idx \u001b[39m=\u001b[39m \u001b[39mlen\u001b[39m(\u001b[39mself\u001b[39m\u001b[39m.\u001b[39m_jobs)\n\u001b[1;32m--> 819\u001b[0m     job \u001b[39m=\u001b[39m \u001b[39mself\u001b[39;49m\u001b[39m.\u001b[39;49m_backend\u001b[39m.\u001b[39;49mapply_async(batch, callback\u001b[39m=\u001b[39;49mcb)\n\u001b[0;32m    820\u001b[0m     \u001b[39m# A job can complete so quickly than its callback is\u001b[39;00m\n\u001b[0;32m    821\u001b[0m     \u001b[39m# called before we get here, causing self._jobs to\u001b[39;00m\n\u001b[0;32m    822\u001b[0m     \u001b[39m# grow. To ensure correct results ordering, .insert is\u001b[39;00m\n\u001b[0;32m    823\u001b[0m     \u001b[39m# used (rather than .append) in the following line\u001b[39;00m\n\u001b[0;32m    824\u001b[0m     \u001b[39mself\u001b[39m\u001b[39m.\u001b[39m_jobs\u001b[39m.\u001b[39minsert(job_idx, job)\n",
      "File \u001b[1;32mc:\\ProgramData\\Anaconda3\\envs\\doubleml\\lib\\site-packages\\joblib\\_parallel_backends.py:208\u001b[0m, in \u001b[0;36mSequentialBackend.apply_async\u001b[1;34m(self, func, callback)\u001b[0m\n\u001b[0;32m    206\u001b[0m \u001b[39mdef\u001b[39;00m \u001b[39mapply_async\u001b[39m(\u001b[39mself\u001b[39m, func, callback\u001b[39m=\u001b[39m\u001b[39mNone\u001b[39;00m):\n\u001b[0;32m    207\u001b[0m     \u001b[39m\"\"\"Schedule a func to be run\"\"\"\u001b[39;00m\n\u001b[1;32m--> 208\u001b[0m     result \u001b[39m=\u001b[39m ImmediateResult(func)\n\u001b[0;32m    209\u001b[0m     \u001b[39mif\u001b[39;00m callback:\n\u001b[0;32m    210\u001b[0m         callback(result)\n",
      "File \u001b[1;32mc:\\ProgramData\\Anaconda3\\envs\\doubleml\\lib\\site-packages\\joblib\\_parallel_backends.py:597\u001b[0m, in \u001b[0;36mImmediateResult.__init__\u001b[1;34m(self, batch)\u001b[0m\n\u001b[0;32m    594\u001b[0m \u001b[39mdef\u001b[39;00m \u001b[39m__init__\u001b[39m(\u001b[39mself\u001b[39m, batch):\n\u001b[0;32m    595\u001b[0m     \u001b[39m# Don't delay the application, to avoid keeping the input\u001b[39;00m\n\u001b[0;32m    596\u001b[0m     \u001b[39m# arguments in memory\u001b[39;00m\n\u001b[1;32m--> 597\u001b[0m     \u001b[39mself\u001b[39m\u001b[39m.\u001b[39mresults \u001b[39m=\u001b[39m batch()\n",
      "File \u001b[1;32mc:\\ProgramData\\Anaconda3\\envs\\doubleml\\lib\\site-packages\\joblib\\parallel.py:288\u001b[0m, in \u001b[0;36mBatchedCalls.__call__\u001b[1;34m(self)\u001b[0m\n\u001b[0;32m    284\u001b[0m \u001b[39mdef\u001b[39;00m \u001b[39m__call__\u001b[39m(\u001b[39mself\u001b[39m):\n\u001b[0;32m    285\u001b[0m     \u001b[39m# Set the default nested backend to self._backend but do not set the\u001b[39;00m\n\u001b[0;32m    286\u001b[0m     \u001b[39m# change the default number of processes to -1\u001b[39;00m\n\u001b[0;32m    287\u001b[0m     \u001b[39mwith\u001b[39;00m parallel_backend(\u001b[39mself\u001b[39m\u001b[39m.\u001b[39m_backend, n_jobs\u001b[39m=\u001b[39m\u001b[39mself\u001b[39m\u001b[39m.\u001b[39m_n_jobs):\n\u001b[1;32m--> 288\u001b[0m         \u001b[39mreturn\u001b[39;00m [func(\u001b[39m*\u001b[39margs, \u001b[39m*\u001b[39m\u001b[39m*\u001b[39mkwargs)\n\u001b[0;32m    289\u001b[0m                 \u001b[39mfor\u001b[39;00m func, args, kwargs \u001b[39min\u001b[39;00m \u001b[39mself\u001b[39m\u001b[39m.\u001b[39mitems]\n",
      "File \u001b[1;32mc:\\ProgramData\\Anaconda3\\envs\\doubleml\\lib\\site-packages\\joblib\\parallel.py:288\u001b[0m, in \u001b[0;36m<listcomp>\u001b[1;34m(.0)\u001b[0m\n\u001b[0;32m    284\u001b[0m \u001b[39mdef\u001b[39;00m \u001b[39m__call__\u001b[39m(\u001b[39mself\u001b[39m):\n\u001b[0;32m    285\u001b[0m     \u001b[39m# Set the default nested backend to self._backend but do not set the\u001b[39;00m\n\u001b[0;32m    286\u001b[0m     \u001b[39m# change the default number of processes to -1\u001b[39;00m\n\u001b[0;32m    287\u001b[0m     \u001b[39mwith\u001b[39;00m parallel_backend(\u001b[39mself\u001b[39m\u001b[39m.\u001b[39m_backend, n_jobs\u001b[39m=\u001b[39m\u001b[39mself\u001b[39m\u001b[39m.\u001b[39m_n_jobs):\n\u001b[1;32m--> 288\u001b[0m         \u001b[39mreturn\u001b[39;00m [func(\u001b[39m*\u001b[39margs, \u001b[39m*\u001b[39m\u001b[39m*\u001b[39mkwargs)\n\u001b[0;32m    289\u001b[0m                 \u001b[39mfor\u001b[39;00m func, args, kwargs \u001b[39min\u001b[39;00m \u001b[39mself\u001b[39m\u001b[39m.\u001b[39mitems]\n",
      "File \u001b[1;32mc:\\ProgramData\\Anaconda3\\envs\\doubleml\\lib\\site-packages\\sklearn\\utils\\fixes.py:117\u001b[0m, in \u001b[0;36m_FuncWrapper.__call__\u001b[1;34m(self, *args, **kwargs)\u001b[0m\n\u001b[0;32m    115\u001b[0m \u001b[39mdef\u001b[39;00m \u001b[39m__call__\u001b[39m(\u001b[39mself\u001b[39m, \u001b[39m*\u001b[39margs, \u001b[39m*\u001b[39m\u001b[39m*\u001b[39mkwargs):\n\u001b[0;32m    116\u001b[0m     \u001b[39mwith\u001b[39;00m config_context(\u001b[39m*\u001b[39m\u001b[39m*\u001b[39m\u001b[39mself\u001b[39m\u001b[39m.\u001b[39mconfig):\n\u001b[1;32m--> 117\u001b[0m         \u001b[39mreturn\u001b[39;00m \u001b[39mself\u001b[39m\u001b[39m.\u001b[39mfunction(\u001b[39m*\u001b[39margs, \u001b[39m*\u001b[39m\u001b[39m*\u001b[39mkwargs)\n",
      "File \u001b[1;32mc:\\ProgramData\\Anaconda3\\envs\\doubleml\\lib\\site-packages\\sklearn\\ensemble\\_forest.py:185\u001b[0m, in \u001b[0;36m_parallel_build_trees\u001b[1;34m(tree, bootstrap, X, y, sample_weight, tree_idx, n_trees, verbose, class_weight, n_samples_bootstrap)\u001b[0m\n\u001b[0;32m    182\u001b[0m     \u001b[39melif\u001b[39;00m class_weight \u001b[39m==\u001b[39m \u001b[39m\"\u001b[39m\u001b[39mbalanced_subsample\u001b[39m\u001b[39m\"\u001b[39m:\n\u001b[0;32m    183\u001b[0m         curr_sample_weight \u001b[39m*\u001b[39m\u001b[39m=\u001b[39m compute_sample_weight(\u001b[39m\"\u001b[39m\u001b[39mbalanced\u001b[39m\u001b[39m\"\u001b[39m, y, indices\u001b[39m=\u001b[39mindices)\n\u001b[1;32m--> 185\u001b[0m     tree\u001b[39m.\u001b[39;49mfit(X, y, sample_weight\u001b[39m=\u001b[39;49mcurr_sample_weight, check_input\u001b[39m=\u001b[39;49m\u001b[39mFalse\u001b[39;49;00m)\n\u001b[0;32m    186\u001b[0m \u001b[39melse\u001b[39;00m:\n\u001b[0;32m    187\u001b[0m     tree\u001b[39m.\u001b[39mfit(X, y, sample_weight\u001b[39m=\u001b[39msample_weight, check_input\u001b[39m=\u001b[39m\u001b[39mFalse\u001b[39;00m)\n",
      "File \u001b[1;32mc:\\ProgramData\\Anaconda3\\envs\\doubleml\\lib\\site-packages\\sklearn\\tree\\_classes.py:889\u001b[0m, in \u001b[0;36mDecisionTreeClassifier.fit\u001b[1;34m(self, X, y, sample_weight, check_input)\u001b[0m\n\u001b[0;32m    859\u001b[0m \u001b[39mdef\u001b[39;00m \u001b[39mfit\u001b[39m(\u001b[39mself\u001b[39m, X, y, sample_weight\u001b[39m=\u001b[39m\u001b[39mNone\u001b[39;00m, check_input\u001b[39m=\u001b[39m\u001b[39mTrue\u001b[39;00m):\n\u001b[0;32m    860\u001b[0m     \u001b[39m\"\"\"Build a decision tree classifier from the training set (X, y).\u001b[39;00m\n\u001b[0;32m    861\u001b[0m \n\u001b[0;32m    862\u001b[0m \u001b[39m    Parameters\u001b[39;00m\n\u001b[1;32m   (...)\u001b[0m\n\u001b[0;32m    886\u001b[0m \u001b[39m        Fitted estimator.\u001b[39;00m\n\u001b[0;32m    887\u001b[0m \u001b[39m    \"\"\"\u001b[39;00m\n\u001b[1;32m--> 889\u001b[0m     \u001b[39msuper\u001b[39;49m()\u001b[39m.\u001b[39;49mfit(\n\u001b[0;32m    890\u001b[0m         X,\n\u001b[0;32m    891\u001b[0m         y,\n\u001b[0;32m    892\u001b[0m         sample_weight\u001b[39m=\u001b[39;49msample_weight,\n\u001b[0;32m    893\u001b[0m         check_input\u001b[39m=\u001b[39;49mcheck_input,\n\u001b[0;32m    894\u001b[0m     )\n\u001b[0;32m    895\u001b[0m     \u001b[39mreturn\u001b[39;00m \u001b[39mself\u001b[39m\n",
      "File \u001b[1;32mc:\\ProgramData\\Anaconda3\\envs\\doubleml\\lib\\site-packages\\sklearn\\tree\\_classes.py:379\u001b[0m, in \u001b[0;36mBaseDecisionTree.fit\u001b[1;34m(self, X, y, sample_weight, check_input)\u001b[0m\n\u001b[0;32m    368\u001b[0m \u001b[39melse\u001b[39;00m:\n\u001b[0;32m    369\u001b[0m     builder \u001b[39m=\u001b[39m BestFirstTreeBuilder(\n\u001b[0;32m    370\u001b[0m         splitter,\n\u001b[0;32m    371\u001b[0m         min_samples_split,\n\u001b[1;32m   (...)\u001b[0m\n\u001b[0;32m    376\u001b[0m         \u001b[39mself\u001b[39m\u001b[39m.\u001b[39mmin_impurity_decrease,\n\u001b[0;32m    377\u001b[0m     )\n\u001b[1;32m--> 379\u001b[0m builder\u001b[39m.\u001b[39;49mbuild(\u001b[39mself\u001b[39;49m\u001b[39m.\u001b[39;49mtree_, X, y, sample_weight)\n\u001b[0;32m    381\u001b[0m \u001b[39mif\u001b[39;00m \u001b[39mself\u001b[39m\u001b[39m.\u001b[39mn_outputs_ \u001b[39m==\u001b[39m \u001b[39m1\u001b[39m \u001b[39mand\u001b[39;00m is_classifier(\u001b[39mself\u001b[39m):\n\u001b[0;32m    382\u001b[0m     \u001b[39mself\u001b[39m\u001b[39m.\u001b[39mn_classes_ \u001b[39m=\u001b[39m \u001b[39mself\u001b[39m\u001b[39m.\u001b[39mn_classes_[\u001b[39m0\u001b[39m]\n",
      "\u001b[1;31mKeyboardInterrupt\u001b[0m: "
     ]
    }
   ],
   "source": [
    "np.random.seed(42)\n",
    "dml_QTE = dml.DoubleMLQTE(data_dml_base,\n",
    "                           ml_g=clone(learner),ml_m=clone(learner),\n",
    "                           quantiles=tau_vec, n_rep=1,\n",
    "                           score='PQ', n_folds=n_folds, trimming_rule=\"truncate\", trimming_threshold=1e-12)\n",
    "dml_QTE.fit(n_jobs_cv=n_cores-1)\n",
    "QTE_est = scaler.inverse_transform(dml_QTE.coef.reshape(1,-1))\n",
    "print(dml_QTE)"
   ]
  },
  {
   "cell_type": "code",
   "execution_count": null,
   "id": "0be2f9b7",
   "metadata": {},
   "outputs": [
    {
     "data": {
      "text/plain": [
       "array([[ 519.98928621,  464.86827979, 1024.43001744,  746.92299458,\n",
       "         654.30688677,  620.85995269,  594.51567535,  686.24868905,\n",
       "         527.07705893,  504.38225208,  541.80728383,  525.13994917,\n",
       "         650.1588939 ,  905.47396878, 1213.93820739, 1721.87391556,\n",
       "        2831.30981402]])"
      ]
     },
     "execution_count": 183,
     "metadata": {},
     "output_type": "execute_result"
    }
   ],
   "source": [
    "scaler.inverse_transform(dml_QTE.se.reshape(1,-1))"
   ]
  },
  {
   "cell_type": "code",
   "execution_count": null,
   "metadata": {
    "collapsed": false
   },
   "outputs": [
    {
     "data": {
      "text/plain": [
       "array([[ -555.40122607,  2357.40122611],\n",
       "       [ -102.01669659,  2502.01669644],\n",
       "       [-1796.25360392,  3942.2536039 ],\n",
       "       [-1192.00380472,  2992.00380449],\n",
       "       [-1302.60189678,  2362.60189649],\n",
       "       [ -793.92274374,  2683.92274388],\n",
       "       [ -105.13692015,  3225.13692001],\n",
       "       [  777.93456769,  4622.06543211],\n",
       "       [ 2593.74713247,  5546.2528676 ],\n",
       "       [ 3527.31141232,  6352.68858768],\n",
       "       [ 4609.4902869 ,  7644.50971287],\n",
       "       [ 6870.17264632,  9811.82735395],\n",
       "       [ 8631.01592327, 12272.98407661],\n",
       "       [ 9763.92198205, 14836.07801798],\n",
       "       [12674.96630597, 19475.03369402],\n",
       "       [13888.32509445, 23533.67490576],\n",
       "       [12269.98452859, 28130.01547136]])"
      ]
     },
     "execution_count": 184,
     "metadata": {},
     "output_type": "execute_result"
    }
   ],
   "source": [
    "dml_QTE.bootstrap(n_rep_boot=2000)\n",
    "ci_QTE = scaler.inverse_transform(dml_QTE.confint(level=0.95, joint=True))\n",
    "ci_QTE"
   ]
  },
  {
   "cell_type": "code",
   "execution_count": null,
   "metadata": {
    "collapsed": false
   },
   "outputs": [
    {
     "name": "stdout",
     "output_type": "stream",
     "text": [
      "    Quantile  DML QTE  DML QTE lower  DML QTE upper\n",
      "0       0.10    901.0    -555.401226    2357.401226\n",
      "1       0.15   1200.0    -102.016697    2502.016696\n",
      "2       0.20   1073.0   -1796.253604    3942.253604\n",
      "3       0.25    900.0   -1192.003805    2992.003804\n",
      "4       0.30    530.0   -1302.601897    2362.601896\n",
      "5       0.35    945.0    -793.922744    2683.922744\n",
      "6       0.40   1560.0    -105.136920    3225.136920\n",
      "7       0.45   2700.0     777.934568    4622.065432\n",
      "8       0.50   4070.0    2593.747132    5546.252868\n",
      "9       0.55   4940.0    3527.311412    6352.688588\n",
      "10      0.60   6127.0    4609.490287    7644.509713\n",
      "11      0.65   8341.0    6870.172646    9811.827354\n",
      "12      0.70  10452.0    8631.015923   12272.984077\n",
      "13      0.75  12300.0    9763.921982   14836.078018\n",
      "14      0.80  16075.0   12674.966306   19475.033694\n",
      "15      0.85  18711.0   13888.325094   23533.674906\n",
      "16      0.90  20200.0   12269.984529   28130.015471\n"
     ]
    }
   ],
   "source": [
    "data = {\"Quantile\": tau_vec, \"DML QTE\": QTE_est[0],\n",
    "        \"DML QTE lower\": ci_QTE[: ,0], \"DML QTE upper\": ci_QTE[: ,1]}\n",
    "df = pd.DataFrame(data)\n",
    "print(df)"
   ]
  },
  {
   "cell_type": "code",
   "execution_count": null,
   "metadata": {
    "collapsed": false
   },
   "outputs": [
    {
     "data": {
      "image/png": "[encoded data removed]",
      "text/plain": [
       "<Figure size 1000x750 with 1 Axes>"
      ]
     },
     "metadata": {},
     "output_type": "display_data"
    }
   ],
   "source": [
    "plt.rcParams['figure.figsize'] = 10., 7.5\n",
    "fig, ax = plt.subplots()\n",
    "ax.grid()\n",
    "\n",
    "ax.plot(df['Quantile'],df['DML QTE'], color='violet', label='Estimated QTE')\n",
    "ax.fill_between(df['Quantile'], df['DML QTE lower'], df['DML QTE upper'], color='violet', alpha=.3, label='Confidence Interval')\n",
    "\n",
    "plt.legend()\n",
    "plt.title('Quantile Treatment Effects', fontsize=16)\n",
    "plt.xlabel('Quantile')\n",
    "_ = plt.ylabel('QTE and 95%-CI')"
   ]
  },
  {
   "cell_type": "markdown",
   "id": "bdb138b7",
   "metadata": {},
   "source": [
    "## The `DoubleML` package"
   ]
  },
  {
   "cell_type": "markdown",
   "id": "d871d878",
   "metadata": {},
   "source": [
    "Let's use the package [DoubleML](https://docs.doubleml.org/stable/index.html) to estimate the average treatment effect of 401(k) eligibility, i.e. `e401`, and participation, i.e. `p401`, on net financial assets `net_tfa`."
   ]
  },
  {
   "cell_type": "markdown",
   "id": "7c626f03",
   "metadata": {},
   "source": [
    "## Estimating the Average Treatment Effect of 401(k) Eligibility on Net Financial Assets"
   ]
  },
  {
   "cell_type": "markdown",
   "id": "8f1f0cbb",
   "metadata": {},
   "source": [
    "We first look at the treatment effect of `e401` on net total financial assets. We give estimates of the ATE in the linear model\n",
    "\n",
    "\\begin{equation*}\n",
    "Y = D \\alpha + f(X)'\\beta+ \\epsilon,\n",
    "\\end{equation*}\n",
    "where $f(X)$ is a dictonary applied to the raw regressors. $X$ contains variables on marital status, two-earner status, defined benefit pension status, IRA participation, home ownership, family size, education, age, and income. \n",
    "\n",
    "In the following, we will consider two different models, \n",
    "\n",
    "* a basic model specification that includes the raw regressors, i.e., $f(X) = X$, and \n",
    "\n",
    "* a flexible model specification, where $f(X)$ includes the raw regressors $X$ and the orthogonal polynomials of degree 2 for the variables family size education, age, and income. \n",
    "\n",
    "We will use the basic model specification whenever we use nonlinear methods, for example regression trees or random forests, and use the flexible model for linear methods such as the lasso. There are, of course, multiple ways how the model can be specified even more flexibly, for example including interactions of variable and higher order interaction. However, for the sake of simplicity we stick to the specification above. Users who are interested in varying the model can adapt the code below accordingly, for example to implement the orignal specification in [Chernozhukov et al. (2018)](https://arxiv.org/abs/1608.00060). \n",
    "\n",
    "In the first step, we report estimates of the average treatment effect (ATE) of 401(k) eligibility on net financial assets both in the partially linear regression (PLR) model and in the interactive regression model (IRM) allowing for heterogeneous treatment effects."
   ]
  },
  {
   "cell_type": "markdown",
   "id": "59d03336",
   "metadata": {},
   "source": [
    "### The Data Backend: `DoubleMLData`"
   ]
  },
  {
   "cell_type": "markdown",
   "id": "2e1fe478",
   "metadata": {},
   "source": [
    "To start our analysis, we initialize the data backend, i.e., a new instance of a [DoubleMLData](https://docs.doubleml.org/dev/api/generated/doubleml.DoubleMLData.html#doubleml.DoubleMLData) object. We implement the regression model by using scikit-learn's `PolynomialFeatures` class.\n",
    "\n",
    "To implement both models (basic and flexible), we generate two data backends: `data_dml_base` and `data_dml_flex`."
   ]
  },
  {
   "cell_type": "code",
   "execution_count": 22,
   "id": "a69acf79",
   "metadata": {},
   "outputs": [
    {
     "ename": "TypeError",
     "evalue": "data must be of pd.DataFrame type. {'Quantile': array([0.2, 0.3, 0.4, 0.5, 0.6, 0.7, 0.8]), 'DML LQTE': array([ 1442.,  1900.,  4540.,  7324., 11699., 16149., 23000.]), 'DML LQTE lower': 0.2     1388.511631\n0.3     1891.137983\n0.4     4524.076772\n0.5     7242.581168\n0.6    11673.351302\n0.7    16131.258991\n0.8    22992.122216\nName: 2.5 %, dtype: float64, 'DML LQTE upper': 0.2     1495.488369\n0.3     1908.862017\n0.4     4555.923228\n0.5     7405.418832\n0.6    11724.648698\n0.7    16166.741009\n0.8    23007.877784\nName: 97.5 %, dtype: float64} of type <class 'dict'> was passed.",
     "output_type": "error",
     "traceback": [
      "\u001b[1;31m---------------------------------------------------------------------------\u001b[0m",
      "\u001b[1;31mTypeError\u001b[0m                                 Traceback (most recent call last)",
      "Cell \u001b[1;32mIn [22], line 6\u001b[0m\n\u001b[0;32m      2\u001b[0m features_base \u001b[38;5;241m=\u001b[39m [\u001b[38;5;124m'\u001b[39m\u001b[38;5;124mage\u001b[39m\u001b[38;5;124m'\u001b[39m, \u001b[38;5;124m'\u001b[39m\u001b[38;5;124minc\u001b[39m\u001b[38;5;124m'\u001b[39m, \u001b[38;5;124m'\u001b[39m\u001b[38;5;124meduc\u001b[39m\u001b[38;5;124m'\u001b[39m, \u001b[38;5;124m'\u001b[39m\u001b[38;5;124mfsize\u001b[39m\u001b[38;5;124m'\u001b[39m, \u001b[38;5;124m'\u001b[39m\u001b[38;5;124mmarr\u001b[39m\u001b[38;5;124m'\u001b[39m,\n\u001b[0;32m      3\u001b[0m                  \u001b[38;5;124m'\u001b[39m\u001b[38;5;124mtwoearn\u001b[39m\u001b[38;5;124m'\u001b[39m, \u001b[38;5;124m'\u001b[39m\u001b[38;5;124mdb\u001b[39m\u001b[38;5;124m'\u001b[39m, \u001b[38;5;124m'\u001b[39m\u001b[38;5;124mpira\u001b[39m\u001b[38;5;124m'\u001b[39m, \u001b[38;5;124m'\u001b[39m\u001b[38;5;124mhown\u001b[39m\u001b[38;5;124m'\u001b[39m]\n\u001b[0;32m      5\u001b[0m \u001b[38;5;66;03m# Initialize DoubleMLData (data-backend of DoubleML)\u001b[39;00m\n\u001b[1;32m----> 6\u001b[0m data_dml_base \u001b[38;5;241m=\u001b[39m \u001b[43mdml\u001b[49m\u001b[38;5;241;43m.\u001b[39;49m\u001b[43mDoubleMLData\u001b[49m\u001b[43m(\u001b[49m\u001b[43mdata\u001b[49m\u001b[43m,\u001b[49m\n\u001b[0;32m      7\u001b[0m \u001b[43m                                 \u001b[49m\u001b[43my_col\u001b[49m\u001b[38;5;241;43m=\u001b[39;49m\u001b[38;5;124;43m'\u001b[39;49m\u001b[38;5;124;43mnet_tfa\u001b[39;49m\u001b[38;5;124;43m'\u001b[39;49m\u001b[43m,\u001b[49m\n\u001b[0;32m      8\u001b[0m \u001b[43m                                 \u001b[49m\u001b[43md_cols\u001b[49m\u001b[38;5;241;43m=\u001b[39;49m\u001b[38;5;124;43m'\u001b[39;49m\u001b[38;5;124;43me401\u001b[39;49m\u001b[38;5;124;43m'\u001b[39;49m\u001b[43m,\u001b[49m\n\u001b[0;32m      9\u001b[0m \u001b[43m                                 \u001b[49m\u001b[43mx_cols\u001b[49m\u001b[38;5;241;43m=\u001b[39;49m\u001b[43mfeatures_base\u001b[49m\u001b[43m)\u001b[49m\n",
      "File \u001b[1;32md:\\github\\doubleml-for-py\\doubleml\\double_ml_data.py:139\u001b[0m, in \u001b[0;36mDoubleMLData.__init__\u001b[1;34m(self, data, y_col, d_cols, x_cols, z_cols, use_other_treat_as_covariate, force_all_x_finite)\u001b[0m\n\u001b[0;32m    131\u001b[0m \u001b[38;5;28;01mdef\u001b[39;00m \u001b[38;5;21m__init__\u001b[39m(\u001b[38;5;28mself\u001b[39m,\n\u001b[0;32m    132\u001b[0m              data,\n\u001b[0;32m    133\u001b[0m              y_col,\n\u001b[1;32m   (...)\u001b[0m\n\u001b[0;32m    137\u001b[0m              use_other_treat_as_covariate\u001b[38;5;241m=\u001b[39m\u001b[38;5;28;01mTrue\u001b[39;00m,\n\u001b[0;32m    138\u001b[0m              force_all_x_finite\u001b[38;5;241m=\u001b[39m\u001b[38;5;28;01mTrue\u001b[39;00m):\n\u001b[1;32m--> 139\u001b[0m     \u001b[43mDoubleMLBaseData\u001b[49m\u001b[38;5;241;43m.\u001b[39;49m\u001b[38;5;21;43m__init__\u001b[39;49m\u001b[43m(\u001b[49m\u001b[38;5;28;43mself\u001b[39;49m\u001b[43m,\u001b[49m\u001b[43m \u001b[49m\u001b[43mdata\u001b[49m\u001b[43m)\u001b[49m\n\u001b[0;32m    141\u001b[0m     \u001b[38;5;28mself\u001b[39m\u001b[38;5;241m.\u001b[39my_col \u001b[38;5;241m=\u001b[39m y_col\n\u001b[0;32m    142\u001b[0m     \u001b[38;5;28mself\u001b[39m\u001b[38;5;241m.\u001b[39md_cols \u001b[38;5;241m=\u001b[39m d_cols\n",
      "File \u001b[1;32md:\\github\\doubleml-for-py\\doubleml\\double_ml_data.py:19\u001b[0m, in \u001b[0;36mDoubleMLBaseData.__init__\u001b[1;34m(self, data)\u001b[0m\n\u001b[0;32m     16\u001b[0m \u001b[38;5;28;01mdef\u001b[39;00m \u001b[38;5;21m__init__\u001b[39m(\u001b[38;5;28mself\u001b[39m,\n\u001b[0;32m     17\u001b[0m              data):\n\u001b[0;32m     18\u001b[0m     \u001b[38;5;28;01mif\u001b[39;00m \u001b[38;5;129;01mnot\u001b[39;00m \u001b[38;5;28misinstance\u001b[39m(data, pd\u001b[38;5;241m.\u001b[39mDataFrame):\n\u001b[1;32m---> 19\u001b[0m         \u001b[38;5;28;01mraise\u001b[39;00m \u001b[38;5;167;01mTypeError\u001b[39;00m(\u001b[38;5;124m'\u001b[39m\u001b[38;5;124mdata must be of pd.DataFrame type. \u001b[39m\u001b[38;5;124m'\u001b[39m\n\u001b[0;32m     20\u001b[0m                         \u001b[38;5;124mf\u001b[39m\u001b[38;5;124m'\u001b[39m\u001b[38;5;132;01m{\u001b[39;00m\u001b[38;5;28mstr\u001b[39m(data)\u001b[38;5;132;01m}\u001b[39;00m\u001b[38;5;124m of type \u001b[39m\u001b[38;5;132;01m{\u001b[39;00m\u001b[38;5;28mstr\u001b[39m(\u001b[38;5;28mtype\u001b[39m(data))\u001b[38;5;132;01m}\u001b[39;00m\u001b[38;5;124m was passed.\u001b[39m\u001b[38;5;124m'\u001b[39m)\n\u001b[0;32m     21\u001b[0m     \u001b[38;5;28;01mif\u001b[39;00m \u001b[38;5;129;01mnot\u001b[39;00m data\u001b[38;5;241m.\u001b[39mcolumns\u001b[38;5;241m.\u001b[39mis_unique:\n\u001b[0;32m     22\u001b[0m         \u001b[38;5;28;01mraise\u001b[39;00m \u001b[38;5;167;01mValueError\u001b[39;00m(\u001b[38;5;124m'\u001b[39m\u001b[38;5;124mInvalid pd.DataFrame: \u001b[39m\u001b[38;5;124m'\u001b[39m\n\u001b[0;32m     23\u001b[0m                          \u001b[38;5;124m'\u001b[39m\u001b[38;5;124mContains duplicate column names.\u001b[39m\u001b[38;5;124m'\u001b[39m)\n",
      "\u001b[1;31mTypeError\u001b[0m: data must be of pd.DataFrame type. {'Quantile': array([0.2, 0.3, 0.4, 0.5, 0.6, 0.7, 0.8]), 'DML LQTE': array([ 1442.,  1900.,  4540.,  7324., 11699., 16149., 23000.]), 'DML LQTE lower': 0.2     1388.511631\n0.3     1891.137983\n0.4     4524.076772\n0.5     7242.581168\n0.6    11673.351302\n0.7    16131.258991\n0.8    22992.122216\nName: 2.5 %, dtype: float64, 'DML LQTE upper': 0.2     1495.488369\n0.3     1908.862017\n0.4     4555.923228\n0.5     7405.418832\n0.6    11724.648698\n0.7    16166.741009\n0.8    23007.877784\nName: 97.5 %, dtype: float64} of type <class 'dict'> was passed."
     ]
    }
   ],
   "source": [
    "# Set up basic model: Specify variables for data-backend\n",
    "features_base = ['age', 'inc', 'educ', 'fsize', 'marr',\n",
    "                 'twoearn', 'db', 'pira', 'hown']\n",
    "\n",
    "# Initialize DoubleMLData (data-backend of DoubleML)\n",
    "data_dml_base = dml.DoubleMLData(data,\n",
    "                                 y_col='net_tfa',\n",
    "                                 d_cols='e401',\n",
    "                                 x_cols=features_base)"
   ]
  },
  {
   "cell_type": "code",
   "execution_count": null,
   "id": "283cb128",
   "metadata": {},
   "outputs": [],
   "source": [
    "print(data_dml_base)"
   ]
  },
  {
   "cell_type": "code",
   "execution_count": null,
   "id": "4f8f4463",
   "metadata": {},
   "outputs": [],
   "source": [
    "# Set up a model according to regression formula with polynomials\n",
    "features = data.copy()[['marr', 'twoearn', 'db', 'pira', 'hown']]\n",
    "\n",
    "poly_dict = {'age': 2,\n",
    "             'inc': 2,\n",
    "             'educ': 2,\n",
    "             'fsize': 2}\n",
    "for key, degree in poly_dict.items():\n",
    "    poly = PolynomialFeatures(degree, include_bias=False)\n",
    "    data_transf = poly.fit_transform(data[[key]])\n",
    "    x_cols = poly.get_feature_names([key])\n",
    "    data_transf = pd.DataFrame(data_transf, columns=x_cols)\n",
    "    \n",
    "    features = pd.concat((features, data_transf),\n",
    "                          axis=1, sort=False)\n",
    "\n",
    "model_data = pd.concat((data.copy()[['net_tfa', 'e401']], features.copy()),\n",
    "                        axis=1, sort=False)\n",
    "\n",
    "# Initialize DoubleMLData (data-backend of DoubleML)\n",
    "data_dml_flex = dml.DoubleMLData(model_data, y_col='net_tfa', d_cols='e401')"
   ]
  },
  {
   "cell_type": "code",
   "execution_count": null,
   "id": "4d5885ed",
   "metadata": {},
   "outputs": [],
   "source": [
    "print(data_dml_flex)"
   ]
  },
  {
   "cell_type": "markdown",
   "id": "a85b7f11",
   "metadata": {},
   "source": [
    "### Partially Linear Regression Model (PLR)"
   ]
  },
  {
   "cell_type": "markdown",
   "id": "f4794f98",
   "metadata": {},
   "source": [
    "We start using lasso to estimate the function $g_0$ and $m_0$ in the following PLR model:"
   ]
  },
  {
   "cell_type": "markdown",
   "id": "77aac812",
   "metadata": {},
   "source": [
    "\\begin{eqnarray}\n",
    "& Y = D\\theta_0 + g_0(X) + \\zeta, &\\quad E[\\zeta \\mid D,X]= 0,\\\\\n",
    "& D = m_0(X) +  V, &\\quad E[V \\mid X] = 0.\n",
    "\\end{eqnarray}"
   ]
  },
  {
   "cell_type": "markdown",
   "id": "8aaaa9ff",
   "metadata": {},
   "source": [
    "To estimate the causal parameter $\\theta_0$ here, we use double machine learning with 3-fold cross-fitting. \n",
    " \n",
    "Estimation of the nuisance components $g_0$ and $m_0$, is based on the lasso with cross-validated choice of the penalty term , $\\lambda$, as provided by [scikit-learn](https://scikit-learn.org). We load the learner by initializing instances from the classes [LassoCV](https://scikit-learn.org/stable/modules/generated/sklearn.linear_model.LassoCV.html) and [LogisticRegressionCV](https://scikit-learn.org/stable/modules/generated/sklearn.linear_model.LogisticRegressionCV.html). Hyperparameters and options can be set during instantiation of the learner. Here we specify that the lasso should use that value of $\\lambda$ that minimizes the cross-validated mean squared error which is based on 5-fold cross validation.\n",
    "\n",
    "We start by estimation the ATE in the basic model and then repeat the estimation in the flexible model."
   ]
  },
  {
   "cell_type": "code",
   "execution_count": null,
   "id": "6481a766",
   "metadata": {
    "scrolled": true
   },
   "outputs": [],
   "source": [
    "# Initialize learners\n",
    "Cs = 0.0001*np.logspace(0, 4, 10)\n",
    "lasso = make_pipeline(StandardScaler(), LassoCV(cv=5, max_iter=10000))\n",
    "lasso_class = make_pipeline(StandardScaler(),\n",
    "                            LogisticRegressionCV(cv=5, penalty='l1', solver='liblinear',\n",
    "                                                 Cs = Cs, max_iter=1000))\n",
    "\n",
    "np.random.seed(123)\n",
    "# Initialize DoubleMLPLR model\n",
    "dml_plr_lasso = dml.DoubleMLPLR(data_dml_base,\n",
    "                                ml_l = lasso,\n",
    "                                ml_m = lasso_class,\n",
    "                                n_folds = 3)\n",
    "\n",
    "dml_plr_lasso.fit(store_predictions=True)\n",
    "dml_plr_lasso.summary"
   ]
  },
  {
   "cell_type": "code",
   "execution_count": null,
   "id": "355e78ca",
   "metadata": {},
   "outputs": [],
   "source": [
    "# Estimate the ATE in the flexible model with lasso\n",
    "\n",
    "np.random.seed(123)\n",
    "dml_plr_lasso = dml.DoubleMLPLR(data_dml_flex,\n",
    "                                ml_l = lasso,\n",
    "                                ml_m = lasso_class,\n",
    "                                n_folds = 3)\n",
    "\n",
    "dml_plr_lasso.fit(store_predictions=True)\n",
    "lasso_summary = dml_plr_lasso.summary\n",
    "\n",
    "lasso_summary"
   ]
  },
  {
   "cell_type": "markdown",
   "id": "92407d1e",
   "metadata": {},
   "source": [
    "Alternatively, we can repeat this procedure with other machine learning methods, for example a random forest learner as provided by the [RandomForestRegressor](https://scikit-learn.org/stable/modules/generated/sklearn.ensemble.RandomForestRegressor.html) and [RandomForestClassifier](https://scikit-learn.org/stable/modules/generated/sklearn.ensemble.RandomForestClassifier.html) class in [scikit-learn](https://scikit-learn.org). "
   ]
  },
  {
   "cell_type": "code",
   "execution_count": null,
   "id": "8462dd26",
   "metadata": {},
   "outputs": [],
   "source": [
    "# Random Forest\n",
    "randomForest = RandomForestRegressor(\n",
    "    n_estimators=500, max_depth=7, max_features=3, min_samples_leaf=3)\n",
    "randomForest_class = RandomForestClassifier(\n",
    "    n_estimators=500, max_depth=5, max_features=4, min_samples_leaf=7)\n",
    "\n",
    "np.random.seed(123)\n",
    "dml_plr_forest = dml.DoubleMLPLR(data_dml_base,\n",
    "                                 ml_l = randomForest,\n",
    "                                 ml_m = randomForest_class,\n",
    "                                 n_folds = 3)\n",
    "dml_plr_forest.fit(store_predictions=True)\n",
    "forest_summary = dml_plr_forest.summary\n",
    "\n",
    "forest_summary"
   ]
  },
  {
   "cell_type": "markdown",
   "id": "c2e8de45",
   "metadata": {},
   "source": [
    "Now, let's use a regression tree as provided in [scikit-learn](https://scikit-learn.org)'s [DecisionTreeRegressor](https://scikit-learn.org/stable/modules/generated/sklearn.tree.DecisionTreeRegressor.html) and [DecisionTreeClassifier](https://scikit-learn.org/stable/modules/generated/sklearn.tree.DecisionTreeClassifier.html)."
   ]
  },
  {
   "cell_type": "code",
   "execution_count": null,
   "id": "20957649",
   "metadata": {},
   "outputs": [],
   "source": [
    "# Trees\n",
    "trees = DecisionTreeRegressor(\n",
    "    max_depth=30, ccp_alpha=0.0047, min_samples_split=203, min_samples_leaf=67)\n",
    "trees_class = DecisionTreeClassifier(\n",
    "    max_depth=30, ccp_alpha=0.0042, min_samples_split=104, min_samples_leaf=34)\n",
    "\n",
    "np.random.seed(123)\n",
    "dml_plr_tree = dml.DoubleMLPLR(data_dml_base,\n",
    "                               ml_l = trees,\n",
    "                               ml_m = trees_class,\n",
    "                               n_folds = 3)\n",
    "dml_plr_tree.fit(store_predictions=True)\n",
    "tree_summary = dml_plr_tree.summary\n",
    "\n",
    "tree_summary"
   ]
  },
  {
   "cell_type": "markdown",
   "id": "a187d938",
   "metadata": {},
   "source": [
    "We can also experiment with extreme gradient boosting as provided by [xgboost](https://xgboost.readthedocs.io/en/latest/)."
   ]
  },
  {
   "cell_type": "code",
   "execution_count": null,
   "id": "988af9d6",
   "metadata": {},
   "outputs": [],
   "source": [
    "# Boosted Trees\n",
    "boost = XGBRegressor(n_jobs=1, objective = \"reg:squarederror\",\n",
    "                     eta=0.1, n_estimators=35)\n",
    "boost_class = XGBClassifier(use_label_encoder=False, n_jobs=1,\n",
    "                            objective = \"binary:logistic\", eval_metric = \"logloss\",\n",
    "                            eta=0.1, n_estimators=34)\n",
    "\n",
    "np.random.seed(123)\n",
    "dml_plr_boost = dml.DoubleMLPLR(data_dml_base,\n",
    "                                ml_l = boost,\n",
    "                                ml_m = boost_class,\n",
    "                                n_folds = 3)\n",
    "dml_plr_boost.fit(store_predictions=True)\n",
    "boost_summary = dml_plr_boost.summary\n",
    "\n",
    "boost_summary"
   ]
  },
  {
   "cell_type": "markdown",
   "id": "b57d231e",
   "metadata": {},
   "source": [
    "Let's sum up the results:"
   ]
  },
  {
   "cell_type": "code",
   "execution_count": null,
   "id": "0cc90651",
   "metadata": {},
   "outputs": [],
   "source": [
    "plr_summary = pd.concat((lasso_summary, forest_summary, tree_summary, boost_summary))\n",
    "plr_summary.index = ['lasso', 'forest', 'tree', 'xgboost']\n",
    "plr_summary[['coef', '2.5 %', '97.5 %']]"
   ]
  },
  {
   "cell_type": "code",
   "execution_count": null,
   "id": "20528edc",
   "metadata": {},
   "outputs": [],
   "source": [
    "errors = np.full((2, plr_summary.shape[0]), np.nan)\n",
    "errors[0, :] = plr_summary['coef'] - plr_summary['2.5 %']\n",
    "errors[1, :] = plr_summary['97.5 %'] - plr_summary['coef']\n",
    "plt.errorbar(plr_summary.index, plr_summary.coef, fmt='o', yerr=errors)\n",
    "plt.ylim([0, 12500])\n",
    "\n",
    "plt.title('Partially Linear Regression Model (PLR)')\n",
    "plt.xlabel('ML method')\n",
    "_ =  plt.ylabel('Coefficients and 95%-CI')"
   ]
  },
  {
   "cell_type": "markdown",
   "id": "446bdae9",
   "metadata": {},
   "source": [
    "### Interactive Regression Model (IRM)"
   ]
  },
  {
   "cell_type": "markdown",
   "id": "aa53e2c6",
   "metadata": {},
   "source": [
    "Next, we consider estimation of average treatment effects when treatment effects are fully heterogeneous:"
   ]
  },
  {
   "cell_type": "markdown",
   "id": "4ca39012",
   "metadata": {},
   "source": [
    "\\begin{eqnarray}\n",
    "& Y = g_0(D,X) + U, &\\quad E[U\\mid X,D] = 0,\\\\\n",
    "& D = m_0(X) + V, &\\quad E[V\\mid X] = 0.\n",
    "\\end{eqnarray}"
   ]
  },
  {
   "cell_type": "markdown",
   "id": "e61aece3",
   "metadata": {},
   "source": [
    "To reduce the disproportionate impact of extreme propensity score weights in the interactive model\n",
    "we trim the propensity scores which are close to the bounds."
   ]
  },
  {
   "cell_type": "code",
   "execution_count": null,
   "id": "14b79c21",
   "metadata": {},
   "outputs": [],
   "source": [
    "# Lasso\n",
    "lasso = make_pipeline(StandardScaler(), LassoCV(cv=5, max_iter=20000))\n",
    "\n",
    "# Initialize DoubleMLIRM model\n",
    "np.random.seed(123)\n",
    "dml_irm_lasso = dml.DoubleMLIRM(data_dml_flex,\n",
    "                          ml_g = lasso,\n",
    "                          ml_m = lasso_class,\n",
    "                          trimming_threshold = 0.01,\n",
    "                          n_folds = 3)\n",
    "dml_irm_lasso.fit(store_predictions=True) \n",
    "lasso_summary = dml_irm_lasso.summary\n",
    "\n",
    "lasso_summary"
   ]
  },
  {
   "cell_type": "code",
   "execution_count": null,
   "id": "6762686f",
   "metadata": {},
   "outputs": [],
   "source": [
    "# Random Forest\n",
    "randomForest = RandomForestRegressor(n_estimators=500)\n",
    "randomForest_class = RandomForestClassifier(n_estimators=500)\n",
    "\n",
    "np.random.seed(123)\n",
    "dml_irm_forest = dml.DoubleMLIRM(data_dml_base,\n",
    "                                 ml_g = randomForest,\n",
    "                                 ml_m = randomForest_class,\n",
    "                                 trimming_threshold = 0.01,\n",
    "                                 n_folds = 3)\n",
    "\n",
    "# Set nuisance-part specific parameters\n",
    "dml_irm_forest.set_ml_nuisance_params('ml_g0', 'e401', {\n",
    "    'max_depth': 6, 'max_features': 4, 'min_samples_leaf': 7})\n",
    "dml_irm_forest.set_ml_nuisance_params('ml_g1', 'e401', {\n",
    "    'max_depth': 6, 'max_features': 3, 'min_samples_leaf': 5})\n",
    "dml_irm_forest.set_ml_nuisance_params('ml_m', 'e401', {\n",
    "    'max_depth': 6, 'max_features': 3, 'min_samples_leaf': 6})\n",
    "\n",
    "dml_irm_forest.fit(store_predictions=True) \n",
    "forest_summary = dml_irm_forest.summary\n",
    "\n",
    "forest_summary"
   ]
  },
  {
   "cell_type": "code",
   "execution_count": null,
   "id": "8589ee4d",
   "metadata": {},
   "outputs": [],
   "source": [
    "# Trees\n",
    "trees = DecisionTreeRegressor(max_depth=30)\n",
    "trees_class = DecisionTreeClassifier(max_depth=30)\n",
    "\n",
    "np.random.seed(123)\n",
    "dml_irm_tree = dml.DoubleMLIRM(data_dml_base,\n",
    "                               ml_g = trees,\n",
    "                               ml_m = trees_class,\n",
    "                               trimming_threshold = 0.01,\n",
    "                               n_folds = 3)\n",
    "\n",
    "# Set nuisance-part specific parameters\n",
    "dml_irm_tree.set_ml_nuisance_params('ml_g0', 'e401', {\n",
    "    'ccp_alpha': 0.0016, 'min_samples_split': 74, 'min_samples_leaf': 24})\n",
    "dml_irm_tree.set_ml_nuisance_params('ml_g1', 'e401', {\n",
    "    'ccp_alpha': 0.0018, 'min_samples_split': 70, 'min_samples_leaf': 23})\n",
    "dml_irm_tree.set_ml_nuisance_params('ml_m', 'e401', {\n",
    "    'ccp_alpha': 0.0028, 'min_samples_split': 167, 'min_samples_leaf': 55})\n",
    "\n",
    "dml_irm_tree.fit(store_predictions=True)\n",
    "tree_summary = dml_irm_tree.summary\n",
    "\n",
    "tree_summary"
   ]
  },
  {
   "cell_type": "code",
   "execution_count": null,
   "id": "8ab9a005",
   "metadata": {},
   "outputs": [],
   "source": [
    "# Boosted Trees\n",
    "boost = XGBRegressor(n_jobs=1, objective = \"reg:squarederror\")\n",
    "boost_class = XGBClassifier(use_label_encoder=False, n_jobs=1,\n",
    "                            objective = \"binary:logistic\", eval_metric = \"logloss\")\n",
    "\n",
    "np.random.seed(123)\n",
    "dml_irm_boost = dml.DoubleMLIRM(data_dml_base,\n",
    "                                ml_g = boost,\n",
    "                                ml_m = boost_class,\n",
    "                                trimming_threshold = 0.01,\n",
    "                                n_folds = 3)\n",
    "\n",
    "# Set nuisance-part specific parameters\n",
    "dml_irm_boost.set_ml_nuisance_params('ml_g0', 'e401', {\n",
    "    'eta': 0.1, 'n_estimators': 8})\n",
    "dml_irm_boost.set_ml_nuisance_params('ml_g1', 'e401', {\n",
    "    'eta': 0.1, 'n_estimators': 29})\n",
    "dml_irm_boost.set_ml_nuisance_params('ml_m', 'e401', {\n",
    "    'eta': 0.1, 'n_estimators': 23})\n",
    "\n",
    "dml_irm_boost.fit(store_predictions=True)\n",
    "boost_summary = dml_irm_boost.summary\n",
    "\n",
    "boost_summary"
   ]
  },
  {
   "cell_type": "code",
   "execution_count": null,
   "id": "83a3293b",
   "metadata": {},
   "outputs": [],
   "source": [
    "irm_summary = pd.concat((lasso_summary, forest_summary, tree_summary, boost_summary))\n",
    "irm_summary.index = ['lasso', 'forest', 'tree', 'xgboost']\n",
    "irm_summary[['coef', '2.5 %', '97.5 %']]"
   ]
  },
  {
   "cell_type": "code",
   "execution_count": null,
   "id": "ddf460d6",
   "metadata": {},
   "outputs": [],
   "source": [
    "errors = np.full((2, irm_summary.shape[0]), np.nan)\n",
    "errors[0, :] = irm_summary['coef'] - irm_summary['2.5 %']\n",
    "errors[1, :] = irm_summary['97.5 %'] - irm_summary['coef']\n",
    "plt.errorbar(irm_summary.index, irm_summary.coef, fmt='o', yerr=errors)\n",
    "plt.ylim([0, 12500])\n",
    "\n",
    "plt.title('Interactive Regression Model (IRM)')\n",
    "plt.xlabel('ML method')\n",
    "_ = plt.ylabel('Coefficients and 95%-CI')"
   ]
  },
  {
   "cell_type": "markdown",
   "id": "541d51d3",
   "metadata": {},
   "source": [
    "These estimates that flexibly account for confounding are\n",
    "substantially attenuated relative to the baseline estimate (*19559*) that does not account for confounding. They suggest much smaller causal effects of 401(k) eligiblity on financial asset holdings. The best model with lowest RMSE in both equations is the PLR model estimated via lasso. It gives the following estimate:"
   ]
  },
  {
   "cell_type": "markdown",
   "id": "a70f729b",
   "metadata": {},
   "source": [
    "## Local Average Treatment Effects of 401(k) Participation on Net Financial Assets"
   ]
  },
  {
   "cell_type": "markdown",
   "id": "f5c32411",
   "metadata": {},
   "source": [
    "### Interactive IV Model (IIVM)"
   ]
  },
  {
   "cell_type": "markdown",
   "id": "9ad4bf98",
   "metadata": {},
   "source": [
    "In the examples above, we estimated the average treatment effect of *eligibility* on financial asset holdings. Now, we consider estimation of local average treatment effects (LATE) of *participation* using eligibility as an instrument for the participation decision. Under appropriate assumptions, the LATE identifies the treatment effect for so-called compliers, i.e., individuals who would only participate if eligible and otherwise not participate in the program. \n",
    "\n",
    "As before, $Y$ denotes the outcome `net_tfa`, and $X$ is the vector of covariates. We use `e401` as a binary instrument for the treatment variable `p401`. Here the structural equation model is:\n",
    "\n",
    "\\begin{eqnarray}\n",
    "& Y = g_0(Z,X) + U, &\\quad E[U\\mid Z,X] = 0,\\\\\n",
    "& D = r_0(Z,X) + V, &\\quad E[V\\mid Z, X] = 0,\\\\\n",
    "& Z = m_0(X) + \\zeta, &\\quad E[\\zeta \\mid X] = 0.\n",
    "\\end{eqnarray}"
   ]
  },
  {
   "cell_type": "code",
   "execution_count": null,
   "id": "85c3d0fe",
   "metadata": {},
   "outputs": [],
   "source": [
    "# Initialize DoubleMLData with an instrument\n",
    "\n",
    "# Basic model\n",
    "data_dml_base_iv = dml.DoubleMLData(data,\n",
    "                                    y_col='net_tfa',\n",
    "                                    d_cols='p401',\n",
    "                                    z_cols='e401',\n",
    "                                    x_cols=features_base)\n",
    "\n",
    "print(data_dml_base_iv)"
   ]
  },
  {
   "cell_type": "code",
   "execution_count": null,
   "id": "9c6f8fc8",
   "metadata": {},
   "outputs": [],
   "source": [
    "# Flexible model\n",
    "model_data = pd.concat((data.copy()[['net_tfa', 'e401', 'p401']], features.copy()),\n",
    "                        axis=1, sort=False)\n",
    "\n",
    "data_dml_iv_flex = dml.DoubleMLData(model_data,\n",
    "                                    y_col='net_tfa',\n",
    "                                    d_cols='p401',\n",
    "                                    z_cols='e401')\n",
    "\n",
    "print(data_dml_iv_flex)"
   ]
  },
  {
   "cell_type": "code",
   "execution_count": null,
   "id": "c2e0942f",
   "metadata": {},
   "outputs": [],
   "source": [
    "# Lasso\n",
    "lasso = make_pipeline(StandardScaler(), LassoCV(cv=5, max_iter=20000))\n",
    "\n",
    "# Initialize DoubleMLIRM model\n",
    "np.random.seed(123)\n",
    "dml_iivm_lasso = dml.DoubleMLIIVM(data_dml_iv_flex,\n",
    "                                  ml_g = lasso,\n",
    "                                  ml_m = lasso_class,\n",
    "                                  ml_r = lasso_class,\n",
    "                                  subgroups = {'always_takers': False,\n",
    "                                             'never_takers': True},\n",
    "                                  trimming_threshold = 0.01,\n",
    "                                  n_folds = 3)\n",
    "dml_iivm_lasso.fit(store_predictions=True)\n",
    "lasso_summary = dml_iivm_lasso.summary\n",
    "\n",
    "lasso_summary"
   ]
  },
  {
   "cell_type": "markdown",
   "id": "19ddd6ad",
   "metadata": {},
   "source": [
    "Again, we repeat the procedure for the other machine learning methods:"
   ]
  },
  {
   "cell_type": "code",
   "execution_count": null,
   "id": "438232b9",
   "metadata": {},
   "outputs": [],
   "source": [
    "# Random Forest\n",
    "randomForest = RandomForestRegressor(n_estimators=500)\n",
    "randomForest_class = RandomForestClassifier(n_estimators=500)\n",
    "\n",
    "np.random.seed(123)\n",
    "dml_iivm_forest = dml.DoubleMLIIVM(data_dml_base_iv,\n",
    "                                   ml_g = randomForest,\n",
    "                                   ml_m = randomForest_class,\n",
    "                                   ml_r = randomForest_class,\n",
    "                                   subgroups = {'always_takers': False,\n",
    "                                                'never_takers': True},\n",
    "                                   trimming_threshold = 0.01,\n",
    "                                   n_folds = 3)\n",
    "\n",
    "# Set nuisance-part specific parameters\n",
    "dml_iivm_forest.set_ml_nuisance_params('ml_g0', 'p401', {\n",
    "    'max_depth': 6, 'max_features': 4, 'min_samples_leaf': 7})\n",
    "dml_iivm_forest.set_ml_nuisance_params('ml_g1', 'p401', {\n",
    "    'max_depth': 6, 'max_features': 3, 'min_samples_leaf': 5})\n",
    "dml_iivm_forest.set_ml_nuisance_params('ml_m', 'p401', {\n",
    "    'max_depth': 6, 'max_features': 3, 'min_samples_leaf': 6})\n",
    "dml_iivm_forest.set_ml_nuisance_params('ml_r1', 'p401', {\n",
    "    'max_depth': 4, 'max_features': 7, 'min_samples_leaf': 6})\n",
    "\n",
    "dml_iivm_forest.fit(store_predictions=True) \n",
    "forest_summary = dml_iivm_forest.summary\n",
    "\n",
    "forest_summary"
   ]
  },
  {
   "cell_type": "code",
   "execution_count": null,
   "id": "69630a44",
   "metadata": {},
   "outputs": [],
   "source": [
    "# Trees\n",
    "trees = DecisionTreeRegressor(max_depth=30)\n",
    "trees_class = DecisionTreeClassifier(max_depth=30)\n",
    "\n",
    "np.random.seed(123)\n",
    "dml_iivm_tree = dml.DoubleMLIIVM(data_dml_base_iv,\n",
    "                                 ml_g = trees,\n",
    "                                 ml_m = trees_class,\n",
    "                                 ml_r = trees_class,\n",
    "                                 subgroups = {'always_takers': False,\n",
    "                                              'never_takers': True},\n",
    "                                 trimming_threshold = 0.01,\n",
    "                                 n_folds = 3)\n",
    "\n",
    "# Set nuisance-part specific parameters\n",
    "dml_iivm_tree.set_ml_nuisance_params('ml_g0', 'p401', {\n",
    "    'ccp_alpha': 0.0016, 'min_samples_split': 74, 'min_samples_leaf': 24})\n",
    "dml_iivm_tree.set_ml_nuisance_params('ml_g1', 'p401', {\n",
    "    'ccp_alpha': 0.0018, 'min_samples_split': 70, 'min_samples_leaf': 23})\n",
    "dml_iivm_tree.set_ml_nuisance_params('ml_m', 'p401', {\n",
    "    'ccp_alpha': 0.0028, 'min_samples_split': 167, 'min_samples_leaf': 55})\n",
    "dml_iivm_tree.set_ml_nuisance_params('ml_r1', 'p401', {\n",
    "    'ccp_alpha': 0.0576, 'min_samples_split': 55, 'min_samples_leaf': 18})\n",
    "\n",
    "dml_iivm_tree.fit(store_predictions=True)\n",
    "tree_summary = dml_iivm_tree.summary\n",
    "\n",
    "tree_summary"
   ]
  },
  {
   "cell_type": "code",
   "execution_count": null,
   "id": "239364cb",
   "metadata": {},
   "outputs": [],
   "source": [
    "# Boosted Trees\n",
    "boost = XGBRegressor(n_jobs=1, objective = \"reg:squarederror\")\n",
    "boost_class = XGBClassifier(use_label_encoder=False, n_jobs=1,\n",
    "                            objective = \"binary:logistic\", eval_metric = \"logloss\")\n",
    "\n",
    "np.random.seed(123)\n",
    "dml_iivm_boost = dml.DoubleMLIIVM(data_dml_base_iv,\n",
    "                                  ml_g = boost,\n",
    "                                  ml_m = boost_class,\n",
    "                                  ml_r = boost_class,\n",
    "                                  subgroups = {'always_takers': False,\n",
    "                                               'never_takers': True},\n",
    "                                  trimming_threshold = 0.01,\n",
    "                                  n_folds = 3)\n",
    "\n",
    "# Set nuisance-part specific parameters\n",
    "dml_iivm_boost.set_ml_nuisance_params('ml_g0', 'p401', {\n",
    "    'eta': 0.1, 'n_estimators': 9})\n",
    "dml_iivm_boost.set_ml_nuisance_params('ml_g1', 'p401', {\n",
    "    'eta': 0.1, 'n_estimators': 33})\n",
    "dml_iivm_boost.set_ml_nuisance_params('ml_m', 'p401', {\n",
    "    'eta': 0.1, 'n_estimators': 12})\n",
    "dml_iivm_boost.set_ml_nuisance_params('ml_r1', 'p401', {\n",
    "    'eta': 0.1, 'n_estimators': 25})\n",
    "\n",
    "dml_iivm_boost.fit(store_predictions=True)\n",
    "boost_summary = dml_iivm_boost.summary\n",
    "\n",
    "boost_summary"
   ]
  },
  {
   "cell_type": "code",
   "execution_count": null,
   "id": "9e20803b",
   "metadata": {},
   "outputs": [],
   "source": [
    "iivm_summary = pd.concat((lasso_summary, forest_summary, tree_summary, boost_summary))\n",
    "iivm_summary.index = ['lasso', 'forest', 'tree', 'xgboost']\n",
    "iivm_summary[['coef', '2.5 %', '97.5 %']]"
   ]
  },
  {
   "cell_type": "code",
   "execution_count": null,
   "id": "259eb6eb",
   "metadata": {},
   "outputs": [],
   "source": [
    "colors = sns.color_palette()"
   ]
  },
  {
   "cell_type": "code",
   "execution_count": null,
   "id": "87a4af31",
   "metadata": {},
   "outputs": [],
   "source": [
    "errors = np.full((2, iivm_summary.shape[0]), np.nan)\n",
    "errors[0, :] = iivm_summary['coef'] - iivm_summary['2.5 %']\n",
    "errors[1, :] = iivm_summary['97.5 %'] - iivm_summary['coef']\n",
    "plt.errorbar(iivm_summary.index, iivm_summary.coef, fmt='o', yerr=errors)\n",
    "plt.ylim([0, 16500])\n",
    "\n",
    "plt.title('Interactive IV Model (IIVM)')\n",
    "plt.xlabel('ML method')\n",
    "_ = plt.ylabel('Coefficients and 95%-CI')"
   ]
  },
  {
   "cell_type": "markdown",
   "id": "f80f1c8c",
   "metadata": {},
   "source": [
    "## Summary of Results"
   ]
  },
  {
   "cell_type": "markdown",
   "id": "1e427295",
   "metadata": {},
   "source": [
    "To sum up, let's merge all our results so far and illustrate them in a plot. "
   ]
  },
  {
   "cell_type": "code",
   "execution_count": null,
   "id": "75c1862b",
   "metadata": {},
   "outputs": [],
   "source": [
    "df_summary = pd.concat((plr_summary, irm_summary, iivm_summary)).reset_index().rename(columns={'index': 'ML'})\n",
    "df_summary['Model'] = np.concatenate((np.repeat('PLR', 4), np.repeat('IRM', 4), np.repeat('IIVM', 4)))\n",
    "df_summary.set_index(['Model', 'ML'])"
   ]
  },
  {
   "cell_type": "code",
   "execution_count": null,
   "id": "dfb07885",
   "metadata": {
    "tags": [
     "nbsphinx-thumbnail"
    ]
   },
   "outputs": [],
   "source": [
    "plt.figure(figsize=(10, 15))\n",
    "colors = sns.color_palette()\n",
    "for ind, model in enumerate(['PLR', 'IRM', 'IIVM']):\n",
    "    plt.subplot(3, 1, ind+1)\n",
    "    this_df = df_summary.query('Model == @model')\n",
    "    errors = np.full((2, this_df.shape[0]), np.nan)\n",
    "    errors[0, :] = this_df['coef'] - this_df['2.5 %']\n",
    "    errors[1, :] = this_df['97.5 %'] - this_df['coef']\n",
    "    plt.errorbar(this_df.ML, this_df.coef, fmt='o', yerr=errors,\n",
    "                 color=colors[ind], ecolor=colors[ind])\n",
    "    plt.ylim([0, 16500])\n",
    "    plt.title(model)\n",
    "    plt.ylabel('Coefficients and 95%-CI')\n",
    "\n",
    "_ = plt.xlabel('ML method')"
   ]
  },
  {
   "cell_type": "markdown",
   "id": "4974df69",
   "metadata": {},
   "source": [
    "We report results based on four ML methods for estimating the nuisance functions used in\n",
    "forming the orthogonal estimating equations. We find again that the estimates of the treatment effect are stable across ML methods. The estimates are highly significant, hence we would reject the hypothesis\n",
    "that 401(k) participation has no effect on financial wealth."
   ]
  },
  {
   "cell_type": "markdown",
   "id": "72e515ad",
   "metadata": {},
   "source": [
    "______\n",
    "\n",
    "**Acknowledgement**\n",
    "\n",
    "We would like to thank [Jannis Kueck](https://www.bwl.uni-hamburg.de/en/statistik/team/kueck.html) for sharing [the kaggle notebook](https://www.kaggle.com/janniskueck/pm5-401k). The pension data set has been analyzed in several studies, among others [Chernozhukov et al. (2018)](https://arxiv.org/abs/1608.00060).\n",
    "\n"
   ]
  }
 ],
 "metadata": {
  "kernelspec": {
   "display_name": "doubleml",
   "language": "python",
   "name": "python3"
  },
  "language_info": {
   "codemirror_mode": {
    "name": "ipython",
    "version": 3
   },
   "file_extension": ".py",
   "mimetype": "text/x-python",
   "name": "python",
   "nbconvert_exporter": "python",
   "pygments_lexer": "ipython3",
   "version": "3.10.8"
  },
  "vscode": {
   "interpreter": {
    "hash": "c17b3f7bd1a966b23df6bc421cb393eedb89185fca3be80230a2e6676a5e11a1"
   }
  }
 },
 "nbformat": 4,
 "nbformat_minor": 5
}
