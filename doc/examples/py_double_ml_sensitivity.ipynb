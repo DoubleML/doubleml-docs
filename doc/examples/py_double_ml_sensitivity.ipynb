{
 "cells": [
  {
   "attachments": {},
   "cell_type": "markdown",
   "metadata": {},
   "source": [
    "# Python: Sensitivity Analysis\n",
    "\n",
    "This notebook illustrates the "
   ]
  },
  {
   "cell_type": "code",
   "execution_count": null,
   "metadata": {},
   "outputs": [],
   "source": [
    "import numpy as np\n",
    "import pandas as pd\n",
    "from scipy import stats\n",
    "\n",
    "import matplotlib.pyplot as plt\n",
    "import seaborn as sns\n",
    "\n",
    "from sklearn.ensemble import RandomForestRegressor, RandomForestClassifier\n",
    "from sklearn.linear_model import LassoCV, LogisticRegressionCV, LinearRegression, LogisticRegression\n",
    "from lightgbm import LGBMRegressor, LGBMClassifier\n",
    "\n",
    "import doubleml as dml\n",
    "from doubleml.datasets import make_irm_data, make_conf_irm_data"
   ]
  },
  {
   "cell_type": "code",
   "execution_count": null,
   "metadata": {},
   "outputs": [],
   "source": [
    "    dpg_dict = make_conf_irm_data(cf_y=cf_y, cf_d=cf_d)\n",
    "    x_cols = [f'X{i + 1}' for i in np.arange(dpg_dict['x'].shape[1])]\n",
    "    data = pd.DataFrame(np.column_stack((dpg_dict['x'], dpg_dict['y'], dpg_dict['d'])),\n",
    "                                columns=x_cols + ['y', 'd'])"
   ]
  }
 ],
 "metadata": {
  "language_info": {
   "name": "python"
  },
  "orig_nbformat": 4
 },
 "nbformat": 4,
 "nbformat_minor": 2
}
