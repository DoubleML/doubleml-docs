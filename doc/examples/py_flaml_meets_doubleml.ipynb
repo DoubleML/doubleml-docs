{
 "cells": [
  {
   "cell_type": "markdown",
   "metadata": {},
   "source": [
    "# FLAML meets DoubleMl\n",
    "With this notebook we would like to demonstrate how to use the AutoML library `FLAML` to tune learners in the DoubleML framework."
   ]
  },
  {
   "cell_type": "code",
   "execution_count": 1,
   "metadata": {},
   "outputs": [
    {
     "name": "stdout",
     "output_type": "stream",
     "text": [
      "Tuning RMSE (ml_m): [1.02181707]\n",
      "Evaluation RMSE (ml_m): 1.020225215425113\n",
      "Tuning RMSE (ml_l): [1.14851273]\n",
      "Evaluation RMSE (ml_l): 1.1476134085232756\n"
     ]
    }
   ],
   "source": [
    "import xgboost as xgb\n",
    "import pandas as pd\n",
    "import matplotlib.pyplot as plt\n",
    "import numpy as np\n",
    "\n",
    "from doubleml.datasets import make_plr_CCDDHNR2018\n",
    "import doubleml as dml\n",
    "from flaml import AutoML\n",
    "from sklearn.model_selection import train_test_split\n",
    "from sklearn.metrics import mean_squared_error\n",
    "\n",
    "\n",
    "# Generate synthetic data\n",
    "data = make_plr_CCDDHNR2018(alpha=0.5, n_obs=1000, dim_x=50, return_type=\"DataFrame\")\n",
    "\n",
    "# Initialize AutoML for outcome model (ml_l)\n",
    "automl_l = AutoML()\n",
    "settings_l = {\n",
    "    \"time_budget\": 120,\n",
    "    \"metric\": 'rmse',\n",
    "    \"estimator_list\": ['xgboost'],\n",
    "    \"task\": 'regression',\n",
    "}\n",
    "automl_l.fit(X_train=data.drop(columns=[\"y\", \"d\"]).values, y_train=data[\"y\"].values, verbose=2, **settings_l)\n",
    "\n",
    "# Initialize AutoML for treatment model (ml_m)\n",
    "automl_m = AutoML()\n",
    "settings_m = {\n",
    "    \"time_budget\": 120,\n",
    "    \"metric\": 'rmse',\n",
    "    \"estimator_list\": ['xgboost'],\n",
    "    \"task\": 'regression',\n",
    "}\n",
    "automl_m.fit(X_train=data.drop(columns=[\"y\", \"d\"]).values, y_train=data[\"d\"].values, verbose=2, **settings_m)\n",
    "\n",
    "# Check for Overfitting: Compare in-sample (train), out-of-sample (test) MSE\n",
    "# ml_m\n",
    "rmse_oos_ml_m = automl_m.best_loss\n",
    "rmse_oos_ml_l = automl_l.best_loss\n",
    "\n",
    "# Create DoubleMLData object with the evaluation set\n",
    "obj_dml_data = dml.DoubleMLData(data, \"y\", \"d\")\n",
    "\n",
    "# Initialize DoubleMLPLR with the trained models from flaml\n",
    "obj_dml_plr = dml.DoubleMLPLR(obj_dml_data, ml_m=automl_m.model.estimator, ml_l=automl_l.model.estimator)\n",
    "\n",
    "# Fit the DoubleMLPLR model\n",
    "obj_dml_plr.fit()\n",
    "\n",
    "# Evaluate learners using evaluate_learners() (MSE for all nuisance components)\n",
    "rmse_ins_ml_l = obj_dml_plr.evaluate_learners()['ml_l'][0]\n",
    "rmse_ins_ml_m = obj_dml_plr.evaluate_learners()['ml_m'][0]\n",
    "\n",
    "# Print results\n",
    "print(\"Tuning RMSE (ml_m):\", rmse_ins_ml_m)\n",
    "print(\"Evaluation RMSE (ml_m):\", rmse_oos_ml_m)\n",
    "print(\"Tuning RMSE (ml_l):\", rmse_ins_ml_l)\n",
    "print(\"Evaluation RMSE (ml_l):\", rmse_oos_ml_l)"
   ]
  }
 ],
 "metadata": {
  "kernelspec": {
   "display_name": "flaml",
   "language": "python",
   "name": "python3"
  },
  "language_info": {
   "codemirror_mode": {
    "name": "ipython",
    "version": 3
   },
   "file_extension": ".py",
   "mimetype": "text/x-python",
   "name": "python",
   "nbconvert_exporter": "python",
   "pygments_lexer": "ipython3",
   "version": "3.12.4"
  }
 },
 "nbformat": 4,
 "nbformat_minor": 2
}
