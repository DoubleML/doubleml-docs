{
 "cells": [
  {
   "cell_type": "markdown",
   "id": "b0f8d234",
   "metadata": {},
   "source": [
    "# R: Cluster Robust Double Machine Learning\n",
    "\n",
    "This example demonstrates the cluster robust features of the [DoubleML](https://docs.doubleml.org/stable/index.html) package.\n",
    "The theoretical foundations are given in Chiang et al. 2021."
   ]
  },
  {
   "cell_type": "code",
   "execution_count": null,
   "id": "54457681",
   "metadata": {},
   "outputs": [],
   "source": [
    "library('hdm')\n",
    "library('DoubleML')\n",
    "library('mlr3')\n",
    "library('mlr3learners')\n",
    "# surpress messages from mlr3 package during fitting\n",
    "lgr::get_logger(\"mlr3\")$set_threshold(\"warn\")\n",
    "\n",
    "library('ggplot2')\n",
    "library('reshape2')\n",
    "library('gridExtra')"
   ]
  },
  {
   "cell_type": "markdown",
   "id": "25e60136",
   "metadata": {},
   "source": [
    "## Two-Way Cluster Robust DML\n",
    "\n",
    "In a first part, we show how the two-way cluster roboust DML (Chiang et al. 2021) can be implemented with the [DoubleML](https://docs.doubleml.org/stable/index.html) package.\n",
    "Chiang et al. (2021) consider double-indexed data\n",
    "\n",
    "\\begin{equation}\n",
    "\\lbrace W_{ij}: i \\in \\lbrace 1, \\ldots, N \\rbrace, j \\in \\lbrace 1, \\ldots, M \\rbrace \\rbrace\n",
    "\\end{equation}\n",
    "\n",
    "and the partially linear IV regression model (PLIV)\n",
    "\n",
    "$$\\begin{aligned}\n",
    "Y_{ij} = D_{ij} \\theta_0 +  g_0(X_{ij}) + \\epsilon_{ij}, & &\\mathbb{E}(\\epsilon_{ij} | X_{ij}, Z_{ij}) = 0, \\\\\n",
    "Z_{ij} = m_0(X_{ij}) + v_{ij}, & &\\mathbb{E}(v_{ij} | X_{ij}) = 0.\n",
    "\\end{aligned}$$"
   ]
  },
  {
   "cell_type": "markdown",
   "id": "9f72087a",
   "metadata": {},
   "source": [
    "### Simulate multiway cluster data\n",
    "\n",
    "We use the PLIV data generating process described in Section 4.1 of Chiang et al. (2020).\n",
    "The DGP is defined as\n",
    "$$\\begin{aligned}\n",
    "Z_{ij} &= X_{ij}' \\xi_0 + V_{ij}, \\\\\n",
    "D_{ij} &= Z_{ij}' \\pi_{10} + X_{ij}' \\pi_{20} + v_{ij}, \\\\\n",
    "Y_{ij} &= D_{ij} \\theta + X_{ij}' \\zeta_0 + \\varepsilon_{ij},\n",
    "\\end{aligned}$$\n",
    "with\n",
    "$$\\begin{aligned}\n",
    "X_{ij} &= (1 - \\omega_1^X - \\omega_2^X) \\alpha_{ij}^X\n",
    "+ \\omega_1^X \\alpha_{i}^X + \\omega_2^X \\alpha_{j}^X, \\\\\n",
    "\\varepsilon_{ij} &= (1 - \\omega_1^\\varepsilon - \\omega_2^\\varepsilon) \\alpha_{ij}^\\varepsilon\n",
    "+ \\omega_1^\\varepsilon \\alpha_{i}^\\varepsilon + \\omega_2^\\varepsilon \\alpha_{j}^\\varepsilon, \\\\\n",
    "v_{ij} &= (1 - \\omega_1^v - \\omega_2^v) \\alpha_{ij}^v\n",
    "+ \\omega_1^v \\alpha_{i}^v + \\omega_2^v \\alpha_{j}^v, \\\\\n",
    "V_{ij} &= (1 - \\omega_1^V - \\omega_2^V) \\alpha_{ij}^V\n",
    "+ \\omega_1^V \\alpha_{i}^V + \\omega_2^V \\alpha_{j}^V,\n",
    "\\end{aligned}$$\n",
    "and $\\alpha_{ij}^X, \\alpha_{i}^X, \\alpha_{j}^X \\sim \\mathcal{N}(0, \\Sigma)$\n",
    "where  $\\Sigma$ is a $p_x \\times p_x$ matrix with entries\n",
    "$\\Sigma_{kj} = s_X^{|j-k|}$.\n",
    "Further\n",
    "$$\\begin{aligned}\n",
    "\\left(\\begin{matrix} \\alpha_{ij}^\\varepsilon \\\\ \\alpha_{ij}^v \\end{matrix}\\right),\n",
    "\\left(\\begin{matrix} \\alpha_{i}^\\varepsilon \\\\ \\alpha_{i}^v \\end{matrix}\\right),\n",
    "\\left(\\begin{matrix} \\alpha_{j}^\\varepsilon \\\\ \\alpha_{j}^v \\end{matrix}\\right)\n",
    "\\sim \\mathcal{N}\\left(0, \\left(\\begin{matrix} 1 & s_{\\varepsilon v} \\\\\n",
    "s_{\\varepsilon v} & 1 \\end{matrix} \\right) \\right)\n",
    "\\end{aligned}$$\n",
    "and $\\alpha_{ij}^V, \\alpha_{i}^V, \\alpha_{j}^V \\sim \\mathcal{N}(0, 1)$.\n",
    "\n",
    "Data from this DGP can be generated with the [make_pliv_multiway_cluster_CKMS2021()](https://docs.doubleml.org/r/stable/reference/make_pliv_multiway_cluster_CKMS2021.html) function from [DoubleML](https://docs.doubleml.org/stable/index.html).) function from [DoubleML](https://docs.doubleml.org/stable/index.html)."
   ]
  },
  {
   "cell_type": "code",
   "execution_count": null,
   "id": "425066f4",
   "metadata": {},
   "outputs": [],
   "source": [
    "# Set the simulation parameters\n",
    "N = 25  # number of observations (first dimension)\n",
    "M = 25  # number of observations (second dimension)\n",
    "dim_X = 100  # dimension of X\n",
    "set.seed(3141) # set seed\n",
    "\n",
    "obj_dml_data = make_pliv_multiway_cluster_CKMS2021(N, M, dim_X)"
   ]
  },
  {
   "cell_type": "markdown",
   "id": "320f9e9b",
   "metadata": {},
   "source": [
    "### Data-Backend for Cluster Data\n",
    "The implemenation of cluster robust double machine learning is based on a special data-backend called [DoubleMLClusterData](https://docs.doubleml.org/r/stable/reference/DoubleMLClusterData.html)."
   ]
  },
  {
   "cell_type": "code",
   "execution_count": null,
   "id": "0adb3ca8",
   "metadata": {},
   "outputs": [],
   "source": [
    "# The simulated data is of type DoubleMLClusterData\n",
    "print(obj_dml_data)"
   ]
  },
  {
   "cell_type": "code",
   "execution_count": null,
   "id": "c8688fc6",
   "metadata": {},
   "outputs": [],
   "source": [
    "# The cluster variables are part of the DataFrame\n",
    "head(obj_dml_data$data)"
   ]
  },
  {
   "cell_type": "markdown",
   "id": "60f9cf92",
   "metadata": {},
   "source": [
    "### Initialize the objects of class  DoubleMLPLIV"
   ]
  },
  {
   "cell_type": "code",
   "execution_count": null,
   "id": "61eba05b",
   "metadata": {},
   "outputs": [],
   "source": [
    "# Set machine learning methods for m, g & r\n",
    "ml_g = lrn(\"regr.cv_glmnet\", nfolds = 10, s = \"lambda.min\")\n",
    "ml_m = lrn(\"regr.cv_glmnet\", nfolds = 10, s = \"lambda.min\")\n",
    "ml_r = lrn(\"regr.cv_glmnet\", nfolds = 10, s = \"lambda.min\")\n",
    "\n",
    "# initialize the DoubleMLPLIV object\n",
    "dml_pliv_obj = DoubleMLPLIV$new(obj_dml_data,\n",
    "                                ml_g, ml_m, ml_r,\n",
    "                                n_folds=3)"
   ]
  },
  {
   "cell_type": "code",
   "execution_count": null,
   "id": "4ba84351",
   "metadata": {},
   "outputs": [],
   "source": [
    "print(dml_pliv_obj)"
   ]
  },
  {
   "cell_type": "markdown",
   "id": "77d4ba3c",
   "metadata": {},
   "source": [
    "### Cluster Robust Cross Fitting\n",
    "A key element of cluster robust DML (Chiang et al. 2021) is a special sample splitting used for the cross-fitting.\n",
    "In case of two-way clustering, we assume $N$ clusters in the first dimension and $M$ clusters in the second dimension.\n",
    "\n",
    "For $K$-fold cross-fitting, Chiang et al. 2021 proposed to randomly partition $[N]:=\\{1,\\ldots,N\\}$ into $K$ subsets $\\{I_1, \\ldots, I_K\\}$ and $[M]:=\\{1,\\ldots,N\\}$ into $K$ subsets $\\{J_1, \\ldots, J_K\\}$.\n",
    "Effectively, one then considers $K^2$ folds.\n",
    "Basically for each $(k, \\ell) \\in \\{1, \\ldots, K\\} \\times \\{1, \\ldots, K\\}$, the nuisance functions are estimated for all double-indexed observations in $([N]\\setminus I_K) \\times ([M]\\setminus J_\\ell)$, i.e.,\n",
    "$$\n",
    "\\hat{\\eta}_{k\\ell} = \\hat{\\eta}\\left((W_{ij})_{(i,j)\\in ([N]\\setminus I_K) \\times ([M]\\setminus J_\\ell)}\\right)\n",
    "$$\n",
    "The causal parameter is then estimated as usual by solving a moment condition with a Neyman orthogonal score function.\n",
    "For two-way cluster robust double machine learning with algorithm DML2 this results in solving\n",
    "$$\n",
    "\\frac{1}{K^2} \\sum_{k=1}^{K} \\sum_{\\ell=1}^{K} \\frac{1}{|I_k| |J_\\ell|} \\sum_{(i,j) \\in I_K \\times J_\\ell}\n",
    "\\psi(W_{ij}, \\tilde{\\theta}_0, \\hat{\\eta}_{k\\ell}) = 0\n",
    "$$\n",
    "for $\\tilde{\\theta}_0$.\n",
    "Here $|I_k|$ denotes the cardinality, i.e., the number of clusters in the $k$-th fold for the first cluster variable."
   ]
  },
  {
   "cell_type": "markdown",
   "id": "087c4ded",
   "metadata": {},
   "source": [
    "We can visualize the sample splitting of the $N \\cdot M = 625$ observations into $K \\cdot K = 9$ folds."
   ]
  },
  {
   "cell_type": "code",
   "execution_count": null,
   "id": "3d4cf42d",
   "metadata": {},
   "outputs": [],
   "source": [
    "library(RColorBrewer)\n",
    "coul <- rev(colorRampPalette(brewer.pal(8, \"RdBu\"))(3))\n",
    "options(repr.plot.width = 10, repr.plot.height = 10)"
   ]
  },
  {
   "cell_type": "code",
   "execution_count": null,
   "id": "2b3e896d",
   "metadata": {},
   "outputs": [],
   "source": [
    "smpls = dml_pliv_obj$smpls[[1]]\n",
    "n_folds = dml_pliv_obj$n_folds\n",
    "df = matrix(0, nrow = N*M, ncol = n_folds)\n",
    "for (i_fold in 1:n_folds){\n",
    "    df[smpls$train_ids[[i_fold]], i_fold] = -1\n",
    "    df[smpls$test_ids[[i_fold]], i_fold] = 1\n",
    "}\n",
    "\n",
    "heatmap(df, Rowv=NA, Colv=NA, col=coul, cexRow=1.5, cexCol=1.5, scale='none')"
   ]
  },
  {
   "cell_type": "markdown",
   "id": "e400839a",
   "metadata": {},
   "source": [
    "If we visualize the sample splitting in terms of the cluster variables the sample splitting into $9$ folds $I_k \\times J_\\ell$ becomes clearer."
   ]
  },
  {
   "cell_type": "code",
   "execution_count": null,
   "id": "3eb587f8",
   "metadata": {
    "scrolled": true
   },
   "outputs": [],
   "source": [
    "smpls_cluster = dml_pliv_obj$smpls_cluster[[1]]\n",
    "n_folds = dml_pliv_obj$n_folds\n",
    "n_folds_per_cluster = sqrt(dml_pliv_obj$n_folds)\n",
    "#options(repr.plot.width = 6, repr.plot.height = 6)\n",
    "plots = list()\n",
    "for (i_fold in 1:n_folds){\n",
    "    mat = matrix(0, nrow = M, ncol = N)\n",
    "    for (k in smpls_cluster$train_ids[[i_fold]][[1]]) {\n",
    "        for (l in smpls_cluster$train_ids[[i_fold]][[2]]) {\n",
    "            mat[k, l] = -1\n",
    "        }\n",
    "    }\n",
    "    for (k in smpls_cluster$test_ids[[i_fold]][[1]]) {\n",
    "        for (l in smpls_cluster$test_ids[[i_fold]][[2]]) {\n",
    "            mat[k, l] = 1\n",
    "        }\n",
    "    }\n",
    "    l = (i_fold-1) %% n_folds_per_cluster + 1\n",
    "    k = ((i_fold-1) %/% n_folds_per_cluster)+1\n",
    "    df = data.frame(mat)\n",
    "    cols = names(df)\n",
    "    names(df) = 1:N\n",
    "    df$id = 1:N\n",
    "    df_plot = melt(df,  id.var = 'id')\n",
    "    df_plot$value = factor(df_plot$value)\n",
    "    plots[[i_fold]] = ggplot(data = df_plot, aes(x=id, y=variable)) + \n",
    "      geom_tile(aes(fill=value), colour = \"grey50\") +\n",
    "    scale_fill_manual(values = c(\"darkblue\", \"white\", \"darkred\")) +\n",
    "    theme(text = element_text(size=15))\n",
    "    # ToDo: Add Subplot titles\n",
    "    if (k == 3) {\n",
    "        plots[[i_fold]] = plots[[i_fold]] + xlab(expression(paste('Second Cluster Variable ', l)))\n",
    "    } else {\n",
    "        plots[[i_fold]] = plots[[i_fold]] + xlab('')\n",
    "    }\n",
    "    if (l == 1) {\n",
    "        plots[[i_fold]] = plots[[i_fold]] + ylab(expression(paste('First Cluster Variable ', k)))\n",
    "    } else {\n",
    "        plots[[i_fold]] = plots[[i_fold]] + ylab('')\n",
    "    }\n",
    "}"
   ]
  },
  {
   "cell_type": "code",
   "execution_count": null,
   "id": "204a61f6",
   "metadata": {
    "tags": [
     "nbsphinx-thumbnail"
    ]
   },
   "outputs": [],
   "source": [
    "options(repr.plot.width = 12, repr.plot.height = 10)\n",
    "grid.arrange(grobs=plots, ncol = 3, nrow = 3)"
   ]
  },
  {
   "cell_type": "markdown",
   "id": "b35823b9",
   "metadata": {},
   "source": [
    "### Cluster Robust Standard Errors\n",
    "In the abstract base class `DoubleML` the estimation of cluster robust standard errors is implemented for all supported double machine learning models.\n",
    "It is based on the assumption of a linear Neyman orthogonal score function.\n",
    "We use the notation $n \\wedge m := \\min\\{n,m\\}$.\n",
    "For the the asymptotic variance of\n",
    "$\\sqrt{\\underline{C}}(\\tilde{\\theta_0} - \\theta_0$ with\n",
    "$\\underline{C} := N \\wedge M$\n",
    "Chiang et al. 2021 then proposed the following estimator\n",
    "$$\n",
    "\\hat{\\sigma}^2 = \\hat{J}^{-1} \\hat{\\Gamma} \\hat{J}^{-1}\n",
    "$$\n",
    "where\n",
    "$$\n",
    "\\begin{aligned}\n",
    "\\hat{\\Gamma} = \\frac{1}{K^2} \\sum_{(k, \\ell) \\in[K]^2}\n",
    "\\Bigg[ \\frac{|I_k| \\wedge |J_\\ell|}{(|I_k||J_\\ell|)^2}\n",
    "\\bigg(&\\sum_{i \\in I_k} \\sum_{j \\in J_\\ell} \\sum_{j' \\in J_\\ell}\n",
    "\\psi(W_{ij}; \\tilde{\\theta}, \\hat{\\eta}_{k \\ell}) \\psi(W_{ij'}; \\tilde{\\theta}_0, \\hat{\\eta}_{k \\ell}) \\\\\n",
    "&+ \\sum_{i \\in I_k} \\sum_{i' \\in I_k} \\sum_{j \\in J_\\ell}\n",
    "\\psi(W_{ij}; \\tilde{\\theta}, \\hat{\\eta}_{k \\ell}) \\psi(W_{i'j}; \\tilde{\\theta}_0, \\hat{\\eta}_{k \\ell})\n",
    "\\bigg)\n",
    "\\Bigg]\n",
    "\\end{aligned}$$\n",
    "and\n",
    "$$\n",
    "\\begin{aligned}\n",
    "\\hat{J} = \\frac{1}{K^2} \\sum_{(k, \\ell) \\in[K]^2} \\frac{1}{|I_k||J_\\ell|}\n",
    "\\sum_{i \\in I_k} \\sum_{j \\in J_\\ell}\n",
    "\\psi_a(W_{ij}; \\tilde{\\theta}_0, \\hat{\\eta}_{k \\ell}).\n",
    "\\end{aligned}\n",
    "$$\n",
    "A $(1-\\alpha)$ confidence interval is then given by (Chiang et al. 2020)\n",
    "$$\\begin{aligned}\n",
    "\\left[\n",
    "\\tilde{\\theta} \\pm \\Phi^{-1}(1-\\alpha/2) \\sqrt{\\hat{\\sigma}^2 / \\underline{C}}\n",
    "\\right]\n",
    "\\end{aligned}\n",
    "$$\n",
    "with $\\underline{C} = N \\wedge M$."
   ]
  },
  {
   "cell_type": "code",
   "execution_count": null,
   "id": "87fd32ec",
   "metadata": {},
   "outputs": [],
   "source": [
    "# Estimate the PLIV model with cluster robust double machine learning\n",
    "dml_pliv_obj$fit()\n",
    "dml_pliv_obj$summary()"
   ]
  },
  {
   "cell_type": "markdown",
   "id": "084d7d5a",
   "metadata": {},
   "source": [
    "## (One-Way) Cluster Robust Double Machine Learing\n",
    "\n",
    "We again use the PLIV data generating process described in Section 4.1 of Chiang et al. (2020).\n",
    "To obtain one-way clustered data, we set the following weights to zero\n",
    "$$\n",
    "\\omega_2^X = \\omega_2^\\varepsilon = \\omega_2^v = \\omega_2^V = 0.\n",
    "$$\n",
    "Again we can simulate this data with [make_pliv_multiway_cluster_CKMS2021()](https://docs.doubleml.org/r/stable/reference/make_pliv_multiway_cluster_CKMS2021.html). To prepare the data-backend for one-way clustering, we only have to alter the `cluster_cols` to be `'cluster_var_i'`."
   ]
  },
  {
   "cell_type": "code",
   "execution_count": null,
   "id": "1d4b281d",
   "metadata": {},
   "outputs": [],
   "source": [
    "obj_dml_data = make_pliv_multiway_cluster_CKMS2021(N, M, dim_X,\n",
    "                                                   omega_X = c(0.25, 0),\n",
    "                                                   omega_epsilon = c(0.25, 0),\n",
    "                                                   omega_v = c(0.25, 0),\n",
    "                                                   omega_V = c(0.25, 0))"
   ]
  },
  {
   "cell_type": "code",
   "execution_count": null,
   "id": "23a06d6f",
   "metadata": {},
   "outputs": [],
   "source": [
    "obj_dml_data$cluster_cols = 'cluster_var_i'\n",
    "print(obj_dml_data)"
   ]
  },
  {
   "cell_type": "code",
   "execution_count": null,
   "id": "21c711d0",
   "metadata": {},
   "outputs": [],
   "source": [
    "# Set machine learning methods for m, g & r\n",
    "ml_g = lrn(\"regr.cv_glmnet\", nfolds = 10, s = \"lambda.min\")\n",
    "ml_m = lrn(\"regr.cv_glmnet\", nfolds = 10, s = \"lambda.min\")\n",
    "ml_r = lrn(\"regr.cv_glmnet\", nfolds = 10, s = \"lambda.min\")\n",
    "\n",
    "# initialize the DoubleMLPLIV object\n",
    "dml_pliv_obj = DoubleMLPLIV$new(obj_dml_data,\n",
    "                                ml_g, ml_m, ml_r,\n",
    "                                n_folds=3)"
   ]
  },
  {
   "cell_type": "code",
   "execution_count": null,
   "id": "dc68f87c",
   "metadata": {},
   "outputs": [],
   "source": [
    "dml_pliv_obj$fit()\n",
    "dml_pliv_obj$summary()"
   ]
  },
  {
   "cell_type": "markdown",
   "id": "f1816c91",
   "metadata": {},
   "source": [
    "## Data Application\n",
    "As data application we revist the consumer demand example from Chiang et al. (2021).\n",
    "The U.S. automobile data of Berry, Levinsohn, and Pakes (1995) is obtained from the `R` package `hdm`."
   ]
  },
  {
   "cell_type": "markdown",
   "id": "fb2ec71d",
   "metadata": {},
   "source": [
    "### Load and Process Data"
   ]
  },
  {
   "cell_type": "code",
   "execution_count": null,
   "id": "6922f8e8",
   "metadata": {},
   "outputs": [],
   "source": [
    "## Prepare the BLP data\n",
    "data(BLP);\n",
    "blp_data <- BLP$BLP;\n",
    "blp_data$price <- blp_data$price + 11.761\n",
    "blp_data$log_p = log(blp_data$price)"
   ]
  },
  {
   "cell_type": "code",
   "execution_count": null,
   "id": "656841d5",
   "metadata": {},
   "outputs": [],
   "source": [
    "x_cols = c('hpwt', 'air', 'mpd', 'space')\n",
    "head(blp_data[x_cols])"
   ]
  },
  {
   "cell_type": "code",
   "execution_count": null,
   "id": "84af624d",
   "metadata": {},
   "outputs": [],
   "source": [
    "iv_vars = as.data.frame(hdm:::constructIV(blp_data$firm.id,\n",
    "                            blp_data$cdid,\n",
    "                            blp_data$id,\n",
    "                            blp_data[x_cols]))"
   ]
  },
  {
   "cell_type": "code",
   "execution_count": null,
   "id": "5e392540",
   "metadata": {},
   "outputs": [],
   "source": [
    "formula = formula(paste0(\" ~ -1 + (hpwt + air + mpd + space)^2\",\n",
    "                         \"+ I(hpwt^2)*(air + mpd + space)\",\n",
    "                         \"+ I(air^2)*(hpwt + mpd + space)\",\n",
    "                         \"+ I(mpd^2)*(hpwt + air + space)\",\n",
    "                         \"+ I(space^2)*(hpwt + air + mpd)\",\n",
    "                         \"+ I(space^2) + I(hpwt^3) + I(air^3) + I(mpd^3) + I(space^3)\"))\n",
    "data_transf = data.frame(model.matrix(formula, blp_data))\n",
    "names(data_transf)"
   ]
  },
  {
   "cell_type": "code",
   "execution_count": null,
   "id": "f399695e",
   "metadata": {},
   "outputs": [],
   "source": [
    "y_col = 'y'\n",
    "d_col = 'log_p'\n",
    "cluster_cols = c('model.id', 'cdid')\n",
    "all_z_cols = c('sum.other.hpwt', 'sum.other.mpd', 'sum.other.space')\n",
    "z_col = all_z_cols[1]"
   ]
  },
  {
   "cell_type": "code",
   "execution_count": null,
   "id": "77463843",
   "metadata": {},
   "outputs": [],
   "source": [
    "dml_df = cbind(blp_data[c(y_col, d_col, cluster_cols)],\n",
    "               data_transf,\n",
    "               iv_vars[all_z_cols])"
   ]
  },
  {
   "cell_type": "markdown",
   "id": "40906dc9",
   "metadata": {},
   "source": [
    "### Initialize `DoubleMLClusterData` object"
   ]
  },
  {
   "cell_type": "code",
   "execution_count": null,
   "id": "31907b1e",
   "metadata": {},
   "outputs": [],
   "source": [
    "dml_data = DoubleMLClusterData$new(dml_df,\n",
    "                                   y_col=y_col,\n",
    "                                   d_cols=d_col,\n",
    "                                   z_cols=z_col,\n",
    "                                   cluster_cols=cluster_cols,\n",
    "                                   x_cols=names(data_transf))"
   ]
  },
  {
   "cell_type": "code",
   "execution_count": null,
   "id": "75f62d25",
   "metadata": {},
   "outputs": [],
   "source": [
    "print(dml_data)"
   ]
  },
  {
   "cell_type": "code",
   "execution_count": null,
   "id": "cb2ed4b7",
   "metadata": {},
   "outputs": [],
   "source": [
    "lasso = lrn(\"regr.cv_glmnet\", nfolds = 10, s = \"lambda.min\")"
   ]
  },
  {
   "cell_type": "code",
   "execution_count": null,
   "id": "d58b9a5b",
   "metadata": {},
   "outputs": [],
   "source": [
    "coef_df = data.frame(matrix(NA_real_, ncol = 4, nrow = 1))\n",
    "colnames(coef_df) = c('zero-way', 'one-way-product', 'one-way-market', 'two-way')\n",
    "rownames(coef_df) = all_z_cols[1]\n",
    "se_df = coef_df\n",
    "n_rep = 10"
   ]
  },
  {
   "cell_type": "markdown",
   "id": "7992c77e",
   "metadata": {},
   "source": [
    "### Two-Way Clustering with Respect to Product and Market"
   ]
  },
  {
   "cell_type": "code",
   "execution_count": null,
   "id": "771965cd",
   "metadata": {},
   "outputs": [],
   "source": [
    "set.seed(1111)\n",
    "dml_data$z_cols = z_col\n",
    "dml_data$cluster_cols = c('model.id', 'cdid')\n",
    "dml_pliv = DoubleMLPLIV$new(dml_data,\n",
    "                            lasso, lasso, lasso,\n",
    "                            n_folds=2, n_rep=n_rep)\n",
    "dml_pliv$fit()\n",
    "coef_df[1, 4] = dml_pliv$coef\n",
    "se_df[1, 4] = dml_pliv$se"
   ]
  },
  {
   "cell_type": "markdown",
   "id": "5690d9ed",
   "metadata": {},
   "source": [
    "### One-Way Clustering with Respect to the Product"
   ]
  },
  {
   "cell_type": "code",
   "execution_count": null,
   "id": "0137adbd",
   "metadata": {},
   "outputs": [],
   "source": [
    "set.seed(2222)\n",
    "dml_data$z_cols = z_col\n",
    "dml_data$cluster_cols = 'model.id'\n",
    "dml_pliv = DoubleMLPLIV$new(dml_data,\n",
    "                            lasso, lasso, lasso,\n",
    "                            n_folds=4, n_rep=n_rep)\n",
    "dml_pliv$fit()\n",
    "coef_df[1, 2] = dml_pliv$coef\n",
    "se_df[1, 2] = dml_pliv$se"
   ]
  },
  {
   "cell_type": "markdown",
   "id": "c78953ef",
   "metadata": {},
   "source": [
    "### One-Way Clustering with Respect to the Market"
   ]
  },
  {
   "cell_type": "code",
   "execution_count": null,
   "id": "8abda117",
   "metadata": {},
   "outputs": [],
   "source": [
    "set.seed(3333)\n",
    "dml_data$z_cols = z_col\n",
    "dml_data$cluster_cols = 'cdid'\n",
    "dml_pliv = DoubleMLPLIV$new(dml_data,\n",
    "                            lasso, lasso, lasso,\n",
    "                            n_folds=4, n_rep=n_rep)\n",
    "dml_pliv$fit()\n",
    "coef_df[1, 3] = dml_pliv$coef\n",
    "se_df[1, 3] = dml_pliv$se"
   ]
  },
  {
   "cell_type": "markdown",
   "id": "97db5e1a",
   "metadata": {},
   "source": [
    "### No Clustering / Zero-Way Clustering"
   ]
  },
  {
   "cell_type": "code",
   "execution_count": null,
   "id": "7e95f0cf",
   "metadata": {},
   "outputs": [],
   "source": [
    "dml_data = DoubleMLData$new(dml_df,\n",
    "                            y_col=y_col,\n",
    "                            d_cols=d_col,\n",
    "                            z_cols=z_col,\n",
    "                            x_cols=names(data_transf))"
   ]
  },
  {
   "cell_type": "code",
   "execution_count": null,
   "id": "b9e5bfd2",
   "metadata": {},
   "outputs": [],
   "source": [
    "print(dml_data)"
   ]
  },
  {
   "cell_type": "code",
   "execution_count": null,
   "id": "6b02195a",
   "metadata": {},
   "outputs": [],
   "source": [
    "set.seed(4444)\n",
    "dml_data$z_cols = z_col\n",
    "dml_pliv = DoubleMLPLIV$new(dml_data,\n",
    "                            lasso, lasso, lasso,\n",
    "                            n_folds=4, n_rep=n_rep)\n",
    "dml_pliv$fit()\n",
    "coef_df[1, 1] = dml_pliv$coef\n",
    "se_df[1, 1] = dml_pliv$se"
   ]
  },
  {
   "cell_type": "markdown",
   "id": "51e4c320",
   "metadata": {},
   "source": [
    "### Application Results"
   ]
  },
  {
   "cell_type": "code",
   "execution_count": null,
   "id": "7275f42d",
   "metadata": {},
   "outputs": [],
   "source": [
    "coef_df"
   ]
  },
  {
   "cell_type": "code",
   "execution_count": null,
   "id": "50b52fec",
   "metadata": {},
   "outputs": [],
   "source": [
    "se_df"
   ]
  },
  {
   "cell_type": "markdown",
   "id": "9dbce1ad",
   "metadata": {},
   "source": [
    "## References\n",
    "Berry, S., Levinsohn, J., and Pakes, A. (1995), “Automobile Prices in Market\n",
    "Equilibrium,” Econometrica: Journal of the Econometric Society, 63, 841-890.\n",
    "\n",
    "Chiang, H. D., Kato K., Ma, Y. and Sasaki, Y. (2021), Multiway Cluster Robust Double/Debiased Machine Learning, Journal of Business & Economic Statistics, doi: [10.1080/07350015.2021.1895815](https://doi.org/10.1080/07350015.2021.1895815), arXiv: [1909.03489](https://arxiv.org/abs/1909.03489)."
   ]
  }
 ],
 "metadata": {
  "celltoolbar": "Tags",
  "kernelspec": {
   "display_name": "R",
   "language": "R",
   "name": "ir"
  },
  "language_info": {
   "codemirror_mode": "r",
   "file_extension": ".r",
   "mimetype": "text/x-r-source",
   "name": "R",
   "pygments_lexer": "r",
   "version": "4.0.4"
  }
 },
 "nbformat": 4,
 "nbformat_minor": 5
}
