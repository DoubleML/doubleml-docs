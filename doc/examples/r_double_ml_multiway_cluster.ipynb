{
 "cells": [
  {
   "cell_type": "markdown",
   "id": "746b8a5d",
   "metadata": {},
   "source": [
    "# R: Cluster Robust Double Machine Learning\n",
    "\n",
    "\n",
    "## Motivation \n",
    "\n",
    "In many empirical applications, errors exhibit a clustered structure such that the usual i.i.d. assumption does not hold anymore. In order to perform valid statistical inference, researchers have to account for clustering. In this notebook, we will shortly emphasize the consequences of clustered data on inference based on the double machine learning (DML) approach as has been considered in [Chiang et al. (2021)](https://doi.org/10.1080/07350015.2021.1895815). We will demonstrate how users of the [DoubleML](https://docs.doubleml.org/stable/index.html) package can account for one- and two-way clustering in their analysis.\n",
    "\n",
    "Clustered errors in terms of one or multiple dimensions might arise in many empirical applications. For example, in a cross-sectional study, errors might be correlated (i) within regions (one-way clustering) or (ii) within regions and industries at the same time (two-way clustering). Another example for two-way clustering, discussed in [Chiang et al. (2021)](https://doi.org/10.1080/07350015.2021.1895815), refers to market share data with market shares being subject to shocks on the market and product level at the same time. We refer to [Cameron et al. (2011)](https://doi.org/10.1198/jbes.2010.07136) for an introduction to multiway clustering and a illustrative list of empirical examples.\n",
    "\n",
    "## Clustering and double machine learning\n",
    "\n",
    "Clustering creates a challenge to the double machine learning (DML) approach in terms of \n",
    "\n",
    "1. a necessary adjustment of the formulae used for estimation of the variance covariance matrix, standard errors, p-values etc., and,\n",
    "2. an adjusted resampling scheme for the cross-fitting algorithm.\n",
    "\n",
    "The first point equally applies to classical statistical models, for example a linear regression model (see, for example [Cameron et al. 2011](https://doi.org/10.1198/jbes.2010.07136)). The second point arises because the clustering implies a correlation of errors from train and test samples if the standard cross-fitting procedure suggested in [Chernozhukov et al. (2018)](https://doi.org/10.1111/ectj.12097) was employed. The DML approach builds on independent sample splits into partitions that are used for training of the machine learning (ML) model learners and generation of predictions that are eventually used for solving the score function. For a motivation of the necessity of sample splitting, we refer to the illustration example in the [user guide]( \n",
    "https://docs.doubleml.org/stable/guide/basics.html#sample-splitting-to-remove-bias-induced-by-overfitting) as well as to the explanation in [Chernozhukov et al. (2018)](https://doi.org/10.1111/ectj.12097) .\n",
    "\n",
    "In order to achieve independent data splits in a setting with one-way or multi-way clustering, [Chiang et al. (2021)](https://doi.org/10.1080/07350015.2021.1895815) develop an updated  $K$-fold sample splitting procedure that ensures independent sample splits: The data set is split into disjoint partitions in terms of all clustering dimensions. For example, in a situation with two-way clustering, the data is split into $K^2$ folds. The machine learning models are then trained on a specific fold and used for generation of predictions in hold-out samples. Thereby, the sample splitting procedure ensures that the hold-out samples do not contain observations of the same clusters as used for training."
   ]
  },
  {
   "cell_type": "code",
   "execution_count": null,
   "id": "76984720",
   "metadata": {
    "vscode": {
     "languageId": "r"
    }
   },
   "outputs": [],
   "source": [
    "library('hdm')\n",
    "library('DoubleML')\n",
    "library('mlr3')\n",
    "library('mlr3learners')\n",
    "# surpress messages from mlr3 package during fitting\n",
    "lgr::get_logger(\"mlr3\")$set_threshold(\"warn\")\n",
    "\n",
    "library('ggplot2')\n",
    "library('reshape2')\n",
    "library('gridExtra')"
   ]
  },
  {
   "cell_type": "markdown",
   "id": "171f1458",
   "metadata": {},
   "source": [
    "## A Motivating Example: Two-Way Cluster Robust DML\n",
    "\n",
    "In a first part, we show how the two-way cluster robust double machine learning (DML) ([Chiang et al. 2021](https://doi.org/10.1080/07350015.2021.1895815)) can be implemented with the [DoubleML](https://docs.doubleml.org/stable/index.html) package.\n",
    "[Chiang et al. (2021)](https://doi.org/10.1080/07350015.2021.1895815) consider double-indexed data\n",
    "\n",
    "\\begin{equation}\n",
    "\\lbrace W_{ij}: i \\in \\lbrace 1, \\ldots, N \\rbrace, j \\in \\lbrace 1, \\ldots, M \\rbrace \\rbrace\n",
    "\\end{equation}\n",
    "\n",
    "and the partially linear IV regression model (PLIV)\n",
    "\n",
    "$$\\begin{aligned}\n",
    "Y_{ij} = D_{ij} \\theta_0 +  g_0(X_{ij}) + \\epsilon_{ij}, & &\\mathbb{E}(\\epsilon_{ij} | X_{ij}, Z_{ij}) = 0, \\\\\n",
    "Z_{ij} = m_0(X_{ij}) + v_{ij}, & &\\mathbb{E}(v_{ij} | X_{ij}) = 0.\n",
    "\\end{aligned}$$"
   ]
  },
  {
   "cell_type": "markdown",
   "id": "349c3e43",
   "metadata": {},
   "source": [
    "### Simulate two-way cluster data\n",
    "\n",
    "We use the PLIV data generating process described in Section 4.1 of [Chiang et al. (2021)](https://doi.org/10.1080/07350015.2021.1895815).\n",
    "The DGP is defined as\n",
    "$$\\begin{aligned}\n",
    "Z_{ij} &= X_{ij}' \\xi_0 + V_{ij}, \\\\\n",
    "D_{ij} &= Z_{ij}' \\pi_{10} + X_{ij}' \\pi_{20} + v_{ij}, \\\\\n",
    "Y_{ij} &= D_{ij} \\theta + X_{ij}' \\zeta_0 + \\varepsilon_{ij},\n",
    "\\end{aligned}$$\n",
    "with\n",
    "$$\\begin{aligned}\n",
    "X_{ij} &= (1 - \\omega_1^X - \\omega_2^X) \\alpha_{ij}^X\n",
    "+ \\omega_1^X \\alpha_{i}^X + \\omega_2^X \\alpha_{j}^X, \\\\\n",
    "\\varepsilon_{ij} &= (1 - \\omega_1^\\varepsilon - \\omega_2^\\varepsilon) \\alpha_{ij}^\\varepsilon\n",
    "+ \\omega_1^\\varepsilon \\alpha_{i}^\\varepsilon + \\omega_2^\\varepsilon \\alpha_{j}^\\varepsilon, \\\\\n",
    "v_{ij} &= (1 - \\omega_1^v - \\omega_2^v) \\alpha_{ij}^v\n",
    "+ \\omega_1^v \\alpha_{i}^v + \\omega_2^v \\alpha_{j}^v, \\\\\n",
    "V_{ij} &= (1 - \\omega_1^V - \\omega_2^V) \\alpha_{ij}^V\n",
    "+ \\omega_1^V \\alpha_{i}^V + \\omega_2^V \\alpha_{j}^V,\n",
    "\\end{aligned}$$\n",
    "and $\\alpha_{ij}^X, \\alpha_{i}^X, \\alpha_{j}^X \\sim \\mathcal{N}(0, \\Sigma)$\n",
    "where  $\\Sigma$ is a $p_x \\times p_x$ matrix with entries\n",
    "$\\Sigma_{kj} = s_X^{|j-k|}$.\n",
    "Further\n",
    "$$\\begin{aligned}\n",
    "\\left(\\begin{matrix} \\alpha_{ij}^\\varepsilon \\\\ \\alpha_{ij}^v \\end{matrix}\\right),\n",
    "\\left(\\begin{matrix} \\alpha_{i}^\\varepsilon \\\\ \\alpha_{i}^v \\end{matrix}\\right),\n",
    "\\left(\\begin{matrix} \\alpha_{j}^\\varepsilon \\\\ \\alpha_{j}^v \\end{matrix}\\right)\n",
    "\\sim \\mathcal{N}\\left(0, \\left(\\begin{matrix} 1 & s_{\\varepsilon v} \\\\\n",
    "s_{\\varepsilon v} & 1 \\end{matrix} \\right) \\right)\n",
    "\\end{aligned}$$\n",
    "and $\\alpha_{ij}^V, \\alpha_{i}^V, \\alpha_{j}^V \\sim \\mathcal{N}(0, 1)$.\n",
    "\n",
    "Data from this DGP can be generated with the [make_pliv_multiway_cluster_CKMS2021()](https://docs.doubleml.org/r/stable/reference/make_pliv_multiway_cluster_CKMS2021.html) function from [DoubleML](https://docs.doubleml.org/stable/index.html).\n",
    "Analogously to [Chiang et al. (2021, Section 5)](https://doi.org/10.1080/07350015.2021.1895815)\n",
    "we use the following parameter setting:\n",
    "$\\theta=1.0$, $N=M=25$, $p_x=100$, $\\pi_{10}=1.0$, $\\omega_X = \\omega_{\\varepsilon} = \\omega_V = \\omega_v = (0.25, 0.25)$, $s_X = s_{\\varepsilon v} = 0.25$ and the $j$-th entries of the $p_x$-vectors $\\zeta_0 = \\pi_{20} = \\xi_0$ are $(\\zeta_{0})_j = 0.5^j$.\n",
    "This are also the default values of [make_pliv_multiway_cluster_CKMS2021()](https://docs.doubleml.org/r/stable/reference/make_pliv_multiway_cluster_CKMS2021.html)."
   ]
  },
  {
   "cell_type": "code",
   "execution_count": null,
   "id": "1f53686a",
   "metadata": {
    "vscode": {
     "languageId": "r"
    }
   },
   "outputs": [],
   "source": [
    "# Set the simulation parameters\n",
    "N = 25  # number of observations (first dimension)\n",
    "M = 25  # number of observations (second dimension)\n",
    "dim_X = 100  # dimension of X\n",
    "set.seed(3141) # set seed\n",
    "\n",
    "obj_dml_data = make_pliv_multiway_cluster_CKMS2021(N, M, dim_X)"
   ]
  },
  {
   "cell_type": "markdown",
   "id": "0ea047f4",
   "metadata": {},
   "source": [
    "### Data-Backend for Cluster Data\n",
    "The implementation of cluster robust double machine learning is based on a special data-backend called [DoubleMLClusterData](https://docs.doubleml.org/r/stable/reference/DoubleMLClusterData.html). As compared to the standard data-backend [DoubleMLData](https://docs.doubleml.org/r/stable/reference/DoubleMLData.html), users can specify the clustering variables during instantiation of a  [DoubleMLClusterData](https://docs.doubleml.org/r/stable/reference/DoubleMLClusterData.html) object. The estimation framework will subsequently account for the provided clustering options."
   ]
  },
  {
   "cell_type": "code",
   "execution_count": null,
   "id": "dc5ab7a6",
   "metadata": {
    "vscode": {
     "languageId": "r"
    }
   },
   "outputs": [],
   "source": [
    "# The simulated data is of type DoubleMLClusterData\n",
    "print(obj_dml_data)"
   ]
  },
  {
   "cell_type": "code",
   "execution_count": null,
   "id": "e3184de7",
   "metadata": {
    "vscode": {
     "languageId": "r"
    }
   },
   "outputs": [],
   "source": [
    "# The cluster variables are part of the DataFrame\n",
    "head(obj_dml_data$data)"
   ]
  },
  {
   "cell_type": "markdown",
   "id": "983802bf",
   "metadata": {},
   "source": [
    "### Initialize the objects of class `DoubleMLPLIV`"
   ]
  },
  {
   "cell_type": "code",
   "execution_count": null,
   "id": "74cf6b1f",
   "metadata": {
    "vscode": {
     "languageId": "r"
    }
   },
   "outputs": [],
   "source": [
    "# Set machine learning methods for l, m & r\n",
    "ml_l = lrn(\"regr.cv_glmnet\", nfolds = 10, s = \"lambda.min\")\n",
    "ml_m = lrn(\"regr.cv_glmnet\", nfolds = 10, s = \"lambda.min\")\n",
    "ml_r = lrn(\"regr.cv_glmnet\", nfolds = 10, s = \"lambda.min\")\n",
    "\n",
    "# initialize the DoubleMLPLIV object\n",
    "dml_pliv_obj = DoubleMLPLIV$new(obj_dml_data,\n",
    "                                ml_l, ml_m, ml_r,\n",
    "                                n_folds=3)"
   ]
  },
  {
   "cell_type": "code",
   "execution_count": null,
   "id": "c70d71fc",
   "metadata": {
    "vscode": {
     "languageId": "r"
    }
   },
   "outputs": [],
   "source": [
    "print(dml_pliv_obj)"
   ]
  },
  {
   "cell_type": "code",
   "execution_count": null,
   "id": "04e4a525",
   "metadata": {
    "nbsphinx": "hidden",
    "vscode": {
     "languageId": "r"
    }
   },
   "outputs": [],
   "source": [
    "library(RColorBrewer)\n",
    "coul <- rev(colorRampPalette(brewer.pal(8, \"RdBu\"))(3))\n",
    "options(repr.plot.width = 10, repr.plot.height = 10)\n",
    "\n",
    "plt_smpls = function(smpls, n_folds) {\n",
    "    df = matrix(0, nrow = N*M, ncol = n_folds)\n",
    "    for (i_fold in 1:n_folds){\n",
    "        df[smpls$train_ids[[i_fold]], i_fold] = -1\n",
    "        df[smpls$test_ids[[i_fold]], i_fold] = 1\n",
    "    }\n",
    "\n",
    "    heatmap(df, Rowv=NA, Colv=NA, col=coul, cexRow=1.5, cexCol=1.5, scale='none')\n",
    "}\n",
    "\n",
    "plt_smpls_cluster = function(smpls_cluster, n_folds, n_folds_per_cluster) {\n",
    "    #options(repr.plot.width = 6, repr.plot.height = 6)\n",
    "    plots = list()\n",
    "    for (i_fold in 1:n_folds){\n",
    "        mat = matrix(0, nrow = M, ncol = N)\n",
    "        for (k in smpls_cluster$train_ids[[i_fold]][[1]]) {\n",
    "            for (l in smpls_cluster$train_ids[[i_fold]][[2]]) {\n",
    "                mat[k, l] = -1\n",
    "            }\n",
    "        }\n",
    "        for (k in smpls_cluster$test_ids[[i_fold]][[1]]) {\n",
    "            for (l in smpls_cluster$test_ids[[i_fold]][[2]]) {\n",
    "                mat[k, l] = 1\n",
    "            }\n",
    "        }\n",
    "        l = (i_fold-1) %% n_folds_per_cluster + 1\n",
    "        k = ((i_fold-1) %/% n_folds_per_cluster)+1\n",
    "        df = data.frame(mat)\n",
    "        cols = names(df)\n",
    "        names(df) = 1:N\n",
    "        df$id = 1:N\n",
    "        df_plot = melt(df,  id.var = 'id')\n",
    "        df_plot$value = factor(df_plot$value)\n",
    "        plots[[i_fold]] = ggplot(data = df_plot, aes(x=id, y=variable)) + \n",
    "          geom_tile(aes(fill=value), colour = \"grey50\") +\n",
    "        scale_fill_manual(values = c(\"darkblue\", \"white\", \"darkred\")) +\n",
    "        theme(text = element_text(size=15))\n",
    "        # ToDo: Add Subplot titles\n",
    "        if (k == 3) {\n",
    "            plots[[i_fold]] = plots[[i_fold]] + xlab(expression(paste('Second Cluster Variable ', l)))\n",
    "        } else {\n",
    "            plots[[i_fold]] = plots[[i_fold]] + xlab('')\n",
    "        }\n",
    "        if (l == 1) {\n",
    "            plots[[i_fold]] = plots[[i_fold]] + ylab(expression(paste('First Cluster Variable ', k)))\n",
    "        } else {\n",
    "            plots[[i_fold]] = plots[[i_fold]] + ylab('')\n",
    "        }\n",
    "    }\n",
    "    return(plots)\n",
    "}"
   ]
  },
  {
   "cell_type": "markdown",
   "id": "76f4b841",
   "metadata": {},
   "source": [
    "### Cluster Robust Cross Fitting\n",
    "A key element of cluster robust DML ([Chiang et al. 2021](https://doi.org/10.1080/07350015.2021.1895815)) is a special sample splitting used for the cross-fitting.\n",
    "In case of two-way clustering, we assume $N$ clusters in the first dimension and $M$ clusters in the second dimension.\n",
    "\n",
    "For $K$-fold cross-fitting, [Chiang et al. (2021)](https://doi.org/10.1080/07350015.2021.1895815) proposed to randomly partition $[N]:=\\{1,\\ldots,N\\}$ into $K$ subsets $\\{I_1, \\ldots, I_K\\}$ and $[M]:=\\{1,\\ldots,N\\}$ into $K$ subsets $\\{J_1, \\ldots, J_K\\}$.\n",
    "Effectively, one then considers $K^2$ folds.\n",
    "Basically for each $(k, \\ell) \\in \\{1, \\ldots, K\\} \\times \\{1, \\ldots, K\\}$, the nuisance functions are estimated for all double-indexed observations in $([N]\\setminus I_K) \\times ([M]\\setminus J_\\ell)$, i.e.,\n",
    "$$\n",
    "\\hat{\\eta}_{k\\ell} = \\hat{\\eta}\\left((W_{ij})_{(i,j)\\in ([N]\\setminus I_K) \\times ([M]\\setminus J_\\ell)}\\right)\n",
    "$$\n",
    "The causal parameter is then estimated as usual by solving a moment condition with a Neyman orthogonal score function.\n",
    "For two-way cluster robust double machine learning with algorithm [DML2](https://docs.doubleml.org/stable/guide/algorithms.html#algorithm-dml2) this results in solving\n",
    "$$\n",
    "\\frac{1}{K^2} \\sum_{k=1}^{K} \\sum_{\\ell=1}^{K} \\frac{1}{|I_k| |J_\\ell|} \\sum_{(i,j) \\in I_K \\times J_\\ell}\n",
    "\\psi(W_{ij}, \\tilde{\\theta}_0, \\hat{\\eta}_{k\\ell}) = 0\n",
    "$$\n",
    "for $\\tilde{\\theta}_0$.\n",
    "Here $|I_k|$ denotes the cardinality, i.e., the number of clusters in the $k$-th fold for the first cluster variable."
   ]
  },
  {
   "cell_type": "markdown",
   "id": "8b3239eb",
   "metadata": {},
   "source": [
    "We can visualize the sample splitting of the $N \\cdot M = 625$ observations into $K \\cdot K = 9$ folds. The following heat map illustrates the partitioned data set that is split into $K=9$ folds. The horizontal axis corresponds to the fold indices and the vertical axis to the indices of the observations. A blue field indicates that the observation $i$ is used for fitting the nuisance part, red indicates that the fold is used for prediction generation and white means that an observation is left out from the sample splitting. \n",
    "\n",
    "For example, the first observation as displayed on the very bottom of the figure is used for training of the nuisance parts in the first, second, fourth and fifth fold and used for generation of the predictions in fold nine. At the same time the observation is left out from the sample splitting procedure in folds three, six, seven and eight."
   ]
  },
  {
   "cell_type": "code",
   "execution_count": null,
   "id": "6de28e86",
   "metadata": {
    "vscode": {
     "languageId": "r"
    }
   },
   "outputs": [],
   "source": [
    "# The function plt_smpls is defined at the end of the Notebook\n",
    "plt_smpls(dml_pliv_obj$smpls[[1]], dml_pliv_obj$n_folds)"
   ]
  },
  {
   "cell_type": "markdown",
   "id": "73cfaae5",
   "metadata": {},
   "source": [
    "If we visualize the sample splitting in terms of the cluster variables, the partitioning of the data into $9$ folds $I_k \\times J_\\ell$ becomes clear.\n",
    "The identifiers for the first cluster variable $[N]:=\\{1,\\ldots,N\\}$ have been randomly partioned into $K=3$ folds denoted by $\\{I_1, I_2, I_3\\}$ and the identifiers for the second cluster variable $[M]:=\\{1,\\ldots,M\\}$ have also been randomly partioned into $K=3$ folds denoted by $\\{J_1, J_2, J_3\\}$.\n",
    "By considering every combination $I_k \\times J_\\ell$ for $1 \\leq k, \\ell \\leq K = 3$ we effectively base the cross-fitting on $9$ folds.\n",
    "\n",
    "We now want to focus on the top-left sub-plot showing the partitioning of the cluster data for the first fold.\n",
    "The $x$-axis corresponds to the first cluster variable and the $y$-axis to the second cluster variable.\n",
    "Observations with cluster variables $(i,j) \\in I_K \\times J_\\ell$ are used for estimation of the target parameter $\\tilde{\\theta}_0$ by solving a Neyman orthogonal score function.\n",
    "For estimation of the nuisance function, we only use observation where neither the first cluster variable is in $I_K$ nor the second cluster variable is in $J_\\ell$, i.e., we use observations indexed by $(i,j)\\in ([N]\\setminus I_K) \\times ([M]\\setminus J_\\ell)$ to estimate the nuisance functions\n",
    "$$\n",
    "\\hat{\\eta}_{k\\ell} = \\hat{\\eta}\\left((W_{ij})_{(i,j)\\in ([N]\\setminus I_K) \\times ([M]\\setminus J_\\ell)}\\right).\n",
    "$$\n",
    "This way we guarantee that there are never observations from the same cluster (first and/or second cluster dimension) in the sample for the nuisance function estimation (blue) and at the same time in the sample for solving the score function (red). As a result of this special sample splitting proposed by [Chiang et al. (2021)](https://doi.org/10.1080/07350015.2021.1895815), the observations in the score (red) and nuisance (blue) sample can be considered independent and the standard cross-fitting approach for double machine learning can be applied."
   ]
  },
  {
   "cell_type": "code",
   "execution_count": null,
   "id": "8674ef61",
   "metadata": {
    "tags": [
     "nbsphinx-thumbnail"
    ],
    "vscode": {
     "languageId": "r"
    }
   },
   "outputs": [],
   "source": [
    "# The function plt_smpls_cluster is defined at the end of the Notebook\n",
    "options(repr.plot.width = 12, repr.plot.height = 10)\n",
    "plots = plt_smpls_cluster(dml_pliv_obj$smpls_cluster[[1]],\n",
    "                         dml_pliv_obj$n_folds,\n",
    "                         sqrt(dml_pliv_obj$n_folds))\n",
    "grid.arrange(grobs=plots, ncol = 3, nrow = 3)"
   ]
  },
  {
   "cell_type": "markdown",
   "id": "f4fad944",
   "metadata": {},
   "source": [
    "### Cluster Robust Standard Errors\n",
    "In the abstract base class `DoubleML` the estimation of cluster robust standard errors is implemented for all supported double machine learning models.\n",
    "It is based on the assumption of a linear Neyman orthogonal score function.\n",
    "We use the notation $n \\wedge m := \\min\\{n,m\\}$.\n",
    "For the the asymptotic variance of\n",
    "$\\sqrt{\\underline{C}}(\\tilde{\\theta_0} - \\theta_0)$ with\n",
    "$\\underline{C} := N \\wedge M$\n",
    "[Chiang et al. (2021)](https://doi.org/10.1080/07350015.2021.1895815) then propose the following estimator\n",
    "$$\n",
    "\\hat{\\sigma}^2 = \\hat{J}^{-1} \\hat{\\Gamma} \\hat{J}^{-1}\n",
    "$$\n",
    "where\n",
    "$$\n",
    "\\begin{aligned}\n",
    "\\hat{\\Gamma} = \\frac{1}{K^2} \\sum_{(k, \\ell) \\in[K]^2}\n",
    "\\Bigg[ \\frac{|I_k| \\wedge |J_\\ell|}{(|I_k||J_\\ell|)^2}\n",
    "\\bigg(&\\sum_{i \\in I_k} \\sum_{j \\in J_\\ell} \\sum_{j' \\in J_\\ell}\n",
    "\\psi(W_{ij}; \\tilde{\\theta}, \\hat{\\eta}_{k \\ell}) \\psi(W_{ij'}; \\tilde{\\theta}_0, \\hat{\\eta}_{k \\ell}) \\\\\n",
    "&+ \\sum_{i \\in I_k} \\sum_{i' \\in I_k} \\sum_{j \\in J_\\ell}\n",
    "\\psi(W_{ij}; \\tilde{\\theta}, \\hat{\\eta}_{k \\ell}) \\psi(W_{i'j}; \\tilde{\\theta}_0, \\hat{\\eta}_{k \\ell})\n",
    "\\bigg)\n",
    "\\Bigg]\n",
    "\\end{aligned}$$\n",
    "and\n",
    "$$\n",
    "\\begin{aligned}\n",
    "\\hat{J} = \\frac{1}{K^2} \\sum_{(k, \\ell) \\in[K]^2} \\frac{1}{|I_k||J_\\ell|}\n",
    "\\sum_{i \\in I_k} \\sum_{j \\in J_\\ell}\n",
    "\\psi_a(W_{ij}; \\tilde{\\theta}_0, \\hat{\\eta}_{k \\ell}).\n",
    "\\end{aligned}\n",
    "$$\n",
    "A $(1-\\alpha)$ confidence interval is then given by ([Chiang et al. 2021](https://doi.org/10.1080/07350015.2021.1895815))\n",
    "$$\\begin{aligned}\n",
    "\\left[\n",
    "\\tilde{\\theta} \\pm \\Phi^{-1}(1-\\alpha/2) \\sqrt{\\hat{\\sigma}^2 / \\underline{C}}\n",
    "\\right]\n",
    "\\end{aligned}\n",
    "$$\n",
    "with $\\underline{C} = N \\wedge M$."
   ]
  },
  {
   "cell_type": "code",
   "execution_count": null,
   "id": "23a031d1",
   "metadata": {
    "vscode": {
     "languageId": "r"
    }
   },
   "outputs": [],
   "source": [
    "# Estimate the PLIV model with cluster robust double machine learning\n",
    "dml_pliv_obj$fit()\n",
    "dml_pliv_obj$summary()"
   ]
  },
  {
   "cell_type": "markdown",
   "id": "dae66229",
   "metadata": {},
   "source": [
    "## (One-Way) Cluster Robust Double Machine Learing\n",
    "\n",
    "We again use the PLIV data generating process described in Section 4.1 of [Chiang et al. (2021)](https://doi.org/10.1080/07350015.2021.1895815).\n",
    "To obtain one-way clustered data, we set the following weights to zero\n",
    "$$\n",
    "\\omega_2^X = \\omega_2^\\varepsilon = \\omega_2^v = \\omega_2^V = 0.\n",
    "$$\n",
    "Again we can simulate this data with [make_pliv_multiway_cluster_CKMS2021()](https://docs.doubleml.org/r/stable/reference/make_pliv_multiway_cluster_CKMS2021.html). To prepare the data-backend for one-way clustering, we only have to alter the `cluster_cols` to be `'cluster_var_i'`."
   ]
  },
  {
   "cell_type": "code",
   "execution_count": null,
   "id": "62076b01",
   "metadata": {
    "vscode": {
     "languageId": "r"
    }
   },
   "outputs": [],
   "source": [
    "obj_dml_data = make_pliv_multiway_cluster_CKMS2021(N, M, dim_X,\n",
    "                                                   omega_X = c(0.25, 0),\n",
    "                                                   omega_epsilon = c(0.25, 0),\n",
    "                                                   omega_v = c(0.25, 0),\n",
    "                                                   omega_V = c(0.25, 0))"
   ]
  },
  {
   "cell_type": "code",
   "execution_count": null,
   "id": "b818119b",
   "metadata": {
    "vscode": {
     "languageId": "r"
    }
   },
   "outputs": [],
   "source": [
    "obj_dml_data$cluster_cols = 'cluster_var_i'\n",
    "print(obj_dml_data)"
   ]
  },
  {
   "cell_type": "code",
   "execution_count": null,
   "id": "29cace52",
   "metadata": {
    "vscode": {
     "languageId": "r"
    }
   },
   "outputs": [],
   "source": [
    "# Set machine learning methods for l, m & r\n",
    "ml_l = lrn(\"regr.cv_glmnet\", nfolds = 10, s = \"lambda.min\")\n",
    "ml_m = lrn(\"regr.cv_glmnet\", nfolds = 10, s = \"lambda.min\")\n",
    "ml_r = lrn(\"regr.cv_glmnet\", nfolds = 10, s = \"lambda.min\")\n",
    "\n",
    "# initialize the DoubleMLPLIV object\n",
    "dml_pliv_obj = DoubleMLPLIV$new(obj_dml_data,\n",
    "                                ml_l, ml_m, ml_r,\n",
    "                                n_folds=3)"
   ]
  },
  {
   "cell_type": "code",
   "execution_count": null,
   "id": "94a58a15",
   "metadata": {
    "vscode": {
     "languageId": "r"
    }
   },
   "outputs": [],
   "source": [
    "dml_pliv_obj$fit()\n",
    "dml_pliv_obj$summary()"
   ]
  },
  {
   "cell_type": "markdown",
   "id": "a5901bc2",
   "metadata": {},
   "source": [
    "## Real-Data Application\n",
    "As a real-data application we revist the consumer demand example from [Chiang et al. (2021)](https://doi.org/10.1080/07350015.2021.1895815).\n",
    "The U.S. automobile data of [Berry, Levinsohn, and Pakes (1995)](https://doi.org/10.2307/2171802) is obtained from the `R` package [hdm](https://cran.r-project.org/web/packages/hdm/index.html). In this example, we consider different specifications for the cluster dimensions."
   ]
  },
  {
   "cell_type": "markdown",
   "id": "5d103ae5",
   "metadata": {},
   "source": [
    "### Load and Process Data"
   ]
  },
  {
   "cell_type": "code",
   "execution_count": null,
   "id": "97f0c9fe",
   "metadata": {
    "vscode": {
     "languageId": "r"
    }
   },
   "outputs": [],
   "source": [
    "## Prepare the BLP data\n",
    "data(BLP);\n",
    "blp_data <- BLP$BLP;\n",
    "blp_data$price <- blp_data$price + 11.761\n",
    "blp_data$log_p = log(blp_data$price)"
   ]
  },
  {
   "cell_type": "code",
   "execution_count": null,
   "id": "5924f423",
   "metadata": {
    "vscode": {
     "languageId": "r"
    }
   },
   "outputs": [],
   "source": [
    "x_cols = c('hpwt', 'air', 'mpd', 'space')\n",
    "head(blp_data[x_cols])"
   ]
  },
  {
   "cell_type": "code",
   "execution_count": null,
   "id": "01411d79",
   "metadata": {
    "vscode": {
     "languageId": "r"
    }
   },
   "outputs": [],
   "source": [
    "iv_vars = as.data.frame(hdm:::constructIV(blp_data$firm.id,\n",
    "                            blp_data$cdid,\n",
    "                            blp_data$id,\n",
    "                            blp_data[x_cols]))"
   ]
  },
  {
   "cell_type": "code",
   "execution_count": null,
   "id": "fa28c802",
   "metadata": {
    "vscode": {
     "languageId": "r"
    }
   },
   "outputs": [],
   "source": [
    "formula = formula(paste0(\" ~ -1 + (hpwt + air + mpd + space)^2\",\n",
    "                         \"+ I(hpwt^2)*(air + mpd + space)\",\n",
    "                         \"+ I(air^2)*(hpwt + mpd + space)\",\n",
    "                         \"+ I(mpd^2)*(hpwt + air + space)\",\n",
    "                         \"+ I(space^2)*(hpwt + air + mpd)\",\n",
    "                         \"+ I(space^2) + I(hpwt^3) + I(air^3) + I(mpd^3) + I(space^3)\"))\n",
    "data_transf = data.frame(model.matrix(formula, blp_data))\n",
    "names(data_transf)"
   ]
  },
  {
   "cell_type": "code",
   "execution_count": null,
   "id": "5a2b5397",
   "metadata": {
    "vscode": {
     "languageId": "r"
    }
   },
   "outputs": [],
   "source": [
    "y_col = 'y'\n",
    "d_col = 'log_p'\n",
    "cluster_cols = c('model.id', 'cdid')\n",
    "all_z_cols = c('sum.other.hpwt', 'sum.other.mpd', 'sum.other.space')\n",
    "z_col = all_z_cols[1]"
   ]
  },
  {
   "cell_type": "code",
   "execution_count": null,
   "id": "2b945460",
   "metadata": {
    "vscode": {
     "languageId": "r"
    }
   },
   "outputs": [],
   "source": [
    "dml_df = cbind(blp_data[c(y_col, d_col, cluster_cols)],\n",
    "               data_transf,\n",
    "               iv_vars[all_z_cols])"
   ]
  },
  {
   "cell_type": "markdown",
   "id": "6e06f4e7",
   "metadata": {},
   "source": [
    "### Initialize `DoubleMLClusterData` object"
   ]
  },
  {
   "cell_type": "code",
   "execution_count": null,
   "id": "34d05896",
   "metadata": {
    "vscode": {
     "languageId": "r"
    }
   },
   "outputs": [],
   "source": [
    "dml_data = DoubleMLClusterData$new(dml_df,\n",
    "                                   y_col=y_col,\n",
    "                                   d_cols=d_col,\n",
    "                                   z_cols=z_col,\n",
    "                                   cluster_cols=cluster_cols,\n",
    "                                   x_cols=names(data_transf))"
   ]
  },
  {
   "cell_type": "code",
   "execution_count": null,
   "id": "4e1f8477",
   "metadata": {
    "vscode": {
     "languageId": "r"
    }
   },
   "outputs": [],
   "source": [
    "print(dml_data)"
   ]
  },
  {
   "cell_type": "code",
   "execution_count": null,
   "id": "433a0193",
   "metadata": {
    "vscode": {
     "languageId": "r"
    }
   },
   "outputs": [],
   "source": [
    "lasso = lrn(\"regr.cv_glmnet\", nfolds = 10, s = \"lambda.min\")"
   ]
  },
  {
   "cell_type": "code",
   "execution_count": null,
   "id": "57378194",
   "metadata": {
    "vscode": {
     "languageId": "r"
    }
   },
   "outputs": [],
   "source": [
    "coef_df = data.frame(matrix(NA_real_, ncol = 4, nrow = 1))\n",
    "colnames(coef_df) = c('zero-way', 'one-way-product', 'one-way-market', 'two-way')\n",
    "rownames(coef_df) = all_z_cols[1]\n",
    "se_df = coef_df\n",
    "n_rep = 10"
   ]
  },
  {
   "cell_type": "markdown",
   "id": "f859db86",
   "metadata": {},
   "source": [
    "### Two-Way Clustering with Respect to Product and Market"
   ]
  },
  {
   "cell_type": "code",
   "execution_count": null,
   "id": "b6648ff4",
   "metadata": {
    "vscode": {
     "languageId": "r"
    }
   },
   "outputs": [],
   "source": [
    "set.seed(1111)\n",
    "dml_data$z_cols = z_col\n",
    "dml_data$cluster_cols = c('model.id', 'cdid')\n",
    "dml_pliv = DoubleMLPLIV$new(dml_data,\n",
    "                            lasso, lasso, lasso,\n",
    "                            n_folds=2, n_rep=n_rep)\n",
    "dml_pliv$fit()\n",
    "coef_df[1, 4] = dml_pliv$coef\n",
    "se_df[1, 4] = dml_pliv$se"
   ]
  },
  {
   "cell_type": "markdown",
   "id": "1c7652f1",
   "metadata": {},
   "source": [
    "### One-Way Clustering with Respect to the Product"
   ]
  },
  {
   "cell_type": "code",
   "execution_count": null,
   "id": "569f621d",
   "metadata": {
    "vscode": {
     "languageId": "r"
    }
   },
   "outputs": [],
   "source": [
    "set.seed(2222)\n",
    "dml_data$z_cols = z_col\n",
    "dml_data$cluster_cols = 'model.id'\n",
    "dml_pliv = DoubleMLPLIV$new(dml_data,\n",
    "                            lasso, lasso, lasso,\n",
    "                            n_folds=4, n_rep=n_rep)\n",
    "dml_pliv$fit()\n",
    "coef_df[1, 2] = dml_pliv$coef\n",
    "se_df[1, 2] = dml_pliv$se"
   ]
  },
  {
   "cell_type": "markdown",
   "id": "729ea1f8",
   "metadata": {},
   "source": [
    "### One-Way Clustering with Respect to the Market"
   ]
  },
  {
   "cell_type": "code",
   "execution_count": null,
   "id": "dcb8c14c",
   "metadata": {
    "vscode": {
     "languageId": "r"
    }
   },
   "outputs": [],
   "source": [
    "set.seed(3333)\n",
    "dml_data$z_cols = z_col\n",
    "dml_data$cluster_cols = 'cdid'\n",
    "dml_pliv = DoubleMLPLIV$new(dml_data,\n",
    "                            lasso, lasso, lasso,\n",
    "                            n_folds=4, n_rep=n_rep)\n",
    "dml_pliv$fit()\n",
    "coef_df[1, 3] = dml_pliv$coef\n",
    "se_df[1, 3] = dml_pliv$se"
   ]
  },
  {
   "cell_type": "markdown",
   "id": "99463f43",
   "metadata": {},
   "source": [
    "### No Clustering / Zero-Way Clustering"
   ]
  },
  {
   "cell_type": "code",
   "execution_count": null,
   "id": "854596e4",
   "metadata": {
    "vscode": {
     "languageId": "r"
    }
   },
   "outputs": [],
   "source": [
    "dml_data = DoubleMLData$new(dml_df,\n",
    "                            y_col=y_col,\n",
    "                            d_cols=d_col,\n",
    "                            z_cols=z_col,\n",
    "                            x_cols=names(data_transf))"
   ]
  },
  {
   "cell_type": "code",
   "execution_count": null,
   "id": "9998f02f",
   "metadata": {
    "vscode": {
     "languageId": "r"
    }
   },
   "outputs": [],
   "source": [
    "print(dml_data)"
   ]
  },
  {
   "cell_type": "code",
   "execution_count": null,
   "id": "9b76db04",
   "metadata": {
    "vscode": {
     "languageId": "r"
    }
   },
   "outputs": [],
   "source": [
    "set.seed(4444)\n",
    "dml_data$z_cols = z_col\n",
    "dml_pliv = DoubleMLPLIV$new(dml_data,\n",
    "                            lasso, lasso, lasso,\n",
    "                            n_folds=4, n_rep=n_rep)\n",
    "dml_pliv$fit()\n",
    "coef_df[1, 1] = dml_pliv$coef\n",
    "se_df[1, 1] = dml_pliv$se"
   ]
  },
  {
   "cell_type": "markdown",
   "id": "3f71db0a",
   "metadata": {},
   "source": [
    "### Application Results"
   ]
  },
  {
   "cell_type": "code",
   "execution_count": null,
   "id": "d9112d98",
   "metadata": {
    "vscode": {
     "languageId": "r"
    }
   },
   "outputs": [],
   "source": [
    "coef_df"
   ]
  },
  {
   "cell_type": "code",
   "execution_count": null,
   "id": "f98544f5",
   "metadata": {
    "vscode": {
     "languageId": "r"
    }
   },
   "outputs": [],
   "source": [
    "se_df"
   ]
  },
  {
   "cell_type": "markdown",
   "id": "ca8e628b",
   "metadata": {},
   "source": [
    "## References\n",
    "Berry, S., Levinsohn, J., and Pakes, A. (1995), Automobile Prices in Market\n",
    "Equilibrium, Econometrica: Journal of the Econometric Society, 63, 841-890, doi: [10.2307/2171802](https://doi.org/10.2307/2171802).\n",
    "\n",
    "Cameron, A. C., Gelbach, J. B. and Miller, D. L. (2011), Robust Inference with Multiway Clustering, Journal of Business & Economic Statistics, 29:2, 238-249, doi: [10.1198/jbes.2010.07136](https://doi.org/10.1198/jbes.2010.07136).\n",
    "\n",
    "Chernozhukov, V., Chetverikov, D., Demirer, M., Duflo, E., Hansen, C., Newey, W. and Robins, J. (2018), Double/debiased machine learning for treatment and structural parameters. The Econometrics Journal, 21: C1-C68, doi: [10.1111/ectj.12097](https://doi.org/10.1111/ectj.12097).\n",
    "\n",
    "Chiang, H. D., Kato K., Ma, Y. and Sasaki, Y. (2021), Multiway Cluster Robust Double/Debiased Machine Learning, Journal of Business & Economic Statistics, doi: [10.1080/07350015.2021.1895815](https://doi.org/10.1080/07350015.2021.1895815), arXiv: [1909.03489](https://arxiv.org/abs/1909.03489)."
   ]
  },
  {
   "cell_type": "markdown",
   "id": "41aa4acd",
   "metadata": {},
   "source": [
    "## Define Helper Functions for Plotting"
   ]
  },
  {
   "cell_type": "code",
   "execution_count": null,
   "id": "6340b897",
   "metadata": {
    "vscode": {
     "languageId": "r"
    }
   },
   "outputs": [],
   "source": [
    "library(RColorBrewer)\n",
    "coul <- rev(colorRampPalette(brewer.pal(8, \"RdBu\"))(3))\n",
    "options(repr.plot.width = 10, repr.plot.height = 10)\n",
    "\n",
    "plt_smpls = function(smpls, n_folds) {\n",
    "    df = matrix(0, nrow = N*M, ncol = n_folds)\n",
    "    for (i_fold in 1:n_folds){\n",
    "        df[smpls$train_ids[[i_fold]], i_fold] = -1\n",
    "        df[smpls$test_ids[[i_fold]], i_fold] = 1\n",
    "    }\n",
    "\n",
    "    heatmap(df, Rowv=NA, Colv=NA, col=coul, cexRow=1.5, cexCol=1.5, scale='none')\n",
    "}\n",
    "\n",
    "plt_smpls_cluster = function(smpls_cluster, n_folds, n_folds_per_cluster) {\n",
    "    #options(repr.plot.width = 6, repr.plot.height = 6)\n",
    "    plots = list()\n",
    "    for (i_fold in 1:n_folds){\n",
    "        mat = matrix(0, nrow = M, ncol = N)\n",
    "        for (k in smpls_cluster$train_ids[[i_fold]][[1]]) {\n",
    "            for (l in smpls_cluster$train_ids[[i_fold]][[2]]) {\n",
    "                mat[k, l] = -1\n",
    "            }\n",
    "        }\n",
    "        for (k in smpls_cluster$test_ids[[i_fold]][[1]]) {\n",
    "            for (l in smpls_cluster$test_ids[[i_fold]][[2]]) {\n",
    "                mat[k, l] = 1\n",
    "            }\n",
    "        }\n",
    "        l = (i_fold-1) %% n_folds_per_cluster + 1\n",
    "        k = ((i_fold-1) %/% n_folds_per_cluster)+1\n",
    "        df = data.frame(mat)\n",
    "        cols = names(df)\n",
    "        names(df) = 1:N\n",
    "        df$id = 1:N\n",
    "        df_plot = melt(df,  id.var = 'id')\n",
    "        df_plot$value = factor(df_plot$value)\n",
    "        plots[[i_fold]] = ggplot(data = df_plot, aes(x=id, y=variable)) + \n",
    "          geom_tile(aes(fill=value), colour = \"grey50\") +\n",
    "        scale_fill_manual(values = c(\"darkblue\", \"white\", \"darkred\")) +\n",
    "        theme(text = element_text(size=15))\n",
    "        # ToDo: Add Subplot titles\n",
    "        if (k == 3) {\n",
    "            plots[[i_fold]] = plots[[i_fold]] + xlab(expression(paste('Second Cluster Variable ', l)))\n",
    "        } else {\n",
    "            plots[[i_fold]] = plots[[i_fold]] + xlab('')\n",
    "        }\n",
    "        if (l == 1) {\n",
    "            plots[[i_fold]] = plots[[i_fold]] + ylab(expression(paste('First Cluster Variable ', k)))\n",
    "        } else {\n",
    "            plots[[i_fold]] = plots[[i_fold]] + ylab('')\n",
    "        }\n",
    "    }\n",
    "    return(plots)\n",
    "}"
   ]
  }
 ],
 "metadata": {
  "celltoolbar": "Edit Metadata",
  "kernelspec": {
   "display_name": "R",
   "language": "R",
   "name": "ir"
  },
  "language_info": {
   "codemirror_mode": "r",
   "file_extension": ".r",
   "mimetype": "text/x-r-source",
   "name": "R",
   "pygments_lexer": "r",
   "version": "4.0.4"
  }
 },
 "nbformat": 4,
 "nbformat_minor": 5
}
