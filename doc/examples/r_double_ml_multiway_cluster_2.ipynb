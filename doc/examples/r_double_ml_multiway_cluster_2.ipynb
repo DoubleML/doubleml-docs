{
 "cells": [
  {
   "attachments": {},
   "cell_type": "markdown",
   "id": "746b8a5d",
   "metadata": {},
   "source": [
    "# R: Cluster Robust Double Machine Learning\n",
    "\n",
    "\n",
    "## Motivation \n",
    "\n",
    "In many empirical applications, errors exhibit a clustered structure such that the usual i.i.d. assumption does not hold anymore. In order to perform valid statistical inference, researchers have to account for clustering. In this notebook, we will shortly emphasize the consequences of clustered data on inference based on the double machine learning (DML) approach as has been considered in [Chiang et al. (2021)](https://doi.org/10.1080/07350015.2021.1895815). We will demonstrate how users of the [DoubleML](https://docs.doubleml.org/stable/index.html) package can account for one- and two-way clustering in their analysis.\n",
    "\n",
    "Clustered errors in terms of one or multiple dimensions might arise in many empirical applications. For example, in a cross-sectional study, errors might be correlated (i) within regions (one-way clustering) or (ii) within regions and industries at the same time (two-way clustering). Another example for two-way clustering, discussed in [Chiang et al. (2021)](https://doi.org/10.1080/07350015.2021.1895815), refers to market share data with market shares being subject to shocks on the market and product level at the same time. We refer to [Cameron et al. (2011)](https://doi.org/10.1198/jbes.2010.07136) for an introduction to multiway clustering and a illustrative list of empirical examples.\n",
    "\n",
    "## Clustering and double machine learning\n",
    "\n",
    "Clustering creates a challenge to the double machine learning (DML) approach in terms of \n",
    "\n",
    "1. a necessary adjustment of the formulae used for estimation of the variance covariance matrix, standard errors, p-values etc., and,\n",
    "2. an adjusted resampling scheme for the cross-fitting algorithm.\n",
    "\n",
    "The first point equally applies to classical statistical models, for example a linear regression model (see, for example [Cameron et al. 2011](https://doi.org/10.1198/jbes.2010.07136)). The second point arises because the clustering implies a correlation of errors from train and test samples if the standard cross-fitting procedure suggested in [Chernozhukov et al. (2018)](https://doi.org/10.1111/ectj.12097) was employed. The DML approach builds on independent sample splits into partitions that are used for training of the machine learning (ML) model learners and generation of predictions that are eventually used for solving the score function. For a motivation of the necessity of sample splitting, we refer to the illustration example in the [user guide]( \n",
    "https://docs.doubleml.org/stable/guide/basics.html#sample-splitting-to-remove-bias-induced-by-overfitting) as well as to the explanation in [Chernozhukov et al. (2018)](https://doi.org/10.1111/ectj.12097) .\n",
    "\n",
    "In order to achieve independent data splits in a setting with one-way or multi-way clustering, [Chiang et al. (2021)](https://doi.org/10.1080/07350015.2021.1895815) develop an updated  $K$-fold sample splitting procedure that ensures independent sample splits: The data set is split into disjoint partitions in terms of all clustering dimensions. For example, in a situation with two-way clustering, the data is split into $K^2$ folds. The machine learning models are then trained on a specific fold and used for generation of predictions in hold-out samples. Thereby, the sample splitting procedure ensures that the hold-out samples do not contain observations of the same clusters as used for training."
   ]
  },
  {
   "cell_type": "code",
   "execution_count": 1,
   "id": "76984720",
   "metadata": {
    "vscode": {
     "languageId": "r"
    }
   },
   "outputs": [
    {
     "name": "stderr",
     "output_type": "stream",
     "text": [
      "Warning message:\n",
      "\"Paket 'mlr3' wurde unter R Version 4.2.3 erstellt\"\n"
     ]
    }
   ],
   "source": [
    "library('hdm')\n",
    "library('DoubleML')\n",
    "library('mlr3')\n",
    "library('mlr3learners')\n",
    "# surpress messages from mlr3 package during fitting\n",
    "lgr::get_logger(\"mlr3\")$set_threshold(\"warn\")\n",
    "\n",
    "library('ggplot2')\n",
    "library('reshape2')\n",
    "library('gridExtra')"
   ]
  },
  {
   "attachments": {},
   "cell_type": "markdown",
   "id": "171f1458",
   "metadata": {},
   "source": [
    "## A Motivating Example: Two-Way Cluster Robust DML\n",
    "\n",
    "In a first part, we show how the two-way cluster robust double machine learning (DML) ([Chiang et al. 2021](https://doi.org/10.1080/07350015.2021.1895815)) can be implemented with the [DoubleML](https://docs.doubleml.org/stable/index.html) package.\n",
    "[Chiang et al. (2021)](https://doi.org/10.1080/07350015.2021.1895815) consider double-indexed data\n",
    "\n",
    "\\begin{equation}\n",
    "\\lbrace W_{ij}: i \\in \\lbrace 1, \\ldots, N \\rbrace, j \\in \\lbrace 1, \\ldots, M \\rbrace \\rbrace\n",
    "\\end{equation}\n",
    "\n",
    "and the partially linear IV regression model (PLIV)\n",
    "\n",
    "$$\\begin{aligned}\n",
    "Y_{ij} = D_{ij} \\theta_0 +  g_0(X_{ij}) + \\epsilon_{ij}, & &\\mathbb{E}(\\epsilon_{ij} | X_{ij}, Z_{ij}) = 0, \\\\\n",
    "Z_{ij} = m_0(X_{ij}) + v_{ij}, & &\\mathbb{E}(v_{ij} | X_{ij}) = 0.\n",
    "\\end{aligned}$$"
   ]
  },
  {
   "attachments": {},
   "cell_type": "markdown",
   "id": "349c3e43",
   "metadata": {},
   "source": [
    "### Simulate two-way cluster data\n",
    "\n",
    "We use the PLIV data generating process described in Section 4.1 of [Chiang et al. (2021)](https://doi.org/10.1080/07350015.2021.1895815).\n",
    "The DGP is defined as\n",
    "$$\\begin{aligned}\n",
    "Z_{ij} &= X_{ij}' \\xi_0 + V_{ij}, \\\\\n",
    "D_{ij} &= Z_{ij}' \\pi_{10} + X_{ij}' \\pi_{20} + v_{ij}, \\\\\n",
    "Y_{ij} &= D_{ij} \\theta + X_{ij}' \\zeta_0 + \\varepsilon_{ij},\n",
    "\\end{aligned}$$\n",
    "with\n",
    "$$\\begin{aligned}\n",
    "X_{ij} &= (1 - \\omega_1^X - \\omega_2^X) \\alpha_{ij}^X\n",
    "+ \\omega_1^X \\alpha_{i}^X + \\omega_2^X \\alpha_{j}^X, \\\\\n",
    "\\varepsilon_{ij} &= (1 - \\omega_1^\\varepsilon - \\omega_2^\\varepsilon) \\alpha_{ij}^\\varepsilon\n",
    "+ \\omega_1^\\varepsilon \\alpha_{i}^\\varepsilon + \\omega_2^\\varepsilon \\alpha_{j}^\\varepsilon, \\\\\n",
    "v_{ij} &= (1 - \\omega_1^v - \\omega_2^v) \\alpha_{ij}^v\n",
    "+ \\omega_1^v \\alpha_{i}^v + \\omega_2^v \\alpha_{j}^v, \\\\\n",
    "V_{ij} &= (1 - \\omega_1^V - \\omega_2^V) \\alpha_{ij}^V\n",
    "+ \\omega_1^V \\alpha_{i}^V + \\omega_2^V \\alpha_{j}^V,\n",
    "\\end{aligned}$$\n",
    "and $\\alpha_{ij}^X, \\alpha_{i}^X, \\alpha_{j}^X \\sim \\mathcal{N}(0, \\Sigma)$\n",
    "where  $\\Sigma$ is a $p_x \\times p_x$ matrix with entries\n",
    "$\\Sigma_{kj} = s_X^{|j-k|}$.\n",
    "Further\n",
    "$$\\begin{aligned}\n",
    "\\left(\\begin{matrix} \\alpha_{ij}^\\varepsilon \\\\ \\alpha_{ij}^v \\end{matrix}\\right),\n",
    "\\left(\\begin{matrix} \\alpha_{i}^\\varepsilon \\\\ \\alpha_{i}^v \\end{matrix}\\right),\n",
    "\\left(\\begin{matrix} \\alpha_{j}^\\varepsilon \\\\ \\alpha_{j}^v \\end{matrix}\\right)\n",
    "\\sim \\mathcal{N}\\left(0, \\left(\\begin{matrix} 1 & s_{\\varepsilon v} \\\\\n",
    "s_{\\varepsilon v} & 1 \\end{matrix} \\right) \\right)\n",
    "\\end{aligned}$$\n",
    "and $\\alpha_{ij}^V, \\alpha_{i}^V, \\alpha_{j}^V \\sim \\mathcal{N}(0, 1)$.\n",
    "\n",
    "Data from this DGP can be generated with the [make_pliv_multiway_cluster_CKMS2021()](https://docs.doubleml.org/r/stable/reference/make_pliv_multiway_cluster_CKMS2021.html) function from [DoubleML](https://docs.doubleml.org/stable/index.html).\n",
    "Analogously to [Chiang et al. (2021, Section 5)](https://doi.org/10.1080/07350015.2021.1895815)\n",
    "we use the following parameter setting:\n",
    "$\\theta=1.0$, $N=M=25$, $p_x=100$, $\\pi_{10}=1.0$, $\\omega_X = \\omega_{\\varepsilon} = \\omega_V = \\omega_v = (0.25, 0.25)$, $s_X = s_{\\varepsilon v} = 0.25$ and the $j$-th entries of the $p_x$-vectors $\\zeta_0 = \\pi_{20} = \\xi_0$ are $(\\zeta_{0})_j = 0.5^j$.\n",
    "This are also the default values of [make_pliv_multiway_cluster_CKMS2021()](https://docs.doubleml.org/r/stable/reference/make_pliv_multiway_cluster_CKMS2021.html)."
   ]
  },
  {
   "cell_type": "code",
   "execution_count": 2,
   "id": "1f53686a",
   "metadata": {
    "vscode": {
     "languageId": "r"
    }
   },
   "outputs": [],
   "source": [
    "# Set the simulation parameters\n",
    "N = 25  # number of observations (first dimension)\n",
    "M = 25  # number of observations (second dimension)\n",
    "dim_X = 100  # dimension of X\n",
    "set.seed(3141) # set seed\n",
    "\n",
    "obj_dml_data = make_pliv_multiway_cluster_CKMS2021(N, M, dim_X)"
   ]
  },
  {
   "attachments": {},
   "cell_type": "markdown",
   "id": "0ea047f4",
   "metadata": {},
   "source": [
    "### Data-Backend for Cluster Data\n",
    "The implementation of cluster robust double machine learning is based on a special data-backend called [DoubleMLClusterData](https://docs.doubleml.org/r/stable/reference/DoubleMLClusterData.html). As compared to the standard data-backend [DoubleMLData](https://docs.doubleml.org/r/stable/reference/DoubleMLData.html), users can specify the clustering variables during instantiation of a  [DoubleMLClusterData](https://docs.doubleml.org/r/stable/reference/DoubleMLClusterData.html) object. The estimation framework will subsequently account for the provided clustering options."
   ]
  },
  {
   "cell_type": "code",
   "execution_count": 3,
   "id": "dc5ab7a6",
   "metadata": {
    "vscode": {
     "languageId": "r"
    }
   },
   "outputs": [
    {
     "name": "stdout",
     "output_type": "stream",
     "text": [
      "================= DoubleMLClusterData Object ==================\n",
      "\n",
      "\n",
      "------------------ Data summary      ------------------\n",
      "Outcome variable: Y\n",
      "Treatment variable(s): D\n",
      "Cluster variable(s): cluster_var_i, cluster_var_j\n",
      "Covariates: X1, X2, X3, X4, X5, X6, X7, X8, X9, X10, X11, X12, X13, X14, X15, X16, X17, X18, X19, X20, X21, X22, X23, X24, X25, X26, X27, X28, X29, X30, X31, X32, X33, X34, X35, X36, X37, X38, X39, X40, X41, X42, X43, X44, X45, X46, X47, X48, X49, X50, X51, X52, X53, X54, X55, X56, X57, X58, X59, X60, X61, X62, X63, X64, X65, X66, X67, X68, X69, X70, X71, X72, X73, X74, X75, X76, X77, X78, X79, X80, X81, X82, X83, X84, X85, X86, X87, X88, X89, X90, X91, X92, X93, X94, X95, X96, X97, X98, X99, X100\n",
      "Instrument(s): Z\n",
      "No. Observations: 625\n"
     ]
    }
   ],
   "source": [
    "# The simulated data is of type DoubleMLClusterData\n",
    "print(obj_dml_data)"
   ]
  },
  {
   "cell_type": "code",
   "execution_count": 4,
   "id": "e3184de7",
   "metadata": {
    "vscode": {
     "languageId": "r"
    }
   },
   "outputs": [
    {
     "data": {
      "text/html": [
       "<table class=\"dataframe\">\n",
       "<caption>A data.table: 6 × 105</caption>\n",
       "<thead>\n",
       "\t<tr><th scope=col>X1</th><th scope=col>X2</th><th scope=col>X3</th><th scope=col>X4</th><th scope=col>X5</th><th scope=col>X6</th><th scope=col>X7</th><th scope=col>X8</th><th scope=col>X9</th><th scope=col>X10</th><th scope=col>⋯</th><th scope=col>X96</th><th scope=col>X97</th><th scope=col>X98</th><th scope=col>X99</th><th scope=col>X100</th><th scope=col>Y</th><th scope=col>D</th><th scope=col>cluster_var_i</th><th scope=col>cluster_var_j</th><th scope=col>Z</th></tr>\n",
       "\t<tr><th scope=col>&lt;dbl&gt;</th><th scope=col>&lt;dbl&gt;</th><th scope=col>&lt;dbl&gt;</th><th scope=col>&lt;dbl&gt;</th><th scope=col>&lt;dbl&gt;</th><th scope=col>&lt;dbl&gt;</th><th scope=col>&lt;dbl&gt;</th><th scope=col>&lt;dbl&gt;</th><th scope=col>&lt;dbl&gt;</th><th scope=col>&lt;dbl&gt;</th><th scope=col>⋯</th><th scope=col>&lt;dbl&gt;</th><th scope=col>&lt;dbl&gt;</th><th scope=col>&lt;dbl&gt;</th><th scope=col>&lt;dbl&gt;</th><th scope=col>&lt;dbl&gt;</th><th scope=col>&lt;dbl&gt;</th><th scope=col>&lt;dbl&gt;</th><th scope=col>&lt;int&gt;</th><th scope=col>&lt;int&gt;</th><th scope=col>&lt;dbl&gt;</th></tr>\n",
       "</thead>\n",
       "<tbody>\n",
       "\t<tr><td>-0.3707775</td><td> 0.994168239</td><td>-0.1045303</td><td>-0.1145370</td><td> 0.41341040</td><td> 1.01925597</td><td> 0.7776071</td><td>-0.2467506</td><td> 0.07456127</td><td>-0.1795850</td><td>⋯</td><td> 0.5763996</td><td> 0.49530782</td><td>-0.25401679</td><td> 0.06895837</td><td>-0.34967621</td><td> 1.150408</td><td> 0.97489106</td><td>1</td><td>1</td><td> 0.3522697</td></tr>\n",
       "\t<tr><td>-0.1577657</td><td> 0.490070931</td><td>-0.0702127</td><td> 0.8932105</td><td>-0.02163217</td><td>-0.08968939</td><td> 0.5025850</td><td>-0.5436005</td><td>-0.51966955</td><td>-1.0118095</td><td>⋯</td><td>-0.6243811</td><td>-0.07168291</td><td>-0.57715074</td><td> 0.20823898</td><td> 0.01403089</td><td>-1.364595</td><td>-0.50035174</td><td>1</td><td>2</td><td>-0.1626685</td></tr>\n",
       "\t<tr><td> 0.4416552</td><td> 0.366718627</td><td>-0.1557093</td><td>-0.3702770</td><td>-0.32458367</td><td> 0.07347676</td><td>-0.2619317</td><td>-0.2836059</td><td> 0.94906344</td><td>-0.3304269</td><td>⋯</td><td>-0.2080787</td><td> 0.76591188</td><td> 0.01351638</td><td> 0.30672815</td><td>-0.22336235</td><td> 1.010450</td><td> 0.42113494</td><td>1</td><td>3</td><td> 1.2020435</td></tr>\n",
       "\t<tr><td> 0.1144500</td><td>-0.009645422</td><td>-0.2103034</td><td>-0.7560824</td><td>-0.02247976</td><td>-0.13505272</td><td>-0.3800694</td><td>-0.3727679</td><td>-0.42412729</td><td>-0.8055563</td><td>⋯</td><td>-0.9304028</td><td>-0.20783816</td><td>-0.39425708</td><td>-0.91315015</td><td>-0.67245350</td><td> 1.342675</td><td> 0.67453494</td><td>1</td><td>4</td><td> 0.8132463</td></tr>\n",
       "\t<tr><td>-0.5050973</td><td>-1.523977545</td><td>-0.4584447</td><td> 0.0853505</td><td> 0.92369755</td><td>-0.21624417</td><td>-0.9961392</td><td>-0.2191274</td><td>-0.67410934</td><td>-0.3788859</td><td>⋯</td><td>-0.0695854</td><td> 0.22505965</td><td>-0.42073312</td><td> 0.22375856</td><td> 0.50672034</td><td>-1.140861</td><td>-0.56999947</td><td>1</td><td>5</td><td>-0.1213405</td></tr>\n",
       "\t<tr><td>-0.1468115</td><td>-0.175635027</td><td>-1.0466028</td><td>-0.4199952</td><td>-0.19033538</td><td> 0.88173062</td><td> 0.5868472</td><td> 0.2670691</td><td> 0.57496671</td><td>-0.9802393</td><td>⋯</td><td> 0.3738573</td><td> 0.20219609</td><td>-1.52424539</td><td>-0.12707800</td><td> 0.01398951</td><td> 0.363276</td><td> 0.08357714</td><td>1</td><td>6</td><td> 0.7241399</td></tr>\n",
       "</tbody>\n",
       "</table>\n"
      ],
      "text/latex": [
       "A data.table: 6 × 105\n",
       "\\begin{tabular}{lllllllllllllllllllll}\n",
       " X1 & X2 & X3 & X4 & X5 & X6 & X7 & X8 & X9 & X10 & ⋯ & X96 & X97 & X98 & X99 & X100 & Y & D & cluster\\_var\\_i & cluster\\_var\\_j & Z\\\\\n",
       " <dbl> & <dbl> & <dbl> & <dbl> & <dbl> & <dbl> & <dbl> & <dbl> & <dbl> & <dbl> & ⋯ & <dbl> & <dbl> & <dbl> & <dbl> & <dbl> & <dbl> & <dbl> & <int> & <int> & <dbl>\\\\\n",
       "\\hline\n",
       "\t -0.3707775 &  0.994168239 & -0.1045303 & -0.1145370 &  0.41341040 &  1.01925597 &  0.7776071 & -0.2467506 &  0.07456127 & -0.1795850 & ⋯ &  0.5763996 &  0.49530782 & -0.25401679 &  0.06895837 & -0.34967621 &  1.150408 &  0.97489106 & 1 & 1 &  0.3522697\\\\\n",
       "\t -0.1577657 &  0.490070931 & -0.0702127 &  0.8932105 & -0.02163217 & -0.08968939 &  0.5025850 & -0.5436005 & -0.51966955 & -1.0118095 & ⋯ & -0.6243811 & -0.07168291 & -0.57715074 &  0.20823898 &  0.01403089 & -1.364595 & -0.50035174 & 1 & 2 & -0.1626685\\\\\n",
       "\t  0.4416552 &  0.366718627 & -0.1557093 & -0.3702770 & -0.32458367 &  0.07347676 & -0.2619317 & -0.2836059 &  0.94906344 & -0.3304269 & ⋯ & -0.2080787 &  0.76591188 &  0.01351638 &  0.30672815 & -0.22336235 &  1.010450 &  0.42113494 & 1 & 3 &  1.2020435\\\\\n",
       "\t  0.1144500 & -0.009645422 & -0.2103034 & -0.7560824 & -0.02247976 & -0.13505272 & -0.3800694 & -0.3727679 & -0.42412729 & -0.8055563 & ⋯ & -0.9304028 & -0.20783816 & -0.39425708 & -0.91315015 & -0.67245350 &  1.342675 &  0.67453494 & 1 & 4 &  0.8132463\\\\\n",
       "\t -0.5050973 & -1.523977545 & -0.4584447 &  0.0853505 &  0.92369755 & -0.21624417 & -0.9961392 & -0.2191274 & -0.67410934 & -0.3788859 & ⋯ & -0.0695854 &  0.22505965 & -0.42073312 &  0.22375856 &  0.50672034 & -1.140861 & -0.56999947 & 1 & 5 & -0.1213405\\\\\n",
       "\t -0.1468115 & -0.175635027 & -1.0466028 & -0.4199952 & -0.19033538 &  0.88173062 &  0.5868472 &  0.2670691 &  0.57496671 & -0.9802393 & ⋯ &  0.3738573 &  0.20219609 & -1.52424539 & -0.12707800 &  0.01398951 &  0.363276 &  0.08357714 & 1 & 6 &  0.7241399\\\\\n",
       "\\end{tabular}\n"
      ],
      "text/markdown": [
       "\n",
       "A data.table: 6 × 105\n",
       "\n",
       "| X1 &lt;dbl&gt; | X2 &lt;dbl&gt; | X3 &lt;dbl&gt; | X4 &lt;dbl&gt; | X5 &lt;dbl&gt; | X6 &lt;dbl&gt; | X7 &lt;dbl&gt; | X8 &lt;dbl&gt; | X9 &lt;dbl&gt; | X10 &lt;dbl&gt; | ⋯ ⋯ | X96 &lt;dbl&gt; | X97 &lt;dbl&gt; | X98 &lt;dbl&gt; | X99 &lt;dbl&gt; | X100 &lt;dbl&gt; | Y &lt;dbl&gt; | D &lt;dbl&gt; | cluster_var_i &lt;int&gt; | cluster_var_j &lt;int&gt; | Z &lt;dbl&gt; |\n",
       "|---|---|---|---|---|---|---|---|---|---|---|---|---|---|---|---|---|---|---|---|---|\n",
       "| -0.3707775 |  0.994168239 | -0.1045303 | -0.1145370 |  0.41341040 |  1.01925597 |  0.7776071 | -0.2467506 |  0.07456127 | -0.1795850 | ⋯ |  0.5763996 |  0.49530782 | -0.25401679 |  0.06895837 | -0.34967621 |  1.150408 |  0.97489106 | 1 | 1 |  0.3522697 |\n",
       "| -0.1577657 |  0.490070931 | -0.0702127 |  0.8932105 | -0.02163217 | -0.08968939 |  0.5025850 | -0.5436005 | -0.51966955 | -1.0118095 | ⋯ | -0.6243811 | -0.07168291 | -0.57715074 |  0.20823898 |  0.01403089 | -1.364595 | -0.50035174 | 1 | 2 | -0.1626685 |\n",
       "|  0.4416552 |  0.366718627 | -0.1557093 | -0.3702770 | -0.32458367 |  0.07347676 | -0.2619317 | -0.2836059 |  0.94906344 | -0.3304269 | ⋯ | -0.2080787 |  0.76591188 |  0.01351638 |  0.30672815 | -0.22336235 |  1.010450 |  0.42113494 | 1 | 3 |  1.2020435 |\n",
       "|  0.1144500 | -0.009645422 | -0.2103034 | -0.7560824 | -0.02247976 | -0.13505272 | -0.3800694 | -0.3727679 | -0.42412729 | -0.8055563 | ⋯ | -0.9304028 | -0.20783816 | -0.39425708 | -0.91315015 | -0.67245350 |  1.342675 |  0.67453494 | 1 | 4 |  0.8132463 |\n",
       "| -0.5050973 | -1.523977545 | -0.4584447 |  0.0853505 |  0.92369755 | -0.21624417 | -0.9961392 | -0.2191274 | -0.67410934 | -0.3788859 | ⋯ | -0.0695854 |  0.22505965 | -0.42073312 |  0.22375856 |  0.50672034 | -1.140861 | -0.56999947 | 1 | 5 | -0.1213405 |\n",
       "| -0.1468115 | -0.175635027 | -1.0466028 | -0.4199952 | -0.19033538 |  0.88173062 |  0.5868472 |  0.2670691 |  0.57496671 | -0.9802393 | ⋯ |  0.3738573 |  0.20219609 | -1.52424539 | -0.12707800 |  0.01398951 |  0.363276 |  0.08357714 | 1 | 6 |  0.7241399 |\n",
       "\n"
      ],
      "text/plain": [
       "  X1         X2           X3         X4         X5          X6         \n",
       "1 -0.3707775  0.994168239 -0.1045303 -0.1145370  0.41341040  1.01925597\n",
       "2 -0.1577657  0.490070931 -0.0702127  0.8932105 -0.02163217 -0.08968939\n",
       "3  0.4416552  0.366718627 -0.1557093 -0.3702770 -0.32458367  0.07347676\n",
       "4  0.1144500 -0.009645422 -0.2103034 -0.7560824 -0.02247976 -0.13505272\n",
       "5 -0.5050973 -1.523977545 -0.4584447  0.0853505  0.92369755 -0.21624417\n",
       "6 -0.1468115 -0.175635027 -1.0466028 -0.4199952 -0.19033538  0.88173062\n",
       "  X7         X8         X9          X10        ⋯ X96        X97        \n",
       "1  0.7776071 -0.2467506  0.07456127 -0.1795850 ⋯  0.5763996  0.49530782\n",
       "2  0.5025850 -0.5436005 -0.51966955 -1.0118095 ⋯ -0.6243811 -0.07168291\n",
       "3 -0.2619317 -0.2836059  0.94906344 -0.3304269 ⋯ -0.2080787  0.76591188\n",
       "4 -0.3800694 -0.3727679 -0.42412729 -0.8055563 ⋯ -0.9304028 -0.20783816\n",
       "5 -0.9961392 -0.2191274 -0.67410934 -0.3788859 ⋯ -0.0695854  0.22505965\n",
       "6  0.5868472  0.2670691  0.57496671 -0.9802393 ⋯  0.3738573  0.20219609\n",
       "  X98         X99         X100        Y         D           cluster_var_i\n",
       "1 -0.25401679  0.06895837 -0.34967621  1.150408  0.97489106 1            \n",
       "2 -0.57715074  0.20823898  0.01403089 -1.364595 -0.50035174 1            \n",
       "3  0.01351638  0.30672815 -0.22336235  1.010450  0.42113494 1            \n",
       "4 -0.39425708 -0.91315015 -0.67245350  1.342675  0.67453494 1            \n",
       "5 -0.42073312  0.22375856  0.50672034 -1.140861 -0.56999947 1            \n",
       "6 -1.52424539 -0.12707800  0.01398951  0.363276  0.08357714 1            \n",
       "  cluster_var_j Z         \n",
       "1 1              0.3522697\n",
       "2 2             -0.1626685\n",
       "3 3              1.2020435\n",
       "4 4              0.8132463\n",
       "5 5             -0.1213405\n",
       "6 6              0.7241399"
      ]
     },
     "metadata": {},
     "output_type": "display_data"
    }
   ],
   "source": [
    "# The cluster variables are part of the DataFrame\n",
    "head(obj_dml_data$data)"
   ]
  },
  {
   "attachments": {},
   "cell_type": "markdown",
   "id": "983802bf",
   "metadata": {},
   "source": [
    "### Initialize the objects of class `DoubleMLPLIV`"
   ]
  },
  {
   "cell_type": "code",
   "execution_count": 5,
   "id": "74cf6b1f",
   "metadata": {
    "vscode": {
     "languageId": "r"
    }
   },
   "outputs": [],
   "source": [
    "# Set machine learning methods for l, m & r\n",
    "ml_l = lrn(\"regr.cv_glmnet\", nfolds = 10, s = \"lambda.min\")\n",
    "ml_m = lrn(\"regr.cv_glmnet\", nfolds = 10, s = \"lambda.min\")\n",
    "ml_r = lrn(\"regr.cv_glmnet\", nfolds = 10, s = \"lambda.min\")\n",
    "\n",
    "# initialize the DoubleMLPLIV object\n",
    "dml_pliv_obj = DoubleMLPLIV$new(obj_dml_data,\n",
    "                                ml_l, ml_m, ml_r,\n",
    "                                n_folds=3)"
   ]
  },
  {
   "cell_type": "code",
   "execution_count": 6,
   "id": "c70d71fc",
   "metadata": {
    "vscode": {
     "languageId": "r"
    }
   },
   "outputs": [
    {
     "name": "stdout",
     "output_type": "stream",
     "text": [
      "================= DoubleMLPLIV Object ==================\n",
      "\n",
      "\n",
      "------------------ Data summary      ------------------\n",
      "Outcome variable: Y\n",
      "Treatment variable(s): D\n",
      "Covariates: X1, X2, X3, X4, X5, X6, X7, X8, X9, X10, X11, X12, X13, X14, X15, X16, X17, X18, X19, X20, X21, X22, X23, X24, X25, X26, X27, X28, X29, X30, X31, X32, X33, X34, X35, X36, X37, X38, X39, X40, X41, X42, X43, X44, X45, X46, X47, X48, X49, X50, X51, X52, X53, X54, X55, X56, X57, X58, X59, X60, X61, X62, X63, X64, X65, X66, X67, X68, X69, X70, X71, X72, X73, X74, X75, X76, X77, X78, X79, X80, X81, X82, X83, X84, X85, X86, X87, X88, X89, X90, X91, X92, X93, X94, X95, X96, X97, X98, X99, X100\n",
      "Instrument(s): Z\n",
      "Cluster variable(s): cluster_var_i, cluster_var_j\n",
      "No. Observations: 625\n",
      "\n",
      "------------------ Score & algorithm ------------------\n",
      "Score function: partialling out\n",
      "DML algorithm: dml2\n",
      "\n",
      "------------------ Machine learner   ------------------\n",
      "ml_l: regr.cv_glmnet\n",
      "ml_m: regr.cv_glmnet\n",
      "ml_r: regr.cv_glmnet\n",
      "\n",
      "------------------ Resampling        ------------------\n",
      "No. folds per cluster: 3\n",
      "No. folds: 9\n",
      "No. repeated sample splits: 1\n",
      "Apply cross-fitting: TRUE\n",
      "\n",
      "------------------ Fit summary       ------------------\n",
      " "
     ]
    },
    {
     "name": "stderr",
     "output_type": "stream",
     "text": [
      "fit() not yet called.\n",
      "\n"
     ]
    }
   ],
   "source": [
    "print(dml_pliv_obj)"
   ]
  },
  {
   "cell_type": "code",
   "execution_count": 7,
   "id": "04e4a525",
   "metadata": {
    "nbsphinx": "hidden",
    "vscode": {
     "languageId": "r"
    }
   },
   "outputs": [],
   "source": [
    "library(RColorBrewer)\n",
    "coul <- rev(colorRampPalette(brewer.pal(8, \"RdBu\"))(3))\n",
    "options(repr.plot.width = 10, repr.plot.height = 10)\n",
    "\n",
    "plt_smpls = function(smpls, n_folds) {\n",
    "    df = matrix(0, nrow = N*M, ncol = n_folds)\n",
    "    for (i_fold in 1:n_folds){\n",
    "        df[smpls$train_ids[[i_fold]], i_fold] = -1\n",
    "        df[smpls$test_ids[[i_fold]], i_fold] = 1\n",
    "    }\n",
    "\n",
    "    heatmap(df, Rowv=NA, Colv=NA, col=coul, cexRow=1.5, cexCol=1.5, scale='none')\n",
    "}\n",
    "\n",
    "plt_smpls_cluster = function(smpls_cluster, n_folds, n_folds_per_cluster) {\n",
    "    #options(repr.plot.width = 6, repr.plot.height = 6)\n",
    "    plots = list()\n",
    "    for (i_fold in 1:n_folds){\n",
    "        mat = matrix(0, nrow = M, ncol = N)\n",
    "        for (k in smpls_cluster$train_ids[[i_fold]][[1]]) {\n",
    "            for (l in smpls_cluster$train_ids[[i_fold]][[2]]) {\n",
    "                mat[k, l] = -1\n",
    "            }\n",
    "        }\n",
    "        for (k in smpls_cluster$test_ids[[i_fold]][[1]]) {\n",
    "            for (l in smpls_cluster$test_ids[[i_fold]][[2]]) {\n",
    "                mat[k, l] = 1\n",
    "            }\n",
    "        }\n",
    "        l = (i_fold-1) %% n_folds_per_cluster + 1\n",
    "        k = ((i_fold-1) %/% n_folds_per_cluster)+1\n",
    "        df = data.frame(mat)\n",
    "        cols = names(df)\n",
    "        names(df) = 1:N\n",
    "        df$id = 1:N\n",
    "        df_plot = melt(df,  id.var = 'id')\n",
    "        df_plot$value = factor(df_plot$value)\n",
    "        plots[[i_fold]] = ggplot(data = df_plot, aes(x=id, y=variable)) + \n",
    "          geom_tile(aes(fill=value), colour = \"grey50\") +\n",
    "        scale_fill_manual(values = c(\"darkblue\", \"white\", \"darkred\")) +\n",
    "        theme(text = element_text(size=15))\n",
    "        # ToDo: Add Subplot titles\n",
    "        if (k == 3) {\n",
    "            plots[[i_fold]] = plots[[i_fold]] + xlab(expression(paste('Second Cluster Variable ', l)))\n",
    "        } else {\n",
    "            plots[[i_fold]] = plots[[i_fold]] + xlab('')\n",
    "        }\n",
    "        if (l == 1) {\n",
    "            plots[[i_fold]] = plots[[i_fold]] + ylab(expression(paste('First Cluster Variable ', k)))\n",
    "        } else {\n",
    "            plots[[i_fold]] = plots[[i_fold]] + ylab('')\n",
    "        }\n",
    "    }\n",
    "    return(plots)\n",
    "}"
   ]
  },
  {
   "attachments": {},
   "cell_type": "markdown",
   "id": "76f4b841",
   "metadata": {},
   "source": [
    "### Cluster Robust Cross Fitting\n",
    "A key element of cluster robust DML ([Chiang et al. 2021](https://doi.org/10.1080/07350015.2021.1895815)) is a special sample splitting used for the cross-fitting.\n",
    "In case of two-way clustering, we assume $N$ clusters in the first dimension and $M$ clusters in the second dimension.\n",
    "\n",
    "For $K$-fold cross-fitting, [Chiang et al. (2021)](https://doi.org/10.1080/07350015.2021.1895815) proposed to randomly partition $[N]:=\\{1,\\ldots,N\\}$ into $K$ subsets $\\{I_1, \\ldots, I_K\\}$ and $[M]:=\\{1,\\ldots,N\\}$ into $K$ subsets $\\{J_1, \\ldots, J_K\\}$.\n",
    "Effectively, one then considers $K^2$ folds.\n",
    "Basically for each $(k, \\ell) \\in \\{1, \\ldots, K\\} \\times \\{1, \\ldots, K\\}$, the nuisance functions are estimated for all double-indexed observations in $([N]\\setminus I_K) \\times ([M]\\setminus J_\\ell)$, i.e.,\n",
    "$$\n",
    "\\hat{\\eta}_{k\\ell} = \\hat{\\eta}\\left((W_{ij})_{(i,j)\\in ([N]\\setminus I_K) \\times ([M]\\setminus J_\\ell)}\\right)\n",
    "$$\n",
    "The causal parameter is then estimated as usual by solving a moment condition with a Neyman orthogonal score function.\n",
    "For two-way cluster robust double machine learning with algorithm [DML2](https://docs.doubleml.org/stable/guide/algorithms.html#algorithm-dml2) this results in solving\n",
    "$$\n",
    "\\frac{1}{K^2} \\sum_{k=1}^{K} \\sum_{\\ell=1}^{K} \\frac{1}{|I_k| |J_\\ell|} \\sum_{(i,j) \\in I_K \\times J_\\ell}\n",
    "\\psi(W_{ij}, \\tilde{\\theta}_0, \\hat{\\eta}_{k\\ell}) = 0\n",
    "$$\n",
    "for $\\tilde{\\theta}_0$.\n",
    "Here $|I_k|$ denotes the cardinality, i.e., the number of clusters in the $k$-th fold for the first cluster variable."
   ]
  },
  {
   "attachments": {},
   "cell_type": "markdown",
   "id": "8b3239eb",
   "metadata": {},
   "source": [
    "We can visualize the sample splitting of the $N \\cdot M = 625$ observations into $K \\cdot K = 9$ folds. The following heat map illustrates the partitioned data set that is split into $K=9$ folds. The horizontal axis corresponds to the fold indices and the vertical axis to the indices of the observations. A blue field indicates that the observation $i$ is used for fitting the nuisance part, red indicates that the fold is used for prediction generation and white means that an observation is left out from the sample splitting. \n",
    "\n",
    "For example, the first observation as displayed on the very bottom of the figure is used for training of the nuisance parts in the first, second, fourth and fifth fold and used for generation of the predictions in fold nine. At the same time the observation is left out from the sample splitting procedure in folds three, six, seven and eight."
   ]
  },
  {
   "cell_type": "code",
   "execution_count": 8,
   "id": "6de28e86",
   "metadata": {
    "vscode": {
     "languageId": "r"
    }
   },
   "outputs": [
    {
     "data": {
      "image/png": "[encoded data removed]",
      "text/plain": [
       "plot without title"
      ]
     },
     "metadata": {
      "image/png": {
       "height": 600,
       "width": 600
      }
     },
     "output_type": "display_data"
    }
   ],
   "source": [
    "# The function plt_smpls is defined at the end of the Notebook\n",
    "plt_smpls(dml_pliv_obj$smpls[[1]], dml_pliv_obj$n_folds)"
   ]
  },
  {
   "attachments": {},
   "cell_type": "markdown",
   "id": "73cfaae5",
   "metadata": {},
   "source": [
    "If we visualize the sample splitting in terms of the cluster variables, the partitioning of the data into $9$ folds $I_k \\times J_\\ell$ becomes clear.\n",
    "The identifiers for the first cluster variable $[N]:=\\{1,\\ldots,N\\}$ have been randomly partioned into $K=3$ folds denoted by $\\{I_1, I_2, I_3\\}$ and the identifiers for the second cluster variable $[M]:=\\{1,\\ldots,M\\}$ have also been randomly partioned into $K=3$ folds denoted by $\\{J_1, J_2, J_3\\}$.\n",
    "By considering every combination $I_k \\times J_\\ell$ for $1 \\leq k, \\ell \\leq K = 3$ we effectively base the cross-fitting on $9$ folds.\n",
    "\n",
    "We now want to focus on the top-left sub-plot showing the partitioning of the cluster data for the first fold.\n",
    "The $x$-axis corresponds to the first cluster variable and the $y$-axis to the second cluster variable.\n",
    "Observations with cluster variables $(i,j) \\in I_K \\times J_\\ell$ are used for estimation of the target parameter $\\tilde{\\theta}_0$ by solving a Neyman orthogonal score function.\n",
    "For estimation of the nuisance function, we only use observation where neither the first cluster variable is in $I_K$ nor the second cluster variable is in $J_\\ell$, i.e., we use observations indexed by $(i,j)\\in ([N]\\setminus I_K) \\times ([M]\\setminus J_\\ell)$ to estimate the nuisance functions\n",
    "$$\n",
    "\\hat{\\eta}_{k\\ell} = \\hat{\\eta}\\left((W_{ij})_{(i,j)\\in ([N]\\setminus I_K) \\times ([M]\\setminus J_\\ell)}\\right).\n",
    "$$\n",
    "This way we guarantee that there are never observations from the same cluster (first and/or second cluster dimension) in the sample for the nuisance function estimation (blue) and at the same time in the sample for solving the score function (red). As a result of this special sample splitting proposed by [Chiang et al. (2021)](https://doi.org/10.1080/07350015.2021.1895815), the observations in the score (red) and nuisance (blue) sample can be considered independent and the standard cross-fitting approach for double machine learning can be applied."
   ]
  },
  {
   "cell_type": "code",
   "execution_count": 9,
   "id": "8674ef61",
   "metadata": {
    "tags": [
     "nbsphinx-thumbnail"
    ],
    "vscode": {
     "languageId": "r"
    }
   },
   "outputs": [
    {
     "data": {
      "image/png": "[encoded data removed]",
      "text/plain": [
       "plot without title"
      ]
     },
     "metadata": {
      "image/png": {
       "height": 600,
       "width": 720
      }
     },
     "output_type": "display_data"
    }
   ],
   "source": [
    "# The function plt_smpls_cluster is defined at the end of the Notebook\n",
    "options(repr.plot.width = 12, repr.plot.height = 10)\n",
    "plots = plt_smpls_cluster(dml_pliv_obj$smpls_cluster[[1]],\n",
    "                         dml_pliv_obj$n_folds,\n",
    "                         sqrt(dml_pliv_obj$n_folds))\n",
    "grid.arrange(grobs=plots, ncol = 3, nrow = 3)"
   ]
  },
  {
   "attachments": {},
   "cell_type": "markdown",
   "id": "f4fad944",
   "metadata": {},
   "source": [
    "### Cluster Robust Standard Errors\n",
    "In the abstract base class `DoubleML` the estimation of cluster robust standard errors is implemented for all supported double machine learning models.\n",
    "It is based on the assumption of a linear Neyman orthogonal score function.\n",
    "We use the notation $n \\wedge m := \\min\\{n,m\\}$.\n",
    "For the the asymptotic variance of\n",
    "$\\sqrt{\\underline{C}}(\\tilde{\\theta_0} - \\theta_0)$ with\n",
    "$\\underline{C} := N \\wedge M$\n",
    "[Chiang et al. (2021)](https://doi.org/10.1080/07350015.2021.1895815) then propose the following estimator\n",
    "$$\n",
    "\\hat{\\sigma}^2 = \\hat{J}^{-1} \\hat{\\Gamma} \\hat{J}^{-1}\n",
    "$$\n",
    "where\n",
    "$$\n",
    "\\begin{aligned}\n",
    "\\hat{\\Gamma} = \\frac{1}{K^2} \\sum_{(k, \\ell) \\in[K]^2}\n",
    "\\Bigg[ \\frac{|I_k| \\wedge |J_\\ell|}{(|I_k||J_\\ell|)^2}\n",
    "\\bigg(&\\sum_{i \\in I_k} \\sum_{j \\in J_\\ell} \\sum_{j' \\in J_\\ell}\n",
    "\\psi(W_{ij}; \\tilde{\\theta}, \\hat{\\eta}_{k \\ell}) \\psi(W_{ij'}; \\tilde{\\theta}_0, \\hat{\\eta}_{k \\ell}) \\\\\n",
    "&+ \\sum_{i \\in I_k} \\sum_{i' \\in I_k} \\sum_{j \\in J_\\ell}\n",
    "\\psi(W_{ij}; \\tilde{\\theta}, \\hat{\\eta}_{k \\ell}) \\psi(W_{i'j}; \\tilde{\\theta}_0, \\hat{\\eta}_{k \\ell})\n",
    "\\bigg)\n",
    "\\Bigg]\n",
    "\\end{aligned}$$\n",
    "and\n",
    "$$\n",
    "\\begin{aligned}\n",
    "\\hat{J} = \\frac{1}{K^2} \\sum_{(k, \\ell) \\in[K]^2} \\frac{1}{|I_k||J_\\ell|}\n",
    "\\sum_{i \\in I_k} \\sum_{j \\in J_\\ell}\n",
    "\\psi_a(W_{ij}; \\tilde{\\theta}_0, \\hat{\\eta}_{k \\ell}).\n",
    "\\end{aligned}\n",
    "$$\n",
    "A $(1-\\alpha)$ confidence interval is then given by ([Chiang et al. 2021](https://doi.org/10.1080/07350015.2021.1895815))\n",
    "$$\\begin{aligned}\n",
    "\\left[\n",
    "\\tilde{\\theta} \\pm \\Phi^{-1}(1-\\alpha/2) \\sqrt{\\hat{\\sigma}^2 / \\underline{C}}\n",
    "\\right]\n",
    "\\end{aligned}\n",
    "$$\n",
    "with $\\underline{C} = N \\wedge M$."
   ]
  },
  {
   "cell_type": "code",
   "execution_count": 10,
   "id": "23a031d1",
   "metadata": {
    "vscode": {
     "languageId": "r"
    }
   },
   "outputs": [
    {
     "name": "stdout",
     "output_type": "stream",
     "text": [
      "Estimates and significance testing of the effect of target variables\n",
      "  Estimate. Std. Error t value Pr(>|t|)    \n",
      "D    0.8909     0.1258   7.084  1.4e-12 ***\n",
      "---\n",
      "Signif. codes:  0 '***' 0.001 '**' 0.01 '*' 0.05 '.' 0.1 ' ' 1\n",
      "\n",
      "\n"
     ]
    }
   ],
   "source": [
    "# Estimate the PLIV model with cluster robust double machine learning\n",
    "dml_pliv_obj$fit()\n",
    "dml_pliv_obj$summary()"
   ]
  },
  {
   "attachments": {},
   "cell_type": "markdown",
   "id": "dae66229",
   "metadata": {},
   "source": [
    "## (One-Way) Cluster Robust Double Machine Learing\n",
    "\n",
    "We again use the PLIV data generating process described in Section 4.1 of [Chiang et al. (2021)](https://doi.org/10.1080/07350015.2021.1895815).\n",
    "To obtain one-way clustered data, we set the following weights to zero\n",
    "$$\n",
    "\\omega_2^X = \\omega_2^\\varepsilon = \\omega_2^v = \\omega_2^V = 0.\n",
    "$$\n",
    "Again we can simulate this data with [make_pliv_multiway_cluster_CKMS2021()](https://docs.doubleml.org/r/stable/reference/make_pliv_multiway_cluster_CKMS2021.html). To prepare the data-backend for one-way clustering, we only have to alter the `cluster_cols` to be `'cluster_var_i'`."
   ]
  },
  {
   "cell_type": "code",
   "execution_count": 11,
   "id": "62076b01",
   "metadata": {
    "vscode": {
     "languageId": "r"
    }
   },
   "outputs": [],
   "source": [
    "obj_dml_data = make_pliv_multiway_cluster_CKMS2021(N, M, dim_X,\n",
    "                                                   omega_X = c(0.25, 0),\n",
    "                                                   omega_epsilon = c(0.25, 0),\n",
    "                                                   omega_v = c(0.25, 0),\n",
    "                                                   omega_V = c(0.25, 0))"
   ]
  },
  {
   "cell_type": "code",
   "execution_count": 12,
   "id": "b818119b",
   "metadata": {
    "vscode": {
     "languageId": "r"
    }
   },
   "outputs": [
    {
     "name": "stdout",
     "output_type": "stream",
     "text": [
      "================= DoubleMLClusterData Object ==================\n",
      "\n",
      "\n",
      "------------------ Data summary      ------------------\n",
      "Outcome variable: Y\n",
      "Treatment variable(s): D\n",
      "Cluster variable(s): cluster_var_i\n",
      "Covariates: X1, X2, X3, X4, X5, X6, X7, X8, X9, X10, X11, X12, X13, X14, X15, X16, X17, X18, X19, X20, X21, X22, X23, X24, X25, X26, X27, X28, X29, X30, X31, X32, X33, X34, X35, X36, X37, X38, X39, X40, X41, X42, X43, X44, X45, X46, X47, X48, X49, X50, X51, X52, X53, X54, X55, X56, X57, X58, X59, X60, X61, X62, X63, X64, X65, X66, X67, X68, X69, X70, X71, X72, X73, X74, X75, X76, X77, X78, X79, X80, X81, X82, X83, X84, X85, X86, X87, X88, X89, X90, X91, X92, X93, X94, X95, X96, X97, X98, X99, X100\n",
      "Instrument(s): Z\n",
      "No. Observations: 625\n"
     ]
    }
   ],
   "source": [
    "obj_dml_data$cluster_cols = 'cluster_var_i'\n",
    "print(obj_dml_data)"
   ]
  },
  {
   "cell_type": "code",
   "execution_count": 13,
   "id": "29cace52",
   "metadata": {
    "vscode": {
     "languageId": "r"
    }
   },
   "outputs": [],
   "source": [
    "# Set machine learning methods for l, m & r\n",
    "ml_l = lrn(\"regr.cv_glmnet\", nfolds = 10, s = \"lambda.min\")\n",
    "ml_m = lrn(\"regr.cv_glmnet\", nfolds = 10, s = \"lambda.min\")\n",
    "ml_r = lrn(\"regr.cv_glmnet\", nfolds = 10, s = \"lambda.min\")\n",
    "\n",
    "# initialize the DoubleMLPLIV object\n",
    "dml_pliv_obj = DoubleMLPLIV$new(obj_dml_data,\n",
    "                                ml_l, ml_m, ml_r,\n",
    "                                n_folds=3)"
   ]
  },
  {
   "cell_type": "code",
   "execution_count": 14,
   "id": "94a58a15",
   "metadata": {
    "vscode": {
     "languageId": "r"
    }
   },
   "outputs": [
    {
     "name": "stdout",
     "output_type": "stream",
     "text": [
      "Estimates and significance testing of the effect of target variables\n",
      "  Estimate. Std. Error t value Pr(>|t|)    \n",
      "D   0.92905    0.04465   20.81   <2e-16 ***\n",
      "---\n",
      "Signif. codes:  0 '***' 0.001 '**' 0.01 '*' 0.05 '.' 0.1 ' ' 1\n",
      "\n",
      "\n"
     ]
    }
   ],
   "source": [
    "dml_pliv_obj$fit()\n",
    "dml_pliv_obj$summary()"
   ]
  },
  {
   "attachments": {},
   "cell_type": "markdown",
   "id": "a5901bc2",
   "metadata": {},
   "source": [
    "## Real-Data Application\n",
    "As a real-data application we revist the consumer demand example from [Chiang et al. (2021)](https://doi.org/10.1080/07350015.2021.1895815).\n",
    "The U.S. automobile data of [Berry, Levinsohn, and Pakes (1995)](https://doi.org/10.2307/2171802) is obtained from the `R` package [hdm](https://cran.r-project.org/web/packages/hdm/index.html). In this example, we consider different specifications for the cluster dimensions."
   ]
  },
  {
   "attachments": {},
   "cell_type": "markdown",
   "id": "5d103ae5",
   "metadata": {},
   "source": [
    "### Load and Process Data"
   ]
  },
  {
   "cell_type": "code",
   "execution_count": 15,
   "id": "97f0c9fe",
   "metadata": {
    "vscode": {
     "languageId": "r"
    }
   },
   "outputs": [],
   "source": [
    "## Prepare the BLP data\n",
    "data(BLP);\n",
    "blp_data <- BLP$BLP;\n",
    "blp_data$price <- blp_data$price + 11.761\n",
    "blp_data$log_p = log(blp_data$price)"
   ]
  },
  {
   "cell_type": "code",
   "execution_count": 16,
   "id": "5924f423",
   "metadata": {
    "vscode": {
     "languageId": "r"
    }
   },
   "outputs": [
    {
     "data": {
      "text/html": [
       "<table class=\"dataframe\">\n",
       "<caption>A data.frame: 6 × 4</caption>\n",
       "<thead>\n",
       "\t<tr><th></th><th scope=col>hpwt</th><th scope=col>air</th><th scope=col>mpd</th><th scope=col>space</th></tr>\n",
       "\t<tr><th></th><th scope=col>&lt;dbl&gt;</th><th scope=col>&lt;dbl&gt;</th><th scope=col>&lt;dbl&gt;</th><th scope=col>&lt;dbl&gt;</th></tr>\n",
       "</thead>\n",
       "<tbody>\n",
       "\t<tr><th scope=row>1</th><td>0.5289969</td><td>0</td><td>1.888146</td><td>1.1502</td></tr>\n",
       "\t<tr><th scope=row>2</th><td>0.4943244</td><td>0</td><td>1.935989</td><td>1.2780</td></tr>\n",
       "\t<tr><th scope=row>3</th><td>0.4676134</td><td>0</td><td>1.716799</td><td>1.4592</td></tr>\n",
       "\t<tr><th scope=row>4</th><td>0.4265403</td><td>0</td><td>1.687871</td><td>1.6068</td></tr>\n",
       "\t<tr><th scope=row>5</th><td>0.4524887</td><td>0</td><td>1.504286</td><td>1.6458</td></tr>\n",
       "\t<tr><th scope=row>6</th><td>0.4508706</td><td>0</td><td>1.726813</td><td>1.6224</td></tr>\n",
       "</tbody>\n",
       "</table>\n"
      ],
      "text/latex": [
       "A data.frame: 6 × 4\n",
       "\\begin{tabular}{r|llll}\n",
       "  & hpwt & air & mpd & space\\\\\n",
       "  & <dbl> & <dbl> & <dbl> & <dbl>\\\\\n",
       "\\hline\n",
       "\t1 & 0.5289969 & 0 & 1.888146 & 1.1502\\\\\n",
       "\t2 & 0.4943244 & 0 & 1.935989 & 1.2780\\\\\n",
       "\t3 & 0.4676134 & 0 & 1.716799 & 1.4592\\\\\n",
       "\t4 & 0.4265403 & 0 & 1.687871 & 1.6068\\\\\n",
       "\t5 & 0.4524887 & 0 & 1.504286 & 1.6458\\\\\n",
       "\t6 & 0.4508706 & 0 & 1.726813 & 1.6224\\\\\n",
       "\\end{tabular}\n"
      ],
      "text/markdown": [
       "\n",
       "A data.frame: 6 × 4\n",
       "\n",
       "| <!--/--> | hpwt &lt;dbl&gt; | air &lt;dbl&gt; | mpd &lt;dbl&gt; | space &lt;dbl&gt; |\n",
       "|---|---|---|---|---|\n",
       "| 1 | 0.5289969 | 0 | 1.888146 | 1.1502 |\n",
       "| 2 | 0.4943244 | 0 | 1.935989 | 1.2780 |\n",
       "| 3 | 0.4676134 | 0 | 1.716799 | 1.4592 |\n",
       "| 4 | 0.4265403 | 0 | 1.687871 | 1.6068 |\n",
       "| 5 | 0.4524887 | 0 | 1.504286 | 1.6458 |\n",
       "| 6 | 0.4508706 | 0 | 1.726813 | 1.6224 |\n",
       "\n"
      ],
      "text/plain": [
       "  hpwt      air mpd      space \n",
       "1 0.5289969 0   1.888146 1.1502\n",
       "2 0.4943244 0   1.935989 1.2780\n",
       "3 0.4676134 0   1.716799 1.4592\n",
       "4 0.4265403 0   1.687871 1.6068\n",
       "5 0.4524887 0   1.504286 1.6458\n",
       "6 0.4508706 0   1.726813 1.6224"
      ]
     },
     "metadata": {},
     "output_type": "display_data"
    }
   ],
   "source": [
    "x_cols = c('hpwt', 'air', 'mpd', 'space')\n",
    "head(blp_data[x_cols])"
   ]
  },
  {
   "cell_type": "code",
   "execution_count": 17,
   "id": "01411d79",
   "metadata": {
    "vscode": {
     "languageId": "r"
    }
   },
   "outputs": [],
   "source": [
    "iv_vars = as.data.frame(hdm:::constructIV(blp_data$firm.id,\n",
    "                            blp_data$cdid,\n",
    "                            blp_data$id,\n",
    "                            blp_data[x_cols]))"
   ]
  },
  {
   "cell_type": "code",
   "execution_count": 18,
   "id": "fa28c802",
   "metadata": {
    "vscode": {
     "languageId": "r"
    }
   },
   "outputs": [
    {
     "data": {
      "text/html": [
       "<style>\n",
       ".list-inline {list-style: none; margin:0; padding: 0}\n",
       ".list-inline>li {display: inline-block}\n",
       ".list-inline>li:not(:last-child)::after {content: \"\\00b7\"; padding: 0 .5ex}\n",
       "</style>\n",
       "<ol class=list-inline><li>'hpwt'</li><li>'air'</li><li>'mpd'</li><li>'space'</li><li>'I.hpwt.2.'</li><li>'I.air.2.'</li><li>'I.mpd.2.'</li><li>'I.space.2.'</li><li>'I.hpwt.3.'</li><li>'I.air.3.'</li><li>'I.mpd.3.'</li><li>'I.space.3.'</li><li>'hpwt.air'</li><li>'hpwt.mpd'</li><li>'hpwt.space'</li><li>'air.mpd'</li><li>'air.space'</li><li>'mpd.space'</li><li>'air.I.hpwt.2.'</li><li>'mpd.I.hpwt.2.'</li><li>'space.I.hpwt.2.'</li><li>'hpwt.I.air.2.'</li><li>'mpd.I.air.2.'</li><li>'space.I.air.2.'</li><li>'hpwt.I.mpd.2.'</li><li>'air.I.mpd.2.'</li><li>'space.I.mpd.2.'</li><li>'hpwt.I.space.2.'</li><li>'air.I.space.2.'</li><li>'mpd.I.space.2.'</li></ol>\n"
      ],
      "text/latex": [
       "\\begin{enumerate*}\n",
       "\\item 'hpwt'\n",
       "\\item 'air'\n",
       "\\item 'mpd'\n",
       "\\item 'space'\n",
       "\\item 'I.hpwt.2.'\n",
       "\\item 'I.air.2.'\n",
       "\\item 'I.mpd.2.'\n",
       "\\item 'I.space.2.'\n",
       "\\item 'I.hpwt.3.'\n",
       "\\item 'I.air.3.'\n",
       "\\item 'I.mpd.3.'\n",
       "\\item 'I.space.3.'\n",
       "\\item 'hpwt.air'\n",
       "\\item 'hpwt.mpd'\n",
       "\\item 'hpwt.space'\n",
       "\\item 'air.mpd'\n",
       "\\item 'air.space'\n",
       "\\item 'mpd.space'\n",
       "\\item 'air.I.hpwt.2.'\n",
       "\\item 'mpd.I.hpwt.2.'\n",
       "\\item 'space.I.hpwt.2.'\n",
       "\\item 'hpwt.I.air.2.'\n",
       "\\item 'mpd.I.air.2.'\n",
       "\\item 'space.I.air.2.'\n",
       "\\item 'hpwt.I.mpd.2.'\n",
       "\\item 'air.I.mpd.2.'\n",
       "\\item 'space.I.mpd.2.'\n",
       "\\item 'hpwt.I.space.2.'\n",
       "\\item 'air.I.space.2.'\n",
       "\\item 'mpd.I.space.2.'\n",
       "\\end{enumerate*}\n"
      ],
      "text/markdown": [
       "1. 'hpwt'\n",
       "2. 'air'\n",
       "3. 'mpd'\n",
       "4. 'space'\n",
       "5. 'I.hpwt.2.'\n",
       "6. 'I.air.2.'\n",
       "7. 'I.mpd.2.'\n",
       "8. 'I.space.2.'\n",
       "9. 'I.hpwt.3.'\n",
       "10. 'I.air.3.'\n",
       "11. 'I.mpd.3.'\n",
       "12. 'I.space.3.'\n",
       "13. 'hpwt.air'\n",
       "14. 'hpwt.mpd'\n",
       "15. 'hpwt.space'\n",
       "16. 'air.mpd'\n",
       "17. 'air.space'\n",
       "18. 'mpd.space'\n",
       "19. 'air.I.hpwt.2.'\n",
       "20. 'mpd.I.hpwt.2.'\n",
       "21. 'space.I.hpwt.2.'\n",
       "22. 'hpwt.I.air.2.'\n",
       "23. 'mpd.I.air.2.'\n",
       "24. 'space.I.air.2.'\n",
       "25. 'hpwt.I.mpd.2.'\n",
       "26. 'air.I.mpd.2.'\n",
       "27. 'space.I.mpd.2.'\n",
       "28. 'hpwt.I.space.2.'\n",
       "29. 'air.I.space.2.'\n",
       "30. 'mpd.I.space.2.'\n",
       "\n",
       "\n"
      ],
      "text/plain": [
       " [1] \"hpwt\"            \"air\"             \"mpd\"             \"space\"          \n",
       " [5] \"I.hpwt.2.\"       \"I.air.2.\"        \"I.mpd.2.\"        \"I.space.2.\"     \n",
       " [9] \"I.hpwt.3.\"       \"I.air.3.\"        \"I.mpd.3.\"        \"I.space.3.\"     \n",
       "[13] \"hpwt.air\"        \"hpwt.mpd\"        \"hpwt.space\"      \"air.mpd\"        \n",
       "[17] \"air.space\"       \"mpd.space\"       \"air.I.hpwt.2.\"   \"mpd.I.hpwt.2.\"  \n",
       "[21] \"space.I.hpwt.2.\" \"hpwt.I.air.2.\"   \"mpd.I.air.2.\"    \"space.I.air.2.\" \n",
       "[25] \"hpwt.I.mpd.2.\"   \"air.I.mpd.2.\"    \"space.I.mpd.2.\"  \"hpwt.I.space.2.\"\n",
       "[29] \"air.I.space.2.\"  \"mpd.I.space.2.\" "
      ]
     },
     "metadata": {},
     "output_type": "display_data"
    }
   ],
   "source": [
    "formula = formula(paste0(\" ~ -1 + (hpwt + air + mpd + space)^2\",\n",
    "                         \"+ I(hpwt^2)*(air + mpd + space)\",\n",
    "                         \"+ I(air^2)*(hpwt + mpd + space)\",\n",
    "                         \"+ I(mpd^2)*(hpwt + air + space)\",\n",
    "                         \"+ I(space^2)*(hpwt + air + mpd)\",\n",
    "                         \"+ I(space^2) + I(hpwt^3) + I(air^3) + I(mpd^3) + I(space^3)\"))\n",
    "data_transf = data.frame(model.matrix(formula, blp_data))\n",
    "names(data_transf)"
   ]
  },
  {
   "cell_type": "code",
   "execution_count": 19,
   "id": "5a2b5397",
   "metadata": {
    "vscode": {
     "languageId": "r"
    }
   },
   "outputs": [],
   "source": [
    "y_col = 'y'\n",
    "d_col = 'log_p'\n",
    "cluster_cols = c('model.id', 'cdid')\n",
    "all_z_cols = c('sum.other.hpwt', 'sum.other.mpd', 'sum.other.space')\n",
    "z_col = all_z_cols[1]"
   ]
  },
  {
   "cell_type": "code",
   "execution_count": 20,
   "id": "2b945460",
   "metadata": {
    "vscode": {
     "languageId": "r"
    }
   },
   "outputs": [],
   "source": [
    "dml_df = cbind(blp_data[c(y_col, d_col, cluster_cols)],\n",
    "               data_transf,\n",
    "               iv_vars[all_z_cols])"
   ]
  },
  {
   "attachments": {},
   "cell_type": "markdown",
   "id": "6e06f4e7",
   "metadata": {},
   "source": [
    "### Initialize `DoubleMLClusterData` object"
   ]
  },
  {
   "cell_type": "code",
   "execution_count": 21,
   "id": "34d05896",
   "metadata": {
    "vscode": {
     "languageId": "r"
    }
   },
   "outputs": [],
   "source": [
    "dml_data = DoubleMLClusterData$new(dml_df,\n",
    "                                   y_col=y_col,\n",
    "                                   d_cols=d_col,\n",
    "                                   z_cols=z_col,\n",
    "                                   cluster_cols=cluster_cols,\n",
    "                                   x_cols=names(data_transf))"
   ]
  },
  {
   "cell_type": "code",
   "execution_count": 22,
   "id": "4e1f8477",
   "metadata": {
    "vscode": {
     "languageId": "r"
    }
   },
   "outputs": [
    {
     "name": "stdout",
     "output_type": "stream",
     "text": [
      "================= DoubleMLClusterData Object ==================\n",
      "\n",
      "\n",
      "------------------ Data summary      ------------------\n",
      "Outcome variable: y\n",
      "Treatment variable(s): log_p\n",
      "Cluster variable(s): model.id, cdid\n",
      "Covariates: hpwt, air, mpd, space, I.hpwt.2., I.air.2., I.mpd.2., I.space.2., I.hpwt.3., I.air.3., I.mpd.3., I.space.3., hpwt.air, hpwt.mpd, hpwt.space, air.mpd, air.space, mpd.space, air.I.hpwt.2., mpd.I.hpwt.2., space.I.hpwt.2., hpwt.I.air.2., mpd.I.air.2., space.I.air.2., hpwt.I.mpd.2., air.I.mpd.2., space.I.mpd.2., hpwt.I.space.2., air.I.space.2., mpd.I.space.2.\n",
      "Instrument(s): sum.other.hpwt\n",
      "No. Observations: 2217\n"
     ]
    }
   ],
   "source": [
    "print(dml_data)"
   ]
  },
  {
   "cell_type": "code",
   "execution_count": 23,
   "id": "433a0193",
   "metadata": {
    "vscode": {
     "languageId": "r"
    }
   },
   "outputs": [],
   "source": [
    "lasso = lrn(\"regr.cv_glmnet\", nfolds = 10, s = \"lambda.min\")"
   ]
  },
  {
   "cell_type": "code",
   "execution_count": 24,
   "id": "57378194",
   "metadata": {
    "vscode": {
     "languageId": "r"
    }
   },
   "outputs": [],
   "source": [
    "coef_df = data.frame(matrix(NA_real_, ncol = 4, nrow = 1))\n",
    "colnames(coef_df) = c('zero-way', 'one-way-product', 'one-way-market', 'two-way')\n",
    "rownames(coef_df) = all_z_cols[1]\n",
    "se_df = coef_df\n",
    "n_rep = 10"
   ]
  },
  {
   "attachments": {},
   "cell_type": "markdown",
   "id": "f859db86",
   "metadata": {},
   "source": [
    "### Two-Way Clustering with Respect to Product and Market"
   ]
  },
  {
   "cell_type": "code",
   "execution_count": 25,
   "id": "b6648ff4",
   "metadata": {
    "vscode": {
     "languageId": "r"
    }
   },
   "outputs": [],
   "source": [
    "set.seed(1111)\n",
    "dml_data$z_cols = z_col\n",
    "dml_data$cluster_cols = c('model.id', 'cdid')\n",
    "dml_pliv = DoubleMLPLIV$new(dml_data,\n",
    "                            lasso, lasso, lasso,\n",
    "                            n_folds=2, n_rep=n_rep)\n",
    "dml_pliv$fit()\n",
    "coef_df[1, 4] = dml_pliv$coef\n",
    "se_df[1, 4] = dml_pliv$se"
   ]
  },
  {
   "attachments": {},
   "cell_type": "markdown",
   "id": "1c7652f1",
   "metadata": {},
   "source": [
    "### One-Way Clustering with Respect to the Product"
   ]
  },
  {
   "cell_type": "code",
   "execution_count": 26,
   "id": "569f621d",
   "metadata": {
    "vscode": {
     "languageId": "r"
    }
   },
   "outputs": [],
   "source": [
    "set.seed(2222)\n",
    "dml_data$z_cols = z_col\n",
    "dml_data$cluster_cols = 'model.id'\n",
    "dml_pliv = DoubleMLPLIV$new(dml_data,\n",
    "                            lasso, lasso, lasso,\n",
    "                            n_folds=4, n_rep=n_rep)\n",
    "dml_pliv$fit()\n",
    "coef_df[1, 2] = dml_pliv$coef\n",
    "se_df[1, 2] = dml_pliv$se"
   ]
  },
  {
   "attachments": {},
   "cell_type": "markdown",
   "id": "729ea1f8",
   "metadata": {},
   "source": [
    "### One-Way Clustering with Respect to the Market"
   ]
  },
  {
   "cell_type": "code",
   "execution_count": 27,
   "id": "dcb8c14c",
   "metadata": {
    "vscode": {
     "languageId": "r"
    }
   },
   "outputs": [],
   "source": [
    "set.seed(3333)\n",
    "dml_data$z_cols = z_col\n",
    "dml_data$cluster_cols = 'cdid'\n",
    "dml_pliv = DoubleMLPLIV$new(dml_data,\n",
    "                            lasso, lasso, lasso,\n",
    "                            n_folds=4, n_rep=n_rep)\n",
    "dml_pliv$fit()\n",
    "coef_df[1, 3] = dml_pliv$coef\n",
    "se_df[1, 3] = dml_pliv$se"
   ]
  },
  {
   "attachments": {},
   "cell_type": "markdown",
   "id": "99463f43",
   "metadata": {},
   "source": [
    "### No Clustering / Zero-Way Clustering"
   ]
  },
  {
   "cell_type": "code",
   "execution_count": 28,
   "id": "854596e4",
   "metadata": {
    "vscode": {
     "languageId": "r"
    }
   },
   "outputs": [],
   "source": [
    "dml_data = DoubleMLData$new(dml_df,\n",
    "                            y_col=y_col,\n",
    "                            d_cols=d_col,\n",
    "                            z_cols=z_col,\n",
    "                            x_cols=names(data_transf))"
   ]
  },
  {
   "cell_type": "code",
   "execution_count": 29,
   "id": "9998f02f",
   "metadata": {
    "vscode": {
     "languageId": "r"
    }
   },
   "outputs": [
    {
     "name": "stdout",
     "output_type": "stream",
     "text": [
      "================= DoubleMLData Object ==================\n",
      "\n",
      "\n",
      "------------------ Data summary      ------------------\n",
      "Outcome variable: y\n",
      "Treatment variable(s): log_p\n",
      "Covariates: hpwt, air, mpd, space, I.hpwt.2., I.air.2., I.mpd.2., I.space.2., I.hpwt.3., I.air.3., I.mpd.3., I.space.3., hpwt.air, hpwt.mpd, hpwt.space, air.mpd, air.space, mpd.space, air.I.hpwt.2., mpd.I.hpwt.2., space.I.hpwt.2., hpwt.I.air.2., mpd.I.air.2., space.I.air.2., hpwt.I.mpd.2., air.I.mpd.2., space.I.mpd.2., hpwt.I.space.2., air.I.space.2., mpd.I.space.2.\n",
      "Instrument(s): sum.other.hpwt\n",
      "No. Observations: 2217\n"
     ]
    }
   ],
   "source": [
    "print(dml_data)"
   ]
  },
  {
   "cell_type": "code",
   "execution_count": 30,
   "id": "9b76db04",
   "metadata": {
    "vscode": {
     "languageId": "r"
    }
   },
   "outputs": [],
   "source": [
    "set.seed(4444)\n",
    "dml_data$z_cols = z_col\n",
    "dml_pliv = DoubleMLPLIV$new(dml_data,\n",
    "                            lasso, lasso, lasso,\n",
    "                            n_folds=4, n_rep=n_rep)\n",
    "dml_pliv$fit()\n",
    "coef_df[1, 1] = dml_pliv$coef\n",
    "se_df[1, 1] = dml_pliv$se"
   ]
  },
  {
   "attachments": {},
   "cell_type": "markdown",
   "id": "3f71db0a",
   "metadata": {},
   "source": [
    "### Application Results"
   ]
  },
  {
   "cell_type": "code",
   "execution_count": 31,
   "id": "d9112d98",
   "metadata": {
    "vscode": {
     "languageId": "r"
    }
   },
   "outputs": [
    {
     "data": {
      "text/html": [
       "<table class=\"dataframe\">\n",
       "<caption>A data.frame: 1 × 4</caption>\n",
       "<thead>\n",
       "\t<tr><th></th><th scope=col>zero-way</th><th scope=col>one-way-product</th><th scope=col>one-way-market</th><th scope=col>two-way</th></tr>\n",
       "\t<tr><th></th><th scope=col>&lt;dbl&gt;</th><th scope=col>&lt;dbl&gt;</th><th scope=col>&lt;dbl&gt;</th><th scope=col>&lt;dbl&gt;</th></tr>\n",
       "</thead>\n",
       "<tbody>\n",
       "\t<tr><th scope=row>sum.other.hpwt</th><td>-5.956047</td><td>-5.747945</td><td>-5.569911</td><td>-5.257207</td></tr>\n",
       "</tbody>\n",
       "</table>\n"
      ],
      "text/latex": [
       "A data.frame: 1 × 4\n",
       "\\begin{tabular}{r|llll}\n",
       "  & zero-way & one-way-product & one-way-market & two-way\\\\\n",
       "  & <dbl> & <dbl> & <dbl> & <dbl>\\\\\n",
       "\\hline\n",
       "\tsum.other.hpwt & -5.956047 & -5.747945 & -5.569911 & -5.257207\\\\\n",
       "\\end{tabular}\n"
      ],
      "text/markdown": [
       "\n",
       "A data.frame: 1 × 4\n",
       "\n",
       "| <!--/--> | zero-way &lt;dbl&gt; | one-way-product &lt;dbl&gt; | one-way-market &lt;dbl&gt; | two-way &lt;dbl&gt; |\n",
       "|---|---|---|---|---|\n",
       "| sum.other.hpwt | -5.956047 | -5.747945 | -5.569911 | -5.257207 |\n",
       "\n"
      ],
      "text/plain": [
       "               zero-way  one-way-product one-way-market two-way  \n",
       "sum.other.hpwt -5.956047 -5.747945       -5.569911      -5.257207"
      ]
     },
     "metadata": {},
     "output_type": "display_data"
    }
   ],
   "source": [
    "coef_df"
   ]
  },
  {
   "cell_type": "code",
   "execution_count": 32,
   "id": "f98544f5",
   "metadata": {
    "vscode": {
     "languageId": "r"
    }
   },
   "outputs": [
    {
     "data": {
      "text/html": [
       "<table class=\"dataframe\">\n",
       "<caption>A data.frame: 1 × 4</caption>\n",
       "<thead>\n",
       "\t<tr><th></th><th scope=col>zero-way</th><th scope=col>one-way-product</th><th scope=col>one-way-market</th><th scope=col>two-way</th></tr>\n",
       "\t<tr><th></th><th scope=col>&lt;dbl&gt;</th><th scope=col>&lt;dbl&gt;</th><th scope=col>&lt;dbl&gt;</th><th scope=col>&lt;dbl&gt;</th></tr>\n",
       "</thead>\n",
       "<tbody>\n",
       "\t<tr><th scope=row>sum.other.hpwt</th><td>0.5107911</td><td>0.9731447</td><td>0.715858</td><td>1.48404</td></tr>\n",
       "</tbody>\n",
       "</table>\n"
      ],
      "text/latex": [
       "A data.frame: 1 × 4\n",
       "\\begin{tabular}{r|llll}\n",
       "  & zero-way & one-way-product & one-way-market & two-way\\\\\n",
       "  & <dbl> & <dbl> & <dbl> & <dbl>\\\\\n",
       "\\hline\n",
       "\tsum.other.hpwt & 0.5107911 & 0.9731447 & 0.715858 & 1.48404\\\\\n",
       "\\end{tabular}\n"
      ],
      "text/markdown": [
       "\n",
       "A data.frame: 1 × 4\n",
       "\n",
       "| <!--/--> | zero-way &lt;dbl&gt; | one-way-product &lt;dbl&gt; | one-way-market &lt;dbl&gt; | two-way &lt;dbl&gt; |\n",
       "|---|---|---|---|---|\n",
       "| sum.other.hpwt | 0.5107911 | 0.9731447 | 0.715858 | 1.48404 |\n",
       "\n"
      ],
      "text/plain": [
       "               zero-way  one-way-product one-way-market two-way\n",
       "sum.other.hpwt 0.5107911 0.9731447       0.715858       1.48404"
      ]
     },
     "metadata": {},
     "output_type": "display_data"
    }
   ],
   "source": [
    "se_df"
   ]
  },
  {
   "attachments": {},
   "cell_type": "markdown",
   "id": "ca8e628b",
   "metadata": {},
   "source": [
    "## References\n",
    "Berry, S., Levinsohn, J., and Pakes, A. (1995), Automobile Prices in Market\n",
    "Equilibrium, Econometrica: Journal of the Econometric Society, 63, 841-890, doi: [10.2307/2171802](https://doi.org/10.2307/2171802).\n",
    "\n",
    "Cameron, A. C., Gelbach, J. B. and Miller, D. L. (2011), Robust Inference with Multiway Clustering, Journal of Business & Economic Statistics, 29:2, 238-249, doi: [10.1198/jbes.2010.07136](https://doi.org/10.1198/jbes.2010.07136).\n",
    "\n",
    "Chernozhukov, V., Chetverikov, D., Demirer, M., Duflo, E., Hansen, C., Newey, W. and Robins, J. (2018), Double/debiased machine learning for treatment and structural parameters. The Econometrics Journal, 21: C1-C68, doi: [10.1111/ectj.12097](https://doi.org/10.1111/ectj.12097).\n",
    "\n",
    "Chiang, H. D., Kato K., Ma, Y. and Sasaki, Y. (2021), Multiway Cluster Robust Double/Debiased Machine Learning, Journal of Business & Economic Statistics, doi: [10.1080/07350015.2021.1895815](https://doi.org/10.1080/07350015.2021.1895815), arXiv: [1909.03489](https://arxiv.org/abs/1909.03489)."
   ]
  },
  {
   "attachments": {},
   "cell_type": "markdown",
   "id": "41aa4acd",
   "metadata": {},
   "source": [
    "## Define Helper Functions for Plotting"
   ]
  },
  {
   "cell_type": "code",
   "execution_count": 33,
   "id": "6340b897",
   "metadata": {
    "vscode": {
     "languageId": "r"
    }
   },
   "outputs": [],
   "source": [
    "library(RColorBrewer)\n",
    "coul <- rev(colorRampPalette(brewer.pal(8, \"RdBu\"))(3))\n",
    "options(repr.plot.width = 10, repr.plot.height = 10)\n",
    "\n",
    "plt_smpls = function(smpls, n_folds) {\n",
    "    df = matrix(0, nrow = N*M, ncol = n_folds)\n",
    "    for (i_fold in 1:n_folds){\n",
    "        df[smpls$train_ids[[i_fold]], i_fold] = -1\n",
    "        df[smpls$test_ids[[i_fold]], i_fold] = 1\n",
    "    }\n",
    "\n",
    "    heatmap(df, Rowv=NA, Colv=NA, col=coul, cexRow=1.5, cexCol=1.5, scale='none')\n",
    "}\n",
    "\n",
    "plt_smpls_cluster = function(smpls_cluster, n_folds, n_folds_per_cluster) {\n",
    "    #options(repr.plot.width = 6, repr.plot.height = 6)\n",
    "    plots = list()\n",
    "    for (i_fold in 1:n_folds){\n",
    "        mat = matrix(0, nrow = M, ncol = N)\n",
    "        for (k in smpls_cluster$train_ids[[i_fold]][[1]]) {\n",
    "            for (l in smpls_cluster$train_ids[[i_fold]][[2]]) {\n",
    "                mat[k, l] = -1\n",
    "            }\n",
    "        }\n",
    "        for (k in smpls_cluster$test_ids[[i_fold]][[1]]) {\n",
    "            for (l in smpls_cluster$test_ids[[i_fold]][[2]]) {\n",
    "                mat[k, l] = 1\n",
    "            }\n",
    "        }\n",
    "        l = (i_fold-1) %% n_folds_per_cluster + 1\n",
    "        k = ((i_fold-1) %/% n_folds_per_cluster)+1\n",
    "        df = data.frame(mat)\n",
    "        cols = names(df)\n",
    "        names(df) = 1:N\n",
    "        df$id = 1:N\n",
    "        df_plot = melt(df,  id.var = 'id')\n",
    "        df_plot$value = factor(df_plot$value)\n",
    "        plots[[i_fold]] = ggplot(data = df_plot, aes(x=id, y=variable)) + \n",
    "          geom_tile(aes(fill=value), colour = \"grey50\") +\n",
    "        scale_fill_manual(values = c(\"darkblue\", \"white\", \"darkred\")) +\n",
    "        theme(text = element_text(size=15))\n",
    "        # ToDo: Add Subplot titles\n",
    "        if (k == 3) {\n",
    "            plots[[i_fold]] = plots[[i_fold]] + xlab(expression(paste('Second Cluster Variable ', l)))\n",
    "        } else {\n",
    "            plots[[i_fold]] = plots[[i_fold]] + xlab('')\n",
    "        }\n",
    "        if (l == 1) {\n",
    "            plots[[i_fold]] = plots[[i_fold]] + ylab(expression(paste('First Cluster Variable ', k)))\n",
    "        } else {\n",
    "            plots[[i_fold]] = plots[[i_fold]] + ylab('')\n",
    "        }\n",
    "    }\n",
    "    return(plots)\n",
    "}"
   ]
  }
 ],
 "metadata": {
  "celltoolbar": "Edit Metadata",
  "kernelspec": {
   "display_name": "R",
   "language": "R",
   "name": "ir"
  },
  "language_info": {
   "codemirror_mode": "r",
   "file_extension": ".r",
   "mimetype": "text/x-r-source",
   "name": "R",
   "pygments_lexer": "r",
   "version": "4.2.2"
  }
 },
 "nbformat": 4,
 "nbformat_minor": 5
}
